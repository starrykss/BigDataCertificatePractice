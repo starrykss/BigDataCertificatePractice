{
 "cells": [
  {
   "cell_type": "markdown",
   "metadata": {},
   "source": [
    "# Practice 2. 빅데이터 분석 실습 (작업형 제2유형)\n",
    "---"
   ]
  },
  {
   "cell_type": "markdown",
   "metadata": {},
   "source": [
    "- 작업형 제2유형에 해당하는 빅데이터 분석을 예제 문제와 함께 처음부터 끝까지 따라하면서 실습을 진행해본다."
   ]
  },
  {
   "cell_type": "markdown",
   "metadata": {},
   "source": [
    "## 📝 예제 문제 : Motor Trend Car Road Tests"
   ]
  },
  {
   "cell_type": "markdown",
   "metadata": {},
   "source": [
    "- 1974년 Motor Trend US Magazine에서 추출된 데이터이며, 32가지의 자동차 연료 소비를 포함한 10가지 정도의 데이터로 이루어져 있다.\n",
    "- `mtcars`라는 데이터로 알려져 있으며, 원본 데이터 세트는 `seaborn` 패키지에서 다운로드할 수 있다."
   ]
  },
  {
   "cell_type": "markdown",
   "metadata": {},
   "source": [
    "- 처음 시험을 시작하면 이와 같거나 비슷한 수준의 예시 코드가 주어진다."
   ]
  },
  {
   "cell_type": "code",
   "execution_count": 1,
   "metadata": {},
   "outputs": [
    {
     "name": "stdout",
     "output_type": "stream",
     "text": [
      "Intel MKL WARNING: Support of Intel(R) Streaming SIMD Extensions 4.2 (Intel(R) SSE4.2) enabled only processors has been deprecated. Intel oneAPI Math Kernel Library 2025.0 will require Intel(R) Advanced Vector Extensions (Intel(R) AVX) instructions.\n",
      "Intel MKL WARNING: Support of Intel(R) Streaming SIMD Extensions 4.2 (Intel(R) SSE4.2) enabled only processors has been deprecated. Intel oneAPI Math Kernel Library 2025.0 will require Intel(R) Advanced Vector Extensions (Intel(R) AVX) instructions.\n"
     ]
    }
   ],
   "source": [
    "# 출력을 원하실 경우 print() 함수 활용\n",
    "# 예시) print(df.head())\n",
    "\n",
    "# getcwd(), chdir() 등 작업 폴더 설정 불필요\n",
    "# 파일 경로 상 내부 드라이브 경로(C: 등) 접근 불가\n",
    "\n",
    "# 데이터 파일 읽기 예제\n",
    "import pandas as pd\n",
    "X_test = pd.read_csv(\"./datasets/Part2/mpg_X_test.csv\")\n",
    "X_train = pd.read_csv(\"./datasets/Part2/mpg_X_train.csv\")\n",
    "y_train = pd.read_csv(\"./datasets/Part2/mpg_y_train.csv\")\n",
    "\n",
    "# 사용자 코딩\n",
    "\n",
    "# 답안 제출 참고\n",
    "# 아래 코드 예측변수와 수험번호를 개인별로 변경하여 활용\n",
    "# pd.DataFrame({'gender': pred}).to_csv('003000000.csv', index=False)"
   ]
  },
  {
   "cell_type": "markdown",
   "metadata": {},
   "source": [
    "### 제공 데이터 목록"
   ]
  },
  {
   "cell_type": "markdown",
   "metadata": {},
   "source": [
    "- `mpg_y_train.csv` : 차량의 국가 데이터(학습용), csv 형식의 파일\n",
    "- `mpg_X_train.csv`, `mpg_X_test.csv` : 차량의 속성(학습용 및 평가용), csv 형식의 파일"
   ]
  },
  {
   "cell_type": "markdown",
   "metadata": {},
   "source": [
    "### 데이터 형식 및 내용"
   ]
  },
  {
   "cell_type": "markdown",
   "metadata": {},
   "source": [
    "#### ① `mpg_y_train.csv` (278 데이터)\n",
    "- `isUSA` : 차량 모델의 미국산 여부 (`0`: 타지역, `1`: 미국)"
   ]
  },
  {
   "cell_type": "code",
   "execution_count": 2,
   "metadata": {},
   "outputs": [
    {
     "data": {
      "text/html": [
       "<div>\n",
       "<style scoped>\n",
       "    .dataframe tbody tr th:only-of-type {\n",
       "        vertical-align: middle;\n",
       "    }\n",
       "\n",
       "    .dataframe tbody tr th {\n",
       "        vertical-align: top;\n",
       "    }\n",
       "\n",
       "    .dataframe thead th {\n",
       "        text-align: right;\n",
       "    }\n",
       "</style>\n",
       "<table border=\"1\" class=\"dataframe\">\n",
       "  <thead>\n",
       "    <tr style=\"text-align: right;\">\n",
       "      <th></th>\n",
       "      <th>isUSA</th>\n",
       "    </tr>\n",
       "  </thead>\n",
       "  <tbody>\n",
       "    <tr>\n",
       "      <th>0</th>\n",
       "      <td>1</td>\n",
       "    </tr>\n",
       "    <tr>\n",
       "      <th>1</th>\n",
       "      <td>1</td>\n",
       "    </tr>\n",
       "    <tr>\n",
       "      <th>2</th>\n",
       "      <td>0</td>\n",
       "    </tr>\n",
       "    <tr>\n",
       "      <th>3</th>\n",
       "      <td>1</td>\n",
       "    </tr>\n",
       "    <tr>\n",
       "      <th>4</th>\n",
       "      <td>0</td>\n",
       "    </tr>\n",
       "    <tr>\n",
       "      <th>...</th>\n",
       "      <td>...</td>\n",
       "    </tr>\n",
       "    <tr>\n",
       "      <th>273</th>\n",
       "      <td>0</td>\n",
       "    </tr>\n",
       "    <tr>\n",
       "      <th>274</th>\n",
       "      <td>0</td>\n",
       "    </tr>\n",
       "    <tr>\n",
       "      <th>275</th>\n",
       "      <td>1</td>\n",
       "    </tr>\n",
       "    <tr>\n",
       "      <th>276</th>\n",
       "      <td>1</td>\n",
       "    </tr>\n",
       "    <tr>\n",
       "      <th>277</th>\n",
       "      <td>1</td>\n",
       "    </tr>\n",
       "  </tbody>\n",
       "</table>\n",
       "<p>278 rows × 1 columns</p>\n",
       "</div>"
      ],
      "text/plain": [
       "     isUSA\n",
       "0        1\n",
       "1        1\n",
       "2        0\n",
       "3        1\n",
       "4        0\n",
       "..     ...\n",
       "273      0\n",
       "274      0\n",
       "275      1\n",
       "276      1\n",
       "277      1\n",
       "\n",
       "[278 rows x 1 columns]"
      ]
     },
     "execution_count": 2,
     "metadata": {},
     "output_type": "execute_result"
    }
   ],
   "source": [
    "y_train"
   ]
  },
  {
   "cell_type": "markdown",
   "metadata": {},
   "source": [
    "#### ② `mpg_X_train.csv` (278 데이터), `mpg_X_test.csv` (120 데이터)"
   ]
  },
  {
   "cell_type": "code",
   "execution_count": 3,
   "metadata": {},
   "outputs": [
    {
     "data": {
      "text/html": [
       "<div>\n",
       "<style scoped>\n",
       "    .dataframe tbody tr th:only-of-type {\n",
       "        vertical-align: middle;\n",
       "    }\n",
       "\n",
       "    .dataframe tbody tr th {\n",
       "        vertical-align: top;\n",
       "    }\n",
       "\n",
       "    .dataframe thead th {\n",
       "        text-align: right;\n",
       "    }\n",
       "</style>\n",
       "<table border=\"1\" class=\"dataframe\">\n",
       "  <thead>\n",
       "    <tr style=\"text-align: right;\">\n",
       "      <th></th>\n",
       "      <th>name</th>\n",
       "      <th>mpg</th>\n",
       "      <th>cylinders</th>\n",
       "      <th>displacement</th>\n",
       "      <th>horsepower</th>\n",
       "      <th>weight</th>\n",
       "      <th>acceleration</th>\n",
       "      <th>model_year</th>\n",
       "    </tr>\n",
       "  </thead>\n",
       "  <tbody>\n",
       "    <tr>\n",
       "      <th>0</th>\n",
       "      <td>pontiac j2000 se hatchback</td>\n",
       "      <td>31.0</td>\n",
       "      <td>4</td>\n",
       "      <td>112.0</td>\n",
       "      <td>85.0</td>\n",
       "      <td>2575</td>\n",
       "      <td>16.2</td>\n",
       "      <td>82</td>\n",
       "    </tr>\n",
       "    <tr>\n",
       "      <th>1</th>\n",
       "      <td>pontiac safari (sw)</td>\n",
       "      <td>13.0</td>\n",
       "      <td>8</td>\n",
       "      <td>400.0</td>\n",
       "      <td>175.0</td>\n",
       "      <td>5140</td>\n",
       "      <td>12.0</td>\n",
       "      <td>71</td>\n",
       "    </tr>\n",
       "    <tr>\n",
       "      <th>2</th>\n",
       "      <td>mazda glc custom l</td>\n",
       "      <td>37.0</td>\n",
       "      <td>4</td>\n",
       "      <td>91.0</td>\n",
       "      <td>68.0</td>\n",
       "      <td>2025</td>\n",
       "      <td>18.2</td>\n",
       "      <td>82</td>\n",
       "    </tr>\n",
       "    <tr>\n",
       "      <th>3</th>\n",
       "      <td>oldsmobile vista cruiser</td>\n",
       "      <td>12.0</td>\n",
       "      <td>8</td>\n",
       "      <td>350.0</td>\n",
       "      <td>180.0</td>\n",
       "      <td>4499</td>\n",
       "      <td>12.5</td>\n",
       "      <td>73</td>\n",
       "    </tr>\n",
       "    <tr>\n",
       "      <th>4</th>\n",
       "      <td>peugeot 504</td>\n",
       "      <td>19.0</td>\n",
       "      <td>4</td>\n",
       "      <td>120.0</td>\n",
       "      <td>88.0</td>\n",
       "      <td>3270</td>\n",
       "      <td>21.9</td>\n",
       "      <td>76</td>\n",
       "    </tr>\n",
       "    <tr>\n",
       "      <th>...</th>\n",
       "      <td>...</td>\n",
       "      <td>...</td>\n",
       "      <td>...</td>\n",
       "      <td>...</td>\n",
       "      <td>...</td>\n",
       "      <td>...</td>\n",
       "      <td>...</td>\n",
       "      <td>...</td>\n",
       "    </tr>\n",
       "    <tr>\n",
       "      <th>273</th>\n",
       "      <td>honda civic cvcc</td>\n",
       "      <td>36.1</td>\n",
       "      <td>4</td>\n",
       "      <td>91.0</td>\n",
       "      <td>60.0</td>\n",
       "      <td>1800</td>\n",
       "      <td>16.4</td>\n",
       "      <td>78</td>\n",
       "    </tr>\n",
       "    <tr>\n",
       "      <th>274</th>\n",
       "      <td>subaru dl</td>\n",
       "      <td>30.0</td>\n",
       "      <td>4</td>\n",
       "      <td>97.0</td>\n",
       "      <td>67.0</td>\n",
       "      <td>1985</td>\n",
       "      <td>16.4</td>\n",
       "      <td>77</td>\n",
       "    </tr>\n",
       "    <tr>\n",
       "      <th>275</th>\n",
       "      <td>dodge colt m/m</td>\n",
       "      <td>33.5</td>\n",
       "      <td>4</td>\n",
       "      <td>98.0</td>\n",
       "      <td>83.0</td>\n",
       "      <td>2075</td>\n",
       "      <td>15.9</td>\n",
       "      <td>77</td>\n",
       "    </tr>\n",
       "    <tr>\n",
       "      <th>276</th>\n",
       "      <td>ford pinto</td>\n",
       "      <td>18.0</td>\n",
       "      <td>6</td>\n",
       "      <td>171.0</td>\n",
       "      <td>97.0</td>\n",
       "      <td>2984</td>\n",
       "      <td>14.5</td>\n",
       "      <td>75</td>\n",
       "    </tr>\n",
       "    <tr>\n",
       "      <th>277</th>\n",
       "      <td>amc ambassador sst</td>\n",
       "      <td>17.0</td>\n",
       "      <td>8</td>\n",
       "      <td>304.0</td>\n",
       "      <td>150.0</td>\n",
       "      <td>3672</td>\n",
       "      <td>11.5</td>\n",
       "      <td>72</td>\n",
       "    </tr>\n",
       "  </tbody>\n",
       "</table>\n",
       "<p>278 rows × 8 columns</p>\n",
       "</div>"
      ],
      "text/plain": [
       "                           name   mpg  cylinders  displacement  horsepower  \\\n",
       "0    pontiac j2000 se hatchback  31.0          4         112.0        85.0   \n",
       "1           pontiac safari (sw)  13.0          8         400.0       175.0   \n",
       "2            mazda glc custom l  37.0          4          91.0        68.0   \n",
       "3      oldsmobile vista cruiser  12.0          8         350.0       180.0   \n",
       "4                   peugeot 504  19.0          4         120.0        88.0   \n",
       "..                          ...   ...        ...           ...         ...   \n",
       "273            honda civic cvcc  36.1          4          91.0        60.0   \n",
       "274                   subaru dl  30.0          4          97.0        67.0   \n",
       "275              dodge colt m/m  33.5          4          98.0        83.0   \n",
       "276                  ford pinto  18.0          6         171.0        97.0   \n",
       "277          amc ambassador sst  17.0          8         304.0       150.0   \n",
       "\n",
       "     weight  acceleration  model_year  \n",
       "0      2575          16.2          82  \n",
       "1      5140          12.0          71  \n",
       "2      2025          18.2          82  \n",
       "3      4499          12.5          73  \n",
       "4      3270          21.9          76  \n",
       "..      ...           ...         ...  \n",
       "273    1800          16.4          78  \n",
       "274    1985          16.4          77  \n",
       "275    2075          15.9          77  \n",
       "276    2984          14.5          75  \n",
       "277    3672          11.5          72  \n",
       "\n",
       "[278 rows x 8 columns]"
      ]
     },
     "execution_count": 3,
     "metadata": {},
     "output_type": "execute_result"
    }
   ],
   "source": [
    "X_train"
   ]
  },
  {
   "cell_type": "code",
   "execution_count": 4,
   "metadata": {},
   "outputs": [
    {
     "data": {
      "text/html": [
       "<div>\n",
       "<style scoped>\n",
       "    .dataframe tbody tr th:only-of-type {\n",
       "        vertical-align: middle;\n",
       "    }\n",
       "\n",
       "    .dataframe tbody tr th {\n",
       "        vertical-align: top;\n",
       "    }\n",
       "\n",
       "    .dataframe thead th {\n",
       "        text-align: right;\n",
       "    }\n",
       "</style>\n",
       "<table border=\"1\" class=\"dataframe\">\n",
       "  <thead>\n",
       "    <tr style=\"text-align: right;\">\n",
       "      <th></th>\n",
       "      <th>name</th>\n",
       "      <th>mpg</th>\n",
       "      <th>cylinders</th>\n",
       "      <th>displacement</th>\n",
       "      <th>horsepower</th>\n",
       "      <th>weight</th>\n",
       "      <th>acceleration</th>\n",
       "      <th>model_year</th>\n",
       "    </tr>\n",
       "  </thead>\n",
       "  <tbody>\n",
       "    <tr>\n",
       "      <th>0</th>\n",
       "      <td>maxda glc deluxe</td>\n",
       "      <td>34.1</td>\n",
       "      <td>4</td>\n",
       "      <td>86.0</td>\n",
       "      <td>65.0</td>\n",
       "      <td>1975</td>\n",
       "      <td>15.2</td>\n",
       "      <td>79</td>\n",
       "    </tr>\n",
       "    <tr>\n",
       "      <th>1</th>\n",
       "      <td>plymouth sapporo</td>\n",
       "      <td>23.2</td>\n",
       "      <td>4</td>\n",
       "      <td>156.0</td>\n",
       "      <td>105.0</td>\n",
       "      <td>2745</td>\n",
       "      <td>16.7</td>\n",
       "      <td>78</td>\n",
       "    </tr>\n",
       "    <tr>\n",
       "      <th>2</th>\n",
       "      <td>dodge coronet brougham</td>\n",
       "      <td>16.0</td>\n",
       "      <td>8</td>\n",
       "      <td>318.0</td>\n",
       "      <td>150.0</td>\n",
       "      <td>4190</td>\n",
       "      <td>13.0</td>\n",
       "      <td>76</td>\n",
       "    </tr>\n",
       "    <tr>\n",
       "      <th>3</th>\n",
       "      <td>amc concord dl 6</td>\n",
       "      <td>20.2</td>\n",
       "      <td>6</td>\n",
       "      <td>232.0</td>\n",
       "      <td>90.0</td>\n",
       "      <td>3265</td>\n",
       "      <td>18.2</td>\n",
       "      <td>79</td>\n",
       "    </tr>\n",
       "    <tr>\n",
       "      <th>4</th>\n",
       "      <td>fiat strada custom</td>\n",
       "      <td>37.3</td>\n",
       "      <td>4</td>\n",
       "      <td>91.0</td>\n",
       "      <td>69.0</td>\n",
       "      <td>2130</td>\n",
       "      <td>14.7</td>\n",
       "      <td>79</td>\n",
       "    </tr>\n",
       "    <tr>\n",
       "      <th>...</th>\n",
       "      <td>...</td>\n",
       "      <td>...</td>\n",
       "      <td>...</td>\n",
       "      <td>...</td>\n",
       "      <td>...</td>\n",
       "      <td>...</td>\n",
       "      <td>...</td>\n",
       "      <td>...</td>\n",
       "    </tr>\n",
       "    <tr>\n",
       "      <th>115</th>\n",
       "      <td>datsun b210 gx</td>\n",
       "      <td>39.4</td>\n",
       "      <td>4</td>\n",
       "      <td>85.0</td>\n",
       "      <td>70.0</td>\n",
       "      <td>2070</td>\n",
       "      <td>18.6</td>\n",
       "      <td>78</td>\n",
       "    </tr>\n",
       "    <tr>\n",
       "      <th>116</th>\n",
       "      <td>amc hornet</td>\n",
       "      <td>18.0</td>\n",
       "      <td>6</td>\n",
       "      <td>232.0</td>\n",
       "      <td>100.0</td>\n",
       "      <td>2945</td>\n",
       "      <td>16.0</td>\n",
       "      <td>73</td>\n",
       "    </tr>\n",
       "    <tr>\n",
       "      <th>117</th>\n",
       "      <td>amc matador</td>\n",
       "      <td>16.0</td>\n",
       "      <td>6</td>\n",
       "      <td>258.0</td>\n",
       "      <td>110.0</td>\n",
       "      <td>3632</td>\n",
       "      <td>18.0</td>\n",
       "      <td>74</td>\n",
       "    </tr>\n",
       "    <tr>\n",
       "      <th>118</th>\n",
       "      <td>chevy c10</td>\n",
       "      <td>13.0</td>\n",
       "      <td>8</td>\n",
       "      <td>350.0</td>\n",
       "      <td>145.0</td>\n",
       "      <td>4055</td>\n",
       "      <td>12.0</td>\n",
       "      <td>76</td>\n",
       "    </tr>\n",
       "    <tr>\n",
       "      <th>119</th>\n",
       "      <td>toyota tercel</td>\n",
       "      <td>37.7</td>\n",
       "      <td>4</td>\n",
       "      <td>89.0</td>\n",
       "      <td>62.0</td>\n",
       "      <td>2050</td>\n",
       "      <td>17.3</td>\n",
       "      <td>81</td>\n",
       "    </tr>\n",
       "  </tbody>\n",
       "</table>\n",
       "<p>120 rows × 8 columns</p>\n",
       "</div>"
      ],
      "text/plain": [
       "                       name   mpg  cylinders  displacement  horsepower  \\\n",
       "0          maxda glc deluxe  34.1          4          86.0        65.0   \n",
       "1          plymouth sapporo  23.2          4         156.0       105.0   \n",
       "2    dodge coronet brougham  16.0          8         318.0       150.0   \n",
       "3          amc concord dl 6  20.2          6         232.0        90.0   \n",
       "4        fiat strada custom  37.3          4          91.0        69.0   \n",
       "..                      ...   ...        ...           ...         ...   \n",
       "115          datsun b210 gx  39.4          4          85.0        70.0   \n",
       "116              amc hornet  18.0          6         232.0       100.0   \n",
       "117             amc matador  16.0          6         258.0       110.0   \n",
       "118               chevy c10  13.0          8         350.0       145.0   \n",
       "119           toyota tercel  37.7          4          89.0        62.0   \n",
       "\n",
       "     weight  acceleration  model_year  \n",
       "0      1975          15.2          79  \n",
       "1      2745          16.7          78  \n",
       "2      4190          13.0          76  \n",
       "3      3265          18.2          79  \n",
       "4      2130          14.7          79  \n",
       "..      ...           ...         ...  \n",
       "115    2070          18.6          78  \n",
       "116    2945          16.0          73  \n",
       "117    3632          18.0          74  \n",
       "118    4055          12.0          76  \n",
       "119    2050          17.3          81  \n",
       "\n",
       "[120 rows x 8 columns]"
      ]
     },
     "execution_count": 4,
     "metadata": {},
     "output_type": "execute_result"
    }
   ],
   "source": [
    "X_test"
   ]
  },
  {
   "cell_type": "markdown",
   "metadata": {},
   "source": [
    "#### ③ `mpg_y_test.csv` \n",
    "- 함께 주어지고 있으나, 해당 파일은 제출 파일 평가에 활용할 수 있도록 추가한 데이터로 실습에서는 사용하지 않는다."
   ]
  },
  {
   "cell_type": "markdown",
   "metadata": {},
   "source": [
    "### ⭐️ 문제"
   ]
  },
  {
   "cell_type": "markdown",
   "metadata": {},
   "source": [
    "<div class=\"alert alert-info\">\n",
    "    주어진 학습용 데이터(mpg_X_train.csv, mpg_X_test.csv)를 활용하여 해당 자동차 모델이 미국에서 만든 것인지 예측 모형을 만든 후, 이를 평가용 데이터(mpg_X_test.csv)에 적용하여 얻은 국가 예측값(미국일 확률을 1로 한다)을 다음과 같은 csv 파일로 생성하시오.\n",
    "    (제출한 모델의 성능은 ROC-AUC 평가 지표에 따라 채점)\n",
    "</div>\n",
    "\n",
    "|isUSA|\n",
    "|-|\n",
    "|0.222222|\n",
    "|0.444444|\n",
    "|0.111111|\n",
    "|0.777778|\n",
    "|0.111111|\n",
    "|1|\n",
    "|0.222222|\n",
    "|0.444444|\n",
    "|0.333333|\n",
    "|1|\n",
    "|1|\n",
    "|1|\n",
    "|0.333333|\n",
    "|1|\n"
   ]
  },
  {
   "cell_type": "markdown",
   "metadata": {},
   "source": [
    "## 👨🏻‍💻 문제 풀기"
   ]
  },
  {
   "cell_type": "markdown",
   "metadata": {},
   "source": [
    "- 문제를 풀기 전, 참고할 내용은 다음과 같다.\n",
    "\n",
    "<div class=\"alert alert-warning\">\n",
    "    성능이 우수한 예측 모형을 구축하기 위해서는 <u>적절한 데이터 전처리, Feature Engineering, 분류 알고리즘 사용, 초매개변수 최적화, 모형 앙상블</u> 등이 수반되어야 한다.\n",
    "</div>\n",
    "<div class=\"alert alert-warning\">\n",
    "    수험번호.csv(예: 0000.csv) 파일이 만들어지도록 코드를 제출한다.\n",
    "</div>"
   ]
  },
  {
   "cell_type": "markdown",
   "metadata": {},
   "source": [
    "### 필요한 패키지 불러오기"
   ]
  },
  {
   "cell_type": "code",
   "execution_count": 5,
   "metadata": {},
   "outputs": [],
   "source": [
    "import pandas as pd\n",
    "import numpy as np"
   ]
  },
  {
   "cell_type": "markdown",
   "metadata": {},
   "source": [
    "### 데이터 세트 불러오기"
   ]
  },
  {
   "cell_type": "markdown",
   "metadata": {},
   "source": [
    "- `train` : 훈련 데이터 세트, `test` : 테스트 데이터 세트, `X` : 독립 변수(Feature), `y` : 종속 변수(Target)\n",
    "    - `X_train` : 훈련 데이터 세트의 독립 변수(Feature)\n",
    "    - `y_train` : 훈련 데이터 세트의 종속 변수(Target)\n",
    "    - `X_test` : 테스트 데이터 세트의 독립 변수(Feature)\n",
    "    - `y_test` : 테스트 데이터 세트의 종속 변수(Target)"
   ]
  },
  {
   "cell_type": "code",
   "execution_count": 6,
   "metadata": {},
   "outputs": [],
   "source": [
    "X_test = pd.read_csv('./datasets/Part2/mpg_X_test.csv')    # 테스트 데이터 세트의 독립 변수(Feature)\n",
    "X_train = pd.read_csv('./datasets/Part2/mpg_X_train.csv')    # 훈련 데이터 세트의 독립 변수(Feature)\n",
    "y_train = pd.read_csv('./datasets/Part2/mpg_y_train.csv')    # 훈련 데이터 세트의 종속 변수(Target)"
   ]
  },
  {
   "cell_type": "markdown",
   "metadata": {},
   "source": [
    "### 데이터 전처리"
   ]
  },
  {
   "cell_type": "markdown",
   "metadata": {},
   "source": [
    "- 기본 정보 확인"
   ]
  },
  {
   "cell_type": "code",
   "execution_count": 7,
   "metadata": {},
   "outputs": [
    {
     "name": "stdout",
     "output_type": "stream",
     "text": [
      "<class 'pandas.core.frame.DataFrame'>\n",
      "RangeIndex: 278 entries, 0 to 277\n",
      "Data columns (total 8 columns):\n",
      " #   Column        Non-Null Count  Dtype  \n",
      "---  ------        --------------  -----  \n",
      " 0   name          278 non-null    object \n",
      " 1   mpg           278 non-null    float64\n",
      " 2   cylinders     278 non-null    int64  \n",
      " 3   displacement  278 non-null    float64\n",
      " 4   horsepower    274 non-null    float64\n",
      " 5   weight        278 non-null    int64  \n",
      " 6   acceleration  278 non-null    float64\n",
      " 7   model_year    278 non-null    int64  \n",
      "dtypes: float64(4), int64(3), object(1)\n",
      "memory usage: 17.5+ KB\n",
      "None\n"
     ]
    }
   ],
   "source": [
    "print(X_train.info())"
   ]
  },
  {
   "cell_type": "markdown",
   "metadata": {},
   "source": [
    "<div class=\"alert alert-success\">\n",
    "shape는 (278, 8)로 행은 278개 열은 8개다. 8개 변수를 <b>독립 변수</b>로 두고 분석을 진행한다.\n",
    "</div>"
   ]
  },
  {
   "cell_type": "markdown",
   "metadata": {},
   "source": [
    "- 불러온 데이터프레임은 `info` 함수를 통해 아래의 정보들을 확인할 수 있다.\n",
    "    - **데이터의 컬럼 정보**\n",
    "        - `X_train`에 8개의 컬럼이 있음을 확인할 수 있다.\n",
    "    - **결측치가 아닌 정상적인 데이터의 개수**\n",
    "        - `horsepower`에 3개의 결측치가 있음을 확인할 수 있다.\n",
    "            - <mark style=\"background-color: red;\">별도의 결측치 처리 작업이 필요하다.</mark>\n",
    "    - **데이터 타입**\n",
    "        - `name` 컬럼을 제외한 나머지 컬럼은 모두 `float64` 또는 `int64`로 <mark>컬럼 설명과 동일하게</mark> 전부 **수치형**으로 지정되어 있다.\n",
    "            - 별도의 데이터 타입 변경 작업은 필요 없을 것으로 보인다."
   ]
  },
  {
   "cell_type": "markdown",
   "metadata": {},
   "source": [
    "#### 결측치 처리"
   ]
  },
  {
   "cell_type": "markdown",
   "metadata": {},
   "source": [
    "- 결측치를 제거하는 것이 쉽고 빠른 방법이지만, 이번에는 채우기 기법을 사용하여 결측치를 처리해본다.\n",
    "- `impute`는 특정 값을 대체할 때 사용하는 모듈이다. (-탓으로 하다, 전가하다)"
   ]
  },
  {
   "cell_type": "code",
   "execution_count": 8,
   "metadata": {},
   "outputs": [],
   "source": [
    "from sklearn.impute import SimpleImputer\n",
    "\n",
    "imputer = SimpleImputer(missing_values=np.nan, strategy='mean')     # 결측치(NaN)를 평균값(mean)으로 대체한다.\n",
    "\n",
    "X_train[['horsepower']] = imputer.fit_transform(X_train[['horsepower']])\n",
    "X_test[['horsepower']] = imputer.fit_transform(X_test[['horsepower']])"
   ]
  },
  {
   "cell_type": "markdown",
   "metadata": {},
   "source": [
    "<div class=\"alert alert-info\">\n",
    "    만약 <code>strategy</code>를 <code>constant</code>로 하고, <code>fill_value=0</code> 파라미터를 추가하면 <code>fillna</code>와 동일한 동작을 하게 된다.\n",
    "</div>\n",
    "\n",
    "```py\n",
    "imputer = SimpleImputer(missing_values=np.nan, strategy='constant', fill_value=0)    # fillna와 동일한 동작을 한다.\n",
    "```"
   ]
  },
  {
   "cell_type": "markdown",
   "metadata": {},
   "source": [
    "- `describe` 함수를 통해 평균, 표준편차, 사분위수 등 기본적인 요약 통계량 값을 확인할 수 있다.\n",
    "- 실제 시험장에서는 `matplotlib` 등을 사용한 시각화가 불가능하므로 이러한 <mark>테이블 형식의 정보를 토대로 이상치를 파악하고 대처</mark>할 수 있어야 한다."
   ]
  },
  {
   "cell_type": "code",
   "execution_count": 9,
   "metadata": {},
   "outputs": [
    {
     "name": "stdout",
     "output_type": "stream",
     "text": [
      "              mpg   cylinders  displacement  horsepower       weight  \\\n",
      "count  278.000000  278.000000    278.000000  278.000000   278.000000   \n",
      "mean    23.732734    5.374101    189.994604  103.383212  2948.464029   \n",
      "std      7.647295    1.677084    105.471423   38.695458   862.949746   \n",
      "min     10.000000    3.000000     68.000000   46.000000  1613.000000   \n",
      "25%     18.000000    4.000000     98.000000   75.000000  2206.250000   \n",
      "50%     23.000000    4.000000    140.500000   90.500000  2737.500000   \n",
      "75%     29.000000    6.000000    258.000000  118.750000  3560.000000   \n",
      "max     46.600000    8.000000    455.000000  230.000000  5140.000000   \n",
      "\n",
      "       acceleration  model_year  \n",
      "count    278.000000  278.000000  \n",
      "mean      15.580216   76.057554  \n",
      "std        2.745907    3.605591  \n",
      "min        8.000000   70.000000  \n",
      "25%       14.000000   73.000000  \n",
      "50%       15.500000   76.000000  \n",
      "75%       17.000000   79.000000  \n",
      "max       24.800000   82.000000  \n"
     ]
    }
   ],
   "source": [
    "print(X_train.describe())    # 결측치를 처리한 후 확인해본다."
   ]
  },
  {
   "cell_type": "markdown",
   "metadata": {},
   "source": [
    "- 8개의 컬럼 중, `name`을 제외한 나머지는 수치형에 해당한다.\n",
    "- `model_year`의 경우 모델이 생산된 연도 정보이기 때문에 명목형으로 생각할 수 있지만, 여기에서는 모델의 성능에 더 나중에 생산된 모델이 좋은 영향을 준다고 가정하고 수치형 변수로서 사용한다.\n",
    "- 다음과 같이 변수의 형태별로 리스트를 저장하면 전처리를 진행할 때 편하게 사용할 수 있다."
   ]
  },
  {
   "cell_type": "code",
   "execution_count": 10,
   "metadata": {},
   "outputs": [],
   "source": [
    "COL_DEL = ['name']    # 삭제할 컬럼\n",
    "COL_NUM = ['mpg', 'cylinders', 'displacement', 'horsepower', 'weight', 'acceleration', 'model_year']    # 수치형 데이터\n",
    "COL_CAT = []\n",
    "COL_Y = ['isUSA']\n",
    "\n",
    "X_train = X_train.iloc[:, 1:]\n",
    "X_test = X_test.iloc[:, 1:]"
   ]
  },
  {
   "cell_type": "markdown",
   "metadata": {},
   "source": [
    "### 데이터 모형 구축"
   ]
  },
  {
   "cell_type": "markdown",
   "metadata": {},
   "source": [
    "- 분류 모델을 만들기 전 우선 **데이터 분할**을 진행한다. (학습 데이터, 검증 데이터)"
   ]
  },
  {
   "cell_type": "code",
   "execution_count": 12,
   "metadata": {},
   "outputs": [],
   "source": [
    "from sklearn.model_selection import train_test_split\n",
    "\n",
    "X_tr, X_val, y_tr, y_val = train_test_split(X_train, y_train, test_size=0.3)    # 훈련용 데이터 세트를 훈련용 데이터 세트 : 검증용 데아터 세트로 분할한다."
   ]
  },
  {
   "cell_type": "markdown",
   "metadata": {},
   "source": [
    "- 수치형 변수들의 범위 차이에 따른 영향력이 왜곡되지 않도록 동일한 조건에서 분석을 진행하기 위해 **스케일링**을 진행한다."
   ]
  },
  {
   "cell_type": "code",
   "execution_count": 13,
   "metadata": {},
   "outputs": [],
   "source": [
    "from sklearn.preprocessing import StandardScaler\n",
    "\n",
    "scaler = StandardScaler()\n",
    "scaler.fit(X_tr[COL_NUM])\n",
    "\n",
    "X_tr[COL_NUM] = scaler.transform(X_tr[COL_NUM])    # 훈련용 데이터 세트의 독립 변수(Feature)\n",
    "X_val[COL_NUM] = scaler.transform(X_val[COL_NUM])   # 검증용 데이터 세트의 독립 변수(Feature)\n",
    "X_test[COL_NUM] = scaler.transform(X_test[COL_NUM])    # 테스트 데이터 세트의 종속 변수(Target)"
   ]
  },
  {
   "cell_type": "markdown",
   "metadata": {},
   "source": [
    "- 모델 학습을 진행한다."
   ]
  },
  {
   "cell_type": "code",
   "execution_count": 14,
   "metadata": {},
   "outputs": [
    {
     "data": {
      "text/html": [
       "<style>#sk-container-id-1 {color: black;background-color: white;}#sk-container-id-1 pre{padding: 0;}#sk-container-id-1 div.sk-toggleable {background-color: white;}#sk-container-id-1 label.sk-toggleable__label {cursor: pointer;display: block;width: 100%;margin-bottom: 0;padding: 0.3em;box-sizing: border-box;text-align: center;}#sk-container-id-1 label.sk-toggleable__label-arrow:before {content: \"▸\";float: left;margin-right: 0.25em;color: #696969;}#sk-container-id-1 label.sk-toggleable__label-arrow:hover:before {color: black;}#sk-container-id-1 div.sk-estimator:hover label.sk-toggleable__label-arrow:before {color: black;}#sk-container-id-1 div.sk-toggleable__content {max-height: 0;max-width: 0;overflow: hidden;text-align: left;background-color: #f0f8ff;}#sk-container-id-1 div.sk-toggleable__content pre {margin: 0.2em;color: black;border-radius: 0.25em;background-color: #f0f8ff;}#sk-container-id-1 input.sk-toggleable__control:checked~div.sk-toggleable__content {max-height: 200px;max-width: 100%;overflow: auto;}#sk-container-id-1 input.sk-toggleable__control:checked~label.sk-toggleable__label-arrow:before {content: \"▾\";}#sk-container-id-1 div.sk-estimator input.sk-toggleable__control:checked~label.sk-toggleable__label {background-color: #d4ebff;}#sk-container-id-1 div.sk-label input.sk-toggleable__control:checked~label.sk-toggleable__label {background-color: #d4ebff;}#sk-container-id-1 input.sk-hidden--visually {border: 0;clip: rect(1px 1px 1px 1px);clip: rect(1px, 1px, 1px, 1px);height: 1px;margin: -1px;overflow: hidden;padding: 0;position: absolute;width: 1px;}#sk-container-id-1 div.sk-estimator {font-family: monospace;background-color: #f0f8ff;border: 1px dotted black;border-radius: 0.25em;box-sizing: border-box;margin-bottom: 0.5em;}#sk-container-id-1 div.sk-estimator:hover {background-color: #d4ebff;}#sk-container-id-1 div.sk-parallel-item::after {content: \"\";width: 100%;border-bottom: 1px solid gray;flex-grow: 1;}#sk-container-id-1 div.sk-label:hover label.sk-toggleable__label {background-color: #d4ebff;}#sk-container-id-1 div.sk-serial::before {content: \"\";position: absolute;border-left: 1px solid gray;box-sizing: border-box;top: 0;bottom: 0;left: 50%;z-index: 0;}#sk-container-id-1 div.sk-serial {display: flex;flex-direction: column;align-items: center;background-color: white;padding-right: 0.2em;padding-left: 0.2em;position: relative;}#sk-container-id-1 div.sk-item {position: relative;z-index: 1;}#sk-container-id-1 div.sk-parallel {display: flex;align-items: stretch;justify-content: center;background-color: white;position: relative;}#sk-container-id-1 div.sk-item::before, #sk-container-id-1 div.sk-parallel-item::before {content: \"\";position: absolute;border-left: 1px solid gray;box-sizing: border-box;top: 0;bottom: 0;left: 50%;z-index: -1;}#sk-container-id-1 div.sk-parallel-item {display: flex;flex-direction: column;z-index: 1;position: relative;background-color: white;}#sk-container-id-1 div.sk-parallel-item:first-child::after {align-self: flex-end;width: 50%;}#sk-container-id-1 div.sk-parallel-item:last-child::after {align-self: flex-start;width: 50%;}#sk-container-id-1 div.sk-parallel-item:only-child::after {width: 0;}#sk-container-id-1 div.sk-dashed-wrapped {border: 1px dashed gray;margin: 0 0.4em 0.5em 0.4em;box-sizing: border-box;padding-bottom: 0.4em;background-color: white;}#sk-container-id-1 div.sk-label label {font-family: monospace;font-weight: bold;display: inline-block;line-height: 1.2em;}#sk-container-id-1 div.sk-label-container {text-align: center;}#sk-container-id-1 div.sk-container {/* jupyter's `normalize.less` sets `[hidden] { display: none; }` but bootstrap.min.css set `[hidden] { display: none !important; }` so we also need the `!important` here to be able to override the default hidden behavior on the sphinx rendered scikit-learn.org. See: https://github.com/scikit-learn/scikit-learn/issues/21755 */display: inline-block !important;position: relative;}#sk-container-id-1 div.sk-text-repr-fallback {display: none;}</style><div id=\"sk-container-id-1\" class=\"sk-top-container\"><div class=\"sk-text-repr-fallback\"><pre>DecisionTreeClassifier(max_depth=10)</pre><b>In a Jupyter environment, please rerun this cell to show the HTML representation or trust the notebook. <br />On GitHub, the HTML representation is unable to render, please try loading this page with nbviewer.org.</b></div><div class=\"sk-container\" hidden><div class=\"sk-item\"><div class=\"sk-estimator sk-toggleable\"><input class=\"sk-toggleable__control sk-hidden--visually\" id=\"sk-estimator-id-1\" type=\"checkbox\" checked><label for=\"sk-estimator-id-1\" class=\"sk-toggleable__label sk-toggleable__label-arrow\">DecisionTreeClassifier</label><div class=\"sk-toggleable__content\"><pre>DecisionTreeClassifier(max_depth=10)</pre></div></div></div></div></div>"
      ],
      "text/plain": [
       "DecisionTreeClassifier(max_depth=10)"
      ]
     },
     "execution_count": 14,
     "metadata": {},
     "output_type": "execute_result"
    }
   ],
   "source": [
    "from sklearn.neighbors import KNeighborsClassifier\n",
    "\n",
    "modelKNN = KNeighborsClassifier(n_neighbors=5, metric='euclidean')\n",
    "modelKNN.fit(X_tr, y_tr.values.ravel())     # warning으로 인한 불필요한 출력 결과를 보고 싶지 않다면 ravel 함수를 사용한다.\n",
    "\n",
    "from sklearn.tree import DecisionTreeClassifier\n",
    "\n",
    "modelDT = DecisionTreeClassifier(max_depth=10)\n",
    "modelDT.fit(X_tr, y_tr)"
   ]
  },
  {
   "cell_type": "markdown",
   "metadata": {},
   "source": [
    "### 데이터 모형 평가"
   ]
  },
  {
   "cell_type": "markdown",
   "metadata": {},
   "source": [
    "- `fit` 함수를 통해 학습이 완료된 모델에 대해 예측값을 구하거나 예측 확률 값을 구할 수 있다.\n",
    "- 이 문제의 경우 예측 확률을 구하는 것이 목적이기 때문에 `predict_proba` 함수를 사용한다."
   ]
  },
  {
   "cell_type": "code",
   "execution_count": 15,
   "metadata": {},
   "outputs": [],
   "source": [
    "y_val_pred = modelKNN.predict(X_val)\n",
    "\n",
    "y_val_pred_probaKNN = modelKNN.predict_proba(X_val)\n",
    "y_val_pred_probaDT = modelDT.predict_proba(X_val)"
   ]
  },
  {
   "cell_type": "code",
   "execution_count": 16,
   "metadata": {},
   "outputs": [
    {
     "name": "stdout",
     "output_type": "stream",
     "text": [
      "0.9056603773584906 0.9233110164333536\n"
     ]
    }
   ],
   "source": [
    "from sklearn.metrics import roc_auc_score\n",
    "\n",
    "scoreKNN = roc_auc_score(y_val, y_val_pred_probaKNN[:, 1])\n",
    "scoreDT = roc_auc_score(y_val, y_val_pred_probaDT[:, 1])\n",
    "\n",
    "print(scoreKNN, scoreDT)"
   ]
  },
  {
   "cell_type": "markdown",
   "metadata": {},
   "source": [
    "- 사용자가 직접 여러 하이퍼파라미터를 학습하는 모형을 저장하여 그중 가장 높은 모형을 선택하는 코드를 작성해본다."
   ]
  },
  {
   "cell_type": "code",
   "execution_count": 19,
   "metadata": {},
   "outputs": [
    {
     "name": "stdout",
     "output_type": "stream",
     "text": [
      "2 개의 이웃 확인 :  0.8691418137553256\n",
      "3 개의 이웃 확인 :  0.9102251978088862\n",
      "4 개의 이웃 확인 :  0.9169202678027997\n",
      "5 개의 이웃 확인 :  0.9056603773584906\n",
      "6 개의 이웃 확인 :  0.9172245891661595\n",
      "7 개의 이웃 확인 :  0.9196591600730373\n",
      "8 개의 이웃 확인 :  0.9248326232501521\n",
      "9 개의 이웃 확인 :  0.9184418746195984\n"
     ]
    }
   ],
   "source": [
    "best_model = None\n",
    "best_score = 0\n",
    "\n",
    "for i in range(2, 10):\n",
    "    model = KNeighborsClassifier(n_neighbors=i, metric='euclidean')\n",
    "    model.fit(X_tr, y_tr.values.ravel())\n",
    "\n",
    "    y_val_pred_proba = model.predict_proba(X_val)\n",
    "    score = roc_auc_score(y_val, y_val_pred_proba[:, 1])\n",
    "    print(i, \"개의 이웃 확인 : \", score)\n",
    "\n",
    "    if best_score <= score:\n",
    "        best_model = model"
   ]
  },
  {
   "cell_type": "markdown",
   "metadata": {},
   "source": [
    "- 이제 제출을 위해 문제에서 요구하는 제출물을 만들도록 한다."
   ]
  },
  {
   "cell_type": "code",
   "execution_count": 20,
   "metadata": {},
   "outputs": [
    {
     "name": "stdout",
     "output_type": "stream",
     "text": [
      "[[0.66666667 0.33333333]\n",
      " [0.33333333 0.66666667]\n",
      " [0.         1.        ]\n",
      " [0.         1.        ]\n",
      " [0.77777778 0.22222222]\n",
      " [0.66666667 0.33333333]\n",
      " [0.44444444 0.55555556]\n",
      " [0.66666667 0.33333333]\n",
      " [0.44444444 0.55555556]\n",
      " [0.66666667 0.33333333]\n",
      " [0.         1.        ]\n",
      " [0.55555556 0.44444444]\n",
      " [0.         1.        ]\n",
      " [0.55555556 0.44444444]\n",
      " [0.77777778 0.22222222]\n",
      " [0.77777778 0.22222222]\n",
      " [0.         1.        ]\n",
      " [0.         1.        ]\n",
      " [0.66666667 0.33333333]\n",
      " [0.         1.        ]\n",
      " [0.         1.        ]\n",
      " [0.         1.        ]\n",
      " [0.         1.        ]\n",
      " [0.         1.        ]\n",
      " [0.         1.        ]\n",
      " [0.44444444 0.55555556]\n",
      " [0.77777778 0.22222222]\n",
      " [0.         1.        ]\n",
      " [0.         1.        ]\n",
      " [0.44444444 0.55555556]\n",
      " [1.         0.        ]\n",
      " [0.88888889 0.11111111]\n",
      " [0.44444444 0.55555556]\n",
      " [0.11111111 0.88888889]\n",
      " [0.         1.        ]\n",
      " [0.55555556 0.44444444]\n",
      " [0.22222222 0.77777778]\n",
      " [0.         1.        ]\n",
      " [0.66666667 0.33333333]\n",
      " [0.44444444 0.55555556]\n",
      " [0.         1.        ]\n",
      " [0.77777778 0.22222222]\n",
      " [0.88888889 0.11111111]\n",
      " [0.44444444 0.55555556]\n",
      " [0.88888889 0.11111111]\n",
      " [0.66666667 0.33333333]\n",
      " [0.66666667 0.33333333]\n",
      " [0.         1.        ]\n",
      " [0.88888889 0.11111111]\n",
      " [0.         1.        ]\n",
      " [1.         0.        ]\n",
      " [1.         0.        ]\n",
      " [0.         1.        ]\n",
      " [1.         0.        ]\n",
      " [0.         1.        ]\n",
      " [0.         1.        ]\n",
      " [0.         1.        ]\n",
      " [0.22222222 0.77777778]\n",
      " [0.         1.        ]\n",
      " [0.77777778 0.22222222]\n",
      " [0.         1.        ]\n",
      " [0.22222222 0.77777778]\n",
      " [0.         1.        ]\n",
      " [0.         1.        ]\n",
      " [0.33333333 0.66666667]\n",
      " [0.         1.        ]\n",
      " [0.         1.        ]\n",
      " [0.66666667 0.33333333]\n",
      " [0.33333333 0.66666667]\n",
      " [1.         0.        ]\n",
      " [0.         1.        ]\n",
      " [0.         1.        ]\n",
      " [0.44444444 0.55555556]\n",
      " [0.77777778 0.22222222]\n",
      " [0.         1.        ]\n",
      " [0.55555556 0.44444444]\n",
      " [0.         1.        ]\n",
      " [0.66666667 0.33333333]\n",
      " [0.44444444 0.55555556]\n",
      " [0.         1.        ]\n",
      " [0.         1.        ]\n",
      " [0.         1.        ]\n",
      " [1.         0.        ]\n",
      " [0.         1.        ]\n",
      " [0.         1.        ]\n",
      " [0.11111111 0.88888889]\n",
      " [0.77777778 0.22222222]\n",
      " [0.88888889 0.11111111]\n",
      " [0.77777778 0.22222222]\n",
      " [0.         1.        ]\n",
      " [0.         1.        ]\n",
      " [0.         1.        ]\n",
      " [0.         1.        ]\n",
      " [0.         1.        ]\n",
      " [0.         1.        ]\n",
      " [0.11111111 0.88888889]\n",
      " [0.77777778 0.22222222]\n",
      " [0.         1.        ]\n",
      " [0.         1.        ]\n",
      " [0.         1.        ]\n",
      " [0.         1.        ]\n",
      " [0.         1.        ]\n",
      " [0.         1.        ]\n",
      " [0.         1.        ]\n",
      " [0.         1.        ]\n",
      " [0.77777778 0.22222222]\n",
      " [0.77777778 0.22222222]\n",
      " [0.33333333 0.66666667]\n",
      " [0.66666667 0.33333333]\n",
      " [0.         1.        ]\n",
      " [1.         0.        ]\n",
      " [0.11111111 0.88888889]\n",
      " [0.77777778 0.22222222]\n",
      " [0.         1.        ]\n",
      " [0.         1.        ]\n",
      " [1.         0.        ]\n",
      " [0.         1.        ]\n",
      " [0.11111111 0.88888889]\n",
      " [0.         1.        ]\n",
      " [1.         0.        ]]\n"
     ]
    }
   ],
   "source": [
    "print(best_model.predict_proba(X_test))"
   ]
  },
  {
   "cell_type": "markdown",
   "metadata": {},
   "source": [
    "- 이 중, **미국**에 해당하는 경우가 `1`이기 때문에 `array` 형태로 표현되는 2차원 데이터 중 두 번째 줄에 해당하는 것이 우리가 추출해야 하는 값이다. (`[:, 1]`를 붙여 가져올 수 있다.)"
   ]
  },
  {
   "cell_type": "code",
   "execution_count": 21,
   "metadata": {},
   "outputs": [
    {
     "name": "stdout",
     "output_type": "stream",
     "text": [
      "[0.33333333 0.66666667 1.         1.         0.22222222 0.33333333\n",
      " 0.55555556 0.33333333 0.55555556 0.33333333 1.         0.44444444\n",
      " 1.         0.44444444 0.22222222 0.22222222 1.         1.\n",
      " 0.33333333 1.         1.         1.         1.         1.\n",
      " 1.         0.55555556 0.22222222 1.         1.         0.55555556\n",
      " 0.         0.11111111 0.55555556 0.88888889 1.         0.44444444\n",
      " 0.77777778 1.         0.33333333 0.55555556 1.         0.22222222\n",
      " 0.11111111 0.55555556 0.11111111 0.33333333 0.33333333 1.\n",
      " 0.11111111 1.         0.         0.         1.         0.\n",
      " 1.         1.         1.         0.77777778 1.         0.22222222\n",
      " 1.         0.77777778 1.         1.         0.66666667 1.\n",
      " 1.         0.33333333 0.66666667 0.         1.         1.\n",
      " 0.55555556 0.22222222 1.         0.44444444 1.         0.33333333\n",
      " 0.55555556 1.         1.         1.         0.         1.\n",
      " 1.         0.88888889 0.22222222 0.11111111 0.22222222 1.\n",
      " 1.         1.         1.         1.         1.         0.88888889\n",
      " 0.22222222 1.         1.         1.         1.         1.\n",
      " 1.         1.         1.         0.22222222 0.22222222 0.66666667\n",
      " 0.33333333 1.         0.         0.88888889 0.22222222 1.\n",
      " 1.         0.         1.         0.88888889 1.         0.        ]\n"
     ]
    }
   ],
   "source": [
    "pred = best_model.predict_proba(X_test)[:, 1]\n",
    "print(pred)"
   ]
  },
  {
   "cell_type": "markdown",
   "metadata": {},
   "source": [
    "- 데이터 프레임을 `.csv` 파일 형태로 저장하여 내보낸다."
   ]
  },
  {
   "cell_type": "code",
   "execution_count": 23,
   "metadata": {},
   "outputs": [],
   "source": [
    "pd.DataFrame({'isUSA': pred}).to_csv('./res/123456a.csv', index=False)"
   ]
  },
  {
   "cell_type": "markdown",
   "metadata": {},
   "source": [
    "<div class=\"alert alert-info\">\n",
    "    시험은 하나의 모델을 완성하고 그 결과물을 저장하는 것이 가장 중요하므로 성능이 떨어지는 단순한 기본 모형이라도 빠르게 완성을 한 뒤, 시간적 여유가 있을 때 다양한 모형을 실험해보거나 파라미터 튜닝을 하는 등의 작업이 필요하다는 것을 꼭 기억하자.\n",
    "</div>"
   ]
  }
 ],
 "metadata": {
  "kernelspec": {
   "display_name": "bigdata_certificate",
   "language": "python",
   "name": "python3"
  },
  "language_info": {
   "codemirror_mode": {
    "name": "ipython",
    "version": 3
   },
   "file_extension": ".py",
   "mimetype": "text/x-python",
   "name": "python",
   "nbconvert_exporter": "python",
   "pygments_lexer": "ipython3",
   "version": "3.11.5"
  },
  "orig_nbformat": 4
 },
 "nbformat": 4,
 "nbformat_minor": 2
}
