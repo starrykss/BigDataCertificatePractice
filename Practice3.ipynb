{
 "cells": [
  {
   "cell_type": "markdown",
   "metadata": {},
   "source": [
    "# Practice 3. 빅데이터 분석 실습 (작업형 제2유형)\n",
    "---"
   ]
  },
  {
   "cell_type": "markdown",
   "metadata": {},
   "source": [
    "## 📝 예제 문제 : Penguins"
   ]
  },
  {
   "cell_type": "markdown",
   "metadata": {},
   "source": [
    "- 2014년 남극 펭귄 공동체 내 생태학적 성적 이형성과 환경적 변동성에 관한 연구 데이터\n",
    "- 다양한 종의 펭귄들의 서식지와 주요 신체 크기와 무게에 대한 7가지 정도의 데이터로 이루어져 있다.\n",
    "- `Palmer's Penguin`이라는 데이터 세트로도 알려져 있으며, 시각화 패키지 중 하나인 `seaborn` 패키지에 예제 데이터 세트로 존재한다.\n",
    "- 이를 기반으로 펭귄의 무게를 예측하는 **회귀 분석**을 진행해보자."
   ]
  },
  {
   "cell_type": "markdown",
   "metadata": {},
   "source": [
    "### 제공 데이터 목록"
   ]
  },
  {
   "cell_type": "markdown",
   "metadata": {},
   "source": [
    "- `penguin_y_train.csv` : 펭귄의 무게 데이터(학습용), csv 형식\n",
    "- `penguin_X_train.csv`, `penguin_X_test.csv` : 펭귄의 속성(학습용 및 평가용), csv 형식"
   ]
  },
  {
   "cell_type": "code",
   "execution_count": 2,
   "metadata": {},
   "outputs": [
    {
     "ename": "NameError",
     "evalue": "name 'X_train' is not defined",
     "output_type": "error",
     "traceback": [
      "\u001b[0;31m---------------------------------------------------------------------------\u001b[0m",
      "\u001b[0;31mNameError\u001b[0m                                 Traceback (most recent call last)",
      "\u001b[1;32m/Users/sangsoonkim/Desktop/BigDataCertificatePractice/Practice3.ipynb Cell 6\u001b[0m line \u001b[0;36m1\n\u001b[0;32m----> <a href='vscode-notebook-cell:/Users/sangsoonkim/Desktop/BigDataCertificatePractice/Practice3.ipynb#X20sZmlsZQ%3D%3D?line=0'>1</a>\u001b[0m X_train\n",
      "\u001b[0;31mNameError\u001b[0m: name 'X_train' is not defined"
     ]
    }
   ],
   "source": [
    "X_train"
   ]
  },
  {
   "cell_type": "code",
   "execution_count": null,
   "metadata": {},
   "outputs": [
    {
     "data": {
      "text/html": [
       "<div>\n",
       "<style scoped>\n",
       "    .dataframe tbody tr th:only-of-type {\n",
       "        vertical-align: middle;\n",
       "    }\n",
       "\n",
       "    .dataframe tbody tr th {\n",
       "        vertical-align: top;\n",
       "    }\n",
       "\n",
       "    .dataframe thead th {\n",
       "        text-align: right;\n",
       "    }\n",
       "</style>\n",
       "<table border=\"1\" class=\"dataframe\">\n",
       "  <thead>\n",
       "    <tr style=\"text-align: right;\">\n",
       "      <th></th>\n",
       "      <th>body_mass_g</th>\n",
       "    </tr>\n",
       "  </thead>\n",
       "  <tbody>\n",
       "    <tr>\n",
       "      <th>0</th>\n",
       "      <td>4250.0</td>\n",
       "    </tr>\n",
       "    <tr>\n",
       "      <th>1</th>\n",
       "      <td>4650.0</td>\n",
       "    </tr>\n",
       "    <tr>\n",
       "      <th>2</th>\n",
       "      <td>4250.0</td>\n",
       "    </tr>\n",
       "    <tr>\n",
       "      <th>3</th>\n",
       "      <td>4500.0</td>\n",
       "    </tr>\n",
       "    <tr>\n",
       "      <th>4</th>\n",
       "      <td>5700.0</td>\n",
       "    </tr>\n",
       "    <tr>\n",
       "      <th>...</th>\n",
       "      <td>...</td>\n",
       "    </tr>\n",
       "    <tr>\n",
       "      <th>235</th>\n",
       "      <td>3800.0</td>\n",
       "    </tr>\n",
       "    <tr>\n",
       "      <th>236</th>\n",
       "      <td>5950.0</td>\n",
       "    </tr>\n",
       "    <tr>\n",
       "      <th>237</th>\n",
       "      <td>3200.0</td>\n",
       "    </tr>\n",
       "    <tr>\n",
       "      <th>238</th>\n",
       "      <td>3575.0</td>\n",
       "    </tr>\n",
       "    <tr>\n",
       "      <th>239</th>\n",
       "      <td>4700.0</td>\n",
       "    </tr>\n",
       "  </tbody>\n",
       "</table>\n",
       "<p>240 rows × 1 columns</p>\n",
       "</div>"
      ],
      "text/plain": [
       "     body_mass_g\n",
       "0         4250.0\n",
       "1         4650.0\n",
       "2         4250.0\n",
       "3         4500.0\n",
       "4         5700.0\n",
       "..           ...\n",
       "235       3800.0\n",
       "236       5950.0\n",
       "237       3200.0\n",
       "238       3575.0\n",
       "239       4700.0\n",
       "\n",
       "[240 rows x 1 columns]"
      ]
     },
     "execution_count": 8,
     "metadata": {},
     "output_type": "execute_result"
    }
   ],
   "source": [
    "y_train"
   ]
  },
  {
   "cell_type": "code",
   "execution_count": null,
   "metadata": {},
   "outputs": [
    {
     "data": {
      "text/html": [
       "<div>\n",
       "<style scoped>\n",
       "    .dataframe tbody tr th:only-of-type {\n",
       "        vertical-align: middle;\n",
       "    }\n",
       "\n",
       "    .dataframe tbody tr th {\n",
       "        vertical-align: top;\n",
       "    }\n",
       "\n",
       "    .dataframe thead th {\n",
       "        text-align: right;\n",
       "    }\n",
       "</style>\n",
       "<table border=\"1\" class=\"dataframe\">\n",
       "  <thead>\n",
       "    <tr style=\"text-align: right;\">\n",
       "      <th></th>\n",
       "      <th>species</th>\n",
       "      <th>island</th>\n",
       "      <th>sex</th>\n",
       "      <th>bill_length_mm</th>\n",
       "      <th>bill_depth_mm</th>\n",
       "      <th>flipper_length_mm</th>\n",
       "    </tr>\n",
       "  </thead>\n",
       "  <tbody>\n",
       "    <tr>\n",
       "      <th>0</th>\n",
       "      <td>Adelie</td>\n",
       "      <td>Torgersen</td>\n",
       "      <td>MALE</td>\n",
       "      <td>42.1</td>\n",
       "      <td>19.1</td>\n",
       "      <td>195.0</td>\n",
       "    </tr>\n",
       "    <tr>\n",
       "      <th>1</th>\n",
       "      <td>Gentoo</td>\n",
       "      <td>Biscoe</td>\n",
       "      <td>MALE</td>\n",
       "      <td>45.5</td>\n",
       "      <td>15.0</td>\n",
       "      <td>220.0</td>\n",
       "    </tr>\n",
       "    <tr>\n",
       "      <th>2</th>\n",
       "      <td>Adelie</td>\n",
       "      <td>Biscoe</td>\n",
       "      <td>MALE</td>\n",
       "      <td>40.6</td>\n",
       "      <td>18.8</td>\n",
       "      <td>193.0</td>\n",
       "    </tr>\n",
       "    <tr>\n",
       "      <th>3</th>\n",
       "      <td>Adelie</td>\n",
       "      <td>Dream</td>\n",
       "      <td>FEMALE</td>\n",
       "      <td>39.5</td>\n",
       "      <td>17.8</td>\n",
       "      <td>188.0</td>\n",
       "    </tr>\n",
       "    <tr>\n",
       "      <th>4</th>\n",
       "      <td>Gentoo</td>\n",
       "      <td>Biscoe</td>\n",
       "      <td>FEMALE</td>\n",
       "      <td>45.1</td>\n",
       "      <td>14.5</td>\n",
       "      <td>207.0</td>\n",
       "    </tr>\n",
       "    <tr>\n",
       "      <th>...</th>\n",
       "      <td>...</td>\n",
       "      <td>...</td>\n",
       "      <td>...</td>\n",
       "      <td>...</td>\n",
       "      <td>...</td>\n",
       "      <td>...</td>\n",
       "    </tr>\n",
       "    <tr>\n",
       "      <th>96</th>\n",
       "      <td>Gentoo</td>\n",
       "      <td>Biscoe</td>\n",
       "      <td>MALE</td>\n",
       "      <td>45.2</td>\n",
       "      <td>15.8</td>\n",
       "      <td>215.0</td>\n",
       "    </tr>\n",
       "    <tr>\n",
       "      <th>97</th>\n",
       "      <td>Adelie</td>\n",
       "      <td>Torgersen</td>\n",
       "      <td>FEMALE</td>\n",
       "      <td>40.3</td>\n",
       "      <td>18.0</td>\n",
       "      <td>195.0</td>\n",
       "    </tr>\n",
       "    <tr>\n",
       "      <th>98</th>\n",
       "      <td>Gentoo</td>\n",
       "      <td>Biscoe</td>\n",
       "      <td>FEMALE</td>\n",
       "      <td>46.5</td>\n",
       "      <td>14.5</td>\n",
       "      <td>213.0</td>\n",
       "    </tr>\n",
       "    <tr>\n",
       "      <th>99</th>\n",
       "      <td>Gentoo</td>\n",
       "      <td>Biscoe</td>\n",
       "      <td>MALE</td>\n",
       "      <td>49.6</td>\n",
       "      <td>15.0</td>\n",
       "      <td>216.0</td>\n",
       "    </tr>\n",
       "    <tr>\n",
       "      <th>100</th>\n",
       "      <td>Adelie</td>\n",
       "      <td>Torgersen</td>\n",
       "      <td>FEMALE</td>\n",
       "      <td>39.6</td>\n",
       "      <td>17.2</td>\n",
       "      <td>196.0</td>\n",
       "    </tr>\n",
       "  </tbody>\n",
       "</table>\n",
       "<p>101 rows × 6 columns</p>\n",
       "</div>"
      ],
      "text/plain": [
       "    species     island     sex  bill_length_mm  bill_depth_mm  \\\n",
       "0    Adelie  Torgersen    MALE            42.1           19.1   \n",
       "1    Gentoo     Biscoe    MALE            45.5           15.0   \n",
       "2    Adelie     Biscoe    MALE            40.6           18.8   \n",
       "3    Adelie      Dream  FEMALE            39.5           17.8   \n",
       "4    Gentoo     Biscoe  FEMALE            45.1           14.5   \n",
       "..      ...        ...     ...             ...            ...   \n",
       "96   Gentoo     Biscoe    MALE            45.2           15.8   \n",
       "97   Adelie  Torgersen  FEMALE            40.3           18.0   \n",
       "98   Gentoo     Biscoe  FEMALE            46.5           14.5   \n",
       "99   Gentoo     Biscoe    MALE            49.6           15.0   \n",
       "100  Adelie  Torgersen  FEMALE            39.6           17.2   \n",
       "\n",
       "     flipper_length_mm  \n",
       "0                195.0  \n",
       "1                220.0  \n",
       "2                193.0  \n",
       "3                188.0  \n",
       "4                207.0  \n",
       "..                 ...  \n",
       "96               215.0  \n",
       "97               195.0  \n",
       "98               213.0  \n",
       "99               216.0  \n",
       "100              196.0  \n",
       "\n",
       "[101 rows x 6 columns]"
      ]
     },
     "execution_count": 7,
     "metadata": {},
     "output_type": "execute_result"
    }
   ],
   "source": [
    "X_test"
   ]
  },
  {
   "cell_type": "markdown",
   "metadata": {},
   "source": [
    "## 👨🏻‍💻 문제 풀기"
   ]
  },
  {
   "cell_type": "markdown",
   "metadata": {},
   "source": [
    "### 패키지, 데이터 불러오기"
   ]
  },
  {
   "cell_type": "code",
   "execution_count": 3,
   "metadata": {},
   "outputs": [
    {
     "name": "stdout",
     "output_type": "stream",
     "text": [
      "Intel MKL WARNING: Support of Intel(R) Streaming SIMD Extensions 4.2 (Intel(R) SSE4.2) enabled only processors has been deprecated. Intel oneAPI Math Kernel Library 2025.0 will require Intel(R) Advanced Vector Extensions (Intel(R) AVX) instructions.\n",
      "Intel MKL WARNING: Support of Intel(R) Streaming SIMD Extensions 4.2 (Intel(R) SSE4.2) enabled only processors has been deprecated. Intel oneAPI Math Kernel Library 2025.0 will require Intel(R) Advanced Vector Extensions (Intel(R) AVX) instructions.\n"
     ]
    }
   ],
   "source": [
    "import pandas as pd\n",
    "import numpy as np\n",
    "import warnings\n",
    "\n",
    "warnings.filterwarnings('ignore')    # 코드 실행에 직접적인 문제가 되지 않는 경고 문구 무시하기"
   ]
  },
  {
   "cell_type": "code",
   "execution_count": 4,
   "metadata": {},
   "outputs": [],
   "source": [
    "X_test = pd.read_csv('./datasets/Part2/penguin_X_test.csv')\n",
    "X_train = pd.read_csv('./datasets/Part2/penguin_X_train.csv')\n",
    "y_train = pd.read_csv('./datasets/Part2/penguin_y_train.csv')"
   ]
  },
  {
   "cell_type": "markdown",
   "metadata": {},
   "source": [
    "### 데이터 전처리"
   ]
  },
  {
   "cell_type": "code",
   "execution_count": 5,
   "metadata": {},
   "outputs": [
    {
     "name": "stdout",
     "output_type": "stream",
     "text": [
      "<class 'pandas.core.frame.DataFrame'>\n",
      "RangeIndex: 240 entries, 0 to 239\n",
      "Data columns (total 6 columns):\n",
      " #   Column             Non-Null Count  Dtype  \n",
      "---  ------             --------------  -----  \n",
      " 0   species            240 non-null    object \n",
      " 1   island             240 non-null    object \n",
      " 2   sex                232 non-null    object \n",
      " 3   bill_length_mm     238 non-null    float64\n",
      " 4   bill_depth_mm      238 non-null    float64\n",
      " 5   flipper_length_mm  238 non-null    float64\n",
      "dtypes: float64(3), object(3)\n",
      "memory usage: 11.4+ KB\n",
      "None\n"
     ]
    }
   ],
   "source": [
    "print(X_train.info())"
   ]
  },
  {
   "cell_type": "markdown",
   "metadata": {},
   "source": [
    "<div class=\"alert alert-success\">\n",
    "    240개의 행과 6개의 컬럼으로 이루어져 있다. 6개의 변수를 독립 변수로 두고 분석을 진행한다. <br/> \n",
    "    sex에 8개, bill_length_mm, bill_depth_mm, flipper_length_mm에 각각 2개의 결측치가 있음을 확인할 수 있다. <br/>\n",
    "</div>"
   ]
  },
  {
   "cell_type": "markdown",
   "metadata": {},
   "source": [
    "- 결측치가 존재하는 데이터를 직접 확인해본다."
   ]
  },
  {
   "cell_type": "code",
   "execution_count": 6,
   "metadata": {},
   "outputs": [
    {
     "name": "stdout",
     "output_type": "stream",
     "text": [
      "    species     island  sex  bill_length_mm  bill_depth_mm  flipper_length_mm  \\\n",
      "0    Adelie  Torgersen  NaN            42.0           20.2              190.0   \n",
      "6    Gentoo     Biscoe  NaN            44.5           14.3              216.0   \n",
      "43   Gentoo     Biscoe  NaN             NaN            NaN                NaN   \n",
      "66   Adelie  Torgersen  NaN            37.8           17.3              180.0   \n",
      "88   Gentoo     Biscoe  NaN            47.3           13.8              216.0   \n",
      "89   Adelie  Torgersen  NaN            37.8           17.1              186.0   \n",
      "110  Gentoo     Biscoe  NaN            44.5           15.7              217.0   \n",
      "229  Adelie  Torgersen  NaN             NaN            NaN                NaN   \n",
      "\n",
      "     body_mass_g  \n",
      "0         4250.0  \n",
      "6         4100.0  \n",
      "43           NaN  \n",
      "66        3700.0  \n",
      "88        4725.0  \n",
      "89        3300.0  \n",
      "110       4875.0  \n",
      "229          NaN  \n"
     ]
    }
   ],
   "source": [
    "train = pd.concat([X_train, y_train], axis=1)    # y_train 데이터를 포함하여 결측치 확인을 해야 한다. axis=1 조건을 넣었기 때문에 두 데이터프레임이 좌우로 붙는다.\n",
    "print(train.loc[(train.sex.isna()) | (train.bill_length_mm.isna()) | (train.bill_depth_mm.isna()) | (train.flipper_length_mm.isna()) | (train.body_mass_g.isna())])"
   ]
  },
  {
   "cell_type": "markdown",
   "metadata": {},
   "source": [
    "- 8개의 결측치를 제거하는 방식을 선택했다."
   ]
  },
  {
   "cell_type": "code",
   "execution_count": 7,
   "metadata": {},
   "outputs": [],
   "source": [
    "train = train.dropna()\n",
    "train.reset_index(drop=True, inplace=True)    # 제거된 행의 인덱스가 비어 있는 상태로 데이터가 유지되므로, 인덱스를 초기화한다."
   ]
  },
  {
   "cell_type": "markdown",
   "metadata": {},
   "source": [
    "- 결측치 처리를 완료했으므로 붙였던 학습용 데이터를 다시 **독립 변수(`X`)** 와 **종속 변수(`y`)** 로 분리시킨다."
   ]
  },
  {
   "cell_type": "code",
   "execution_count": 8,
   "metadata": {},
   "outputs": [],
   "source": [
    "X_train = train[['species', 'island', 'sex', 'bill_length_mm', 'bill_depth_mm', 'flipper_length_mm']]\n",
    "y_train = train[['body_mass_g']]"
   ]
  },
  {
   "cell_type": "code",
   "execution_count": 9,
   "metadata": {},
   "outputs": [
    {
     "name": "stdout",
     "output_type": "stream",
     "text": [
      "       bill_length_mm  bill_depth_mm  flipper_length_mm\n",
      "count      232.000000     232.000000         232.000000\n",
      "mean        43.990948      17.226293         200.681034\n",
      "std          5.509760       1.964677          14.064231\n",
      "min         32.100000      13.200000         172.000000\n",
      "25%         39.200000      15.700000         190.000000\n",
      "50%         44.950000      17.350000         197.000000\n",
      "75%         48.775000      18.725000         212.250000\n",
      "max         58.000000      21.500000         231.000000\n"
     ]
    }
   ],
   "source": [
    "print(X_train.describe())"
   ]
  },
  {
   "cell_type": "markdown",
   "metadata": {},
   "source": [
    "- 이상치가 없는 것으로 보이며, 각 수치형 변수의 범위가 상이하기 때문에 추후 스케일링이 필요한 것을 확인할 수 있다."
   ]
  },
  {
   "cell_type": "code",
   "execution_count": 10,
   "metadata": {},
   "outputs": [],
   "source": [
    "COL_DEL = []\n",
    "COL_NUM = ['bill_length_mm', 'bill_depth_mm', 'flipper_length_mm']    # 수치형 변수\n",
    "COL_CAT = ['species', 'island', 'sex']    # 범주형 변수\n",
    "COL_Y = ['body_mass_g']"
   ]
  },
  {
   "cell_type": "markdown",
   "metadata": {},
   "source": [
    "- 수치형 변수는 모델링을 진행하면서 스케일링을 진행할 예정이다.\n",
    "    - 스케일링은 평균과 분산에 영향을 줄 수 있기 때문에 학습 데이터로만 진행한다.\n",
    "- 범주형 변수에 대해 레이블 인코딩이 필요하다.\n",
    "    - 레이블 인코딩은 현재 단계에서 모든 데이터를 포함하여 진행한다."
   ]
  },
  {
   "cell_type": "code",
   "execution_count": 11,
   "metadata": {},
   "outputs": [],
   "source": [
    "X = pd.concat([X_train, X_test])    # axis=1 조건을 넣지 않아 기본으로 설정된 조건에 따라 상하로 붙는다.\n",
    "\n",
    "from sklearn.preprocessing import OneHotEncoder\n",
    "\n",
    "ohe = OneHotEncoder(handle_unknown='ignore')\n",
    "ohe.fit(X[COL_CAT])\n",
    "\n",
    "X_train_res = ohe.transform(X_train[COL_CAT])    # 학습 데이터\n",
    "X_test_res = ohe.transform(X_test[COL_CAT])    # 테스트 데이터"
   ]
  },
  {
   "cell_type": "code",
   "execution_count": 12,
   "metadata": {},
   "outputs": [
    {
     "name": "stdout",
     "output_type": "stream",
     "text": [
      "  (0, 2)\t1.0\n",
      "  (0, 3)\t1.0\n",
      "  (0, 6)\t1.0\n",
      "  (1, 0)\t1.0\n",
      "  (1, 5)\t1.0\n",
      "  (1, 7)\t1.0\n",
      "  (2, 1)\t1.0\n",
      "  (2, 4)\t1.0\n",
      "  (2, 7)\t1.0\n",
      "  (3, 2)\t1.0\n",
      "  (3, 3)\t1.0\n",
      "  (3, 7)\t1.0\n",
      "  (4, 0)\t1.0\n",
      "  (4, 4)\t1.0\n",
      "  (4, 6)\t1.0\n",
      "  (5, 2)\t1.0\n",
      "  (5, 3)\t1.0\n",
      "  (5, 7)\t1.0\n",
      "  (6, 2)\t1.0\n",
      "  (6, 3)\t1.0\n",
      "  (6, 6)\t1.0\n",
      "  (7, 0)\t1.0\n",
      "  (7, 5)\t1.0\n",
      "  (7, 6)\t1.0\n",
      "  (8, 2)\t1.0\n",
      "  :\t:\n",
      "  (223, 6)\t1.0\n",
      "  (224, 2)\t1.0\n",
      "  (224, 3)\t1.0\n",
      "  (224, 7)\t1.0\n",
      "  (225, 0)\t1.0\n",
      "  (225, 4)\t1.0\n",
      "  (225, 7)\t1.0\n",
      "  (226, 1)\t1.0\n",
      "  (226, 4)\t1.0\n",
      "  (226, 7)\t1.0\n",
      "  (227, 1)\t1.0\n",
      "  (227, 4)\t1.0\n",
      "  (227, 6)\t1.0\n",
      "  (228, 2)\t1.0\n",
      "  (228, 3)\t1.0\n",
      "  (228, 7)\t1.0\n",
      "  (229, 0)\t1.0\n",
      "  (229, 5)\t1.0\n",
      "  (229, 6)\t1.0\n",
      "  (230, 1)\t1.0\n",
      "  (230, 4)\t1.0\n",
      "  (230, 6)\t1.0\n",
      "  (231, 2)\t1.0\n",
      "  (231, 3)\t1.0\n",
      "  (231, 6)\t1.0\n"
     ]
    }
   ],
   "source": [
    "print(X_train_res)"
   ]
  },
  {
   "cell_type": "markdown",
   "metadata": {},
   "source": [
    "- `transform`된 데이터는 `numpy array`로 만들어진 데이터이며, 기존에 사용하던 데이터프레임이 아닌 특정 행렬 좌표에 1, 0 값이 존재한다는 방식으로 표현한 희소 행렬을 효율적으로 줄여서 표현한 데이터이다.\n",
    "- 이것을 기존의 데이터에 적용하기 위해서는 데이터프레임으로 변환시키는 작업이 필요하다."
   ]
  },
  {
   "cell_type": "code",
   "execution_count": 15,
   "metadata": {},
   "outputs": [
    {
     "name": "stdout",
     "output_type": "stream",
     "text": [
      "     species_Adelie  species_Chinstrap  species_Gentoo  island_Biscoe  \\\n",
      "0               0.0                0.0             1.0            1.0   \n",
      "1               1.0                0.0             0.0            0.0   \n",
      "2               0.0                1.0             0.0            0.0   \n",
      "3               0.0                0.0             1.0            1.0   \n",
      "4               1.0                0.0             0.0            0.0   \n",
      "..              ...                ...             ...            ...   \n",
      "227             0.0                1.0             0.0            0.0   \n",
      "228             0.0                0.0             1.0            1.0   \n",
      "229             1.0                0.0             0.0            0.0   \n",
      "230             0.0                1.0             0.0            0.0   \n",
      "231             0.0                0.0             1.0            1.0   \n",
      "\n",
      "     island_Dream  island_Torgersen  sex_FEMALE  sex_MALE  \n",
      "0             0.0               0.0         1.0       0.0  \n",
      "1             0.0               1.0         0.0       1.0  \n",
      "2             1.0               0.0         0.0       1.0  \n",
      "3             0.0               0.0         0.0       1.0  \n",
      "4             1.0               0.0         1.0       0.0  \n",
      "..            ...               ...         ...       ...  \n",
      "227           1.0               0.0         1.0       0.0  \n",
      "228           0.0               0.0         0.0       1.0  \n",
      "229           0.0               1.0         1.0       0.0  \n",
      "230           1.0               0.0         1.0       0.0  \n",
      "231           0.0               0.0         1.0       0.0  \n",
      "\n",
      "[232 rows x 8 columns]\n"
     ]
    }
   ],
   "source": [
    "X_train_ohe = pd.DataFrame(X_train_res.todense(), columns=ohe.get_feature_names_out())    # todense 함수를 붙이고 get_feature_names_out 함수를 사용하여 변환된 범주형 변수를 만들 수 있다.\n",
    "X_test_ohe = pd.DataFrame(X_test_res.todense(), columns=ohe.get_feature_names_out())\n",
    "print(X_train_ohe)"
   ]
  },
  {
   "cell_type": "markdown",
   "metadata": {},
   "source": [
    "- `OneHotEncoding`을 통해 생성한 데이터와 수치형 변수로만 이루어진 두 데이터를 `concat` 함수를 통해 합쳐준다."
   ]
  },
  {
   "cell_type": "code",
   "execution_count": 16,
   "metadata": {},
   "outputs": [],
   "source": [
    "X_train_fin = pd.concat([X_train[COL_NUM], X_train_ohe], axis=1)\n",
    "X_test_fin = pd.concat([X_test[COL_NUM], X_test_ohe], axis=1)"
   ]
  },
  {
   "cell_type": "markdown",
   "metadata": {},
   "source": [
    "### 데이터 모형 구축"
   ]
  },
  {
   "cell_type": "markdown",
   "metadata": {},
   "source": [
    "#### 데이터 분할"
   ]
  },
  {
   "cell_type": "code",
   "execution_count": 17,
   "metadata": {},
   "outputs": [],
   "source": [
    "from sklearn.model_selection import train_test_split\n",
    "\n",
    "X_tr, X_val, y_tr, y_val = train_test_split(X_train_fin, y_train, test_size=0.3)"
   ]
  },
  {
   "cell_type": "markdown",
   "metadata": {},
   "source": [
    "#### 스케일링"
   ]
  },
  {
   "cell_type": "markdown",
   "metadata": {},
   "source": [
    "- 수치형 변수에 대해 스케일링을 진행한다."
   ]
  },
  {
   "cell_type": "code",
   "execution_count": 18,
   "metadata": {},
   "outputs": [],
   "source": [
    "from sklearn.preprocessing import MinMaxScaler\n",
    "\n",
    "scaler = MinMaxScaler()\n",
    "scaler.fit(X_tr[COL_NUM])\n",
    "\n",
    "X_tr[COL_NUM] = scaler.transform(X_tr[COL_NUM])\n",
    "X_val[COL_NUM] = scaler.transform(X_val[COL_NUM])\n",
    "X_test_fin[COL_NUM] = scaler.transform(X_test_fin[COL_NUM])\n"
   ]
  },
  {
   "cell_type": "markdown",
   "metadata": {},
   "source": [
    "<div class=\"alert alert-warning\">\n",
    "    fit 함수를 사용할 때는 X_tr 데이터만을 사용하도록 한다. 그래야만 평균과 분산에 영향을 미치는 데이터 누수가 발생하지 않는다.\n",
    "</div>"
   ]
  },
  {
   "cell_type": "markdown",
   "metadata": {},
   "source": [
    "### 모델 학습"
   ]
  },
  {
   "cell_type": "code",
   "execution_count": 19,
   "metadata": {},
   "outputs": [
    {
     "name": "stdout",
     "output_type": "stream",
     "text": [
      "[[3424.]\n",
      " [4280.]\n",
      " [4668.]\n",
      " [5316.]\n",
      " [3936.]\n",
      " [4076.]\n",
      " [5268.]\n",
      " [4112.]\n",
      " [4196.]\n",
      " [4048.]\n",
      " [3876.]\n",
      " [3316.]\n",
      " [4340.]\n",
      " [3372.]\n",
      " [4952.]\n",
      " [3344.]\n",
      " [3900.]\n",
      " [3392.]\n",
      " [4180.]\n",
      " [4632.]\n",
      " [3900.]\n",
      " [5368.]\n",
      " [3460.]\n",
      " [3760.]\n",
      " [4084.]\n",
      " [3556.]\n",
      " [5384.]\n",
      " [5392.]\n",
      " [3924.]\n",
      " [3304.]\n",
      " [4176.]\n",
      " [3468.]\n",
      " [3568.]\n",
      " [5240.]\n",
      " [3924.]\n",
      " [3496.]\n",
      " [5416.]\n",
      " [3096.]\n",
      " [4712.]\n",
      " [5516.]\n",
      " [3292.]\n",
      " [3476.]\n",
      " [4140.]\n",
      " [3400.]\n",
      " [5652.]\n",
      " [3320.]\n",
      " [4724.]\n",
      " [3300.]\n",
      " [3860.]\n",
      " [5376.]\n",
      " [3340.]\n",
      " [3312.]\n",
      " [5428.]\n",
      " [4996.]\n",
      " [3104.]\n",
      " [4724.]\n",
      " [4720.]\n",
      " [3296.]\n",
      " [4148.]\n",
      " [4032.]\n",
      " [5520.]\n",
      " [4268.]\n",
      " [4596.]\n",
      " [3696.]\n",
      " [4856.]\n",
      " [3472.]\n",
      " [4816.]\n",
      " [4812.]\n",
      " [5332.]\n",
      " [5408.]]\n"
     ]
    }
   ],
   "source": [
    "from sklearn.linear_model import LinearRegression\n",
    "\n",
    "modelLR = LinearRegression()\n",
    "modelLR.fit(X_tr, y_tr)\n",
    "\n",
    "y_val_pred = modelLR.predict(X_val)\n",
    "print(y_val_pred)"
   ]
  },
  {
   "cell_type": "code",
   "execution_count": 20,
   "metadata": {},
   "outputs": [
    {
     "name": "stdout",
     "output_type": "stream",
     "text": [
      "[2.46357982e+16]\n",
      "species_Chinstrap   -2.373728e+16\n",
      "species_Adelie      -2.373728e+16\n",
      "species_Gentoo      -2.373728e+16\n",
      "island_Dream        -8.985170e+14\n",
      "island_Torgersen    -8.985170e+14\n",
      "island_Biscoe       -8.985170e+14\n",
      "sex_FEMALE          -1.853699e+02\n",
      "sex_MALE             1.773699e+02\n",
      "bill_depth_mm        3.719805e+02\n",
      "bill_length_mm       7.234520e+02\n",
      "flipper_length_mm    9.738607e+02\n",
      "dtype: float64\n"
     ]
    }
   ],
   "source": [
    "print(modelLR.intercept_)    # 절편 구하기\n",
    "\n",
    "# 기울기 구하기\n",
    "coef = pd.Series(data=modelLR.coef_[0], index=X_train_fin.columns)\n",
    "print(coef.sort_values()) "
   ]
  },
  {
   "cell_type": "code",
   "execution_count": null,
   "metadata": {},
   "outputs": [],
   "source": []
  }
 ],
 "metadata": {
  "kernelspec": {
   "display_name": "bigdata_certificate",
   "language": "python",
   "name": "python3"
  },
  "language_info": {
   "codemirror_mode": {
    "name": "ipython",
    "version": 3
   },
   "file_extension": ".py",
   "mimetype": "text/x-python",
   "name": "python",
   "nbconvert_exporter": "python",
   "pygments_lexer": "ipython3",
   "version": "3.11.5"
  },
  "orig_nbformat": 4
 },
 "nbformat": 4,
 "nbformat_minor": 2
}
