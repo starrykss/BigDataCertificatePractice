{
 "cells": [
  {
   "cell_type": "markdown",
   "metadata": {},
   "source": [
    "# <a id='toc1_'></a>[NumPy Tutorial](#toc0_)\n",
    "---"
   ]
  },
  {
   "cell_type": "markdown",
   "metadata": {},
   "source": [
    "**Table of contents**<a id='toc0_'></a>    \n",
    "- [NumPy Tutorial](#toc1_)    \n",
    "  - [(1) NumPy 배열 생성](#toc1_1_)    \n",
    "  - [(2) Numpy 배열 초기화](#toc1_2_)    \n",
    "  - [(3) NumPy 배열 크기 변형](#toc1_3_)    \n",
    "  - [(4) NumPy 배열 데이터 추출하기](#toc1_4_)    \n",
    "    - [인덱싱(Indexing)](#toc1_4_1_)    \n",
    "    - [슬라이싱(Slicing)](#toc1_4_2_)    \n",
    "  - [(5) NumPy 선형 대수 기본 연산](#toc1_5_)    \n",
    "    - [행렬 내적(행렬 곱)](#toc1_5_1_)    \n",
    "    - [전치 행렬](#toc1_5_2_)    \n",
    "  - [(6) NumPy 기술 통계](#toc1_6_)    \n",
    "    - [배열 데이터 개수](#toc1_6_1_)    \n",
    "    - [평균, 분산, 표준편차](#toc1_6_2_)    \n",
    "    - [최댓값, 최솟값, 중앙값](#toc1_6_3_)    \n",
    "    - [사분위수](#toc1_6_4_)    \n",
    "\n",
    "<!-- vscode-jupyter-toc-config\n",
    "\tnumbering=false\n",
    "\tanchor=true\n",
    "\tflat=false\n",
    "\tminLevel=1\n",
    "\tmaxLevel=6\n",
    "\t/vscode-jupyter-toc-config -->\n",
    "<!-- THIS CELL WILL BE REPLACED ON TOC UPDATE. DO NOT WRITE YOUR TEXT IN THIS CELL -->"
   ]
  },
  {
   "cell_type": "markdown",
   "metadata": {},
   "source": [
    "---"
   ]
  },
  {
   "cell_type": "markdown",
   "metadata": {},
   "source": [
    "## <a id='toc1_1_'></a>[(1) NumPy 배열 생성](#toc0_)"
   ]
  },
  {
   "cell_type": "code",
   "execution_count": 1,
   "metadata": {},
   "outputs": [],
   "source": [
    "import numpy as np"
   ]
  },
  {
   "cell_type": "code",
   "execution_count": 3,
   "metadata": {},
   "outputs": [
    {
     "name": "stdout",
     "output_type": "stream",
     "text": [
      "[1 2 3]\n",
      "array1 type :  <class 'numpy.ndarray'>\n",
      "array1 shape :  (3,)\n",
      "\n",
      "[[1 2 3]\n",
      " [4 5 6]]\n",
      "array2 type :  <class 'numpy.ndarray'>\n",
      "array2 shape :  (2, 3)\n",
      "\n",
      "[[1 2 3]]\n",
      "array3 type :  <class 'numpy.ndarray'>\n",
      "array3 shape :  (1, 3)\n"
     ]
    }
   ],
   "source": [
    "# NumPy 배열 생성 및 타입, 크기 확인\n",
    "a1 = np.array([1, 2, 3])\n",
    "print(a1)\n",
    "print(\"array1 type : \", type(a1))\n",
    "print(\"array1 shape : \", a1.shape)\n",
    "\n",
    "print()\n",
    "\n",
    "a2 = np.array([[1, 2, 3], [4, 5, 6]])\n",
    "print(a2)\n",
    "print(\"array2 type : \", type(a2))\n",
    "print(\"array2 shape : \", a2.shape)\n",
    "\n",
    "print()\n",
    "\n",
    "a3 = np.array([[1, 2, 3]])\n",
    "print(a3)\n",
    "print(\"array3 type : \", type(a3))\n",
    "print(\"array3 shape : \", a3.shape)"
   ]
  },
  {
   "cell_type": "code",
   "execution_count": 4,
   "metadata": {},
   "outputs": [
    {
     "name": "stdout",
     "output_type": "stream",
     "text": [
      "array1 dim :  1\n",
      "array2 dim :  2\n",
      "array3 dim :  2\n"
     ]
    }
   ],
   "source": [
    "# 차원 출력\n",
    "print(\"array1 dim : \", a1.ndim)\n",
    "print(\"array2 dim : \", a2.ndim)\n",
    "print(\"array3 dim : \", a3.ndim)"
   ]
  },
  {
   "cell_type": "markdown",
   "metadata": {},
   "source": [
    "- `np.arange(x)` 함수를 사용하여 `0`부터 `(x-1)`까지의 값을 순차적 배열의 데이터 값으로 생성할 수 있다."
   ]
  },
  {
   "cell_type": "code",
   "execution_count": 5,
   "metadata": {},
   "outputs": [
    {
     "name": "stdout",
     "output_type": "stream",
     "text": [
      "[ 0  1  2  3  4  5  6  7  8  9 10 11 12 13 14 15 16 17 18 19]\n"
     ]
    }
   ],
   "source": [
    "a = np.arange(20)\n",
    "print(a)"
   ]
  },
  {
   "cell_type": "code",
   "execution_count": 6,
   "metadata": {},
   "outputs": [
    {
     "name": "stdout",
     "output_type": "stream",
     "text": [
      "[ 1  4  7 10 13 16 19]\n"
     ]
    }
   ],
   "source": [
    "a = np.arange(1, 20, 3)    # 1 <= x < 20, 간격 : 3\n",
    "print(a)"
   ]
  },
  {
   "cell_type": "markdown",
   "metadata": {},
   "source": [
    "## <a id='toc1_2_'></a>[(2) Numpy 배열 초기화](#toc0_)"
   ]
  },
  {
   "cell_type": "code",
   "execution_count": 7,
   "metadata": {},
   "outputs": [
    {
     "name": "stdout",
     "output_type": "stream",
     "text": [
      "[[0. 0. 0. 0. 0.]\n",
      " [0. 0. 0. 0. 0.]]\n",
      "[[1. 1. 1. 1.]\n",
      " [1. 1. 1. 1.]\n",
      " [1. 1. 1. 1.]]\n"
     ]
    }
   ],
   "source": [
    "zero_a = np.zeros((2, 5))    # 0으로 채워진 2x5 형태의 배열 생성\n",
    "one_a = np.ones((3, 4))    # 1로 채워진 3x4 형태의 배열 생성\n",
    "\n",
    "print(zero_a)\n",
    "print(one_a)"
   ]
  },
  {
   "cell_type": "code",
   "execution_count": 8,
   "metadata": {},
   "outputs": [
    {
     "name": "stdout",
     "output_type": "stream",
     "text": [
      "[[0. 0. 0. 0.]\n",
      " [0. 0. 0. 0.]\n",
      " [0. 0. 0. 0.]]\n"
     ]
    }
   ],
   "source": [
    "zero_b = np.zeros_like(one_a)    # 이미 생성된 배열의 구조(3x4)와 동일한 구조를 유지한 상태에서 0으로 초기화\n",
    "\n",
    "print(zero_b)"
   ]
  },
  {
   "cell_type": "code",
   "execution_count": 9,
   "metadata": {},
   "outputs": [
    {
     "name": "stdout",
     "output_type": "stream",
     "text": [
      "[[1. 1. 1. 1. 1.]\n",
      " [1. 1. 1. 1. 1.]]\n"
     ]
    }
   ],
   "source": [
    "one_b = np.ones_like(zero_a)    # 이미 생성된 배열의 구조(3x4)와 동일한 구조를 유지한 상태에서 1로 초기화\n",
    "\n",
    "print(one_b)"
   ]
  },
  {
   "cell_type": "code",
   "execution_count": 10,
   "metadata": {},
   "outputs": [
    {
     "name": "stdout",
     "output_type": "stream",
     "text": [
      "[[9 9 9]\n",
      " [9 9 9]\n",
      " [9 9 9]\n",
      " [9 9 9]]\n",
      "[[0.00680251 0.64246597 0.69947296 0.62301808]\n",
      " [0.75618663 0.63781803 0.72913366 0.34346381]\n",
      " [0.23088761 0.84584517 0.61568945 0.64637078]]\n"
     ]
    }
   ],
   "source": [
    "full_a = np.full((4, 3), 9)    # 모든 값이 9인 4x3 형태의 배열 생성\n",
    "random_a = np.random.random((3, 4))    # 모든 값이 랜덤값인 3x4 형태의 배열 생성\n",
    "\n",
    "print(full_a)\n",
    "print(random_a)"
   ]
  },
  {
   "cell_type": "code",
   "execution_count": 11,
   "metadata": {},
   "outputs": [
    {
     "name": "stdout",
     "output_type": "stream",
     "text": [
      "[[1. 0. 0. 0.]\n",
      " [0. 1. 0. 0.]\n",
      " [0. 0. 1. 0.]\n",
      " [0. 0. 0. 1.]]\n"
     ]
    }
   ],
   "source": [
    "eye_a = np.eye(4)    # 주대각선이 1인 대각행렬 형태의 4x4 배열 생성\n",
    "\n",
    "print(eye_a)"
   ]
  },
  {
   "cell_type": "markdown",
   "metadata": {},
   "source": [
    "## <a id='toc1_3_'></a>[(3) NumPy 배열 크기 변형](#toc0_)"
   ]
  },
  {
   "cell_type": "markdown",
   "metadata": {},
   "source": [
    "- `reshape` 함수의 옵션으로 `order='F'`를 선언하면 값을 <ins>열</ins>부터 채워 넣는다.\n",
    "    - `order` 옵션을 사용하지 않거나 값을 `order='T'`로 선언하면 값을 <ins>행</ins>부터 채워 넣는다.\n",
    "- `reshape` 함수는 지정된 크기로 변경이 불가능하면 오류가 발생한다.\n",
    "    - 예) `(10, )` 배열을 `(4, 3)` 배열로 변경할 경우"
   ]
  },
  {
   "cell_type": "code",
   "execution_count": 12,
   "metadata": {},
   "outputs": [
    {
     "name": "stdout",
     "output_type": "stream",
     "text": [
      "array1 : \n",
      " [ 0  1  2  3  4  5  6  7  8  9 10 11]\n",
      "array2 : \n",
      " [[ 0  1  2  3]\n",
      " [ 4  5  6  7]\n",
      " [ 8  9 10 11]]\n",
      "array3 : \n",
      " [[ 0  3  6  9]\n",
      " [ 1  4  7 10]\n",
      " [ 2  5  8 11]]\n"
     ]
    }
   ],
   "source": [
    "array1 = np.arange(12)    # 1차원 형태의 배열 생성\n",
    "print(\"array1 : \\n\", array1)\n",
    "\n",
    "array2 = array1.reshape(3, 4)    # 3x4 형태로 배열 크기 변경 (값을 행부터 채워넣기(T, 생략 가능))\n",
    "print(\"array2 : \\n\", array2)\n",
    "\n",
    "array3 = array1.reshape(3, 4, order='F')    # 값을 열부터 채워넣기(F)\n",
    "print(\"array3 : \\n\", array3)"
   ]
  },
  {
   "cell_type": "markdown",
   "metadata": {},
   "source": [
    "- `reshape`을 사용할 때 인자로 `-1`을 입력하는 경우가 일반적인데, `-1`을 인자로 사용하면 원래 배열과 호환되는 크기로 자동으로 변환해준다."
   ]
  },
  {
   "cell_type": "code",
   "execution_count": 13,
   "metadata": {},
   "outputs": [
    {
     "name": "stdout",
     "output_type": "stream",
     "text": [
      "[[0 1 2 3 4]\n",
      " [5 6 7 8 9]]\n",
      "array2 dim :  2\n",
      "array2 shape :  (2, 5)\n"
     ]
    }
   ],
   "source": [
    "array1 = np.arange(10)\n",
    "array2 = array1.reshape(-1, 5)    # 원래 배열과 호환되는 크기로 자동으로 변환 (행: -1, 컬럼: 5)\n",
    "\n",
    "print(array2)\n",
    "print(\"array2 dim : \", array2.ndim)\n",
    "print(\"array2 shape : \", array2.shape)"
   ]
  },
  {
   "cell_type": "markdown",
   "metadata": {},
   "source": [
    "- `reshape`을 활용하면 다음과 같이 **다차원 배열**로도 변환이 가능하다."
   ]
  },
  {
   "cell_type": "code",
   "execution_count": 15,
   "metadata": {},
   "outputs": [
    {
     "name": "stdout",
     "output_type": "stream",
     "text": [
      "[[[ 0  6]\n",
      "  [ 2  8]\n",
      "  [ 4 10]]\n",
      "\n",
      " [[ 1  7]\n",
      "  [ 3  9]\n",
      "  [ 5 11]]]\n",
      "array2 dim :  3\n",
      "array2 shape :  (2, 3, 2)\n"
     ]
    }
   ],
   "source": [
    "array1 = np.arange(12)\n",
    "array2 = array1.reshape(2, 3, 2, order='F')    # 2차원 3x2 형태의 배열로 변환\n",
    "\n",
    "print(array2)\n",
    "print(\"array2 dim : \", array2.ndim)\n",
    "print(\"array2 shape : \", array2.shape)"
   ]
  },
  {
   "cell_type": "markdown",
   "metadata": {},
   "source": [
    "- 현재까지 구성한 다차원 배열을 **1차원 배열**로 만들 수 있다."
   ]
  },
  {
   "cell_type": "code",
   "execution_count": 16,
   "metadata": {},
   "outputs": [
    {
     "name": "stdout",
     "output_type": "stream",
     "text": [
      "[ 0  6  2  8  4 10  1  7  3  9  5 11]\n"
     ]
    }
   ],
   "source": [
    "array3 = array2.flatten()    # 다차원 배열을 1차원 배열로 만들기\n",
    "\n",
    "print(array3)"
   ]
  },
  {
   "cell_type": "markdown",
   "metadata": {},
   "source": [
    "## <a id='toc1_4_'></a>[(4) NumPy 배열 데이터 추출하기](#toc0_)"
   ]
  },
  {
   "cell_type": "markdown",
   "metadata": {},
   "source": [
    "### <a id='toc1_4_1_'></a>[인덱싱(Indexing)](#toc0_)"
   ]
  },
  {
   "cell_type": "code",
   "execution_count": 17,
   "metadata": {},
   "outputs": [
    {
     "name": "stdout",
     "output_type": "stream",
     "text": [
      "array1 :  [1 2 3 4 5 6 7 8 9]\n",
      "3\n",
      "8\n"
     ]
    }
   ],
   "source": [
    "array1 = np.arange(1, 10)\n",
    "print(\"array1 : \", array1)\n",
    "\n",
    "value1 = array1[2]\n",
    "value2 = array1[-2]    # 뒤에서 두 번째 요소 가져오기\n",
    "\n",
    "print(value1)\n",
    "print(value2)"
   ]
  },
  {
   "cell_type": "code",
   "execution_count": 20,
   "metadata": {},
   "outputs": [
    {
     "name": "stdout",
     "output_type": "stream",
     "text": [
      "array2 : \n",
      " [[1 2 3]\n",
      " [4 5 6]\n",
      " [7 8 9]]\n",
      "1\n",
      "9\n",
      "8\n"
     ]
    }
   ],
   "source": [
    "array1 = np.arange(1, 10)\n",
    "array2 = array1.reshape(3, 3)    # 3x3 배열로 변환\n",
    "print(\"array2 : \\n\", array2)\n",
    "\n",
    "value1 = array2[0, 0]\n",
    "value2 = array2[-1, -1]\n",
    "value3 = array2[-1, -2]\n",
    "\n",
    "print(value1)\n",
    "print(value2)\n",
    "print(value3)"
   ]
  },
  {
   "cell_type": "markdown",
   "metadata": {},
   "source": [
    "### <a id='toc1_4_2_'></a>[슬라이싱(Slicing)](#toc0_)"
   ]
  },
  {
   "cell_type": "code",
   "execution_count": 21,
   "metadata": {},
   "outputs": [
    {
     "name": "stdout",
     "output_type": "stream",
     "text": [
      "<class 'numpy.ndarray'>\n",
      "[1 2 3]\n",
      "[1 2 3]\n",
      "[4 5 6 7 8 9]\n"
     ]
    }
   ],
   "source": [
    "array1 = np.arange(1, 10)\n",
    "array2 = array1[0:3]\n",
    "array3 = array1[:3]    # 시작 인덱스를 0으로 간주한다.\n",
    "array4 = array1[3:]    # 종료 인덱스를 맨 마지막 인덱스로 간주한다.\n",
    "\n",
    "print(type(array2))\n",
    "print(array2)\n",
    "print(array3)\n",
    "print(array4)"
   ]
  },
  {
   "cell_type": "markdown",
   "metadata": {},
   "source": [
    "- **2차원 배열**에서의 슬라이싱도 1차원 배열에서의 슬라이싱과 유사하며, 콤마(,)로 행과 컬럼 인덱스를 지칭하는 부분만 다르다."
   ]
  },
  {
   "cell_type": "code",
   "execution_count": 23,
   "metadata": {},
   "outputs": [
    {
     "name": "stdout",
     "output_type": "stream",
     "text": [
      "array2 : \n",
      " [[1 2 3]\n",
      " [4 5 6]\n",
      " [7 8 9]]\n",
      "array2[0:2, 0:2]\n",
      " [[1 2]\n",
      " [4 5]] \n",
      "\n",
      "array2[1:3, 0:3]\n",
      " [[4 5 6]\n",
      " [7 8 9]] \n",
      "\n",
      "array2[:2, 1:]\n",
      " [[2 3]\n",
      " [5 6]] \n",
      "\n",
      "array2[:2, 0]\n",
      " [1 4] \n",
      "\n"
     ]
    }
   ],
   "source": [
    "array1 = np.arange(1, 10)\n",
    "array2 = array1.reshape(3, 3)\n",
    "print(\"array2 : \\n\", array2)\n",
    "\n",
    "print(\"array2[0:2, 0:2]\\n\", array2[0:2, 0:2], \"\\n\")\n",
    "print(\"array2[1:3, 0:3]\\n\", array2[1:3, 0:3], \"\\n\")\n",
    "print(\"array2[:2, 1:]\\n\", array2[:2, 1:], \"\\n\")\n",
    "print(\"array2[:2, 0]\\n\", array2[:2, 0], \"\\n\")"
   ]
  },
  {
   "cell_type": "markdown",
   "metadata": {},
   "source": [
    "## <a id='toc1_5_'></a>[(5) NumPy 선형 대수 기본 연산](#toc0_)"
   ]
  },
  {
   "cell_type": "markdown",
   "metadata": {},
   "source": [
    "### <a id='toc1_5_1_'></a>[행렬 내적(행렬 곱)](#toc0_)"
   ]
  },
  {
   "cell_type": "markdown",
   "metadata": {},
   "source": [
    "- 행렬 내적은 행렬 곱을 의미한다.\n",
    "- 두 행렬 A와 B의 내적은 `np.dot` 함수를 이용해서 쉽게 계산이 가능하다.\n",
    "\n",
    "![행렬 내적(행렬 곱)의 예](https://thebook.io/img/007019/081.jpg)"
   ]
  },
  {
   "cell_type": "code",
   "execution_count": 24,
   "metadata": {},
   "outputs": [
    {
     "name": "stdout",
     "output_type": "stream",
     "text": [
      "[[ 58  64]\n",
      " [139 154]]\n"
     ]
    }
   ],
   "source": [
    "array1 = np.array([[1, 2, 3],\n",
    "                   [4, 5, 6]])\n",
    "array2 = np.array([[7, 8],\n",
    "                   [9, 10],\n",
    "                   [11, 12]])\n",
    "\n",
    "dot_array = np.dot(array1, array2)   # 행렬 내적(행렬 곱)\n",
    "print(dot_array)"
   ]
  },
  {
   "cell_type": "markdown",
   "metadata": {},
   "source": [
    "### <a id='toc1_5_2_'></a>[전치 행렬](#toc0_)"
   ]
  },
  {
   "cell_type": "code",
   "execution_count": 25,
   "metadata": {},
   "outputs": [
    {
     "name": "stdout",
     "output_type": "stream",
     "text": [
      "[[1 4]\n",
      " [2 5]\n",
      " [3 6]]\n"
     ]
    }
   ],
   "source": [
    "array1 = np.array([[1, 2, 3],\n",
    "                   [4, 5, 6]])\n",
    "transpose_array = np.transpose(array1)\n",
    "\n",
    "print(transpose_array)"
   ]
  },
  {
   "cell_type": "markdown",
   "metadata": {},
   "source": [
    "## <a id='toc1_6_'></a>[(6) NumPy 기술 통계](#toc0_)"
   ]
  },
  {
   "cell_type": "code",
   "execution_count": 31,
   "metadata": {},
   "outputs": [],
   "source": [
    "x = np.array([18, 5, 19, 23, 19, -8, 10, 0, 0, 5, 2, 15, 8, 2, 1, 3, -4])"
   ]
  },
  {
   "cell_type": "markdown",
   "metadata": {},
   "source": [
    "### <a id='toc1_6_1_'></a>[배열 데이터 개수](#toc0_)"
   ]
  },
  {
   "cell_type": "code",
   "execution_count": 32,
   "metadata": {},
   "outputs": [
    {
     "name": "stdout",
     "output_type": "stream",
     "text": [
      "17\n"
     ]
    }
   ],
   "source": [
    "print(len(x))    # 배열 데이터 개수"
   ]
  },
  {
   "cell_type": "markdown",
   "metadata": {},
   "source": [
    "### <a id='toc1_6_2_'></a>[평균, 분산, 표준편차](#toc0_)"
   ]
  },
  {
   "cell_type": "code",
   "execution_count": 28,
   "metadata": {},
   "outputs": [
    {
     "name": "stdout",
     "output_type": "stream",
     "text": [
      "6.9411764705882355\n",
      "76.0553633217993\n",
      "8.720972613292586\n"
     ]
    }
   ],
   "source": [
    "print(np.mean(x))   # 평균\n",
    "print(np.var(x))   # 분산\n",
    "print(np.std(x))   # 표준편차"
   ]
  },
  {
   "cell_type": "markdown",
   "metadata": {},
   "source": [
    "### <a id='toc1_6_3_'></a>[최댓값, 최솟값, 중앙값](#toc0_)"
   ]
  },
  {
   "cell_type": "code",
   "execution_count": 29,
   "metadata": {},
   "outputs": [
    {
     "name": "stdout",
     "output_type": "stream",
     "text": [
      "23\n",
      "-8\n",
      "5.0\n"
     ]
    }
   ],
   "source": [
    "print(np.max(x))    # 최댓값\n",
    "print(np.min(x))    # 최솟값\n",
    "print(np.median(x))    # 중앙값"
   ]
  },
  {
   "cell_type": "markdown",
   "metadata": {},
   "source": [
    "### <a id='toc1_6_4_'></a>[사분위수](#toc0_)"
   ]
  },
  {
   "cell_type": "code",
   "execution_count": 30,
   "metadata": {},
   "outputs": [
    {
     "name": "stdout",
     "output_type": "stream",
     "text": [
      "1.0\n",
      "5.0\n",
      "15.0\n"
     ]
    }
   ],
   "source": [
    "print(np.percentile(x, 25))    # 1사분위수\n",
    "print(np.percentile(x, 50))    # 2사분위수\n",
    "print(np.percentile(x, 75))    # 3사분위수"
   ]
  }
 ],
 "metadata": {
  "kernelspec": {
   "display_name": "AI_Study",
   "language": "python",
   "name": "python3"
  },
  "language_info": {
   "codemirror_mode": {
    "name": "ipython",
    "version": 3
   },
   "file_extension": ".py",
   "mimetype": "text/x-python",
   "name": "python",
   "nbconvert_exporter": "python",
   "pygments_lexer": "ipython3",
   "version": "3.11.5"
  }
 },
 "nbformat": 4,
 "nbformat_minor": 2
}
