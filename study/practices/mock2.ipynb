{
 "cells": [
  {
   "cell_type": "markdown",
   "metadata": {},
   "source": [
    "# <a id='toc1_'></a>[모의고사 1회](#toc0_)\n",
    "---"
   ]
  },
  {
   "cell_type": "markdown",
   "metadata": {},
   "source": [
    "**Table of contents**<a id='toc0_'></a>    \n",
    "- [모의고사 1회](#toc1_)    \n",
    "  - [제1유형 (30점)](#toc1_1_)    \n",
    "    - [문제 1 (10점)](#toc1_1_1_)    \n",
    "    - [문제 2 (10점)](#toc1_1_2_)    \n",
    "    - [문제 3 (10점)](#toc1_1_3_)    \n",
    "  - [제2유형 (40점)](#toc1_2_)    \n",
    "    - [문제 (40점)](#toc1_2_1_)    \n",
    "  - [제3유형 (30점)](#toc1_3_)    \n",
    "    - [문제 1 (15점)](#toc1_3_1_)    \n",
    "    - [문제 2 (15점)](#toc1_3_2_)    \n",
    "\n",
    "<!-- vscode-jupyter-toc-config\n",
    "\tnumbering=false\n",
    "\tanchor=true\n",
    "\tflat=false\n",
    "\tminLevel=1\n",
    "\tmaxLevel=6\n",
    "\t/vscode-jupyter-toc-config -->\n",
    "<!-- THIS CELL WILL BE REPLACED ON TOC UPDATE. DO NOT WRITE YOUR TEXT IN THIS CELL -->"
   ]
  },
  {
   "cell_type": "markdown",
   "metadata": {},
   "source": [
    "---"
   ]
  },
  {
   "cell_type": "markdown",
   "metadata": {},
   "source": [
    "## <a id='toc1_1_'></a>[제1유형 (30점)](#toc0_)\n",
    "---"
   ]
  },
  {
   "cell_type": "markdown",
   "metadata": {},
   "source": [
    "### <a id='toc1_1_1_'></a>[문제 1 (10점)](#toc0_)\n",
    "---\n",
    "- 뉴욕의 공기 오염도를 측정한 `airquality` 데이터 (`M2-1.csv`)\n",
    "- 데이터의 순서대로 70% 데이터를 훈련 데이터로 추출하고, `Ozone` 항목의 결측값을 평균으로 변경한 후 변경 전, 후의 중앙값 차이 구하기\n",
    "- `Ozone` 항목의 결측값과 변경 전, 후의 중앙값, 중앙값의 차이는 모두 소수점 둘째 자리에서 반올림하여 소수점 첫째 자리로 구하기"
   ]
  },
  {
   "cell_type": "code",
   "execution_count": null,
   "metadata": {},
   "outputs": [],
   "source": [
    "import pandas as pd\n",
    "import numpy as np\n",
    "\n",
    "df = pd.read_csv('./datasets/M2-1.csv')\n",
    "\n",
    "nrow = int(len(df) * 0.7)   # 70%의 데이터 개수 구하기\n",
    "dt_airquality = df.iloc[:nrow, :]   # 70%의 데이터를 훈련 데이터로 추출\n",
    "\n",
    "# 결측값을 제외한 평균을 소수점 첫째 자리까지 나타내기\n",
    "mean_train = round(np.nanmean(dt_airquality['Ozone']), 1)    \n",
    "print(mean_train)\n",
    "\n",
    "print()\n",
    "\n",
    "# 결측값 변경 전의 중앙값 구하기\n",
    "median_before = round(np.nanmean(dt_airquality['Ozone']), 1)\n",
    "print(median_before)\n",
    "\n",
    "print()\n",
    "\n",
    "# 결측값 변경 후의 중앙값 구하기\n",
    "## 결측값을 평균값으로 대체\n",
    "dt_airquality.loc[dt_airquality['Ozone'].isna(), 'Ozone'] = mean_train\n",
    "\n",
    "median_after = round(np.nanmean(dt_airquality['Ozone']), 1)\n",
    "print(median_after)\n",
    "\n",
    "print()\n",
    "\n",
    "# 변경 전, 후의 중앙값 차이 구하기\n",
    "diff_median = abs(round(median_before - median_after, 1))   # 소수 첫째 자리까지 나타내기\n",
    "print(diff_median)"
   ]
  },
  {
   "cell_type": "markdown",
   "metadata": {},
   "source": [
    "### <a id='toc1_1_2_'></a>[문제 2 (10점)](#toc0_)\n",
    "---\n",
    "\n",
    "- `marvel` 데이터, `Hair`와 `Eye`가 결측값이 아니다.\n",
    "- `Hair`가 `White Hair`이고, `Eye`가 `Blue Eyes`인 데이터를 훈련 데이터로 추출했을 때, `APPEARANCES`에서 이상값을 제외한 평균 구하기\n",
    "- 이상값은 평균에서 1.5배 표준편차를 벗어나는 값으로 하기\n",
    "- 평균, 표준편차는 소수점 셋째 자리에서 반올림하여 소수 둘째 자리로 구하기"
   ]
  },
  {
   "cell_type": "code",
   "execution_count": 9,
   "metadata": {},
   "outputs": [
    {
     "name": "stdout",
     "output_type": "stream",
     "text": [
      "15\n",
      "\n",
      "76.25\n",
      "\n",
      "348.29\n",
      "\n",
      "30.15\n"
     ]
    }
   ],
   "source": [
    "import pandas as pd\n",
    "import numpy as np\n",
    "\n",
    "dt_marvel = pd.read_csv('./datasets/M2-2.csv', encoding='UTF-8')\n",
    "\n",
    "# 훈련용 데이터 만들기\n",
    "## 조건1 : Hair와 Eye가 결측값이 아님.\n",
    "crit1 = (~dt_marvel['HAIR'].isna()) & (~dt_marvel['EYE'].isna())\n",
    "dt_train = dt_marvel.loc[crit1]\n",
    "\n",
    "## 조건2 : White Hair + Blue Eyes\n",
    "crit2 = (dt_train['HAIR'] == 'White Hair') & (dt_train['EYE'] == 'Blue Eyes')\n",
    "dt_train = dt_train.loc[crit2]\n",
    "\n",
    "# APPEARANCES 항목에 결측값이 있는지 확인\n",
    "s = sum(dt_train['APPEARANCES'].isna()) \n",
    "print(s)\n",
    "\n",
    "print()\n",
    "\n",
    "# 평균값 구하기 (결측치 제외)\n",
    "o_mean = round(dt_train['APPEARANCES'].mean(skipna=True), 2)   # 소수점 둘째 자리까지\n",
    "print(o_mean)\n",
    "\n",
    "print()\n",
    "\n",
    "# 표준편차 구하기 (결측치 제외)\n",
    "o_sd = round(dt_train['APPEARANCES'].std(skipna=True), 2)\n",
    "print(o_sd)\n",
    "\n",
    "print()\n",
    "\n",
    "# 이상값을 제외한 평균 구하기\n",
    "o_upper = o_mean + o_sd * 1.5\n",
    "o_under = o_mean - o_sd * 1.5\n",
    "\n",
    "crit3 = (dt_train['APPEARANCES'] > o_under) & (dt_train['APPEARANCES'] < o_upper)\n",
    "v_mean = dt_train.loc[crit3]\n",
    "v_mean = v_mean['APPEARANCES'].mean()\n",
    "print(round(v_mean, 2))   # 소수점 둘째 자리까지 출력"
   ]
  },
  {
   "cell_type": "markdown",
   "metadata": {},
   "source": [
    "### <a id='toc1_1_3_'></a>[문제 3 (10점)](#toc0_)\n",
    "---\n",
    "- `Carseats` 데이터(`M2-3.csv`)\n",
    "- 매출(`Sales`)의 이상값을 제외한 데이터를 훈련 데이터로 선정할 때, `Age`의 표준편차 구하기\n",
    "- 단, 이상값은 평균보다 1.5 표준편차 미만이거나 초과인 값으로 선정하기\n",
    "- 답안은 소수점 3째 자리에서 반올림해서 소수점 2째 자리로 출력하기"
   ]
  },
  {
   "cell_type": "code",
   "execution_count": 10,
   "metadata": {},
   "outputs": [
    {
     "name": "stdout",
     "output_type": "stream",
     "text": [
      "16.05\n"
     ]
    }
   ],
   "source": [
    "import pandas as pd\n",
    "import numpy as np\n",
    "\n",
    "df = pd.read_csv('./datasets/M2-3.csv')\n",
    "\n",
    "# 매출(Sales)에서 이상값을 제외한 데이터를 훈련 데이터로 선정\n",
    "max_sales = np.mean(df['Sales']) + 1.5 * np.std(df['Sales'])\n",
    "min_sales = np.mean(df['Sales']) - 1.5 * np.std(df['Sales'])\n",
    "\n",
    "cond_max = df['Sales'] <= max_sales\n",
    "cond_min = df['Sales'] >= min_sales\n",
    "\n",
    "df2 = df[cond_max & cond_min]\n",
    "\n",
    "# Age의 표준편차 구하기\n",
    "sd_age = np.std(df2['Age'], ddof=1)\n",
    "result = round(sd_age, 2)   # 소수점 둘째 자리까지 출력\n",
    "\n",
    "print(result)"
   ]
  },
  {
   "cell_type": "markdown",
   "metadata": {},
   "source": [
    "## <a id='toc1_2_'></a>[제2유형 (40점)](#toc0_)\n",
    "---"
   ]
  },
  {
   "cell_type": "markdown",
   "metadata": {},
   "source": [
    "### <a id='toc1_2_1_'></a>[문제 (40점)](#toc0_)\n",
    "---\n",
    "- `mtcars` 데이터 : 32개 자동차들의 디자인과 성능을 비교한 데이터\n",
    "\n",
    "<br/>\n",
    "\n",
    "> 문제\n",
    "\n",
    "- (1) 훈련 데이터와 평가 데이터를 순서대로 7.5:2.5로 분할하기\n",
    "- (2) 종속변수는 연비(`mpg`), 독립변수를 후방 저축 비율(`dart`), 무게(`wt`), 전진 기어 개수(`gear`), 기화기 개수(`carb`)로 선형 회귀 모형 생성하기\n",
    "- (3) 생성된 모델을 RMSE로 평가하고 결과를 반올림하여 소수점 셋째 자리로 나타내기"
   ]
  },
  {
   "cell_type": "code",
   "execution_count": 15,
   "metadata": {},
   "outputs": [
    {
     "name": "stdout",
     "output_type": "stream",
     "text": [
      "             mpg        cyl        disp          hp       drat         wt  \\\n",
      "count  98.000000  98.000000   98.000000   98.000000  98.000000  98.000000   \n",
      "mean   19.470408   6.346939  244.921429  145.163265   3.496837   3.445592   \n",
      "std     6.265849   1.770911  126.778317   62.464455   0.552751   1.011510   \n",
      "min    10.400000   4.000000   71.100000   52.000000   2.760000   1.513000   \n",
      "25%    15.200000   4.000000  140.800000   95.500000   3.070000   3.150000   \n",
      "50%    18.100000   6.000000  241.500000  136.500000   3.230000   3.440000   \n",
      "75%    22.800000   8.000000  357.750000  180.000000   3.920000   3.780000   \n",
      "max    33.900000   8.000000  472.000000  335.000000   4.930000   5.424000   \n",
      "\n",
      "            qsec         vs         am       gear       carb  \n",
      "count  98.000000  98.000000  98.000000  98.000000  98.000000  \n",
      "mean   18.322959   0.469388   0.224490   3.479592   2.724490  \n",
      "std     1.713053   0.501628   0.419391   0.596028   1.314319  \n",
      "min    14.500000   0.000000   0.000000   3.000000   1.000000  \n",
      "25%    17.400000   0.000000   0.000000   3.000000   2.000000  \n",
      "50%    18.000000   0.000000   0.000000   3.000000   3.000000  \n",
      "75%    19.470000   1.000000   0.000000   4.000000   4.000000  \n",
      "max    22.900000   1.000000   1.000000   5.000000   8.000000  \n",
      "\n",
      "\n",
      "<class 'pandas.core.frame.DataFrame'>\n",
      "RangeIndex: 98 entries, 0 to 97\n",
      "Data columns (total 11 columns):\n",
      " #   Column  Non-Null Count  Dtype  \n",
      "---  ------  --------------  -----  \n",
      " 0   mpg     98 non-null     float64\n",
      " 1   cyl     98 non-null     int64  \n",
      " 2   disp    98 non-null     float64\n",
      " 3   hp      98 non-null     int64  \n",
      " 4   drat    98 non-null     float64\n",
      " 5   wt      98 non-null     float64\n",
      " 6   qsec    98 non-null     float64\n",
      " 7   vs      98 non-null     int64  \n",
      " 8   am      98 non-null     int64  \n",
      " 9   gear    98 non-null     int64  \n",
      " 10  carb    98 non-null     int64  \n",
      "dtypes: float64(5), int64(6)\n",
      "memory usage: 8.6 KB\n",
      "None\n"
     ]
    }
   ],
   "source": [
    "import pandas as pd\n",
    "from sklearn.ensemble import RandomForestRegressor\n",
    "from sklearn.model_selection import train_test_split\n",
    "from sklearn.metrics import mean_squared_error\n",
    "\n",
    "# (1) 평가 데이터 불러오기 및 확인\n",
    "df1 = pd.read_csv('./datasets/M2-4-1.csv')\n",
    "\n",
    "## 요약 통계량 확인\n",
    "print(df1.describe())\n",
    "\n",
    "print()\n",
    "print()\n",
    "\n",
    "## 속성 및 결측값 확인\n",
    "print(df1.info())"
   ]
  },
  {
   "cell_type": "code",
   "execution_count": 16,
   "metadata": {},
   "outputs": [
    {
     "name": "stdout",
     "output_type": "stream",
     "text": [
      "             cyl        disp          hp       drat         wt       qsec  \\\n",
      "count  42.000000   42.000000   42.000000  42.000000  42.000000  42.000000   \n",
      "mean    6.190476  237.261905  137.047619   3.528095   3.400667  18.584048   \n",
      "std     1.864143  135.604272   62.457772   0.615761   1.125878   1.567908   \n",
      "min     4.000000   71.100000   52.000000   2.760000   1.615000  15.840000   \n",
      "25%     4.000000  120.100000   73.250000   3.070000   2.465000  17.420000   \n",
      "50%     6.000000  225.000000  123.000000   3.230000   3.440000  18.300000   \n",
      "75%     8.000000  349.500000  180.000000   3.920000   3.767500  19.900000   \n",
      "max     8.000000  472.000000  245.000000   4.930000   5.424000  22.900000   \n",
      "\n",
      "              vs         am       gear     carb  \n",
      "count  42.000000  42.000000  42.000000  42.0000  \n",
      "mean    0.523810   0.214286   3.404762   2.5000  \n",
      "std     0.505487   0.415300   0.496796   1.1945  \n",
      "min     0.000000   0.000000   3.000000   1.0000  \n",
      "25%     0.000000   0.000000   3.000000   1.2500  \n",
      "50%     1.000000   0.000000   3.000000   2.0000  \n",
      "75%     1.000000   0.000000   4.000000   4.0000  \n",
      "max     1.000000   1.000000   4.000000   4.0000  \n",
      "\n",
      "\n",
      "<class 'pandas.core.frame.DataFrame'>\n",
      "RangeIndex: 42 entries, 0 to 41\n",
      "Data columns (total 10 columns):\n",
      " #   Column  Non-Null Count  Dtype  \n",
      "---  ------  --------------  -----  \n",
      " 0   cyl     42 non-null     int64  \n",
      " 1   disp    42 non-null     float64\n",
      " 2   hp      42 non-null     int64  \n",
      " 3   drat    42 non-null     float64\n",
      " 4   wt      42 non-null     float64\n",
      " 5   qsec    42 non-null     float64\n",
      " 6   vs      42 non-null     int64  \n",
      " 7   am      42 non-null     int64  \n",
      " 8   gear    42 non-null     int64  \n",
      " 9   carb    42 non-null     int64  \n",
      "dtypes: float64(4), int64(6)\n",
      "memory usage: 3.4 KB\n",
      "None\n"
     ]
    }
   ],
   "source": [
    "# (2) 평가용 데이터 불러오기 & 확인\n",
    "df2 = pd.read_csv('./datasets/M2-4-2.csv')\n",
    "\n",
    "print(df2.describe())\n",
    "\n",
    "print()\n",
    "print()\n",
    "\n",
    "print(df2.info())"
   ]
  },
  {
   "cell_type": "code",
   "execution_count": 17,
   "metadata": {},
   "outputs": [
    {
     "name": "stderr",
     "output_type": "stream",
     "text": [
      "c:\\Users\\kss34\\anaconda3\\envs\\bigdata\\Lib\\site-packages\\sklearn\\metrics\\_regression.py:483: FutureWarning: 'squared' is deprecated in version 1.4 and will be removed in 1.6. To calculate the root mean squared error, use the function'root_mean_squared_error'.\n",
      "  warnings.warn(\n"
     ]
    },
    {
     "name": "stdout",
     "output_type": "stream",
     "text": [
      "0.9719413493964936\n",
      "[14.61       32.305      30.44166667 33.84466667 21.55333333 15.52133333\n",
      " 18.70166667 18.1        14.30533333 24.38933333 22.801      19.2\n",
      " 17.80466667 16.392      17.293      15.207      10.41433333 10.4\n",
      " 14.61       32.305      30.44166667 33.84466667 21.55333333 15.52133333\n",
      " 18.70166667 18.1        14.30533333 24.38933333 22.801      19.2\n",
      " 17.80466667 16.392      17.293      15.207      10.41433333 10.4\n",
      " 14.61       32.305      30.44166667 33.84466667 21.55333333 15.52133333]\n",
      "\n",
      "         pred\n",
      "0   14.610000\n",
      "1   32.305000\n",
      "2   30.441667\n",
      "3   33.844667\n",
      "4   21.553333\n",
      "5   15.521333\n",
      "6   18.701667\n",
      "7   18.100000\n",
      "8   14.305333\n",
      "9   24.389333\n",
      "10  22.801000\n",
      "11  19.200000\n",
      "12  17.804667\n",
      "13  16.392000\n",
      "14  17.293000\n",
      "15  15.207000\n",
      "16  10.414333\n",
      "17  10.400000\n",
      "18  14.610000\n",
      "19  32.305000\n",
      "20  30.441667\n",
      "21  33.844667\n",
      "22  21.553333\n",
      "23  15.521333\n",
      "24  18.701667\n",
      "25  18.100000\n",
      "26  14.305333\n",
      "27  24.389333\n",
      "28  22.801000\n",
      "29  19.200000\n",
      "30  17.804667\n",
      "31  16.392000\n",
      "32  17.293000\n",
      "33  15.207000\n",
      "34  10.414333\n",
      "35  10.400000\n",
      "36  14.610000\n",
      "37  32.305000\n",
      "38  30.441667\n",
      "39  33.844667\n",
      "40  21.553333\n",
      "41  15.521333\n"
     ]
    }
   ],
   "source": [
    "# (3) 훈련용 데이터 작업\n",
    "## 독립 변수, 종속 변수 분리\n",
    "x = df1.drop('mpg', axis=1)\n",
    "y = df1['mpg']\n",
    "\n",
    "## 원-핫 인코딩 (독립 변수)\n",
    "x_encoded = pd.get_dummies(x)\n",
    "\n",
    "## 데이터 분할\n",
    "x_train, x_valid, y_train, y_valid = train_test_split(x_encoded, y, test_size=0.25)\n",
    "\n",
    "## 모델링\n",
    "md = RandomForestRegressor(n_estimators=300)\n",
    "md.fit(x_train, y_train)\n",
    "\n",
    "## 예측\n",
    "pred = md.predict(x_valid)\n",
    "\n",
    "## 평가\n",
    "print(mean_squared_error(y_valid, pred, squared=False))   # RMSE\n",
    "\n",
    "\n",
    "# (4) 평가용 데이터 작업\n",
    "x_test = df2\n",
    "\n",
    "## 원-핫 인코딩\n",
    "x_test_encoded = pd.get_dummies(x_test)\n",
    "\n",
    "## 공통된 컬럼 합치기\n",
    "common_features = list(set(x_encoded.columns).intersection(x_test_encoded.columns))\n",
    "\n",
    "x_train_common = x_encoded[common_features]\n",
    "x_test_common = x_test_encoded[common_features]\n",
    "\n",
    "## 모델링\n",
    "md = RandomForestRegressor(n_estimators=300)\n",
    "md.fit(x_train_common, y)\n",
    "\n",
    "## 예측\n",
    "pred = md.predict(x_test_common)\n",
    "print(pred)\n",
    "\n",
    "print()\n",
    "\n",
    "# (5) 결과 출력 및 CSV 내보내기\n",
    "result = pd.DataFrame({ 'pred': pred })\n",
    "print(result)\n",
    "\n",
    "result.to_csv('./outputs/mock2-section2.csv', index=False)"
   ]
  },
  {
   "cell_type": "markdown",
   "metadata": {},
   "source": [
    "## <a id='toc1_3_'></a>[제3유형 (30점)](#toc0_)\n",
    "---"
   ]
  },
  {
   "cell_type": "markdown",
   "metadata": {},
   "source": [
    "### <a id='toc1_3_1_'></a>[문제 1 (15점)](#toc0_)\n",
    "---\n",
    "\n",
    "- 무작위로 100개의 값을 생성한 두 그룹(A, B)의 분산이 같은지에 대하여 F-검정을 수행하기\n",
    "\n",
    "<br/>\n",
    "\n",
    "|A그룹|1, 2, 3, 4, 5|\n",
    "|:-:|-|\n",
    "|B그룹|4, 5, 6, 7, 8|\n",
    "\n",
    "<br/>\n",
    "\n",
    "|귀무가설($H_{0}$)|두 그룹의 분산은 같다.|\n",
    "|:-:|-|\n",
    "|대립가설($H_{1}$)|두 그룹의 분산은 같지 않다.|\n",
    "\n",
    "<br/>\n",
    "\n",
    "> 문제\n",
    "\n",
    "- (1) 검정 통계량을 소수 3번째 자리에서 반올림하여 소수 2번째 자리까지 출력하기\n",
    "- (2) p-value를 소수 5번째 자리에서 반올림하여 소수 4번째 자리까지 출력하기\n",
    "- (3) 유의수준 0,05에서 귀무가설의 '채택', '기각' 여부 출력하기"
   ]
  },
  {
   "cell_type": "code",
   "execution_count": 18,
   "metadata": {},
   "outputs": [
    {
     "name": "stdout",
     "output_type": "stream",
     "text": [
      "2.5\n",
      "\n",
      "2.5\n",
      "\n",
      "(1.0, 1.0, '채택')\n"
     ]
    }
   ],
   "source": [
    "import numpy as np\n",
    "from scipy.stats import f\n",
    "\n",
    "# A 그룹 데이터 생성 및 분산 확인\n",
    "df1 = np.array([1, 2, 3, 4, 5])\n",
    "print(np.var(df1, ddof=1))   # 분산\n",
    "\n",
    "print()\n",
    "\n",
    "# B 그룹 데이터 생성 및 분산 확인\n",
    "df2 = np.array([4, 5, 6, 7, 8])\n",
    "print(np.var(df2, ddof=1))   # 분산\n",
    "\n",
    "print()\n",
    "\n",
    "# F-검정을 위한 함수 만들기\n",
    "def f_test(x, y):\n",
    "    if np.var(x, ddof=1) < np.var(x, ddof=1):\n",
    "        x, y = y, x\n",
    "    \n",
    "    f_value = np.var(x, ddof=1) / np.var(y, ddof=1)\n",
    "    x_dof = x.size - 1\n",
    "    y_dof = y.size - 1\n",
    "    p_value = round((1 - f.cdf(f_value, x_dof, y_dof)) * 2, 4)   # 소수점 넷째 자리까지\n",
    "\n",
    "    if p_value < 0.05:\n",
    "        p_result = \"기각\"\n",
    "    else:\n",
    "        p_result = \"채택\"\n",
    "    \n",
    "    return f_value, p_value, p_result\n",
    "\n",
    "\n",
    "# 결과 출력하기\n",
    "result = f_test(df1, df2)\n",
    "print(result)"
   ]
  },
  {
   "cell_type": "markdown",
   "metadata": {},
   "source": [
    "### <a id='toc1_3_2_'></a>[문제 2 (15점)](#toc0_)\n",
    "---\n",
    "\n",
    "- 콘서트장에서 남성이 340명, 여성이 540명이 있을 때, 남성, 여성 비율이 35%와 65%인지 카이 제곱 검정을 이용하여 분석하려고 한다. 적합도 검정 실시하기\n",
    "\n",
    "<br/>\n",
    "\n",
    "|귀무가설($H_{0}$)|콘서트장에서 남성, 여성의 비율은 35%와 65%|\n",
    "|:-:|-|\n",
    "|대립가설($H_{1}$)|콘서트장에서 남성, 여성의 비율은 35%와 65%가 아니다.|\n",
    "\n",
    "<br/>\n",
    "\n",
    "> 문제\n",
    "\n",
    "- (1) 검정 통계량을 소수 6번째 자리에서 반올림하여 소수 5번째 자리까지 출력하기\n",
    "- (2) p-value를 소수 6번째 자리에서 반올림하여 소수 5번째 자리까지 출력하기\n",
    "- (3) 유의수준 0.05에서 귀무가설의 '채택', '기각' 여부 출력하기"
   ]
  },
  {
   "cell_type": "code",
   "execution_count": 22,
   "metadata": {},
   "outputs": [
    {
     "name": "stdout",
     "output_type": "stream",
     "text": [
      "Power_divergenceResult(statistic=5.114885114885115, pvalue=0.023721436858355486)\n",
      "\n",
      "5.11489\n",
      "\n",
      "0.02372\n",
      "\n",
      "기각\n"
     ]
    }
   ],
   "source": [
    "import numpy as np\n",
    "from scipy.stats import chisquare\n",
    "\n",
    "num = np.array([340, 540])\n",
    "expected = np.array([0.35, 0.65]) * np.sum(num)\n",
    "\n",
    "result = chisquare(f_obs=num, f_exp=expected)\n",
    "print(result)\n",
    "\n",
    "print()\n",
    "\n",
    "# 정답 (1) : 검정 통계량\n",
    "result1 = round(result.statistic, 5)\n",
    "print(result1)\n",
    "\n",
    "print()\n",
    "\n",
    "# 정답 (2) : p-value\n",
    "result2 = round(result.pvalue, 5)\n",
    "print(result2)\n",
    "\n",
    "print()\n",
    "\n",
    "# 정답 (3) : 귀무가설 채택 or 기각 (유의수준 0,05)\n",
    "if result2 < 0.05:\n",
    "    result3 = \"기각\"\n",
    "else:\n",
    "    result3 = \"채택\"\n",
    "print(result3)"
   ]
  }
 ],
 "metadata": {
  "kernelspec": {
   "display_name": "bigdata",
   "language": "python",
   "name": "python3"
  },
  "language_info": {
   "codemirror_mode": {
    "name": "ipython",
    "version": 3
   },
   "file_extension": ".py",
   "mimetype": "text/x-python",
   "name": "python",
   "nbconvert_exporter": "python",
   "pygments_lexer": "ipython3",
   "version": "3.12.3"
  }
 },
 "nbformat": 4,
 "nbformat_minor": 2
}
