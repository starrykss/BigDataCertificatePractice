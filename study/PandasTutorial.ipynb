{
 "cells": [
  {
   "cell_type": "markdown",
   "metadata": {},
   "source": [
    "# <a id='toc1_'></a>[Pandas Tutorial](#toc0_)\n",
    "---"
   ]
  },
  {
   "cell_type": "markdown",
   "metadata": {},
   "source": [
    "**Table of contents**<a id='toc0_'></a>    \n",
    "- [Pandas Tutorial](#toc1_)    \n",
    "  - [(1) 시리즈(Series)와 데이터프레임(DataFrame) 이해하기](#toc1_1_)    \n",
    "  - [(2) 데이터프레임 생성하기](#toc1_2_)    \n",
    "    - [리스트를 이용하여 데이터프레임 생성하기](#toc1_2_1_)    \n",
    "    - [딕셔너리를 이용하여 데이터프레임 생성하기](#toc1_2_2_)    \n",
    "    - [csv 파일의 내용을 불러와서 데이터프레임 생성하기](#toc1_2_3_)    \n",
    "  - [(3) 데이터프레임 훑어보기](#toc1_3_)    \n",
    "  - [(4) 데이터프레임 컬럼 생성과 수정](#toc1_4_)    \n",
    "  - [(5) 데이터프레임 데이터 삭제](#toc1_5_)    \n",
    "  - [(6) 데이터프레임 데이터 조회](#toc1_6_)    \n",
    "    - [`iloc` 함수](#toc1_6_1_)    \n",
    "    - [`loc` 함수](#toc1_6_2_)    \n",
    "  - [(7) 데이터프레임 데이터 정렬과 집계](#toc1_7_)    \n",
    "  - [(8) 데이터프레임 결측치 처리하기](#toc1_8_)    \n",
    "\n",
    "<!-- vscode-jupyter-toc-config\n",
    "\tnumbering=false\n",
    "\tanchor=true\n",
    "\tflat=false\n",
    "\tminLevel=1\n",
    "\tmaxLevel=6\n",
    "\t/vscode-jupyter-toc-config -->\n",
    "<!-- THIS CELL WILL BE REPLACED ON TOC UPDATE. DO NOT WRITE YOUR TEXT IN THIS CELL -->"
   ]
  },
  {
   "cell_type": "markdown",
   "metadata": {},
   "source": [
    "---"
   ]
  },
  {
   "cell_type": "markdown",
   "metadata": {},
   "source": [
    "## <a id='toc1_1_'></a>[(1) 시리즈(Series)와 데이터프레임(DataFrame) 이해하기](#toc0_)"
   ]
  },
  {
   "cell_type": "markdown",
   "metadata": {},
   "source": [
    "- **시리즈(Series)** 는 1차원 배열 형태를 가진 자료 구조이다."
   ]
  },
  {
   "cell_type": "code",
   "execution_count": 1,
   "metadata": {},
   "outputs": [],
   "source": [
    "import pandas as pd"
   ]
  },
  {
   "cell_type": "code",
   "execution_count": 2,
   "metadata": {},
   "outputs": [
    {
     "name": "stdout",
     "output_type": "stream",
     "text": [
      "0    1\n",
      "1    3\n",
      "2    5\n",
      "3    6\n",
      "4    8\n",
      "dtype: int64\n",
      "RangeIndex(start=0, stop=5, step=1)\n",
      "[1 3 5 6 8]\n"
     ]
    }
   ],
   "source": [
    "s = pd.Series([1, 3, 5, 6, 8])    # 시리즈 생성\n",
    "\n",
    "print(s)\n",
    "print(s.index)    # 인덱스 확인\n",
    "print(s.values)   # 값 확인"
   ]
  },
  {
   "cell_type": "markdown",
   "metadata": {},
   "source": [
    "- **데이터프레임(DataFrame)** 은 2차원 행렬 구조의 테이블 형태로 구성된다.\n",
    "- <ins>행 방향</ins>의 **인덱스(Index)** 와 <ins>열 방향</ins>의 **컬럼(Column)** 이 존재한다."
   ]
  },
  {
   "cell_type": "code",
   "execution_count": 3,
   "metadata": {},
   "outputs": [
    {
     "name": "stdout",
     "output_type": "stream",
     "text": [
      "     컬럼1  컬럼2  컬럼3\n",
      "첫째행    1    2    3\n",
      "둘째행    4    5    6\n",
      "셋째행    7    8    9\n"
     ]
    }
   ],
   "source": [
    "v = [[1, 2, 3], [4, 5, 6], [7, 8, 9]]\n",
    "i = [\"첫째행\", \"둘째행\", \"셋째행\"]\n",
    "c = [\"컬럼1\", \"컬럼2\", \"컬럼3\"]\n",
    "\n",
    "df = pd.DataFrame(v, index=i, columns=c)\n",
    "print(df)"
   ]
  },
  {
   "cell_type": "markdown",
   "metadata": {},
   "source": [
    "## <a id='toc1_2_'></a>[(2) 데이터프레임 생성하기](#toc0_)"
   ]
  },
  {
   "cell_type": "markdown",
   "metadata": {},
   "source": [
    "- 데이터프레임은 리스트(List)와 딕셔너리(Dictionary)를 활용해서 생성할 수 있다."
   ]
  },
  {
   "cell_type": "markdown",
   "metadata": {},
   "source": [
    "### <a id='toc1_2_1_'></a>[리스트를 이용하여 데이터프레임 생성하기](#toc0_)"
   ]
  },
  {
   "cell_type": "markdown",
   "metadata": {},
   "source": [
    "- 인덱스를 지정하지 않을 경우, 자동으로 `0`부터 생성된다."
   ]
  },
  {
   "cell_type": "code",
   "execution_count": 4,
   "metadata": {},
   "outputs": [
    {
     "name": "stdout",
     "output_type": "stream",
     "text": [
      "    번호   이름   점수\n",
      "0  100  강백호  9.7\n",
      "1  101  송태섭  8.9\n",
      "2  102  서태웅  9.3\n",
      "3  103  셀리나  6.1\n"
     ]
    }
   ],
   "source": [
    "# 리스트로 데이터프레임 생성하기\n",
    "d = [['100', '강백호', 9.7],\n",
    "     ['101', '송태섭', 8.9],\n",
    "     ['102', '서태웅', 9.3],\n",
    "     ['103', '셀리나', 6.1]]\n",
    "df = pd.DataFrame(d, columns=[\"번호\", \"이름\", \"점수\"])\n",
    "\n",
    "print(df)"
   ]
  },
  {
   "cell_type": "markdown",
   "metadata": {},
   "source": [
    "### <a id='toc1_2_2_'></a>[딕셔너리를 이용하여 데이터프레임 생성하기](#toc0_)"
   ]
  },
  {
   "cell_type": "markdown",
   "metadata": {},
   "source": [
    "- 딕셔너리의 키는 컬럼으로 지정된다.\n",
    "- 행이 아닌 열 방향으로 데이터가 할당된다."
   ]
  },
  {
   "cell_type": "code",
   "execution_count": 5,
   "metadata": {},
   "outputs": [
    {
     "name": "stdout",
     "output_type": "stream",
     "text": [
      "    번호   이름   점수\n",
      "0  100  강백호  9.7\n",
      "1  101  송태섭  8.9\n",
      "2  102  서태웅  9.3\n",
      "3  103  셀리나  6.1\n"
     ]
    }
   ],
   "source": [
    "# 딕셔너리로 데이터프레임 생성하기\n",
    "d = {'번호': ['100', '101', '102', '103'], \n",
    "     '이름': ['강백호', '송태섭', '서태웅', '셀리나'], \n",
    "     \"점수\": [9.7, 8.9, 9.3, 6.1]}\n",
    "df = pd.DataFrame(d)\n",
    "\n",
    "print(df)"
   ]
  },
  {
   "cell_type": "markdown",
   "metadata": {},
   "source": [
    "### <a id='toc1_2_3_'></a>[csv 파일의 내용을 불러와서 데이터프레임 생성하기](#toc0_)"
   ]
  },
  {
   "cell_type": "markdown",
   "metadata": {},
   "source": [
    "- Pandas는 `csv`, `tab`과 같은 다양한 유형의 분리 문자로 컬럼을 분리한 파일을 손쉽게 데이터프레임으로 로딩할 수 있게 해준다.\n",
    "- csv 파일의 첫 번째 줄에 있는 컬럼 문자열이 데이터프레임의 컬럼으로 자동 할당된다."
   ]
  },
  {
   "cell_type": "code",
   "execution_count": 6,
   "metadata": {},
   "outputs": [
    {
     "name": "stdout",
     "output_type": "stream",
     "text": [
      "penguine 변수 type :  <class 'pandas.core.frame.DataFrame'>\n",
      "       species     island     sex  bill_length_mm  bill_depth_mm  \\\n",
      "0       Adelie  Torgersen     NaN            42.0           20.2   \n",
      "1       Gentoo     Biscoe  FEMALE            43.5           15.2   \n",
      "2       Adelie  Torgersen    MALE            42.8           18.5   \n",
      "3    Chinstrap      Dream    MALE            53.5           19.9   \n",
      "4       Gentoo     Biscoe    MALE            50.2           14.3   \n",
      "..         ...        ...     ...             ...            ...   \n",
      "235  Chinstrap      Dream  FEMALE            46.6           17.8   \n",
      "236     Gentoo     Biscoe    MALE            49.8           15.9   \n",
      "237     Adelie  Torgersen  FEMALE            34.6           17.2   \n",
      "238  Chinstrap      Dream  FEMALE            45.9           17.1   \n",
      "239     Gentoo     Biscoe  FEMALE            41.7           14.7   \n",
      "\n",
      "     flipper_length_mm  \n",
      "0                190.0  \n",
      "1                213.0  \n",
      "2                195.0  \n",
      "3                205.0  \n",
      "4                218.0  \n",
      "..                 ...  \n",
      "235              193.0  \n",
      "236              229.0  \n",
      "237              189.0  \n",
      "238              190.0  \n",
      "239              210.0  \n",
      "\n",
      "[240 rows x 6 columns]\n"
     ]
    }
   ],
   "source": [
    "penguin_df = pd.read_csv('../datasets/Part2/penguin_X_train.csv')\n",
    "\n",
    "print(\"penguine 변수 type : \", type(penguin_df))\n",
    "print(penguin_df)"
   ]
  },
  {
   "cell_type": "markdown",
   "metadata": {},
   "source": [
    "- `csv` 뿐만 아니라 다른 필드 구분 문자 기반의 파일 포맷도 데이터프레임으로 변환이 가능하다."
   ]
  },
  {
   "cell_type": "markdown",
   "metadata": {},
   "source": [
    "```python\n",
    "data_frame = pd.read_csv('파일_경로', sep='\\t')    # 탭으로 필드가 구분되어 있을 경우\n",
    "```"
   ]
  },
  {
   "cell_type": "markdown",
   "metadata": {},
   "source": [
    "## <a id='toc1_3_'></a>[(3) 데이터프레임 훑어보기](#toc0_)"
   ]
  },
  {
   "cell_type": "markdown",
   "metadata": {},
   "source": [
    "- 데이터프레임을 훑어보기 위해 제일 많이 사용하는 함수로 `head` 함수와 `shape` 함수가 있다."
   ]
  },
  {
   "cell_type": "code",
   "execution_count": 7,
   "metadata": {},
   "outputs": [
    {
     "name": "stdout",
     "output_type": "stream",
     "text": [
      "DataFrame 크기 :  (240, 6)\n",
      "     species     island     sex  bill_length_mm  bill_depth_mm  \\\n",
      "0     Adelie  Torgersen     NaN            42.0           20.2   \n",
      "1     Gentoo     Biscoe  FEMALE            43.5           15.2   \n",
      "2     Adelie  Torgersen    MALE            42.8           18.5   \n",
      "3  Chinstrap      Dream    MALE            53.5           19.9   \n",
      "4     Gentoo     Biscoe    MALE            50.2           14.3   \n",
      "\n",
      "   flipper_length_mm  \n",
      "0              190.0  \n",
      "1              213.0  \n",
      "2              195.0  \n",
      "3              205.0  \n",
      "4              218.0  \n"
     ]
    }
   ],
   "source": [
    "print(\"DataFrame 크기 : \", penguin_df.shape)    # 행과 열의 정보를 튜플 형태로 출력\n",
    "print(penguin_df.head(5))    # 맨 앞에 있는 5개의 행 출력"
   ]
  },
  {
   "cell_type": "code",
   "execution_count": 8,
   "metadata": {},
   "outputs": [
    {
     "name": "stdout",
     "output_type": "stream",
     "text": [
      "<class 'pandas.core.frame.DataFrame'>\n",
      "RangeIndex: 240 entries, 0 to 239\n",
      "Data columns (total 6 columns):\n",
      " #   Column             Non-Null Count  Dtype  \n",
      "---  ------             --------------  -----  \n",
      " 0   species            240 non-null    object \n",
      " 1   island             240 non-null    object \n",
      " 2   sex                232 non-null    object \n",
      " 3   bill_length_mm     238 non-null    float64\n",
      " 4   bill_depth_mm      238 non-null    float64\n",
      " 5   flipper_length_mm  238 non-null    float64\n",
      "dtypes: float64(3), object(3)\n",
      "memory usage: 11.4+ KB\n",
      "None\n"
     ]
    }
   ],
   "source": [
    "print(penguin_df.info())    # Non-Null 데이터 개수, 컬럼 타입, 기초 통계 정보 확인"
   ]
  },
  {
   "cell_type": "code",
   "execution_count": 9,
   "metadata": {},
   "outputs": [
    {
     "name": "stdout",
     "output_type": "stream",
     "text": [
      "       bill_length_mm  bill_depth_mm  flipper_length_mm\n",
      "count      238.000000     238.000000         238.000000\n",
      "mean        43.948739      17.205462         200.684874\n",
      "std          5.475004       1.973498          14.110080\n",
      "min         32.100000      13.200000         172.000000\n",
      "25%         39.200000      15.700000         190.000000\n",
      "50%         44.700000      17.300000         197.000000\n",
      "75%         48.700000      18.700000         213.000000\n",
      "max         58.000000      21.500000         231.000000\n"
     ]
    }
   ],
   "source": [
    "print(penguin_df.describe())     # 숫자형 데이터의 개수, 평균값, 표준편차, 최솟값, 사분위수값, 최댓값 확인"
   ]
  },
  {
   "cell_type": "markdown",
   "metadata": {},
   "source": [
    "<div class=\"alert alert-danger\">\n",
    "    <b>count</b> : Not-Null 데이터 건수 <br/>\n",
    "    <b>mean</b> : 데이터 평균값 <br/>\n",
    "    <b>std</b> : 데이터 표준편차 <br/>\n",
    "    <b>min</b> : 데이터 최솟값 <br/>\n",
    "    <b>25%</b> : 제1사분위수 값 <br/>\n",
    "    <b>50%</b> : 제2사분위수 값 <br/>\n",
    "    <b>75%</b> : 제3사분위수 값 <br/>\n",
    "    <b>max</b> : 데이터 최댓값\n",
    "</div>"
   ]
  },
  {
   "cell_type": "markdown",
   "metadata": {},
   "source": [
    "- 데이터프레임의 `[ ]` 연산자 내부에 `컬럼명`을 입력하면 해당 컬럼에 해당하는 <ins>시리즈</ins> 객체를 반환한다.\n",
    "- 이렇게 변환된 시리즈 객체가 어떤 값으로 구성되어 있는지 알아보기 위해 `head` 함수를 이용할 수 있다."
   ]
  },
  {
   "cell_type": "code",
   "execution_count": 10,
   "metadata": {},
   "outputs": [
    {
     "name": "stdout",
     "output_type": "stream",
     "text": [
      "0    42.0\n",
      "1    43.5\n",
      "2    42.8\n",
      "3    53.5\n",
      "4    50.2\n",
      "Name: bill_length_mm, dtype: float64\n"
     ]
    }
   ],
   "source": [
    "penguin_bill_length_mm = penguin_df['bill_length_mm']    # bill_length_mm 컬럼 선택\n",
    "\n",
    "print(penguin_bill_length_mm.head())    # 모든 시리즈와 데이터프레임은 인덱스를 반드시 가진다."
   ]
  },
  {
   "cell_type": "markdown",
   "metadata": {},
   "source": [
    "- `value_counts` 함수를 사용하여 해당 컬럼 값의 유형과 건수를 확인할 수 있다. (데이터의 분포도를 확인하는데 매우 유용하다.) "
   ]
  },
  {
   "cell_type": "code",
   "execution_count": 11,
   "metadata": {},
   "outputs": [
    {
     "name": "stdout",
     "output_type": "stream",
     "text": [
      "bill_length_mm\n",
      "41.1    5\n",
      "45.2    5\n",
      "37.8    5\n",
      "50.8    4\n",
      "46.2    4\n",
      "       ..\n",
      "58.0    1\n",
      "46.0    1\n",
      "38.7    1\n",
      "33.1    1\n",
      "41.7    1\n",
      "Name: count, Length: 136, dtype: int64\n"
     ]
    }
   ],
   "source": [
    "value_counts = penguin_bill_length_mm.value_counts()    # 해당 컬럼 값의 유형과 건수 확인\n",
    "\n",
    "print(value_counts)    # 데이터 건수가 많은 순서로 정렬되어 값을 반환"
   ]
  },
  {
   "cell_type": "markdown",
   "metadata": {},
   "source": [
    "## <a id='toc1_4_'></a>[(4) 데이터프레임 컬럼 생성과 수정](#toc0_)"
   ]
  },
  {
   "cell_type": "markdown",
   "metadata": {},
   "source": [
    "- 데이터프레임의 컬럼 데이터 세트 **생성** 과 **수정** 역시 `[]` 연산자를 이용해 쉽게 할 수 있다."
   ]
  },
  {
   "cell_type": "code",
   "execution_count": 12,
   "metadata": {},
   "outputs": [
    {
     "name": "stdout",
     "output_type": "stream",
     "text": [
      "  species     island     sex  bill_length_mm  bill_depth_mm  flipper_length_mm\n",
      "0  Adelie  Torgersen     NaN            42.0           20.2                  0\n",
      "1  Gentoo     Biscoe  FEMALE            43.5           15.2                  0\n",
      "2  Adelie  Torgersen    MALE            42.8           18.5                  0\n"
     ]
    }
   ],
   "source": [
    "penguin_df['flipper_length_mm'] = 0\n",
    "\n",
    "print(penguin_df.head(3))"
   ]
  },
  {
   "cell_type": "code",
   "execution_count": 13,
   "metadata": {},
   "outputs": [
    {
     "name": "stdout",
     "output_type": "stream",
     "text": [
      "       species     island     sex  bill_length_mm  bill_depth_mm  \\\n",
      "0       Adelie  Torgersen     NaN            42.0           20.2   \n",
      "1       Gentoo     Biscoe  FEMALE            43.5           15.2   \n",
      "2       Adelie  Torgersen    MALE            42.8           18.5   \n",
      "3    Chinstrap      Dream    MALE            53.5           19.9   \n",
      "4       Gentoo     Biscoe    MALE            50.2           14.3   \n",
      "..         ...        ...     ...             ...            ...   \n",
      "235  Chinstrap      Dream  FEMALE            46.6           17.8   \n",
      "236     Gentoo     Biscoe    MALE            49.8           15.9   \n",
      "237     Adelie  Torgersen  FEMALE            34.6           17.2   \n",
      "238  Chinstrap      Dream  FEMALE            45.9           17.1   \n",
      "239     Gentoo     Biscoe  FEMALE            41.7           14.7   \n",
      "\n",
      "     flipper_length_mm  new_bill_depth_mm  \n",
      "0                    0              420.0  \n",
      "1                    0              435.0  \n",
      "2                    0              428.0  \n",
      "3                    0              535.0  \n",
      "4                    0              502.0  \n",
      "..                 ...                ...  \n",
      "235                  0              466.0  \n",
      "236                  0              498.0  \n",
      "237                  0              346.0  \n",
      "238                  0              459.0  \n",
      "239                  0              417.0  \n",
      "\n",
      "[240 rows x 7 columns]\n"
     ]
    }
   ],
   "source": [
    "penguin_df['new_bill_depth_mm'] = penguin_df['bill_length_mm'] * 10    # 기존의 컬럼 시리즈의 데이터를 이용해 새로운 컬럼 시리즈 만들기 (new_bill_depth_mm)\n",
    "\n",
    "print(penguin_df)"
   ]
  },
  {
   "cell_type": "code",
   "execution_count": 14,
   "metadata": {},
   "outputs": [
    {
     "name": "stdout",
     "output_type": "stream",
     "text": [
      "  species     island     sex  bill_length_mm  bill_depth_mm  \\\n",
      "0  Adelie  Torgersen     NaN            42.0           20.2   \n",
      "1  Gentoo     Biscoe  FEMALE            43.5           15.2   \n",
      "2  Adelie  Torgersen    MALE            42.8           18.5   \n",
      "\n",
      "   flipper_length_mm  new_bill_depth_mm  \n",
      "0                  0         140.000000  \n",
      "1                  0         145.000000  \n",
      "2                  0         142.666667  \n"
     ]
    }
   ],
   "source": [
    "penguin_df['new_bill_depth_mm'] = penguin_df['new_bill_depth_mm'] / 3    # 컬럼 값 일괄 수정\n",
    "\n",
    "print(penguin_df.head(3))"
   ]
  },
  {
   "cell_type": "code",
   "execution_count": 15,
   "metadata": {},
   "outputs": [
    {
     "name": "stdout",
     "output_type": "stream",
     "text": [
      "new_bill_depth_mm\n",
      "137.000000    5\n",
      "150.666667    5\n",
      "126.000000    5\n",
      "169.333333    4\n",
      "154.000000    4\n",
      "             ..\n",
      "193.333333    1\n",
      "153.333333    1\n",
      "129.000000    1\n",
      "110.333333    1\n",
      "139.000000    1\n",
      "Name: count, Length: 136, dtype: int64\n"
     ]
    }
   ],
   "source": [
    "value_counts = penguin_df['new_bill_depth_mm'].value_counts()    # 데이터 분포도 확인\n",
    "\n",
    "print(value_counts)"
   ]
  },
  {
   "cell_type": "markdown",
   "metadata": {},
   "source": [
    "## <a id='toc1_5_'></a>[(5) 데이터프레임 데이터 삭제](#toc0_)"
   ]
  },
  {
   "cell_type": "markdown",
   "metadata": {},
   "source": [
    "```python\n",
    "drop(labels, axis=0, index=None, columns=None, level=None, inplace=False, errors='raise')\n",
    "```\n",
    "\n",
    "- `axis`\n",
    "    - `0`\n",
    "        - <ins>행 방향</ins> 데이터 삭제\n",
    "        - 일반적으로 기존 컬럼 값을 가공해서 ***새로운 컬럼을 만들고 삭제*** 하는 경우가 많아 자주 사용된다.\n",
    "    - `1`\n",
    "        - <ins>컬럼 방향</ins> 데이터 삭제\n",
    "        - ***이상치 데이터를 삭제*** 하는 경우에 주로 사용"
   ]
  },
  {
   "cell_type": "code",
   "execution_count": 16,
   "metadata": {},
   "outputs": [
    {
     "name": "stdout",
     "output_type": "stream",
     "text": [
      "  species     island     sex  bill_length_mm  bill_depth_mm  flipper_length_mm\n",
      "0  Adelie  Torgersen     NaN            42.0           20.2                  0\n",
      "1  Gentoo     Biscoe  FEMALE            43.5           15.2                  0\n",
      "2  Adelie  Torgersen    MALE            42.8           18.5                  0\n"
     ]
    }
   ],
   "source": [
    "penguin_drop_df = penguin_df.drop('new_bill_depth_mm', axis=1)     # 컬럼 방향으로 데이터 삭제\n",
    "\n",
    "print(penguin_drop_df.head(3))"
   ]
  },
  {
   "cell_type": "code",
   "execution_count": 17,
   "metadata": {},
   "outputs": [
    {
     "name": "stdout",
     "output_type": "stream",
     "text": [
      "drop_result 반환값 :  None\n",
      "  species     island  bill_length_mm  flipper_length_mm  new_bill_depth_mm\n",
      "0  Adelie  Torgersen            42.0                  0         140.000000\n",
      "1  Gentoo     Biscoe            43.5                  0         145.000000\n",
      "2  Adelie  Torgersen            42.8                  0         142.666667\n"
     ]
    }
   ],
   "source": [
    "penguin_copy_df = penguin_df.copy()    # 실습을 위해 기존의 데이터프레임 복사\n",
    "drop_result = penguin_copy_df.drop(['bill_depth_mm', 'sex'], axis=1, inplace=True)    \n",
    "# inplace=True 옵션을 추가할 경우, drop 함수를 사용할 때 원 데이터프레임(penguin_copy_df)의 데이터를 삭제한다.\n",
    "# 여러 개의 컬럼을 삭제할 경우, 삭제하고자 하는 컬럼명을 리스트에 넣어서 labels 영역에 넣어준다.\n",
    "\n",
    "print(\"drop_result 반환값 : \", drop_result)\n",
    "print(penguin_copy_df.head(3))"
   ]
  },
  {
   "cell_type": "code",
   "execution_count": 18,
   "metadata": {},
   "outputs": [
    {
     "name": "stdout",
     "output_type": "stream",
     "text": [
      "     species  island     sex  bill_length_mm  bill_depth_mm  \\\n",
      "3  Chinstrap   Dream    MALE            53.5           19.9   \n",
      "4     Gentoo  Biscoe    MALE            50.2           14.3   \n",
      "5     Adelie   Dream  FEMALE            36.5           18.0   \n",
      "\n",
      "   flipper_length_mm  new_bill_depth_mm  \n",
      "3                  0         178.333333  \n",
      "4                  0         167.333333  \n",
      "5                  0         121.666667  \n"
     ]
    }
   ],
   "source": [
    "penguin_drop_df = penguin_df.drop([0, 1, 2], axis=0)    # 0행, 1행, 2행을 삭제\n",
    "\n",
    "print(penguin_drop_df.head(3))"
   ]
  },
  {
   "cell_type": "markdown",
   "metadata": {},
   "source": [
    "## <a id='toc1_6_'></a>[(6) 데이터프레임 데이터 조회](#toc0_)"
   ]
  },
  {
   "cell_type": "markdown",
   "metadata": {},
   "source": [
    "- NumPy의 `[]` 연산자는 <ins>행의 위치, 열의 위치, 슬라이싱 범위</ins> 등을 지정해 데이터를 가져올 수 있다.\n",
    "- Pandas의 데이터프레임 바로 뒤에 있는 `[]` 연산자에는 <ins>컬럼명 문자 또는 인덱스</ins>로, 변환 가능한 표현식이다."
   ]
  },
  {
   "cell_type": "code",
   "execution_count": 19,
   "metadata": {},
   "outputs": [
    {
     "name": "stdout",
     "output_type": "stream",
     "text": [
      "단일 컬럼 데이터 조회 :\n",
      " 0      140.000000\n",
      "1      145.000000\n",
      "2      142.666667\n",
      "3      178.333333\n",
      "4      167.333333\n",
      "          ...    \n",
      "235    155.333333\n",
      "236    166.000000\n",
      "237    115.333333\n",
      "238    153.000000\n",
      "239    139.000000\n",
      "Name: new_bill_depth_mm, Length: 240, dtype: float64\n",
      "\n",
      "복수 컬럼 데이터 조회 : \n",
      "    new_bill_depth_mm     sex\n",
      "0         140.000000     NaN\n",
      "1         145.000000  FEMALE\n",
      "2         142.666667    MALE\n"
     ]
    }
   ],
   "source": [
    "print(\"단일 컬럼 데이터 조회 :\\n\", penguin_df['new_bill_depth_mm'])\n",
    "print(\"\\n복수 컬럼 데이터 조회 : \\n\", penguin_df[['new_bill_depth_mm', 'sex']].head(3))    # 리스트 형태로 조회할 컬럼명 지정"
   ]
  },
  {
   "cell_type": "code",
   "execution_count": 20,
   "metadata": {},
   "outputs": [
    {
     "name": "stdout",
     "output_type": "stream",
     "text": [
      "  species     island     sex  bill_length_mm  bill_depth_mm  \\\n",
      "0  Adelie  Torgersen     NaN            42.0           20.2   \n",
      "1  Gentoo     Biscoe  FEMALE            43.5           15.2   \n",
      "2  Adelie  Torgersen    MALE            42.8           18.5   \n",
      "\n",
      "   flipper_length_mm  new_bill_depth_mm  \n",
      "0                  0         140.000000  \n",
      "1                  0         145.000000  \n",
      "2                  0         142.666667  \n"
     ]
    }
   ],
   "source": [
    "print(penguin_df[0:3])    # 첫 3개 행의 데이터 추출 (슬라이싱)"
   ]
  },
  {
   "cell_type": "code",
   "execution_count": 21,
   "metadata": {},
   "outputs": [
    {
     "name": "stdout",
     "output_type": "stream",
     "text": [
      "     species     island   sex  bill_length_mm  bill_depth_mm  \\\n",
      "2     Adelie  Torgersen  MALE            42.8           18.5   \n",
      "3  Chinstrap      Dream  MALE            53.5           19.9   \n",
      "4     Gentoo     Biscoe  MALE            50.2           14.3   \n",
      "\n",
      "   flipper_length_mm  new_bill_depth_mm  \n",
      "2                  0         142.666667  \n",
      "3                  0         178.333333  \n",
      "4                  0         167.333333  \n"
     ]
    }
   ],
   "source": [
    "print(penguin_df[penguin_df['sex'] == 'MALE'].head(3))    # sex가 MALE인 데이터만 추출 (논리형 인덱싱 표현)"
   ]
  },
  {
   "cell_type": "code",
   "execution_count": 22,
   "metadata": {},
   "outputs": [
    {
     "name": "stdout",
     "output_type": "stream",
     "text": [
      "   species  island     sex  bill_length_mm  bill_depth_mm  flipper_length_mm  \\\n",
      "1   Gentoo  Biscoe  FEMALE            43.5           15.2                  0   \n",
      "8   Gentoo  Biscoe  FEMALE            46.5           13.5                  0   \n",
      "13  Gentoo  Biscoe  FEMALE            43.4           14.4                  0   \n",
      "\n",
      "    new_bill_depth_mm  \n",
      "1          145.000000  \n",
      "8          155.000000  \n",
      "13         144.666667  \n"
     ]
    }
   ],
   "source": [
    "# 여러 개의 복합 조건을 결합하여 데이터 추출\n",
    "print(penguin_df[(penguin_df['new_bill_depth_mm'] > 142) & \n",
    "                 (penguin_df['sex'] == 'FEMALE') \n",
    "                ].head(3))"
   ]
  },
  {
   "cell_type": "code",
   "execution_count": 23,
   "metadata": {},
   "outputs": [
    {
     "name": "stdout",
     "output_type": "stream",
     "text": [
      "   species  island     sex  bill_length_mm  bill_depth_mm  flipper_length_mm  \\\n",
      "1   Gentoo  Biscoe  FEMALE            43.5           15.2                  0   \n",
      "8   Gentoo  Biscoe  FEMALE            46.5           13.5                  0   \n",
      "13  Gentoo  Biscoe  FEMALE            43.4           14.4                  0   \n",
      "\n",
      "    new_bill_depth_mm  \n",
      "1          145.000000  \n",
      "8          155.000000  \n",
      "13         144.666667  \n"
     ]
    }
   ],
   "source": [
    "# 개별 조건을 변수에 할당하고, 이들 변수를 결합해서 논리형 인덱싱 수행\n",
    "con1 = penguin_df['new_bill_depth_mm'] > 142\n",
    "con2 = penguin_df['sex'] == 'FEMALE'\n",
    "\n",
    "print(penguin_df[con1 & con2].head(3))"
   ]
  },
  {
   "cell_type": "markdown",
   "metadata": {},
   "source": [
    "### <a id='toc1_6_1_'></a>[`iloc` 함수](#toc0_)"
   ]
  },
  {
   "cell_type": "markdown",
   "metadata": {},
   "source": [
    "- 위치 기반 인덱싱을 허용한다.\n",
    "- `iloc(index_row, index_column)` 또는 `iloc(start_index:end_index-1)`와 같이 사용한다."
   ]
  },
  {
   "cell_type": "code",
   "execution_count": 24,
   "metadata": {},
   "outputs": [
    {
     "name": "stdout",
     "output_type": "stream",
     "text": [
      "Torgersen\n",
      "  species     island     sex  bill_length_mm  bill_depth_mm  \\\n",
      "0  Adelie  Torgersen     NaN            42.0           20.2   \n",
      "1  Gentoo     Biscoe  FEMALE            43.5           15.2   \n",
      "\n",
      "   flipper_length_mm  new_bill_depth_mm  \n",
      "0                  0              140.0  \n",
      "1                  0              145.0  \n"
     ]
    }
   ],
   "source": [
    "print(penguin_df.iloc[0, 1])    # 1행 2열 데이터 출력\n",
    "print(penguin_df.iloc[0:2])    # 1행, 2행 데이터 출력"
   ]
  },
  {
   "cell_type": "markdown",
   "metadata": {},
   "source": [
    "### <a id='toc1_6_2_'></a>[`loc` 함수](#toc0_)"
   ]
  },
  {
   "cell_type": "markdown",
   "metadata": {},
   "source": [
    "- 명칭 기반으로 데이터를 추출한다.\n",
    "- `loc(index, column_name)`또는 `loc(start_index:end_index-1, column_name)`와 같이 사용한다."
   ]
  },
  {
   "cell_type": "code",
   "execution_count": 25,
   "metadata": {},
   "outputs": [
    {
     "name": "stdout",
     "output_type": "stream",
     "text": [
      "140.0\n",
      "0    140.000000\n",
      "1    145.000000\n",
      "2    142.666667\n",
      "3    178.333333\n",
      "4    167.333333\n",
      "Name: new_bill_depth_mm, dtype: float64\n"
     ]
    }
   ],
   "source": [
    "print(penguin_df.loc[0, 'new_bill_depth_mm'])    # 1행의 new_bill_depth_mm 값 출력\n",
    "print(penguin_df.loc[0:4, 'new_bill_depth_mm'])    # 1행부터 5행까지(복수행)의 new_bill_depth_mm 값 출력"
   ]
  },
  {
   "cell_type": "code",
   "execution_count": 26,
   "metadata": {},
   "outputs": [
    {
     "name": "stdout",
     "output_type": "stream",
     "text": [
      "      sex  new_bill_depth_mm  bill_depth_mm\n",
      "1  FEMALE         145.000000           15.2\n",
      "5  FEMALE         121.666667           18.0\n",
      "8  FEMALE         155.000000           13.5\n"
     ]
    }
   ],
   "source": [
    "print(penguin_df.loc[penguin_df['sex'] == 'FEMALE',     # 논리형 인덱싱을 활용하여 조건부 데이터 출력\n",
    "                     ['sex', 'new_bill_depth_mm', 'bill_depth_mm']].head(3))"
   ]
  },
  {
   "cell_type": "markdown",
   "metadata": {},
   "source": [
    "## <a id='toc1_7_'></a>[(7) 데이터프레임 데이터 정렬과 집계](#toc0_)"
   ]
  },
  {
   "cell_type": "markdown",
   "metadata": {},
   "source": [
    "- `sort_values(by=column_name, ascending=True, inplace=False)`\n",
    "    - `by`에 특정 컬럼을 입력하면 해당 컬럼으로 정렬을 수행한다.\n",
    "    - `ascending=True`로 설정하면 오름차순으로 정렬한다. (기본값)\n",
    "    - `inplace=False`로 설정하면 원 데이터프레임은 그대로 유지하며, 정렬된 데이터프레임을 함수의 결과로 반영한다. (기본값)"
   ]
  },
  {
   "cell_type": "code",
   "execution_count": 27,
   "metadata": {},
   "outputs": [
    {
     "name": "stdout",
     "output_type": "stream",
     "text": [
      "       species     island     sex  bill_length_mm  bill_depth_mm  \\\n",
      "168     Adelie      Dream  FEMALE            32.1           15.5   \n",
      "113     Adelie      Dream  FEMALE            33.1           16.1   \n",
      "9       Adelie  Torgersen  FEMALE            33.5           19.0   \n",
      "150     Adelie  Torgersen  FEMALE            34.4           18.4   \n",
      "237     Adelie  Torgersen  FEMALE            34.6           17.2   \n",
      "..         ...        ...     ...             ...            ...   \n",
      "213     Gentoo     Biscoe    MALE            54.3           15.7   \n",
      "90      Gentoo     Biscoe    MALE            55.1           16.0   \n",
      "123  Chinstrap      Dream  FEMALE            58.0           17.8   \n",
      "43      Gentoo     Biscoe     NaN             NaN            NaN   \n",
      "229     Adelie  Torgersen     NaN             NaN            NaN   \n",
      "\n",
      "     flipper_length_mm  new_bill_depth_mm  \n",
      "168                  0         107.000000  \n",
      "113                  0         110.333333  \n",
      "9                    0         111.666667  \n",
      "150                  0         114.666667  \n",
      "237                  0         115.333333  \n",
      "..                 ...                ...  \n",
      "213                  0         181.000000  \n",
      "90                   0         183.666667  \n",
      "123                  0         193.333333  \n",
      "43                   0                NaN  \n",
      "229                  0                NaN  \n",
      "\n",
      "[240 rows x 7 columns]\n"
     ]
    }
   ],
   "source": [
    "penguin_sorted = penguin_df.sort_values(by=['new_bill_depth_mm'])    # new_bill_depth_mm 컬럼 기준으로 오름차순 정렬\n",
    "\n",
    "print(penguin_sorted)"
   ]
  },
  {
   "cell_type": "code",
   "execution_count": 28,
   "metadata": {},
   "outputs": [
    {
     "name": "stdout",
     "output_type": "stream",
     "text": [
      "       species     island     sex  bill_length_mm  bill_depth_mm  \\\n",
      "168     Adelie      Dream  FEMALE            32.1           15.5   \n",
      "113     Adelie      Dream  FEMALE            33.1           16.1   \n",
      "9       Adelie  Torgersen  FEMALE            33.5           19.0   \n",
      "150     Adelie  Torgersen  FEMALE            34.4           18.4   \n",
      "237     Adelie  Torgersen  FEMALE            34.6           17.2   \n",
      "..         ...        ...     ...             ...            ...   \n",
      "213     Gentoo     Biscoe    MALE            54.3           15.7   \n",
      "90      Gentoo     Biscoe    MALE            55.1           16.0   \n",
      "123  Chinstrap      Dream  FEMALE            58.0           17.8   \n",
      "43      Gentoo     Biscoe     NaN             NaN            NaN   \n",
      "229     Adelie  Torgersen     NaN             NaN            NaN   \n",
      "\n",
      "     flipper_length_mm  new_bill_depth_mm  \n",
      "168                  0         107.000000  \n",
      "113                  0         110.333333  \n",
      "9                    0         111.666667  \n",
      "150                  0         114.666667  \n",
      "237                  0         115.333333  \n",
      "..                 ...                ...  \n",
      "213                  0         181.000000  \n",
      "90                   0         183.666667  \n",
      "123                  0         193.333333  \n",
      "43                   0                NaN  \n",
      "229                  0                NaN  \n",
      "\n",
      "[240 rows x 7 columns]\n"
     ]
    }
   ],
   "source": [
    "penguin_sorted = penguin_df.sort_values(by=['new_bill_depth_mm', 'bill_depth_mm', 'sex'])    # 여러 개의 컬럼으로 정렬\n",
    "\n",
    "print(penguin_sorted)"
   ]
  },
  {
   "cell_type": "markdown",
   "metadata": {},
   "source": [
    "- 데이터프레임에서 집계 함수(`min`, `max`, `sum`, `count`)를 호출할 경우 <ins>모든 컬럼</ins>에 해당 집계 함수를 적용한다."
   ]
  },
  {
   "cell_type": "code",
   "execution_count": 29,
   "metadata": {},
   "outputs": [
    {
     "name": "stdout",
     "output_type": "stream",
     "text": [
      "species              240\n",
      "island               240\n",
      "sex                  232\n",
      "bill_length_mm       238\n",
      "bill_depth_mm        238\n",
      "flipper_length_mm    240\n",
      "new_bill_depth_mm    238\n",
      "dtype: int64\n"
     ]
    }
   ],
   "source": [
    "print(penguin_df.count())"
   ]
  },
  {
   "cell_type": "markdown",
   "metadata": {},
   "source": [
    "- 특정 컬럼에만 집계 함수를 적용하기 위해서는 대상 컬럼들만 추출해서 집계 함수를 적용하면 된다."
   ]
  },
  {
   "cell_type": "code",
   "execution_count": 30,
   "metadata": {},
   "outputs": [
    {
     "name": "stdout",
     "output_type": "stream",
     "text": [
      "new_bill_depth_mm    146.495798\n",
      "bill_depth_mm         17.205462\n",
      "dtype: float64\n"
     ]
    }
   ],
   "source": [
    "print(penguin_df[['new_bill_depth_mm', 'bill_depth_mm']].mean())"
   ]
  },
  {
   "cell_type": "markdown",
   "metadata": {},
   "source": [
    "- 데이터프레임의 `groupby` 함수는 SQL의 `GROUP BY` 키워드와 유사하면서도 다른 면이 있기 때문에 주의가 필요하다.\n",
    "    - 데이터프레임의 `groupby` 함수 사용 시, 입력 매개변수에 컬럼명을 입력하면 대상 컬럼으로 `groupby` 된다.\n",
    "    - 또한, `groupby` <ins>입력 매개변수의 컬럼을 제외</ins>한 모든 컬럼에 해당 집계 함수를 적용한다."
   ]
  },
  {
   "cell_type": "code",
   "execution_count": 31,
   "metadata": {},
   "outputs": [
    {
     "name": "stdout",
     "output_type": "stream",
     "text": [
      "        species  island  bill_length_mm  bill_depth_mm  flipper_length_mm  \\\n",
      "sex                                                                         \n",
      "FEMALE      111     111             111            111                111   \n",
      "MALE        121     121             121            121                121   \n",
      "\n",
      "        new_bill_depth_mm  \n",
      "sex                        \n",
      "FEMALE                111  \n",
      "MALE                  121  \n"
     ]
    }
   ],
   "source": [
    "penguin_groupby = penguin_df.groupby(['sex']).count()    # sex 컬럼을 제외한 모든 컬럼에 해당 집계 함수(count)를 적용한다.\n",
    "\n",
    "print(penguin_groupby.head(3))"
   ]
  },
  {
   "cell_type": "markdown",
   "metadata": {},
   "source": [
    "- 데이터프레임의 `groupby`에 특정 컬럼만 집계 함수를 적용하고자 한다면, `groupby`로 반환된 데이터프레임 객체에 특정 컬럼을 필터링한 뒤 집계 함수를 적용한다."
   ]
  },
  {
   "cell_type": "code",
   "execution_count": 32,
   "metadata": {},
   "outputs": [
    {
     "name": "stdout",
     "output_type": "stream",
     "text": [
      "        bill_length_mm  bill_depth_mm  new_bill_depth_mm\n",
      "sex                                                     \n",
      "FEMALE       41.999099      16.478378         139.996997\n",
      "MALE         45.818182      17.912397         152.727273\n"
     ]
    }
   ],
   "source": [
    "penguin_groupby = penguin_df.groupby('sex')[['bill_length_mm', 'bill_depth_mm', 'new_bill_depth_mm']].mean()     # bill_length_mm, bill_depth_mm, new_bill_depth_mm 컬럼에만 집계 함수(mean) 적용\n",
    "\n",
    "print(penguin_groupby)"
   ]
  },
  {
   "cell_type": "markdown",
   "metadata": {},
   "source": [
    "- `groupby`를 통해 여러 개의 집계 함수를 호출하고자 한다면 `agg` 내에 집계 함수를 인자로 입력해서 사용할 수도 있다."
   ]
  },
  {
   "cell_type": "code",
   "execution_count": 33,
   "metadata": {},
   "outputs": [
    {
     "name": "stdout",
     "output_type": "stream",
     "text": [
      "               min         max           sum\n",
      "sex                                         \n",
      "FEMALE  107.000000  193.333333  15539.666667\n",
      "MALE    115.333333  183.666667  18480.000000\n"
     ]
    },
    {
     "name": "stderr",
     "output_type": "stream",
     "text": [
      "C:\\Users\\kss34\\AppData\\Local\\Temp\\ipykernel_30488\\307470366.py:1: FutureWarning: The provided callable <built-in function min> is currently using SeriesGroupBy.min. In a future version of pandas, the provided callable will be used directly. To keep current behavior pass the string \"min\" instead.\n",
      "  penguin_groupby = penguin_df.groupby('sex')['new_bill_depth_mm'].agg([min, max, sum])     #  sex 컬럼을 그룹으로 한 new_bill_depth_mm 컬럼의 데이터에 여러 개의 집계 함수(min, max, sum) 적용\n",
      "C:\\Users\\kss34\\AppData\\Local\\Temp\\ipykernel_30488\\307470366.py:1: FutureWarning: The provided callable <built-in function max> is currently using SeriesGroupBy.max. In a future version of pandas, the provided callable will be used directly. To keep current behavior pass the string \"max\" instead.\n",
      "  penguin_groupby = penguin_df.groupby('sex')['new_bill_depth_mm'].agg([min, max, sum])     #  sex 컬럼을 그룹으로 한 new_bill_depth_mm 컬럼의 데이터에 여러 개의 집계 함수(min, max, sum) 적용\n",
      "C:\\Users\\kss34\\AppData\\Local\\Temp\\ipykernel_30488\\307470366.py:1: FutureWarning: The provided callable <built-in function sum> is currently using SeriesGroupBy.sum. In a future version of pandas, the provided callable will be used directly. To keep current behavior pass the string \"sum\" instead.\n",
      "  penguin_groupby = penguin_df.groupby('sex')['new_bill_depth_mm'].agg([min, max, sum])     #  sex 컬럼을 그룹으로 한 new_bill_depth_mm 컬럼의 데이터에 여러 개의 집계 함수(min, max, sum) 적용\n"
     ]
    }
   ],
   "source": [
    "penguin_groupby = penguin_df.groupby('sex')['new_bill_depth_mm'].agg([min, max, sum])     #  sex 컬럼을 그룹으로 한 new_bill_depth_mm 컬럼의 데이터에 여러 개의 집계 함수(min, max, sum) 적용\n",
    "\n",
    "print(penguin_groupby)"
   ]
  },
  {
   "cell_type": "markdown",
   "metadata": {},
   "source": [
    "## <a id='toc1_8_'></a>[(8) 데이터프레임 결측치 처리하기](#toc0_)"
   ]
  },
  {
   "cell_type": "markdown",
   "metadata": {},
   "source": [
    "- 결측치란 컬럼에 값이 없는 경우, 즉 `Null`인 경우를 의미한다.\n",
    "- 기본적으로 머신러닝 알고리즘은 결측치를 처리하지 않으면 작동하지 않으므로 이 값을 <ins>반드시</ins> 다른 값으로 대체해야 한다.\n",
    "- `isna` 함수를 이용하여 <ins>결측치 여부를 확인</ins>할 수 있다.\n",
    "- `fillna` 함수를 이용하여 <ins>결측치를 다른 값으로 대체</ins>할 수 있다."
   ]
  },
  {
   "cell_type": "code",
   "execution_count": 34,
   "metadata": {},
   "outputs": [
    {
     "name": "stdout",
     "output_type": "stream",
     "text": [
      "   species  island    sex  bill_length_mm  bill_depth_mm  flipper_length_mm  \\\n",
      "0    False   False   True           False          False              False   \n",
      "1    False   False  False           False          False              False   \n",
      "2    False   False  False           False          False              False   \n",
      "\n",
      "   new_bill_depth_mm  bill_depth_mm_na  \n",
      "0              False              True  \n",
      "1              False              True  \n",
      "2              False              True  \n"
     ]
    }
   ],
   "source": [
    "import numpy as np\n",
    "\n",
    "penguin_df['bill_depth_mm_na'] = np.nan    # bill_depth_mm_na 컬럼을 생성하고 값을 NaN으로 채우기\n",
    "\n",
    "print(penguin_df.isna().head(3))"
   ]
  },
  {
   "cell_type": "markdown",
   "metadata": {},
   "source": [
    "- 결측치 데이터의 개수는 `isna` 함수 결과에 `sum` 함수를 추가해 구할 수 있다.\n",
    "    - 결측치 `True`는 `1`로, `False`는 `0`으로 변환되므로 결측치의 개수를 구할 수 있다."
   ]
  },
  {
   "cell_type": "code",
   "execution_count": 35,
   "metadata": {},
   "outputs": [
    {
     "name": "stdout",
     "output_type": "stream",
     "text": [
      "species                0\n",
      "island                 0\n",
      "sex                    8\n",
      "bill_length_mm         2\n",
      "bill_depth_mm          2\n",
      "flipper_length_mm      0\n",
      "new_bill_depth_mm      2\n",
      "bill_depth_mm_na     240\n",
      "dtype: int64\n"
     ]
    }
   ],
   "source": [
    "print(penguin_df.isna().sum())    # 결측치 데이터의 개수 출력하기"
   ]
  },
  {
   "cell_type": "markdown",
   "metadata": {},
   "source": [
    "- `fillna` 함수를 이용하면 결측치를 편리하게 다른 값으로 대체할 수 있다."
   ]
  },
  {
   "cell_type": "code",
   "execution_count": 36,
   "metadata": {},
   "outputs": [
    {
     "name": "stdout",
     "output_type": "stream",
     "text": [
      "  species     island     sex  bill_length_mm  bill_depth_mm  \\\n",
      "0  Adelie  Torgersen     NaN            42.0           20.2   \n",
      "1  Gentoo     Biscoe  FEMALE            43.5           15.2   \n",
      "2  Adelie  Torgersen    MALE            42.8           18.5   \n",
      "\n",
      "   flipper_length_mm  new_bill_depth_mm  bill_depth_mm_na  \n",
      "0                  0         140.000000        146.495798  \n",
      "1                  0         145.000000        146.495798  \n",
      "2                  0         142.666667        146.495798  \n"
     ]
    }
   ],
   "source": [
    "penguin_df['bill_depth_mm_na'] = penguin_df['bill_depth_mm_na'].fillna(penguin_df['new_bill_depth_mm'].mean())    # bill_depth_mm_na 컬럼의 값들(결측치)을 new_bill_depth_mm 컬럼의 평균값으로 대체\n",
    "\n",
    "print(penguin_df.head(3))"
   ]
  }
 ],
 "metadata": {
  "kernelspec": {
   "display_name": "AI_Study",
   "language": "python",
   "name": "python3"
  },
  "language_info": {
   "codemirror_mode": {
    "name": "ipython",
    "version": 3
   },
   "file_extension": ".py",
   "mimetype": "text/x-python",
   "name": "python",
   "nbconvert_exporter": "python",
   "pygments_lexer": "ipython3",
   "version": "3.11.5"
  }
 },
 "nbformat": 4,
 "nbformat_minor": 2
}
