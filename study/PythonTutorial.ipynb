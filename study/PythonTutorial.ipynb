{
 "cells": [
  {
   "cell_type": "markdown",
   "metadata": {},
   "source": [
    "# <a id='toc1_'></a>[Python Tutorial](#toc0_)\n",
    "---"
   ]
  },
  {
   "cell_type": "markdown",
   "metadata": {},
   "source": [
    "**Table of contents**<a id='toc0_'></a>    \n",
    "- [Python Tutorial](#toc1_)    \n",
    "  - [(1) 파이썬 자료형](#toc1_1_)    \n",
    "    - [숫자형(Number)](#toc1_1_1_)    \n",
    "    - [문자열(String)](#toc1_1_2_)    \n",
    "    - [리스트(List)](#toc1_1_3_)    \n",
    "    - [튜플(Tuple)](#toc1_1_4_)    \n",
    "    - [딕셔너리(Dictionary)](#toc1_1_5_)    \n",
    "    - [집합(Set)](#toc1_1_6_)    \n",
    "    - [논리(Boolean)](#toc1_1_7_)    \n",
    "  - [(2) 파이썬 제어문](#toc1_2_)    \n",
    "    - [if 문](#toc1_2_1_)    \n",
    "    - [while 문](#toc1_2_2_)    \n",
    "    - [for 문](#toc1_2_3_)    \n",
    "  - [(3) 파이썬 함수](#toc1_3_)    \n",
    "    - [def 문](#toc1_3_1_)    \n",
    "\n",
    "<!-- vscode-jupyter-toc-config\n",
    "\tnumbering=false\n",
    "\tanchor=true\n",
    "\tflat=false\n",
    "\tminLevel=1\n",
    "\tmaxLevel=6\n",
    "\t/vscode-jupyter-toc-config -->\n",
    "<!-- THIS CELL WILL BE REPLACED ON TOC UPDATE. DO NOT WRITE YOUR TEXT IN THIS CELL -->"
   ]
  },
  {
   "cell_type": "markdown",
   "metadata": {},
   "source": [
    "---"
   ]
  },
  {
   "cell_type": "markdown",
   "metadata": {},
   "source": [
    "## <a id='toc1_1_'></a>[(1) 파이썬 자료형](#toc0_)"
   ]
  },
  {
   "cell_type": "markdown",
   "metadata": {},
   "source": [
    "### <a id='toc1_1_1_'></a>[숫자형(Number)](#toc0_)"
   ]
  },
  {
   "cell_type": "code",
   "execution_count": 1,
   "metadata": {},
   "outputs": [
    {
     "name": "stdout",
     "output_type": "stream",
     "text": [
      "1234 -12.34\n",
      "<class 'int'> <class 'float'>\n",
      "1221.66\n",
      "<class 'float'>\n"
     ]
    }
   ],
   "source": [
    "a = 1234\n",
    "b = -12.34\n",
    "c = a + b\n",
    "\n",
    "print(a, b)\n",
    "print(type(a), type(b))\n",
    "print(c)\n",
    "print(type(c))"
   ]
  },
  {
   "cell_type": "code",
   "execution_count": 2,
   "metadata": {},
   "outputs": [
    {
     "name": "stdout",
     "output_type": "stream",
     "text": [
      "10\n",
      "-4\n",
      "21\n",
      "0.42857142857142855\n",
      "2187\n",
      "3\n",
      "0\n"
     ]
    }
   ],
   "source": [
    "a = 3\n",
    "b = 7\n",
    "\n",
    "print(a + b)\n",
    "print(a - b)\n",
    "print(a * b)\n",
    "print(a / b)    # 나누기\n",
    "print(a ** b)    # 제곱\n",
    "print(a % b)    # 나머지 반환\n",
    "print(a // b)    # 몫 반환"
   ]
  },
  {
   "cell_type": "markdown",
   "metadata": {},
   "source": [
    "### <a id='toc1_1_2_'></a>[문자열(String)](#toc0_)"
   ]
  },
  {
   "cell_type": "code",
   "execution_count": 3,
   "metadata": {},
   "outputs": [
    {
     "name": "stdout",
     "output_type": "stream",
     "text": [
      "Hello World\n",
      "Hello Python's World\n",
      "\"Hello World.\" he says.\n",
      "Hello World\n",
      "Life is good\n"
     ]
    }
   ],
   "source": [
    "a = \"Hello World\"\n",
    "b = \"Hello Python's World\"\n",
    "c = '\"Hello World.\" he says.'    # 큰따옴표는 작은따옴표 안에 사용한다.\n",
    "d = 'Hello World\\nLife is good'   # \\n은 개행 문자\n",
    "\n",
    "print(a)\n",
    "print(b)\n",
    "print(c)\n",
    "print(d)"
   ]
  },
  {
   "cell_type": "code",
   "execution_count": 4,
   "metadata": {},
   "outputs": [
    {
     "name": "stdout",
     "output_type": "stream",
     "text": [
      "Python is good.\n"
     ]
    }
   ],
   "source": [
    "a = \"Python\"\n",
    "b = \" \"\n",
    "c = \"is good.\"\n",
    "\n",
    "print(a + b + c)"
   ]
  },
  {
   "cell_type": "code",
   "execution_count": 5,
   "metadata": {},
   "outputs": [
    {
     "name": "stdout",
     "output_type": "stream",
     "text": [
      "PythonPythonPython\n"
     ]
    }
   ],
   "source": [
    "a = \"Python\"\n",
    "\n",
    "print(a * 3)    # 3번 반복 출력"
   ]
  },
  {
   "cell_type": "code",
   "execution_count": 6,
   "metadata": {},
   "outputs": [
    {
     "name": "stdout",
     "output_type": "stream",
     "text": [
      "33\n"
     ]
    }
   ],
   "source": [
    "a = \"Life is short, Python is valuable\"\n",
    "b = len(a)    # 문자열 길이 구하기\n",
    "\n",
    "print(b)"
   ]
  },
  {
   "cell_type": "code",
   "execution_count": 7,
   "metadata": {},
   "outputs": [
    {
     "name": "stdout",
     "output_type": "stream",
     "text": [
      "Love\n"
     ]
    }
   ],
   "source": [
    "a = \"Life is short, Python is valuable\"\n",
    "b = a[0]\n",
    "c = a[10]\n",
    "d = a[-8]\n",
    "e = a[-1]\n",
    "\n",
    "print(b + c + d + e)"
   ]
  },
  {
   "cell_type": "code",
   "execution_count": 8,
   "metadata": {},
   "outputs": [
    {
     "name": "stdout",
     "output_type": "stream",
     "text": [
      "Life is valuable\n"
     ]
    }
   ],
   "source": [
    "a = \"Life is short, Python is valuable\"\n",
    "b = a[:4]\n",
    "c = a[4:8]\n",
    "d = a[25:]\n",
    "\n",
    "print(b + c + d)"
   ]
  },
  {
   "cell_type": "code",
   "execution_count": 9,
   "metadata": {},
   "outputs": [
    {
     "name": "stdout",
     "output_type": "stream",
     "text": [
      "2\n"
     ]
    }
   ],
   "source": [
    "a = \"apple\"\n",
    "b = a.count('p')    # 문자 개수 세기\n",
    "\n",
    "print(b)"
   ]
  },
  {
   "cell_type": "code",
   "execution_count": 10,
   "metadata": {},
   "outputs": [
    {
     "name": "stdout",
     "output_type": "stream",
     "text": [
      "1\n"
     ]
    }
   ],
   "source": [
    "a = \"apple\"\n",
    "b = a.find('p')   # 문자 위치 찾기 (처음 등장하는 위치)\n",
    "\n",
    "print(b)"
   ]
  },
  {
   "cell_type": "markdown",
   "metadata": {},
   "source": [
    "- 문자열에 특정 문자를 삽입하려면 `'특정_문자'.join(문자열)` 함수를 사용한다."
   ]
  },
  {
   "cell_type": "code",
   "execution_count": 11,
   "metadata": {},
   "outputs": [
    {
     "name": "stdout",
     "output_type": "stream",
     "text": [
      "a.p.p.l.e\n",
      "1 2 3 4\n"
     ]
    }
   ],
   "source": [
    "a = \"apple\"\n",
    "b = '.'.join(a)    # 문자열 삽입\n",
    "\n",
    "print(b)\n",
    "\n",
    "c = [1, 2, 3, 4]\n",
    "d = ' '.join(str(item) for item in c)\n",
    "\n",
    "print(d)"
   ]
  },
  {
   "cell_type": "code",
   "execution_count": 12,
   "metadata": {},
   "outputs": [
    {
     "name": "stdout",
     "output_type": "stream",
     "text": [
      "APPLE\n",
      "apple\n"
     ]
    }
   ],
   "source": [
    "a = \"apple\"\n",
    "b = a.upper()    # 대문자로 변경\n",
    "c = b.lower()    # 소문자로 변경\n",
    "\n",
    "print(b)\n",
    "print(c)"
   ]
  },
  {
   "cell_type": "code",
   "execution_count": 13,
   "metadata": {},
   "outputs": [
    {
     "name": "stdout",
     "output_type": "stream",
     "text": [
      " apple \n",
      "apple \n",
      " apple\n",
      "apple\n"
     ]
    }
   ],
   "source": [
    "a = \" apple \"\n",
    "b = a.lstrip()    # 왼쪽 공백 지우기\n",
    "c = a.rstrip()    # 오른쪽 공백 지우기\n",
    "d = a.strip()     # 양쪽 공백 지우기\n",
    "\n",
    "print(a)\n",
    "print(b)\n",
    "print(c)\n",
    "print(d)"
   ]
  },
  {
   "cell_type": "code",
   "execution_count": 14,
   "metadata": {},
   "outputs": [
    {
     "name": "stdout",
     "output_type": "stream",
     "text": [
      "Python is good\n"
     ]
    }
   ],
   "source": [
    "a = \"Life is good\"\n",
    "b = a.replace(\"Life\", \"Python\")     # 문자열 바꾸기\n",
    "\n",
    "print(b)"
   ]
  },
  {
   "cell_type": "markdown",
   "metadata": {},
   "source": [
    "- `문자열.split(x)` 문자는 `x` 문자를 기준으로 문자열을 나누어 나눈 문자열을 리스트 형태에 넣어 반환한다. (기본값: 공백(스페이스))"
   ]
  },
  {
   "cell_type": "code",
   "execution_count": 15,
   "metadata": {},
   "outputs": [
    {
     "name": "stdout",
     "output_type": "stream",
     "text": [
      "['Life', 'is', 'short,', 'Python', 'is', 'valuable']\n",
      "['Life is short', ' Python is valuable']\n"
     ]
    }
   ],
   "source": [
    "a = \"Life is short, Python is valuable\"\n",
    "b = a.split()    # 문자열 나누기 (공백 기준)\n",
    "c = a.split(',')    # 문자열 나누기 (, 기준)\n",
    "\n",
    "print(b)\n",
    "print(c)"
   ]
  },
  {
   "cell_type": "markdown",
   "metadata": {},
   "source": [
    "### <a id='toc1_1_3_'></a>[리스트(List)](#toc0_)"
   ]
  },
  {
   "cell_type": "markdown",
   "metadata": {},
   "source": [
    "- 일반적으로 숫자형 또는 문자열 자료형을 하나의 집합으로 구성할 수 있다.\n",
    "- 대괄호(`[]`)로 요소들을 감싸주고, 각 요소들은 쉼표(`,`)로 구분한다.\n",
    "- `list()` 함수를 사용해서도 만들 수 있다.\n",
    "- 아무 요소도 포함되지 않아 비어있을 수도 있고, 리스트 자체를 요소로 가질 수도 있다."
   ]
  },
  {
   "cell_type": "markdown",
   "metadata": {},
   "source": [
    "- 리스트 역시 문자열과 마찬가지로 사칙연산을 활용해서 리스트를 합치거나 반복할 수 있으며, `len()` 함수를 이용하여 길이를 계산할 수 있다."
   ]
  },
  {
   "cell_type": "code",
   "execution_count": 16,
   "metadata": {},
   "outputs": [
    {
     "name": "stdout",
     "output_type": "stream",
     "text": [
      "[1, 2, 3, 4, 5, 1, 2, 3, 4, 5, 'a', 'b', 'c']\n",
      "13\n"
     ]
    }
   ],
   "source": [
    "a = [1, 2, 3, 4, 5]\n",
    "b = ['a', 'b', 'c']\n",
    "c = (a * 2) + b\n",
    "d = len(c)\n",
    "\n",
    "print(c)\n",
    "print(d)"
   ]
  },
  {
   "cell_type": "markdown",
   "metadata": {},
   "source": [
    "- 문자열과 마찬가지로 인덱싱과 슬라이싱이 가능하다."
   ]
  },
  {
   "cell_type": "code",
   "execution_count": 17,
   "metadata": {},
   "outputs": [
    {
     "name": "stdout",
     "output_type": "stream",
     "text": [
      "[1, 2, 3, 4, 5]\n",
      "1\n",
      "[2, 3, 4]\n",
      "5\n",
      "5\n",
      "[3, 4, 5]\n",
      "[3, 4, 5]\n",
      "[1, 2, 3]\n",
      "[1, 2, 3]\n"
     ]
    }
   ],
   "source": [
    "a = [1, 2, 3, 4, 5]\n",
    "\n",
    "print(a)\n",
    "print(a[0])\n",
    "print(a[1:4])\n",
    "print(a[-1])\n",
    "print(a[4])\n",
    "print(a[2:])\n",
    "print(a[2:5])\n",
    "print(a[:3])\n",
    "print(a[0:3])"
   ]
  },
  {
   "cell_type": "code",
   "execution_count": 18,
   "metadata": {},
   "outputs": [
    {
     "name": "stdout",
     "output_type": "stream",
     "text": [
      "[1, 2, 3, ['a', 'b', 'c']]\n",
      "['a', 'b', 'c']\n",
      "a\n",
      "['b', 'c']\n",
      "['a']\n"
     ]
    }
   ],
   "source": [
    "a = [1, 2, 3, ['a', 'b', 'c']]\n",
    "\n",
    "print(a)\n",
    "print(a[3])\n",
    "\n",
    "# 중첩된 리스트에 대해서도 인덱싱과 슬라이싱 가능\n",
    "print(a[3][0])    \n",
    "print(a[3][1:])\n",
    "print(a[3][:1])"
   ]
  },
  {
   "cell_type": "code",
   "execution_count": 19,
   "metadata": {},
   "outputs": [
    {
     "name": "stdout",
     "output_type": "stream",
     "text": [
      "[1, 2, 10, 4]\n"
     ]
    }
   ],
   "source": [
    "a = [1, 2, 3, 4, 5]\n",
    "\n",
    "a[2] = 10    # 리스트 요소 수정\n",
    "del a[4]   # 리스트 요소 삭제\n",
    "\n",
    "print(a)"
   ]
  },
  {
   "cell_type": "code",
   "execution_count": 20,
   "metadata": {},
   "outputs": [
    {
     "name": "stdout",
     "output_type": "stream",
     "text": [
      "[1, 2, 3, 10]\n"
     ]
    }
   ],
   "source": [
    "a = [1, 2, 3]\n",
    "\n",
    "a.append(10)    # 리스트 요소 추가\n",
    "\n",
    "print(a)"
   ]
  },
  {
   "cell_type": "code",
   "execution_count": 21,
   "metadata": {},
   "outputs": [
    {
     "name": "stdout",
     "output_type": "stream",
     "text": [
      "[1, 2, 3, 4, 5]\n",
      "[5, 4, 3, 2, 1]\n"
     ]
    }
   ],
   "source": [
    "a = [1, 5, 2, 4, 3]\n",
    "\n",
    "a.sort()     # 리스트 요소 정렬 (기본: 오름차순)\n",
    "print(a)\n",
    "\n",
    "a.sort(reverse=True)    # 내림차순 정렬\n",
    "print(a)"
   ]
  },
  {
   "cell_type": "markdown",
   "metadata": {},
   "source": [
    "- `리스트.index(특정_요소)` 함수를 사용하면 특정 요소의 값이 리스트에서 몇 번째에 위치하는지 알 수 있다."
   ]
  },
  {
   "cell_type": "code",
   "execution_count": 22,
   "metadata": {},
   "outputs": [
    {
     "name": "stdout",
     "output_type": "stream",
     "text": [
      "2\n",
      "0\n"
     ]
    }
   ],
   "source": [
    "a = [5, 4, 3, 2, 1]\n",
    "\n",
    "b = a.index(3)\n",
    "c = a.index(5)\n",
    "# d = a.index(9)    # 요소가 없으면 ValueError가 발생한다.\n",
    "\n",
    "print(b)\n",
    "print(c)"
   ]
  },
  {
   "cell_type": "code",
   "execution_count": 23,
   "metadata": {},
   "outputs": [
    {
     "name": "stdout",
     "output_type": "stream",
     "text": [
      "[10, 1, 2, 3]\n"
     ]
    }
   ],
   "source": [
    "a = [1, 2, 3]\n",
    "\n",
    "a.insert(0, 10)    # 요소 삽입\n",
    "\n",
    "print(a)"
   ]
  },
  {
   "cell_type": "code",
   "execution_count": 24,
   "metadata": {},
   "outputs": [
    {
     "name": "stdout",
     "output_type": "stream",
     "text": [
      "[5, 3, 2, 1, 5, 4, 3, 2, 1]\n"
     ]
    }
   ],
   "source": [
    "a = [5, 4, 3, 2, 1, 5, 4, 3, 2, 1]\n",
    "\n",
    "a.remove(4)    # 첫 번째로 등장하는 요소 제거 \n",
    "\n",
    "print(a)"
   ]
  },
  {
   "cell_type": "code",
   "execution_count": 25,
   "metadata": {},
   "outputs": [
    {
     "name": "stdout",
     "output_type": "stream",
     "text": [
      "[5, 3, 2, 1, 5, 4, 3, 2, 1]\n",
      "4\n"
     ]
    }
   ],
   "source": [
    "a = [5, 4, 3, 2, 1, 5, 4, 3, 2, 1]\n",
    "\n",
    "b = a.pop(1)    # 첫 번째로 등장하는 요소를 뽑은 후 반환 및 지우기\n",
    "\n",
    "print(a)\n",
    "print(b)"
   ]
  },
  {
   "cell_type": "code",
   "execution_count": 26,
   "metadata": {},
   "outputs": [
    {
     "name": "stdout",
     "output_type": "stream",
     "text": [
      "2\n"
     ]
    }
   ],
   "source": [
    "a = [5, 4, 3, 2, 1, 5, 4, 3, 2, 1]\n",
    "b = a.count(1)     # 요소 개수 세기\n",
    "\n",
    "print(b)"
   ]
  },
  {
   "cell_type": "markdown",
   "metadata": {},
   "source": [
    "### <a id='toc1_1_4_'></a>[튜플(Tuple)](#toc0_)"
   ]
  },
  {
   "cell_type": "markdown",
   "metadata": {},
   "source": [
    "- 소괄호(`()`)를 사용해서 표현한다.\n",
    "- `tuple()` 함수를 사용해서도 만들 수 있다.\n",
    "- 요소를 변경할 수 없다.\n",
    "- 일반적으로 괄호를 생략해서 표현한다."
   ]
  },
  {
   "cell_type": "code",
   "execution_count": 27,
   "metadata": {},
   "outputs": [
    {
     "name": "stdout",
     "output_type": "stream",
     "text": [
      "(1, 2, 3, 4, 5, 1, 2, 3, 4, 5, 'a', 'b', 'c')\n",
      "13\n"
     ]
    }
   ],
   "source": [
    "a = (1, 2, 3, 4, 5)\n",
    "b = ('a', 'b', 'c')\n",
    "c = (a * 2) + b\n",
    "d = len(c)\n",
    "\n",
    "print(c)\n",
    "print(d)"
   ]
  },
  {
   "cell_type": "markdown",
   "metadata": {},
   "source": [
    "- 튜플은 리스트와 동일한 함수를 사용한다. 인덱싱과 슬라이싱만 간단히 살펴본다."
   ]
  },
  {
   "cell_type": "code",
   "execution_count": 28,
   "metadata": {},
   "outputs": [
    {
     "name": "stdout",
     "output_type": "stream",
     "text": [
      "1\n",
      "('a', 'b', 'c', ('z', 1, 3))\n",
      "(1, 3)\n"
     ]
    }
   ],
   "source": [
    "a = (1, 2, 3, 'a', 'b', 'c', ('z', 1, 3))\n",
    "\n",
    "print(a[0])\n",
    "print(a[3:])\n",
    "print(a[6][1:])"
   ]
  },
  {
   "cell_type": "markdown",
   "metadata": {},
   "source": [
    "### <a id='toc1_1_5_'></a>[딕셔너리(Dictionary)](#toc0_)"
   ]
  },
  {
   "cell_type": "markdown",
   "metadata": {},
   "source": [
    "- 키(Key)와 값(Value)으로 이루어진 자료형이다.\n",
    "- 리스트나 튜플처럼 순차적인 요소값으로 구성되지 않고 키를 통해 값을 얻는 구조로 이루어져 있다.\n",
    "- 중괄호(`{}`)를 사용하여 표현하며, `{Key1: Value1, Key2: Value2, ...}`와 같이 표현한다.\n",
    "- `dict()` 함수를 사용해서도 만들 수 있다."
   ]
  },
  {
   "cell_type": "code",
   "execution_count": 29,
   "metadata": {},
   "outputs": [
    {
     "name": "stdout",
     "output_type": "stream",
     "text": [
      "{'name': 'John', 'age': 30, 'birth': [11, 8]}\n",
      "John\n",
      "[11, 8]\n"
     ]
    }
   ],
   "source": [
    "a = {'name': 'John', 'age': 30, 'birth': [11, 8]}\n",
    "\n",
    "print(a)\n",
    "print(a['name'])\n",
    "print(a['birth'])"
   ]
  },
  {
   "cell_type": "code",
   "execution_count": 30,
   "metadata": {},
   "outputs": [
    {
     "name": "stdout",
     "output_type": "stream",
     "text": [
      "{'name': 'John', 'age': 33, 'house': 'apartment', 'birth': [12, 4]}\n",
      "{'name': 'John', 'age': 33, 'birth': [12, 4]}\n"
     ]
    }
   ],
   "source": [
    "a = {'name': 'John'}\n",
    "\n",
    "# 요소 수정하기\n",
    "a['age'] = 33\n",
    "a['house'] = 'apartment'    # 새로운 요소 추가\n",
    "a['birth'] = [12, 4]\n",
    "\n",
    "print(a)\n",
    "\n",
    "del a['house']    # 요소 삭제\n",
    "\n",
    "print(a)"
   ]
  },
  {
   "cell_type": "markdown",
   "metadata": {},
   "source": [
    "- 문자열, 리스트, 튜플에서는 요소값을 확인하기 위해 인덱싱이나 슬라이싱을 사용하였지만, 딕셔너리에서는 키를 활용해서 값을 구해야 한다.\n",
    "    - 키는 고유한 값만을 허용하고, 동일한 이름의 키가 2개가 존재할 경우, 하나의 값은 무시된다."
   ]
  },
  {
   "cell_type": "code",
   "execution_count": 31,
   "metadata": {},
   "outputs": [
    {
     "name": "stdout",
     "output_type": "stream",
     "text": [
      "{'name': 'Park'}\n"
     ]
    }
   ],
   "source": [
    "a = {'name': 'John', 'name': 'Park'}\n",
    "\n",
    "print(a)"
   ]
  },
  {
   "cell_type": "code",
   "execution_count": 32,
   "metadata": {},
   "outputs": [
    {
     "name": "stdout",
     "output_type": "stream",
     "text": [
      "dict_keys(['name', 'age', 'birth'])\n",
      "['name', 'age', 'birth']\n"
     ]
    }
   ],
   "source": [
    "a = {'name': 'John', 'age': 30, 'birth': [11, 8]}\n",
    "\n",
    "b = a.keys()    # 키값만 불러오기\n",
    "c = list(a.keys())\n",
    "\n",
    "print(b)\n",
    "print(c)"
   ]
  },
  {
   "cell_type": "code",
   "execution_count": 33,
   "metadata": {},
   "outputs": [
    {
     "name": "stdout",
     "output_type": "stream",
     "text": [
      "dict_values(['John', 30, [11, 8]])\n",
      "['John', 30, [11, 8]]\n"
     ]
    }
   ],
   "source": [
    "a = {'name': 'John', 'age': 30, 'birth': [11, 8]}\n",
    "b = a.values()   # 값만 불러오기\n",
    "c = list(a.values()) \n",
    "\n",
    "print(b)\n",
    "print(c)"
   ]
  },
  {
   "cell_type": "code",
   "execution_count": 34,
   "metadata": {},
   "outputs": [
    {
     "name": "stdout",
     "output_type": "stream",
     "text": [
      "dict_items([('name', 'John'), ('age', 30), ('birth', [11, 8])])\n",
      "[('name', 'John'), ('age', 30), ('birth', [11, 8])]\n"
     ]
    }
   ],
   "source": [
    "a = {'name': 'John', 'age': 30, 'birth': [11, 8]}\n",
    "b = a.items()    # 키-값 불러오기\n",
    "c = list(a.items())\n",
    "\n",
    "print(b)\n",
    "print(c)"
   ]
  },
  {
   "cell_type": "code",
   "execution_count": 35,
   "metadata": {},
   "outputs": [
    {
     "name": "stdout",
     "output_type": "stream",
     "text": [
      "John\n",
      "John\n",
      "None\n",
      "No Data\n"
     ]
    }
   ],
   "source": [
    "a = {'name': 'John', 'age': 30, 'birth': [11, 8]}\n",
    "b = a.get('name')    # 키로 값 찾기\n",
    "c = a['name']    # 키로 값 찾기\n",
    "d = a.get('house')    # 키가 없으므로 None 출력\n",
    "e = a.get('house', 'No Data')    # None 대신 'No Data' 출력\n",
    "\n",
    "print(b)\n",
    "print(c)\n",
    "print(d)\n",
    "print(e)"
   ]
  },
  {
   "cell_type": "markdown",
   "metadata": {},
   "source": [
    "### <a id='toc1_1_6_'></a>[집합(Set)](#toc0_)"
   ]
  },
  {
   "cell_type": "markdown",
   "metadata": {},
   "source": [
    "- 요소들의 중복을 허용하지 않으며, 요소 간의 순서가 없다.\n",
    "- 중괄호(`{}`)로 표현한다.\n",
    "- `set()` 함수를 사용해서도 만들 수 있다."
   ]
  },
  {
   "cell_type": "code",
   "execution_count": 36,
   "metadata": {},
   "outputs": [
    {
     "name": "stdout",
     "output_type": "stream",
     "text": [
      "{1, 2, 3}\n",
      "{1, 2, 3}\n",
      "{'t', 'P', 'h', 'o', 'n', 'y'}\n"
     ]
    }
   ],
   "source": [
    "a = {1, 2, 3, 2, 1}\n",
    "b = set([1, 2, 3, 2, 1])\n",
    "c = set(\"Python\")\n",
    "\n",
    "print(a)\n",
    "print(b)\n",
    "print(c)"
   ]
  },
  {
   "cell_type": "markdown",
   "metadata": {},
   "source": [
    "- 집합은 요소 간의 순서가 없기 때문에 인덱싱으로 값을 얻을 수 없다.\n",
    "    - 인덱싱으로 값을 불러오려면 리스트나 튜플로 변환해야 한다."
   ]
  },
  {
   "cell_type": "code",
   "execution_count": 37,
   "metadata": {},
   "outputs": [
    {
     "name": "stdout",
     "output_type": "stream",
     "text": [
      "{1, 2, 3}\n",
      "[1, 2, 3]\n",
      "1\n",
      "(1, 2, 3)\n",
      "3\n"
     ]
    }
   ],
   "source": [
    "a = set([1, 2, 3])\n",
    "b = list(a)     # 리스트로 변환\n",
    "c = tuple(a)    # 튜플로 변환\n",
    "\n",
    "print(a)\n",
    "print(b)\n",
    "print(b[0])\n",
    "print(c)\n",
    "print(c[2])"
   ]
  },
  {
   "cell_type": "code",
   "execution_count": 38,
   "metadata": {},
   "outputs": [
    {
     "name": "stdout",
     "output_type": "stream",
     "text": [
      "{3, 4, 5}\n",
      "{3, 4, 5}\n"
     ]
    }
   ],
   "source": [
    "a = set([1, 2, 3, 4, 5])\n",
    "b = set([3, 4, 5, 6, 7])\n",
    "\n",
    "c = a & b    # 교집합 구하기 1\n",
    "d = a.intersection(b)   # 교집합 구하기 2\n",
    "\n",
    "print(c)\n",
    "print(d)"
   ]
  },
  {
   "cell_type": "code",
   "execution_count": 39,
   "metadata": {},
   "outputs": [
    {
     "name": "stdout",
     "output_type": "stream",
     "text": [
      "{1, 2, 3, 4, 5, 6, 7}\n",
      "{1, 2, 3, 4, 5, 6, 7}\n"
     ]
    }
   ],
   "source": [
    "a = set([1, 2, 3, 4, 5])\n",
    "b = set([3, 4, 5, 6, 7])\n",
    "\n",
    "c = a | b    # 합집합 구하기 1\n",
    "d = a.union(b)   # 합집합 구하기 2\n",
    "\n",
    "print(c)\n",
    "print(d)"
   ]
  },
  {
   "cell_type": "code",
   "execution_count": 40,
   "metadata": {},
   "outputs": [
    {
     "name": "stdout",
     "output_type": "stream",
     "text": [
      "{1, 2}\n",
      "{1, 2}\n"
     ]
    }
   ],
   "source": [
    "a = set([1, 2, 3, 4, 5])\n",
    "b = set([3, 4, 5, 6, 7])\n",
    "\n",
    "c = a - b    # 차집합 구하기 1\n",
    "d = a.difference(b)   # 차집합 구하기 2\n",
    "\n",
    "print(c)\n",
    "print(d)"
   ]
  },
  {
   "cell_type": "markdown",
   "metadata": {},
   "source": [
    "### <a id='toc1_1_7_'></a>[논리(Boolean)](#toc0_)"
   ]
  },
  {
   "cell_type": "markdown",
   "metadata": {},
   "source": [
    "- 참과 거짓을 나타내는 자료형\n",
    "- `True`(참) 또는 `False`(거짓)의 값만 가질 수 있다.\n",
    "- `bool()` 함수를 사용하여 자료형의 참과 거짓을 식별할 수 있다.\n",
    "- 문자열, 리스트, 튜플, 딕셔너리 자료형에서 값이 비어있으면 `False`를, 그렇지 않으면 `True`를 반환한다.\n",
    "- 숫자형에서는 값이 `0`일 때는 `False`를, `0`이 아닐 때는 `True`를 반환한다."
   ]
  },
  {
   "cell_type": "code",
   "execution_count": 41,
   "metadata": {},
   "outputs": [
    {
     "name": "stdout",
     "output_type": "stream",
     "text": [
      "True\n",
      "<class 'bool'>\n",
      "False\n",
      "<class 'bool'>\n",
      "1\n",
      "<class 'int'>\n",
      "0\n",
      "<class 'int'>\n"
     ]
    }
   ],
   "source": [
    "a = True\n",
    "b = False\n",
    "\n",
    "print(a)\n",
    "print(type(a))\n",
    "print(b)\n",
    "print(type(b))\n",
    "print(a + b)    # True : 1, False : 0\n",
    "print(type(a + b))\n",
    "print(a * b)\n",
    "print(type(a * b))"
   ]
  },
  {
   "cell_type": "markdown",
   "metadata": {},
   "source": [
    "## <a id='toc1_2_'></a>[(2) 파이썬 제어문](#toc0_)"
   ]
  },
  {
   "cell_type": "markdown",
   "metadata": {},
   "source": [
    "### <a id='toc1_2_1_'></a>[if 문](#toc0_)"
   ]
  },
  {
   "cell_type": "code",
   "execution_count": 42,
   "metadata": {},
   "outputs": [
    {
     "name": "stdout",
     "output_type": "stream",
     "text": [
      "가설은\n",
      "사실이다.\n"
     ]
    }
   ],
   "source": [
    "a = True\n",
    "\n",
    "if a:\n",
    "    print(\"가설은\")\n",
    "    print(\"사실이다.\")\n",
    "else:\n",
    "    print(\"가설은\")\n",
    "    print(\"거짓이다.\")"
   ]
  },
  {
   "cell_type": "code",
   "execution_count": 43,
   "metadata": {},
   "outputs": [
    {
     "name": "stdout",
     "output_type": "stream",
     "text": [
      "x가 y보다 작거나 같다.\n"
     ]
    }
   ],
   "source": [
    "x = 3\n",
    "y = 7\n",
    "\n",
    "if x <= y:\n",
    "    print(\"x가 y보다 작거나 같다.\")\n",
    "else:\n",
    "    print(\"x가 y보다 크다.\")"
   ]
  },
  {
   "cell_type": "markdown",
   "metadata": {},
   "source": [
    "- 2가지 이상의 조건을 추가로 판단하기 위해서는 다음과 같은 연산자를 사용할 수 있다.\n",
    "    - `x or y`\n",
    "    - `x and y`\n",
    "    - `not x`"
   ]
  },
  {
   "cell_type": "code",
   "execution_count": 44,
   "metadata": {},
   "outputs": [
    {
     "name": "stdout",
     "output_type": "stream",
     "text": [
      "x가 y보다 작거나 같다.\n"
     ]
    }
   ],
   "source": [
    "x = 3\n",
    "y = 7\n",
    "\n",
    "if x == y or x < y:\n",
    "    print(\"x가 y보다 작거나 같다.\")\n",
    "else:\n",
    "    print(\"x가 y보다 크다.\")"
   ]
  },
  {
   "cell_type": "code",
   "execution_count": 45,
   "metadata": {},
   "outputs": [
    {
     "name": "stdout",
     "output_type": "stream",
     "text": [
      "데이터가 존재한다.\n"
     ]
    }
   ],
   "source": [
    "x = 3\n",
    "y = [1, 2, 3, 4, 5]\n",
    "\n",
    "if x in y:\n",
    "    print(\"데이터가 존재한다.\")\n",
    "else:\n",
    "    print(\"데이터가 존재하지 않는다.\")"
   ]
  },
  {
   "cell_type": "code",
   "execution_count": 46,
   "metadata": {},
   "outputs": [
    {
     "name": "stdout",
     "output_type": "stream",
     "text": [
      "x가 y보다 작다.\n"
     ]
    }
   ],
   "source": [
    "x = 3\n",
    "y = 7\n",
    "\n",
    "if x == y:\n",
    "    print(\"x와 y는 같다.\")\n",
    "elif x < y:\n",
    "    print(\"x가 y보다 작다.\")\n",
    "else:\n",
    "    print(\"x가 y보다 크다.\")"
   ]
  },
  {
   "cell_type": "markdown",
   "metadata": {},
   "source": [
    "### <a id='toc1_2_2_'></a>[while 문](#toc0_)"
   ]
  },
  {
   "cell_type": "code",
   "execution_count": 47,
   "metadata": {},
   "outputs": [
    {
     "name": "stdout",
     "output_type": "stream",
     "text": [
      "a값은 0입니다.\n",
      "a값은 1입니다.\n",
      "a값은 2입니다.\n",
      "a값은 3입니다.\n",
      "a값은 4입니다.\n",
      "while문이 종료되었습니다.\n"
     ]
    }
   ],
   "source": [
    "a = 0\n",
    "\n",
    "while a < 5:\n",
    "    print(\"a값은 %s입니다.\" % a)\n",
    "    a = a + 1\n",
    "\n",
    "print(\"while문이 종료되었습니다.\")"
   ]
  },
  {
   "cell_type": "code",
   "execution_count": 48,
   "metadata": {},
   "outputs": [
    {
     "name": "stdout",
     "output_type": "stream",
     "text": [
      "바구니에서 사과를 꺼냈습니다.\n",
      "바구니에서 바나나를 꺼냈습니다.\n",
      "바구니에서 토마토를 꺼냈습니다.\n",
      "바구니에 아무것도 남아있지 않습니다.\n"
     ]
    }
   ],
   "source": [
    "a = 0\n",
    "b = ['사과', '바나나', '토마토']\n",
    "\n",
    "while a < len(b):\n",
    "    print(\"바구니에서 %s를 꺼냈습니다.\" % b[a])\n",
    "    a += 1\n",
    "\n",
    "print(\"바구니에 아무것도 남아있지 않습니다.\")"
   ]
  },
  {
   "cell_type": "code",
   "execution_count": 49,
   "metadata": {},
   "outputs": [
    {
     "name": "stdout",
     "output_type": "stream",
     "text": [
      "a값은 5입니다.\n",
      "a값은 4입니다.\n",
      "a값은 3입니다.\n",
      "while문이 종료되었습니다.\n"
     ]
    }
   ],
   "source": [
    "a = 5\n",
    "\n",
    "while a > 0:\n",
    "    print(\"a값은 %s입니다.\" % a)\n",
    "    a -= 1\n",
    "\n",
    "    if a == 2:\n",
    "        break    # 반복문에서 빠져나오기\n",
    "\n",
    "print(\"while문이 종료되었습니다.\")"
   ]
  },
  {
   "cell_type": "code",
   "execution_count": 50,
   "metadata": {},
   "outputs": [
    {
     "name": "stdout",
     "output_type": "stream",
     "text": [
      "1\n",
      "3\n",
      "5\n",
      "7\n",
      "9\n"
     ]
    }
   ],
   "source": [
    "a = 0\n",
    "\n",
    "while a < 10:\n",
    "    a += 1\n",
    "    if a % 2 == 0:    # 2의 배수일 경우 건너뛰기\n",
    "        continue\n",
    "    print(a)"
   ]
  },
  {
   "cell_type": "markdown",
   "metadata": {},
   "source": [
    "### <a id='toc1_2_3_'></a>[for 문](#toc0_)"
   ]
  },
  {
   "cell_type": "code",
   "execution_count": 51,
   "metadata": {},
   "outputs": [
    {
     "name": "stdout",
     "output_type": "stream",
     "text": [
      "사과\n",
      "바나나\n",
      "토마토\n"
     ]
    }
   ],
   "source": [
    "a = ['사과', '바나나', '토마토']\n",
    "\n",
    "for i in a:\n",
    "    print(i)"
   ]
  },
  {
   "cell_type": "code",
   "execution_count": 52,
   "metadata": {},
   "outputs": [
    {
     "name": "stdout",
     "output_type": "stream",
     "text": [
      "90는(은) 평균보다 크다.\n",
      "25는(은) 평균보다 작거나 같다.\n",
      "67는(은) 평균보다 크다.\n",
      "45는(은) 평균보다 작거나 같다.\n",
      "80는(은) 평균보다 크다.\n"
     ]
    }
   ],
   "source": [
    "a = [90, 25, 67, 45, 80]\n",
    "b = sum(a) / len(a)\n",
    "\n",
    "for i in a:\n",
    "    if i > b:\n",
    "        print(f\"{i}는(은) 평균보다 크다.\")\n",
    "    else:\n",
    "        print(f\"{i}는(은) 평균보다 작거나 같다.\")"
   ]
  },
  {
   "cell_type": "code",
   "execution_count": 53,
   "metadata": {},
   "outputs": [
    {
     "name": "stdout",
     "output_type": "stream",
     "text": [
      "2 4 6 8 10 12 14 16 18 \n",
      "3 6 9 12 15 18 21 24 27 \n",
      "4 8 12 16 20 24 28 32 36 \n",
      "5 10 15 20 25 30 35 40 45 \n",
      "6 12 18 24 30 36 42 48 54 \n",
      "7 14 21 28 35 42 49 56 63 \n",
      "8 16 24 32 40 48 56 64 72 \n",
      "9 18 27 36 45 54 63 72 81 \n"
     ]
    }
   ],
   "source": [
    "# 구구단 출력하기\n",
    "for i in range(2, 10):\n",
    "    for j in range(1, 10):\n",
    "        print(i * j, end=' ')\n",
    "    print()"
   ]
  },
  {
   "cell_type": "code",
   "execution_count": 54,
   "metadata": {},
   "outputs": [
    {
     "name": "stdout",
     "output_type": "stream",
     "text": [
      "[40, 30, 20, 10]\n"
     ]
    }
   ],
   "source": [
    "a = [1, 2, 3, 4]\n",
    "result = []\n",
    "\n",
    "for i in a:\n",
    "    result.insert(0, i * 10)    # 0번 인덱스에 요소 넣기\n",
    "\n",
    "print(result)"
   ]
  },
  {
   "cell_type": "markdown",
   "metadata": {},
   "source": [
    "## <a id='toc1_3_'></a>[(3) 파이썬 함수](#toc0_)"
   ]
  },
  {
   "cell_type": "markdown",
   "metadata": {},
   "source": [
    "### <a id='toc1_3_1_'></a>[def 문](#toc0_)"
   ]
  },
  {
   "cell_type": "code",
   "execution_count": 55,
   "metadata": {},
   "outputs": [
    {
     "name": "stdout",
     "output_type": "stream",
     "text": [
      "10\n"
     ]
    }
   ],
   "source": [
    "def add(a, b):\n",
    "    return a + b\n",
    "\n",
    "a = 3\n",
    "b = 7\n",
    "c = add(a, b)\n",
    "\n",
    "print(c)"
   ]
  }
 ],
 "metadata": {
  "kernelspec": {
   "display_name": "AI_Study",
   "language": "python",
   "name": "python3"
  },
  "language_info": {
   "codemirror_mode": {
    "name": "ipython",
    "version": 3
   },
   "file_extension": ".py",
   "mimetype": "text/x-python",
   "name": "python",
   "nbconvert_exporter": "python",
   "pygments_lexer": "ipython3",
   "version": "3.11.5"
  }
 },
 "nbformat": 4,
 "nbformat_minor": 2
}
