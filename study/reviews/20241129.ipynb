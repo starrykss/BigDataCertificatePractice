{
 "cells": [
  {
   "cell_type": "markdown",
   "metadata": {},
   "source": [
    "# 20241129\n",
    "---"
   ]
  },
  {
   "cell_type": "code",
   "execution_count": null,
   "metadata": {},
   "outputs": [
    {
     "name": "stdout",
     "output_type": "stream",
     "text": [
      "정규성 가정 만족\n",
      "귀무가설 채택\n"
     ]
    }
   ],
   "source": [
    "from scipy.stats import *\n",
    "\n",
    "data = [162, 159, 158, 160, 165, 163, 157, 161, 159, 160]\n",
    "value_avg = 160\n",
    "alpha = 0.05\n",
    "\n",
    "# 정규성 검정\n",
    "stat, pvalue = shapiro(data)\n",
    "\n",
    "if pvalue > alpha:\n",
    "    print(\"정규성 가정 만족\")\n",
    "\n",
    "    stat, pvalue = ttest_1samp(data, value_avg)\n",
    "\n",
    "    if pvalue > alpha:\n",
    "        print(\"귀무가설 채택\")\n",
    "    else:\n",
    "        print(\"귀무가설 기각\")\n",
    "else:\n",
    "    print(\"정규성 가정 불만족\")\n",
    "\n",
    "    stat, pvalue = wilcoxon(data - value_avg, alternative=\"two-sided\")   # 양측 검정\n",
    "\n",
    "    if pvalue > alpha:\n",
    "        print(\"귀무가설 채택\")\n",
    "    else:\n",
    "        print(\"귀무가설 기각\")"
   ]
  },
  {
   "cell_type": "code",
   "execution_count": 5,
   "metadata": {},
   "outputs": [
    {
     "name": "stdout",
     "output_type": "stream",
     "text": [
      "정규성 가정 만족\n",
      "귀무가설 채택\n"
     ]
    }
   ],
   "source": [
    "from scipy.stats import *\n",
    "\n",
    "data = [4500, 4800, 4700, 5000, 4600, 4900, 4850, 4700, 4550, 4800]\n",
    "value_avg = 4700\n",
    "alpha = 0.05\n",
    "\n",
    "stat, pvalue = shapiro(data)\n",
    "\n",
    "if pvalue > alpha:\n",
    "    print(\"정규성 가정 만족\")\n",
    "\n",
    "    stat, pvalue = ttest_1samp(data, value_avg)\n",
    "\n",
    "    if pvalue > alpha:\n",
    "        print(\"귀무가설 채택\")\n",
    "    else:\n",
    "        print(\"귀무가설 기각\")\n",
    "\n",
    "else:\n",
    "    print(\"정규성 가정 불만족\")\n",
    "\n",
    "    stat, pvalue = wilcoxon(data - value_avg, alternative=\"two-sided\")\n",
    "\n",
    "    if pvalue > alpha:\n",
    "        print(\"귀무가설 채택\")\n",
    "    else:\n",
    "        print(\"귀무가설 기각\")"
   ]
  },
  {
   "cell_type": "code",
   "execution_count": 9,
   "metadata": {},
   "outputs": [
    {
     "name": "stdout",
     "output_type": "stream",
     "text": [
      "정규성 만족\n",
      "등분산성 불만족\n",
      "귀무가설 기각\n"
     ]
    }
   ],
   "source": [
    "from scipy.stats import *\n",
    "\n",
    "data1 = [162, 159, 158, 160, 165, 163, 157, 161, 159, 160]\n",
    "data2 = [150, 155, 153, 160, 162, 158, 157, 154, 155, 152]\n",
    "alpha = 0.5\n",
    "\n",
    "# 정규성 검정\n",
    "stat1, pvalue1 = shapiro(data1)\n",
    "stat2, pvalue2 = shapiro(data2)\n",
    "\n",
    "if pvalue1 > alpha and pvalue2 > alpha:\n",
    "    print(\"정규성 만족\")\n",
    "\n",
    "    # 등분산성 검정\n",
    "    stat, pvalue = levene(data1, data2)\n",
    "\n",
    "    if pvalue > alpha:\n",
    "        print(\"등분산성 만족\")\n",
    "\n",
    "        stat, pvalue = ttest_ind(data1, data2)\n",
    "\n",
    "        if pvalue > alpha:\n",
    "            print(\"귀무가설 채택\")\n",
    "        else:\n",
    "            print(\"귀무가설 기각\")\n",
    "    else:\n",
    "        print(\"등분산성 불만족\")\n",
    "\n",
    "        stat, pvalue = ttest_ind(data, data2, equal_var=False)\n",
    "\n",
    "        if pvalue > alpha:\n",
    "            print(\"귀무가설 채택\")\n",
    "        else:\n",
    "            print(\"귀무가설 기각\")\n",
    "else:\n",
    "    stat, pvalue = mannwhitneyu(data1, data2, alternative=\"two-sided\")   # 양측 검정\n",
    "\n",
    "    if pvalue > alpha:\n",
    "        print(\"귀무가설 채택\")\n",
    "    else:\n",
    "        print(\"귀무가설 기각\")"
   ]
  },
  {
   "cell_type": "code",
   "execution_count": 10,
   "metadata": {},
   "outputs": [
    {
     "name": "stdout",
     "output_type": "stream",
     "text": [
      "정규성 만족\n",
      "귀무가설 기각\n"
     ]
    },
    {
     "name": "stderr",
     "output_type": "stream",
     "text": [
      "c:\\Users\\kss34\\anaconda3\\envs\\bigdata\\Lib\\site-packages\\scipy\\stats\\_axis_nan_policy.py:531: RuntimeWarning: Precision loss occurred in moment calculation due to catastrophic cancellation. This occurs when the data are nearly identical. Results may be unreliable.\n",
      "  res = hypotest_fun_out(*samples, **kwds)\n"
     ]
    }
   ],
   "source": [
    "from scipy.stats import *\n",
    "\n",
    "before = [0.5, 0.7, 0.6, 0.4, 0.3, 0.8, 0.5, 0.6, 0.7, 0.4]\n",
    "after = [0.6, 0.8, 0.7, 0.5, 0.4, 0.9, 0.6, 0.7, 0.8, 0.5]\n",
    "alpha = 0.5\n",
    "\n",
    "\n",
    "# 정규성 검정\n",
    "stat1, pvalue1 = shapiro(before)\n",
    "stat2, pvalue2 = shapiro(after)\n",
    "\n",
    "if pvalue1 > alpha and pvalue2 > alpha:\n",
    "    print(\"정규성 만족\")\n",
    "\n",
    "    stat, pvalue = ttest_rel(before, after)\n",
    "\n",
    "    if pvalue > alpha:\n",
    "        print(\"귀무가설 채택\")\n",
    "    else:\n",
    "        print(\"귀무가설 기각\")\n",
    "else:\n",
    "    print(\"정규성 불만족\")\n",
    "\n",
    "    stat, pvalue = wilcoxon(before, after)\n",
    "\n",
    "    if pvalue > alpha:\n",
    "        print(\"귀무가설 채택\")\n",
    "    else:\n",
    "        print(\"귀무가설 기각\")"
   ]
  },
  {
   "cell_type": "code",
   "execution_count": 19,
   "metadata": {},
   "outputs": [
    {
     "name": "stdout",
     "output_type": "stream",
     "text": [
      "100\n",
      "[50, 30, 20]\n",
      "6.333333333333334\n",
      "0.0421438435092764\n",
      "귀무가설 기각\n"
     ]
    }
   ],
   "source": [
    "from scipy.stats import chisquare\n",
    "\n",
    "observed = [55, 35, 10]\n",
    "expected_ratio = [0.5, 0.3, 0.2]\n",
    "\n",
    "total_count = sum(observed)\n",
    "print(total_count)\n",
    "\n",
    "expected = [int(ratio * total_count) for ratio in expected_ratio]\n",
    "print(expected)\n",
    "\n",
    "stat, pvalue = chisquare(observed, f_exp=expected)\n",
    "\n",
    "print(stat)\n",
    "print(pvalue)\n",
    "\n",
    "alpha = 0.05\n",
    "if pvalue > alpha:\n",
    "    print(\"귀무가설 채택\")\n",
    "else:\n",
    "    print(\"귀무가설 기각\")"
   ]
  },
  {
   "cell_type": "code",
   "execution_count": null,
   "metadata": {},
   "outputs": [
    {
     "name": "stdout",
     "output_type": "stream",
     "text": [
      "  직급   부서  인원수\n",
      "0  A   영업   30\n",
      "1  A  마케팅   20\n",
      "2  B   영업   40\n",
      "3  B  마케팅   30\n",
      "4  C   영업   10\n",
      "5  C  마케팅   10\n",
      "부서  마케팅  영업\n",
      "직급         \n",
      "A    20  30\n",
      "B    30  40\n",
      "C    10  10\n",
      "0.5833333333333333\n",
      "0.7470175003104327\n",
      "귀무가설 채택\n"
     ]
    }
   ],
   "source": [
    "import pandas as pd\n",
    "from scipy.stats import chi2_contingency\n",
    "\n",
    "\n",
    "# <직급>과 <부서>가 독립적인지 검정하기\n",
    "# --> 두 변수 모두 범주형\n",
    "\n",
    "data = {\n",
    "    '직급': ['A', 'A', 'B', 'B', 'C', 'C'],\n",
    "    '부서': ['영업', '마케팅', '영업', '마케팅', '영업', '마케팅'],\n",
    "    '인원수': [30, 20, 40, 30, 10, 10]\n",
    "}\n",
    "\n",
    "df = pd.DataFrame(data)\n",
    "print(df)\n",
    "\n",
    "\"\"\"\n",
    "  직급   부서  인원수\n",
    "0  A   영업   30\n",
    "1  A  마케팅   20\n",
    "2  B   영업   40\n",
    "3  B  마케팅   30\n",
    "4  C   영업   10\n",
    "5  C  마케팅   10\n",
    "\"\"\"\n",
    "\n",
    "table = pd.crosstab(\n",
    "    df['직급'],\n",
    "    df['부서'],\n",
    "    aggfunc='sum',\n",
    "    values=df['인원수']\n",
    ")\n",
    "print(table)\n",
    "\n",
    "\"\"\"\n",
    "부서  마케팅  영업\n",
    "직급         \n",
    "A    20  30\n",
    "B    30  40\n",
    "C    10  10\n",
    "\"\"\"\n",
    "\n",
    "stat, pvalue, dof, exp = chi2_contingency(table)\n",
    "print(stat)\n",
    "print(pvalue)\n",
    "\n",
    "alpha = 0.5\n",
    "if pvalue > 0.5:\n",
    "    print(\"귀무가설 채택\")\n",
    "else:\n",
    "    print(\"묵무가설 기각\")\n"
   ]
  },
  {
   "cell_type": "code",
   "execution_count": null,
   "metadata": {},
   "outputs": [
    {
     "name": "stdout",
     "output_type": "stream",
     "text": [
      "   과목   성별  인원수\n",
      "0  수학  남학생   30\n",
      "1  수학  여학생   35\n",
      "2  영어  남학생   40\n",
      "3  영어  여학생   30\n",
      "4  과학  남학생   20\n",
      "5  과학  여학생   35\n",
      "성별  남학생  여학생\n",
      "과목          \n",
      "과학   20   35\n",
      "수학   30   35\n",
      "영어   40   30\n",
      "귀무가설 채택\n"
     ]
    }
   ],
   "source": [
    "import pandas as pd\n",
    "from scipy.stats import *\n",
    "\n",
    "# 남학생, 여학생 두 그룹을 대상으로 선호하는 과목이 동일한지 여부 검정\n",
    "# 성별, 과목 -> 범주형 변수\n",
    "\n",
    "data = {\n",
    "    '과목': ['수학', '수학', '영어', '영어', '과학', '과학'],\n",
    "    '성별': ['남학생', '여학생', '남학생', '여학생', '남학생', '여학생'],\n",
    "    '인원수': [30, 35, 40, 30, 20, 35]\n",
    "}\n",
    "df = pd.DataFrame(data)\n",
    "print(df)\n",
    "\n",
    "\"\"\"\n",
    "   과목   성별  인원수\n",
    "0  수학  남학생   30\n",
    "1  수학  여학생   35\n",
    "2  영어  남학생   40\n",
    "3  영어  여학생   30\n",
    "4  과학  남학생   20\n",
    "5  과학  여학생   35\n",
    "\"\"\"\n",
    "\n",
    "table = pd.crosstab(\n",
    "    df['과목'], \n",
    "    df['성별'],\n",
    "    aggfunc='sum',\n",
    "    values=df['인원수']\n",
    ")\n",
    "print(table)\n",
    "\n",
    "\"\"\"\n",
    "성별  남학생  여학생\n",
    "과목          \n",
    "과학   20   35\n",
    "수학   30   35\n",
    "영어   40   30\n",
    "\"\"\"\n",
    "\n",
    "stat, pvalue, dof, exp = chi2_contingency(table)\n",
    "\n",
    "alpha = 0.05\n",
    "\n",
    "if pvalue > alpha:\n",
    "    print(\"귀무가설 채택\")\n",
    "else:\n",
    "    print(\"귀무가설 기각\")"
   ]
  },
  {
   "cell_type": "code",
   "execution_count": null,
   "metadata": {},
   "outputs": [],
   "source": []
  }
 ],
 "metadata": {
  "kernelspec": {
   "display_name": "bigdata",
   "language": "python",
   "name": "python3"
  },
  "language_info": {
   "codemirror_mode": {
    "name": "ipython",
    "version": 3
   },
   "file_extension": ".py",
   "mimetype": "text/x-python",
   "name": "python",
   "nbconvert_exporter": "python",
   "pygments_lexer": "ipython3",
   "version": "3.12.3"
  }
 },
 "nbformat": 4,
 "nbformat_minor": 2
}
