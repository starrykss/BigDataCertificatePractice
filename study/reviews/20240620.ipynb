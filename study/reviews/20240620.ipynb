{
 "cells": [
  {
   "cell_type": "markdown",
   "metadata": {},
   "source": [
    "# 20240620\n",
    "---"
   ]
  },
  {
   "cell_type": "markdown",
   "metadata": {},
   "source": [
    "## 최빈수 구하기"
   ]
  },
  {
   "cell_type": "code",
   "execution_count": 1,
   "metadata": {},
   "outputs": [],
   "source": [
    "import numpy as np\n",
    "\n",
    "x = np.array([1, 2, 1, 3, 1])\n",
    "mode = np.bincount(x).argmax()"
   ]
  },
  {
   "cell_type": "code",
   "execution_count": 5,
   "metadata": {},
   "outputs": [
    {
     "name": "stdout",
     "output_type": "stream",
     "text": [
      "6\n"
     ]
    }
   ],
   "source": [
    "from scipy.stats import mode\n",
    "\n",
    "x = np.array([1, 2, 1, 1, 3, 1, 4, 4, 5, 6, 6, 6, 7, 7, 6, 6])\n",
    "result = mode(x)\n",
    "print(result.mode)"
   ]
  },
  {
   "cell_type": "markdown",
   "metadata": {},
   "source": [
    "## 빈도수 구하기"
   ]
  },
  {
   "cell_type": "code",
   "execution_count": 7,
   "metadata": {},
   "outputs": [
    {
     "name": "stdout",
     "output_type": "stream",
     "text": [
      "cyl\n",
      "8    14\n",
      "4    11\n",
      "6     7\n",
      "Name: count, dtype: int64\n"
     ]
    }
   ],
   "source": [
    "import pandas as pd\n",
    "\n",
    "df = pd.read_csv('./datasets/mtcars.csv')\n",
    "\n",
    "result = pd.Series(df['cyl']).value_counts()\n",
    "print(result)"
   ]
  },
  {
   "cell_type": "markdown",
   "metadata": {},
   "source": [
    "## 제1유형\n",
    "---"
   ]
  },
  {
   "cell_type": "code",
   "execution_count": 45,
   "metadata": {},
   "outputs": [
    {
     "name": "stdout",
     "output_type": "stream",
     "text": [
      "Age\n"
     ]
    }
   ],
   "source": [
    "import numpy as np\n",
    "import pandas as pd\n",
    "\n",
    "df = pd.read_csv('./datasets/P210302.csv')\n",
    "\n",
    "total_count = len(df)\n",
    "missing_value_count = df.isna().sum()\n",
    "\n",
    "ratio = missing_value_count / total_count\n",
    "\n",
    "ratio = pd.DataFrame(ratio)\n",
    "ratio = ratio.sort_values(by=0, ascending=False)\n",
    "\n",
    "print(ratio.index[0])"
   ]
  },
  {
   "cell_type": "markdown",
   "metadata": {},
   "source": [
    "## 제2유형\n",
    "---"
   ]
  },
  {
   "cell_type": "markdown",
   "metadata": {},
   "source": [
    "## 제3유형\n",
    "---"
   ]
  },
  {
   "cell_type": "markdown",
   "metadata": {},
   "source": [
    "### Z-검정"
   ]
  },
  {
   "cell_type": "markdown",
   "metadata": {},
   "source": [
    "- 모평균, 모표준편차 확인 가능할 경우"
   ]
  },
  {
   "cell_type": "code",
   "execution_count": 11,
   "metadata": {},
   "outputs": [
    {
     "name": "stdout",
     "output_type": "stream",
     "text": [
      "z-값: 0.3023715784073826\n",
      "p-값: 0.7623688184698392\n"
     ]
    }
   ],
   "source": [
    "import numpy as np\n",
    "from scipy.stats import norm\n",
    "\n",
    "x = np.array([25, 27, 31, 23, 24, 30, 26])\n",
    "\n",
    "mean_x = np.mean(x)   # 표본평균\n",
    "mean_mu = 26\n",
    "sigma = 5    # 모표준편차\n",
    "n = len(x)   # 표본 크기\n",
    "\n",
    "# z = (표본평균 - 모평균) / (모표준편차 / root(표본크기))\n",
    "z = (mean_x - mean_mu) / (sigma / np.sqrt(n))\n",
    "print(f\"z-값: {z}\")\n",
    "\n",
    "p = (1 - norm.cdf(z)) * 2\n",
    "print(f\"p-값: {p}\")"
   ]
  },
  {
   "cell_type": "markdown",
   "metadata": {},
   "source": [
    "### T-검정"
   ]
  },
  {
   "cell_type": "markdown",
   "metadata": {},
   "source": [
    "- 독립변수 : 범주형, 종속변수 : 수치형\n",
    "- 두 집단의 평균 비교\n",
    "- 표본이 정규성, 등분산성, 독립성을 만족할 경우 적용"
   ]
  },
  {
   "cell_type": "markdown",
   "metadata": {},
   "source": [
    "#### (1) 단일 표본 T-검정"
   ]
  },
  {
   "cell_type": "markdown",
   "metadata": {},
   "source": [
    "- 한 집단의 평균(표본평균)이 모집단의 평균(모평균)과 같은지 검정하는 방법\n",
    "- 검정을 수행하기 전에 샤피로 윌크 검정을 이용하여 **정규성 검정** 을 진행한다.\n",
    "    - 정규성을 만족할 경우 `ttest_1samp()` 함수를 사용하여 검정을 수행한다.\n",
    "    - 정규성을 만족하지 않을 경우 `wilcoxon()` 함수를 사용하여 검정을 수행한다."
   ]
  },
  {
   "cell_type": "code",
   "execution_count": 12,
   "metadata": {},
   "outputs": [
    {
     "name": "stdout",
     "output_type": "stream",
     "text": [
      "ShapiroResult(statistic=0.98505924025743, pvalue=0.774149900641557)\n"
     ]
    }
   ],
   "source": [
    "import numpy as np\n",
    "from scipy.stats import shapiro\n",
    "\n",
    "np.random.seed(123)\n",
    "x = np.random.normal(loc=0, scale=1, size=50)\n",
    "\n",
    "# 정규성 검정 수행\n",
    "result = shapiro(x)\n",
    "print(result)   # p-값이 0.05 보다 크므로 귀무가설 채택 (정규성 가정 만족)"
   ]
  },
  {
   "cell_type": "markdown",
   "metadata": {},
   "source": [
    "> 정규성 가정을 만족할 경우"
   ]
  },
  {
   "cell_type": "code",
   "execution_count": 14,
   "metadata": {},
   "outputs": [
    {
     "name": "stdout",
     "output_type": "stream",
     "text": [
      "ShapiroResult(statistic=0.9575422062677347, pvalue=0.8006123833637463)\n",
      "TtestResult(statistic=2.9958563516135266, pvalue=0.03024293910122357, df=5)\n"
     ]
    }
   ],
   "source": [
    "import pandas as pd\n",
    "from scipy.stats import shapiro, ttest_1samp\n",
    "\n",
    "df = pd.DataFrame({\n",
    "    'height': [12, 14, 16, 11, 17, 13]\n",
    "})\n",
    "\n",
    "# 정규성 검정\n",
    "result = shapiro(df['height'])\n",
    "print(result)   # p-값이 0.05보다 크므로 정규성 가정 만족\n",
    "\n",
    "result = ttest_1samp(df['height'], popmean=11)\n",
    "print(result)   # p-값이 0.05보다 작으므로 대립가설 선택"
   ]
  },
  {
   "cell_type": "markdown",
   "metadata": {},
   "source": [
    "> 정규성 가정을 만족하지 않을 경우"
   ]
  },
  {
   "cell_type": "code",
   "execution_count": 16,
   "metadata": {},
   "outputs": [
    {
     "name": "stdout",
     "output_type": "stream",
     "text": [
      "ShapiroResult(statistic=0.9518791269479144, pvalue=6.730857622701013e-05)\n",
      "WilcoxonResult(statistic=0.0, pvalue=2.096734736413612e-25)\n"
     ]
    }
   ],
   "source": [
    "import pandas as pd\n",
    "from scipy.stats import shapiro, wilcoxon\n",
    "\n",
    "df = pd.read_csv('./datasets/cats.csv')\n",
    "\n",
    "# 정규성 검정\n",
    "target = df['Bwt']\n",
    "result = shapiro(target)\n",
    "print(result)    # p-value가 0.05 보다 작으므로 정규성 가정 불만족\n",
    "\n",
    "# 윌콕슨 검정\n",
    "result = wilcoxon(target, alternative='two-sided')\n",
    "print(result)   # p-값이 0.05 보다 작으므로 대립가설 채택"
   ]
  },
  {
   "cell_type": "markdown",
   "metadata": {},
   "source": [
    "#### (2) 쌍체 표본 T-검정"
   ]
  },
  {
   "cell_type": "markdown",
   "metadata": {},
   "source": [
    "- 한 집단에서 처치를 받기 전과 후의 차이를 알아보기 위해 사용\n",
    "- 표본이 하나, 독립 변수가 1개일 때 사용\n",
    "- 종속형 변수는 연속형 변수이어야 한다.\n",
    "- 모집단의 관측값이 정규성 가정을 만족해야 한다."
   ]
  },
  {
   "cell_type": "code",
   "execution_count": 20,
   "metadata": {},
   "outputs": [
    {
     "name": "stdout",
     "output_type": "stream",
     "text": [
      "TtestResult(statistic=-2.633628675421043, pvalue=0.019435182851729293, df=6)\n"
     ]
    }
   ],
   "source": [
    "import pandas as pd\n",
    "from scipy.stats import ttest_rel, shapiro\n",
    "\n",
    "data = pd.DataFrame({\n",
    "    'before': [5, 3, 8, 4, 3, 2, 1],\n",
    "    'after': [8, 6, 6, 5, 8, 7, 3]\n",
    "})\n",
    "\n",
    "# 쌍체 표본 검정 (정규성 가정 만족한다는 가정 하에)\n",
    "result = ttest_rel(data['before'], data['after'], alternative='less')\n",
    "print(result)"
   ]
  },
  {
   "cell_type": "markdown",
   "metadata": {},
   "source": [
    "#### (3) 독립 표본 T-검정"
   ]
  },
  {
   "cell_type": "markdown",
   "metadata": {},
   "source": [
    "- 데이터가 서로 다른 모집단에서 추출된 경우 사용\n",
    "- 독립된 두 집단의 평균 차이를 검정하는 방법\n",
    "- 검정 전 반드시 정규성, 등분산성 가정을 만족하는지 확인\n",
    "- 독립 변수는 범주형, 종속 변수는 연속형\n",
    "- 검정 전 **등분산성 검정** 을 수행한다."
   ]
  },
  {
   "cell_type": "code",
   "execution_count": 23,
   "metadata": {},
   "outputs": [
    {
     "name": "stdout",
     "output_type": "stream",
     "text": [
      "LeveneResult(statistic=19.43101190877999, pvalue=2.0435285255189404e-05)\n",
      "TtestResult(statistic=-8.70948849909559, pvalue=8.831034455859356e-15, df=136.83788299625363)\n"
     ]
    }
   ],
   "source": [
    "import pandas as pd\n",
    "from scipy.stats import levene, ttest_ind\n",
    "\n",
    "df = pd.read_csv('./datasets/cats.csv')\n",
    "\n",
    "# 그룹 지정\n",
    "group1 = df[df['Sex'] == 'F']['Bwt']\n",
    "group2 = df[df['Sex'] == 'M']['Bwt']\n",
    "\n",
    "# 등분산성 검정\n",
    "result = levene(group1, group2)\n",
    "print(result)   # p-값이 0.05보다 작으므로 대립가설 채택 (등분산성 불만족)\n",
    "\n",
    "# 독립 표본 T-검정\n",
    "result = ttest_ind(group1, group2, equal_var=False)\n",
    "print(result)   # p-값이 0.05 보다 작으므로 대립가설 채택"
   ]
  },
  {
   "cell_type": "markdown",
   "metadata": {},
   "source": [
    "### F-검정"
   ]
  },
  {
   "cell_type": "markdown",
   "metadata": {},
   "source": [
    "- 두 표본의 분산에 대한 차이가 통계적으로 유의미한지 검정\n",
    "- 두 모집단 간의 비율에 대한 검정"
   ]
  },
  {
   "cell_type": "code",
   "execution_count": 26,
   "metadata": {},
   "outputs": [
    {
     "name": "stdout",
     "output_type": "stream",
     "text": [
      "(1.48, 0.7133026753046221)\n"
     ]
    }
   ],
   "source": [
    "import numpy as np\n",
    "from scipy.stats import f\n",
    "\n",
    "df1 = np.array([1, 2, 3, 4, 6])\n",
    "df2 = np.array([4, 5, 6, 7, 8])\n",
    "\n",
    "var1 = np.var(df1)\n",
    "var2 = np.var(df2)\n",
    "\n",
    "\n",
    "# F = x_var / y_var (x_var > y_var)\n",
    "def f_test(x, y):\n",
    "\n",
    "    x_var = np.var(x)\n",
    "    y_var = np.var(y)\n",
    "\n",
    "    if x_var < y_var:\n",
    "        x, y = y, x\n",
    "    \n",
    "    f_value = x_var / y_var\n",
    "    x_dof = x.size - 1\n",
    "    y_dof = y.size - 1\n",
    "\n",
    "    # F-검정\n",
    "    p_value = (1 - f.cdf(f_value, x_dof, y_dof)) * 2   # 양측 검정\n",
    "\n",
    "    return f_value, p_value\n",
    "\n",
    "\n",
    "result = f_test(df1, df2)\n",
    "print(result)\n"
   ]
  },
  {
   "cell_type": "markdown",
   "metadata": {},
   "source": [
    "### 카이제곱 검정"
   ]
  },
  {
   "cell_type": "markdown",
   "metadata": {},
   "source": [
    "- 범주형 자료 간의 차이를 보여주는 기법\n",
    "- 관측 빈도가 기대 빈도와 유의하게 다른지 검정하는 방법\n",
    "- 적합도 검정, 독립성 검정, 동질성 검정 3가지 방법 존재"
   ]
  },
  {
   "cell_type": "markdown",
   "metadata": {},
   "source": [
    "#### (1) 적합도 검정"
   ]
  },
  {
   "cell_type": "markdown",
   "metadata": {},
   "source": [
    "- 표본 집단이 주어진 분포를 따르고 있는지 검정하는 방법\n",
    "- 구분 범주가 상호 베타적이어야 함. (예: 성별(남자, 여자), 등수(1등, 2등, 3등))\n",
    "- 자유도 : (범주의 수) - 1"
   ]
  },
  {
   "cell_type": "code",
   "execution_count": 27,
   "metadata": {},
   "outputs": [
    {
     "name": "stdout",
     "output_type": "stream",
     "text": [
      "Power_divergenceResult(statistic=8.181818181818182, pvalue=0.004231232899758152)\n"
     ]
    }
   ],
   "source": [
    "import numpy as np\n",
    "from scipy.stats import chisquare\n",
    "\n",
    "observe = np.array([90, 160])\n",
    "expect = np.array([0.45, 0.55]) * np.sum(observe)\n",
    "\n",
    "# 적합도 검정\n",
    "result = chisquare(f_obs=observe, f_exp=expect)\n",
    "print(result)   # p-값이 0.05 보다 작으므로 대립가설 채택"
   ]
  },
  {
   "cell_type": "markdown",
   "metadata": {},
   "source": [
    "#### (2) 독립성 검정"
   ]
  },
  {
   "cell_type": "markdown",
   "metadata": {},
   "source": [
    "- 범주가 2개 이상의 범주로 분할되어 있을 때 사용\n",
    "- 각 범주가 서로 독립적인지, 서로 연관성이 있는지 검정하는 방법\n",
    "    - 예) 학년(1학년, 2학년, 3학년)이라는 범주형 데이터와 선호 과목(국, 영, 수)이라는 범주형 데이터 간에 서로 연관성이 있는지 독립적인지를 판단하는 문제에서 사용\n",
    "- 귀무 가설 : 요인1과 요인2는 독립적이다.\n",
    "- 자유도 : {(범주1의 수) - 1} * {(범주2의 수) - 1}"
   ]
  },
  {
   "cell_type": "code",
   "execution_count": 30,
   "metadata": {},
   "outputs": [
    {
     "name": "stdout",
     "output_type": "stream",
     "text": [
      "Chi2ContingencyResult(statistic=4.904232352768243, pvalue=0.0267909570897706, dof=1, expected_freq=array([[57.53773585, 49.46226415],\n",
      "       [56.46226415, 48.53773585]]))\n"
     ]
    }
   ],
   "source": [
    "import pandas as pd\n",
    "from scipy.stats import chi2_contingency\n",
    "\n",
    "df = pd.read_csv('./datasets/survey.csv')\n",
    "\n",
    "# 교차표 형태로 만들기\n",
    "table = pd.crosstab(df['Sex'], df['Exer'])\n",
    "\n",
    "# 독립성 검정\n",
    "result = chi2_contingency(table)\n",
    "print(result)    # p-값이 0.05보다 작으므로 대립가설 채택 (서로 독립 X)\n"
   ]
  },
  {
   "cell_type": "markdown",
   "metadata": {},
   "source": [
    "#### (3) 동질성 검정"
   ]
  },
  {
   "cell_type": "markdown",
   "metadata": {},
   "source": [
    "- 각가의 독립적인 부모 집단으로부터 정해진 표본의 크기 만큼 자료를 추출하는 경우 관측값들이 정해진 범주 내에서 서로 동질한지 여부를 검정하는 기법\n",
    "    - 예) 남학생과 여학생 그룹에 대하여 각 그룹이 선호하는 과목이 같은지 여부를 판단하는 문제\n",
    "- 귀무 가설 : 모집단은 동질하다.\n",
    "- 동질성 검정과 독립성 검정은 계산 방식은 동일하다."
   ]
  },
  {
   "cell_type": "code",
   "execution_count": 32,
   "metadata": {},
   "outputs": [
    {
     "name": "stdout",
     "output_type": "stream",
     "text": [
      "Chi2ContingencyResult(statistic=23.799999999999997, pvalue=8.759622201519535e-05, dof=4, expected_freq=array([[21.17647059, 17.64705882, 21.17647059],\n",
      "       [21.17647059, 17.64705882, 21.17647059],\n",
      "       [17.64705882, 14.70588235, 17.64705882]]))\n"
     ]
    }
   ],
   "source": [
    "import numpy as np\n",
    "from scipy.stats import chi2_contingency\n",
    "\n",
    "data = np.array([[10, 20, 30], [20, 20, 20], [30, 10, 10]])\n",
    "\n",
    "result = chi2_contingency(data)\n",
    "\n",
    "print(result)"
   ]
  },
  {
   "cell_type": "code",
   "execution_count": null,
   "metadata": {},
   "outputs": [],
   "source": []
  }
 ],
 "metadata": {
  "kernelspec": {
   "display_name": "bigdata",
   "language": "python",
   "name": "python3"
  },
  "language_info": {
   "codemirror_mode": {
    "name": "ipython",
    "version": 3
   },
   "file_extension": ".py",
   "mimetype": "text/x-python",
   "name": "python",
   "nbconvert_exporter": "python",
   "pygments_lexer": "ipython3",
   "version": "3.12.3"
  }
 },
 "nbformat": 4,
 "nbformat_minor": 2
}
