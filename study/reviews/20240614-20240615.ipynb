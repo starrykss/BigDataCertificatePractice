{
 "cells": [
  {
   "cell_type": "markdown",
   "metadata": {},
   "source": [
    "# 20240614 - \n",
    "---"
   ]
  },
  {
   "cell_type": "markdown",
   "metadata": {},
   "source": [
    "## 제1유형\n",
    "---"
   ]
  },
  {
   "cell_type": "markdown",
   "metadata": {},
   "source": [
    "### 문제 1 (21년 2회 기출)"
   ]
  },
  {
   "cell_type": "markdown",
   "metadata": {},
   "source": [
    "- BostonHousing 데이터\n",
    "- `crim` 항목의 상위에서 10번째 값(상위 10개의 값 중에서 가장 적은 값)으로 상위 10개의 값을 변환하고, `age`가 80 이상인 값에 대하여 `crim`의 평균 구하기\n",
    "- 소수점 셋째 자리에서 반올림해서 소수점 2째 자리로 출력하기"
   ]
  },
  {
   "cell_type": "markdown",
   "metadata": {},
   "source": [
    "> 모범 답안"
   ]
  },
  {
   "cell_type": "code",
   "execution_count": 299,
   "metadata": {},
   "outputs": [
    {
     "name": "stdout",
     "output_type": "stream",
     "text": [
      "5.76\n"
     ]
    }
   ],
   "source": [
    "import numpy as np\n",
    "import pandas as pd\n",
    "\n",
    "df = pd.read_csv('./datasets/P210201.csv')\n",
    "\n",
    "# crim 항목의 상위에서 10번째 값 뽑기\n",
    "new_df = df.sort_values(by='crim', ascending=False)   # 내림차순 정렬\n",
    "top10 = new_df.head(10)\n",
    "top10_value = top10['crim'].iloc[9]\n",
    "\n",
    "# 상위 10개의 값 변환하기\n",
    "df['crim'] = np.where(df['crim'] >= top10_value, top10_value, df['crim'])\n",
    "\n",
    "# age가 80 이상인 값에 대하여 crim의 평균 구하기\n",
    "mean_value = df['crim'][df['age'] >= 80].mean()\n",
    "answer = round(mean_value, 2)\n",
    "print(answer)"
   ]
  },
  {
   "cell_type": "markdown",
   "metadata": {},
   "source": [
    "> gpt 답안"
   ]
  },
  {
   "cell_type": "markdown",
   "metadata": {},
   "source": [
    "- 상위 `n`번째 값 뽑기 : `df['col'].nlargest(n).iloc[-1]`"
   ]
  },
  {
   "cell_type": "code",
   "execution_count": 300,
   "metadata": {},
   "outputs": [
    {
     "name": "stdout",
     "output_type": "stream",
     "text": [
      "5.76\n"
     ]
    }
   ],
   "source": [
    "import numpy as np\n",
    "import pandas as pd\n",
    "\n",
    "df = pd.read_csv('./datasets/P210201.csv')\n",
    "\n",
    "# 'crim' 항목의 상위 10번째 값 뽑기\n",
    "top10_value = df['crim'].nlargest(10).iloc[-1]\n",
    "\n",
    "# 상위 10개의 값을 변환하기\n",
    "df['crim'] = np.where(df['crim'] >= top10_value, top10_value, df['crim'])\n",
    "\n",
    "# 'age'가 80 이상인 값에 대해 'crim'의 평균 구하기\n",
    "answer = round(df.loc[df['age'] >= 80, 'crim'].mean(), 2)\n",
    "\n",
    "print(answer)\n"
   ]
  },
  {
   "cell_type": "markdown",
   "metadata": {},
   "source": [
    "### 문제 2 (21년 2회 기출)"
   ]
  },
  {
   "cell_type": "markdown",
   "metadata": {},
   "source": [
    "- housing 데이터\n",
    "- 데이터의 첫 번째 행부터 순서대로 80%까지의 데이터를 훈련 데이터로 추출한 후, `total_bedrooms` 변수의 결측값(NA)을 `total_bedrooms` 변수의 중앙값으로 대체하고 대체 전의 `total_bedrooms` 변수 표준편차 값과 대체 후의 `total_bedrooms` 변수 표준편차 값의 차이의 절댓값 구하기\n",
    "- 소수점 둘째 자리로 출력하기"
   ]
  },
  {
   "cell_type": "markdown",
   "metadata": {},
   "source": [
    "> 모범 답안"
   ]
  },
  {
   "cell_type": "code",
   "execution_count": 301,
   "metadata": {},
   "outputs": [
    {
     "name": "stdout",
     "output_type": "stream",
     "text": [
      "1.98\n"
     ]
    },
    {
     "name": "stderr",
     "output_type": "stream",
     "text": [
      "C:\\Users\\kss34\\AppData\\Local\\Temp\\ipykernel_29564\\3535471237.py:13: SettingWithCopyWarning: \n",
      "A value is trying to be set on a copy of a slice from a DataFrame.\n",
      "Try using .loc[row_indexer,col_indexer] = value instead\n",
      "\n",
      "See the caveats in the documentation: https://pandas.pydata.org/pandas-docs/stable/user_guide/indexing.html#returning-a-view-versus-a-copy\n",
      "  train_df['total_bedrooms'] = train_df['total_bedrooms'].fillna(train_df['total_bedrooms'].median())\n"
     ]
    }
   ],
   "source": [
    "import numpy as np\n",
    "import pandas as pd\n",
    "\n",
    "df = pd.read_csv('./datasets/P210202.csv')\n",
    "\n",
    "# 상위 80%까지의 데이터를 훈련 데이터로 추출하기\n",
    "nrow = int(len(df) * 0.8)\n",
    "train_df = df[:nrow]\n",
    "\n",
    "a = train_df['total_bedrooms'].std()\n",
    "\n",
    "# total_bedrooms 변수의 결측값을 total_bedrooms 변수의 중앙값으로 대체\n",
    "train_df['total_bedrooms'] = train_df['total_bedrooms'].fillna(train_df['total_bedrooms'].median())\n",
    "\n",
    "b = train_df['total_bedrooms'].std()\n",
    "\n",
    "# 대체 전의 total_bedrooms 변수 표준편차 값과 대체 후의 total_bedrooms 변수 표준편차 값의 차이의 절댓값 구하기\n",
    "answer = round(abs(a - b), 2)\n",
    "print(answer)"
   ]
  },
  {
   "cell_type": "markdown",
   "metadata": {},
   "source": [
    "> gpt 답안"
   ]
  },
  {
   "cell_type": "code",
   "execution_count": null,
   "metadata": {},
   "outputs": [],
   "source": [
    "import numpy as np\n",
    "import pandas as pd\n",
    "\n",
    "# 데이터프레임 불러오기\n",
    "df = pd.read_csv('./datasets/P210202.csv')\n",
    "\n",
    "# 상위 80%까지의 데이터를 훈련 데이터로 추출하기\n",
    "train_df = df.iloc[:int(len(df) * 0.8)]\n",
    "\n",
    "# total_bedrooms 변수의 결측값을 중앙값으로 대체하고, 표준편차 차이의 절댓값 계산하기\n",
    "answer = round(abs(train_df['total_bedrooms'].std() - train_df['total_bedrooms'].fillna(train_df['total_bedrooms'].median()).std()), 2)\n",
    "\n",
    "print(answer)\n"
   ]
  },
  {
   "cell_type": "markdown",
   "metadata": {},
   "source": [
    "### 문제 3 (21년 2회 기출)"
   ]
  },
  {
   "cell_type": "markdown",
   "metadata": {},
   "source": [
    "- Insurance 데이터\n",
    "- `charges` 항목에서 이상값의 합 구하기\n",
    "- 이상값은 평균에서 1.5 표준편차 이상인 값으로 하고, 정수로 출력하기"
   ]
  },
  {
   "cell_type": "code",
   "execution_count": 302,
   "metadata": {},
   "outputs": [
    {
     "name": "stdout",
     "output_type": "stream",
     "text": [
      "6421430\n"
     ]
    }
   ],
   "source": [
    "import numpy as np\n",
    "import pandas as pd\n",
    "\n",
    "df = pd.read_csv('./datasets/P210203.csv')\n",
    "\n",
    "# 이상값 -> x => upper or x <= lower\n",
    "# upper = 평균 + 1.5 * 표준편차\n",
    "# lower = 평균 - 1.5 * 표준편차\n",
    "\n",
    "target = df['charges']\n",
    "\n",
    "mean_value = target.mean()\n",
    "std_value = target.std()\n",
    "\n",
    "upper = mean_value + 1.5 * std_value\n",
    "lower = mean_value - 1.5 * std_value\n",
    "\n",
    "crit = (target <= lower) | (target > upper)\n",
    "answer = int(target[crit].sum())\n",
    "\n",
    "print(answer)"
   ]
  },
  {
   "cell_type": "markdown",
   "metadata": {},
   "source": [
    "### 문제 4 (21년 3회 기출)"
   ]
  },
  {
   "cell_type": "markdown",
   "metadata": {},
   "source": [
    "- housing 데이터\n",
    "- 결측값이 있는 모든 행을 제거한 후 데이터의 순서대로 상위 70%의 데이터를 학습 데이터로 만들고, 훈련 데이터의 `housing_median_age` 컬럼의 제1사분위수(Q1) 구하기\n",
    "- 정수로 출력하기"
   ]
  },
  {
   "cell_type": "code",
   "execution_count": 303,
   "metadata": {},
   "outputs": [
    {
     "name": "stdout",
     "output_type": "stream",
     "text": [
      "19\n"
     ]
    }
   ],
   "source": [
    "import numpy as np\n",
    "import pandas as pd\n",
    "\n",
    "df = pd.read_csv('./datasets/P210301.csv')\n",
    "\n",
    "# 결측값이 있는 모든 행 제거하기\n",
    "# print(np.sum(df.isna().any(axis=1)))  # 결측값 개수 출력해보기\n",
    "df = df.dropna()\n",
    "\n",
    "# 데이터의 순서대로 상위 70%의 데이터를 훈련 데이터로 만들기\n",
    "nrow = int(len(df) * 0.7)\n",
    "train_df = df[:nrow]\n",
    "\n",
    "# 훈련 데이터의 house_median_age 컬럼의 Q1 구하기\n",
    "answer = int(train_df['housing_median_age'].quantile(0.25))\n",
    "print(answer)"
   ]
  },
  {
   "cell_type": "markdown",
   "metadata": {},
   "source": [
    "### 문제 5 (21년 3회 기출)"
   ]
  },
  {
   "cell_type": "markdown",
   "metadata": {},
   "source": [
    "- 타이타닉 데이터\n",
    "- 데이터가 없는 것을 결측값으로 하여 결측값의 비율을 구하고, 결측값 비율이 가장 높은 컬럼 이름 구하기"
   ]
  },
  {
   "cell_type": "code",
   "execution_count": 304,
   "metadata": {},
   "outputs": [
    {
     "name": "stdout",
     "output_type": "stream",
     "text": [
      "                    0\n",
      "Age          0.198653\n",
      "Embarked     0.002245\n",
      "PassengerId  0.000000\n",
      "Survived     0.000000\n",
      "Pclass       0.000000\n",
      "Name         0.000000\n",
      "Sex          0.000000\n",
      "SibSp        0.000000\n",
      "Parch        0.000000\n",
      "Ticket       0.000000\n",
      "Fare         0.000000 \n",
      "\n",
      "Age\n"
     ]
    }
   ],
   "source": [
    "import numpy as np\n",
    "import pandas as pd\n",
    "\n",
    "df = pd.read_csv('./datasets/P210302.csv')\n",
    "\n",
    "# 데이터가 없는 것을 결측값으로 하여 결측값의 비율 구하기\n",
    "total_count = len(df)\n",
    "missing_count = df.isna().sum()\n",
    "\n",
    "ratio = missing_count / total_count\n",
    "\n",
    "# 결측값의 비율이 가장 높은 컬럼 이름 구하기\n",
    "ratio = pd.DataFrame(ratio)\n",
    "\n",
    "sorted_ratio = ratio.sort_values(by=0, ascending=False)\n",
    "print(sorted_ratio, '\\n')\n",
    "\n",
    "answer = sorted_ratio.index[0]   # index[n]는 컬럼 이름을 반환한다.\n",
    "print(answer)"
   ]
  },
  {
   "cell_type": "markdown",
   "metadata": {},
   "source": [
    "### 문제 6 (21년 3회 기출)"
   ]
  },
  {
   "cell_type": "markdown",
   "metadata": {},
   "source": [
    "- 연도별 각 국가의 결핵 감염에 대한 유병률 데이터\n",
    "- `country`, `year`, `new_sp` 컬럼에 결측값이 있을 경우 제거하고 2000년도에 국가별 결핵 발생 건수에 대한 평균 결핵 발생 건수를 구하고, 2000년도의 결핵 발생 건수가 2000년도 국가별 결핵 발생 건수에 대한 평균 결핵 발생 건수보다 결핵 발생 건수가 높은 국가의 개수 구하기\n",
    "- 국가별 결핵 발생 건수에 대한 평균 결핵 발생 건수를 출력할 때, 소수점 둘째 자리로 출력하기"
   ]
  },
  {
   "cell_type": "code",
   "execution_count": 305,
   "metadata": {},
   "outputs": [
    {
     "name": "stdout",
     "output_type": "stream",
     "text": [
      "7865.34\n",
      "38\n"
     ]
    }
   ],
   "source": [
    "import numpy as np\n",
    "import pandas as pd\n",
    "\n",
    "df = pd.read_csv('./datasets/P210303.csv')\n",
    "\n",
    "# country, year, new_sp 컬럼에서 결측값 제거\n",
    "df['country'] = df['country'].dropna()\n",
    "df['year'] = df['year'].dropna()\n",
    "df['new_sp'] = df['new_sp'].dropna()\n",
    "\n",
    "# 2000년도에 국가별 결핵 발생 건수에 대한 평균 결핵 발생 건수 구하기\n",
    "target_df = df[df['year'] == 2000]\n",
    "\n",
    "mean_count = target_df['new_sp'].mean()\n",
    "answer1 = round(mean_count, 2)\n",
    "print(answer1)\n",
    "\n",
    "# 2000년도의 결핵 발생 건수가 2000년도 국가별 결핵 발생 건수에 대한 평균 결핵 발생 건수보다 결핵 발생 건수가 높은 국가의 개수 구하기\n",
    "answer2 = len(target_df[target_df['new_sp'] >= mean_count])\n",
    "print(answer2)"
   ]
  },
  {
   "cell_type": "markdown",
   "metadata": {},
   "source": [
    "### 문제 7 (22년 4회 기출)"
   ]
  },
  {
   "cell_type": "markdown",
   "metadata": {},
   "source": [
    "- 순서대로 처리하고 결과를 정수로 출력하기\n",
    "    - (1) y 변수의 1사분위와 3사분위 값 구하기\n",
    "    - (2) 3사분위수에서 1사분위수를 뺀 값 구하기\n",
    "    - (3) 소수점 이하는 버리고 정수로 출력하기"
   ]
  },
  {
   "cell_type": "code",
   "execution_count": 306,
   "metadata": {},
   "outputs": [
    {
     "name": "stdout",
     "output_type": "stream",
     "text": [
      "Q1: 40.25, Q3: 77.0\n",
      "Q3-Q1(IQR): 36.75\n",
      "36\n"
     ]
    }
   ],
   "source": [
    "import numpy as np\n",
    "import pandas as pd\n",
    "\n",
    "df = pd.read_csv('./datasets/P220401.csv')\n",
    "\n",
    "# (1) y 변수의 1사분위와 3사분위 값 구하기\n",
    "target = df['y']\n",
    "\n",
    "q1 = target.quantile(0.25)\n",
    "q3 = target.quantile(0.75)\n",
    "\n",
    "print(f\"Q1: {q1}, Q3: {q3}\")\n",
    "\n",
    "# (2) 3사분위수에서 1사분위수를 뺀 값 구하기\n",
    "diff_value = q3 - q1\n",
    "\n",
    "print(f\"Q3-Q1(IQR): {diff_value}\") \n",
    "\n",
    "# (3) 소수점 이하는 버리고 정수로 출력하기\n",
    "answer = int(diff_value)\n",
    "print(answer)"
   ]
  },
  {
   "cell_type": "markdown",
   "metadata": {},
   "source": [
    "### 문제 8 (22년 4회 기출)"
   ]
  },
  {
   "cell_type": "markdown",
   "metadata": {},
   "source": [
    "- 페이스북 평가 데이터\n",
    "- '좋아요' 수(`num_loves`)와 '놀랐어요'(`num_wows`)를 긍정의 평가로 보고 전체 반응(`num_reactions`)에서 긍정인 비율이 0.4보다 크고 0.5보다 작은 비디오 개수 구하기"
   ]
  },
  {
   "cell_type": "code",
   "execution_count": 307,
   "metadata": {},
   "outputs": [
    {
     "name": "stdout",
     "output_type": "stream",
     "text": [
      "90\n"
     ]
    }
   ],
   "source": [
    "import numpy as np\n",
    "import pandas as pd\n",
    "\n",
    "df = pd.read_csv('./datasets/P220402.csv')\n",
    "\n",
    "# 좋아요 수와 놀랐어요 수를 긍정의 평가로 보고 전체 중에서 비율 구하기\n",
    "df['positive_ratio'] = (df['num_loves'] + df['num_wows']) / df['num_reactions']\n",
    "\n",
    "# 전체 반응에서 긍정인 비율이 0.4보다 크고 0.5보다 작은 비디오 개수 구하기\n",
    "cond = (df['status_type'] == 'video') & ((df['positive_ratio'] > 0.4) & (df['positive_ratio'] < 0.5))\n",
    "answer = len(df[cond])\n",
    "\n",
    "print(answer)"
   ]
  },
  {
   "cell_type": "markdown",
   "metadata": {},
   "source": [
    "### 문제 9 (22년 4회 기출)"
   ]
  },
  {
   "cell_type": "markdown",
   "metadata": {},
   "source": [
    "- 넷플릭스에서 사용된 작품들의 목록 데이터\n",
    "- 2018년 1월에 넷플릭스에서 추가한 작품 중 'United Kingdom'에서 단독으로 제작된 작품의 개수 구하기"
   ]
  },
  {
   "cell_type": "code",
   "execution_count": 308,
   "metadata": {},
   "outputs": [
    {
     "name": "stdout",
     "output_type": "stream",
     "text": [
      "6\n"
     ]
    }
   ],
   "source": [
    "import numpy as np\n",
    "import pandas as pd\n",
    "\n",
    "df = pd.read_csv('./datasets/P220403.csv')\n",
    "\n",
    "# 날짜 항목을 datetime64 형식으로 변환하기\n",
    "df['date_added'] = pd.to_datetime(df['date_added'])\n",
    "\n",
    "# 2018년 1월에 추가한 작품 중, 'United Kingdom'에서 단독으로 제작된 작품의 개수 구하기\n",
    "cond1 = (df['date_added'].dt.year == 2018) & (df['date_added'].dt.month == 1)\n",
    "cond2 = df['country'] == 'United Kingdom'\n",
    "\n",
    "answer = len(df[cond1 & cond2])\n",
    "print(answer)"
   ]
  },
  {
   "cell_type": "markdown",
   "metadata": {},
   "source": [
    "### 문제 10 (22년 5회 기출)"
   ]
  },
  {
   "cell_type": "markdown",
   "metadata": {},
   "source": [
    "- 종량제 쓰레기 데이터\n",
    "- 쓰레기 데이터에서 다음 기준에 따른 데이터를 추출하고, 평균 가격을 제출 형식에 따라 제출하기\n",
    "    - 종량제봉투종류 : 규격봉투\n",
    "    - 종량제봉투용도 : 음식물쓰레기\n",
    "    - 종량제봉투용량 : 2L\n",
    "    - 가격이 0인 것은 구매하지 않은 것으로, 평균 계산할 때 제외한다.\n",
    "- 정수형으로 출력하기"
   ]
  },
  {
   "cell_type": "code",
   "execution_count": 310,
   "metadata": {},
   "outputs": [
    {
     "name": "stdout",
     "output_type": "stream",
     "text": [
      "120\n"
     ]
    }
   ],
   "source": [
    "import numpy as np\n",
    "import pandas as pd\n",
    "\n",
    "df = pd.read_csv('./datasets/P220501.csv', encoding='euckr')\n",
    "\n",
    "# 종량제봉투종류 : 규격봉투, 종량제봉투용도 : 음식물쓰레기, 종량제봉투용량 : 2L (가격이 0인 것은 제외하기)\n",
    "cond = (df['종량제봉투종류'] == '규격봉투') & (df['종량제봉투용도'] == '음식물쓰레기') & (df['2L가격'] != 0)\n",
    "new_df = df[cond]\n",
    "\n",
    "# 평균 가격 구하기\n",
    "mean_price = new_df['2L가격'].mean()\n",
    "answer = int(mean_price)\n",
    "print(answer)"
   ]
  },
  {
   "cell_type": "markdown",
   "metadata": {},
   "source": [
    "### 문제 11 (22년 5회 기출)"
   ]
  },
  {
   "cell_type": "markdown",
   "metadata": {},
   "source": [
    "- Body 데이터\n",
    "- 다음 기준에 의해 BMI를 계산하여 분류하고, 정상 체중 범위의 구간에 있는 인원과 위험 체중 범위의 구간에 있는 인원의 차이를 절댓값으로 구하기\n",
    "    - BMI = Weight / Height² (weight : kg, height : m)\n",
    "    - 저체중 :  BMI < 18.5\n",
    "    - 정상체중 : 18.5 ≤ BMI < 23\n",
    "    - 위험체중 : 23 ≤ BMI < 25\n",
    "    - 비만 : 25 ≤ BMI\n",
    "- BMI 계산시 단위에 유의하고, 정수로 출력하기\n"
   ]
  },
  {
   "cell_type": "code",
   "execution_count": 311,
   "metadata": {},
   "outputs": [
    {
     "name": "stdout",
     "output_type": "stream",
     "text": [
      "28\n"
     ]
    }
   ],
   "source": [
    "import numpy as np\n",
    "import pandas as pd\n",
    "\n",
    "df = pd.read_csv('./datasets/P220502.csv')\n",
    "\n",
    "# BMI 계산하기\n",
    "df['BMI'] = df['Weight'] / ((df['Height'] / 100) ** 2)    # ✅ 단위에 주의할 것!\n",
    "\n",
    "# 정상 체중 범위 구간의 인원 수와 위험 체중 범위 구간의 인원 수 구하기\n",
    "cond1 = (18.5 <= df['BMI']) & (df['BMI'] < 23)\n",
    "healthy = len(df[cond1])\n",
    "\n",
    "cond2 = (23 <= df['BMI']) & (df['BMI'] < 25)\n",
    "danger = len(df[cond2])\n",
    "\n",
    "answer = int(abs(healthy - danger))\n",
    "print(answer)\n"
   ]
  },
  {
   "cell_type": "markdown",
   "metadata": {},
   "source": [
    "### 문제 12 (22년 5회 기출)"
   ]
  },
  {
   "cell_type": "markdown",
   "metadata": {},
   "source": [
    "- 순전입학생수가 가장 큰 학교의 전체 학생수 구하기\n",
    "    - 순전입학생수 = 총전입학생수 - 총전출학생수"
   ]
  },
  {
   "cell_type": "code",
   "execution_count": 25,
   "metadata": {},
   "outputs": [
    {
     "name": "stdout",
     "output_type": "stream",
     "text": [
      "956\n"
     ]
    }
   ],
   "source": [
    "import numpy as np\n",
    "import pandas as pd\n",
    "\n",
    "df = pd.read_csv('./datasets/P220503.csv', encoding='euckr')\n",
    "\n",
    "# 순전입학생수 구하기 (순전입학생수 = 총전입학생수 - 총전출학생수)\n",
    "df['순전입학생수'] = df['전입학생수(계)'] - df['전출학생수(계)']\n",
    "\n",
    "# 순전입학생수가 가장 큰 학교의 전체 학생수 구하기\n",
    "new_df = df.sort_values(by='순전입학생수', ascending=False)\n",
    "answer = new_df['전체학생수(계)'].iloc[0]\n",
    "\n",
    "print(answer)"
   ]
  },
  {
   "cell_type": "markdown",
   "metadata": {},
   "source": [
    "### 문제 13 (23년 6회 기출)"
   ]
  },
  {
   "cell_type": "markdown",
   "metadata": {},
   "source": [
    "- 출동소방서별로 주민으로부터 연락받은 신고일시와 출동한 출동일시를 기록한 데이터\n",
    "- 출동소방서별 신고일시로부터 출동일시까지의 연도별 월평균을 구하고, 가장 늦게 출동한 출동소방서의 월평균 시간을 분단위로 제출 형식에 맞게 제출하기\n",
    "- 시간은 30초 단위로 반올림하여 제출하기"
   ]
  },
  {
   "cell_type": "code",
   "execution_count": 50,
   "metadata": {},
   "outputs": [
    {
     "name": "stdout",
     "output_type": "stream",
     "text": [
      "64\n"
     ]
    }
   ],
   "source": [
    "import numpy as np\n",
    "import pandas as pd\n",
    "\n",
    "df = pd.read_csv('./datasets/P230601.csv')\n",
    "\n",
    "# 신고일시, 출동일시 컬럼을 datetime64 형식으로 변환하기\n",
    "df['신고일시'] = pd.to_datetime(df['신고일시'])\n",
    "df['출동일시'] = pd.to_datetime(df['출동일시'])\n",
    "\n",
    "# 출동소방서별 신고일시로부터 출동일시까지 연도별 월평균 구하기\n",
    "df['시간차이'] = (df['출동일시'] - df['신고일시']).dt.total_seconds()\n",
    "\n",
    "df = df.groupby([df['출동소방서'], df['신고일시'].dt.year, df['신고일시'].dt.month]).mean('시간차이')\n",
    "df = df.sort_values(by='시간차이', ascending=False)\n",
    "\n",
    "# 가장 늦게 출동한 출동소방서의 월평균 시간을 분단위로 나타내기\n",
    "result_date = df['시간차이'].head(1)\n",
    "result_num = float(result_date.iloc[0]) / 60    # 분단위\n",
    "answer = int(result_num)\n",
    "print(answer)"
   ]
  },
  {
   "cell_type": "markdown",
   "metadata": {},
   "source": [
    "### 문제 14 (23년 6회 기출)"
   ]
  },
  {
   "cell_type": "markdown",
   "metadata": {},
   "source": [
    "- 초등학교의 학년별 학생 수와 교사 수를 기록한 데이터\n",
    "- 교사 1인당 학생 수가 가장 많은 학교를 선정하고, 선정된 학교의 교사 수를 제출 형식에 맞게 제출하기\n",
    "- 학교명 중복은 없고, 단일 학교의 학생 수, 교사 수 데이터만 있는 것으로 한다."
   ]
  },
  {
   "cell_type": "code",
   "execution_count": 61,
   "metadata": {},
   "outputs": [
    {
     "name": "stdout",
     "output_type": "stream",
     "text": [
      "6\n"
     ]
    }
   ],
   "source": [
    "import numpy as np\n",
    "import pandas as pd\n",
    "\n",
    "df = pd.read_csv('./datasets/P230602.csv')\n",
    "\n",
    "# 교사 1인당 학생수가 가장 많은 학교 선정하기\n",
    "df['student_number_per_teacher'] = (df['student_1'] + df['student_2'] + df['student_3'] + df['student_4'] + df['student_5'] + df['student_6']) / df['teacher']\n",
    "df = df.sort_values(by='student_number_per_teacher', ascending=False).head(1)\n",
    "\n",
    "# 선정된 학교의 교사수 구하기\n",
    "answer = df['teacher'].iloc[0]\n",
    "print(answer)"
   ]
  },
  {
   "cell_type": "markdown",
   "metadata": {},
   "source": [
    "### 문제 15 (23년 6회 기출)"
   ]
  },
  {
   "cell_type": "markdown",
   "metadata": {},
   "source": [
    "- 월별 범죄를 기록한 데이터\n",
    "- 연도별 월평균 범죄 건수를 구하고, 가장 범죄가 많이 발생한 연도의 월평균 범죄 건수 구하기\n",
    "- 파이썬의 경우 CSV 파일을 읽을 때 `index_col=0` 옵션을 적용한다."
   ]
  },
  {
   "cell_type": "code",
   "execution_count": 312,
   "metadata": {},
   "outputs": [
    {
     "name": "stdout",
     "output_type": "stream",
     "text": [
      "19329\n"
     ]
    }
   ],
   "source": [
    "import numpy as np\n",
    "import pandas as pd\n",
    "\n",
    "df = pd.read_csv('./datasets/P230603.csv')\n",
    "\n",
    "# 년월 컬럼을 datetime64 컬럼으로 바꾸기\n",
    "df['년월'] = pd.to_datetime(df['년월'])\n",
    "\n",
    "# 연도별 월평균 범죄 건수 구하기\n",
    "df['발생연도'] = df['년월'].dt.year\n",
    "df['발생월'] = df['년월'].dt.month\n",
    "df['총범죄건수'] = df['강력범'] + df['절도범'] + df['폭력범'] + df['지능범'] + df['풍속범'] + df['기타형사범']\n",
    "\n",
    "df = df.groupby(by=['발생연도']).mean()   # 월평균 범죄 건수\n",
    "\n",
    "# 가장 범죄가 많이 발생한 연도의 월평균 범죄 건수 구하기\n",
    "df = df.sort_values(by='총범죄건수', ascending=False).head(1)\n",
    "answer = int(df['총범죄건수'].iloc[0])\n",
    "\n",
    "print(answer)"
   ]
  },
  {
   "cell_type": "markdown",
   "metadata": {},
   "source": [
    "### 문제 16 (23년 7회 기출)"
   ]
  },
  {
   "cell_type": "markdown",
   "metadata": {},
   "source": [
    "- 학생 15명의 국어, 수학, 영어, 과학 시험 점수 (각 학생은 4과목 중 3과목을 선택해서 시험봤다.)\n",
    "- 국어, 수학, 영어, 과학 과목 중 가장 많은 학생들이 응시한 시험을 선택하고, 해당 과목의 점수를 표준화 했을 때 가장 큰 표준화 점수 구하기"
   ]
  },
  {
   "cell_type": "markdown",
   "metadata": {},
   "source": [
    "> 표준화(Standardization)\n",
    "> - 어떤 특정의 값들이 **정규 분포**를 따른다고 가정하고 값들을 `0`의 **평균,** `1`의 **표준편차**를 갖도록 해주는 기법\n",
    "\n",
    "> **Z-점수(Z-Score)**\n",
    "> \n",
    "> - 이상값(Outlier) 문제를 피하는 기법\n",
    "> - 데이터들의 평균과 표준편차를 구하고, 평균 대비 몇 표준편차만큼 데이터가 떨어져 있는지를 점수화한다.\n",
    "> - `X`의 값이 평균과 일치하면 `0`, 평균보다 작으면 **음수**, 평균보다 크면 **양수**가 되며, 표준편차가 크면 Z-스코어는 `0`에 가까워진다.\n",
    "\n",
    "> $$Z = \\frac{X - \\overline{X}}{s}$$\n",
    "\n",
    "> $$X: 데이터 \\quad \\overline{X}: 표본평균 \\quad s: 표본표준편차 $$"
   ]
  },
  {
   "cell_type": "code",
   "execution_count": 66,
   "metadata": {},
   "outputs": [
    {
     "name": "stdout",
     "output_type": "stream",
     "text": [
      "13 12 11 9\n",
      "1.713855688712825\n"
     ]
    }
   ],
   "source": [
    "import numpy as np\n",
    "import pandas as pd\n",
    "from scipy.stats import zscore\n",
    "\n",
    "df = pd.read_csv('./datasets/P230701.csv')\n",
    "\n",
    "# 각 과목별 결측치 제거 후 개수 파악하기\n",
    "count_korean = df['국어'].dropna().count()\n",
    "count_math = df['수학'].dropna().count()\n",
    "count_english = df['영어'].dropna().count()\n",
    "count_science = df['과학'].dropna().count()\n",
    "\n",
    "print(count_korean, count_math, count_english, count_science)\n",
    "\n",
    "target = df['국어']\n",
    "\n",
    "# 표준화 (Z-점수 표준화 = X-평균 / 표준편차) 후 가장 큰 점수 구하기\n",
    "target = target.dropna()   # 결측치 제거\n",
    "\n",
    "answer = zscore(target).max()\n",
    "print(answer)"
   ]
  },
  {
   "cell_type": "markdown",
   "metadata": {},
   "source": [
    "### 문제 17 (23년 7회 기출)"
   ]
  },
  {
   "cell_type": "markdown",
   "metadata": {},
   "source": [
    "- 32개 변수간 상관 관계를 확인했을 때, `var_11` 컬럼과 상관 계수의 절댓값이 가장 큰 변수를 찾아 해당 변수의 평균값 구하기"
   ]
  },
  {
   "cell_type": "code",
   "execution_count": 94,
   "metadata": {},
   "outputs": [
    {
     "name": "stdout",
     "output_type": "stream",
     "text": [
      "var_44\n",
      "0.22367215340392685\n",
      "0.06404313251242914\n"
     ]
    }
   ],
   "source": [
    "import numpy as np\n",
    "import pandas as pd\n",
    "\n",
    "df = pd.read_csv('./datasets/P230702.csv')\n",
    "\n",
    "# var_11 컬럼과 상관 계수의 절댓값이 가장 큰 변수 찾기\n",
    "df_corr = df.corr()   # 상관 계수 구하기\n",
    "\n",
    "target = df_corr['var_11']\n",
    "\n",
    "abs_target = np.abs(target)   # 절댓값 씌우기\n",
    "sorted_target = abs_target.sort_values(ascending=False)   # 내림차순 정렬\n",
    "\n",
    "result_variable = sorted_target.index[1]\n",
    "print(result_variable)    # 변수명\n",
    "print(sorted_target['var_44'])   # 변수값\n",
    "\n",
    "# 찾은 변수의 평균값 구하기\n",
    "answer = df[result_variable].mean()\n",
    "print(answer)"
   ]
  },
  {
   "cell_type": "markdown",
   "metadata": {},
   "source": [
    "### 문제 18 (23년 7회 기출)"
   ]
  },
  {
   "cell_type": "markdown",
   "metadata": {},
   "source": [
    "- `var_6` 컬럼의 1, 3사분위수 각각 IQR의 1.5배 벗어난 이상치의 숫자 구하기"
   ]
  },
  {
   "cell_type": "code",
   "execution_count": 103,
   "metadata": {},
   "outputs": [
    {
     "name": "stdout",
     "output_type": "stream",
     "text": [
      "-0.5939812454434104 0.6428288851668509 1.2368101306102612\n",
      "8\n"
     ]
    }
   ],
   "source": [
    "import numpy as np\n",
    "import pandas as pd\n",
    "\n",
    "df = pd.read_csv('./datasets/P230703.csv')\n",
    "\n",
    "# var_6 컬럼의 1, 3사분위수를 구하고, IQR 구하기\n",
    "target = df['var_6']\n",
    "\n",
    "q1 = target.quantile(0.25)\n",
    "q3 = target.quantile(0.75)\n",
    "iqr = q3 - q1\n",
    "print(q1, q3, iqr)\n",
    "\n",
    "# IQR의 1.5배 벗어난 이상치 숫자 구하기\n",
    "lower = q1 - 1.5 * iqr\n",
    "upper = q3 + 1.5 * iqr\n",
    "cond = (target < lower) | (target > upper)\n",
    "\n",
    "answer = df[cond]['var_6'].count()\n",
    "print(answer)"
   ]
  },
  {
   "cell_type": "markdown",
   "metadata": {},
   "source": [
    "### 문제 19 (시험장 환경 체험 예제)"
   ]
  },
  {
   "cell_type": "markdown",
   "metadata": {},
   "source": [
    "- 제공된 데이터(`data/mtcars`)의 `qsec` 컬럼을 최소-최대 척도(Min-Max Scale)로 변환한 후, 0.5보다 큰 값을 가지는 레코드 수 구하기\n",
    "- 정수로 출력하기"
   ]
  },
  {
   "cell_type": "markdown",
   "metadata": {},
   "source": [
    "> 방법 1"
   ]
  },
  {
   "cell_type": "code",
   "execution_count": 179,
   "metadata": {},
   "outputs": [
    {
     "name": "stdout",
     "output_type": "stream",
     "text": [
      "9\n"
     ]
    }
   ],
   "source": [
    "import numpy as np\n",
    "import pandas as pd\n",
    "\n",
    "df = pd.read_csv('./datasets/mtcars.csv')\n",
    "\n",
    "# qsec 컬럼을 최소-최대 척도로 변환하기\n",
    "# min_max = (x - min(x)) / (max(x) - min(x))\n",
    "def min_max(column):\n",
    "\tmin_value = np.min(df[column])\n",
    "\tmax_value = np.max(df[column])\n",
    "\t\n",
    "\tmms = (df[column] - min_value) / (max_value - min_value)\n",
    "\t\n",
    "\treturn mms\n",
    "\n",
    "mms_value = min_max('qsec')\n",
    "df['mms_value'] = mms_value   # 새로운 컬럼으로 추가\n",
    "\n",
    "# 0.5보다 큰 값을 가지는 레코드 수 구하기\n",
    "cond = df['mms_value'] > 0.5\n",
    "answer = len(df[cond])\n",
    "\n",
    "print(answer)"
   ]
  },
  {
   "cell_type": "markdown",
   "metadata": {},
   "source": [
    "> 방법 2"
   ]
  },
  {
   "cell_type": "code",
   "execution_count": 178,
   "metadata": {},
   "outputs": [
    {
     "name": "stdout",
     "output_type": "stream",
     "text": [
      "9\n"
     ]
    }
   ],
   "source": [
    "import numpy as np\n",
    "import pandas as pd\n",
    "from sklearn.preprocessing import MinMaxScaler\n",
    "\n",
    "df = pd.read_csv('./datasets/mtcars.csv')\n",
    "\n",
    "# qsec 컬럼을 최소-최대 척도로 변환하기\n",
    "mms = MinMaxScaler()\n",
    "df['qsec'] = mms.fit_transform(df[['qsec']])    # 2차원 데이터를 인수로 넣어준다! ✅\n",
    "\n",
    "# 0.5보다 큰 값을 가지는 레코드 수 구하기\n",
    "cond = df['qsec'] > 0.5\n",
    "answer = len(df[cond])\n",
    "\n",
    "print(answer)"
   ]
  },
  {
   "cell_type": "markdown",
   "metadata": {},
   "source": [
    "### 문제 20 (연습 문제)"
   ]
  },
  {
   "cell_type": "markdown",
   "metadata": {},
   "source": [
    "- `diamonds` 데이터\n",
    "- 순서대로 70%의 데이터를 훈련 데이터로 만들고, `price` 기준으로 상위 5개 데이터에 대하여 깊이 비율(`depth`)의 중앙값을 정수로 출력하기"
   ]
  },
  {
   "cell_type": "code",
   "execution_count": 203,
   "metadata": {},
   "outputs": [
    {
     "name": "stdout",
     "output_type": "stream",
     "text": [
      "62\n"
     ]
    }
   ],
   "source": [
    "import numpy as np\n",
    "import pandas as pd\n",
    "\n",
    "df = pd.read_csv('./datasets/M1-1.csv')\n",
    "\n",
    "# 순서대로 70%의 데이터를 훈련 데이터로 만들기\n",
    "nrows = int(len(df) * 0.7)\n",
    "train_df = df[:nrows]\n",
    "\n",
    "# price 기준으로 상위 5개 데이터에 대하여 깊이(depth) 비율의 중앙값을 정수로 출력하기\n",
    "sorted_trained_df = train_df.sort_values(by='price', ascending=False)\n",
    "top5 = sorted_trained_df.head(5)\n",
    "median_value = top5['depth'].median()   # 중앙값\n",
    "\n",
    "answer = int(median_value)\n",
    "print(answer)"
   ]
  },
  {
   "cell_type": "markdown",
   "metadata": {},
   "source": [
    "### 문제 21 (연습 문제)"
   ]
  },
  {
   "cell_type": "markdown",
   "metadata": {},
   "source": [
    "- `telco-customer-churn` 데이터\n",
    "- `TotalCharges` 항목에서 결측값을 제거하고 이상값을 제외한 평균을 정수로 출력하기\n",
    "    - 이상값은 평균에서 1.5 표준편차 이상인 값으로 하기"
   ]
  },
  {
   "cell_type": "code",
   "execution_count": 220,
   "metadata": {},
   "outputs": [
    {
     "name": "stdout",
     "output_type": "stream",
     "text": [
      "1663\n"
     ]
    }
   ],
   "source": [
    "import numpy as np\n",
    "import pandas as pd\n",
    "\n",
    "df = pd.read_csv('./datasets/M1-2.csv')\n",
    "\n",
    "target = df['TotalCharges']\n",
    "\n",
    "# 수치형으로 변환\n",
    "target = pd.to_numeric(target, errors='coerce')   # 변환할 수 없는 값을 NaN으로 처리 (astype('float')를 사용할 경우 공백(' ') 처리 불가)\n",
    "\n",
    "# TotalCharges 항목에서 결측값 제거하기\n",
    "target = target.dropna()\n",
    "\n",
    "# TotalCharges 항목에서 이상값 제외하기\n",
    "mean_value = target.mean()\n",
    "std_value = target.std()\n",
    "\n",
    "lower = mean_value - 1.5 * std_value\n",
    "upper = mean_value + 1.5 * std_value\n",
    "\n",
    "cond = (target <= upper) & (target >= lower)\n",
    "\n",
    "answer = int(target[cond].mean())\n",
    "print(answer)"
   ]
  },
  {
   "cell_type": "markdown",
   "metadata": {},
   "source": [
    "### 문제 22 (연습 문제)"
   ]
  },
  {
   "cell_type": "markdown",
   "metadata": {},
   "source": [
    "- 32개 자동차 모델의 디자인과 성능을 비교한 `mtcars` 데이터\n",
    "- 수동(`am=1`) 중에서 가장 마력(`hp`)이 작은 5개의 데이터의 평균 연비(`mpg`)와 자동(`am=0`) 중에서 가장 마력(`hp`)이 작은 5개 데이터의 평균 연비(`mpg`)의 차이 구하기\n",
    "- 소수점 첫째 자리로 출력하기"
   ]
  },
  {
   "cell_type": "code",
   "execution_count": 225,
   "metadata": {},
   "outputs": [
    {
     "name": "stdout",
     "output_type": "stream",
     "text": [
      "8.4\n"
     ]
    }
   ],
   "source": [
    "import numpy as np\n",
    "import pandas as pd\n",
    "\n",
    "df = pd.read_csv('./datasets/M1-3.csv')\n",
    "\n",
    "# 수동(am=1) 중에서 가장 마력(hp)이 작은 5개의 데이터의 평균 연비(mpg) 구하기\n",
    "cond1 = df['am'] == 1\n",
    "target1 = df[cond1].sort_values(by='hp', ascending=True).head(5)\n",
    "\n",
    "manual_mean_mpg = target1['mpg'].mean()\n",
    "\n",
    "# 자동(am=0) 중에서 가장 마력(hp)이 작은 5개 데이터의 평균 연비(mpg) 구하기\n",
    "cond2 = df['am'] == 0\n",
    "target2 = df[cond2].sort_values(by='hp', ascending=True).head(5)\n",
    "\n",
    "auto_mean_mpg = target2['mpg'].mean()\n",
    "\n",
    "# 두 값의 차이 구하기\n",
    "answer = round(np.abs(manual_mean_mpg - auto_mean_mpg), 1)\n",
    "print(answer)"
   ]
  },
  {
   "cell_type": "markdown",
   "metadata": {},
   "source": [
    "### 문제 23 (연습 문제)"
   ]
  },
  {
   "cell_type": "markdown",
   "metadata": {},
   "source": [
    "- 뉴욕의 공기 오염도를 측정한 `airquality` 데이터\n",
    "- 데이터의 순서대로 70%의 데이터를 훈련 데이터로 추출하고, `Ozone` 항목의 결측값을 평균으로 변경한 후 변경 전, 후의 중앙값 차이 구하기\n",
    "- `Ozone` 항목의 결측값과 변경 전, 후의 중앙값, 중앙값의 차이는 모두 소수점 첫째 자리로 구하기"
   ]
  },
  {
   "cell_type": "code",
   "execution_count": 226,
   "metadata": {},
   "outputs": [
    {
     "name": "stdout",
     "output_type": "stream",
     "text": [
      "7.7\n"
     ]
    }
   ],
   "source": [
    "import numpy as np\n",
    "import pandas as pd\n",
    "\n",
    "df = pd.read_csv('./datasets/M2-1.csv')\n",
    "\n",
    "# 데이터의 순서대로 70%의 데이터를 훈련 데이터로 추출하기\n",
    "nrows = int(len(df) * 0.7)\n",
    "train_df = df[:nrows]\n",
    "\n",
    "# Ozone 항목의 결측값을 평균으로 변경한 후 변경 전, 후의 중앙값 차이 구하기\n",
    "target = train_df['Ozone']\n",
    "\n",
    "median_value1 = round(target.median(), 1)\n",
    "\n",
    "mean_value = round(target.mean(), 1)\n",
    "target = target.fillna(mean_value)\n",
    "\n",
    "median_value2 = round(target.median(), 1)\n",
    "\n",
    "answer = round(np.abs(median_value1 - median_value2), 1)\n",
    "print(answer)"
   ]
  },
  {
   "cell_type": "markdown",
   "metadata": {},
   "source": [
    "### 문제 24 (연습 문제)"
   ]
  },
  {
   "cell_type": "markdown",
   "metadata": {},
   "source": [
    "- `marvel` 데이터\n",
    "- `HAIR`와 `EYE`가 결측값이 아니다.\n",
    "- `HAIR`가 `White Hair`이고, `EYE`가 `Blue Eyes`인 데이터를 훈련 데이터로 추출했을 때, `APPEARANCES`에서 이상값을 제외한 평균 구하기\n",
    "    - 이상값은 평균에서 1.5배 표준편차를 벗어나는 값으로 하기\n",
    "- 평균, 표준편차는 소수 둘째 자리로 구하기"
   ]
  },
  {
   "cell_type": "code",
   "execution_count": 228,
   "metadata": {},
   "outputs": [
    {
     "name": "stdout",
     "output_type": "stream",
     "text": [
      "30.15\n"
     ]
    }
   ],
   "source": [
    "import numpy as np\n",
    "import pandas as pd\n",
    "\n",
    "df = pd.read_csv('./datasets/M2-2.csv')\n",
    "\n",
    "# Hair가 White Hair이고 Eye가 Blue Eyes인 데이터를 훈련 데이터로 추출하기\n",
    "cond = (df['HAIR'] == 'White Hair') & (df['EYE'] == 'Blue Eyes')\n",
    "train_df = df[cond]\n",
    "\n",
    "# APPEARANCES에서 이상값을 제외한 평균 구하기\n",
    "target = train_df['APPEARANCES']\n",
    "\n",
    "mean_value = round(target.mean(), 2)\n",
    "std_value = round(target.std(), 2)\n",
    "\n",
    "lower = mean_value - 1.5 * std_value\n",
    "upper = mean_value + 1.5 * std_value\n",
    "\n",
    "cond = (target >= lower) & ( target <= upper)\n",
    "result = target[cond].mean()\n",
    "\n",
    "answer = round(result, 2)\n",
    "print(answer)\n"
   ]
  },
  {
   "cell_type": "markdown",
   "metadata": {},
   "source": [
    "### 문제 25 (연습 문제)"
   ]
  },
  {
   "cell_type": "markdown",
   "metadata": {},
   "source": [
    "- `Carseats` 데이터\n",
    "- 매출(`Sales`)의 이상값을 제외한 데이터를 훈련 데이터로 선정할 떄, `Age`의 표준편차 구하기\n",
    "    - 이상값은 평균보다 1.5 표준편차 미만이거나 초과인 값으로 선정하기\n",
    "- 소수점 둘째 자리로 출력하기"
   ]
  },
  {
   "cell_type": "code",
   "execution_count": 236,
   "metadata": {},
   "outputs": [
    {
     "name": "stdout",
     "output_type": "stream",
     "text": [
      "16.05\n"
     ]
    }
   ],
   "source": [
    "import numpy as np\n",
    "import pandas as pd\n",
    "\n",
    "df = pd.read_csv('./datasets/M2-3.csv')\n",
    "\n",
    "# 매출(Sales)의 이상값을 제외한 데이터를 훈련 데이터로 선정하기\n",
    "target = df['Sales']\n",
    "mean_value = target.mean()\n",
    "std_value = target.std()\n",
    "\n",
    "lower = mean_value - 1.5 * std_value\n",
    "upper = mean_value + 1.5 * std_value\n",
    "\n",
    "cond = (target > lower) & (target < upper)\n",
    "\n",
    "train_data = df[cond]\n",
    "\n",
    "# Age의 표준편차 구하기\n",
    "result = train_data['Age'].std()\n",
    "answer = round(result, 2)\n",
    "\n",
    "print(answer)"
   ]
  },
  {
   "cell_type": "markdown",
   "metadata": {},
   "source": [
    "## 제2유형\n",
    "---"
   ]
  },
  {
   "cell_type": "markdown",
   "metadata": {},
   "source": [
    "### 문제 1 (21년 2회 기출)"
   ]
  },
  {
   "cell_type": "markdown",
   "metadata": {},
   "source": [
    "- 기업에서 생성된 주문 데이터\n",
    "- `P210204-01.csv` 파일의 데이터로 정시 도착 가능 여부 예측 모델을 만들고, `P210204-02.csv` 파일에 대하여 정시 도착 예부를 예측한 확률을 기록한 CSV 생성하기"
   ]
  },
  {
   "cell_type": "code",
   "execution_count": 221,
   "metadata": {},
   "outputs": [
    {
     "name": "stdout",
     "output_type": "stream",
     "text": [
      "[[943 246]\n",
      " [360 454]]\n",
      "0.6974538192710934\n",
      "0.7237145049884881\n",
      "0.7931034482758621\n",
      "0.7568218298555377\n",
      "0.6861429667799583\n",
      "[[0.44333333 0.55666667]\n",
      " [0.27       0.73      ]\n",
      " [0.36333333 0.63666667]\n",
      " ...\n",
      " [0.30333333 0.69666667]\n",
      " [0.32666667 0.67333333]\n",
      " [0.26666667 0.73333333]]\n",
      "         ID      pred\n",
      "0      8010  0.556667\n",
      "1      8011  0.730000\n",
      "2      8012  0.636667\n",
      "3      8013  0.483333\n",
      "4      8014  0.346667\n",
      "...     ...       ...\n",
      "2985  10995  0.630000\n",
      "2986  10996  0.600000\n",
      "2987  10997  0.696667\n",
      "2988  10998  0.673333\n",
      "2989  10999  0.733333\n",
      "\n",
      "[2990 rows x 2 columns]\n"
     ]
    }
   ],
   "source": [
    "import pandas as pd\n",
    "from sklearn.ensemble import *\n",
    "from sklearn.model_selection import *\n",
    "from sklearn.metrics import *\n",
    "\n",
    "df1 = pd.read_csv('./datasets/P210204-01.csv')\n",
    "df2 = pd.read_csv('./datasets/P210204-02.csv')\n",
    "\n",
    "# 데이터 전처리\n",
    "## 정수형 -> 범주형\n",
    "df1['Reached.on.Time_Y.N'] = df1['Reached.on.Time_Y.N'].astype('category')\n",
    "\n",
    "## 결측치가 있을 경우, fillna를 이용하여 중앙값 또는 0으로 대치\n",
    "## Object인 컬럼이 여러개 있을 경우, Label Encoder를 이용해서 전부 수치형으로 바꿔주기\n",
    "\n",
    "## 독립변수, 종속 변수 구분\n",
    "x = df1.drop('Reached.on.Time_Y.N', axis=1)   # 독립변수\n",
    "y = df1['Reached.on.Time_Y.N']   # 종속변수\n",
    "\n",
    "## 원-핫 인코딩\n",
    "x_encoded = pd.get_dummies(x).drop('ID', axis=1)\n",
    "\n",
    "# 모델링 및 예측\n",
    "## 데이터 분할\n",
    "x_train, x_valid, y_train, y_valid = train_test_split(x_encoded, y, test_size=0.25)\n",
    "\n",
    "## 모델링\n",
    "md = RandomForestClassifier(n_estimators=300)\n",
    "md.fit(x_train, y_train)\n",
    "\n",
    "## 예측\n",
    "pred = md.predict(x_valid)\n",
    "\n",
    "## 성능 평가\n",
    "cm = confusion_matrix(pred, y_valid, labels=[1, 0])\n",
    "print(cm)\n",
    "\n",
    "print(accuracy_score(y_valid, pred))\n",
    "print(recall_score(y_valid, pred))\n",
    "print(precision_score(y_valid, pred))\n",
    "print(f1_score(y_valid, pred))\n",
    "print(roc_auc_score(y_valid, pred))\n",
    "\n",
    "# 테스트 데이터로 평가\n",
    "x_test = df2\n",
    "\n",
    "## 원-핫 인코딩\n",
    "x_test_encoded = pd.get_dummies(x_test).drop('ID', axis=1)\n",
    "\n",
    "## 예측\n",
    "pred = md.predict_proba(x_test_encoded) \n",
    "print(pred)\n",
    "\n",
    "# CSV로 내보내기\n",
    "result = pd.DataFrame({\n",
    "    'ID': df2['ID'],\n",
    "    'pred': pred[:, 1]\n",
    "})\n",
    "print(result)\n",
    "\n",
    "result.to_csv('./outputs/20240615_Q1.csv', index=False)"
   ]
  },
  {
   "cell_type": "markdown",
   "metadata": {},
   "source": [
    "### 문제 2 (21년 3회 기출)"
   ]
  },
  {
   "cell_type": "markdown",
   "metadata": {},
   "source": [
    "- 고객의 예약 현황을 나타낸 데이터\n",
    "- `P210304-01.csv` 파일에 저장된 학습 데이터로 여행 보험 가입 여부 예측 모델을 만들고, `P210304-02.csv` 파일에 저장된 테스트 데이터로 여행 보험 패키지 가입 여부를 예측하는 결과 예시 파일과 동일한 형태의 CSV 파일로 생성하여 제출하기\n",
    "\n",
    "|index|y_pred|\n",
    "|:-:|:-:|\n",
    "|1|0.538132|\n",
    "|2|0.759230|\n",
    "|...|...|"
   ]
  },
  {
   "cell_type": "code",
   "execution_count": 222,
   "metadata": {},
   "outputs": [
    {
     "name": "stdout",
     "output_type": "stream",
     "text": [
      "[[ 89  47]\n",
      " [ 32 205]]\n",
      "0.7882037533512064\n",
      "0.6544117647058824\n",
      "0.7355371900826446\n",
      "0.6926070038910506\n",
      "0.7596953338297344\n",
      "[[0.01       0.99      ]\n",
      " [0.15333333 0.84666667]\n",
      " [0.38770238 0.61229762]\n",
      " [0.83333333 0.16666667]\n",
      " [0.97777778 0.02222222]\n",
      " [0.64031217 0.35968783]\n",
      " [0.18666667 0.81333333]\n",
      " [0.83205128 0.16794872]\n",
      " [0.51816667 0.48183333]\n",
      " [0.26025265 0.73974735]\n",
      " [0.99138889 0.00861111]\n",
      " [0.98916667 0.01083333]\n",
      " [0.85775397 0.14224603]\n",
      " [0.87972222 0.12027778]\n",
      " [0.39160582 0.60839418]\n",
      " [0.986      0.014     ]\n",
      " [0.93347619 0.06652381]\n",
      " [0.44333333 0.55666667]\n",
      " [0.70095635 0.29904365]\n",
      " [0.99666667 0.00333333]\n",
      " [0.85427489 0.14572511]\n",
      " [0.81762698 0.18237302]\n",
      " [0.01       0.99      ]\n",
      " [0.01666667 0.98333333]\n",
      " [0.83066667 0.16933333]\n",
      " [0.94600397 0.05399603]\n",
      " [0.         1.        ]\n",
      " [0.77583622 0.22416378]\n",
      " [1.         0.        ]\n",
      " [0.96722222 0.03277778]\n",
      " [0.01       0.99      ]\n",
      " [0.99666667 0.00333333]\n",
      " [0.93347619 0.06652381]\n",
      " [0.32330556 0.67669444]\n",
      " [0.56829365 0.43170635]\n",
      " [0.23166667 0.76833333]\n",
      " [0.14       0.86      ]\n",
      " [0.28682937 0.71317063]\n",
      " [0.99122222 0.00877778]\n",
      " [0.92066667 0.07933333]\n",
      " [0.93347619 0.06652381]\n",
      " [0.50638889 0.49361111]\n",
      " [0.22666667 0.77333333]\n",
      " [0.50266667 0.49733333]\n",
      " [0.77       0.23      ]\n",
      " [0.45309524 0.54690476]\n",
      " [0.85775397 0.14224603]\n",
      " [1.         0.        ]\n",
      " [0.55361111 0.44638889]\n",
      " [0.57993158 0.42006842]\n",
      " [0.98083333 0.01916667]\n",
      " [0.68156614 0.31843386]\n",
      " [0.95506469 0.04493531]\n",
      " [0.73386508 0.26613492]\n",
      " [0.18       0.82      ]\n",
      " [0.33905556 0.66094444]\n",
      " [0.0422619  0.9577381 ]\n",
      " [0.51544444 0.48455556]\n",
      " [0.49274287 0.50725713]\n",
      " [0.82097619 0.17902381]\n",
      " [0.57641318 0.42358682]\n",
      " [0.28682937 0.71317063]\n",
      " [0.02       0.98      ]\n",
      " [0.94       0.06      ]\n",
      " [0.03666667 0.96333333]\n",
      " [0.02666667 0.97333333]\n",
      " [0.65364683 0.34635317]\n",
      " [0.95722222 0.04277778]\n",
      " [0.94994444 0.05005556]\n",
      " [0.67745238 0.32254762]\n",
      " [0.83096032 0.16903968]\n",
      " [0.98188889 0.01811111]\n",
      " [0.52630159 0.47369841]\n",
      " [0.80222222 0.19777778]\n",
      " [0.46538889 0.53461111]\n",
      " [0.04142857 0.95857143]\n",
      " [0.16666667 0.83333333]\n",
      " [0.89       0.11      ]\n",
      " [0.67898942 0.32101058]\n",
      " [0.71       0.29      ]\n",
      " [0.         1.        ]\n",
      " [0.78272222 0.21727778]\n",
      " [0.43833333 0.56166667]\n",
      " [0.57666667 0.42333333]\n",
      " [0.50683333 0.49316667]\n",
      " [0.98083333 0.01916667]\n",
      " [0.99190188 0.00809812]\n",
      " [0.99666667 0.00333333]\n",
      " [0.71177778 0.28822222]\n",
      " [0.88111111 0.11888889]\n",
      " [0.29132143 0.70867857]\n",
      " [0.96051587 0.03948413]\n",
      " [1.         0.        ]\n",
      " [0.99462963 0.00537037]\n",
      " [0.03       0.97      ]\n",
      " [0.00333333 0.99666667]\n",
      " [0.74223148 0.25776852]\n",
      " [0.86666667 0.13333333]\n",
      " [0.00333333 0.99666667]\n",
      " [0.28       0.72      ]\n",
      " [0.99462963 0.00537037]\n",
      " [0.00666667 0.99333333]\n",
      " [0.94416667 0.05583333]\n",
      " [0.04333333 0.95666667]\n",
      " [0.9132381  0.0867619 ]\n",
      " [0.99666667 0.00333333]\n",
      " [0.77583622 0.22416378]\n",
      " [0.32983333 0.67016667]\n",
      " [0.95130423 0.04869577]\n",
      " [1.         0.        ]\n",
      " [0.93748413 0.06251587]\n",
      " [0.98694444 0.01305556]\n",
      " [1.         0.        ]\n",
      " [0.40701587 0.59298413]\n",
      " [0.93670635 0.06329365]\n",
      " [0.97333333 0.02666667]\n",
      " [0.90333333 0.09666667]\n",
      " [0.00166667 0.99833333]\n",
      " [0.99666667 0.00333333]\n",
      " [0.86261111 0.13738889]\n",
      " [0.17666667 0.82333333]\n",
      " [0.02       0.98      ]\n",
      " [0.88333333 0.11666667]\n",
      " [0.73054101 0.26945899]\n",
      " [0.71622222 0.28377778]\n",
      " [0.87499471 0.12500529]\n",
      " [0.95622222 0.04377778]\n",
      " [0.88706578 0.11293422]\n",
      " [0.83333333 0.16666667]\n",
      " [0.98587302 0.01412698]\n",
      " [0.49       0.51      ]\n",
      " [0.76666667 0.23333333]\n",
      " [0.00333333 0.99666667]\n",
      " [0.48238095 0.51761905]\n",
      " [0.99488889 0.00511111]\n",
      " [0.81165079 0.18834921]\n",
      " [0.94987302 0.05012698]\n",
      " [0.969      0.031     ]\n",
      " [0.85666667 0.14333333]\n",
      " [0.49       0.51      ]\n",
      " [0.5235     0.4765    ]\n",
      " [0.65364683 0.34635317]\n",
      " [0.80121734 0.19878266]\n",
      " [0.99488095 0.00511905]\n",
      " [0.14       0.86      ]\n",
      " [0.04       0.96      ]\n",
      " [0.85       0.15      ]\n",
      " [1.         0.        ]\n",
      " [0.         1.        ]\n",
      " [0.7352619  0.2647381 ]\n",
      " [0.98083333 0.01916667]\n",
      " [0.52630159 0.47369841]\n",
      " [0.90196429 0.09803571]\n",
      " [0.88983333 0.11016667]\n",
      " [0.80121734 0.19878266]\n",
      " [0.69722222 0.30277778]\n",
      " [0.57416667 0.42583333]\n",
      " [0.9699418  0.0300582 ]\n",
      " [0.90564683 0.09435317]\n",
      " [0.08333333 0.91666667]\n",
      " [0.         1.        ]\n",
      " [0.19666667 0.80333333]\n",
      " [0.58104762 0.41895238]\n",
      " [0.04833333 0.95166667]\n",
      " [0.99333333 0.00666667]\n",
      " [0.81165079 0.18834921]\n",
      " [0.86311111 0.13688889]\n",
      " [0.56       0.44      ]\n",
      " [0.53689683 0.46310317]\n",
      " [0.98777778 0.01222222]\n",
      " [0.98611111 0.01388889]\n",
      " [0.95777778 0.04222222]\n",
      " [0.71783333 0.28216667]\n",
      " [0.82731258 0.17268742]\n",
      " [0.99666667 0.00333333]\n",
      " [0.23       0.77      ]\n",
      " [0.95985714 0.04014286]\n",
      " [0.85333333 0.14666667]\n",
      " [0.58104762 0.41895238]\n",
      " [0.18333333 0.81666667]\n",
      " [0.01866667 0.98133333]\n",
      " [0.00333333 0.99666667]\n",
      " [0.81361243 0.18638757]\n",
      " [0.66666667 0.33333333]\n",
      " [0.25916667 0.74083333]\n",
      " [0.92273016 0.07726984]\n",
      " [0.99488889 0.00511111]\n",
      " [0.0275     0.9725    ]\n",
      " [0.86311111 0.13688889]\n",
      " [0.77888889 0.22111111]\n",
      " [0.40701587 0.59298413]\n",
      " [0.99055556 0.00944444]\n",
      " [0.99333333 0.00666667]\n",
      " [0.17666667 0.82333333]\n",
      " [0.73       0.27      ]\n",
      " [0.30666667 0.69333333]\n",
      " [1.         0.        ]\n",
      " [0.61380952 0.38619048]\n",
      " [0.67898942 0.32101058]\n",
      " [0.29333333 0.70666667]\n",
      " [0.         1.        ]\n",
      " [0.94777778 0.05222222]\n",
      " [0.61666667 0.38333333]\n",
      " [1.         0.        ]\n",
      " [0.91238889 0.08761111]\n",
      " [0.66557143 0.33442857]\n",
      " [0.89925    0.10075   ]\n",
      " [0.85775397 0.14224603]\n",
      " [0.81361243 0.18638757]\n",
      " [0.9925     0.0075    ]\n",
      " [0.77583622 0.22416378]\n",
      " [0.824      0.176     ]\n",
      " [0.84588889 0.15411111]\n",
      " [0.005      0.995     ]\n",
      " [1.         0.        ]\n",
      " [0.18666667 0.81333333]\n",
      " [0.99       0.01      ]\n",
      " [0.88822222 0.11177778]\n",
      " [0.97366667 0.02633333]\n",
      " [0.00333333 0.99666667]\n",
      " [0.98083333 0.01916667]\n",
      " [0.00666667 0.99333333]\n",
      " [0.99138889 0.00861111]\n",
      " [0.87499471 0.12500529]\n",
      " [0.9925     0.0075    ]\n",
      " [0.75208018 0.24791982]\n",
      " [0.44781746 0.55218254]\n",
      " [1.         0.        ]\n",
      " [0.         1.        ]\n",
      " [0.53477778 0.46522222]\n",
      " [0.04       0.96      ]\n",
      " [0.04142857 0.95857143]\n",
      " [0.69838889 0.30161111]\n",
      " [0.98       0.02      ]\n",
      " [0.81361243 0.18638757]\n",
      " [0.         1.        ]\n",
      " [0.98083333 0.01916667]\n",
      " [0.97183333 0.02816667]\n",
      " [0.2305     0.7695    ]\n",
      " [0.99311111 0.00688889]\n",
      " [0.6761336  0.3238664 ]\n",
      " [0.68083333 0.31916667]\n",
      " [0.99666667 0.00333333]\n",
      " [0.81805556 0.18194444]\n",
      " [0.05612698 0.94387302]\n",
      " [0.36277778 0.63722222]\n",
      " [0.92273016 0.07726984]\n",
      " [0.671      0.329     ]\n",
      " [0.88501587 0.11498413]\n",
      " [0.61348413 0.38651587]\n",
      " [0.68156614 0.31843386]\n",
      " [0.68156614 0.31843386]\n",
      " [0.95900794 0.04099206]\n",
      " [0.41666667 0.58333333]\n",
      " [0.85177778 0.14822222]\n",
      " [1.         0.        ]\n",
      " [0.16666667 0.83333333]\n",
      " [0.80833333 0.19166667]\n",
      " [0.83962963 0.16037037]\n",
      " [0.98694444 0.01305556]\n",
      " [1.         0.        ]\n",
      " [0.95683333 0.04316667]\n",
      " [0.22301587 0.77698413]\n",
      " [0.04       0.96      ]\n",
      " [0.91177778 0.08822222]\n",
      " [1.         0.        ]\n",
      " [0.34666667 0.65333333]\n",
      " [0.98666667 0.01333333]\n",
      " [0.72       0.28      ]\n",
      " [0.         1.        ]\n",
      " [0.32148148 0.67851852]\n",
      " [0.89111111 0.10888889]\n",
      " [0.94987302 0.05012698]\n",
      " [0.98666667 0.01333333]\n",
      " [0.68       0.32      ]\n",
      " [0.66922222 0.33077778]\n",
      " [0.99       0.01      ]\n",
      " [0.52830952 0.47169048]\n",
      " [0.89925    0.10075   ]\n",
      " [0.81805556 0.18194444]\n",
      " [0.         1.        ]\n",
      " [0.91666667 0.08333333]\n",
      " [0.52550397 0.47449603]\n",
      " [0.99577778 0.00422222]\n",
      " [0.05833333 0.94166667]\n",
      " [1.         0.        ]\n",
      " [0.53       0.47      ]\n",
      " [0.982      0.018     ]\n",
      " [0.01222222 0.98777778]\n",
      " [0.95666667 0.04333333]\n",
      " [0.71694444 0.28305556]\n",
      " [0.80987698 0.19012302]\n",
      " [0.51593651 0.48406349]\n",
      " [0.98253968 0.01746032]\n",
      " [0.68360317 0.31639683]\n",
      " [0.89829365 0.10170635]\n",
      " [0.9132381  0.0867619 ]\n",
      " [0.83666667 0.16333333]\n",
      " [0.652      0.348     ]\n",
      " [0.66907937 0.33092063]\n",
      " [0.79150302 0.20849698]\n",
      " [0.         1.        ]\n",
      " [0.         1.        ]\n",
      " [0.01       0.99      ]\n",
      " [0.71192857 0.28807143]\n",
      " [0.51816667 0.48183333]\n",
      " [0.5439127  0.4560873 ]\n",
      " [0.         1.        ]\n",
      " [0.00555556 0.99444444]\n",
      " [0.91333333 0.08666667]\n",
      " [1.         0.        ]\n",
      " [0.99666667 0.00333333]\n",
      " [0.05       0.95      ]\n",
      " [0.9699418  0.0300582 ]\n",
      " [1.         0.        ]\n",
      " [0.66922222 0.33077778]\n",
      " [0.81165079 0.18834921]\n",
      " [0.47772354 0.52227646]\n",
      " [1.         0.        ]\n",
      " [0.94436111 0.05563889]\n",
      " [0.61190476 0.38809524]\n",
      " [0.30666667 0.69333333]\n",
      " [0.         1.        ]\n",
      " [0.45027778 0.54972222]\n",
      " [0.25166667 0.74833333]\n",
      " [0.93333333 0.06666667]\n",
      " [0.94055556 0.05944444]\n",
      " [0.97333333 0.02666667]\n",
      " [0.32266534 0.67733466]\n",
      " [0.99888889 0.00111111]\n",
      " [0.19       0.81      ]\n",
      " [1.         0.        ]\n",
      " [0.13       0.87      ]\n",
      " [0.364      0.636     ]\n",
      " [0.87177778 0.12822222]\n",
      " [0.88883442 0.11116558]\n",
      " [0.91888889 0.08111111]\n",
      " [0.99462963 0.00537037]\n",
      " [0.69333333 0.30666667]\n",
      " [0.04       0.96      ]\n",
      " [0.99555556 0.00444444]\n",
      " [0.89925    0.10075   ]\n",
      " [0.98777778 0.01222222]\n",
      " [0.93       0.07      ]\n",
      " [0.99666667 0.00333333]\n",
      " [0.95144017 0.04855983]\n",
      " [0.56333333 0.43666667]\n",
      " [0.66445798 0.33554202]\n",
      " [0.61144444 0.38855556]\n",
      " [0.86333333 0.13666667]\n",
      " [0.61144444 0.38855556]\n",
      " [0.53       0.47      ]\n",
      " [0.67745238 0.32254762]\n",
      " [0.9825     0.0175    ]\n",
      " [1.         0.        ]\n",
      " [0.9925     0.0075    ]\n",
      " [0.91833333 0.08166667]\n",
      " [0.98333333 0.01666667]\n",
      " [0.91427778 0.08572222]\n",
      " [1.         0.        ]\n",
      " [0.175      0.825     ]\n",
      " [0.97366667 0.02633333]\n",
      " [0.55164286 0.44835714]\n",
      " [0.79407407 0.20592593]\n",
      " [0.08388889 0.91611111]\n",
      " [0.97333333 0.02666667]\n",
      " [0.74006878 0.25993122]\n",
      " [0.12666667 0.87333333]\n",
      " [0.76877778 0.23122222]\n",
      " [0.96777778 0.03222222]\n",
      " [0.81333333 0.18666667]\n",
      " [0.94636508 0.05363492]\n",
      " [0.9132381  0.0867619 ]\n",
      " [1.         0.        ]\n",
      " [0.00333333 0.99666667]\n",
      " [0.99333333 0.00666667]\n",
      " [1.         0.        ]\n",
      " [0.00333333 0.99666667]\n",
      " [0.06083333 0.93916667]\n",
      " [0.         1.        ]\n",
      " [0.00666667 0.99333333]\n",
      " [0.40701587 0.59298413]\n",
      " [0.998      0.002     ]\n",
      " [0.53689683 0.46310317]\n",
      " [0.         1.        ]\n",
      " [0.0422619  0.9577381 ]\n",
      " [0.96333333 0.03666667]\n",
      " [0.98611111 0.01388889]\n",
      " [0.96533333 0.03466667]\n",
      " [0.70713492 0.29286508]\n",
      " [0.96944444 0.03055556]\n",
      " [0.12       0.88      ]\n",
      " [0.39160582 0.60839418]\n",
      " [0.30361111 0.69638889]\n",
      " [0.185      0.815     ]\n",
      " [0.98666667 0.01333333]\n",
      " [0.90588889 0.09411111]\n",
      " [0.96933333 0.03066667]\n",
      " [0.91944444 0.08055556]\n",
      " [0.50638889 0.49361111]\n",
      " [0.95324603 0.04675397]\n",
      " [0.98694444 0.01305556]\n",
      " [0.80444444 0.19555556]\n",
      " [0.49274287 0.50725713]\n",
      " [0.95811111 0.04188889]\n",
      " [0.         1.        ]\n",
      " [0.63127778 0.36872222]\n",
      " [0.91       0.09      ]\n",
      " [0.868      0.132     ]\n",
      " [0.86438889 0.13561111]\n",
      " [0.96722222 0.03277778]\n",
      " [0.99       0.01      ]\n",
      " [0.79333333 0.20666667]\n",
      " [0.93444444 0.06555556]\n",
      " [0.91       0.09      ]\n",
      " [0.01       0.99      ]\n",
      " [0.95247619 0.04752381]\n",
      " [0.99138889 0.00861111]\n",
      " [0.95180808 0.04819192]\n",
      " [0.90541667 0.09458333]\n",
      " [0.20833333 0.79166667]\n",
      " [0.57110317 0.42889683]\n",
      " [0.97816667 0.02183333]\n",
      " [0.34861111 0.65138889]\n",
      " [0.99888889 0.00111111]\n",
      " [0.94912698 0.05087302]\n",
      " [0.99425926 0.00574074]\n",
      " [0.00333333 0.99666667]\n",
      " [1.         0.        ]\n",
      " [0.95722222 0.04277778]\n",
      " [0.99666667 0.00333333]\n",
      " [0.57110317 0.42889683]\n",
      " [0.94844048 0.05155952]\n",
      " [0.79111111 0.20888889]\n",
      " [0.99       0.01      ]\n",
      " [0.00333333 0.99666667]\n",
      " [0.58826142 0.41173858]\n",
      " [0.00922222 0.99077778]\n",
      " [0.97916667 0.02083333]\n",
      " [0.91278571 0.08721429]\n",
      " [0.32222222 0.67777778]\n",
      " [0.87666667 0.12333333]\n",
      " [0.68666667 0.31333333]\n",
      " [0.43666667 0.56333333]\n",
      " [0.51555556 0.48444444]\n",
      " [0.03922222 0.96077778]\n",
      " [0.74111111 0.25888889]\n",
      " [0.08333333 0.91666667]\n",
      " [0.99       0.01      ]\n",
      " [0.01       0.99      ]\n",
      " [0.51544444 0.48455556]\n",
      " [0.62991667 0.37008333]\n",
      " [0.63953968 0.36046032]\n",
      " [0.0422619  0.9577381 ]\n",
      " [0.73333333 0.26666667]\n",
      " [0.54666667 0.45333333]\n",
      " [0.89333333 0.10666667]\n",
      " [0.39527778 0.60472222]\n",
      " [0.01833333 0.98166667]\n",
      " [0.4363254  0.5636746 ]\n",
      " [0.61600397 0.38399603]\n",
      " [0.085      0.915     ]\n",
      " [0.07847222 0.92152778]\n",
      " [0.17138889 0.82861111]\n",
      " [0.75148545 0.24851455]\n",
      " [0.76138889 0.23861111]\n",
      " [0.52630159 0.47369841]\n",
      " [0.22214286 0.77785714]\n",
      " [0.175      0.825     ]\n",
      " [1.         0.        ]\n",
      " [0.95811111 0.04188889]\n",
      " [0.34666667 0.65333333]\n",
      " [0.60898286 0.39101714]\n",
      " [0.48625758 0.51374242]\n",
      " [0.50683333 0.49316667]\n",
      " [0.77666667 0.22333333]\n",
      " [0.97333333 0.02666667]\n",
      " [0.92655556 0.07344444]\n",
      " [0.143      0.857     ]\n",
      " [0.85775397 0.14224603]\n",
      " [0.88161111 0.11838889]\n",
      " [0.99333333 0.00666667]\n",
      " [0.         1.        ]\n",
      " [0.70175    0.29825   ]\n",
      " [0.         1.        ]\n",
      " [0.58675794 0.41324206]\n",
      " [0.01666667 0.98333333]\n",
      " [0.55164286 0.44835714]\n",
      " [0.75197619 0.24802381]\n",
      " [0.98904762 0.01095238]\n",
      " [0.95130423 0.04869577]\n",
      " [0.13666667 0.86333333]\n",
      " [0.28       0.72      ]\n",
      " [0.986      0.014     ]\n",
      " [0.6        0.4       ]\n",
      " [0.57110317 0.42889683]]\n",
      "     index    y_pred\n",
      "0     1491  0.990000\n",
      "1     1492  0.846667\n",
      "2     1493  0.612298\n",
      "3     1494  0.166667\n",
      "4     1495  0.022222\n",
      "..     ...       ...\n",
      "491   1982  0.863333\n",
      "492   1983  0.720000\n",
      "493   1984  0.014000\n",
      "494   1985  0.400000\n",
      "495   1986  0.428897\n",
      "\n",
      "[496 rows x 2 columns]\n"
     ]
    }
   ],
   "source": [
    "import pandas as pd\n",
    "from sklearn.ensemble import *\n",
    "from sklearn.metrics import *\n",
    "from sklearn.preprocessing import *\n",
    "from sklearn.model_selection import *\n",
    "\n",
    "df1 = pd.read_csv('./datasets/P210304-01.csv')\n",
    "df2 = pd.read_csv('./datasets/P210304-02.csv')\n",
    "\n",
    "# 종속 변수를 범주형으로 만들기\n",
    "df1['TravelInsurance'] = df1['TravelInsurance'].astype('category')\n",
    "\n",
    "# 독립 변수, 종속 변수 구별\n",
    "x = df1.drop('TravelInsurance', axis=1)    # 독립 변수\n",
    "y = df1['TravelInsurance']   # 종속 변수\n",
    "\n",
    "# 원-핫 인코딩\n",
    "x_encoded = pd.get_dummies(x).drop('X', axis=1)\n",
    "\n",
    "# 데이터 분할\n",
    "x_train, x_valid, y_train, y_valid = train_test_split(x_encoded, y, test_size=0.25)\n",
    "\n",
    "# 모델링\n",
    "md = RandomForestClassifier(n_estimators=300)\n",
    "md.fit(x_train, y_train)\n",
    "\n",
    "# 예측\n",
    "pred = md.predict(x_valid)\n",
    "\n",
    "# 성능 평가\n",
    "cm = confusion_matrix(y_valid, pred, labels=[1, 0])\n",
    "print(cm)\n",
    "\n",
    "print(accuracy_score(y_valid, pred))\n",
    "print(recall_score(y_valid, pred))\n",
    "print(precision_score(y_valid, pred))\n",
    "print(f1_score(y_valid, pred))\n",
    "print(roc_auc_score(y_valid, pred))\n",
    "\n",
    "# 테스트 데이터 평가\n",
    "x_test = df2\n",
    "\n",
    "# 원-핫 인코딩\n",
    "x_test_encoded = pd.get_dummies(x_test).drop('X', axis=1)\n",
    "\n",
    "# 평가\n",
    "pred = md.predict_proba(x_test_encoded)\n",
    "print(pred)\n",
    "\n",
    "# CSV 내보내기\n",
    "result = pd.DataFrame({\n",
    "    'index': df2['X'],\n",
    "    'y_pred': pred[:, 1]\n",
    "})\n",
    "print(result)\n",
    "\n",
    "result.to_csv('./outputs/20240615_Q2.csv', index=False)"
   ]
  },
  {
   "cell_type": "markdown",
   "metadata": {},
   "source": [
    "### 문제 3 (22년 4회 기출)"
   ]
  },
  {
   "cell_type": "markdown",
   "metadata": {},
   "source": [
    "- 자동차 보험 회사는 새로운 전략을 수립하기 위해 고객을 4가지로 분류(A, B, C, D)로 세분화 하였다.\n",
    "- 기존 고객에 대한 분류(`P220404-01.csv`)를 바탕으로 신규 고객(`P220404-02.csv`)이 어떤 분류에 속할지 예측하여 제출하기\n",
    "\n",
    "```text\n",
    "평가 : Macro F1-score\n",
    "예측할 값 : Segmentation\n",
    "제출되는 파일은 테스트 데이터의 행의 수와 같아야 함.\n",
    "```\n",
    "\n",
    "\n",
    "|ID|pred|\n",
    "|:-:|:-:|\n",
    "|1|A|\n",
    "|2|B|\n",
    "|3|C|\n",
    "|...|...|\n",
    "|1500|D|"
   ]
  },
  {
   "cell_type": "code",
   "execution_count": 313,
   "metadata": {},
   "outputs": [
    {
     "name": "stdout",
     "output_type": "stream",
     "text": [
      "['C' 'A' 'B' ... 'C' 'A' 'C']\n",
      "[[175  94  47  86]\n",
      " [ 85 124 103  36]\n",
      " [ 55 134 218  31]\n",
      " [ 95  49  53 282]]\n",
      "0.4716943497373142\n",
      "['A' 'C' 'C' ... 'B' 'C' 'D']\n",
      "          ID pred\n",
      "0     458989    A\n",
      "1     458994    C\n",
      "2     459000    C\n",
      "3     459003    C\n",
      "4     459005    A\n",
      "...      ...  ...\n",
      "2149  467950    A\n",
      "2150  467954    D\n",
      "2151  467958    B\n",
      "2152  467961    C\n",
      "2153  467968    D\n",
      "\n",
      "[2154 rows x 2 columns]\n"
     ]
    }
   ],
   "source": [
    "import pandas as pd\n",
    "from sklearn.ensemble import *\n",
    "from sklearn.model_selection import *\n",
    "from sklearn.metrics import *\n",
    "from sklearn.preprocessing import *\n",
    "\n",
    "df1 = pd.read_csv('./datasets/P220404-01.csv')\n",
    "df2 = pd.read_csv('./datasets/P220404-02.csv')\n",
    "\n",
    "# 자료형 변환\n",
    "df1['Segmentation'] = df1['Segmentation'].astype('category')   # object -> category\n",
    "\n",
    "# 독립 변수, 종속 변수 나누기\n",
    "x = df1.drop('Segmentation', axis=1)   # 독립 변수\n",
    "y = df1['Segmentation']   # 종속 변수\n",
    "\n",
    "# 원-핫 인코딩\n",
    "x_encoded = pd.get_dummies(x).drop('ID', axis=1)\n",
    "\n",
    "# 데이터 분할\n",
    "x_train, x_valid, y_train, y_valid = train_test_split(x_encoded, y, test_size=0.25)\n",
    "\n",
    "# 모델링\n",
    "md = RandomForestClassifier(n_estimators=300)\n",
    "md.fit(x_train, y_train)\n",
    "\n",
    "# 예측\n",
    "pred = md.predict(x_valid)\n",
    "print(pred)\n",
    "\n",
    "# 성능 평가\n",
    "cm = confusion_matrix(pred, y_valid, labels=['A', 'B', 'C', 'D'])\n",
    "print(cm)\n",
    "\n",
    "print(f1_score(y_valid, pred, average='macro'))\n",
    "\n",
    "# 테스트 데이터 평가\n",
    "x_test = df2\n",
    "\n",
    "x_test_encoded = pd.get_dummies(x_test).drop('ID', axis=1)   # 원-핫 인코딩\n",
    "\n",
    "pred = md.predict(x_test_encoded)    # 예측\n",
    "print(pred)\n",
    "\n",
    "# CSV 내보내기\n",
    "result = pd.DataFrame({\n",
    "    'ID': df2['ID'],\n",
    "    'pred': pred[:]\n",
    "})\n",
    "print(result)\n",
    "\n",
    "result.to_csv('./outputs/20240615_Q3.csv', index=False)"
   ]
  },
  {
   "cell_type": "markdown",
   "metadata": {},
   "source": [
    "### 문제 4 (22년 5회 기출)"
   ]
  },
  {
   "cell_type": "markdown",
   "metadata": {},
   "source": [
    "- 주어진 훈련 데이터를 이용하여 중고 차량 가격(`price`)을 예측하는 모형을 만들고, 테스트 데이터를 이용하여 중고 차량 가격을 예측하여 제출하기\n",
    "\n",
    "```text\n",
    "평가 : RMSE\n",
    "제출되는 파일은 테스트 데이터의 행의 수와 같아야 함.\n",
    "```\n",
    "\n",
    "|pred|\n",
    "|:-:|\n",
    "|1230|\n",
    "|2562|\n",
    "|...|\n",
    "|3761|"
   ]
  },
  {
   "cell_type": "code",
   "execution_count": 237,
   "metadata": {},
   "outputs": [
    {
     "name": "stdout",
     "output_type": "stream",
     "text": [
      "[13257.97333333 13413.69666667 56210.31333333 ... 20877.89666667\n",
      " 32533.06       57159.19333333]\n",
      "2664.714854535774\n"
     ]
    },
    {
     "name": "stderr",
     "output_type": "stream",
     "text": [
      "c:\\Users\\kss34\\anaconda3\\envs\\bigdata\\Lib\\site-packages\\sklearn\\metrics\\_regression.py:483: FutureWarning: 'squared' is deprecated in version 1.4 and will be removed in 1.6. To calculate the root mean squared error, use the function'root_mean_squared_error'.\n",
      "  warnings.warn(\n"
     ]
    },
    {
     "name": "stdout",
     "output_type": "stream",
     "text": [
      "[17852.01333333 29587.24       24094.08       ... 17056.41666667\n",
      " 10830.59666667 16353.54666667]\n",
      "              pred\n",
      "0     17852.013333\n",
      "1     29587.240000\n",
      "2     24094.080000\n",
      "3     23034.503333\n",
      "4     20294.576667\n",
      "...            ...\n",
      "3877  18886.973333\n",
      "3878  15902.931667\n",
      "3879  17056.416667\n",
      "3880  10830.596667\n",
      "3881  16353.546667\n",
      "\n",
      "[3882 rows x 1 columns]\n"
     ]
    }
   ],
   "source": [
    "import pandas as pd\n",
    "from sklearn.ensemble import *\n",
    "from sklearn.model_selection import *\n",
    "from sklearn.metrics import *\n",
    "from sklearn.preprocessing import *\n",
    "\n",
    "df1 = pd.read_csv('./datasets/P220504-01.csv')\n",
    "df2 = pd.read_csv('./datasets/P220504-02.csv')\n",
    "\n",
    "# 회귀 문제에서는 종속 변수를 범주형(category)로 변환할 필요가 없다.\n",
    "\n",
    "# 독립 변수, 종속 변수 나누기\n",
    "x = df1.drop('price', axis=1)    # 독립 변수\n",
    "y = df1['price']\n",
    "\n",
    "# 원-핫 인코딩\n",
    "x_encoded = pd.get_dummies(x)\n",
    "\n",
    "# 데이터 분할\n",
    "x_train, x_valid, y_train, y_valid = train_test_split(x_encoded, y, test_size=0.25)\n",
    "\n",
    "# 모델링\n",
    "md = RandomForestRegressor(n_estimators=300)\n",
    "md.fit(x_train, y_train)\n",
    "\n",
    "# 예측\n",
    "pred = md.predict(x_valid)\n",
    "print(pred)\n",
    "\n",
    "# 성능 평가 (RMSE)\n",
    "result = mean_squared_error(y_valid, pred, squared=False)    # RMSE : False, MSE : True\n",
    "print(result)\n",
    "\n",
    "# 테스트 데이터 평가\n",
    "x_test = df2\n",
    "x_test_encoded = pd.get_dummies(x_test)   # 원-핫 인코딩\n",
    "\n",
    "# df1과 df2의 공통 피쳐 추출 ✅\n",
    "# 원-핫 인코딩을 수행하면 x_encoded의 변수와 x_test_encoded의 변수가 일치하지 않으므로 공통으로 있는 열 이름을 추출한다.\n",
    "common_features = list(set(x_encoded.columns).intersection(x_test_encoded.columns))\n",
    "x_train_common = x_encoded[common_features]\n",
    "x_test_common = x_test_encoded[common_features]\n",
    "\n",
    "# 모델링\n",
    "md = RandomForestRegressor(n_estimators=300)\n",
    "md.fit(x_train_common, y)\n",
    "\n",
    "# 예측\n",
    "pred = md.predict(x_test_common)\n",
    "print(pred)\n",
    "\n",
    "# CSV 내보내기\n",
    "result = pd.DataFrame({\n",
    "    'pred': pred\n",
    "})\n",
    "print(result)\n",
    "\n",
    "result.to_csv('./outputs/20240615_Q4.csv', index=False)"
   ]
  },
  {
   "cell_type": "markdown",
   "metadata": {},
   "source": [
    "### 문제 5 (23년 6회 기출)"
   ]
  },
  {
   "cell_type": "markdown",
   "metadata": {},
   "source": [
    "- 모바일 데이터 세트\n",
    "- 분류 모델을 사용하여 `price_range` 값을 예측하려고 한다.\n",
    "- `P230604-01.csv` 파일의 학습 데이터로 모델을 생성하고 `P230604-02.csv` 파일의 평가 데이터로 평가하여 예측하기\n",
    "\n",
    "```text\n",
    "Macro F1 Score로 평가\n",
    "feature engineering, 하이퍼파라미터 최적화 등을 수행할 수 있으며, 과대적합이 발생할 수 있다.\n",
    "```\n",
    "\n",
    "|pred|\n",
    "|:-:|\n",
    "|2|\n",
    "|3|\n",
    "|0|\n",
    "|...|"
   ]
  },
  {
   "cell_type": "code",
   "execution_count": 314,
   "metadata": {},
   "outputs": [
    {
     "name": "stdout",
     "output_type": "stream",
     "text": [
      "[1 1 1 1 3 0 3 0 0 2 3 0 2 0 1 0 1 0 3 2 0 0 2 2 0 2 2 0 1 1 2 0 3 3 0 1 2\n",
      " 1 3 3 0 2 2 0 2 2 2 1 0 0 3 1 1 2 3 2 0 1 0 3 1 0 1 1 2 0 2 0 0 3 1 0 2 2\n",
      " 3 0 3 3 1 0 3 2 2 1 2 0 1 2 2 3 0 1 2 2 0 0 2 1 2 1 2 3 1 1 3 0 3 0 3 3 0\n",
      " 0 0 3 0 2 2 3 0 2 2 3 0 3 0 3 0 3 0 2 2 0 3 2 1 0 0 2 2 3 3 0 3 1 1 0 1 0\n",
      " 0 0 0 0 0 0 1 3 2 3 1 3 3 1 2 0 1 0 0 0 2 2 2 0 2 0 1 1 3 2 3 1 3 3 1 3 2\n",
      " 3 3 3 3 3 3 2 1 0 1 1 2 0 3 3 3 0 2 3 2 1 3 3 1 3 3 2 3 0 1 2 0 0 3 1 0 0\n",
      " 0 3 1 3 2 1 3 3 0 1 1 0 0 2 2 2 0 2 0 0 2 3 0 0 3 2 3 2 1 0 1 1 3 3 2 0 1\n",
      " 3 0 2 2 0 3 2 0 1 1 3 2 2 1 1 0 3 3 3 0 3 1 0 3 1 1 1 1 1 2 0 3 0 2 3 2 2\n",
      " 1 1 1 1 3 1 0 2 2 2 3 0 0 2 2 2 0 3 1 3 0 3 2 2 0 0 1 1 2 3 3 3 3 0 0 3 1\n",
      " 0 1 0 1 1 2 1 3 0 3 2 2 1 1 3 1 3 1 3 0 0 0 2 1 3 1 3 3 2 3 3 3 0 1 1 3 2\n",
      " 0 3 1 3 1 1 1 1 1 2 1 0 0 0 1 1 1 2 3 1 2 0 3 1 0 3 0 2 2 3 0 0 0 0 1 0 2\n",
      " 1 3 1 2 2 0 0 0 0 2 0 3 2 2 2 0 3 2 0 1 2 3 3 1 2 3 0 3 0 0 2 3 1 0 0 1 1\n",
      " 3 0 2 1 1 2 1 1 2 3 2 3 2 2 1 3 2 2 0 2 0 0 2 2 3 2 2 3 1 0 3 1 3 2 1 0 3\n",
      " 2 0 0 0 3 1 2 1 2 1 2 2 1 0 2 1 3 3 1]\n",
      "[[128   8   0   0]\n",
      " [  6  98  14   0]\n",
      " [  0  16  96  10]\n",
      " [  0   0  10 114]]\n",
      "0.8693895208191397\n",
      "[2 3 2 3 1 3 3 1 3 0 3 3 0 0 2 0 2 1 3 2 1 3 1 1 3 0 2 0 3 0 2 0 3 0 0 1 3\n",
      " 1 2 1 1 2 0 0 0 0 0 3 1 2 2 0 3 0 3 1 3 1 1 3 3 2 0 1 1 1 1 2 1 1 1 2 2 3\n",
      " 3 0 2 0 2 3 0 3 3 0 3 0 2 1 3 0 1 1 2 1 2 1 0 2 1 3 1 0 0 3 1 2 0 1 2 3 3\n",
      " 3 1 3 3 3 3 1 3 0 0 3 2 1 2 1 3 2 3 1 0 2 1 1 3 1 1 0 3 2 1 3 2 2 2 3 3 2\n",
      " 2 3 2 3 0 0 2 2 3 3 3 3 3 2 3 3 3 3 1 0 3 0 0 0 1 1 0 1 0 0 1 2 0 0 0 1 2\n",
      " 2 1 1 0 0 0 1 0 3 1 0 2 2 2 3 1 2 3 3 3 1 2 0 0 0 1 3 1 2 3 3 0 2 0 3 2 3\n",
      " 3 0 0 1 0 3 0 1 0 2 2 1 3 0 3 0 3 1 2 0 0 2 1 2 3 3 1 1 3 0 0 2 3 3 1 3 1\n",
      " 1 3 2 1 2 3 3 3 1 0 1 2 3 1 1 3 2 0 3 0 1 2 0 0 3 2 3 3 2 1 3 3 2 3 2 2 1\n",
      " 1 0 2 3 1 0 0 3 0 3 0 1 1 0 2 2 1 3 1 2 1 2 0 0 0 1 3 2 0 0 0 3 1 0 3 3 1\n",
      " 2 3 2 3 1 3 3 2 2 3 3 3 1 3 0 3 1 3 1 3 3 0 1 0 3 1 3 1 3 0 0 0 0 2 0 0 1\n",
      " 1 1 1 3 2 0 1 0 0 3 2 0 3 1 2 2 1 1 3 1 1 2 2 1 2 0 1 1 0 3 2 0 0 1 0 0 1\n",
      " 0 0 0 0 2 2 3 2 3 0 2 0 3 0 1 0 1 2 0 3 2 3 3 1 3 1 3 1 2 2 0 2 2 1 1 0 0\n",
      " 0 1 2 1 0 3 2 0 2 3 0 0 3 1 1 0 2 2 3 0 3 0 2 3 2 3 0 2 0 1 3 0 1 1 1 0 1\n",
      " 1 2 3 3 3 2 3 1 1 2 3 3 3 1 0 2 2 2 2 1 0 2 2 0 0 0 3 1 1 2 2 2 0 3 0 2 2\n",
      " 0 3 0 2 3 0 1 1 3 3 1 1 2 3 2 0 2 1 2 0 3 3 1 3 2 2 3 0 1 2 3 1 3 2 3 1 0\n",
      " 0 0 3 1 0 3 2 3 2 0 3 3 3 2 3 3 1 2 1 2 3 3 1 0 1 1 1 2 2 0 0 2 2 3 2 0 2\n",
      " 1 3 3 0 1 3 1 2 1 0 0 0 2 1 0 1 1 2 2 1 2 2 1 0 3 0 0 3 2 0 0 0 0 0 3 0 3\n",
      " 1 3 2 1 3 2 0 1 1 3 2 3 1 0 3 0 2 0 2 0 1 1 1 1 2 1 3 0 3 2 2 1 3 2 0 1 3\n",
      " 0 3 3 0 2 1 1 2 0 3 2 0 3 2 3 0 0 3 0 2 2 3 2 2 2 2 1 1 3 0 1 1 1 2 1 0 0\n",
      " 1 0 0 3 0 1 1 0 1 1 0 3 0 3 2 3 0 0 1 2 2 1 0 1 1 0 1 1 0 0 3 3 0 3 1 2 3\n",
      " 0 1 0 2 2 0 3 1 0 3 0 1 0 3 3 3 2 3 0 3 2 0 1 0 2 3 2 0 2 1 3 1 0 3 2 0 3\n",
      " 1 1 1 1 1 3 1 1 1 2 0 0 1 2 0 2 0 0 0 0 2 3 3 3 0 1 2 2 1 0 0 2 1 0 2 0 2\n",
      " 2 3 1 2 0 1 1 3 0 0 3 1 3 0 0 2 2 2 1 3 2 1 0 0 2 3 0 3 0 0 0 2 2 1 3 0 3\n",
      " 2 1 2 3 3 0 1 1 2 1 2 2 0 1 3 1 1 3 1 2 3 1 1 1 2 3 3 0 3 3 0 2 3 2 2 2 3\n",
      " 2 0 1 2 0 2 1 1 1 3 2 1 2 0 0 1 3 1 0 1 1 3 1 0 0 3 2 2 3 0 3 2 2 1 3 0 1\n",
      " 3 1 2 1 1 2 2 0 3 0 2 3 0 3 1 2 3 1 0 2 3 1 0 1 1 2 1 2 0 2 2 0 2 3 2 3 0\n",
      " 2 1 1 2 2 3 3 0 2 1 2 1 3 0 1 3 0 1 0 0 3 2 2 0 0 0 0 3 2 3 3 0 0 2 1 1 2\n",
      " 2]\n",
      "     pred\n",
      "0       2\n",
      "1       3\n",
      "2       2\n",
      "3       3\n",
      "4       1\n",
      "..    ...\n",
      "995     2\n",
      "996     1\n",
      "997     1\n",
      "998     2\n",
      "999     2\n",
      "\n",
      "[1000 rows x 1 columns]\n"
     ]
    }
   ],
   "source": [
    "import pandas as pd\n",
    "from sklearn.ensemble import *\n",
    "from sklearn.preprocessing import *\n",
    "from sklearn.model_selection import *\n",
    "from sklearn.metrics import *\n",
    "\n",
    "df1 = pd.read_csv('./datasets/P230604-01.csv')\n",
    "df2 = pd.read_csv('./datasets/P230604-02.csv')\n",
    "\n",
    "# 종속 변수를 범주형으로 변환\n",
    "df1['price_range'] = df1['price_range'].astype('category')\n",
    "\n",
    "# 수치형 변수들을 범주형 변수들로 바꿔주기 ✅\n",
    "df1['blue'] = df1['blue'].astype('category')\n",
    "df1['dual_sim'] = df1['dual_sim'].astype('category')\n",
    "df1['four_g'] = df1['four_g'].astype('category')\n",
    "df1['n_cores'] = df1['n_cores'].astype('category')\n",
    "df1['three_g'] = df1['three_g'].astype('category')\n",
    "df1['touch_screen'] = df1['touch_screen'].astype('category')\n",
    "df1['wifi'] = df1['wifi'].astype('category')\n",
    "\n",
    "df2['blue'] = df2['blue'].astype('category')\n",
    "df2['dual_sim'] = df2['dual_sim'].astype('category')\n",
    "df2['four_g'] = df2['four_g'].astype('category')\n",
    "df2['n_cores'] = df2['n_cores'].astype('category')\n",
    "df2['three_g'] = df2['three_g'].astype('category')\n",
    "df2['touch_screen'] = df2['touch_screen'].astype('category')\n",
    "df2['wifi'] = df2['wifi'].astype('category')\n",
    "\n",
    "# 독립 변수, 종속 변수 분리\n",
    "x = df1.drop('price_range', axis=1)\n",
    "y = df1['price_range']\n",
    "\n",
    "# 원-핫 인코딩\n",
    "x_encoded = pd.get_dummies(x)\n",
    "\n",
    "# 데이터 분할\n",
    "x_train, x_valid, y_train, y_valid = train_test_split(x_encoded, y, test_size=0.25)\n",
    "\n",
    "# 모델링\n",
    "md = RandomForestClassifier(n_estimators=300)\n",
    "md.fit(x_train, y_train)\n",
    "\n",
    "# 예측\n",
    "pred = md.predict(x_valid)\n",
    "print(pred)\n",
    "\n",
    "# 성능 평가\n",
    "cm = confusion_matrix(pred, y_valid)\n",
    "print(cm)\n",
    "\n",
    "print(f1_score(y_valid, pred, average='macro'))\n",
    "\n",
    "# 테스트 데이터 평가\n",
    "x_test = df2\n",
    "\n",
    "x_test_encoded = pd.get_dummies(x_test).drop('id', axis=1)   # 원-핫 인코딩\n",
    "\n",
    "pred = md.predict(x_test_encoded)   # 예측\n",
    "print(pred)\n",
    "\n",
    "# CSV 내보내기\n",
    "result = pd.DataFrame({\n",
    "    'pred': pred\n",
    "})\n",
    "print(result)\n",
    "\n",
    "result.to_csv('./outputs/20240615_Q5.csv', index=False)"
   ]
  },
  {
   "cell_type": "markdown",
   "metadata": {},
   "source": [
    "### 문제 6 (23년 7회 기출)"
   ]
  },
  {
   "cell_type": "markdown",
   "metadata": {},
   "source": [
    "- 제주 업종별 카드 이용 정보 데이터\n",
    "- 종속 변수 : 이용금액\n",
    "- 평가 지표 : RMSE"
   ]
  },
  {
   "cell_type": "code",
   "execution_count": null,
   "metadata": {},
   "outputs": [
    {
     "name": "stdout",
     "output_type": "stream",
     "text": [
      "[1.17633160e+08 1.04655530e+09 2.03229420e+08 2.51792321e+06\n",
      " 1.00374243e+10 1.99101522e+06 1.81891352e+09 1.00068535e+09\n",
      " 2.71812644e+06 1.40516986e+06 5.72687244e+08 3.34727240e+09\n",
      " 6.01006947e+08 3.22235935e+06 1.23363055e+09 1.10245518e+08\n",
      " 1.89201887e+09 5.41153830e+08 3.66605726e+08 6.89848813e+07\n",
      " 4.18620797e+07 1.04713878e+07 7.50943589e+08 3.26295767e+05\n",
      " 2.57670901e+06 2.52251170e+06 6.46209483e+08 3.40903938e+07\n",
      " 1.16082574e+07 3.70849191e+08 4.17484773e+09 6.72271706e+08\n",
      " 3.96810479e+06 3.78797808e+07 6.50488477e+07 5.59820217e+08\n",
      " 3.25152072e+08 6.87172715e+08 3.73996240e+08 1.51690368e+08\n",
      " 6.53519820e+07 7.21810627e+08 3.81802815e+07 3.33371859e+08\n",
      " 4.79568576e+09 5.25677808e+08 1.52245090e+09 4.46335969e+08\n",
      " 3.81193326e+09 8.37223229e+08 7.45216586e+08 8.34551124e+08\n",
      " 3.54979079e+09 5.52647679e+07 1.46072028e+08 2.30677753e+06\n",
      " 6.12442742e+08 9.67781386e+08 1.06647484e+08 4.21238694e+07\n",
      " 4.75167021e+07 4.89053784e+07 2.41902849e+07 1.00257184e+09\n",
      " 1.37189578e+09 1.60415447e+06 2.90001879e+08 1.15321570e+07\n",
      " 1.03682813e+08 1.19667292e+07 2.92698118e+09 2.99946414e+08\n",
      " 5.12950376e+09 4.97379791e+08 4.76782857e+07 2.07873426e+09\n",
      " 1.07312411e+09 4.00264557e+07 2.45236741e+08 1.02848324e+09\n",
      " 5.44619279e+08 4.52233760e+08 3.78174907e+07 1.38471982e+09\n",
      " 9.89803655e+09 1.39802986e+07 8.10093698e+07 1.90713979e+06\n",
      " 4.47556819e+07 1.09273421e+06 4.45892803e+08 5.53603361e+09\n",
      " 9.77592553e+09 2.91973750e+08 4.59075101e+08 2.26313706e+06\n",
      " 1.01819797e+09 3.03429329e+08 6.75538368e+08 3.45189233e+08\n",
      " 9.68084663e+07 8.11030990e+08 3.45700155e+09 5.37969098e+09\n",
      " 7.65926331e+08 5.32264561e+09 2.56907287e+06 6.53497367e+05\n",
      " 1.79384845e+08 9.94083767e+07 4.94595629e+09 3.35057242e+06\n",
      " 4.13408672e+08 1.79365289e+07 2.18412597e+08 3.62680064e+08\n",
      " 1.29587491e+07 3.88444456e+09 5.81411174e+08 2.06648871e+08\n",
      " 2.24818569e+07 2.06901309e+08 3.77679603e+06 6.65267293e+06\n",
      " 3.63209469e+08 2.44764325e+09 2.52555832e+08 7.11938637e+08\n",
      " 5.62164510e+07 4.72367459e+09 5.26267681e+07 2.37970027e+08\n",
      " 8.53461315e+08 8.40193943e+08 1.00132197e+09 1.23106259e+09\n",
      " 6.42164875e+08 6.42870307e+05 2.60821240e+08 2.45767550e+08\n",
      " 3.77522213e+08 3.81475233e+05 7.65755498e+08 4.92195817e+09\n",
      " 1.39147853e+06 4.97583484e+08 5.08663405e+08 3.44847769e+08\n",
      " 4.48140525e+08 1.47580819e+09 9.62032102e+07 7.27411176e+07\n",
      " 3.74248032e+08 2.97138248e+09 4.39139879e+09 6.21751858e+08\n",
      " 3.18899969e+09 2.11276042e+06 5.03012388e+08 3.66188394e+09\n",
      " 4.08887649e+09 3.80848061e+08 4.17895996e+08 3.93012290e+06\n",
      " 4.22762293e+08 1.78006134e+08 2.43419248e+08 7.95185932e+08\n",
      " 5.83525867e+08 6.23010765e+08 4.09136003e+09 6.56758563e+08\n",
      " 6.91055943e+09 2.02383713e+08 3.25154424e+09 3.94507150e+08\n",
      " 5.48708966e+09 4.71089980e+06 3.50822812e+09 2.10273862e+07\n",
      " 3.39301635e+08 6.38484976e+08 1.38165874e+07 1.31300973e+06\n",
      " 1.32447033e+09 5.41965434e+07 8.28106397e+08 1.77707556e+08\n",
      " 4.87397762e+07 1.06752978e+09 9.36370749e+08 3.31832294e+08\n",
      " 1.48151346e+07 7.87573751e+09 5.45925254e+07 3.24107993e+06\n",
      " 1.72051760e+06 3.46455657e+08 5.64214954e+09 2.34347102e+08\n",
      " 1.80516149e+06 1.73177852e+07 5.14282263e+09 4.63070147e+08\n",
      " 3.28035631e+09 1.72789634e+08 1.80768438e+09 1.15953524e+09\n",
      " 1.41651869e+09 3.34231516e+08 1.52950477e+06 5.58830035e+09\n",
      " 1.59978134e+09 9.56600448e+08 3.51557070e+06 4.22542319e+07\n",
      " 1.74871235e+08 1.59027122e+08 5.42526440e+05 4.69891774e+09\n",
      " 5.48931848e+08 2.94457340e+08 1.23728573e+06 4.51784954e+08\n",
      " 1.49593872e+09 4.04354590e+08 1.47373607e+08 4.53423792e+08\n",
      " 1.67184345e+08 2.46186071e+08 5.46508285e+07 6.06211474e+08\n",
      " 7.89308226e+08 1.69322745e+06 1.85107254e+09 9.86889802e+06\n",
      " 3.16763178e+09 6.07461128e+06 5.63164083e+06 4.97543555e+08\n",
      " 6.87454507e+09 4.59283251e+08 9.56511875e+07 8.37221962e+07\n",
      " 1.50670923e+08 1.05318791e+09 1.61029976e+09 1.09978324e+08\n",
      " 9.90927840e+08 6.74477787e+05 4.37478046e+08 1.00286725e+09\n",
      " 7.65771713e+06 9.15973826e+09 3.56877406e+08 3.87898949e+08\n",
      " 3.88466597e+07 1.38737971e+09 1.08697765e+08 9.74755027e+07\n",
      " 4.48403802e+08 4.73641318e+08 1.23376198e+08 3.90249682e+06\n",
      " 8.05080275e+07 4.90506889e+08 5.49156771e+08 3.90184976e+08\n",
      " 2.71029105e+07 9.32707924e+09 1.06308715e+08 4.95721684e+07\n",
      " 7.93200244e+08 1.98298892e+06 7.87695919e+08 1.03806743e+09\n",
      " 1.43142336e+09 9.41972563e+08 6.44091082e+06 2.34509862e+08\n",
      " 4.62320553e+09 3.54692500e+06 1.00346955e+09 1.11855770e+06\n",
      " 2.90174383e+08 2.97824602e+09 4.49208096e+06 5.66044669e+07\n",
      " 1.23082805e+08 6.59728253e+07 5.38041295e+08 5.12786766e+09\n",
      " 8.69723320e+08 4.83702474e+08 4.72043965e+07 5.99334306e+08\n",
      " 3.24954470e+09 1.69697070e+08 5.02576423e+07 1.67472792e+08\n",
      " 3.33685915e+08 1.45616601e+08 1.00228565e+09 3.58224265e+08\n",
      " 4.10587547e+09 1.91967319e+09 9.21588922e+07 5.55393069e+08\n",
      " 8.81339301e+09 1.68608222e+09 4.95280292e+07 1.29185002e+08\n",
      " 1.91033744e+09 3.37556139e+08 8.92211321e+08 3.22086589e+08\n",
      " 7.68446489e+08 9.89527899e+06 7.47983319e+07 1.34516190e+09\n",
      " 3.82998836e+09 1.70317707e+09 3.45619878e+06 2.35758809e+08\n",
      " 3.30786206e+08 1.01111581e+09 6.17665739e+07 8.37930409e+08\n",
      " 4.95744468e+08 7.79866031e+07 1.45537837e+09 8.26548160e+06\n",
      " 4.54799291e+08 3.16635425e+08 3.73747028e+06 1.30948570e+07\n",
      " 1.25504860e+06 5.29887501e+07 5.16348643e+09 9.87192495e+08\n",
      " 4.75898747e+07 3.82378648e+08 8.65342882e+07 4.59137716e+08\n",
      " 8.42426596e+08 4.43626771e+08 8.07731537e+07 6.22526820e+08\n",
      " 4.93221110e+07 4.31260192e+06 7.33672613e+08 5.18850006e+08\n",
      " 9.19334456e+09 4.12887075e+08 1.53369863e+09 2.71671901e+08\n",
      " 2.01959951e+09 1.32540369e+09 8.87263806e+09 8.68259943e+06\n",
      " 4.50287073e+09 3.22462562e+08 2.90797045e+08 1.04124963e+09\n",
      " 8.23716949e+08 1.09436268e+09 4.02519762e+08 8.99317909e+07\n",
      " 1.16978591e+08 1.81526804e+07 8.35943547e+07 1.74375020e+06\n",
      " 4.26663036e+08 7.87072848e+07 3.85949343e+08 6.03643533e+05\n",
      " 3.62330618e+08 2.40378270e+09 3.36596331e+09 5.30272334e+09\n",
      " 4.82520310e+09 3.38473130e+07 2.43280897e+06 1.17700944e+06\n",
      " 5.46508087e+09 5.68054408e+07 3.27009001e+09 1.71426574e+09\n",
      " 5.36054300e+06 7.47180286e+08 5.56745725e+08 5.86304579e+08\n",
      " 1.79905710e+08 2.24289545e+08 5.46517558e+07 1.48872599e+08\n",
      " 2.03796352e+08 7.03096118e+08 2.68636392e+06 1.38310949e+08\n",
      " 9.31613625e+07 1.26011956e+09 4.04909825e+06 1.19051586e+09\n",
      " 3.89749934e+08 9.48749310e+08 2.67780859e+08 1.74683948e+08\n",
      " 6.70878454e+09 1.13510690e+07 1.19425935e+09 7.30984460e+08\n",
      " 2.62425950e+08 3.74110339e+07 5.50139767e+08 1.42064640e+06\n",
      " 8.03158603e+08 2.29839355e+08 5.11468701e+09 8.60432621e+07\n",
      " 7.70114784e+08 1.72224746e+08 5.89350584e+07 4.78335761e+08\n",
      " 8.19974830e+07 2.87758961e+08 4.55535848e+08 2.60476936e+08\n",
      " 5.57127488e+09 1.18853721e+07 7.89682495e+08 7.05485017e+07\n",
      " 2.82218293e+09 3.50617396e+09 2.25409731e+07 1.66090818e+07\n",
      " 6.05973501e+08 5.10596670e+09 1.53913298e+09 8.50813381e+08\n",
      " 2.63843993e+07 9.16376276e+07 9.35043852e+09 3.67477683e+07\n",
      " 3.88232104e+08 5.02749601e+09 3.08752754e+08 5.05443594e+07\n",
      " 4.35848293e+08 9.25399103e+06 1.09743576e+08 5.39519345e+07\n",
      " 4.74170862e+08 7.88602604e+09 3.10191380e+09 5.16417385e+07\n",
      " 1.97767115e+07 1.37601947e+08 6.48090382e+06 5.37208629e+08\n",
      " 2.67461194e+08 2.60976931e+08 3.99564165e+08 1.11093754e+09\n",
      " 1.24327401e+09 1.10060013e+09 1.02322315e+07 9.81573479e+08\n",
      " 8.70553262e+09 2.52922756e+08 1.56730890e+09 1.14239428e+09\n",
      " 3.29908300e+08 4.05363709e+08 3.21285716e+07 1.11452528e+09\n",
      " 1.42008590e+09 3.95209962e+07 4.51350222e+08 5.42543607e+08\n",
      " 4.43270576e+08 1.72197950e+08 1.01170351e+08 4.65398581e+08\n",
      " 1.25732481e+09 4.05661586e+09 1.88879770e+09 5.66232687e+08\n",
      " 7.22972563e+07 4.88446396e+08 2.10445378e+08 5.48969670e+08\n",
      " 2.05269537e+08 3.73615794e+07 6.12051998e+07 7.90705677e+08\n",
      " 3.39430775e+09 1.02274699e+07 1.38124881e+08 4.99049571e+08\n",
      " 8.18290084e+08 3.45616645e+08 1.16411099e+07 2.41900516e+07\n",
      " 2.86320675e+08 3.44834787e+07 1.33829952e+08 5.67137687e+07\n",
      " 1.78511286e+07 1.28601900e+08 9.94078595e+06 1.15743453e+09\n",
      " 1.14946989e+09 4.51118135e+08 1.25396837e+06 3.06046709e+08\n",
      " 2.21516680e+09 6.12735362e+07 7.21316055e+08 3.37794716e+06\n",
      " 6.02848807e+05 1.05237387e+07 2.88338258e+08 1.15546314e+09\n",
      " 1.02146443e+09 3.30593330e+09 5.32880946e+08 5.86309167e+05\n",
      " 4.84661705e+08 1.02724532e+06 1.00274286e+08 5.71417100e+07\n",
      " 8.33551727e+07 8.65268834e+08 5.18488408e+06 4.29859174e+08\n",
      " 3.86400747e+07 5.03306710e+09 5.26264891e+08 1.72683145e+09\n",
      " 1.12007232e+09 1.32245523e+06 3.25861098e+08 1.72667449e+08\n",
      " 4.92834446e+09 3.05953958e+08 2.38937658e+08 1.63509074e+09\n",
      " 5.34074984e+08 5.88171160e+07 8.99128632e+06 3.53493784e+08\n",
      " 8.99306542e+08 1.74929870e+09 3.04084458e+08 4.85558372e+07\n",
      " 5.07068909e+09 4.37933980e+09 3.58700016e+08 8.82682282e+09\n",
      " 6.67061257e+08 5.13976130e+09]\n",
      "183267907.13410604\n",
      "[7.82364994e+09 4.08653670e+07 2.56907287e+06 ... 5.40255520e+09\n",
      " 5.26354722e+08 7.27649471e+08]\n",
      "           ID         price\n",
      "0     ID_2575  7.823650e+09\n",
      "1     ID_6637  4.086537e+07\n",
      "2     ID_5704  2.569073e+06\n",
      "3     ID_3606  3.840192e+06\n",
      "4     ID_6443  5.709833e+05\n",
      "...       ...           ...\n",
      "5015  ID_4523  3.859158e+08\n",
      "5016  ID_3483  1.233182e+08\n",
      "5017   ID_453  5.402555e+09\n",
      "5018   ID_998  5.263547e+08\n",
      "5019  ID_3237  7.276495e+08\n",
      "\n",
      "[5020 rows x 2 columns]\n"
     ]
    },
    {
     "name": "stderr",
     "output_type": "stream",
     "text": [
      "c:\\Users\\kss34\\anaconda3\\envs\\bigdata\\Lib\\site-packages\\sklearn\\metrics\\_regression.py:483: FutureWarning: 'squared' is deprecated in version 1.4 and will be removed in 1.6. To calculate the root mean squared error, use the function'root_mean_squared_error'.\n",
      "  warnings.warn(\n"
     ]
    }
   ],
   "source": [
    "import pandas as pd\n",
    "from sklearn.ensemble import *\n",
    "from sklearn.model_selection import *\n",
    "from sklearn.metrics import *\n",
    "from sklearn.preprocessing import *\n",
    "\n",
    "df1 = pd.read_csv('./datasets/P230704-01.csv')\n",
    "df2 = pd.read_csv('./datasets/P230704-02.csv')\n",
    "\n",
    "# 라벨 인코딩\n",
    "le = LabelEncoder()\n",
    "le.fit(df1['업종명'])\n",
    "\n",
    "df1['업종명'] = le.transform(df1['업종명'])\n",
    "df2['업종명'] = le.transform(df2['업종명'])\n",
    "\n",
    "# 독립 변수, 종속 변수 분리\n",
    "x = df1.drop('이용금액', axis=1)\n",
    "y = df1['이용금액']\n",
    "\n",
    "# 원-핫 인코딩\n",
    "x_encoded = pd.get_dummies(x.drop('ID', axis=1))\n",
    "\n",
    "# 데이터 분할\n",
    "x_train, x_valid, y_train, y_valid = train_test_split(x_encoded, y, test_size=0.25)\n",
    "\n",
    "# 모델링\n",
    "md = RandomForestRegressor(n_estimators=300)\n",
    "md.fit(x_train, y_train)\n",
    "\n",
    "# 예측\n",
    "pred = md.predict(x_valid)\n",
    "print(pred)\n",
    "\n",
    "# 성능 평가\n",
    "result = mean_squared_error(y_valid, pred, squared=False)   # RMSE\n",
    "print(result)\n",
    "\n",
    "# 테스트 데이터 평가\n",
    "x_test = df2\n",
    "x_test_encoded = pd.get_dummies(x_test.drop('ID', axis=1))\n",
    "\n",
    "pred = md.predict(x_test_encoded)\n",
    "print(pred)\n",
    "\n",
    "# CSV 내보내기\n",
    "result = pd.DataFrame({\n",
    "    'ID': df2['ID'],\n",
    "    'price': pred,\n",
    "})\n",
    "print(result)\n",
    "\n",
    "result.to_csv('./outputs/20240617_Q6.csv', index=False)"
   ]
  },
  {
   "cell_type": "markdown",
   "metadata": {},
   "source": [
    "<div class=\"alert alert-success\">\n",
    "    <p>결정나무(Decision Tree)계열의 모델(랜덤 포레스트 등)은 <b>범주형 데이터(Object)</b> 를 라벨 인코딩(Label Encoding)하면 된다. </p>\n",
    "    <p>그리고 변수 스케일 변환을 하지 않아도 된다.</p>\n",
    "</div>"
   ]
  },
  {
   "cell_type": "code",
   "execution_count": null,
   "metadata": {},
   "outputs": [
    {
     "name": "stdout",
     "output_type": "stream",
     "text": [
      "    fruit   color  weight  fruit_encoded  color_encoded\n",
      "0   apple     red     1.2              0              1\n",
      "1  banana  yellow     2.5              1              2\n",
      "2   apple   green     1.3              0              0\n",
      "3  banana  yellow     2.4              1              2\n",
      "4  cherry     red     1.0              2              1\n",
      "5  cherry     red     1.2              2              1\n",
      "6   apple   green     1.1              0              0\n"
     ]
    }
   ],
   "source": [
    "import pandas as pd\n",
    "from sklearn.preprocessing import LabelEncoder\n",
    "\n",
    "# 샘플 데이터프레임 생성\n",
    "data = {\n",
    "    'fruit': ['apple', 'banana', 'apple', 'banana', 'cherry', 'cherry', 'apple'],\n",
    "    'color': ['red', 'yellow', 'green', 'yellow', 'red', 'red', 'green'],\n",
    "    'weight': [1.2, 2.5, 1.3, 2.4, 1.0, 1.2, 1.1]\n",
    "}\n",
    "\n",
    "df = pd.DataFrame(data)\n",
    "\n",
    "# LabelEncoder 객체 생성\n",
    "le = LabelEncoder()\n",
    "\n",
    "# fruit 컬럼에 LabelEncoder 적용\n",
    "df['fruit_encoded'] = le.fit_transform(df['fruit'])\n",
    "\n",
    "# color 컬럼에 LabelEncoder 적용\n",
    "df['color_encoded'] = le.fit_transform(df['color'])\n",
    "\n",
    "print(df)"
   ]
  },
  {
   "cell_type": "markdown",
   "metadata": {},
   "source": [
    "### 문제 7 (시험장 환경 체험 예제)"
   ]
  },
  {
   "cell_type": "markdown",
   "metadata": {},
   "source": [
    "- 백화점 고객이 1년간 상품을 구매한 속성 데이터\n",
    "- 제공된 학습용 데이터(`customer_train.csv`)를 이용하여 백화점 구매 고객의 성별을 예측하는 모델을 개발하고, 개발한 모델에 기반하여 평가용 데이터(`customer_test.csv`)에 적용하여 성별 예측하기\n",
    "\n",
    "```text\n",
    "예측 결과는 ROC-AUC 평가 지표에 따라 평가\n",
    "예측 성별 컬럼명 : pred\n",
    "제출 컬럼 개수 : 1개\n",
    "평가용 데이터 개수와 예측 결과 데이터 개수 일치 : 2482개\n",
    "pred 컬럼 데이터 개수 : 2,482개\n",
    "학습용 데이터 : 3,500개\n",
    "평가용 데이터 : 2,482개\n",
    "```\n",
    "\n",
    "|pred|\n",
    "|:-:|\n",
    "|0|\n",
    "|1|\n",
    "|...|"
   ]
  },
  {
   "cell_type": "code",
   "execution_count": null,
   "metadata": {},
   "outputs": [],
   "source": [
    "import pandas as pd\n",
    "from sklearn.ensemble import *\n",
    "from sklearn.model_selection import *\n",
    "from sklearn.metrics import *\n",
    "from sklearn.preprocessing import *\n",
    "\n",
    "df1 = pd.read_csv(\"./datasets/customer_train.csv\")\n",
    "df2 = pd.read_csv(\"./datasets/customer_test.csv\")\n",
    "\n",
    "# 라벨 인코딩 (객체 -> 수치형)\n",
    "le_product = LabelEncoder()\n",
    "le_store = LabelEncoder()\n",
    "\n",
    "df1['주구매상품'] = le_product.fit_transform(df1['주구매상품'])  # fit_transform\n",
    "df2['주구매상품'] = le_product.transform(df2['주구매상품'])   # transform\n",
    "\n",
    "df1['주구매지점'] = le_store.fit_transform(df1['주구매지점'])   # fit_transform\n",
    "df2['주구매지점'] = le_store.transform(df2['주구매지점'])    # transform\n",
    "\n",
    "# 결측값 처리 (평균값으로 대체)\n",
    "# print(\"결측치 확인 (df1\", df1.isnull().sum())\n",
    "# print(\"결측치 확인 (df2\", df2.isnull().sum())\n",
    "\n",
    "df1['환불금액'] = df1['환불금액'].fillna(df1['환불금액'].mean())   # 평균값으로 대체\n",
    "df2['환불금액'] = df2['환불금액'].fillna(df2['환불금액'].mean())   # 평균값으로 대체\n",
    "\n",
    "# 종속 변수 범주형으로 변환\n",
    "df1['성별'] = df1['성별'].astype('category')\n",
    "\n",
    "# 독립 변수, 종속 변수 분리\n",
    "x = df1.drop('성별', axis=1)\n",
    "y = df1['성별']\n",
    "\n",
    "# 원-핫 인코딩\n",
    "x_encoded = pd.get_dummies(x).drop('회원ID', axis=1)\n",
    "\n",
    "# 데이터 분할\n",
    "x_train, x_valid, y_train, y_valid = train_test_split(x_encoded, y, test_size=0.25)\n",
    "\n",
    "# 모델링\n",
    "md = RandomForestClassifier(n_estimators=300)\n",
    "md.fit(x_train, y_train)\n",
    "\n",
    "# 예측\n",
    "pred = md.predict(x_valid)\n",
    "print(pred)\n",
    "\n",
    "# 성능 평가\n",
    "cm = confusion_matrix(pred, y_valid, labels=[1, 0])\n",
    "print(cm)\n",
    "\n",
    "print(accuracy_score(y_valid, pred))\n",
    "print(recall_score(y_valid, pred))\n",
    "print(precision_score(y_valid, pred))\n",
    "print(f1_score(y_valid, pred))\n",
    "print(roc_auc_score(y_valid, pred))\n",
    "\n",
    "# 테스트 데이터 평가\n",
    "x_test = df2\n",
    "\n",
    "x_test_encoded = pd.get_dummies(x_test).drop('회원ID', axis=1)   # 원-핫 인코딩\n",
    "\n",
    "pred = md.predict(x_test_encoded)   # 예측\n",
    "print(pred)\n",
    "\n",
    "# CSV 내보내기\n",
    "result = pd.DataFrame({\n",
    "\t'pred': pred\n",
    "})\n",
    "print(result)\n",
    "\n",
    "result.to_csv('./outputs/20240617_Q7.csv', index=False)"
   ]
  },
  {
   "cell_type": "markdown",
   "metadata": {},
   "source": [
    "### 문제 8 (연습 문제)"
   ]
  },
  {
   "cell_type": "markdown",
   "metadata": {},
   "source": [
    "- 각 고객이 가입한 서비스와 계정 정보, 인구에 대한 통계 정보가 들어 있는 `telco-customer-churn` 데이터\n",
    "- 훈련 데이터(`M1-4-1.csv`)를 이용하여 모델을 훈련한 후 테스트 데이터(`M1-4-2.csv`)로 고객의 이탈 여부를 예측하기\n",
    "    - 이탈 : `Yes`, 유지 : `No`"
   ]
  },
  {
   "cell_type": "code",
   "execution_count": 275,
   "metadata": {},
   "outputs": [
    {
     "name": "stdout",
     "output_type": "stream",
     "text": [
      "[[562 118]\n",
      " [ 53 111]]\n",
      "0.79739336492891\n",
      "0.4847161572052402\n",
      "0.676829268292683\n",
      "0.5648854961832062\n",
      "0.6992686477083111\n",
      "[0 0 1 ... 0 1 0]\n",
      "     pred\n",
      "0      No\n",
      "1      No\n",
      "2     Yes\n",
      "3     Yes\n",
      "4     Yes\n",
      "...   ...\n",
      "3652   No\n",
      "3653   No\n",
      "3654   No\n",
      "3655  Yes\n",
      "3656   No\n",
      "\n",
      "[3657 rows x 1 columns]\n"
     ]
    }
   ],
   "source": [
    "import pandas as pd\n",
    "from sklearn.ensemble import *\n",
    "from sklearn.model_selection import *\n",
    "from sklearn.metrics import *\n",
    "from sklearn.preprocessing import *\n",
    "\n",
    "df1 = pd.read_csv('./datasets/M1-4-1.csv')\n",
    "df2 = pd.read_csv('./datasets/M1-4-2.csv')\n",
    "\n",
    "# 라벨 인코딩 (Object -> Int)\n",
    "columns_to_encode = ['gender', 'Partner', 'Dependents', 'PhoneService', 'MultipleLines', 'InternetService', 'OnlineSecurity', 'OnlineBackup', 'DeviceProtection', 'TechSupport', 'StreamingTV', 'StreamingMovies', 'Contract', 'PaperlessBilling', 'PaymentMethod']\n",
    "\n",
    "for col in columns_to_encode:\n",
    "    le = LabelEncoder()\n",
    "    le.fit(df1[col])\n",
    "\n",
    "    df1[col] = le.transform(df1[col])\n",
    "    df2[col] = le.transform(df2[col])\n",
    "\n",
    "# Churn 컬럼의 값에서 Yes -> 0, No -> 1로 매핑\n",
    "df1['Churn'] = df1['Churn'].map({\n",
    "    'No': 0,\n",
    "    'Yes': 1\n",
    "})\n",
    "\n",
    "df2['Churn'] = df2['Churn'].map({\n",
    "    'No': 0,\n",
    "    'Yes': 1\n",
    "})\n",
    "\n",
    "# 자료형 변환\n",
    "df1['Churn'] = df1['Churn'].astype('category')\n",
    "\n",
    "\n",
    "# 독립 변수, 종속 변수 분리\n",
    "x = df1.drop('Churn', axis=1)\n",
    "y = df1['Churn']\n",
    "\n",
    "# 원-핫 인코딩\n",
    "x_encoded = pd.get_dummies(x)\n",
    "\n",
    "# 데이터 분할\n",
    "x_train, x_valid, y_train, y_valid = train_test_split(x_encoded, y, test_size=0.25)\n",
    "\n",
    "# 모델링\n",
    "md = RandomForestClassifier(n_estimators=300)\n",
    "md.fit(x_train, y_train)\n",
    "\n",
    "# 검증 데이터 평가\n",
    "x_valid_encoded = pd.get_dummies(x_valid)\n",
    "x_valid_encoded = x_valid_encoded.reindex(columns=x_encoded.columns, fill_value=0)\n",
    "\n",
    "# 예측\n",
    "pred_valid = md.predict(x_valid_encoded)\n",
    "\n",
    "# 성능 평가\n",
    "cm = confusion_matrix(pred_valid, y_valid)\n",
    "print(cm)\n",
    "\n",
    "print(accuracy_score(y_valid, pred_valid))\n",
    "print(recall_score(y_valid, pred_valid))\n",
    "print(precision_score(y_valid, pred_valid))\n",
    "print(f1_score(y_valid, pred_valid))\n",
    "print(roc_auc_score(y_valid, pred_valid))\n",
    "\n",
    "# 테스트 데이터 평가\n",
    "x_test = df2.drop('Churn', axis=1)\n",
    "\n",
    "x_test_encoded = pd.get_dummies(x_test)   # 원-핫 인코딩\n",
    "x_test_encoded = x_test_encoded.reindex(columns=x_encoded.columns, fill_value=0)\n",
    "\n",
    "pred_new = md.predict(x_test_encoded)   # 예측\n",
    "pred_new_label = ['No' if pred == 0 else 'Yes' for pred in pred_new]\n",
    "print(pred_new)\n",
    "\n",
    "# CSV 내보내기\n",
    "result = pd.DataFrame({\n",
    "    'pred': pred_new_label\n",
    "})\n",
    "print(result)\n",
    "\n",
    "result.to_csv('./outputs/20240617Q7.csv', index=False)"
   ]
  },
  {
   "cell_type": "markdown",
   "metadata": {},
   "source": [
    "### 문제 9 (연습 문제)"
   ]
  },
  {
   "cell_type": "markdown",
   "metadata": {},
   "source": [
    "- 32개 자동차들의 디자인과 성능을 비교한 `mtcars` 데이터\n",
    "\n",
    "> (1) 훈련 데이터와 평가 데이터를 순서대로 7.5 : 2.5로 분할하기\n",
    "\n",
    "> (2) 종속 변수는 연비(`mpg`), 독립 변수를 차측 비율(`dart`), 무게(`wt`), 전진 기어 개수(`gear`), 기화기 개수(`carb`)로 선형 회귀 모형 만들기\n",
    "\n",
    "> (3) 생성된 모델을 RMSE로 평가하고 결과를 반올림하여 소수점 셋째 자리로 나타내기"
   ]
  },
  {
   "cell_type": "code",
   "execution_count": 278,
   "metadata": {},
   "outputs": [
    {
     "name": "stderr",
     "output_type": "stream",
     "text": [
      "c:\\Users\\kss34\\anaconda3\\envs\\bigdata\\Lib\\site-packages\\sklearn\\metrics\\_regression.py:483: FutureWarning: 'squared' is deprecated in version 1.4 and will be removed in 1.6. To calculate the root mean squared error, use the function'root_mean_squared_error'.\n",
      "  warnings.warn(\n"
     ]
    },
    {
     "name": "stdout",
     "output_type": "stream",
     "text": [
      "1.3530474509211956\n",
      "[14.67       32.376      30.40666667 33.82266667 21.58133333 15.57466667\n",
      " 18.66333333 18.1        14.303      24.384      22.80066667 19.17666667\n",
      " 17.8        16.392      17.3        15.221      10.4        10.4\n",
      " 14.67       32.376      30.40666667 33.82266667 21.58133333 15.57466667\n",
      " 18.66333333 18.1        14.303      24.384      22.80066667 19.17666667\n",
      " 17.8        16.392      17.3        15.221      10.4        10.4\n",
      " 14.67       32.376      30.40666667 33.82266667 21.58133333 15.57466667]\n",
      "         pred\n",
      "0   14.670000\n",
      "1   32.376000\n",
      "2   30.406667\n",
      "3   33.822667\n",
      "4   21.581333\n",
      "5   15.574667\n",
      "6   18.663333\n",
      "7   18.100000\n",
      "8   14.303000\n",
      "9   24.384000\n",
      "10  22.800667\n",
      "11  19.176667\n",
      "12  17.800000\n",
      "13  16.392000\n",
      "14  17.300000\n",
      "15  15.221000\n",
      "16  10.400000\n",
      "17  10.400000\n",
      "18  14.670000\n",
      "19  32.376000\n",
      "20  30.406667\n",
      "21  33.822667\n",
      "22  21.581333\n",
      "23  15.574667\n",
      "24  18.663333\n",
      "25  18.100000\n",
      "26  14.303000\n",
      "27  24.384000\n",
      "28  22.800667\n",
      "29  19.176667\n",
      "30  17.800000\n",
      "31  16.392000\n",
      "32  17.300000\n",
      "33  15.221000\n",
      "34  10.400000\n",
      "35  10.400000\n",
      "36  14.670000\n",
      "37  32.376000\n",
      "38  30.406667\n",
      "39  33.822667\n",
      "40  21.581333\n",
      "41  15.574667\n"
     ]
    }
   ],
   "source": [
    "import pandas as pd\n",
    "from sklearn.ensemble import *\n",
    "from sklearn.model_selection import *\n",
    "from sklearn.metrics import *\n",
    "from sklearn.preprocessing import *\n",
    "\n",
    "df1 = pd.read_csv('./datasets/M2-4-1.csv')\n",
    "df2 = pd.read_csv('./datasets/M2-4-2.csv')\n",
    "\n",
    "# 독립 변수, 종속 변수 분할\n",
    "x = df1.drop('mpg', axis=1)\n",
    "y = df1['mpg']\n",
    "\n",
    "# 원-핫 인코딩\n",
    "x_encoded = pd.get_dummies(x)\n",
    "\n",
    "# 데이터 분할\n",
    "x_train, x_valid, y_train, y_valid = train_test_split(x_encoded, y, test_size=0.25)\n",
    "\n",
    "# 모델링\n",
    "md = RandomForestRegressor(n_estimators=300)\n",
    "md.fit(x_train, y_train)\n",
    "\n",
    "# 평가\n",
    "pred = md.predict(x_valid)\n",
    "result = mean_squared_error(y_valid, pred, squared=False)   # RMSE\n",
    "print(result)\n",
    "\n",
    "# 테스트 데이터 평가\n",
    "x_test = df2\n",
    "\n",
    "x_test_encoded = pd.get_dummies(x_test)   # 원-핫 인코딩\n",
    "\n",
    "# 공통된 열 추출하기\n",
    "common_features = list(set(x_encoded.columns).intersection(x_test_encoded.columns))\n",
    "\n",
    "x_train_common = x_encoded[common_features]\n",
    "x_test_common = x_test_encoded[common_features]\n",
    "\n",
    "# 모델링 (한번 더)\n",
    "md = RandomForestRegressor(n_estimators=300)\n",
    "md.fit(x_train_common, y)\n",
    "\n",
    "# 평가\n",
    "pred = md.predict(x_test_common)\n",
    "print(pred)\n",
    "\n",
    "# CSV 내보내기\n",
    "result = pd.DataFrame({\n",
    "    'pred': pred\n",
    "})\n",
    "print(result)\n",
    "\n",
    "result.to_csv('./outputs/20240617_Q8.csv', index=False)"
   ]
  },
  {
   "cell_type": "markdown",
   "metadata": {},
   "source": [
    "## 제3유형\n",
    "---"
   ]
  },
  {
   "cell_type": "markdown",
   "metadata": {},
   "source": [
    "### 문제 1 (23년 6회 기출)"
   ]
  },
  {
   "cell_type": "markdown",
   "metadata": {},
   "source": [
    "- 감기약을 복용할 때 부작용에 대한 분류와 비율 데이터\n",
    "- 위약 효과가 있는지 253건의 데이터를 추출하여 검증하려고 한다.\n",
    "- 감기 부작용에 대한 비율이 위약 효과 부작용 비율과 같은지 카이제곱 검정하기\n",
    "\n",
    "|부작용 유형|코드|비율|\n",
    "|:-:|:-:|:-:|\n",
    "|두통|1|0.05|\n",
    "|졸림|2|0.1|\n",
    "|속쓰림|3|0.05|\n",
    "|부작용 없음|4|0.8|\n",
    "|합계| |1|\n",
    "\n",
    "> (1) 위약 샘플 데이터가 `부작용 없음`인 데이터를 0~1 사이의 확률로 출력하기 (반올림하여 소수점 셋째 자리로 출력)\n",
    "\n",
    "> (2) 카이제곱 검정으로 검정 통계량 출력하기 (반올림하여 소수점 셋째 자리로 출력)\n",
    "\n",
    "> (3) 유의확률(p-value) 출력하기 (반올림하여 소수점 셋째 자리로 출력)"
   ]
  },
  {
   "cell_type": "code",
   "execution_count": 40,
   "metadata": {},
   "outputs": [
    {
     "name": "stdout",
     "output_type": "stream",
     "text": [
      "0.787\n",
      "Power_divergenceResult(statistic=0.9970355731225298, pvalue=0.801969260894451)\n",
      "0.997\n",
      "0.802\n"
     ]
    }
   ],
   "source": [
    "import pandas as pd\n",
    "from scipy.stats import chisquare\n",
    "\n",
    "df = pd.read_csv('./datasets/P230605.csv', encoding='euckr')\n",
    "\n",
    "# 코드별로 그룹화 및 비율 계산하여 컬럼 추가\n",
    "df_placebo = df.groupby('코드').size().reset_index(name='건수')\n",
    "\n",
    "total_count = len(df)\n",
    "df_placebo['비율'] = df_placebo['건수'] / total_count\n",
    "\n",
    "# (1) 위약 샘플 데이터가 '부작용 없음'인 데이터를 0~1 사이의 확률로 출력하기\n",
    "answer1 = round(df_placebo['비율'][3], 3)\n",
    "print(answer1)\n",
    "\n",
    "# (2) 카이제곱 검정으로 검정 통계량 출력하기\n",
    "df_rate = pd.DataFrame({\n",
    "    '코드': [1, 2, 3, 4],\n",
    "    '비율' : [0.05, 0.1, 0.05, 0.8]\n",
    "})\n",
    "result_chisquare = chisquare(df_placebo['건수'], f_exp=df_rate['비율'] * total_count)\n",
    "print(result_chisquare)\n",
    "\n",
    "answer2 = round(result_chisquare.statistic, 3)\n",
    "print(answer2)\n",
    "\n",
    "# (3) 유의 확률(p-value) 구하기\n",
    "answer3 = round(result_chisquare.pvalue, 3)\n",
    "print(answer3)"
   ]
  },
  {
   "cell_type": "markdown",
   "metadata": {},
   "source": [
    "### 문제 2 (23년 6회 기출)"
   ]
  },
  {
   "cell_type": "markdown",
   "metadata": {},
   "source": [
    "- 날씨 데이터\n",
    "- 다중 선형 회귀 모델을 사용하여 오존(`O3`), 일사량(`Solar`), 풍속(`Wind`) 변수에 대한 온도(`Temperature`)를 예측하는 모델 생성하기\n",
    "\n",
    "> (1) 오존농도 변수에 대한 회귀계수 추정값 출력하기 (반올림하여 소수점 셋째 자리로 출력)\n",
    "\n",
    "> (2) 오존농도, 일사량이 고정일 때 풍속이 증가함에 따라 온도가 낮아진다는 것을 검증했다. t-검증 값의 유의확률(p-value) 구하기 (반올림하여 소수점 셋째 자리로 출력)\n",
    "\n",
    "> (3) 어떤 날이 오존농도 10, 일사량 90, 풍속 20일 때 온도의 예측값 구하기 (반올림하여 소수점 셋째 자리로 출력)"
   ]
  },
  {
   "cell_type": "code",
   "execution_count": 45,
   "metadata": {},
   "outputs": [
    {
     "name": "stdout",
     "output_type": "stream",
     "text": [
      "  Feature  Coefficient\n",
      "0      O3     0.171966\n",
      "1   Solar     0.007276\n",
      "2    Wind    -0.322945\n",
      "0.172\n",
      "0.0\n",
      "68.334\n"
     ]
    }
   ],
   "source": [
    "import pandas as pd\n",
    "import numpy as np\n",
    "from scipy.stats import *\n",
    "from sklearn.linear_model import LinearRegression\n",
    "\n",
    "df = pd.read_csv('./datasets/P230606.csv', encoding='euckr')\n",
    "\n",
    "x = df[['O3', 'Solar', 'Wind']]\n",
    "y = df['Temperature']\n",
    "\n",
    "lm = LinearRegression()\n",
    "lm.fit(x, y)\n",
    "\n",
    "coefs = pd.DataFrame({\n",
    "    'Feature': ['O3', 'Solar', 'Wind'],\n",
    "    'Coefficient': lm.coef_\n",
    "})\n",
    "print(coefs)\n",
    "\n",
    "# (1) 오존농도 변수에 대한 회귀 계수 추정값 구하기\n",
    "answer1 = round(float(coefs[coefs['Feature'] == 'O3']['Coefficient'].iloc[0]), 3)\n",
    "print(answer1)\n",
    "\n",
    "# (2) 오존농도, 일사량이 고정일 때 풍속이 증가함에 따라 온도가 낮아지는 것을 t-검증을 이용하여 유의 확률(p-value) 구하기\n",
    "[statistic, p_value] = ttest_ind(x['Wind'], y)\n",
    "answer2 = round(p_value, 3)\n",
    "print(answer2)\n",
    "\n",
    "# (3) 어떤 날이 오존농도 10, 일사량 90, 풍속 20일 때 온도의 예측값 구하기 \n",
    "df_oneday = pd.DataFrame({\n",
    "    'O3': [10],\n",
    "    'Solar': [90],\n",
    "    'Wind': [20]\n",
    "})\n",
    "answer3 = lm.predict(df_oneday)\n",
    "answer3 = np.round(answer3[0], 3)\n",
    "print(answer3)"
   ]
  },
  {
   "cell_type": "markdown",
   "metadata": {},
   "source": [
    "### 문제 3 (23년 7회 기출)"
   ]
  },
  {
   "cell_type": "markdown",
   "metadata": {},
   "source": [
    "- 종속 변수 : `Target`\n",
    "\n",
    "> (1) 선형 관계 가장 큰 변수 찾아 상관 계수 구하기\n",
    "\n",
    "> (2) `Target` 변수를 종속 변수로 하여 다중 선형 회귀 모델링을 진행했을 때 `v2` 컬럼의 회귀 계수 구하기\n",
    "\n",
    "> (3) 회귀 계수들이 가지는 p-값들 중 최대값 구하기"
   ]
  },
  {
   "cell_type": "code",
   "execution_count": 153,
   "metadata": {},
   "outputs": [
    {
     "name": "stdout",
     "output_type": "stream",
     "text": [
      "0.6270251925517436\n",
      "6.440301364843059\n",
      "0.9265545986907169\n"
     ]
    },
    {
     "name": "stderr",
     "output_type": "stream",
     "text": [
      "C:\\Users\\kss34\\AppData\\Local\\Temp\\ipykernel_29564\\1121475504.py:11: FutureWarning: Series.__getitem__ treating keys as positions is deprecated. In a future version, integer keys will always be treated as labels (consistent with DataFrame behavior). To access a value by position, use `ser.iloc[pos]`\n",
      "  answer1 = target.sort_values(ascending=False)[1]\n"
     ]
    }
   ],
   "source": [
    "import pandas as pd\n",
    "import numpy as np\n",
    "from scipy.stats import *\n",
    "import statsmodels.api as sm\n",
    "\n",
    "df = pd.read_csv('./datasets/P230705.csv')\n",
    "\n",
    "# (1) 선형 관계 가장 큰 변수 찾아 상관 계수 구하기\n",
    "corr_df = df.corr()\n",
    "target = corr_df['Target']\n",
    "answer1 = target.sort_values(ascending=False)[1]\n",
    "print(answer1)\n",
    "\n",
    "# (2) Target 변수를 종속 변수로 하여 다중 선형 회귀 모델링을 진행했을 때 v2 컬럼의 회귀 계수 구하기\n",
    "\n",
    "x = df.drop('Target', axis=1)   # 독립 변수\n",
    "x = sm.add_constant(x)   # 상수항 추가\n",
    "y = df['Target']   # 종속 변수\n",
    "\n",
    "## OLS는 \"Ordinary Least Squares\"의 약자로, 선형 회귀 분석 방법 중 하나이다. statsmodels.api의 일부로서, OLS 클래스를 사용하여 선형 회귀 모델을 정의할 수 있다.\n",
    "md = sm.OLS(y, x).fit()\n",
    "\n",
    "answer2 = md.params['v2']\n",
    "print(answer2)\n",
    "\n",
    "# (3) 회귀 계수들이 가지는 p-값들 중 최대값 구하기\n",
    "answer3 = md.pvalues.max()\n",
    "print(answer3)\n"
   ]
  },
  {
   "cell_type": "markdown",
   "metadata": {},
   "source": [
    "### 문제 4 (23년 7회 기출)"
   ]
  },
  {
   "cell_type": "markdown",
   "metadata": {},
   "source": [
    "- 심장병 발병 예측\n",
    "- 종속 변수 : `target 1` (발병)\n",
    "- train 데이터는 앞의 210개 행을, test 데이터는 나머지 부분을 사용\n",
    "\n",
    "> (1) train 데이터로 `target`을 종속 변수로 로지스틱 회귀를 진행할 때, `age` 컬럼의 오즈비 구하기\n",
    "\n",
    "> (2) train 데이터로 로지스틱 회귀를 진행했을 경우 잔차 이탈도(Residual Deviance) 계산하기\n",
    "\n",
    "> (3) train 데이터로 로지스틱 회귀를 진행했을 경우 로짓 우도값 도출하기\n",
    "\n",
    "> (4) test 데이터의 독립 변수로 `target` 예측 후 오류율 구하기"
   ]
  },
  {
   "cell_type": "code",
   "execution_count": 165,
   "metadata": {},
   "outputs": [
    {
     "name": "stdout",
     "output_type": "stream",
     "text": [
      "Optimization terminated successfully.\n",
      "         Current function value: 0.343347\n",
      "         Iterations 7\n",
      "0.9562078844664191\n",
      "144.205620063278\n",
      "0.1954022988505747\n"
     ]
    }
   ],
   "source": [
    "import numpy as np\n",
    "import pandas as pd\n",
    "from scipy.stats import *\n",
    "import statsmodels.api as sm\n",
    "\n",
    "from sklearn.metrics import accuracy_score\n",
    "\n",
    "df = pd.read_csv('./datasets/P230706.csv')\n",
    "\n",
    "train_data = df[:210].reset_index(drop=True)\n",
    "test_data = df[210:].reset_index(drop=True)\n",
    "\n",
    "# (1) train 데이터로 target을 종속 변수로 로지스틱 회귀를 진행할 때, age 컬럼의 오즈비 구하기\n",
    "x = train_data.drop('target', axis=1)   # 독립 변수\n",
    "y = train_data['target']   # 종속 변수\n",
    "\n",
    "md1 = sm.Logit(y, x).fit()\n",
    "\n",
    "answer1 = np.exp(md1.params['age'])\n",
    "print(answer1)\n",
    "\n",
    "# (2) train 데이터로 로지스틱 회귀를 진행했을 경우 잔차 이탈도 계산하기\n",
    "md2 = sm.GLM(y, x, family=sm.families.Binomial()).fit()\n",
    "\n",
    "answer2 = md2.deviance\n",
    "print(answer2)\n",
    "\n",
    "# (3) train 데이터로 로지스틱 회귀를 진행했을 경우 로짓 우도값 도출하기\n",
    "answer3 = md1.llf\n",
    "print(answer3)\n",
    "\n",
    "# (4) test 데이터의 독립변수로 target 예측 후 오류율 구하기\n",
    "data = test_data.drop('target', axis=1)\n",
    "pred = md1.predict(data)\n",
    "\n",
    "pred = (pred > 0.5).astype('int')\n",
    "target = test_data['target']\n",
    "answer3 = 1 - accuracy_score(target, pred)\n",
    "print(answer3)"
   ]
  },
  {
   "cell_type": "markdown",
   "metadata": {},
   "source": [
    "### 문제 5 (시험장 환경 체험 예제)"
   ]
  },
  {
   "cell_type": "markdown",
   "metadata": {},
   "source": [
    "- 타이타닉호의 침몰 사건에서 생존한 승객 및 사망한 승객의 정보를 담은 데이터\n",
    "- 생존 여부(`Survibed`) 예측\n",
    "\n",
    "> (1) `Gender`와 `Survived` 변수 간의 독립성 검정을 실시하였을 때, 카이제곱 통계량 구하기 (반올림하여 소수 셋째 자리까지 계산)\n",
    "\n",
    "> (2) `Gender`, `SibSp`, `Parch`, `Fare`를 독립 변수로 사용하여 로지스틱 회귀 모형을 실시하였을 때, `Parch` 변수의 계수값 구하기 (반올림하여 소수 셋째 자리까지 계산)\n",
    "\n",
    "> (3) (2)에서 추정된 로지스틱 회귀모형에서 `SibSp` 변수가 한 단위 증가할 때 생존할 오즈비(Odds Ratio) 값 구하기 (반올림하여 소수 셋째 자리까지 계산)"
   ]
  },
  {
   "cell_type": "code",
   "execution_count": 195,
   "metadata": {},
   "outputs": [
    {
     "name": "stdout",
     "output_type": "stream",
     "text": [
      "260.717 / p-value 1.1973570627755645e-58\n",
      "Optimization terminated successfully.\n",
      "         Current function value: 0.482065\n",
      "         Iterations 6\n",
      "                           Logit Regression Results                           \n",
      "==============================================================================\n",
      "Dep. Variable:               Survived   No. Observations:                  891\n",
      "Model:                          Logit   Df Residuals:                      886\n",
      "Method:                           MLE   Df Model:                            4\n",
      "Date:                Mon, 17 Jun 2024   Pseudo R-squ.:                  0.2761\n",
      "Time:                        13:44:18   Log-Likelihood:                -429.52\n",
      "converged:                       True   LL-Null:                       -593.33\n",
      "Covariance Type:            nonrobust   LLR p-value:                 1.192e-69\n",
      "==================================================================================\n",
      "                     coef    std err          z      P>|z|      [0.025      0.975]\n",
      "----------------------------------------------------------------------------------\n",
      "Intercept          0.9466      0.169      5.590      0.000       0.615       1.279\n",
      "Gender[T.male]    -2.6422      0.186    -14.197      0.000      -3.007      -2.277\n",
      "SibSp             -0.3539      0.098     -3.604      0.000      -0.546      -0.161\n",
      "Parch             -0.2007      0.112     -1.792      0.073      -0.420       0.019\n",
      "Fare               0.0147      0.003      5.553      0.000       0.010       0.020\n",
      "==================================================================================\n",
      "Optimization terminated successfully.\n",
      "         Current function value: 0.482065\n",
      "         Iterations 6\n",
      "Intercept         0.946635\n",
      "Gender[T.male]   -2.642219\n",
      "SibSp            -0.353892\n",
      "Parch            -0.200724\n",
      "Fare              0.014685\n",
      "dtype: float64\n",
      "0.702\n"
     ]
    }
   ],
   "source": [
    "import numpy as np\n",
    "import pandas as pd\n",
    "from scipy.stats import *\n",
    "import statsmodels.api as sm\n",
    "from statsmodels.formula.api import logit\n",
    "\n",
    "df = pd.read_csv('./datasets/titanic.csv')\n",
    "\n",
    "# (1) Gender와 Survived 변수 간의 독립성 검정을 실시하였을 때, 카이제곱 통계량 구하기\n",
    "table =pd.crosstab(df['Gender'], df['Survived'])\n",
    "chi2, pvalue, dof, exp = chi2_contingency(table)   # 독립성 검정\n",
    "answer1 = round(chi2, 3)\n",
    "print(answer1, \"/ p-value\", pvalue)   # 유의 수준(0.5)보다 작으므로 대립가설 채택 (서로 독립)\n",
    "\n",
    "# (2) Gender, SibSp, Parch, Fare를 독립 변수로 사용하여 로지스틱 회귀 모형을 실시하였을 때, Parch 변수의 계수값 구하기\n",
    "answer2 = logit('Survived ~ Gender+SibSp+Parch+Fare', data=df).fit().summary()\n",
    "print(answer2)   # Parch 변수의 coef 값 확인 (-0.2007)\n",
    "\n",
    "# (3) SibSp 변수가 한 단위 증가할 때 생존할 오즈비 값 구하기\n",
    "result = logit('Survived ~ Gender+SibSp+Parch+Fare', data=df).fit().params\n",
    "print(result)\n",
    "answer3 = round(np.exp(result['SibSp']), 3)\n",
    "print(answer3)   # 0.702"
   ]
  },
  {
   "cell_type": "markdown",
   "metadata": {},
   "source": [
    "### 문제 6 (연습 문제)"
   ]
  },
  {
   "cell_type": "markdown",
   "metadata": {},
   "source": [
    "- 5명의 환자를 대상으로 치료제를 복용하기 전과 후의 혈압을 측정하였다.\n",
    "- 치료제가 효과가 있는지 쌍체 표본 T-검정을 통해 답하고자 한다.\n",
    "    - 단, 표본이 정규성을 만족한다는 가정하에 단측 검정 수행\n",
    "\n",
    "```text\n",
    "μd : (치료 후 혈압 - 치료 전 혈압)의 평균\n",
    "H0 : μd ≥ 0 (치료 후 혈압과 치료 전 혈압의 차이에 대한 평균은 0보다 크거나 같다.)\n",
    "H1 : μd ≤ 0 (치료 후에 혈압이 더 낮아졌으므로 치료제의 효과가 있다.)\n",
    "```\n",
    "\n",
    "```text\n",
    "치료제 복용 전 5명의 환자들의 혈압 : 200, 210, 190, 180, 175\n",
    "치료제 복용 후 5명의 환자들의 혈압 : 180, 175, 160, 150, 160\n",
    "\n",
    "```\n",
    "\n",
    "> (1) 위의 가설을 검정하기 위한 검정 통계량 구하기 (소수 다섯째 자리까지 계산)\n",
    "\n",
    "> (2) 위의 통계량에 대한 p-값 구하기 (소수 다섯째 자리까지 계산)\n",
    "\n",
    "> (3) 유의수준 0.05 하에서 가설 검정의 결과를 (채택/기각) 중 하나를 선택하기"
   ]
  },
  {
   "cell_type": "code",
   "execution_count": 286,
   "metadata": {},
   "outputs": [
    {
     "name": "stdout",
     "output_type": "stream",
     "text": [
      "TtestResult(statistic=-7.076303701373625, pvalue=0.0010523957839292206, df=4)\n",
      "-7.0763\n",
      "0.00105\n",
      "기각\n"
     ]
    }
   ],
   "source": [
    "import pandas as pd\n",
    "from scipy.stats import ttest_rel\n",
    "\n",
    "df = pd.DataFrame({\n",
    "    'before': [200, 210, 190, 180, 175],\n",
    "    'after': [180, 175, 160, 150, 160]\n",
    "})\n",
    "\n",
    "result = ttest_rel(df['after'], df['before'], alternative='less')   # less : after의 평균이 before의 평균 보다 크거나 같다.\n",
    "print(result)\n",
    "\n",
    "# (1) 검정 통계량 구하기\n",
    "answer1 = round(result.statistic, 4)\n",
    "print(answer1)\n",
    "\n",
    "# (2) p-값 구하기\n",
    "answer2 = round(result.pvalue, 5)\n",
    "print(answer2)\n",
    "\n",
    "# (3) 유의수준 0.05 하에서 가설 검정의 결과 출력하기\n",
    "answer3 = '기각' if answer2 < 0.05 else '채택'\n",
    "print(answer3)"
   ]
  },
  {
   "cell_type": "markdown",
   "metadata": {},
   "source": [
    "### 문제 7 (연습 문제)"
   ]
  },
  {
   "cell_type": "markdown",
   "metadata": {},
   "source": [
    "- 뉴욕의 공기 오염도를 측정한 `airqty` 데이터\n",
    "- `Temp` 데이터는 온도를 나타낸다.\n",
    "- `airqty` 데이터에서 다음 가설에 대한 통계적 검정 수행하기 (양측 검정 수행)\n",
    "\n",
    "```text\n",
    "H0 : 뉴욕의 평균 온도(Temp 변수 값의 평균)는 75이다.\n",
    "H1 : 뉴욕의 평균 온도(Temp 변수 값의 평균)는 75가 아니다.\n",
    "```\n",
    "\n",
    "> (1) 위의 가설을 검정하기 위한 검정 통계량 구하기 (소수 셋째 자리까지 계산)\n",
    "\n",
    "> (2) 위의 통계량에 대한 p-값 구하기 (소수 넷째 자리까지 계산)\n",
    "\n",
    "> (3) 유의수준 0.05 하에서 가설 검정의 결과를 (채택/기각) 중 하나를 선택하기"
   ]
  },
  {
   "cell_type": "code",
   "execution_count": 290,
   "metadata": {},
   "outputs": [
    {
     "name": "stdout",
     "output_type": "stream",
     "text": [
      "ShapiroResult(statistic=0.9761729640090072, pvalue=0.009319356335949125)\n",
      "WilcoxonResult(statistic=0.0, pvalue=7.24267495195268e-27)\n",
      "0.0\n",
      "0.0\n",
      "기각\n"
     ]
    }
   ],
   "source": [
    "import numpy as np\n",
    "import pandas as pd\n",
    "from scipy.stats import shapiro, wilcoxon\n",
    "\n",
    "df = pd.read_csv('./datasets/M1-6.csv')\n",
    "\n",
    "# 정규성 검정\n",
    "result = shapiro(df['Temp'])\n",
    "print(result)   # p-값이 유의수준 0.05보다 작으므로 대립가설 채택 (정규성 만족 X)\n",
    "\n",
    "# 윌콕슨 검정\n",
    "result = wilcoxon(df['Temp'], alternative='two-sided', zero_method='wilcox', correction=False)   # 양측 검정\n",
    "print(result)\n",
    "\n",
    "# (1) 검정 통계량 구하기\n",
    "answer1 = round(result.statistic, 3)\n",
    "print(answer1)\n",
    "\n",
    "# (2) p-값 구하기\n",
    "answer2 = round(result.pvalue, 4)\n",
    "print(answer2)\n",
    "\n",
    "# (3) 유의수준 0.05 하에서 가설 검정의 결과 출력하기\n",
    "answer3 = '기각' if answer2 < 0.05 else '채택'\n",
    "print(answer3)"
   ]
  },
  {
   "cell_type": "markdown",
   "metadata": {},
   "source": [
    "### 문제 8 (연습 문제)"
   ]
  },
  {
   "cell_type": "markdown",
   "metadata": {},
   "source": [
    "- 무작위로 100개의 값을 생성한 두 그룹(A, B)의 분산이 같은지에 대해 F-검정 수행하기\n",
    "    - A 그룹 : 1, 2, 3, 4, 6\n",
    "    - B 그룹 : 4, 5, 6, 7, 8\n",
    "\n",
    "```text\n",
    "H0 : 두 그룹의 분산은 같다.\n",
    "H1 : 두 그룹의 분산은 같지 않다.\n",
    "```\n",
    "\n",
    "> (1) 검정 통계량을 소수 2번째 자리까지 출력하기\n",
    "\n",
    "> (2) p-값을 소수 4번째 자리까지 출력하기\n",
    "\n",
    "> (3) 유의수준 0.05에서 귀무가설의 '채택', '기각' 여부 출력하기\n",
    "\n"
   ]
  },
  {
   "cell_type": "code",
   "execution_count": 294,
   "metadata": {},
   "outputs": [
    {
     "name": "stdout",
     "output_type": "stream",
     "text": [
      "3.7\n",
      "2.5\n",
      "1.48\n",
      "0.7133\n",
      "채택\n"
     ]
    }
   ],
   "source": [
    "import numpy as np\n",
    "from scipy.stats import f\n",
    "\n",
    "df1 = np.array([1, 2, 3, 4, 6])\n",
    "df2 = np.array([4, 5, 6, 7, 8])\n",
    "\n",
    "print(np.var(df1, ddof=1))   # 분산 구하기 (표본)\n",
    "print(np.var(df2, ddof=1))   # 분산 구하기 (표본)\n",
    "\n",
    "# F-검정 수행하기\n",
    "def f_test(x, y):\n",
    "    var_x = np.var(x, ddof=1)\n",
    "    var_y = np.var(y, ddof=1)\n",
    "\n",
    "    if var_x < var_y:\n",
    "        var_x, var_y = var_y, var_x\n",
    "    \n",
    "    f_value = var_x / var_y\n",
    "    x_dof = x.size - 1\n",
    "    y_dof = y.size - 1\n",
    "    p_value = round((1 - f.cdf(f_value, x_dof, y_dof)) * 2, 4)   # 양측 검정\n",
    "\n",
    "    if p_value < 0.05:\n",
    "        result = '기각'\n",
    "    else:\n",
    "        result = '채택'\n",
    "    \n",
    "    return f_value, p_value, result\n",
    "\n",
    "\n",
    "result = f_test(df1, df2)\n",
    "\n",
    "# (1) 검정 통계량 출력하기\n",
    "answer1 = result[0]\n",
    "print(answer1)\n",
    "\n",
    "# (2) p-값 출력하기\n",
    "answer2 = result[1]\n",
    "print(answer2)\n",
    "\n",
    "# (3) 유의수준 0.05 하에서 가설 검정의 결과 출력하기\n",
    "answer3 = result[2]\n",
    "print(answer3)\n"
   ]
  },
  {
   "cell_type": "markdown",
   "metadata": {},
   "source": [
    "### 문제 9 (연습 문제)"
   ]
  },
  {
   "cell_type": "markdown",
   "metadata": {},
   "source": [
    "- 콘서트장에서 남성이 340명, 여성이 540명이 있을 때 남성, 여성 비율이 35%와 65%인지를 카이제곱 검정을 이용하여 분석하는데, 적합도 검정 실시하기\n",
    "\n",
    "```text\n",
    "H0 : 콘서트장에서 남성, 여성의 비율은 35%와 65%\n",
    "H1 : 콘서트장에서 남성, 여성의 비율은 35%와 65%가 아님.\n",
    "```\n",
    "\n",
    "> (1) 검정 통계량을 소수 5번째 자리까지 출력하기\n",
    "\n",
    "> (2) p-값을 소수 5번째 자리까지 출력하기\n",
    "\n",
    "> (3) 유의수준 0.05에서 귀무가설의 '채택', '기각' 여부 출력하기"
   ]
  },
  {
   "cell_type": "code",
   "execution_count": 298,
   "metadata": {},
   "outputs": [
    {
     "name": "stdout",
     "output_type": "stream",
     "text": [
      "Power_divergenceResult(statistic=5.114885114885115, pvalue=0.023721436858355486)\n",
      "5.11489\n",
      "0.02372\n",
      "기각\n"
     ]
    }
   ],
   "source": [
    "import numpy as np\n",
    "from scipy.stats import chisquare\n",
    "\n",
    "num = np.array([340, 540])\n",
    "expected = np.array([0.35, 0.65]) * np.sum(num)\n",
    "\n",
    "result = chisquare(f_obs=num, f_exp=expected)\n",
    "print(result)\n",
    "\n",
    "# (1) 검정 통계량 구하기\n",
    "answer1 = round(result.statistic, 5)\n",
    "print(answer1)\n",
    "\n",
    "# (2) p-값 구하기\n",
    "answer2 = round(result.pvalue, 5)\n",
    "print(answer2)\n",
    "\n",
    "# (3) 유의수준 0.05 하에서 가설 검정 결과 출력하기\n",
    "answer3 = '기각' if answer2 < 0.05 else '채택'\n",
    "print(answer3)"
   ]
  }
 ],
 "metadata": {
  "kernelspec": {
   "display_name": "bigdata",
   "language": "python",
   "name": "python3"
  },
  "language_info": {
   "codemirror_mode": {
    "name": "ipython",
    "version": 3
   },
   "file_extension": ".py",
   "mimetype": "text/x-python",
   "name": "python",
   "nbconvert_exporter": "python",
   "pygments_lexer": "ipython3",
   "version": "3.12.3"
  }
 },
 "nbformat": 4,
 "nbformat_minor": 2
}
