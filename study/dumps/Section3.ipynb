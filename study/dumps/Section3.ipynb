{
 "cells": [
  {
   "cell_type": "markdown",
   "metadata": {},
   "source": [
    "# 제3유형\n",
    "---"
   ]
  },
  {
   "cell_type": "markdown",
   "metadata": {},
   "source": [
    "**Table of contents**<a id='toc0_'></a>    \n",
    "- 제3유형\n",
    "  - [문제 1 (23년 6회)](#toc1_1_)    \n",
    "  - [문제 2 (23년 6회)](#toc1_2_)    \n",
    "\n",
    "<!-- vscode-jupyter-toc-config\n",
    "\tnumbering=false\n",
    "\tanchor=true\n",
    "\tflat=false\n",
    "\tminLevel=1\n",
    "\tmaxLevel=6\n",
    "\t/vscode-jupyter-toc-config -->\n",
    "<!-- THIS CELL WILL BE REPLACED ON TOC UPDATE. DO NOT WRITE YOUR TEXT IN THIS CELL -->"
   ]
  },
  {
   "cell_type": "markdown",
   "metadata": {},
   "source": [
    "## 문제 1 (23년 6회)\n",
    "---\n",
    "\n",
    "- 감기약을 복용할 때 부작용에 대한 분류와 비율 데이터(`P230605.csv`)\n",
    "- 위약 효과가 있는지 253건의 데이터를 추출하여 검증\n",
    "- 감기 부작용에 대한 비율이 위약 효과 부작용 비율과 같은지를 카이제곱 검정하기\n",
    "\n",
    "> 데이터\n",
    "\n",
    "|부작용 유형|코드|비율|\n",
    "|:-:|:-:|:-:|\n",
    "|두통|1|0.05|\n",
    "|졸림|2|0.1|\n",
    "|속쓰림|3|0.05|\n",
    "|부작용 없음|4|0.8|\n",
    "|**합계**||-|\n",
    "\n",
    "<br/>\n",
    "\n",
    "> 문제\n",
    "\n",
    "- (1) 위약 샘플 데이터가 `부작용 없음`인 데이터를 0~1 사이의 확률로 출력 (반올림하여 소수점 셋째 자리로 출력)\n",
    "- (2) 카이제곱 검정으로 검정 통계량 출력 (반올림하여 소수점 셋째 자리로 출력)\n",
    "- (3) 유의 확률(p-value) 출력 (반올림하여 소수점 셋째 자리로 출력)"
   ]
  },
  {
   "cell_type": "code",
   "execution_count": 4,
   "metadata": {},
   "outputs": [
    {
     "name": "stdout",
     "output_type": "stream",
     "text": [
      "<class 'pandas.core.frame.DataFrame'>\n",
      "RangeIndex: 253 entries, 0 to 252\n",
      "Data columns (total 1 columns):\n",
      " #   Column  Non-Null Count  Dtype\n",
      "---  ------  --------------  -----\n",
      " 0   코드      253 non-null    int64\n",
      "dtypes: int64(1)\n",
      "memory usage: 2.1 KB\n",
      "None\n"
     ]
    }
   ],
   "source": [
    "import pandas as pd\n",
    "from scipy.stats import chisquare\n",
    "\n",
    "dt = pd.read_csv('./datasets/P230605.csv', encoding='euc-kr')\n",
    "\n",
    "# 속성 및 결측값 확인\n",
    "print(dt.info())"
   ]
  },
  {
   "cell_type": "code",
   "execution_count": 16,
   "metadata": {},
   "outputs": [
    {
     "name": "stdout",
     "output_type": "stream",
     "text": [
      "   코드   건수\n",
      "0   1   15\n",
      "1   2   24\n",
      "2   3   15\n",
      "3   4  199\n",
      "\n",
      "   코드   건수        비율\n",
      "0   1   15  0.059289\n",
      "1   2   24  0.094862\n",
      "2   3   15  0.059289\n",
      "3   4  199  0.786561\n",
      "\n",
      "0.787\n",
      "\n",
      "Power_divergenceResult(statistic=0.9970355731225298, pvalue=0.801969260894451)\n",
      "0.997\n",
      "\n",
      "0.802\n"
     ]
    }
   ],
   "source": [
    "# '코드' 열을 기준으로 그룹화된 데이터 빈도 계산\n",
    "## reset_index는 인덱스를 리셋하고 기존의 인덱스를 열로 변환하거나 제거하는 데 사용된다.\n",
    "dt_placebo = dt.groupby('코드').size().reset_index(name='건수')\n",
    "print(dt_placebo)\n",
    "\n",
    "print()\n",
    "\n",
    "# '건수'의 총합 구하기\n",
    "tot_cnt = len(dt)\n",
    "\n",
    "# 관측 빈도의 비율 구하기\n",
    "dt_placebo['비율'] = dt_placebo['건수'] / tot_cnt\n",
    "print(dt_placebo)\n",
    "\n",
    "print()\n",
    "\n",
    "# 정답 (1) : '부작용 없음'의 확률 구하기\n",
    "result1 = round(dt_placebo['비율'][3], 3)   # 소수점 셋째 자리까지 출력\n",
    "print(result1)\n",
    "\n",
    "print()\n",
    "\n",
    "# 정답 (2) : 카이제곱 검정으로 검정 통계량 구하기\n",
    "dt_rate = pd.DataFrame({'코드': [1, 2, 3, 4], '비율': [0.05, 0.1, 0.05, 0.8]})\n",
    "result_chisq = chisquare(dt_placebo['건수'], f_exp=dt_rate['비율'] * tot_cnt)\n",
    "print(result_chisq)\n",
    "\n",
    "result2 = round(result_chisq.statistic, 3)   # 소수점 셋째 자리까지 출력\n",
    "print(result2)\n",
    "\n",
    "print()\n",
    "\n",
    "# 정답 (3) : p-value 구하기\n",
    "result3 = round(result_chisq.pvalue, 3)   # 소수점 셋째 자리까지 출력\n",
    "print(result3)"
   ]
  },
  {
   "cell_type": "markdown",
   "metadata": {},
   "source": [
    "## 문제 2 (23년 6회)\n",
    "---\n",
    "\n",
    "- 날씨 데이터(`P230606.csv`)\n",
    "- 다중 선형 회귀 모델을 사용하여 오존(`O3`), 일사량(`Solar`), 풍속(`Wind`) 변수에 대한 온도(`Temperature`)를 예측하는 모델 생성하기\n",
    "\n",
    "> 데이터\n",
    "\n",
    "|변수|설명|\n",
    "|:-:|:-:|\n",
    "|O3|오존농도|\n",
    "|Solar|자외선|\n",
    "|Wind|바람|\n",
    "|Temperature|온도\n",
    "|Month|월|\n",
    "|Day|일|\n",
    "\n",
    "<br/>\n",
    "\n",
    "> 문제\n",
    "\n",
    "- (1) 오존농도 변수에 대한 회귀 계수 추정값 출력하기 (반올림하여 소수점 셋째 자리로 출력) \n",
    "- (2) 오존농도, 일사량이 고정일 때 풍속이 증가함에 따라 온도가 낮아진다는 것을 검증했다. t-검증값의 유의 확률(p-value) 출력하기 (반올림하여 소수점 셋째 자리로 출력)\n",
    "- (3) 어떤 날이 오존농도 10, 일사량 90, 풍속 20일 때 온도의 예측값 출력하기 (반올림하여 소수점 셋째 자리로 출력)"
   ]
  },
  {
   "cell_type": "code",
   "execution_count": 23,
   "metadata": {},
   "outputs": [
    {
     "name": "stdout",
     "output_type": "stream",
     "text": [
      "<class 'pandas.core.frame.DataFrame'>\n",
      "RangeIndex: 111 entries, 0 to 110\n",
      "Data columns (total 4 columns):\n",
      " #   Column       Non-Null Count  Dtype  \n",
      "---  ------       --------------  -----  \n",
      " 0   O3           111 non-null    int64  \n",
      " 1   Solar        111 non-null    int64  \n",
      " 2   Wind         111 non-null    float64\n",
      " 3   Temperature  111 non-null    int64  \n",
      "dtypes: float64(1), int64(3)\n",
      "memory usage: 3.6 KB\n",
      "None\n"
     ]
    }
   ],
   "source": [
    "import pandas as pd\n",
    "import numpy as np\n",
    "from sklearn.linear_model import LinearRegression\n",
    "from scipy import stats\n",
    "\n",
    "t = pd.read_csv('./datasets/P230606.csv', encoding='euc-kr')\n",
    "\n",
    "# 속성 및 결측값 확인\n",
    "print(t.info())"
   ]
  },
  {
   "cell_type": "code",
   "execution_count": 22,
   "metadata": {},
   "outputs": [
    {
     "name": "stdout",
     "output_type": "stream",
     "text": [
      "  Feature  Coefficient\n",
      "0      O3     0.171966\n",
      "1   Solar     0.007276\n",
      "2    Wind    -0.322945\n",
      "\n",
      "0.172\n",
      "\n",
      "0.0\n",
      "\n",
      "68.334\n"
     ]
    }
   ],
   "source": [
    "# 독립 변수, 종속 변수 분리하기\n",
    "x = t[['O3', 'Solar', 'Wind']]   # 오존, 일사량, 풍속\n",
    "y = t['Temperature']  # 온도\n",
    "\n",
    "# 모델링\n",
    "lm = LinearRegression()\n",
    "lm.fit(x, y)\n",
    "\n",
    "# 회귀 계수 구하기\n",
    "coefs = pd.DataFrame({\n",
    "    'Feature': ['O3', 'Solar', 'Wind'],\n",
    "    'Coefficient': lm.coef_\n",
    "})\n",
    "print(coefs)\n",
    "\n",
    "print()\n",
    "\n",
    "# 정답 (1) : 오존농도 변수(O3)에 대한 회귀계수 추정값(Coefficient) 구하기\n",
    "crit1 = float(coefs[coefs['Feature'] == 'O3']['Coefficient'].iloc[0])\n",
    "result1 = round(crit1, 3)\n",
    "print(result1)\n",
    "\n",
    "print()\n",
    "\n",
    "# 정답 (2) : 오존농도, 일사량이 고정일 때 풍속이 증가함에 따라 온도가 낮아진다는 것을 검증했다. t-검증값의 유의 확률(p-value) 구하기\n",
    "[sts, p_value] = stats.ttest_ind(x['Wind'], y)  # 풍속의 변화\n",
    "result2 = round(p_value, 3)\n",
    "print(result2)\n",
    "\n",
    "print()\n",
    "\n",
    "# 정답 (3) : 어떤 날이 오존농도 10, 일사량 90, 풍속 20일 때 온도의 예측값 구하기\n",
    "df_oneday = pd.DataFrame({\n",
    "    'O3': [10],      # 오존농도\n",
    "    'Solar': [90],   # 일사량\n",
    "    'Wind': [20],    # 풍속\n",
    "})\n",
    "\n",
    "result3 = lm.predict(df_oneday)\n",
    "print(np.round(result3[0], 3))"
   ]
  }
 ],
 "metadata": {
  "kernelspec": {
   "display_name": "bigdata",
   "language": "python",
   "name": "python3"
  },
  "language_info": {
   "codemirror_mode": {
    "name": "ipython",
    "version": 3
   },
   "file_extension": ".py",
   "mimetype": "text/x-python",
   "name": "python",
   "nbconvert_exporter": "python",
   "pygments_lexer": "ipython3",
   "version": "3.12.3"
  }
 },
 "nbformat": 4,
 "nbformat_minor": 2
}
