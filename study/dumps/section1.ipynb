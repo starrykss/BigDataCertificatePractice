{
 "cells": [
  {
   "cell_type": "markdown",
   "metadata": {},
   "source": [
    "# 제1유형\n",
    "---"
   ]
  },
  {
   "cell_type": "markdown",
   "metadata": {},
   "source": [
    "**Table of contents**<a id='toc0_'></a>    \n",
    "- 제1유형   \n",
    "  - [문제 1 (21년 2회)](#toc1_1_)    \n",
    "  - [문제 2 (21년 2회)](#toc1_2_)    \n",
    "  - [문제 3 (21년 2회)](#toc1_3_)    \n",
    "  - [문제 4 (21년 3회)](#toc1_4_)    \n",
    "  - [문제 5 (21년 3회)](#toc1_5_)    \n",
    "  - [문제 6 (21년 3회)](#toc1_6_)    \n",
    "  - [문제 7 (22년 4회)](#toc1_7_)    \n",
    "  - [문제 8 (22년 4회)](#toc1_8_)    \n",
    "  - [문제 9 (22년 4회)](#toc1_9_)    \n",
    "  - [문제 10 (22년 5회)](#toc1_10_)    \n",
    "  - [문제 11 (22년 5회)](#toc1_11_)    \n",
    "  - [문제 12 (22년 5회)](#toc1_12_)    \n",
    "  - [문제 13 (23년 6회)](#toc1_13_)    \n",
    "  - [문제 14 (23년 6회)](#toc1_14_)    \n",
    "  - [문제 15 (23년 6회)](#toc1_15_)    \n",
    "\n",
    "<!-- vscode-jupyter-toc-config\n",
    "\tnumbering=false\n",
    "\tanchor=true\n",
    "\tflat=false\n",
    "\tminLevel=1\n",
    "\tmaxLevel=6\n",
    "\t/vscode-jupyter-toc-config -->\n",
    "<!-- THIS CELL WILL BE REPLACED ON TOC UPDATE. DO NOT WRITE YOUR TEXT IN THIS CELL -->"
   ]
  },
  {
   "cell_type": "markdown",
   "metadata": {},
   "source": [
    "---"
   ]
  },
  {
   "cell_type": "markdown",
   "metadata": {},
   "source": [
    "## <a id='toc1_1_'></a>[문제 1 (21년 2회)](#toc0_)\n",
    "---\n",
    "\n",
    "- BostonHousing 데이터\n",
    "- `crim` 항목의 상위에서 10번째 값(즉, 상위 10개의 값 중에서 가장 적은 값)으로 상위 10개의 값을 변환하고, `age`가 `80` 이상인 값에 대하여 `crim`의 평균 구하기\n",
    "- 소수점 3째 자리에서 반올림해서 소수점 2째 자리로 출력하기"
   ]
  },
  {
   "cell_type": "code",
   "execution_count": 10,
   "metadata": {},
   "outputs": [
    {
     "name": "stdout",
     "output_type": "stream",
     "text": [
      "380    88.9762\n",
      "418    73.5341\n",
      "405    67.9208\n",
      "410    51.1358\n",
      "414    45.7461\n",
      "404    41.5292\n",
      "398    38.3518\n",
      "427    37.6619\n",
      "413    28.6558\n",
      "417    25.9406\n",
      "Name: crim, dtype: float64\n",
      "\n",
      "count    240.000000\n",
      "mean      93.230833\n",
      "std        5.734098\n",
      "min       80.300000\n",
      "25%       88.750000\n",
      "50%       94.500000\n",
      "75%       98.200000\n",
      "max      100.000000\n",
      "Name: age, dtype: float64\n",
      "\n",
      "5.76\n"
     ]
    }
   ],
   "source": [
    "import numpy as np\n",
    "import pandas as pd\n",
    "\n",
    "df = pd.read_csv('./datasets/P210201.csv')\n",
    "\n",
    "# (1) 상위 10개 값 중에서 가장 적은 값으로 상위 10개의 값 변환하기\n",
    "top10 = df['crim'].sort_values(ascending=False).head(10)   # 내림차순 정렬 후 상위 10개만 뽑아내기\n",
    "print(top10)\n",
    "\n",
    "print()\n",
    "\n",
    "tenth = top10.iloc[9]\n",
    "df['crim'] = np.where(df['crim'] >= tenth, tenth, df['crim'])   # tenth 변수보다 크거나 같으면 tenth 값으로 변환\n",
    "\n",
    "# (2) age가 80 이상인 값에 대하여 crim의 평균 구하기\n",
    "over80 = df[df['age'] >= 80]\n",
    "print(over80['age'].describe())\n",
    "\n",
    "print()\n",
    "\n",
    "print(round(over80['crim'].mean(), 2))   # 병균을 구하고 반올림해서 소수점 2째자리까지 출력"
   ]
  },
  {
   "cell_type": "markdown",
   "metadata": {},
   "source": [
    "## <a id='toc1_2_'></a>[문제 2 (21년 2회)](#toc0_)\n",
    "---\n",
    "\n",
    "- housing 데이터\n",
    "- 데이터의 첫 번째 행부터 순서대로 80%까지의 데이터를 훈련 데이터로 추출 후, `total_bedrooms` 변수의 결측값(NA)을 `total_bedrooms` 변수의 중앙값으로 대체하고, 대체 전의 `total_bedrooms` 변수 표준편차 값과 대체 후의 `total_bedrooms` 변수 표준편차 값의 차이의 절댓값 구하기\n",
    "- 소수점 3째 자리에서 반올림해서 소수점 2째 자리로 출력하기"
   ]
  },
  {
   "cell_type": "code",
   "execution_count": 7,
   "metadata": {},
   "outputs": [
    {
     "name": "stdout",
     "output_type": "stream",
     "text": [
      "1.98\n"
     ]
    }
   ],
   "source": [
    "import numpy as np\n",
    "import pandas as pd\n",
    "\n",
    "housing = pd.read_csv('./datasets/P210202.csv')\n",
    "\n",
    "# (1) 첫 번째 행부터 순서대로 80%까지의 데이터를 추출\n",
    "df = housing.iloc[:int(len(housing) * 0.8), :]\n",
    "df = pd.DataFrame(df)\n",
    "\n",
    "a = df['total_bedrooms'].std()  # 대체 전의 표준편차\n",
    "\n",
    "# (2) 결측값(NA)를 중앙값으로 대체\n",
    "median_train = df['total_bedrooms'].median()    # 중앙값\n",
    "df['total_bedrooms'] = df['total_bedrooms'].fillna(median_train)\n",
    "\n",
    "b = df['total_bedrooms'].std()   # 대체 후의 표준편차\n",
    "\n",
    "# (3) 대체 전과 대체 후의 total_bedrooms 변수 표준편차 값 차이의 절댓값 구하기\n",
    "print(round(np.abs(a - b), 2))"
   ]
  },
  {
   "cell_type": "markdown",
   "metadata": {},
   "source": [
    "## <a id='toc1_3_'></a>[문제 3 (21년 2회)](#toc0_)\n",
    "---\n",
    "\n",
    "- Insurance 데이터 세트\n",
    "- `Charges` 항목에서 이상값의 합 구하기\n",
    "- 이상값은 평균에서 1.5 표준편차 이상인 값으로 하고, 소수점 이하는 버리고 정수로 출력하기"
   ]
  },
  {
   "cell_type": "code",
   "execution_count": 20,
   "metadata": {},
   "outputs": [
    {
     "name": "stdout",
     "output_type": "stream",
     "text": [
      "age                                                      6192\n",
      "sex         malemalefemalemalemalemalemalemalemalemalemale...\n",
      "bmi                                                  5468.835\n",
      "children                                                  177\n",
      "smoker      yesyesyesyesyesyesyesyesyesyesyesyesyesyesyesy...\n",
      "region      southeastsouthwestnortheastsouthwestsouthwests...\n",
      "charges                                         6421430.02067\n",
      "dtype: object\n",
      "\n",
      "6421430\n"
     ]
    }
   ],
   "source": [
    "import pandas as pd\n",
    "import numpy as np\n",
    "\n",
    "df = pd.read_csv('./datasets/P210203.csv')\n",
    "\n",
    "# 이상값 구하기\n",
    "upper = np.mean(df['charges']) + 1.5 * np.std(df['charges'])\n",
    "lower = np.mean(df['charges']) - 1.5 * np.std(df['charges'])\n",
    "\n",
    "range = (df['charges'] >= upper) | (df['charges'] <= lower)   # or 연산자 대신 | 연산자 사용\n",
    "\n",
    "# 이상값의 합 구하기\n",
    "result = df[range].sum()\n",
    "print(result)\n",
    "\n",
    "print()\n",
    "\n",
    "# 소수점 이하는 버리고 정수로 출력하기\n",
    "print(int(result['charges']))"
   ]
  },
  {
   "cell_type": "markdown",
   "metadata": {},
   "source": [
    "## <a id='toc1_4_'></a>[문제 4 (21년 3회)](#toc0_)\n",
    "---\n",
    "\n",
    "- housing 데이터\n",
    "- 결측값이 있는 모든 행을 제거한 후, 데이터의 순서대로 상위 70%의 데이터를 학습 데이터로 만들고, 훈련 데이터의 `housing_median_age` 컬럼의 제1사분위수(Q1) 구하기\n",
    "- 소수점 이하는 버리고 정수로 출력하기"
   ]
  },
  {
   "cell_type": "code",
   "execution_count": 25,
   "metadata": {},
   "outputs": [
    {
     "name": "stdout",
     "output_type": "stream",
     "text": [
      "<class 'pandas.core.frame.DataFrame'>\n",
      "RangeIndex: 20640 entries, 0 to 20639\n",
      "Data columns (total 10 columns):\n",
      " #   Column              Non-Null Count  Dtype  \n",
      "---  ------              --------------  -----  \n",
      " 0   longitude           20640 non-null  float64\n",
      " 1   latitude            20640 non-null  float64\n",
      " 2   housing_median_age  20640 non-null  float64\n",
      " 3   total_rooms         20640 non-null  float64\n",
      " 4   total_bedrooms      20433 non-null  float64\n",
      " 5   population          20640 non-null  float64\n",
      " 6   households          20640 non-null  float64\n",
      " 7   median_income       20640 non-null  float64\n",
      " 8   median_house_value  20640 non-null  float64\n",
      " 9   ocean_proximity     20640 non-null  object \n",
      "dtypes: float64(9), object(1)\n",
      "memory usage: 1.6+ MB\n",
      "None\n",
      "\n",
      "207\n",
      "\n",
      "0\n",
      "\n",
      "19\n"
     ]
    }
   ],
   "source": [
    "import numpy as np\n",
    "import pandas as pd\n",
    "\n",
    "housing = pd.read_csv(\"./datasets/P210301.csv\")\n",
    "print(housing.info())\n",
    "\n",
    "print()\n",
    "\n",
    "# (1) 결측값이 있는 모든 행을 제거\n",
    "## 결측값이 있는 행의 개수 출력\n",
    "step1_before = sum(housing.isnull().any(axis=1))\n",
    "print(step1_before)\n",
    "\n",
    "print()\n",
    "\n",
    "## 결측값 제거 후, 결측값이 제거되었는지 확인\n",
    "housing = housing.dropna()   # 결측값이 있는 모든 행 제거\n",
    "step1_after = sum(housing.isnull().any(axis=1))\n",
    "print(step1_after)\n",
    "\n",
    "print()\n",
    "\n",
    "# (2) 데이터의 순서대로 상위 70%의 데이터를 학습 데이터로 만들기\n",
    "df = housing.iloc[:int(len(housing) * 0.7), :]\n",
    "\n",
    "# (3) 훈련 데이터의 housing_median_age 컬럼의 Q1 구하기\n",
    "step2 = int(np.quantile(df['housing_median_age'], q=0.25))\n",
    "print(step2)"
   ]
  },
  {
   "cell_type": "markdown",
   "metadata": {},
   "source": [
    "## <a id='toc1_5_'></a>[문제 5 (21년 3회)](#toc0_)\n",
    "---\n",
    "\n",
    "- 타이타닉 데이터\n",
    "- 데이터가 없는 것을 결측값으로 하여 결측값 비율을 구하고 결측값 비율이 가장 높은 컬럼의 이름 구하기"
   ]
  },
  {
   "cell_type": "code",
   "execution_count": 30,
   "metadata": {},
   "outputs": [
    {
     "name": "stdout",
     "output_type": "stream",
     "text": [
      "PassengerId    0.000000\n",
      "Survived       0.000000\n",
      "Pclass         0.000000\n",
      "Name           0.000000\n",
      "Sex            0.000000\n",
      "Age            0.198653\n",
      "SibSp          0.000000\n",
      "Parch          0.000000\n",
      "Ticket         0.000000\n",
      "Fare           0.000000\n",
      "Embarked       0.002245\n",
      "dtype: float64\n",
      "\n",
      "                    0\n",
      "Age          0.198653\n",
      "Embarked     0.002245\n",
      "PassengerId  0.000000\n",
      "Survived     0.000000\n",
      "Pclass       0.000000\n",
      "Name         0.000000\n",
      "Sex          0.000000\n",
      "SibSp        0.000000\n",
      "Parch        0.000000\n",
      "Ticket       0.000000\n",
      "Fare         0.000000\n",
      "\n",
      "Age\n"
     ]
    }
   ],
   "source": [
    "import pandas as pd\n",
    "\n",
    "titanic = pd.read_csv(\"./datasets/P210302.csv\")\n",
    "\n",
    "# (1) 데이터가 없는 것을 결측값으로 하여 결측값 비율 구하기\n",
    "cs = titanic.isna().sum() / len(titanic)    # 컬럼별 결측값의 비율=컬럼별 결측값 개수 / 전체 개수) 계산\n",
    "print(cs)\n",
    "\n",
    "print()\n",
    "\n",
    "# (2) 결측값 비율이 가장 높은 컬럼 이름 구하기\n",
    "cs = pd.DataFrame(cs)\n",
    "ds = cs.sort_values(by=0, ascending=False)   # 내림차순 정렬 (by=0 : 첫 번째 열 기준 정렬)\n",
    "print(ds)\n",
    "\n",
    "print()\n",
    "\n",
    "print(ds.index[0])"
   ]
  },
  {
   "cell_type": "markdown",
   "metadata": {},
   "source": [
    "## <a id='toc1_6_'></a>[문제 6 (21년 3회)](#toc0_)\n",
    "---\n",
    "\n",
    "- 연도별 각 국가의 결핵 감염에 대한 유병률 데이터\n",
    "- `country`, `year`, `new_sp` 컬럼에 결측값이 있을 경우 제거하고, 2000년도에 국가별 결핵 발생 건수에 대한 평균 결핵 발생 건수를 구하고, 2000년도의 결핵 발생 건수가 2000년도 국가별 결핵 발생 건수에에 대한 평균 결핵 발생 건수보다 결핵 발생 건수가 높은 국가의 개수 구하기\n",
    "- 국가별 결핵 발생 건수에 대한 평균 결핵 발생 건수를 출력할 때 소수점 3째 자리에서 반올림해서 소수점 2째자리로 출력하기"
   ]
  },
  {
   "cell_type": "code",
   "execution_count": 45,
   "metadata": {},
   "outputs": [
    {
     "name": "stdout",
     "output_type": "stream",
     "text": [
      "      year      country   new_sp\n",
      "17    1997  Afghanistan    618.0\n",
      "18    1998  Afghanistan   1833.0\n",
      "19    1999  Afghanistan   1669.0\n",
      "20    2000  Afghanistan   2892.0\n",
      "21    2001  Afghanistan   4639.0\n",
      "...    ...          ...      ...\n",
      "8694  2008     Zimbabwe   9830.0\n",
      "8695  2009     Zimbabwe  10195.0\n",
      "8696  2010     Zimbabwe  11654.0\n",
      "8697  2011     Zimbabwe  12596.0\n",
      "8698  2012     Zimbabwe  12163.0\n",
      "\n",
      "[3902 rows x 3 columns]\n",
      "\n",
      "7865.34\n",
      "\n",
      "38\n"
     ]
    }
   ],
   "source": [
    "import pandas as pd\n",
    "\n",
    "who = pd.read_csv('./datasets/P210303.csv')\n",
    "\n",
    "# (1) 대상 컬럼 선택 후, 결측값이 있을 경우 제거하기\n",
    "who = who[[\"year\", \"country\", \"new_sp\"]]   # new_sp : 결핵 발생 건수\n",
    "who = who.dropna()   \n",
    "print(who)\n",
    "\n",
    "print()\n",
    "\n",
    "# (2) 2000년도에 국가별 결핵 발생 건수에 대한 평균 결핵 발생 건수 구하기\n",
    "who2000 = who[who[\"year\"] == 2000]\n",
    "\n",
    "mean_cnt = np.mean(who2000[\"new_sp\"])\n",
    "print(round(mean_cnt, 2))    # 소수점 둘째자리까지 출력\n",
    "\n",
    "print()\n",
    "\n",
    "# (3) 2000년도의 결핵 발생 건수가 2000년도 국가별 결핵 발생 건수에 대한 평균 결핵 발생 건수보다 결핵 발생 건수가 높은 국가의 개수 구하기\n",
    "country = who2000[who2000[\"new_sp\"] >= mean_cnt]\n",
    "print(len(country))"
   ]
  },
  {
   "cell_type": "markdown",
   "metadata": {},
   "source": [
    "## <a id='toc1_7_'></a>[문제 7 (22년 4회)](#toc0_)\n",
    "---\n",
    "\n",
    "- 순서대로 처리하고 결과를 정수로 출력하기\n",
    "    - (1) `y` 변수의 1사분위와 3사분위 값 구하기\n",
    "    - (2) 3사분위수에서 1사분위수를 뺀 값 구하기\n",
    "    - (3) 소수점 이하는 버리고 정수로 출력하기"
   ]
  },
  {
   "cell_type": "code",
   "execution_count": 49,
   "metadata": {},
   "outputs": [
    {
     "name": "stdout",
     "output_type": "stream",
     "text": [
      "              x          y\n",
      "count  10.00000  10.000000\n",
      "mean    5.50000  58.500000\n",
      "std     3.02765  24.712795\n",
      "min     1.00000  15.000000\n",
      "25%     3.25000  40.250000\n",
      "50%     5.50000  60.000000\n",
      "75%     7.75000  77.000000\n",
      "max    10.00000  91.000000\n",
      "\n",
      "36\n"
     ]
    }
   ],
   "source": [
    "import pandas as pd\n",
    "\n",
    "df = pd.read_csv(\"./datasets/P220401.csv\")\n",
    "print(df.describe())\n",
    "\n",
    "print()\n",
    "\n",
    "# (1) y 변수의 1사분위와 3사분위 값 구하기\n",
    "q1 = df['y'].quantile(0.25)   # 1사분위 값\n",
    "q3 = df['y'].quantile(0.75)   # 3사분위 값\n",
    "\n",
    "# (2) 3사분위수에서 1사분위수를 뺀 값 구하기\n",
    "print(int(abs(q3 - q1)))   # (3) 소수점 이하는 버리고 정수로 출력하기"
   ]
  },
  {
   "cell_type": "markdown",
   "metadata": {},
   "source": [
    "## <a id='toc1_8_'></a>[문제 8 (22년 4회)](#toc0_)\n",
    "---\n",
    "\n",
    "- 페이스북 평가 데이터\n",
    "- '좋아요' 수(`num_loves`)와 '놀랐어요' 수(`num_wows`)를 긍정의 평가로 보고 전체 반응(`num_reactions`)에서 긍정인 비율이 0.4보다 크고 0.5보다 작은 비디오 개수 구하기"
   ]
  },
  {
   "cell_type": "code",
   "execution_count": 51,
   "metadata": {},
   "outputs": [
    {
     "name": "stdout",
     "output_type": "stream",
     "text": [
      "90\n"
     ]
    }
   ],
   "source": [
    "import pandas as pd\n",
    "\n",
    "f = pd.read_csv('./datasets/P220402.csv')\n",
    "\n",
    "# (1) 긍정 평가 비율 구하기 (긍정 = 좋아요 + 놀랐어요)\n",
    "f['pos'] = (f['num_loves'] + f['num_wows']) / f['num_reactions']\n",
    "\n",
    "# (2) 긍정인 비율이 0.4 보다 크고 0.5 보다 작은 비디오 개수 구하기\n",
    "range = (f['pos'] > 0.4) & (f['pos'] < 0.5)    # and 연산자 대신 & 연산자 사용 (비트 연산자)\n",
    "result = f[range]\n",
    "\n",
    "print(len(result))"
   ]
  },
  {
   "cell_type": "markdown",
   "metadata": {},
   "source": [
    "## <a id='toc1_9_'></a>[문제 9 (22년 4회)](#toc0_)\n",
    "---\n",
    "\n",
    "- 넷플릭스에서 상영된 작품들의 목록 데이터\n",
    "- 2018년 1월에 넷플릭스에서 추가한 작품 중 `United Kingdom`에서 단독으로 제작된 작품의 개수 구하기"
   ]
  },
  {
   "cell_type": "code",
   "execution_count": 62,
   "metadata": {},
   "outputs": [
    {
     "name": "stdout",
     "output_type": "stream",
     "text": [
      "0    September 25, 2021\n",
      "1    September 24, 2021\n",
      "2    September 24, 2021\n",
      "3    September 24, 2021\n",
      "4    September 24, 2021\n",
      "Name: date_added, dtype: object\n",
      "\n",
      "0      2021-09-25\n",
      "1      2021-09-24\n",
      "2      2021-09-24\n",
      "3      2021-09-24\n",
      "4      2021-09-24\n",
      "          ...    \n",
      "8802   2019-11-20\n",
      "8803   2019-07-01\n",
      "8804   2019-11-01\n",
      "8805   2020-01-11\n",
      "8806   2019-03-02\n",
      "Name: date_added, Length: 8807, dtype: datetime64[ns]\n",
      "\n",
      "6\n"
     ]
    }
   ],
   "source": [
    "import pandas as pd\n",
    "\n",
    "netflix = pd.read_csv('./datasets/P220403.csv')\n",
    "\n",
    "# 추가된 날짜 확인하기\n",
    "print(netflix['date_added'].head())\n",
    "\n",
    "print()\n",
    "\n",
    "# (1) 2018년 1월 영국에서 단독으로 추가된 작품 고르기\n",
    "netflix['date_added'] = pd.to_datetime(netflix['date_added'], format=\"%B %d, %Y\")    # January 1, 2023\n",
    "\n",
    "print(netflix['date_added'])\n",
    "print()\n",
    "\n",
    "crit1 = netflix['country'] == \"United Kingdom\"    # United Kingdom\n",
    "crit2 = netflix['date_added'].dt.year == 2018    # 2018년\n",
    "crit3 = netflix['date_added'].dt.month == 1     # 1월\n",
    "\n",
    "result = netflix[crit1 & crit2 & crit3]   # 기준에 맞는 행만 저장\n",
    "print(len(result))\n"
   ]
  },
  {
   "cell_type": "markdown",
   "metadata": {},
   "source": [
    "## <a id='toc1_10_'></a>[문제 10 (22년 5회)](#toc0_)\n",
    "---\n",
    "\n",
    "- 종량제 쓰레기 데이터\n",
    "- 다음 기준에 따른 데이터를 추출하고 평균 가격을 제출 형식에 따라 제출하기\n",
    "    - 종량제봉투종류 : 규격봉투\n",
    "    - 종량제봉투용도 : 음식물쓰레기\n",
    "    - 종량제봉투용량 : 2L\n",
    "    - (가격이 0인 것은 구매하지 않은 것으로 평균 계산할 때 제외한다.)\n",
    "- 소수점 첫 번째 자리에서 반올림해서 정수형으로 출력하기"
   ]
  },
  {
   "cell_type": "code",
   "execution_count": 65,
   "metadata": {},
   "outputs": [
    {
     "name": "stdout",
     "output_type": "stream",
     "text": [
      "<class 'pandas.core.frame.DataFrame'>\n",
      "RangeIndex: 746 entries, 0 to 745\n",
      "Data columns (total 26 columns):\n",
      " #   Column     Non-Null Count  Dtype \n",
      "---  ------     --------------  ----- \n",
      " 0   시도명        746 non-null    object\n",
      " 1   시군구명       746 non-null    object\n",
      " 2   종량제봉투종류    746 non-null    object\n",
      " 3   종량제봉투처리방식  746 non-null    object\n",
      " 4   종량제봉투용도    746 non-null    object\n",
      " 5   종량제봉투사용대상  746 non-null    object\n",
      " 6   1L가격       746 non-null    int64 \n",
      " 7   1.5L가격     746 non-null    int64 \n",
      " 8   2L가격       746 non-null    int64 \n",
      " 9   2.5L가격     746 non-null    int64 \n",
      " 10  3L가격       746 non-null    int64 \n",
      " 11  5L가격       746 non-null    int64 \n",
      " 12  10L가격      746 non-null    int64 \n",
      " 13  20L가격      746 non-null    int64 \n",
      " 14  30L가격      746 non-null    int64 \n",
      " 15  50L가격      746 non-null    int64 \n",
      " 16  60L가격      746 non-null    int64 \n",
      " 17  75L가격      746 non-null    int64 \n",
      " 18  100L가격     746 non-null    int64 \n",
      " 19  120L가격     746 non-null    int64 \n",
      " 20  125L가격     746 non-null    int64 \n",
      " 21  관리부서명      746 non-null    object\n",
      " 22  관리부서전화번호   746 non-null    object\n",
      " 23  데이터기준일자    746 non-null    object\n",
      " 24  제공기관코드     746 non-null    object\n",
      " 25  제공기관명      746 non-null    object\n",
      "dtypes: int64(15), object(11)\n",
      "memory usage: 151.7+ KB\n",
      "None\n",
      "\n",
      "120\n"
     ]
    }
   ],
   "source": [
    "import pandas as pd\n",
    "\n",
    "waste = pd.read_csv('./datasets/P220501.csv', encoding='euc-kr')\n",
    "print(waste.info())\n",
    "\n",
    "print()\n",
    "\n",
    "# 기준에 따른 데이터 추출하기\n",
    "crit1 = waste['종량제봉투종류'] == '규격봉투'\n",
    "crit2 = waste['종량제봉투용도'] == '음식물쓰레기'\n",
    "crit3 = waste['2L가격'] != 0   # 가격이 0인 것(구매하지 않은 것)을 제외하기\n",
    "\n",
    "df = waste[crit1 & crit2 & crit3]\n",
    "\n",
    "# 평균 가격 구하기\n",
    "mean_price = df['2L가격'].mean()\n",
    "print(int(mean_price))    # 정수값으로 출력하기"
   ]
  },
  {
   "cell_type": "markdown",
   "metadata": {},
   "source": [
    "## <a id='toc1_11_'></a>[문제 11 (22년 5회)](#toc0_)\n",
    "---\n",
    "- Body 데이터\n",
    "- 다음 기준에 의해 BMI를 계산하여 분류하고, 정상 체중 범위의 구간에 있는 인원과 위험 체중 범위의 구간에 있는 인원의 차이를 절댓값으로 구하기\n",
    "    - BMI = Weight / Height² (Weight 단위 : kg, Height 단위 : m)\n",
    "    - 저체중 : 18.5 < BMI\n",
    "    - 정상체중 : 18.5 ≤ BMI < 23\n",
    "    - 위험체중 : 23 ≤ BMI < 25\n",
    "    - 비만 : 25 ≤ BMI\n",
    "- BMI 계산시 단위에 유의하고, 소수점 첫 번째 자리에서 반올림해서 정수로 출력하기"
   ]
  },
  {
   "cell_type": "code",
   "execution_count": 66,
   "metadata": {},
   "outputs": [
    {
     "name": "stdout",
     "output_type": "stream",
     "text": [
      "47\n",
      "\n",
      "19\n",
      "\n",
      "28\n"
     ]
    }
   ],
   "source": [
    "import pandas as pd\n",
    "\n",
    "body = pd.read_csv('./datasets/P220502.csv')\n",
    "\n",
    "# BMI를 계산한 후 추가하기\n",
    "body['bmi'] = body['Weight'] / ((body['Height'] / 100) ** 2)\n",
    "\n",
    "# 체중 범위 구하기\n",
    "## 정상 체중\n",
    "crit1 = (body['bmi'] >= 18.5) & (body['bmi'] < 23)\n",
    "normal = body[crit1]\n",
    "cnt_normal = len(normal)\n",
    "print(cnt_normal)\n",
    "\n",
    "print()\n",
    "\n",
    "## 위험 체중\n",
    "crit2 = (body['bmi'] >= 23) & (body['bmi'] < 25)\n",
    "danger = body[crit2]\n",
    "cnt_danger = len(danger)\n",
    "print(cnt_danger)\n",
    "\n",
    "print()\n",
    "\n",
    "# 인원의 차이를 절댓값으로 구하기\n",
    "result = int(abs(cnt_normal - cnt_danger))\n",
    "print(result)"
   ]
  },
  {
   "cell_type": "markdown",
   "metadata": {},
   "source": [
    "## <a id='toc1_12_'></a>[문제 12 (22년 5회)](#toc0_)\n",
    "---\n",
    "\n",
    "- 임의의 데이터\n",
    "- 순전입학생수가 가장 큰 학교의 전체 학생수를 출력하기\n",
    "    - 순전입학생수 = 총전입학생수 - 총전출학생수"
   ]
  },
  {
   "cell_type": "code",
   "execution_count": 72,
   "metadata": {},
   "outputs": [
    {
     "name": "stdout",
     "output_type": "stream",
     "text": [
      "<class 'pandas.core.frame.DataFrame'>\n",
      "RangeIndex: 6287 entries, 0 to 6286\n",
      "Data columns (total 30 columns):\n",
      " #   Column      Non-Null Count  Dtype  \n",
      "---  ------      --------------  -----  \n",
      " 0   시도교육청       6287 non-null   object \n",
      " 1   지역교육청       6287 non-null   object \n",
      " 2   지역          6280 non-null   object \n",
      " 3   정보공시 학교코드   6287 non-null   object \n",
      " 4   학교명         6287 non-null   object \n",
      " 5   학교급코드       6287 non-null   int64  \n",
      " 6   설립구분        6287 non-null   object \n",
      " 7   제외여부        6287 non-null   object \n",
      " 8   제외사유        0 non-null      float64\n",
      " 9   1학년 전입학생수   6287 non-null   int64  \n",
      " 10  1학년 전출학생수   6287 non-null   int64  \n",
      " 11  1학년 전체학생수   6287 non-null   int64  \n",
      " 12  2학년 전입학생수   6287 non-null   int64  \n",
      " 13  2학년 전출학생수   6287 non-null   int64  \n",
      " 14  2학년 전체학생수   6287 non-null   int64  \n",
      " 15  3학년 전입학생수   6287 non-null   int64  \n",
      " 16  3학년 전출학생수   6287 non-null   int64  \n",
      " 17  3학년 전체학생수   6287 non-null   int64  \n",
      " 18  4학년 전입학생수   6287 non-null   int64  \n",
      " 19  4학년 전출학생수   6287 non-null   int64  \n",
      " 20  4학년 전체학생수   6287 non-null   int64  \n",
      " 21  5학년 전입학생수   6287 non-null   int64  \n",
      " 22  5학년 전출학생수   6287 non-null   int64  \n",
      " 23  5학년 전체학생수   6287 non-null   int64  \n",
      " 24  6학년 전입학생수   6287 non-null   int64  \n",
      " 25  6학년 전출학생수   6287 non-null   int64  \n",
      " 26  6학년 전체 학생수  6287 non-null   int64  \n",
      " 27  전입학생수(계)    6287 non-null   int64  \n",
      " 28  전출학생수(계)    6287 non-null   int64  \n",
      " 29  전체학생수(계)    6287 non-null   int64  \n",
      "dtypes: float64(1), int64(22), object(7)\n",
      "memory usage: 1.4+ MB\n",
      "None\n",
      "\n",
      "956\n"
     ]
    }
   ],
   "source": [
    "import pandas as pd\n",
    "\n",
    "df = pd.read_csv('./datasets/P220503.csv', encoding='euc-kr')\n",
    "print(df.info())\n",
    "\n",
    "print()\n",
    "\n",
    "# <순전입학생수> 구하기\n",
    "df['순전입학생수'] = df['전입학생수(계)'] - df['전출학생수(계)']\n",
    "df = df.sort_values(by=\"순전입학생수\", ascending=False)   # <순전입학생수> 열 기준으로 내림차순 정렬하기\n",
    "\n",
    "# 최댓값 뽑아내기 (순전입학생수가 가장)\n",
    "result = df['전체학생수(계)'].iloc[0]   # 첫 번째 행 값 가져오기\n",
    "print(result)"
   ]
  },
  {
   "cell_type": "markdown",
   "metadata": {},
   "source": [
    "## <a id='toc1_13_'></a>[문제 13 (23년 6회)](#toc0_)\n",
    "---\n",
    "\n",
    "- 출동소방서별로 주민으로부터 연락 받은 신고일시와 출동한 출동일시를 기록한 데이터\n",
    "- 출동소방서별 신고일시로부터 출동일시까지의 연도별 월평균을 구하고, 가장 늦게 출동한 출동소방서의 월평균 시간을 분단위로 제출 형식에 맞게 제출하기\n",
    "- 시간은 30초 단위로 반올림하기\n",
    "\n",
    "> 제공 데이터\n",
    "\n",
    "```plaintext\n",
    "신고일시 YYYY-MM-DD hh:mm\n",
    "출동일시 YYYY-MM-DD hh:mm\n",
    "출동소방서\n",
    "```"
   ]
  },
  {
   "cell_type": "code",
   "execution_count": 90,
   "metadata": {},
   "outputs": [
    {
     "name": "stdout",
     "output_type": "stream",
     "text": [
      "fire_station  call_time  call_time\n",
      "대화119안전센터     2018       9            3840.0\n",
      "초월119안전센터     2018       7            2925.0\n",
      "                         6            2865.0\n",
      "경기도소방재난본부     2018       8            2220.0\n",
      "                         10           1620.0\n",
      "                                       ...  \n",
      "용문119안전센터     2018       2              45.0\n",
      "설악119안전센터     2018       6              45.0\n",
      "백암119안전센터     2018       12             40.0\n",
      "영북119안전센터     2018       3               0.0\n",
      "가평119안전센터     2018       6               0.0\n",
      "Name: diff_time, Length: 623, dtype: float64\n",
      "3840.0\n",
      "\n",
      "64\n"
     ]
    }
   ],
   "source": [
    "import pandas as pd\n",
    "from datetime import datetime\n",
    "\n",
    "df = pd.read_csv('./datasets/P230601.csv')\n",
    "\n",
    "# 각 컬럼에 저장\n",
    "df['call_time'] = pd.to_datetime(df['신고일시'])   \n",
    "df['arrive_time'] = pd.to_datetime(df['출동일시'])\n",
    "df['fire_station'] = df['출동소방서']\n",
    "\n",
    "# 시간 차이 구하기\n",
    "## .dt 속성은 datetime 형식의 열에 대해 날짜와 시간 구성 요소에 접근할 수 있게 해준다.\n",
    "df['diff_time'] = (df['arrive_time'] - df['call_time']).dt.total_seconds()   # 차이를 초로 계산\n",
    "\n",
    "# 그룹화 한 후 내림차순 정렬하기\n",
    "df = df.groupby([df['fire_station'], df['call_time'].dt.year, df['call_time'].dt.month]).mean('diff_time')    # diff_time 열에 대해서만 평균 계산\n",
    "df = df.sort_values('diff_time', ascending=False)   # diff_time 열 기준으로 내림차순 정렬\n",
    "\n",
    "res_date = df['diff_time'].head(1)    # 첫 번째 행만 선택 (diff_time이 제일 큰 항목)\n",
    "\n",
    "print(res_date)\n",
    "print(res_date.iloc[0])\n",
    "\n",
    "print()\n",
    "\n",
    "res_num = float(res_date.iloc[0]) / 60    # 초 단위로 저장된 res_date를 실수형으로 변환 후, 분단위인 60으로 나눔.\n",
    "result = round(res_num)    # 반올림\n",
    "\n",
    "print(result)"
   ]
  },
  {
   "cell_type": "markdown",
   "metadata": {},
   "source": [
    "## <a id='toc1_14_'></a>[문제 14 (23년 6회)](#toc0_)\n",
    "---\n",
    "- 초등학교 학년별 학생 수와 교사 수를 기록한 데이터\n",
    "- 교사 1인당 학생 수가 가장 많은 학교를 선정하고, 선정된 학교의 교사 수를 제출 형식에 맞게 제출하기\n",
    "    - 제출 형식 : 정수\n",
    "- 학교명 중복은 없고 단일 학교의 학생 수, 교사 수 데이터만 있는 것으로 함."
   ]
  },
  {
   "cell_type": "code",
   "execution_count": 91,
   "metadata": {},
   "outputs": [
    {
     "name": "stdout",
     "output_type": "stream",
     "text": [
      "<class 'pandas.core.frame.DataFrame'>\n",
      "RangeIndex: 6309 entries, 0 to 6308\n",
      "Data columns (total 8 columns):\n",
      " #   Column       Non-Null Count  Dtype \n",
      "---  ------       --------------  ----- \n",
      " 0   school_name  6309 non-null   object\n",
      " 1   student_1    6309 non-null   int64 \n",
      " 2   student_2    6309 non-null   int64 \n",
      " 3   student_3    6309 non-null   int64 \n",
      " 4   student_4    6309 non-null   int64 \n",
      " 5   student_5    6309 non-null   int64 \n",
      " 6   student_6    6309 non-null   int64 \n",
      " 7   teacher      6309 non-null   int64 \n",
      "dtypes: int64(7), object(1)\n",
      "memory usage: 394.4+ KB\n",
      "None\n"
     ]
    }
   ],
   "source": [
    "import pandas as pd\n",
    "\n",
    "df = pd.read_csv('./datasets/P230602.csv')\n",
    "\n",
    "# df 변수의 구조 파악\n",
    "print(df.info())"
   ]
  },
  {
   "cell_type": "code",
   "execution_count": 92,
   "metadata": {},
   "outputs": [
    {
     "name": "stdout",
     "output_type": "stream",
     "text": [
      "         student_1    student_2    student_3    student_4    student_5  \\\n",
      "count  6309.000000  6309.000000  6309.000000  6309.000000  6309.000000   \n",
      "mean     67.578697    66.378982    66.438897    73.728642    71.712474   \n",
      "std      67.752782    65.398715    64.544496    70.324875    67.134313   \n",
      "min       0.000000     0.000000     0.000000     0.000000     0.000000   \n",
      "25%      10.000000    10.000000    10.000000    11.000000    11.000000   \n",
      "50%      50.000000    49.000000    51.000000    57.000000    56.000000   \n",
      "75%     104.000000   101.000000   103.000000   115.000000   112.000000   \n",
      "max     470.000000   390.000000   401.000000   420.000000   393.000000   \n",
      "\n",
      "         student_6      teacher  \n",
      "count  6309.000000  6309.000000  \n",
      "mean     71.538120    23.925503  \n",
      "std      66.448847    17.191077  \n",
      "min       0.000000     0.000000  \n",
      "25%      11.000000     8.000000  \n",
      "50%      58.000000    20.000000  \n",
      "75%     112.000000    35.000000  \n",
      "max     428.000000    95.000000  \n"
     ]
    }
   ],
   "source": [
    "# df 변수의 요약 통계량 확인\n",
    "print(df.describe())"
   ]
  },
  {
   "cell_type": "code",
   "execution_count": 93,
   "metadata": {},
   "outputs": [
    {
     "name": "stdout",
     "output_type": "stream",
     "text": [
      "       school_name  student_1  student_2  student_3  student_4  student_5  \\\n",
      "0    서울교육대학교부설초등학교         95         95         95        104        108   \n",
      "1  서울대학교사범대학부설초등학교         97        100        102        102        102   \n",
      "2         서울개일초등학교        183        163        176        186        177   \n",
      "3         서울구룡초등학교        109        115        115        131        133   \n",
      "4         서울논현초등학교         34         47         34         46         46   \n",
      "\n",
      "   student_6  teacher  \n",
      "0        110       31  \n",
      "1        104       36  \n",
      "2        193       42  \n",
      "3        132       38  \n",
      "4         46       18  \n"
     ]
    }
   ],
   "source": [
    "# 상위 5개 데이터 확인\n",
    "print(df.head())"
   ]
  },
  {
   "cell_type": "code",
   "execution_count": 94,
   "metadata": {},
   "outputs": [
    {
     "data": {
      "text/plain": [
       "1044    36.500000\n",
       "3387    34.125000\n",
       "1464    32.333333\n",
       "360     32.041667\n",
       "687     31.652174\n",
       "Name: tch_std, dtype: float64"
      ]
     },
     "execution_count": 94,
     "metadata": {},
     "output_type": "execute_result"
    }
   ],
   "source": [
    "# 교사 1인당 학생 수(학생 수 합계 / 교사 수) 구한 후 내림차순 정렬하기\n",
    "df[\"tch_std\"] = (df[\"student_1\"] + df[\"student_2\"] + df[\"student_3\"] + df[\"student_4\"] + df[\"student_5\"] + df[\"student_6\"]) / df[\"teacher\"]\n",
    "\n",
    "df_sort = df.sort_values(\"tch_std\", ascending=False)\n",
    "df_sort[\"tch_std\"].head()   # 내림차순 정렬된 것 확인"
   ]
  },
  {
   "cell_type": "code",
   "execution_count": 95,
   "metadata": {},
   "outputs": [
    {
     "name": "stdout",
     "output_type": "stream",
     "text": [
      "1044    6\n",
      "Name: teacher, dtype: int64\n"
     ]
    }
   ],
   "source": [
    "# 제일 상단 데이터를 추출하고 변수에 저장\n",
    "result = df_sort[\"teacher\"].head(1)\n",
    "print(result)"
   ]
  },
  {
   "cell_type": "code",
   "execution_count": 96,
   "metadata": {},
   "outputs": [
    {
     "name": "stdout",
     "output_type": "stream",
     "text": [
      "6\n"
     ]
    }
   ],
   "source": [
    "# 마지막 컬럼 1개만 추출하여 변수에 저장\n",
    "result = result.iloc[-1]\n",
    "print(result)"
   ]
  },
  {
   "cell_type": "markdown",
   "metadata": {},
   "source": [
    "## <a id='toc1_15_'></a>[문제 15 (23년 6회)](#toc0_)\n",
    "---\n",
    "\n",
    "- 월별 범죄를 기록한 데이터\n",
    "- 연도별 월평균 범죄 건수를 구하고, 가장 범죄가 많이 발생한 연도의 연평균 범죄 건수 구하기\n",
    "- 파이썬의 경우, CSV 파일을 읽을 때 `index_col = 0` 옵션을 적용하기"
   ]
  },
  {
   "cell_type": "code",
   "execution_count": 97,
   "metadata": {},
   "outputs": [
    {
     "name": "stdout",
     "output_type": "stream",
     "text": [
      "<class 'pandas.core.frame.DataFrame'>\n",
      "RangeIndex: 84 entries, 0 to 83\n",
      "Data columns (total 7 columns):\n",
      " #   Column  Non-Null Count  Dtype \n",
      "---  ------  --------------  ----- \n",
      " 0   년월      84 non-null     object\n",
      " 1   강력범     84 non-null     int64 \n",
      " 2   절도범     84 non-null     int64 \n",
      " 3   폭력범     84 non-null     int64 \n",
      " 4   지능범     84 non-null     int64 \n",
      " 5   풍속범     84 non-null     int64 \n",
      " 6   기타형사범   84 non-null     int64 \n",
      "dtypes: int64(6), object(1)\n",
      "memory usage: 4.7+ KB\n",
      "None\n"
     ]
    }
   ],
   "source": [
    "import pandas as pd\n",
    "\n",
    "df = pd.read_csv('./datasets/P230603.csv')\n",
    "\n",
    "# df 변수의 구조 파악\n",
    "print(df.info())"
   ]
  },
  {
   "cell_type": "code",
   "execution_count": 98,
   "metadata": {},
   "outputs": [
    {
     "name": "stdout",
     "output_type": "stream",
     "text": [
      "              강력범          절도범          폭력범          지능범          풍속범  \\\n",
      "count   84.000000    84.000000    84.000000    84.000000    84.000000   \n",
      "mean   446.285714  3840.976190  5931.738095  5659.059524   236.666667   \n",
      "std    143.197780  1359.567144   986.131802   906.075429   161.785767   \n",
      "min     22.000000    91.000000   263.000000   256.000000     8.000000   \n",
      "25%    340.500000  2653.500000  5504.750000  5265.000000   149.750000   \n",
      "50%    420.000000  3924.500000  6034.000000  5831.500000   190.500000   \n",
      "75%    559.500000  4765.250000  6501.250000  6174.500000   265.500000   \n",
      "max    724.000000  7317.000000  7849.000000  7115.000000  1216.000000   \n",
      "\n",
      "             기타형사범  \n",
      "count    84.000000  \n",
      "mean   1405.666667  \n",
      "std     287.946796  \n",
      "min      44.000000  \n",
      "25%    1257.000000  \n",
      "50%    1408.000000  \n",
      "75%    1577.250000  \n",
      "max    2099.000000  \n"
     ]
    }
   ],
   "source": [
    "# df 변수의 요약 통계량 확인\n",
    "print(df.describe())"
   ]
  },
  {
   "cell_type": "code",
   "execution_count": 99,
   "metadata": {},
   "outputs": [
    {
     "name": "stdout",
     "output_type": "stream",
     "text": [
      "        년월  강력범   절도범   폭력범   지능범  풍속범  기타형사범\n",
      "0  2007-01  291  2608  6494  5283  242   1126\n",
      "1  2007-02  252  2403  4613  4270  158    880\n",
      "2  2007-03  292  2273  6242  5110  196   1119\n",
      "3  2007-04  306  2794  6813  5492  250   1311\n",
      "4  2007-05  298  3469  7221  5432  192   1412\n"
     ]
    }
   ],
   "source": [
    "# 상위 5개 데이터 확인\n",
    "print(df.head())"
   ]
  },
  {
   "cell_type": "code",
   "execution_count": 100,
   "metadata": {},
   "outputs": [
    {
     "name": "stdout",
     "output_type": "stream",
     "text": [
      "   year     a      b      c      d     e      f  crim_sum\n",
      "6  2013  6276  61585  65422  76541  1562  20565    231951\n",
      "5  2012  6023  61329  70623  72238  1942  19345    231500\n",
      "4  2011  6905  54294  72044  71252  2377  16484    223356\n",
      "2  2009  4495  37175  73069  72262  6203  16864    210068\n",
      "3  2010  6628  49382  68798  66368  2457  15059    208692\n"
     ]
    }
   ],
   "source": [
    "df.columns = [\"ym\", \"a\", \"b\", \"c\", \"d\", \"e\", \"f\"]   # 컬럼명을 사용하기 편하게 변경\n",
    "df[\"crim_sum\"] = df[\"a\"] + df[\"b\"] + df[\"c\"] + df[\"d\"] + df[\"e\"] + df[\"f\"]   # 범죄수 합계 구하기\n",
    "df[\"year\"] = df[\"ym\"].str[:4]   # 연도 부분만 추출 \n",
    "\n",
    "# 연도별로 그룹화하여 crim_sum 데이터에 대한 합계를 구한 후, 내림차순으로 정렬하여 변수에 저장\n",
    "df1 = df.groupby(by=\"year\", as_index=False).sum(\"crim_sum\").sort_values(\"crim_sum\", ascending=False)\n",
    "print(df1.head())"
   ]
  },
  {
   "cell_type": "code",
   "execution_count": 101,
   "metadata": {},
   "outputs": [
    {
     "name": "stdout",
     "output_type": "stream",
     "text": [
      "         ym    a     b     c     d    e     f  crim_sum  year\n",
      "72  2013-01  396  4858  4990  6336  126  1631     18337  2013\n",
      "73  2013-02  346  4382  4192  4900  115  1259     15194  2013\n",
      "74  2013-03  444  4266  4936  5829  129  1495     17099  2013\n",
      "75  2013-04  546  4915  5363  6499  125  1748     19196  2013\n",
      "76  2013-05  558  5203  5834  7029  133  1662     20419  2013\n"
     ]
    }
   ],
   "source": [
    "# 2013년의 범죄수 총합(crim_sum)이 제일 크므로 해당 데이터만 추출하여 변수에 저장\n",
    "df2 = df[df[\"year\"] == \"2013\"]\n",
    "print(df2.head())"
   ]
  },
  {
   "cell_type": "code",
   "execution_count": 103,
   "metadata": {},
   "outputs": [
    {
     "name": "stdout",
     "output_type": "stream",
     "text": [
      "19329\n"
     ]
    }
   ],
   "source": [
    "res_mean = df2[\"crim_sum\"].mean()\n",
    "result = round(res_mean)    # 반올림해서 소수 0번째 자리까지 구한 값을 저장\n",
    "\n",
    "print(result)"
   ]
  }
 ],
 "metadata": {
  "kernelspec": {
   "display_name": "bigdata",
   "language": "python",
   "name": "python3"
  },
  "language_info": {
   "codemirror_mode": {
    "name": "ipython",
    "version": 3
   },
   "file_extension": ".py",
   "mimetype": "text/x-python",
   "name": "python",
   "nbconvert_exporter": "python",
   "pygments_lexer": "ipython3",
   "version": "3.12.3"
  }
 },
 "nbformat": 4,
 "nbformat_minor": 2
}
