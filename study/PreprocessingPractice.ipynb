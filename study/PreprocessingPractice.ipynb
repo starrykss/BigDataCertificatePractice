{
 "cells": [
  {
   "cell_type": "markdown",
   "metadata": {},
   "source": [
    "# 전처리 연습\n",
    "---\n",
    "\n",
    "- `pandas`를 이용하여 전처리 연습 해보기\n",
    "- 참고 : [click](https://www.datamanim.com/dataset/99_pandas/pandasMain.html)"
   ]
  },
  {
   "cell_type": "markdown",
   "metadata": {},
   "source": [
    "## 01. Getting & Knowing Data\n",
    "---"
   ]
  },
  {
   "cell_type": "code",
   "execution_count": 99,
   "metadata": {},
   "outputs": [],
   "source": [
    "import pandas as pd"
   ]
  },
  {
   "cell_type": "markdown",
   "metadata": {},
   "source": [
    "### P1. 데이터 로드하기 (구분자 : `\\t`)"
   ]
  },
  {
   "cell_type": "code",
   "execution_count": 100,
   "metadata": {},
   "outputs": [
    {
     "data": {
      "text/plain": [
       "pandas.core.frame.DataFrame"
      ]
     },
     "execution_count": 100,
     "metadata": {},
     "output_type": "execute_result"
    }
   ],
   "source": [
    "dataUrl = 'https://raw.githubusercontent.com/Datamanim/pandas/main/lol.csv'\n",
    "df = pd.read_csv(dataUrl, sep='\\t')   # \\t 기준으로 구분\n",
    "\n",
    "type(df)"
   ]
  },
  {
   "cell_type": "markdown",
   "metadata": {},
   "source": [
    "### P2. 데이터의 상위 5개 행 출력하기"
   ]
  },
  {
   "cell_type": "code",
   "execution_count": 101,
   "metadata": {},
   "outputs": [
    {
     "name": "stdout",
     "output_type": "stream",
     "text": [
      "       gameId   creationTime  gameDuration  seasonId  winner  firstBlood  \\\n",
      "0  3326086514  1504279457970          1949         9       1           2   \n",
      "1  3229566029  1497848803862          1851         9       1           1   \n",
      "2  3327363504  1504360103310          1493         9       1           2   \n",
      "3  3326856598  1504348503996          1758         9       1           1   \n",
      "4  3330080762  1504554410899          2094         9       1           2   \n",
      "\n",
      "   firstTower  firstInhibitor  firstBaron  firstDragon  ...  t2_towerKills  \\\n",
      "0           1               1           1            1  ...              5   \n",
      "1           1               1           0            1  ...              2   \n",
      "2           1               1           1            2  ...              2   \n",
      "3           1               1           1            1  ...              0   \n",
      "4           1               1           1            1  ...              3   \n",
      "\n",
      "   t2_inhibitorKills  t2_baronKills  t2_dragonKills  t2_riftHeraldKills  \\\n",
      "0                  0              0               1                   1   \n",
      "1                  0              0               0                   0   \n",
      "2                  0              0               1                   0   \n",
      "3                  0              0               0                   0   \n",
      "4                  0              0               1                   0   \n",
      "\n",
      "   t2_ban1  t2_ban2  t2_ban3  t2_ban4  t2_ban5  \n",
      "0      114       67       43       16       51  \n",
      "1       11       67      238       51      420  \n",
      "2      157      238      121       57       28  \n",
      "3      164       18      141       40       51  \n",
      "4       86       11      201      122       18  \n",
      "\n",
      "[5 rows x 61 columns]\n"
     ]
    }
   ],
   "source": [
    "Ans = df.head(5)\n",
    "\n",
    "print(Ans)"
   ]
  },
  {
   "cell_type": "markdown",
   "metadata": {},
   "source": [
    "### P3. 데이터의 행과 열의 개수 출력하기"
   ]
  },
  {
   "cell_type": "code",
   "execution_count": 102,
   "metadata": {},
   "outputs": [
    {
     "name": "stdout",
     "output_type": "stream",
     "text": [
      "(51490, 61)\n",
      "행: 51490\n",
      "열: 61\n"
     ]
    }
   ],
   "source": [
    "print(df.shape)   # 행, 열 모두 파악하기\n",
    "\n",
    "print('행:',df.shape[0])  \n",
    "print('열:',df.shape[1]) "
   ]
  },
  {
   "cell_type": "markdown",
   "metadata": {},
   "source": [
    "### P4. 전체 컬럼 출력하기"
   ]
  },
  {
   "cell_type": "code",
   "execution_count": 103,
   "metadata": {},
   "outputs": [
    {
     "name": "stdout",
     "output_type": "stream",
     "text": [
      "Index(['gameId', 'creationTime', 'gameDuration', 'seasonId', 'winner',\n",
      "       'firstBlood', 'firstTower', 'firstInhibitor', 'firstBaron',\n",
      "       'firstDragon', 'firstRiftHerald', 't1_champ1id', 't1_champ1_sum1',\n",
      "       't1_champ1_sum2', 't1_champ2id', 't1_champ2_sum1', 't1_champ2_sum2',\n",
      "       't1_champ3id', 't1_champ3_sum1', 't1_champ3_sum2', 't1_champ4id',\n",
      "       't1_champ4_sum1', 't1_champ4_sum2', 't1_champ5id', 't1_champ5_sum1',\n",
      "       't1_champ5_sum2', 't1_towerKills', 't1_inhibitorKills', 't1_baronKills',\n",
      "       't1_dragonKills', 't1_riftHeraldKills', 't1_ban1', 't1_ban2', 't1_ban3',\n",
      "       't1_ban4', 't1_ban5', 't2_champ1id', 't2_champ1_sum1', 't2_champ1_sum2',\n",
      "       't2_champ2id', 't2_champ2_sum1', 't2_champ2_sum2', 't2_champ3id',\n",
      "       't2_champ3_sum1', 't2_champ3_sum2', 't2_champ4id', 't2_champ4_sum1',\n",
      "       't2_champ4_sum2', 't2_champ5id', 't2_champ5_sum1', 't2_champ5_sum2',\n",
      "       't2_towerKills', 't2_inhibitorKills', 't2_baronKills', 't2_dragonKills',\n",
      "       't2_riftHeraldKills', 't2_ban1', 't2_ban2', 't2_ban3', 't2_ban4',\n",
      "       't2_ban5'],\n",
      "      dtype='object')\n"
     ]
    }
   ],
   "source": [
    "Ans = df.columns\n",
    "\n",
    "print(Ans)"
   ]
  },
  {
   "cell_type": "markdown",
   "metadata": {},
   "source": [
    "### P5. 6번째 컬럼명 출력하기"
   ]
  },
  {
   "cell_type": "code",
   "execution_count": 104,
   "metadata": {},
   "outputs": [
    {
     "name": "stdout",
     "output_type": "stream",
     "text": [
      "firstBlood\n"
     ]
    }
   ],
   "source": [
    "Ans = Ans[5]\n",
    "\n",
    "print(Ans)"
   ]
  },
  {
   "cell_type": "markdown",
   "metadata": {},
   "source": [
    "### P6. 6번째 컬럼의 데이터 타입 확인하기\n",
    "\n",
    "- `iloc[:, n-1].dtype`"
   ]
  },
  {
   "cell_type": "code",
   "execution_count": 105,
   "metadata": {},
   "outputs": [
    {
     "name": "stdout",
     "output_type": "stream",
     "text": [
      "int64\n"
     ]
    }
   ],
   "source": [
    "Ans = df.iloc[:, 5].dtype\n",
    "\n",
    "print(Ans)"
   ]
  },
  {
   "cell_type": "markdown",
   "metadata": {},
   "source": [
    "### P7. 데이터셋의 인덱스 구성 파악하기"
   ]
  },
  {
   "cell_type": "code",
   "execution_count": 106,
   "metadata": {},
   "outputs": [
    {
     "name": "stdout",
     "output_type": "stream",
     "text": [
      "RangeIndex(start=0, stop=51490, step=1)\n"
     ]
    }
   ],
   "source": [
    "Ans = df.index\n",
    "\n",
    "print(Ans)"
   ]
  },
  {
   "cell_type": "markdown",
   "metadata": {},
   "source": [
    "### P8. 6번째 컬럼의 3번째 값 확인하기\n",
    "\n",
    "- `a`번째 컬럼의 `b`번째 값 확인하기\n",
    "    - `df.iloc[b-1, a-1]`"
   ]
  },
  {
   "cell_type": "code",
   "execution_count": 107,
   "metadata": {},
   "outputs": [
    {
     "name": "stdout",
     "output_type": "stream",
     "text": [
      "2\n"
     ]
    }
   ],
   "source": [
    "Ans = df.iloc[2, 5]\n",
    "\n",
    "print(Ans)"
   ]
  },
  {
   "cell_type": "markdown",
   "metadata": {},
   "source": [
    "### P9. 데이터 로드하기 (한글 처리)"
   ]
  },
  {
   "cell_type": "code",
   "execution_count": 108,
   "metadata": {},
   "outputs": [
    {
     "data": {
      "text/plain": [
       "pandas.core.frame.DataFrame"
      ]
     },
     "execution_count": 108,
     "metadata": {},
     "output_type": "execute_result"
    }
   ],
   "source": [
    "dataUrl = 'https://raw.githubusercontent.com/Datamanim/pandas/main/Jeju.csv'\n",
    "df = pd.read_csv(dataUrl, encoding='euc-kr')  # 한글 처리\n",
    "\n",
    "type(df)"
   ]
  },
  {
   "cell_type": "markdown",
   "metadata": {},
   "source": [
    "### P10. 데이터의 마지막 3개행 출력하기"
   ]
  },
  {
   "cell_type": "code",
   "execution_count": 109,
   "metadata": {},
   "outputs": [
    {
     "name": "stdout",
     "output_type": "stream",
     "text": [
      "         id          일자   시도명 읍면동명         거주인구       근무인구        방문인구  \\\n",
      "9618  32066  2020-04-30   제주시  도두동    28397.481   3144.895   84052.697   \n",
      "9619  32067  2020-04-30  서귀포시  안덕면   348037.846  29106.286  251129.660   \n",
      "9620  32068  2020-04-30   제주시   연동  1010643.372  65673.477  447622.068   \n",
      "\n",
      "           총 유동인구   평균 속도  평균 소요 시간  평균 기온  일강수량  평균 풍속  \n",
      "9618   115595.073  41.053    29.421   20.3   0.0    3.0  \n",
      "9619   628273.792  46.595    49.189   17.6   0.0    3.5  \n",
      "9620  1523938.917  40.863    27.765   14.1   0.0    4.8  \n"
     ]
    }
   ],
   "source": [
    "Ans = df.tail(3)\n",
    "\n",
    "print(Ans)"
   ]
  },
  {
   "cell_type": "markdown",
   "metadata": {},
   "source": [
    "### P11. 수치형 변수를 가진 컬럼 출력하기"
   ]
  },
  {
   "cell_type": "code",
   "execution_count": 110,
   "metadata": {},
   "outputs": [
    {
     "name": "stdout",
     "output_type": "stream",
     "text": [
      "<class 'pandas.core.frame.DataFrame'>\n",
      "RangeIndex: 9621 entries, 0 to 9620\n",
      "Data columns (total 13 columns):\n",
      " #   Column    Non-Null Count  Dtype  \n",
      "---  ------    --------------  -----  \n",
      " 0   id        9621 non-null   int64  \n",
      " 1   일자        9621 non-null   object \n",
      " 2   시도명       9621 non-null   object \n",
      " 3   읍면동명      9621 non-null   object \n",
      " 4   거주인구      9621 non-null   float64\n",
      " 5   근무인구      9621 non-null   float64\n",
      " 6   방문인구      9621 non-null   float64\n",
      " 7   총 유동인구    9621 non-null   float64\n",
      " 8   평균 속도     9621 non-null   float64\n",
      " 9   평균 소요 시간  9621 non-null   float64\n",
      " 10  평균 기온     9621 non-null   float64\n",
      " 11  일강수량      9621 non-null   float64\n",
      " 12  평균 풍속     9621 non-null   float64\n",
      "dtypes: float64(9), int64(1), object(3)\n",
      "memory usage: 977.3+ KB\n",
      "None\n",
      "\n",
      "Index(['id', '거주인구', '근무인구', '방문인구', '총 유동인구', '평균 속도', '평균 소요 시간', '평균 기온',\n",
      "       '일강수량', '평균 풍속'],\n",
      "      dtype='object')\n"
     ]
    }
   ],
   "source": [
    "# 컬럼 자료형 분포 확인\n",
    "print(df.info())\n",
    "\n",
    "print()\n",
    "\n",
    "# 수치형 컬럼(범주형(Object) 컬럼 제외)만 출력\n",
    "Ans = df.select_dtypes(exclude=object).columns\n",
    "\n",
    "print(Ans)"
   ]
  },
  {
   "cell_type": "markdown",
   "metadata": {},
   "source": [
    "### P12. 범주형 변수를 가진 컬럼 출력하기"
   ]
  },
  {
   "cell_type": "code",
   "execution_count": 111,
   "metadata": {},
   "outputs": [
    {
     "name": "stdout",
     "output_type": "stream",
     "text": [
      "Index(['일자', '시도명', '읍면동명'], dtype='object')\n"
     ]
    }
   ],
   "source": [
    "Ans = df.select_dtypes(include=object).columns\n",
    "\n",
    "print(Ans)"
   ]
  },
  {
   "cell_type": "markdown",
   "metadata": {},
   "source": [
    "### P13. 각 컬럼의 결측치 숫자 확인하기"
   ]
  },
  {
   "cell_type": "code",
   "execution_count": 112,
   "metadata": {},
   "outputs": [
    {
     "name": "stdout",
     "output_type": "stream",
     "text": [
      "id          0\n",
      "일자          0\n",
      "시도명         0\n",
      "읍면동명        0\n",
      "거주인구        0\n",
      "근무인구        0\n",
      "방문인구        0\n",
      "총 유동인구      0\n",
      "평균 속도       0\n",
      "평균 소요 시간    0\n",
      "평균 기온       0\n",
      "일강수량        0\n",
      "평균 풍속       0\n",
      "dtype: int64\n"
     ]
    }
   ],
   "source": [
    "Ans = df.isnull().sum()\n",
    "\n",
    "print(Ans)"
   ]
  },
  {
   "cell_type": "markdown",
   "metadata": {},
   "source": [
    "### P14. 각 컬럼의 데이터 수, 데이터 타입 한번에 확인하기"
   ]
  },
  {
   "cell_type": "code",
   "execution_count": 113,
   "metadata": {},
   "outputs": [
    {
     "name": "stdout",
     "output_type": "stream",
     "text": [
      "<class 'pandas.core.frame.DataFrame'>\n",
      "RangeIndex: 9621 entries, 0 to 9620\n",
      "Data columns (total 13 columns):\n",
      " #   Column    Non-Null Count  Dtype  \n",
      "---  ------    --------------  -----  \n",
      " 0   id        9621 non-null   int64  \n",
      " 1   일자        9621 non-null   object \n",
      " 2   시도명       9621 non-null   object \n",
      " 3   읍면동명      9621 non-null   object \n",
      " 4   거주인구      9621 non-null   float64\n",
      " 5   근무인구      9621 non-null   float64\n",
      " 6   방문인구      9621 non-null   float64\n",
      " 7   총 유동인구    9621 non-null   float64\n",
      " 8   평균 속도     9621 non-null   float64\n",
      " 9   평균 소요 시간  9621 non-null   float64\n",
      " 10  평균 기온     9621 non-null   float64\n",
      " 11  일강수량      9621 non-null   float64\n",
      " 12  평균 풍속     9621 non-null   float64\n",
      "dtypes: float64(9), int64(1), object(3)\n",
      "memory usage: 977.3+ KB\n",
      "None\n"
     ]
    }
   ],
   "source": [
    "Ans = df.info()\n",
    "\n",
    "print(Ans)"
   ]
  },
  {
   "cell_type": "markdown",
   "metadata": {},
   "source": [
    "### P15. 각 수치형 변수의 분포(사분위, 평균, 표준편차, 최대, 최소) 확인하기"
   ]
  },
  {
   "cell_type": "code",
   "execution_count": 114,
   "metadata": {},
   "outputs": [
    {
     "name": "stdout",
     "output_type": "stream",
     "text": [
      "                 id          거주인구           근무인구           방문인구        총 유동인구  \\\n",
      "count   9621.000000  9.621000e+03    9621.000000    9621.000000  9.621000e+03   \n",
      "mean   27258.000000  3.174315e+05   35471.201510  195889.561802  5.487922e+05   \n",
      "std     2777.487804  2.982079e+05   40381.214775  140706.090325  4.608802e+05   \n",
      "min    22448.000000  9.305552e+03    1407.936000   11538.322000  2.225181e+04   \n",
      "25%    24853.000000  9.539939e+04   12074.498000   99632.153000  2.216910e+05   \n",
      "50%    27258.000000  2.221105e+05   21960.928000  152805.335000  3.866935e+05   \n",
      "75%    29663.000000  4.106671e+05   40192.032000  236325.109000  6.406918e+05   \n",
      "max    32068.000000  1.364504e+06  263476.965000  723459.209000  2.066484e+06   \n",
      "\n",
      "             평균 속도     평균 소요 시간        평균 기온         일강수량        평균 풍속  \n",
      "count  9621.000000  9621.000000  9621.000000  9621.000000  9621.000000  \n",
      "mean     41.109084    37.215873    13.550828     6.972426     2.753171  \n",
      "std       8.758631    12.993786     7.745515    27.617260     1.498538  \n",
      "min      24.333000    12.667000    -9.600000     0.000000     0.000000  \n",
      "25%      34.250000    27.889000     7.600000     0.000000     1.700000  \n",
      "50%      39.640000    34.500000    13.400000     0.000000     2.400000  \n",
      "75%      49.105000    46.176000    19.700000     1.500000     3.400000  \n",
      "max     103.000000   172.200000    30.400000   587.500000    13.333000  \n"
     ]
    }
   ],
   "source": [
    "Ans = df.describe()\n",
    "\n",
    "print(Ans)"
   ]
  },
  {
   "cell_type": "markdown",
   "metadata": {},
   "source": [
    "### P16. <거주인구> 컬럼의 값 출력하기"
   ]
  },
  {
   "cell_type": "code",
   "execution_count": 115,
   "metadata": {},
   "outputs": [
    {
     "name": "stdout",
     "output_type": "stream",
     "text": [
      "0         32249.987\n",
      "1        213500.997\n",
      "2       1212382.218\n",
      "3         33991.653\n",
      "4        155036.925\n",
      "           ...     \n",
      "9616     228260.005\n",
      "9617     459959.064\n",
      "9618      28397.481\n",
      "9619     348037.846\n",
      "9620    1010643.372\n",
      "Name: 거주인구, Length: 9621, dtype: float64\n"
     ]
    }
   ],
   "source": [
    "Ans = df['거주인구']\n",
    "\n",
    "print(Ans)"
   ]
  },
  {
   "cell_type": "markdown",
   "metadata": {},
   "source": [
    "### P17. <평균 속도> 컬럼의 4분위범위(IQR) 구하기\n",
    "\n",
    "- IQR = Q3 - Q1\n",
    "- `quantile` 함수를 이용하여 백분위수 확인"
   ]
  },
  {
   "cell_type": "code",
   "execution_count": 116,
   "metadata": {},
   "outputs": [
    {
     "name": "stdout",
     "output_type": "stream",
     "text": [
      "14.854999999999997\n"
     ]
    }
   ],
   "source": [
    "q3 = df['평균 속도'].quantile(0.75)\n",
    "q1 = df['평균 속도'].quantile(0.25)\n",
    "\n",
    "Ans = q3 - q1\n",
    "\n",
    "print(Ans)"
   ]
  },
  {
   "cell_type": "markdown",
   "metadata": {},
   "source": [
    "### P18. <읍면동명> 컬럼의 유일값 개수 출력하기"
   ]
  },
  {
   "cell_type": "markdown",
   "metadata": {},
   "source": [
    "- `nunique()` : 해당 열에서 중복되지 않는 고유한 값들의 개수를 <ins>정수</ins>로 반환\n",
    "- `unique()` : 해당 열에서 중복되지 않는 고유한 값들을 <ins>배열</ins>로 반환"
   ]
  },
  {
   "cell_type": "code",
   "execution_count": 117,
   "metadata": {},
   "outputs": [
    {
     "name": "stdout",
     "output_type": "stream",
     "text": [
      "41\n"
     ]
    }
   ],
   "source": [
    "Ans = df['읍면동명'].nunique()\n",
    "\n",
    "print(Ans)"
   ]
  },
  {
   "cell_type": "markdown",
   "metadata": {},
   "source": [
    "### P19. <읍면동명> 컬럼의 유일값 모두 출력하기"
   ]
  },
  {
   "cell_type": "code",
   "execution_count": 118,
   "metadata": {},
   "outputs": [
    {
     "name": "stdout",
     "output_type": "stream",
     "text": [
      "['도두동' '외도동' '이도2동' '일도1동' '대천동' '서홍동' '한경면' '송산동' '조천읍' '일도2동' '영천동'\n",
      " '예래동' '대륜동' '삼도1동' '이호동' '건입동' '중앙동' '삼양동' '삼도2동' '이도1동' '남원읍' '대정읍'\n",
      " '정방동' '효돈동' '아라동' '한림읍' '구좌읍' '용담1동' '오라동' '화북동' '연동' '표선면' '중문동' '성산읍'\n",
      " '안덕면' '천지동' '노형동' '동홍동' '용담2동' '봉개동' '애월읍']\n"
     ]
    }
   ],
   "source": [
    "Ans = df['읍면동명'].unique()\n",
    "\n",
    "print(Ans)"
   ]
  },
  {
   "cell_type": "markdown",
   "metadata": {},
   "source": [
    "## 02. Filtering & Sorting\n",
    "---"
   ]
  },
  {
   "cell_type": "markdown",
   "metadata": {},
   "source": [
    "### P20. 데이터 로드하기"
   ]
  },
  {
   "cell_type": "code",
   "execution_count": 119,
   "metadata": {},
   "outputs": [
    {
     "data": {
      "text/plain": [
       "pandas.core.frame.DataFrame"
      ]
     },
     "execution_count": 119,
     "metadata": {},
     "output_type": "execute_result"
    }
   ],
   "source": [
    "dataUrl = 'https://raw.githubusercontent.com/Datamanim/pandas/main/chipo.csv'\n",
    "df = pd.read_csv(dataUrl)\n",
    "\n",
    "type(df)"
   ]
  },
  {
   "cell_type": "markdown",
   "metadata": {},
   "source": [
    "### P21. <`quantity`> 컬럼 값이 3인 데이터를 추출하여 첫 5행 출력하기"
   ]
  },
  {
   "cell_type": "markdown",
   "metadata": {},
   "source": [
    "- 조건을 이용하여 특정 데이터만 출력할 경우 `loc` 함수를 사용한다.\n",
    "    - `df.loc[crit]`"
   ]
  },
  {
   "cell_type": "code",
   "execution_count": 120,
   "metadata": {},
   "outputs": [
    {
     "name": "stdout",
     "output_type": "stream",
     "text": [
      "     order_id  quantity          item_name  \\\n",
      "409       178         3       Chicken Bowl   \n",
      "445       193         3               Bowl   \n",
      "689       284         3  Canned Soft Drink   \n",
      "818       338         3      Bottled Water   \n",
      "850       350         3  Canned Soft Drink   \n",
      "\n",
      "                                    choice_description item_price  \n",
      "409  [[Fresh Tomato Salsa (Mild), Tomatillo-Green C...    $32.94   \n",
      "445  [Braised Carnitas, Pinto Beans, [Sour Cream, C...    $22.20   \n",
      "689                                        [Diet Coke]     $3.75   \n",
      "818                                                NaN     $3.27   \n",
      "850                                           [Sprite]     $3.75   \n"
     ]
    }
   ],
   "source": [
    "crit = df['quantity'] == 3  # 조건\n",
    "Ans = df.loc[crit].head()   # 첫 5행 출력\n",
    "\n",
    "print(Ans)"
   ]
  },
  {
   "cell_type": "markdown",
   "metadata": {},
   "source": [
    "### P22. <`quantity`> 컬럼 값이 3인 데이터를 추출하여 `index`를 0부터 정렬하고 첫 5행 출력하기"
   ]
  },
  {
   "cell_type": "markdown",
   "metadata": {},
   "source": [
    "- `reset_index()` 함수는 인덱스를 기본값으로 재설정한다. 기본적으로 기존 인덱스를 데이터의 새로운 열로 추가한다.\n",
    "- `drop=True` 속성을 줄 경우, 기존 인덱스를 새로운 열로 추가하지 않고 삭제한다.\n",
    "    - 인덱스를 재설정하되, 기존 인덱스를 유지하지 않는다.\n"
   ]
  },
  {
   "cell_type": "code",
   "execution_count": 121,
   "metadata": {},
   "outputs": [
    {
     "name": "stdout",
     "output_type": "stream",
     "text": [
      "   order_id  quantity          item_name  \\\n",
      "0       178         3       Chicken Bowl   \n",
      "1       193         3               Bowl   \n",
      "2       284         3  Canned Soft Drink   \n",
      "3       338         3      Bottled Water   \n",
      "4       350         3  Canned Soft Drink   \n",
      "\n",
      "                                  choice_description item_price  \n",
      "0  [[Fresh Tomato Salsa (Mild), Tomatillo-Green C...    $32.94   \n",
      "1  [Braised Carnitas, Pinto Beans, [Sour Cream, C...    $22.20   \n",
      "2                                        [Diet Coke]     $3.75   \n",
      "3                                                NaN     $3.27   \n",
      "4                                           [Sprite]     $3.75   \n"
     ]
    }
   ],
   "source": [
    "crit = df['quantity'] == 3\n",
    "Ans = df.loc[crit].head().reset_index(drop=True)\n",
    "\n",
    "print(Ans)"
   ]
  },
  {
   "cell_type": "markdown",
   "metadata": {},
   "source": [
    "### P23. <`quantity`>, <`item_price`> 2개의 컬럼으로 구성된 새로운 데이터프레임 만들기"
   ]
  },
  {
   "cell_type": "markdown",
   "metadata": {},
   "source": [
    "- `df[[컬럼명1, 컬럼명2, ..., 컬럼명n]]`으로 데이터프레임에서 특정 컬럼만 뽑아낼 수 있다."
   ]
  },
  {
   "cell_type": "code",
   "execution_count": 122,
   "metadata": {},
   "outputs": [
    {
     "name": "stdout",
     "output_type": "stream",
     "text": [
      "      quantity item_price\n",
      "0            1     $2.39 \n",
      "1            1     $3.39 \n",
      "2            1     $3.39 \n",
      "3            1     $2.39 \n",
      "4            2    $16.98 \n",
      "...        ...        ...\n",
      "4617         1    $11.75 \n",
      "4618         1    $11.75 \n",
      "4619         1    $11.25 \n",
      "4620         1     $8.75 \n",
      "4621         1     $8.75 \n",
      "\n",
      "[4622 rows x 2 columns]\n"
     ]
    }
   ],
   "source": [
    "Ans = df [['quantity', 'item_price']]\n",
    "\n",
    "print(Ans)"
   ]
  },
  {
   "cell_type": "markdown",
   "metadata": {},
   "source": [
    "### P24. <`item_price`> 컬럼의 달러(`$`) 표시 문자를 제거하고, `float` 타입으로 저장하여 `new_price` 컬럼에 저장하기"
   ]
  },
  {
   "cell_type": "markdown",
   "metadata": {},
   "source": [
    "- `astype()` 함수를 이용하여 데이터 타입을 변환할 수 있다."
   ]
  },
  {
   "cell_type": "code",
   "execution_count": 123,
   "metadata": {},
   "outputs": [
    {
     "name": "stdout",
     "output_type": "stream",
     "text": [
      "0     2.39\n",
      "1     3.39\n",
      "2     3.39\n",
      "3     2.39\n",
      "4    16.98\n",
      "Name: new_price, dtype: float64\n"
     ]
    }
   ],
   "source": [
    "df['new_price'] = df['item_price'].str[1:].astype('float')  # $n에서 $를 제외한 부분을 float형으로 변환\n",
    "Ans = df['new_price'].head()\n",
    "\n",
    "print(Ans)"
   ]
  },
  {
   "cell_type": "markdown",
   "metadata": {},
   "source": [
    "### P25. <`new_price`> 컬럼이 5이하의 값을 가지는 데이터프레임을 추출하고, 전체 개수 구하기"
   ]
  },
  {
   "cell_type": "markdown",
   "metadata": {},
   "source": [
    "- `df.loc[crit]` 를 이용하여 조건(`crit`)에 맞는 컬럼만 추출할 수 있다.\n",
    "- `len()` 함수를 이용하여 컬럼 안의 전체 데이터의 개수를 구할 수 있다."
   ]
  },
  {
   "cell_type": "code",
   "execution_count": 124,
   "metadata": {},
   "outputs": [
    {
     "name": "stdout",
     "output_type": "stream",
     "text": [
      "1652\n"
     ]
    }
   ],
   "source": [
    "crit = df['new_price'] <= 5\n",
    "Ans = len(df.loc[crit])\n",
    "\n",
    "print(Ans)"
   ]
  },
  {
   "cell_type": "markdown",
   "metadata": {},
   "source": [
    "### P26. <`item_name`> 명이 `Chicken Salad Bowl`인 데이터프레임을 추출하고 `index` 값을 초기화하기"
   ]
  },
  {
   "cell_type": "code",
   "execution_count": 125,
   "metadata": {},
   "outputs": [
    {
     "name": "stdout",
     "output_type": "stream",
     "text": [
      "     order_id  quantity           item_name  \\\n",
      "0          20         1  Chicken Salad Bowl   \n",
      "1          60         2  Chicken Salad Bowl   \n",
      "2          94         2  Chicken Salad Bowl   \n",
      "3         111         1  Chicken Salad Bowl   \n",
      "4         137         2  Chicken Salad Bowl   \n",
      "..        ...       ...                 ...   \n",
      "105      1813         2  Chicken Salad Bowl   \n",
      "106      1822         1  Chicken Salad Bowl   \n",
      "107      1834         1  Chicken Salad Bowl   \n",
      "108      1834         1  Chicken Salad Bowl   \n",
      "109      1834         1  Chicken Salad Bowl   \n",
      "\n",
      "                                    choice_description item_price  new_price  \n",
      "0    [Fresh Tomato Salsa, [Fajita Vegetables, Pinto...     $8.75        8.75  \n",
      "1    [Tomatillo Green Chili Salsa, [Sour Cream, Che...    $22.50       22.50  \n",
      "2    [Fresh Tomato Salsa, [Fajita Vegetables, Pinto...    $22.50       22.50  \n",
      "3    [Fresh Tomato Salsa, [Fajita Vegetables, Rice,...     $8.75        8.75  \n",
      "4              [Fresh Tomato Salsa, Fajita Vegetables]    $17.50       17.50  \n",
      "..                                                 ...        ...        ...  \n",
      "105  [Fresh Tomato Salsa, [Fajita Vegetables, Pinto...    $17.50       17.50  \n",
      "106  [Fresh Tomato Salsa, [Black Beans, Cheese, Gua...    $11.25       11.25  \n",
      "107  [Fresh Tomato Salsa, [Fajita Vegetables, Pinto...    $11.25       11.25  \n",
      "108  [Fresh Tomato Salsa, [Fajita Vegetables, Lettu...     $8.75        8.75  \n",
      "109  [Fresh Tomato Salsa, [Fajita Vegetables, Pinto...     $8.75        8.75  \n",
      "\n",
      "[110 rows x 6 columns]\n"
     ]
    }
   ],
   "source": [
    "crit = df['item_name'] == \"Chicken Salad Bowl\"\n",
    "Ans = df.loc[crit].reset_index(drop=True)   # drop=True를 적용하여 기존 인덱스를 새로운 열로 추가하지 않고 삭제\n",
    "\n",
    "print(Ans)\n"
   ]
  },
  {
   "cell_type": "markdown",
   "metadata": {},
   "source": [
    "### P27. <`new_price`> 값이 9 이하이고 <`item_name`> 값이 `Chicken Salad Bowl`인 데이터프레임 추출하기"
   ]
  },
  {
   "cell_type": "code",
   "execution_count": 126,
   "metadata": {},
   "outputs": [
    {
     "name": "stdout",
     "output_type": "stream",
     "text": [
      "     order_id  quantity           item_name  \\\n",
      "44         20         1  Chicken Salad Bowl   \n",
      "256       111         1  Chicken Salad Bowl   \n",
      "526       220         1  Chicken Salad Bowl   \n",
      "528       221         1  Chicken Salad Bowl   \n",
      "529       221         1  Chicken Salad Bowl   \n",
      "\n",
      "                                    choice_description item_price  new_price  \n",
      "44   [Fresh Tomato Salsa, [Fajita Vegetables, Pinto...     $8.75        8.75  \n",
      "256  [Fresh Tomato Salsa, [Fajita Vegetables, Rice,...     $8.75        8.75  \n",
      "526  [Roasted Chili Corn Salsa, [Black Beans, Sour ...     $8.75        8.75  \n",
      "528  [Tomatillo Green Chili Salsa, [Fajita Vegetabl...     $8.75        8.75  \n",
      "529  [Tomatillo Green Chili Salsa, [Fajita Vegetabl...     $8.75        8.75  \n"
     ]
    }
   ],
   "source": [
    "crit1 = df['new_price'] <= 9\n",
    "crit2 = df['item_name'] == \"Chicken Salad Bowl\"\n",
    "\n",
    "Ans = df.loc[crit1 & crit2]\n",
    "\n",
    "print(Ans.head(5))"
   ]
  },
  {
   "cell_type": "markdown",
   "metadata": {},
   "source": [
    "### P28. `df`의 <`new_price`> 컬럼 값에 따라 오름차순으로 정렬하고, `index` 초기화하기"
   ]
  },
  {
   "cell_type": "markdown",
   "metadata": {},
   "source": [
    "- `sort_values(by=컬럼명)` 함수는 `by` 컬럼 값에 따라 정렬 작업을 수행한다.\n",
    "    - `ascending=True` 속성을 주면 오름차순 정렬을 수행한다."
   ]
  },
  {
   "cell_type": "code",
   "execution_count": 127,
   "metadata": {},
   "outputs": [
    {
     "name": "stdout",
     "output_type": "stream",
     "text": [
      "   order_id  quantity      item_name choice_description item_price  new_price\n",
      "0       471         1  Bottled Water                NaN     $1.09        1.09\n",
      "1       338         1    Canned Soda        [Coca Cola]     $1.09        1.09\n",
      "2      1575         1    Canned Soda       [Dr. Pepper]     $1.09        1.09\n",
      "3        47         1    Canned Soda       [Dr. Pepper]     $1.09        1.09\n"
     ]
    }
   ],
   "source": [
    "Ans = df.sort_values(by='new_price', ascending=True).reset_index(drop=True)\n",
    "\n",
    "print(Ans.head(4))"
   ]
  },
  {
   "cell_type": "markdown",
   "metadata": {},
   "source": [
    "### P29. `df`의 <`item_name`> 컬럼 값 중, `Chips`를 포함하는 경우의 데이터 출력하기"
   ]
  },
  {
   "cell_type": "markdown",
   "metadata": {},
   "source": [
    "- `df[컬럼명].str.contains('포함하는값')`를 통해 특정 컬럼 안에서 특정 값을 포함하는 데이터만 뽑아낼 수 있다."
   ]
  },
  {
   "cell_type": "code",
   "execution_count": 128,
   "metadata": {},
   "outputs": [
    {
     "name": "stdout",
     "output_type": "stream",
     "text": [
      "    order_id  quantity                              item_name  \\\n",
      "0          1         1           Chips and Fresh Tomato Salsa   \n",
      "3          1         1  Chips and Tomatillo-Green Chili Salsa   \n",
      "6          3         1                          Side of Chips   \n",
      "10         5         1                    Chips and Guacamole   \n",
      "14         7         1                    Chips and Guacamole   \n",
      "\n",
      "   choice_description item_price  new_price  \n",
      "0                 NaN     $2.39        2.39  \n",
      "3                 NaN     $2.39        2.39  \n",
      "6                 NaN     $1.69        1.69  \n",
      "10                NaN     $4.45        4.45  \n",
      "14                NaN     $4.45        4.45  \n"
     ]
    }
   ],
   "source": [
    "crit = df['item_name'].str.contains(\"Chips\")\n",
    "\n",
    "Ans = df.loc[crit]\n",
    "\n",
    "print(Ans.head(5))"
   ]
  },
  {
   "cell_type": "markdown",
   "metadata": {},
   "source": [
    "### P30. `df`의 짝수번째 컬럼만 포함하는 데이터프레임 출력하기"
   ]
  },
  {
   "cell_type": "markdown",
   "metadata": {},
   "source": [
    "- 짝수번째 컬럼만 선택 : `df.iloc[:, ::2]` (시작 인덱스 : 0)\n",
    "- 홀수번째 컬럼만 선택 : `df.iloc[:, 1::2]` (시작 인덱스 : 1)"
   ]
  },
  {
   "cell_type": "code",
   "execution_count": 129,
   "metadata": {},
   "outputs": [
    {
     "name": "stdout",
     "output_type": "stream",
     "text": [
      "   order_id                              item_name item_price\n",
      "0         1           Chips and Fresh Tomato Salsa     $2.39 \n",
      "1         1                                   Izze     $3.39 \n",
      "2         1                       Nantucket Nectar     $3.39 \n",
      "3         1  Chips and Tomatillo-Green Chili Salsa     $2.39 \n",
      "4         2                           Chicken Bowl    $16.98 \n"
     ]
    }
   ],
   "source": [
    "Ans = df.iloc[:, ::2]    # ::2 : 모든 열을 2칸 간격으로 선택한다.\n",
    "\n",
    "print(Ans.head(5))"
   ]
  },
  {
   "cell_type": "markdown",
   "metadata": {},
   "source": [
    "### P31. `df`의 <`new_price`> 컬럼 값에 따라 내림차순으로 정렬하고 `index` 초기화하기"
   ]
  },
  {
   "cell_type": "code",
   "execution_count": 130,
   "metadata": {},
   "outputs": [
    {
     "name": "stdout",
     "output_type": "stream",
     "text": [
      "   order_id  quantity                     item_name  \\\n",
      "0      1443        15  Chips and Fresh Tomato Salsa   \n",
      "1      1398         3                 Carnitas Bowl   \n",
      "2       511         4               Chicken Burrito   \n",
      "3      1443         4               Chicken Burrito   \n",
      "4      1443         3                Veggie Burrito   \n",
      "\n",
      "                                  choice_description item_price  new_price  \n",
      "0                                                NaN    $44.25       44.25  \n",
      "1  [Roasted Chili Corn Salsa, [Fajita Vegetables,...    $35.25       35.25  \n",
      "2  [Fresh Tomato Salsa, [Fajita Vegetables, Rice,...    $35.00       35.00  \n",
      "3  [Fresh Tomato Salsa, [Rice, Black Beans, Chees...    $35.00       35.00  \n",
      "4  [Fresh Tomato Salsa, [Fajita Vegetables, Rice,...    $33.75       33.75  \n"
     ]
    }
   ],
   "source": [
    "Ans = df.sort_values(by=\"new_price\", ascending=False).reset_index(drop=True)\n",
    "\n",
    "print(Ans.head(5))"
   ]
  },
  {
   "cell_type": "markdown",
   "metadata": {},
   "source": [
    "### P32. `df`의 <`item_name`> 컬럼 값이 `Steak Salad` 또는 `Bowl` 인 데이터 인덱싱하기"
   ]
  },
  {
   "cell_type": "markdown",
   "metadata": {},
   "source": [
    "- `A` 또는 `B`인 데이터 인덱싱 하기\n",
    "    - `or` 또는 `in` 연산자 사용 불가! (무조건 **논리 연산자(`|`)** 사용)\n",
    "    - 피연산자에 소괄호(`()`) 넣어야 함.\n",
    "\n",
    "```py\n",
    "crit = (df[컬럼명] == A) | (df[컬럼명] == B)\n",
    "df.loc[crit]\n",
    "```"
   ]
  },
  {
   "cell_type": "code",
   "execution_count": 131,
   "metadata": {},
   "outputs": [
    {
     "name": "stdout",
     "output_type": "stream",
     "text": [
      "      order_id  quantity    item_name  \\\n",
      "445        193         3         Bowl   \n",
      "664        276         1  Steak Salad   \n",
      "673        279         1         Bowl   \n",
      "752        311         1  Steak Salad   \n",
      "893        369         1  Steak Salad   \n",
      "3502      1406         1  Steak Salad   \n",
      "\n",
      "                                     choice_description item_price  new_price  \n",
      "445   [Braised Carnitas, Pinto Beans, [Sour Cream, C...    $22.20       22.20  \n",
      "664   [Tomatillo-Red Chili Salsa (Hot), [Black Beans...     $8.99        8.99  \n",
      "673   [Adobo-Marinated and Grilled Steak, [Sour Crea...     $7.40        7.40  \n",
      "752   [Tomatillo-Red Chili Salsa (Hot), [Black Beans...     $8.99        8.99  \n",
      "893   [Fresh Tomato Salsa (Mild), [Rice, Cheese, Sou...     $8.99        8.99  \n",
      "3502                        [[Lettuce, Fajita Veggies]]     $8.69        8.69  \n"
     ]
    }
   ],
   "source": [
    "crit = (df['item_name'] == \"Steak Salad\") | (df['item_name'] == \"Bowl\")\n",
    "Ans = df.loc[crit]\n",
    "\n",
    "print(Ans)"
   ]
  },
  {
   "cell_type": "markdown",
   "metadata": {},
   "source": [
    "### P33. `df`의 <`item_name`> 컬럼값이 `Steak Salad` 또는 `Bowl`인 데이터를 데이터프레임화 한 후, <`item_name`>을 기준으로 중복행이 있으면 제거하되 첫 번째 케이스만 남기기"
   ]
  },
  {
   "cell_type": "markdown",
   "metadata": {},
   "source": [
    "- `drop_duplicates(컬럼명, keep='first')` 함수는 중복행이 있으면 <ins>첫 번째</ins> 케이스만 남기고 나머지를 제거한다.\n",
    "    - `keep='first'` 생략 가능 (기본값: `first`)"
   ]
  },
  {
   "cell_type": "code",
   "execution_count": 132,
   "metadata": {},
   "outputs": [
    {
     "name": "stdout",
     "output_type": "stream",
     "text": [
      "     order_id  quantity    item_name  \\\n",
      "445       193         3         Bowl   \n",
      "664       276         1  Steak Salad   \n",
      "\n",
      "                                    choice_description item_price  new_price  \n",
      "445  [Braised Carnitas, Pinto Beans, [Sour Cream, C...    $22.20       22.20  \n",
      "664  [Tomatillo-Red Chili Salsa (Hot), [Black Beans...     $8.99        8.99  \n"
     ]
    }
   ],
   "source": [
    "crit = (df['item_name'] == 'Steak Salad') | (df['item_name'] == 'Bowl')\n",
    "\n",
    "Ans = df.loc[crit].drop_duplicates('item_name', keep=\"first\")   # 중복행 제거\n",
    "\n",
    "print(Ans)"
   ]
  },
  {
   "cell_type": "markdown",
   "metadata": {},
   "source": [
    "### P34. `df`의 <`item_name`> 컬럼 값이 `Steak Salad` 또는 `Bowl`인 데이터를 데이터프레임화한 후, <`item_name`>을 기준으로 중복행이 있으면 제거하되 마지막 케이스만 남기기"
   ]
  },
  {
   "cell_type": "markdown",
   "metadata": {},
   "source": [
    "- `drop_duplicates(컬럼명, keep='last')` 함수는 중복행이 있으면 <ins>마지막 번째</ins> 케이스만 남기고 나머지를 제거한다."
   ]
  },
  {
   "cell_type": "code",
   "execution_count": 133,
   "metadata": {},
   "outputs": [
    {
     "name": "stdout",
     "output_type": "stream",
     "text": [
      "      order_id  quantity    item_name  \\\n",
      "673        279         1         Bowl   \n",
      "3502      1406         1  Steak Salad   \n",
      "\n",
      "                                     choice_description item_price  new_price  \n",
      "673   [Adobo-Marinated and Grilled Steak, [Sour Crea...     $7.40        7.40  \n",
      "3502                        [[Lettuce, Fajita Veggies]]     $8.69        8.69  \n"
     ]
    }
   ],
   "source": [
    "crit = (df['item_name'] == 'Steak Salad') | (df['item_name'] == 'Bowl')\n",
    "\n",
    "Ans = df.loc[crit].drop_duplicates('item_name', keep=\"last\")   # 중복행 제거\n",
    "\n",
    "print(Ans)"
   ]
  },
  {
   "cell_type": "markdown",
   "metadata": {},
   "source": [
    "### P35. `df`의 데이터 중 <`new_price`> 값이 <`new_price`> 값의 평균값 이상을 가지는 데이터들 인덱싱하기"
   ]
  },
  {
   "cell_type": "markdown",
   "metadata": {},
   "source": [
    "- `mean()` 함수는 평균값을 반환한다."
   ]
  },
  {
   "cell_type": "code",
   "execution_count": 134,
   "metadata": {},
   "outputs": [
    {
     "name": "stdout",
     "output_type": "stream",
     "text": [
      "   order_id  quantity         item_name  \\\n",
      "4         2         2      Chicken Bowl   \n",
      "5         3         1      Chicken Bowl   \n",
      "7         4         1     Steak Burrito   \n",
      "8         4         1  Steak Soft Tacos   \n",
      "9         5         1     Steak Burrito   \n",
      "\n",
      "                                  choice_description item_price  new_price  \n",
      "4  [Tomatillo-Red Chili Salsa (Hot), [Black Beans...    $16.98       16.98  \n",
      "5  [Fresh Tomato Salsa (Mild), [Rice, Cheese, Sou...    $10.98       10.98  \n",
      "7  [Tomatillo Red Chili Salsa, [Fajita Vegetables...    $11.75       11.75  \n",
      "8  [Tomatillo Green Chili Salsa, [Pinto Beans, Ch...     $9.25        9.25  \n",
      "9  [Fresh Tomato Salsa, [Rice, Black Beans, Pinto...     $9.25        9.25  \n"
     ]
    }
   ],
   "source": [
    "crit = df['new_price'] >= df['new_price'].mean()   # 평균값 이상\n",
    "Ans = df.loc[crit]\n",
    "\n",
    "print(Ans.head(5))\n"
   ]
  },
  {
   "cell_type": "markdown",
   "metadata": {},
   "source": [
    "### P36. `df`의 데이터 중 <`item_name`>의 값이 `Izze`인 데이터를 `Fizzy Lizzy`로 수정하기"
   ]
  },
  {
   "cell_type": "code",
   "execution_count": 135,
   "metadata": {},
   "outputs": [
    {
     "name": "stdout",
     "output_type": "stream",
     "text": [
      "      order_id     quantity                     item_name choice_description  \\\n",
      "0            1            1  Chips and Fresh Tomato Salsa                NaN   \n",
      "1  Fizzy Lizzy  Fizzy Lizzy                   Fizzy Lizzy        Fizzy Lizzy   \n",
      "2            1            1              Nantucket Nectar            [Apple]   \n",
      "\n",
      "    item_price    new_price  \n",
      "0       $2.39          2.39  \n",
      "1  Fizzy Lizzy  Fizzy Lizzy  \n",
      "2       $3.39          3.39  \n"
     ]
    },
    {
     "name": "stderr",
     "output_type": "stream",
     "text": [
      "C:\\Users\\kss34\\AppData\\Local\\Temp\\ipykernel_30688\\2676964120.py:2: FutureWarning: Setting an item of incompatible dtype is deprecated and will raise an error in a future version of pandas. Value 'Fizzy Lizzy' has dtype incompatible with int64, please explicitly cast to a compatible dtype first.\n",
      "  df.loc[crit] = \"Fizzy Lizzy\"\n",
      "C:\\Users\\kss34\\AppData\\Local\\Temp\\ipykernel_30688\\2676964120.py:2: FutureWarning: Setting an item of incompatible dtype is deprecated and will raise an error in a future version of pandas. Value 'Fizzy Lizzy' has dtype incompatible with int64, please explicitly cast to a compatible dtype first.\n",
      "  df.loc[crit] = \"Fizzy Lizzy\"\n",
      "C:\\Users\\kss34\\AppData\\Local\\Temp\\ipykernel_30688\\2676964120.py:2: FutureWarning: Setting an item of incompatible dtype is deprecated and will raise an error in a future version of pandas. Value 'Fizzy Lizzy' has dtype incompatible with float64, please explicitly cast to a compatible dtype first.\n",
      "  df.loc[crit] = \"Fizzy Lizzy\"\n"
     ]
    }
   ],
   "source": [
    "crit = df['item_name'] == \"Izze\"\n",
    "df.loc[crit] = \"Fizzy Lizzy\"\n",
    "\n",
    "Ans = df\n",
    "print(Ans.head(3))"
   ]
  },
  {
   "cell_type": "markdown",
   "metadata": {},
   "source": [
    "### P37. `df`의 데이터 중 `choice_description` 값이 `NaN`인 데이터의 개수 구하기"
   ]
  },
  {
   "cell_type": "markdown",
   "metadata": {},
   "source": [
    "- `df[컬럼명].isnull().sum()`는 특정 컬럼의 `NaN`인 데이터의 개수를 반환한다."
   ]
  },
  {
   "cell_type": "code",
   "execution_count": 136,
   "metadata": {},
   "outputs": [
    {
     "name": "stdout",
     "output_type": "stream",
     "text": [
      "1246\n"
     ]
    }
   ],
   "source": [
    "Ans = df['choice_description'].isnull().sum()   # NaN 데이터 반환\n",
    "\n",
    "print(Ans)"
   ]
  },
  {
   "cell_type": "markdown",
   "metadata": {},
   "source": [
    "### P38. `df`의 데이터 중 <`choice_description`> 값이 `NaN`인 데이터를 `NoData` 값으로 대체하기 (`loc` 이용)"
   ]
  },
  {
   "cell_type": "markdown",
   "metadata": {},
   "source": [
    "- `df.loc[조건, 컬럼명]`은 조건에 맞는 컬럼을 추출한다.\n",
    "- `df.loc[row_selection, column_selection]`\n",
    "    - `row_selection` : 행을 선택하는 조건이나 라벨\n",
    "    - `column_selection` : 열을 선택하는 라벨"
   ]
  },
  {
   "cell_type": "code",
   "execution_count": 137,
   "metadata": {},
   "outputs": [
    {
     "name": "stdout",
     "output_type": "stream",
     "text": [
      "      order_id     quantity                              item_name  \\\n",
      "0            1            1           Chips and Fresh Tomato Salsa   \n",
      "1  Fizzy Lizzy  Fizzy Lizzy                            Fizzy Lizzy   \n",
      "2            1            1                       Nantucket Nectar   \n",
      "3            1            1  Chips and Tomatillo-Green Chili Salsa   \n",
      "4            2            2                           Chicken Bowl   \n",
      "\n",
      "                                  choice_description   item_price    new_price  \n",
      "0                                             NoData       $2.39          2.39  \n",
      "1                                        Fizzy Lizzy  Fizzy Lizzy  Fizzy Lizzy  \n",
      "2                                            [Apple]       $3.39          3.39  \n",
      "3                                             NoData       $2.39          2.39  \n",
      "4  [Tomatillo-Red Chili Salsa (Hot), [Black Beans...      $16.98         16.98  \n"
     ]
    }
   ],
   "source": [
    "crit = df['choice_description'].isnull()\n",
    "df.loc[crit, 'choice_description'] = \"NoData\"\n",
    "Ans = df\n",
    "\n",
    "print(Ans.head(5))"
   ]
  },
  {
   "cell_type": "markdown",
   "metadata": {},
   "source": [
    "### P39. `df`의 데이터 중, <`choice_description`> 값에 `Black`이 들어가는 경우 인덱싱하기"
   ]
  },
  {
   "cell_type": "markdown",
   "metadata": {},
   "source": [
    "- `df[컬럼명].str.contains(값)`를 통해 특정 컬럼에 특정 값이 들어가는 경우를 추출할 수 있다."
   ]
  },
  {
   "cell_type": "code",
   "execution_count": 138,
   "metadata": {},
   "outputs": [
    {
     "name": "stdout",
     "output_type": "stream",
     "text": [
      "   order_id quantity             item_name  \\\n",
      "4         2        2          Chicken Bowl   \n",
      "7         4        1         Steak Burrito   \n",
      "9         5        1         Steak Burrito   \n",
      "11        6        1  Chicken Crispy Tacos   \n",
      "12        6        1    Chicken Soft Tacos   \n",
      "\n",
      "                                   choice_description item_price new_price  \n",
      "4   [Tomatillo-Red Chili Salsa (Hot), [Black Beans...    $16.98      16.98  \n",
      "7   [Tomatillo Red Chili Salsa, [Fajita Vegetables...    $11.75      11.75  \n",
      "9   [Fresh Tomato Salsa, [Rice, Black Beans, Pinto...     $9.25       9.25  \n",
      "11  [Roasted Chili Corn Salsa, [Fajita Vegetables,...     $8.75       8.75  \n",
      "12  [Roasted Chili Corn Salsa, [Rice, Black Beans,...     $8.75       8.75  \n"
     ]
    }
   ],
   "source": [
    "crit = df['choice_description'].str.contains(\"Black\")\n",
    "Ans = df[crit]\n",
    "\n",
    "print(Ans.head(5))"
   ]
  },
  {
   "cell_type": "markdown",
   "metadata": {},
   "source": [
    "### P40. `df`의 데이터 중, <`choice_description`> 값에 `Vegetables`가 들어가지 않는 경우의 개수 출력하기"
   ]
  },
  {
   "cell_type": "code",
   "execution_count": 139,
   "metadata": {},
   "outputs": [
    {
     "name": "stdout",
     "output_type": "stream",
     "text": [
      "3900\n"
     ]
    }
   ],
   "source": [
    "crit = df['choice_description'].str.contains(\"Vegetables\")\n",
    "Ans = len(df[~crit])  # NOT(~) 연산자를 통해 정반대의 값 추출\n",
    "\n",
    "print(Ans)"
   ]
  },
  {
   "cell_type": "markdown",
   "metadata": {},
   "source": [
    "### P41. `df`의 데이터 중, <`item_name`> 값이 `N`으로 시작하는 데이터를 모두 추출하기"
   ]
  },
  {
   "cell_type": "markdown",
   "metadata": {},
   "source": [
    "- `df[컬럼명].str.startswith(값)`를 통해 특정 값으로 시작하는 경우를 추출할 수 있다."
   ]
  },
  {
   "cell_type": "code",
   "execution_count": 140,
   "metadata": {},
   "outputs": [
    {
     "name": "stdout",
     "output_type": "stream",
     "text": [
      "    order_id quantity         item_name         choice_description item_price  \\\n",
      "2          1        1  Nantucket Nectar                    [Apple]     $3.39    \n",
      "22        11        1  Nantucket Nectar       [Pomegranate Cherry]     $3.39    \n",
      "105       46        1  Nantucket Nectar  [Pineapple Orange Banana]     $3.39    \n",
      "\n",
      "    new_price  \n",
      "2        3.39  \n",
      "22       3.39  \n",
      "105      3.39  \n"
     ]
    }
   ],
   "source": [
    "crit = df['item_name'].str.startswith(\"N\")\n",
    "Ans = df[crit]\n",
    "\n",
    "print(Ans.head(3))"
   ]
  },
  {
   "cell_type": "markdown",
   "metadata": {},
   "source": [
    "### P42. `df`의 데이터 중 <`item_name`> 값의 단어 개수가 15개 이상인 데이터 인덱싱하기"
   ]
  },
  {
   "cell_type": "markdown",
   "metadata": {},
   "source": [
    "- `df[컬럼명].str.len()`을 통해 특정 컬럼의 단어 개수를 추출할 수 있다."
   ]
  },
  {
   "cell_type": "code",
   "execution_count": 141,
   "metadata": {},
   "outputs": [
    {
     "name": "stdout",
     "output_type": "stream",
     "text": [
      "     order_id quantity                              item_name  \\\n",
      "0           1        1           Chips and Fresh Tomato Salsa   \n",
      "2           1        1                       Nantucket Nectar   \n",
      "3           1        1  Chips and Tomatillo-Green Chili Salsa   \n",
      "8           4        1                       Steak Soft Tacos   \n",
      "10          5        1                    Chips and Guacamole   \n",
      "...       ...      ...                                    ...   \n",
      "4615     1832        1                     Chicken Soft Tacos   \n",
      "4616     1832        1                    Chips and Guacamole   \n",
      "4619     1834        1                     Chicken Salad Bowl   \n",
      "4620     1834        1                     Chicken Salad Bowl   \n",
      "4621     1834        1                     Chicken Salad Bowl   \n",
      "\n",
      "                                     choice_description item_price new_price  \n",
      "0                                                NoData     $2.39       2.39  \n",
      "2                                               [Apple]     $3.39       3.39  \n",
      "3                                                NoData     $2.39       2.39  \n",
      "8     [Tomatillo Green Chili Salsa, [Pinto Beans, Ch...     $9.25       9.25  \n",
      "10                                               NoData     $4.45       4.45  \n",
      "...                                                 ...        ...       ...  \n",
      "4615   [Fresh Tomato Salsa, [Rice, Cheese, Sour Cream]]     $8.75       8.75  \n",
      "4616                                             NoData     $4.45       4.45  \n",
      "4619  [Fresh Tomato Salsa, [Fajita Vegetables, Pinto...    $11.25      11.25  \n",
      "4620  [Fresh Tomato Salsa, [Fajita Vegetables, Lettu...     $8.75       8.75  \n",
      "4621  [Fresh Tomato Salsa, [Fajita Vegetables, Pinto...     $8.75       8.75  \n",
      "\n",
      "[2373 rows x 6 columns]\n"
     ]
    }
   ],
   "source": [
    "crit = df['item_name'].str.len() >= 15\n",
    "Ans = df[crit]\n",
    "\n",
    "print(Ans)"
   ]
  },
  {
   "cell_type": "markdown",
   "metadata": {},
   "source": [
    "### P43. `df`의 데이터 중, <`new_price`> 값이 `lst`에 해당하는 경우의 데이터프레임을 구하고, 그 개수 출력하기\n",
    "> `lst =[1.69, 2.39, 3.39, 4.45, 9.25, 10.98, 11.75, 16.98]`"
   ]
  },
  {
   "cell_type": "markdown",
   "metadata": {},
   "source": [
    "- `df[컬럼명].isin(리스트)` 를 통해 리스트 안에 있는 값들에 해당하는 경우만 추출할 수 있다."
   ]
  },
  {
   "cell_type": "code",
   "execution_count": 142,
   "metadata": {},
   "outputs": [
    {
     "name": "stdout",
     "output_type": "stream",
     "text": [
      "  order_id quantity                              item_name  \\\n",
      "0        1        1           Chips and Fresh Tomato Salsa   \n",
      "2        1        1                       Nantucket Nectar   \n",
      "3        1        1  Chips and Tomatillo-Green Chili Salsa   \n",
      "4        2        2                           Chicken Bowl   \n",
      "5        3        1                           Chicken Bowl   \n",
      "\n",
      "                                  choice_description item_price new_price  \n",
      "0                                             NoData     $2.39       2.39  \n",
      "2                                            [Apple]     $3.39       3.39  \n",
      "3                                             NoData     $2.39       2.39  \n",
      "4  [Tomatillo-Red Chili Salsa (Hot), [Black Beans...    $16.98      16.98  \n",
      "5  [Fresh Tomato Salsa (Mild), [Rice, Cheese, Sou...    $10.98      10.98  \n",
      "1373\n"
     ]
    }
   ],
   "source": [
    "lst =[1.69, 2.39, 3.39, 4.45, 9.25, 10.98, 11.75, 16.98]\n",
    "\n",
    "crit = df['new_price'].isin(lst)\n",
    "Ans = df.loc[crit]\n",
    "\n",
    "print(Ans.head(5))\n",
    "print(len(Ans))"
   ]
  },
  {
   "cell_type": "markdown",
   "metadata": {},
   "source": [
    "## 03. Grouping"
   ]
  },
  {
   "cell_type": "markdown",
   "metadata": {},
   "source": [
    "### P44. 데이터 로드하기"
   ]
  },
  {
   "cell_type": "code",
   "execution_count": 143,
   "metadata": {},
   "outputs": [
    {
     "data": {
      "text/plain": [
       "pandas.core.frame.DataFrame"
      ]
     },
     "execution_count": 143,
     "metadata": {},
     "output_type": "execute_result"
    }
   ],
   "source": [
    "dataUrl = 'https://raw.githubusercontent.com/Datamanim/pandas/main/AB_NYC_2019.csv'\n",
    "df = pd.read_csv(dataUrl)\n",
    "\n",
    "type(df)"
   ]
  },
  {
   "cell_type": "markdown",
   "metadata": {},
   "source": [
    "### P45. 데이터의 각 <`host_name`>의 빈도수를 구하고, <`host_name`>으로 정렬하여 상위 5개 출력하기"
   ]
  },
  {
   "cell_type": "markdown",
   "metadata": {},
   "source": [
    "- `df.groupby(by=컬럼명).size()`을 통해 **빈도수** 를 구할 수 있다.\n",
    "- `df[컬럼명].value_counts().sort_index()`로 특정 컬럼의 빈도수를 구하고 정렬시킬 수 있다."
   ]
  },
  {
   "cell_type": "code",
   "execution_count": 144,
   "metadata": {},
   "outputs": [
    {
     "name": "stdout",
     "output_type": "stream",
     "text": [
      "Ans1 : host_name\n",
      "'Cil                        1\n",
      "(Ari) HENRY LEE             1\n",
      "(Email hidden by Airbnb)    6\n",
      "(Mary) Haiy                 1\n",
      "-TheQueensCornerLot         1\n",
      "                           ..\n",
      "단비                          1\n",
      "빈나                          1\n",
      "소정                          2\n",
      "진                           1\n",
      "현선                          1\n",
      "Length: 11452, dtype: int64\n",
      "\n",
      "Ans2 ; host_name\n",
      "'Cil                        1\n",
      "(Ari) HENRY LEE             1\n",
      "(Email hidden by Airbnb)    6\n",
      "(Mary) Haiy                 1\n",
      "-TheQueensCornerLot         1\n",
      "Name: count, dtype: int64\n"
     ]
    }
   ],
   "source": [
    "# 방법 1\n",
    "Ans1 = df.groupby(by='host_name').size()   # 빈도수 구하기\n",
    "\n",
    "# 방법 2\n",
    "Ans2 = df['host_name'].value_counts().sort_index()   #  빈도수 구한 후 host_name으로 정렬하기\n",
    "\n",
    "print(f\"Ans1 : {Ans1}\")\n",
    "print()\n",
    "print(f\"Ans2 ; {Ans2.head(5)}\")"
   ]
  },
  {
   "cell_type": "markdown",
   "metadata": {},
   "source": [
    "### P46. 데이터의 각 <`host_name`>의 빈도수를 구하고, 빈도수 기준 내림차순 정렬한 데이터프레임 만들기. (단, 빈도수 컬럼은 `counts`로 명명하기)"
   ]
  },
  {
   "cell_type": "markdown",
   "metadata": {},
   "source": [
    "- `to_frame()` 함수는 데이터프레임으로 만들어주는 함수이다."
   ]
  },
  {
   "cell_type": "code",
   "execution_count": 145,
   "metadata": {},
   "outputs": [
    {
     "name": "stdout",
     "output_type": "stream",
     "text": [
      "              counts\n",
      "host_name           \n",
      "Michael          417\n",
      "David            403\n",
      "Sonder (NYC)     327\n",
      "John             294\n",
      "Alex             279\n",
      "...              ...\n",
      "Jerbean            1\n",
      "Jerald             1\n",
      "Jeonghoon          1\n",
      "Jeny               1\n",
      "현선                 1\n",
      "\n",
      "[11452 rows x 1 columns]\n"
     ]
    }
   ],
   "source": [
    "step1 = df.groupby(by=\"host_name\").size()    # 빈도수 구하기 (시리즈 객체 반환)\n",
    "step2 = step1.to_frame()    # 시리즈 객체를 데이터프레임으로 만들기\n",
    "step3 = step2.rename(columns={ 0: 'counts' })    # 빈도수 컬럼명을 counts로 하기 (기본적으로 변환된 데이터프레임의 컬럼명은 0으로 설정되어 있음.)\n",
    "step4 = step3.sort_values(by='counts', ascending=False)   # 빈도수 컬럼 기준으로 내림차순 정렬하기\n",
    "\n",
    "Ans = step4\n",
    "\n",
    "print(Ans)"
   ]
  },
  {
   "cell_type": "markdown",
   "metadata": {},
   "source": [
    "### P47. <`neighbourhood_group`>의 값에 따른 <`neighbourhood`> 컬럼 값의 개수 구하기"
   ]
  },
  {
   "cell_type": "code",
   "execution_count": 146,
   "metadata": {},
   "outputs": [
    {
     "name": "stdout",
     "output_type": "stream",
     "text": [
      "  neighbourhood_group neighbourhood  size\n",
      "0               Bronx      Allerton    42\n",
      "1               Bronx    Baychester     7\n",
      "2               Bronx       Belmont    24\n",
      "3               Bronx     Bronxdale    19\n"
     ]
    }
   ],
   "source": [
    "target =['neighbourhood_group', 'neighbourhood']\n",
    "\n",
    "Ans = df.groupby(by=target, as_index=False).size()   \n",
    "# df를 \"neighbourhood_group\"과 \"neighbourhood\" 열을 기준으로 그룹화\n",
    "# as_index=False : 그룹화된 결과에서 인덱스를 원래 데이터프레임의 인덱스로 유지 (결과 데이터프레임에서 \"neighbourhood_group\"과 \"neighbourhood\"가 인덱스가 되지 않고, 일반 열로 남음.)\n",
    "# .size() : 빈도수 계산\n",
    "\n",
    "print(Ans.head(4))"
   ]
  },
  {
   "cell_type": "markdown",
   "metadata": {},
   "source": [
    "### P48. <`neighbourhood_group`>의 값에 따른 <`neighbourhood`> 컬럼 값 중, <`neighbourhood_group`> 그룹의 최댓값들 출력하기"
   ]
  },
  {
   "cell_type": "code",
   "execution_count": 147,
   "metadata": {},
   "outputs": [
    {
     "name": "stdout",
     "output_type": "stream",
     "text": [
      "  neighbourhood_group    neighbourhood  size\n",
      "0               Bronx         Woodlawn    70\n",
      "1            Brooklyn  Windsor Terrace  3920\n",
      "2           Manhattan     West Village  2658\n",
      "3              Queens         Woodside   900\n",
      "4       Staten Island          Woodrow    48\n"
     ]
    }
   ],
   "source": [
    "target = ['neighbourhood_group', 'neighbourhood']\n",
    "\n",
    "step1 = df.groupby(target, as_index=False).size()\n",
    "step2 = step1.groupby(by=['neighbourhood_group'], as_index=False).max()\n",
    "\n",
    "Ans = step2\n",
    "\n",
    "print(Ans)"
   ]
  },
  {
   "cell_type": "markdown",
   "metadata": {},
   "source": [
    "### P49. <`neighbourhood_group`> 값에 따른 <`price`> 값들의 평균, 분산, 최대값, 최소값 구하기"
   ]
  },
  {
   "cell_type": "markdown",
   "metadata": {},
   "source": [
    "- `agg()` 함수는 데이터프레임에서 그룹화된 데이터를 여러 통계 함수로 한 번에 집계할 수 있게 해준다."
   ]
  },
  {
   "cell_type": "code",
   "execution_count": 148,
   "metadata": {},
   "outputs": [
    {
     "name": "stdout",
     "output_type": "stream",
     "text": [
      "                          price                         \n",
      "                           mean           var    max min\n",
      "neighbourhood_group                                     \n",
      "Bronx                 87.496792  11386.885081   2500   0\n",
      "Brooklyn             124.383207  34921.719135  10000   0\n",
      "Manhattan            196.875814  84904.159185  10000   0\n",
      "Queens                99.517649  27923.130227  10000  10\n",
      "Staten Island        114.812332  77073.088342   5000  13\n"
     ]
    }
   ],
   "source": [
    "target = ['neighbourhood_group', 'price']\n",
    "\n",
    "Ans = df[target].groupby(by='neighbourhood_group').agg(['mean', 'var', 'max', 'min'])   # 평균, 분산, 최대값, 최소값 구하기\n",
    "\n",
    "print(Ans)"
   ]
  },
  {
   "cell_type": "markdown",
   "metadata": {},
   "source": [
    "### P50. <`neighbourhood_group`> 값에 따른 <`reviews_per_month`>의 평균, 분산, 최대, 최소값 구하기"
   ]
  },
  {
   "cell_type": "code",
   "execution_count": 149,
   "metadata": {},
   "outputs": [
    {
     "name": "stdout",
     "output_type": "stream",
     "text": [
      "                    reviews_per_month                       \n",
      "                                 mean       var   min    max\n",
      "neighbourhood_group                                         \n",
      "Bronx                        1.837831  2.799878  0.02  10.34\n",
      "Brooklyn                     1.283212  2.299040  0.01  14.00\n",
      "Manhattan                    1.272131  2.651206  0.01  58.50\n",
      "Queens                       1.941200  4.897848  0.01  20.94\n",
      "Staten Island                1.872580  2.840895  0.02  10.12\n"
     ]
    }
   ],
   "source": [
    "target = ['neighbourhood_group', 'reviews_per_month']\n",
    "\n",
    "Ans = df[target].groupby(by='neighbourhood_group').agg(['mean', 'var', 'min', 'max'])\n",
    "\n",
    "print(Ans)"
   ]
  },
  {
   "cell_type": "markdown",
   "metadata": {},
   "source": [
    "### P51. <`neighbourhood`> 값과 <`neighbourhood_group`> 값에 따른 <`price`>의 평균 구하기"
   ]
  },
  {
   "cell_type": "code",
   "execution_count": 150,
   "metadata": {},
   "outputs": [
    {
     "name": "stdout",
     "output_type": "stream",
     "text": [
      "neighbourhood    neighbourhood_group\n",
      "Allerton         Bronx                   87.595238\n",
      "Arden Heights    Staten Island           67.250000\n",
      "Arrochar         Staten Island          115.000000\n",
      "Arverne          Queens                 171.779221\n",
      "Astoria          Queens                 117.187778\n",
      "                                           ...    \n",
      "Windsor Terrace  Brooklyn               138.993631\n",
      "Woodhaven        Queens                  67.170455\n",
      "Woodlawn         Bronx                   60.090909\n",
      "Woodrow          Staten Island          700.000000\n",
      "Woodside         Queens                  85.097872\n",
      "Name: price, Length: 221, dtype: float64\n"
     ]
    }
   ],
   "source": [
    "target = ['neighbourhood', 'neighbourhood_group']\n",
    "\n",
    "Ans = df.groupby(by=target)['price'].mean()\n",
    "\n",
    "print(Ans)"
   ]
  },
  {
   "cell_type": "markdown",
   "metadata": {},
   "source": [
    "### P52. <`neighbourhood`> 값과 <`neighbourhood_group`> 값에 따른 <`price`>의 평균을 계층적 인덱싱 없이 구하기"
   ]
  },
  {
   "cell_type": "markdown",
   "metadata": {},
   "source": [
    "- `unstack()` 함수는 판다스 데이터프레임의 다중 인덱스를 가진 Series나 DataFrame을 다시 정렬하여 단일 인덱스를 가진 DataFrame으로 변환해준다. \n",
    "    - 이 함수를 사용하면 다중 인덱스를 가진 데이터를 펼쳐서 보다 쉽게 이해할 수 있는 형태로 변환할 수 있다."
   ]
  },
  {
   "cell_type": "code",
   "execution_count": 151,
   "metadata": {},
   "outputs": [
    {
     "name": "stdout",
     "output_type": "stream",
     "text": [
      "neighbourhood_group      Bronx    Brooklyn  Manhattan      Queens  \\\n",
      "neighbourhood                                                       \n",
      "Allerton             87.595238         NaN        NaN         NaN   \n",
      "Arden Heights              NaN         NaN        NaN         NaN   \n",
      "Arrochar                   NaN         NaN        NaN         NaN   \n",
      "Arverne                    NaN         NaN        NaN  171.779221   \n",
      "Astoria                    NaN         NaN        NaN  117.187778   \n",
      "...                        ...         ...        ...         ...   \n",
      "Windsor Terrace            NaN  138.993631        NaN         NaN   \n",
      "Woodhaven                  NaN         NaN        NaN   67.170455   \n",
      "Woodlawn             60.090909         NaN        NaN         NaN   \n",
      "Woodrow                    NaN         NaN        NaN         NaN   \n",
      "Woodside                   NaN         NaN        NaN   85.097872   \n",
      "\n",
      "neighbourhood_group  Staten Island  \n",
      "neighbourhood                       \n",
      "Allerton                       NaN  \n",
      "Arden Heights                67.25  \n",
      "Arrochar                    115.00  \n",
      "Arverne                        NaN  \n",
      "Astoria                        NaN  \n",
      "...                            ...  \n",
      "Windsor Terrace                NaN  \n",
      "Woodhaven                      NaN  \n",
      "Woodlawn                       NaN  \n",
      "Woodrow                     700.00  \n",
      "Woodside                       NaN  \n",
      "\n",
      "[221 rows x 5 columns]\n"
     ]
    }
   ],
   "source": [
    "target = ['neighbourhood', 'neighbourhood_group']\n",
    "\n",
    "Ans = df.groupby(by=target)['price'].mean().unstack()   # 계층적 인덱싱 없이 평균 구하기\n",
    "\n",
    "print(Ans)"
   ]
  },
  {
   "cell_type": "markdown",
   "metadata": {},
   "source": [
    "### P53. <`neighbourhood`> 값과 <`neighbourhood_group`> 값에 따른 <`price`>의 평균을 계층적 인덱싱 없이 구하고, `NaN` 값은 `-999` 값으로 채우기"
   ]
  },
  {
   "cell_type": "markdown",
   "metadata": {},
   "source": [
    "- `fillna(값)` 함수는 `NaN`을 특정 값으로 채운다."
   ]
  },
  {
   "cell_type": "code",
   "execution_count": 152,
   "metadata": {},
   "outputs": [
    {
     "name": "stdout",
     "output_type": "stream",
     "text": [
      "neighbourhood_group       Bronx    Brooklyn  Manhattan      Queens  \\\n",
      "neighbourhood                                                        \n",
      "Allerton              87.595238 -999.000000     -999.0 -999.000000   \n",
      "Arden Heights       -999.000000 -999.000000     -999.0 -999.000000   \n",
      "Arrochar            -999.000000 -999.000000     -999.0 -999.000000   \n",
      "Arverne             -999.000000 -999.000000     -999.0  171.779221   \n",
      "Astoria             -999.000000 -999.000000     -999.0  117.187778   \n",
      "...                         ...         ...        ...         ...   \n",
      "Windsor Terrace     -999.000000  138.993631     -999.0 -999.000000   \n",
      "Woodhaven           -999.000000 -999.000000     -999.0   67.170455   \n",
      "Woodlawn              60.090909 -999.000000     -999.0 -999.000000   \n",
      "Woodrow             -999.000000 -999.000000     -999.0 -999.000000   \n",
      "Woodside            -999.000000 -999.000000     -999.0   85.097872   \n",
      "\n",
      "neighbourhood_group  Staten Island  \n",
      "neighbourhood                       \n",
      "Allerton                   -999.00  \n",
      "Arden Heights                67.25  \n",
      "Arrochar                    115.00  \n",
      "Arverne                    -999.00  \n",
      "Astoria                    -999.00  \n",
      "...                            ...  \n",
      "Windsor Terrace            -999.00  \n",
      "Woodhaven                  -999.00  \n",
      "Woodlawn                   -999.00  \n",
      "Woodrow                     700.00  \n",
      "Woodside                   -999.00  \n",
      "\n",
      "[221 rows x 5 columns]\n"
     ]
    }
   ],
   "source": [
    "target = ['neighbourhood', 'neighbourhood_group']\n",
    "\n",
    "Ans = df.groupby(by=target)['price'].mean().unstack().fillna(-999)   # 계층적 인덱싱 없이 구하고, NaN 값은 -999로 채우기\n",
    "\n",
    "print(Ans)"
   ]
  },
  {
   "cell_type": "markdown",
   "metadata": {},
   "source": [
    "### P54. 데이터 중 <`neighbourhood_group`> 값이 `Queens` 값을 가지는 데이터들 중, <`neighbourhood`> 그룹별로 <`price`> 값의 평균, 분산, 최대, 최소값 구하기"
   ]
  },
  {
   "cell_type": "code",
   "execution_count": 153,
   "metadata": {},
   "outputs": [
    {
     "name": "stdout",
     "output_type": "stream",
     "text": [
      "                           mean            var    max  min\n",
      "neighbourhood                                             \n",
      "Arverne              171.779221   37383.411141   1500   35\n",
      "Astoria              117.187778  122428.811196  10000   25\n",
      "Bay Terrace          142.000000    6816.400000    258   32\n",
      "Bayside              157.948718  166106.470985   2600   30\n",
      "Bayswater             87.470588    2330.889706    230   45\n",
      "Belle Harbor         171.500000    8226.571429    350   85\n",
      "Bellerose             99.357143    3093.016484    240   42\n",
      "Breezy Point         213.333333    1008.333333    250  195\n",
      "Briarwood            105.875000   18503.165909   1000   30\n",
      "Cambria Heights       81.730769    2960.604615    250   31\n",
      "College Point         88.000000    6445.555556    400   44\n",
      "Corona                59.171875    2430.557292    359   23\n",
      "Ditmars Steinway      95.029126    4214.112785    600   22\n",
      "Douglaston            82.750000    2347.071429    178   40\n",
      "East Elmhurst         81.183784    4369.487779    700   16\n",
      "Edgemere              94.727273    4219.418182    200   40\n",
      "Elmhurst              80.459916    3896.563005    443   15\n",
      "Far Rockaway         165.862069   52575.980296    900   35\n",
      "Flushing              93.514085   12417.177448   1500   15\n",
      "Forest Hills         121.625000   44533.368881   2350   16\n",
      "Fresh Meadows         99.500000    6394.451613    375   39\n",
      "Glendale              90.796296    3230.882250    299   25\n",
      "Hollis                88.642857    1483.016484    175   50\n",
      "Holliswood           135.750000    5091.583333    239   79\n",
      "Howard Beach         115.400000    4241.936842    250   40\n",
      "Jackson Heights       80.897849    2150.470590    260   23\n",
      "Jamaica               95.770563    8067.047130   1000   10\n",
      "Jamaica Estates      182.947368   29006.052632    750   35\n",
      "Jamaica Hills        132.125000   11304.696429    325   50\n",
      "Kew Gardens           88.375000    2632.306452    219   35\n",
      "Kew Gardens Hills    112.307692    6230.621538    399   40\n",
      "Laurelton             95.333333    4355.529412    254   34\n",
      "Little Neck           75.200000    2368.700000    149   32\n",
      "Long Island City     127.465549   15529.503009   2000   30\n",
      "Maspeth               83.645455    2223.607089    245   11\n",
      "Middle Village       109.580645    3537.118280    265   28\n",
      "Neponsit             274.666667    5625.333333    350  200\n",
      "Ozone Park            85.274194    1705.415389    200   25\n",
      "Queens Village        83.933333    2386.470056    320   25\n",
      "Rego Park             83.877358    3659.003863    300   21\n",
      "Richmond Hill         87.117021    3474.147449    300   28\n",
      "Ridgewood             77.184397    2629.311889    375   20\n",
      "Rockaway Beach       132.178571    6254.622078    545   49\n",
      "Rosedale              76.694915    2963.939801    350   22\n",
      "South Ozone Park      82.400000    4619.989744    400   29\n",
      "Springfield Gardens   94.235294    2490.848739    300   40\n",
      "St. Albans           100.828947    9489.903684    600   25\n",
      "Sunnyside             84.865014    2727.746922    600   12\n",
      "Whitestone           107.545455   13632.072727    400   35\n",
      "Woodhaven             67.170455    1642.464864    250   10\n",
      "Woodside              85.097872    5001.900636    500   28\n"
     ]
    }
   ],
   "source": [
    "crit = df['neighbourhood_group'] == \"Queens\"\n",
    "target = ['neighbourhood']   # 대괄호 생략 가능\n",
    "\n",
    "Ans = df[crit].groupby(by=target).price.agg(['mean', 'var', 'max', 'min'])\n",
    "\n",
    "print(Ans)"
   ]
  },
  {
   "cell_type": "markdown",
   "metadata": {},
   "source": [
    "### P55. 데이터 중 <`neighbourhood_group`> 값에 따른 <`room_type`> 컬럼의 숫자를 구하고, <`neighbourhood_group`> 값을 기준으로 각 값의 비율 구하기"
   ]
  },
  {
   "cell_type": "code",
   "execution_count": 154,
   "metadata": {},
   "outputs": [
    {
     "name": "stdout",
     "output_type": "stream",
     "text": [
      "room_type            Entire home/apt  Private room  Shared room\n",
      "neighbourhood_group                                            \n",
      "Bronx                       0.347388      0.597617     0.054995\n",
      "Brooklyn                    0.475478      0.503979     0.020543\n",
      "Manhattan                   0.609344      0.368496     0.022160\n",
      "Queens                      0.369926      0.595129     0.034945\n",
      "Staten Island               0.471850      0.504021     0.024129\n"
     ]
    },
    {
     "name": "stderr",
     "output_type": "stream",
     "text": [
      "C:\\Users\\kss34\\AppData\\Local\\Temp\\ipykernel_30688\\481367728.py:7: FutureWarning: Setting an item of incompatible dtype is deprecated and will raise in a future error of pandas. Value '[0.34738772 0.47547752 0.60934398 0.36992587 0.47184987]' has dtype incompatible with int64, please explicitly cast to a compatible dtype first.\n",
      "  Ans.loc[:, :] = (Ans.values / Ans.sum(axis=1).values.reshape(-1, 1))\n",
      "C:\\Users\\kss34\\AppData\\Local\\Temp\\ipykernel_30688\\481367728.py:7: FutureWarning: Setting an item of incompatible dtype is deprecated and will raise in a future error of pandas. Value '[0.59761687 0.50397931 0.36849638 0.59512884 0.50402145]' has dtype incompatible with int64, please explicitly cast to a compatible dtype first.\n",
      "  Ans.loc[:, :] = (Ans.values / Ans.sum(axis=1).values.reshape(-1, 1))\n",
      "C:\\Users\\kss34\\AppData\\Local\\Temp\\ipykernel_30688\\481367728.py:7: FutureWarning: Setting an item of incompatible dtype is deprecated and will raise in a future error of pandas. Value '[0.05499542 0.02054318 0.02215964 0.03494529 0.02412869]' has dtype incompatible with int64, please explicitly cast to a compatible dtype first.\n",
      "  Ans.loc[:, :] = (Ans.values / Ans.sum(axis=1).values.reshape(-1, 1))\n"
     ]
    }
   ],
   "source": [
    "target = ['neighbourhood_group', 'room_type']\n",
    "\n",
    "# 1단계 : 'neighbourhood_group' 값에 따른 'room_type' 컬럼의 숫자 구하기\n",
    "Ans = df[target].groupby(by=target).size().unstack()\n",
    "\n",
    "# 2단계 : 'neighbourhood_group' 값을 기준으로 각 값의 비율 구하기 \n",
    "Ans.loc[:, :] = (Ans.values / Ans.sum(axis=1).values.reshape(-1, 1))\n",
    "\n",
    "print(Ans)"
   ]
  },
  {
   "cell_type": "markdown",
   "metadata": {},
   "source": [
    "## 04. Apply, Map\n",
    "---"
   ]
  },
  {
   "cell_type": "markdown",
   "metadata": {},
   "source": [
    "### P56. 데이터 로드하고 행과 열의 개수 출력하기"
   ]
  },
  {
   "cell_type": "code",
   "execution_count": 155,
   "metadata": {},
   "outputs": [
    {
     "name": "stdout",
     "output_type": "stream",
     "text": [
      "(10127, 18)\n"
     ]
    }
   ],
   "source": [
    "dataUrl = \"https://raw.githubusercontent.com/Datamanim/pandas/main/BankChurnersUp.csv\"\n",
    "\n",
    "df = pd.read_csv(dataUrl, index_col=0)\n",
    "Ans = df.shape\n",
    "\n",
    "print(Ans)"
   ]
  },
  {
   "cell_type": "markdown",
   "metadata": {},
   "source": [
    "### P57. <`Income_Category`>의 카테고리를 `map` 함수를 이용하여 다음과 같이 변경하여 <>`newIncome`> 컬럼에 매핑하기\n",
    "\n",
    "```text\n",
    "Unknown : N\n",
    "Less than $40K : a\n",
    "$40K - $60K : b\n",
    "$60K - $80K : c\n",
    "$80K - $120K : d\n",
    "$120K + : e\n",
    "```"
   ]
  },
  {
   "cell_type": "code",
   "execution_count": 156,
   "metadata": {},
   "outputs": [
    {
     "name": "stdout",
     "output_type": "stream",
     "text": [
      "0    c\n",
      "1    a\n",
      "2    d\n",
      "3    a\n",
      "Name: newIncome, dtype: object\n"
     ]
    }
   ],
   "source": [
    "dic = {\n",
    "    'Unknown' : 'N',\n",
    "    'Less than $40K' : 'a',\n",
    "    '$40K - $60K' : 'b',\n",
    "    '$60K - $80K' : 'c',\n",
    "    '$80K - $120K' : 'd',\n",
    "    '$120K +' : 'e'\n",
    "}\n",
    "\n",
    "df['newIncome'] = df['Income_Category'].map(lambda x: dic[x])\n",
    "Ans = df['newIncome']\n",
    "\n",
    "print(Ans.head(4))"
   ]
  },
  {
   "cell_type": "markdown",
   "metadata": {},
   "source": [
    "### P58. <`Income_Category`>의 카테고리를 `apply` 함수를 이용하여 다음과 같이 변경하여 <`newIncome`> 컬럼에 매핑하기\n",
    "\n",
    "```text\n",
    "Unknown : N\n",
    "Less than $40K : a\n",
    "$40K - $60K : b\n",
    "$60K - $80K : c\n",
    "$80K - $120K : d\n",
    "$120K + : e\n",
    "```"
   ]
  },
  {
   "cell_type": "code",
   "execution_count": 157,
   "metadata": {},
   "outputs": [
    {
     "name": "stdout",
     "output_type": "stream",
     "text": [
      "0    c\n",
      "1    a\n",
      "2    d\n",
      "3    a\n",
      "Name: newIncome, dtype: object\n"
     ]
    }
   ],
   "source": [
    "# 적용할 함수 만들기\n",
    "def changeCategory(x):\n",
    "    if x == 'Unknown':\n",
    "        return 'N'\n",
    "    elif x == 'Less than $40K':\n",
    "        return 'a'\n",
    "    elif x == '$40K - $60K':   \n",
    "        return 'b'\n",
    "    elif x == '$60K - $80K':    \n",
    "        return 'c'\n",
    "    elif x == '$80K - $120K':   \n",
    "        return 'd'\n",
    "    elif x == '$120K +' :     \n",
    "        return 'e'\n",
    "\n",
    "df['newIncome'] = df['Income_Category'].apply(changeCategory)\n",
    "\n",
    "Ans = df['newIncome']\n",
    "\n",
    "print(Ans.head(4))"
   ]
  },
  {
   "cell_type": "markdown",
   "metadata": {},
   "source": [
    "### P59. <`Customer_Age`>의 값을 이용하여 나이 구간을 `AgeState` 컬럼으로 정의하고 (0~9 : 0 , 10~19 :10 , 20~29 :20 … ) 각 구간의 빈도수 출력하기"
   ]
  },
  {
   "cell_type": "markdown",
   "metadata": {},
   "source": [
    "- `map()` 함수와 `lambda` 함수를 이용하여 문제의 조건에 맞는 값들만 추출할 수 있다.\n",
    "- `df[컬럼명].value_counts().sort_index()`를 이용하여 인덱스 순서대로 정렬하고, 각 구간의 빈도수를 출력할 수 있다."
   ]
  },
  {
   "cell_type": "code",
   "execution_count": 158,
   "metadata": {},
   "outputs": [
    {
     "name": "stdout",
     "output_type": "stream",
     "text": [
      "AgeState\n",
      "20     195\n",
      "30    1841\n",
      "40    4561\n",
      "50    2998\n",
      "60     530\n",
      "70       2\n",
      "Name: count, dtype: int64\n"
     ]
    }
   ],
   "source": [
    "df['AgeState'] = df['Customer_Age'].map(lambda x: x // 10 * 10)\n",
    "Ans = df['AgeState'].value_counts().sort_index()\n",
    "\n",
    "print(Ans)"
   ]
  },
  {
   "cell_type": "markdown",
   "metadata": {},
   "source": [
    "### P60. <`Education_Level`>의 값 중 `Graduate` 단어가 포함되는 값은 `1`, 그렇지 않은 경우에는 `0`으로 변경하여 <`newEduLevel`> 컬럼을 정의하고 빈도수 출력하기"
   ]
  },
  {
   "cell_type": "code",
   "execution_count": 159,
   "metadata": {},
   "outputs": [
    {
     "name": "stdout",
     "output_type": "stream",
     "text": [
      "newEduLevel\n",
      "0    6483\n",
      "1    3644\n",
      "Name: count, dtype: int64\n"
     ]
    }
   ],
   "source": [
    "df['newEduLevel'] = df['Education_Level'].map(lambda x: 1 if 'Graduate' in x else 0)\n",
    "Ans = df['newEduLevel'].value_counts()   # 빈도수 출력\n",
    "\n",
    "print(Ans)"
   ]
  },
  {
   "cell_type": "markdown",
   "metadata": {},
   "source": [
    "### P61. <`Credit_Limit`> 컬럼값이 4500 이상인 경우 `1`, 그외의 경우에는 모두 `0`으로 하는 <`newLimit`> 정의하고 <`newLimit`> 각 값들의 빈도수 출력하기"
   ]
  },
  {
   "cell_type": "code",
   "execution_count": 160,
   "metadata": {},
   "outputs": [
    {
     "name": "stdout",
     "output_type": "stream",
     "text": [
      "newLimit\n",
      "1    5096\n",
      "0    5031\n",
      "Name: count, dtype: int64\n"
     ]
    }
   ],
   "source": [
    "df['newLimit'] = df['Credit_Limit'].map(lambda x: 1 if x >= 4500 else 0)\n",
    "Ans = df['newLimit'].value_counts()   # 빈도수 구하기\n",
    "\n",
    "print(Ans)"
   ]
  },
  {
   "cell_type": "markdown",
   "metadata": {},
   "source": [
    "### P62. <`Marital_Status`> 컬럼값이 `Married`이고, <`Card_Category`> 컬럼의 값이 `Platinum`인 경우 `1`, 그외의 경우에는 모두 `0`으로 하는 <`newState`> 컬럼을 정의하고, <`newState`>의 각 값들의 빈도수 출력하기"
   ]
  },
  {
   "cell_type": "code",
   "execution_count": 161,
   "metadata": {},
   "outputs": [
    {
     "name": "stdout",
     "output_type": "stream",
     "text": [
      "newState\n",
      "0    10120\n",
      "1        7\n",
      "Name: count, dtype: int64\n"
     ]
    }
   ],
   "source": [
    "def check(x):\n",
    "    if x['Marital_Status'] == 'Married'and x['Card_Category'] == 'Platinum':\n",
    "        return 1\n",
    "    else:\n",
    "        return 0\n",
    "\n",
    "df['newState'] = df.apply(check, axis=1)\n",
    "Ans = df['newState'].value_counts()   # 빈도수 구하기\n",
    "\n",
    "print(Ans)"
   ]
  },
  {
   "cell_type": "markdown",
   "metadata": {},
   "source": [
    "### P63. <`Gender`> 컬럼 값이 `M`인 경우 `male`, `F`인 경우 `female`로 값을 변경하여 <`Gender`> 컬럼에 새롭게 정의하고, 각 값들의 빈도수 출력하기"
   ]
  },
  {
   "cell_type": "code",
   "execution_count": 162,
   "metadata": {},
   "outputs": [
    {
     "name": "stdout",
     "output_type": "stream",
     "text": [
      "Gender\n",
      "female    5358\n",
      "male      4769\n",
      "Name: count, dtype: int64\n"
     ]
    }
   ],
   "source": [
    "def changeGender(x):\n",
    "    if x == 'M':\n",
    "        return 'male'\n",
    "    else:\n",
    "        return 'female'\n",
    "\n",
    "\n",
    "df['Gender'] = df['Gender'].apply(changeGender)\n",
    "Ans = df['Gender'].value_counts()   # 빈도수 구하기\n",
    "\n",
    "print(Ans)"
   ]
  },
  {
   "cell_type": "markdown",
   "metadata": {},
   "source": [
    "## 05. Time Series"
   ]
  },
  {
   "cell_type": "markdown",
   "metadata": {},
   "source": [
    "### P64. 데이터 로드하고 각 열의 데이터 타입 파악하기"
   ]
  },
  {
   "cell_type": "code",
   "execution_count": 163,
   "metadata": {},
   "outputs": [
    {
     "name": "stdout",
     "output_type": "stream",
     "text": [
      "<class 'pandas.core.frame.DataFrame'>\n",
      "RangeIndex: 6574 entries, 0 to 6573\n",
      "Data columns (total 13 columns):\n",
      " #   Column    Non-Null Count  Dtype  \n",
      "---  ------    --------------  -----  \n",
      " 0   Yr_Mo_Dy  6574 non-null   object \n",
      " 1   RPT       6568 non-null   float64\n",
      " 2   VAL       6571 non-null   float64\n",
      " 3   ROS       6572 non-null   float64\n",
      " 4   KIL       6569 non-null   float64\n",
      " 5   SHA       6572 non-null   float64\n",
      " 6   BIR       6574 non-null   float64\n",
      " 7   DUB       6571 non-null   float64\n",
      " 8   CLA       6572 non-null   float64\n",
      " 9   MUL       6571 non-null   float64\n",
      " 10  CLO       6573 non-null   float64\n",
      " 11  BEL       6574 non-null   float64\n",
      " 12  MAL       6570 non-null   float64\n",
      "dtypes: float64(12), object(1)\n",
      "memory usage: 667.8+ KB\n",
      "None\n"
     ]
    }
   ],
   "source": [
    "dataUrl = \"https://raw.githubusercontent.com/Datamanim/pandas/main/timeTest.csv\"\n",
    "df = pd.read_csv(dataUrl)\n",
    "\n",
    "type(df)\n",
    "\n",
    "print(df.info())   # 각 열의 데이터 타입 파악"
   ]
  },
  {
   "cell_type": "markdown",
   "metadata": {},
   "source": [
    " ### P65. <`Yr_Mo_Dy`>을 판다스에서 인식할 수 있는 `datetime64` 타입으로 변경하기"
   ]
  },
  {
   "cell_type": "markdown",
   "metadata": {},
   "source": [
    "- `pd.to_datetime(컬럼명)` 함수를 사용하여 특정 컬럼의 값들을 `datetime64` 타입으로 변경할 수 있다."
   ]
  },
  {
   "cell_type": "code",
   "execution_count": 164,
   "metadata": {},
   "outputs": [
    {
     "data": {
      "text/plain": [
       "0   2061-01-01\n",
       "1   2061-01-02\n",
       "2   2061-01-03\n",
       "3   2061-01-04\n",
       "Name: Yr_Mo_Dy, dtype: datetime64[ns]"
      ]
     },
     "execution_count": 164,
     "metadata": {},
     "output_type": "execute_result"
    }
   ],
   "source": [
    "df['Yr_Mo_Dy'] = pd.to_datetime(df['Yr_Mo_Dy'])   # datetime으로 변환\n",
    "Ans = df['Yr_Mo_Dy']\n",
    "\n",
    "Ans.head(4)"
   ]
  },
  {
   "cell_type": "markdown",
   "metadata": {},
   "source": [
    "### P66. <`Yr_Mo_Dy`>에 존재하는 년도의 유일값 모두 출력하기"
   ]
  },
  {
   "cell_type": "markdown",
   "metadata": {},
   "source": [
    "- `df[컬럼명].dt.year`을 이용하여 `datetime64` 타입의 컬럼에 있는 시간값들의 모든 연도(`year`)를 추출할 수 있다.\n",
    "- `unique()` 함수는 중복을 제거해준다."
   ]
  },
  {
   "cell_type": "code",
   "execution_count": 165,
   "metadata": {},
   "outputs": [
    {
     "name": "stdout",
     "output_type": "stream",
     "text": [
      "[2061 2062 2063 2064 2065 2066 2067 2068 2069 2070 1971 1972 1973 1974\n",
      " 1975 1976 1977 1978]\n"
     ]
    }
   ],
   "source": [
    "Ans = df['Yr_Mo_Dy'].dt.year.unique()\n",
    "\n",
    "print(Ans)"
   ]
  },
  {
   "cell_type": "markdown",
   "metadata": {},
   "source": [
    "### P67. <`Yr_Mo_Dy`>에 년도가 2061년 이상인 경우, 해당 값에서 100을 빼서 새로운 날짜를 <`Yr_Mo_Dy`>에 정의하기"
   ]
  },
  {
   "cell_type": "code",
   "execution_count": 166,
   "metadata": {},
   "outputs": [
    {
     "name": "stdout",
     "output_type": "stream",
     "text": [
      "    Yr_Mo_Dy    RPT    VAL    ROS    KIL    SHA   BIR    DUB    CLA    MUL  \\\n",
      "0 1961-01-01  15.04  14.96  13.17   9.29    NaN  9.87  13.67  10.25  10.83   \n",
      "1 1961-01-02  14.71    NaN  10.83   6.50  12.62  7.67  11.50  10.04   9.79   \n",
      "2 1961-01-03  18.50  16.88  12.33  10.13  11.17  6.17  11.25    NaN   8.50   \n",
      "3 1961-01-04  10.58   6.63  11.75   4.58   4.54  2.88   8.63   1.79   5.83   \n",
      "\n",
      "     CLO    BEL    MAL  \n",
      "0  12.58  18.50  15.04  \n",
      "1   9.67  17.54  13.83  \n",
      "2   7.67  12.75  12.71  \n",
      "3   5.88   5.46  10.88  \n"
     ]
    }
   ],
   "source": [
    "def fix_century(x):\n",
    "    import datetime\n",
    "\n",
    "    # 2061년 이상의 경우 해당 연도에서 100 빼기\n",
    "    year = x.year - 100 if x.year >= 2061 else x.year\n",
    "\n",
    "    return pd.to_datetime(datetime.date(year, x.month, x.day))\n",
    "\n",
    "df['Yr_Mo_Dy'] = df['Yr_Mo_Dy'].apply(fix_century)\n",
    "\n",
    "Ans = df\n",
    "\n",
    "print(Ans.head(4))"
   ]
  },
  {
   "cell_type": "markdown",
   "metadata": {},
   "source": [
    "### P68. 년도별 각 컬럼의 평균값 구하기"
   ]
  },
  {
   "cell_type": "code",
   "execution_count": 167,
   "metadata": {},
   "outputs": [
    {
     "name": "stdout",
     "output_type": "stream",
     "text": [
      "                    Yr_Mo_Dy        RPT        VAL        ROS       KIL  \\\n",
      "Yr_Mo_Dy                                                                  \n",
      "1961     1961-07-02 00:00:00  12.299583  10.351796  11.362369  6.958227   \n",
      "1962     1962-07-02 00:00:00  12.246923  10.110438  11.732712  6.960440   \n",
      "1963     1963-07-02 00:00:00  12.813452  10.836986  12.541151  7.330055   \n",
      "1964     1964-07-01 12:00:00  12.363661  10.920164  12.104372  6.787787   \n",
      "\n",
      "                SHA       BIR        DUB        CLA       MUL        CLO  \\\n",
      "Yr_Mo_Dy                                                                   \n",
      "1961      10.881763  7.729726   9.733923   8.858788  8.647652   9.835577   \n",
      "1962      10.657918  7.393068  11.020712   8.793753  8.316822   9.676247   \n",
      "1963      11.724110  8.434712  11.075699  10.336548  8.903589  10.224438   \n",
      "1964      11.454481  7.570874  10.259153   9.467350  7.789016  10.207951   \n",
      "\n",
      "                BEL        MAL  \n",
      "Yr_Mo_Dy                        \n",
      "1961      13.502795  13.680773  \n",
      "1962      12.930685  14.323956  \n",
      "1963      13.638877  14.999014  \n",
      "1964      13.740546  14.910301  \n"
     ]
    }
   ],
   "source": [
    "Ans = df.groupby(by=df['Yr_Mo_Dy'].dt.year).mean()   # 년도별 각 컬럼의 평균값 구하기\n",
    "\n",
    "print(Ans.head(4))"
   ]
  },
  {
   "cell_type": "markdown",
   "metadata": {},
   "source": [
    "### P69. <`weekday`> 컬럼을 만들고 요일별로 매핑하기 (월요일: 0 ~ 일요일: 6)"
   ]
  },
  {
   "cell_type": "markdown",
   "metadata": {},
   "source": [
    "- `df[컬럼명].dt.weekday` 를 이용하여 특정 컬럼에 대한 값을 요일별로 매핑할 수 있다. (월요일 : `0`, 일요일 : `6`)"
   ]
  },
  {
   "cell_type": "code",
   "execution_count": 168,
   "metadata": {},
   "outputs": [
    {
     "name": "stdout",
     "output_type": "stream",
     "text": [
      "   weekday\n",
      "0        6\n",
      "1        0\n",
      "2        1\n"
     ]
    }
   ],
   "source": [
    "df['weekday'] = df['Yr_Mo_Dy'].dt.weekday\n",
    "Ans = df['weekday'].head(3).to_frame()\n",
    "\n",
    "print(Ans)"
   ]
  },
  {
   "cell_type": "markdown",
   "metadata": {},
   "source": [
    "### P70. <`weekday`> 컬럼을 기준으로 주말이면 `1`, 평일이면 `0`의 값을 가지는 <`WeekCheck`> 컬럼 만들기"
   ]
  },
  {
   "cell_type": "code",
   "execution_count": 169,
   "metadata": {},
   "outputs": [
    {
     "name": "stdout",
     "output_type": "stream",
     "text": [
      "   WeekCheck\n",
      "0          1\n",
      "1          0\n",
      "2          0\n"
     ]
    }
   ],
   "source": [
    "df['WeekCheck'] = df['weekday'].map(lambda x: 1 if x in [5, 6] else 0)  # 5: 토요일, 6: 일요일\n",
    "Ans = df['WeekCheck'].head(3).to_frame()\n",
    "\n",
    "print(Ans)"
   ]
  },
  {
   "cell_type": "markdown",
   "metadata": {},
   "source": [
    "### P71. 년도, 일자 상관 없이 모든 컬럼의 각 달의 평균 구하기"
   ]
  },
  {
   "cell_type": "markdown",
   "metadata": {},
   "source": [
    "- `df[컬럼명].dt.month`는 특정 컬럼에 있는 값의 달(Month)을 반환한다."
   ]
  },
  {
   "cell_type": "code",
   "execution_count": 170,
   "metadata": {},
   "outputs": [
    {
     "name": "stdout",
     "output_type": "stream",
     "text": [
      "                              Yr_Mo_Dy        RPT        VAL        ROS  \\\n",
      "Yr_Mo_Dy                                                                  \n",
      "1        1969-07-17 06:40:00.000000000  14.847325  12.914560  13.299624   \n",
      "2        1969-08-17 07:50:33.070866142  13.710906  12.111122  12.879132   \n",
      "3        1969-09-14 12:00:00.000000000  13.158687  11.505842  12.648118   \n",
      "4        1969-10-15 00:00:00.000000000  12.555648  10.429759  12.204815   \n",
      "\n",
      "               KIL        SHA       BIR        DUB       CLA       MUL  \\\n",
      "Yr_Mo_Dy                                                                 \n",
      "1         7.199498  11.667734  8.054839  11.819355  9.512047  9.543208   \n",
      "2         6.942411  11.551772  7.633858  11.206024  9.341437  9.313169   \n",
      "3         7.265907  11.554516  7.959409  11.310179  9.635896  9.700324   \n",
      "4         6.898037  10.677667  7.441389  10.221315  8.909056  8.930870   \n",
      "\n",
      "                CLO        BEL        MAL   weekday  WeekCheck  \n",
      "Yr_Mo_Dy                                                        \n",
      "1         10.053566  14.550520  18.028763  2.989247   0.284946  \n",
      "2          9.518051  13.728898  17.156142  3.005906   0.287402  \n",
      "3         10.096953  13.810609  16.909317  3.000000   0.283154  \n",
      "4          9.158019  12.664759  14.937611  3.011111   0.288889  \n"
     ]
    }
   ],
   "source": [
    "Ans = df.groupby(by=df['Yr_Mo_Dy'].dt.month).mean()\n",
    "\n",
    "print(Ans.head(4))"
   ]
  },
  {
   "cell_type": "markdown",
   "metadata": {},
   "source": [
    "### P72. 모든 결측치는 컬럼 기준 직전의 값으로 대체하고, 첫 번째 행에 결측치가 있을 경우 뒤에 있는 값으로 대체하기"
   ]
  },
  {
   "cell_type": "markdown",
   "metadata": {},
   "source": [
    "- `fillna(method=['ffill' | 'bfill'])` 함수는 결측값을 채워준다.\n",
    "    - `method='ffill'`\n",
    "        - forward fill\n",
    "        - 결측값을 그 이전 값으로 채운다.\n",
    "    - `method='bfill'`\n",
    "        - backward fill\n",
    "        - 결측값을 그 다음 값으로 채운다."
   ]
  },
  {
   "cell_type": "code",
   "execution_count": 171,
   "metadata": {},
   "outputs": [
    {
     "name": "stderr",
     "output_type": "stream",
     "text": [
      "C:\\Users\\kss34\\AppData\\Local\\Temp\\ipykernel_30688\\1862519437.py:1: FutureWarning: DataFrame.fillna with 'method' is deprecated and will raise in a future version. Use obj.ffill() or obj.bfill() instead.\n",
      "  df = df.fillna(method='ffill').fillna(method='bfill')\n"
     ]
    },
    {
     "data": {
      "text/plain": [
       "Yr_Mo_Dy     0\n",
       "RPT          0\n",
       "VAL          0\n",
       "ROS          0\n",
       "KIL          0\n",
       "SHA          0\n",
       "BIR          0\n",
       "DUB          0\n",
       "CLA          0\n",
       "MUL          0\n",
       "CLO          0\n",
       "BEL          0\n",
       "MAL          0\n",
       "weekday      0\n",
       "WeekCheck    0\n",
       "dtype: int64"
      ]
     },
     "execution_count": 171,
     "metadata": {},
     "output_type": "execute_result"
    }
   ],
   "source": [
    "df = df.fillna(method='ffill').fillna(method='bfill')\n",
    "df.isnull().sum()   # 결측치 개수의 총합 출력해보기"
   ]
  },
  {
   "cell_type": "markdown",
   "metadata": {},
   "source": [
    "### P73. 년도-월을 기준으로 모든 컬럼의 평균값 구하기"
   ]
  },
  {
   "cell_type": "markdown",
   "metadata": {},
   "source": [
    "- `to_period(단위)` 함수는 날짜를 기간으로 변환하며, 인수로 변환할 기간의 단위를 지정한다. \n",
    "    - `'M'` : 월 단위"
   ]
  },
  {
   "cell_type": "code",
   "execution_count": 172,
   "metadata": {},
   "outputs": [
    {
     "name": "stdout",
     "output_type": "stream",
     "text": [
      "                    Yr_Mo_Dy        RPT        VAL        ROS       KIL  \\\n",
      "Yr_Mo_Dy                                                                  \n",
      "1961-01  1961-01-16 00:00:00  14.932581  12.084194  13.431613  7.736774   \n",
      "1961-02  1961-02-14 12:00:00  16.269286  14.975357  14.324643  9.116786   \n",
      "1961-03  1961-03-16 00:00:00  11.015806  11.296452  10.752903  7.137742   \n",
      "\n",
      "                SHA        BIR        DUB        CLA        MUL        CLO  \\\n",
      "Yr_Mo_Dy                                                                     \n",
      "1961-01   11.215806   8.588065  11.184839   9.270968   9.085806  10.107419   \n",
      "1961-02   13.852143  10.937500  11.890714  11.846071  11.821429  12.714286   \n",
      "1961-03   10.509355   8.866774   9.644194   9.829677  10.646129  11.251935   \n",
      "\n",
      "                BEL        MAL   weekday  WeekCheck  \n",
      "Yr_Mo_Dy                                             \n",
      "1961-01   13.880968  14.703226  2.935484   0.290323  \n",
      "1961-02   18.583214  15.411786  3.000000   0.285714  \n",
      "1961-03   16.410968  15.637742  3.000000   0.258065  \n"
     ]
    }
   ],
   "source": [
    "Ans = df.groupby(by=df['Yr_Mo_Dy'].dt.to_period('M')).mean()   # 월 단위로 변경 후 평균값 구하기\n",
    "\n",
    "print(Ans.head(3))"
   ]
  },
  {
   "cell_type": "markdown",
   "metadata": {},
   "source": [
    "### P74. <`RPT`> 컬럼의 값을 일자별 기준으로 1차 차분하기"
   ]
  },
  {
   "cell_type": "markdown",
   "metadata": {},
   "source": [
    "- `diff()` 함수는 1차 차분을 해준다.\n",
    "    -  '1차 차분'이란 각 데이터 값과 바로 앞 데이터 값 사이의 차이를 의미한다."
   ]
  },
  {
   "cell_type": "code",
   "execution_count": 173,
   "metadata": {},
   "outputs": [
    {
     "name": "stdout",
     "output_type": "stream",
     "text": [
      "0     NaN\n",
      "1   -0.33\n",
      "2    3.79\n",
      "Name: RPT, dtype: float64\n"
     ]
    }
   ],
   "source": [
    "Ans = df['RPT'].diff()    # 1차 차분\n",
    "\n",
    "print(Ans.head(3))"
   ]
  },
  {
   "cell_type": "markdown",
   "metadata": {},
   "source": [
    "### P75. <`RPT`>와 <`VAL`>의 컬럼을 일주일 간격으로 각각 이동 평균한 값 구하기"
   ]
  },
  {
   "cell_type": "markdown",
   "metadata": {},
   "source": [
    "- `rolling(값)` 함수는 이동 평균을 구해준다.\n",
    "- 이동 평균은 데이터의 변동을 부드럽게 만들어주고 추세를 파악하는 데 사용된다."
   ]
  },
  {
   "cell_type": "code",
   "execution_count": 174,
   "metadata": {},
   "outputs": [
    {
     "name": "stdout",
     "output_type": "stream",
     "text": [
      "         RPT        VAL\n",
      "0        NaN        NaN\n",
      "1        NaN        NaN\n",
      "2        NaN        NaN\n",
      "3        NaN        NaN\n",
      "4        NaN        NaN\n",
      "5        NaN        NaN\n",
      "6  14.124286  12.727143\n",
      "7  13.541429  11.982857\n",
      "8  13.237143  11.392857\n"
     ]
    }
   ],
   "source": [
    "Ans= df[['RPT', 'VAL']].rolling(7).mean()   # 일주일 간격으로 이동한 후 평균값 구하기\n",
    "\n",
    "print(Ans.head(9))"
   ]
  },
  {
   "cell_type": "markdown",
   "metadata": {},
   "source": [
    "### P76. 데이터를 로드하여 <`(년-월-일:시)`> 컬럼을 판다스에서 인식할 수 있는 `datetime` 형태로 변경하기\n",
    "\n",
    "※ 서울시의 제공 데이터의 경우 0시가 24시로 표현됨."
   ]
  },
  {
   "cell_type": "code",
   "execution_count": 175,
   "metadata": {},
   "outputs": [
    {
     "name": "stdout",
     "output_type": "stream",
     "text": [
      "            (년-월-일:시) PM10등급  PM10 PM2.5등급  PM2.5 오존등급     오존 이산화질소등급  이산화질소  \\\n",
      "0 2021-05-15 15:00:00     보통  47.0      보통   19.0   좋음  0.017      좋음  0.023   \n",
      "1 2021-05-15 14:00:00     보통  43.0      보통   20.0   좋음  0.024      좋음  0.019   \n",
      "2 2021-05-15 13:00:00     보통  34.0      보통   24.0   보통  0.035      좋음  0.017   \n",
      "\n",
      "  일산화탄소등급  일산화탄소 아황산가스등급  아황산가스  \n",
      "0      좋음    0.4      좋음  0.003  \n",
      "1      좋음    0.3      좋음  0.003  \n",
      "2      좋음    0.4      좋음  0.004  \n"
     ]
    }
   ],
   "source": [
    "dataUrl = \"https://raw.githubusercontent.com/Datamanim/pandas/main/seoul_pm.csv\"\n",
    "\n",
    "df = pd.read_csv(dataUrl)\n",
    "\n",
    "def change_date(x):\n",
    "    import datetime\n",
    "\n",
    "    hour = x.split(':')[1]\n",
    "    date = x.split(':')[0]\n",
    "\n",
    "    if hour == '24':\n",
    "        hour = \"00:00:00\"\n",
    "\n",
    "        FinalDate = pd.to_datetime(date + \" \" + hour) + datetime.timedelta(days=1)\n",
    "        # datetime.timedelta(days=1)을 통해 1일을 더한다. \n",
    "        # 다음 날의 0시를 나타내는 datetime 객체를 생성한다.\n",
    "    \n",
    "    else:\n",
    "        hour = hour + \":00:00\"\n",
    "        FinalDate = pd.to_datetime(date + \" \" + hour)\n",
    "    \n",
    "    return FinalDate\n",
    "\n",
    "df['(년-월-일:시)'] = df['(년-월-일:시)'].apply(change_date)\n",
    "\n",
    "Ans = df\n",
    "\n",
    "print(Ans.head(3))"
   ]
  },
  {
   "cell_type": "markdown",
   "metadata": {},
   "source": [
    "### P77. 일자별 영어 요일의 이름을 <`dayName`> 컬럼에 저장하기"
   ]
  },
  {
   "cell_type": "markdown",
   "metadata": {},
   "source": [
    "- `df[컬럼명].dt.day_name()`을 통해 특정 컬럼의 값에 있는 값의 영어 요일 이름을 추출할 수 있다."
   ]
  },
  {
   "cell_type": "code",
   "execution_count": 176,
   "metadata": {},
   "outputs": [
    {
     "name": "stdout",
     "output_type": "stream",
     "text": [
      "0    Saturday\n",
      "1    Saturday\n",
      "2    Saturday\n",
      "3    Saturday\n",
      "4    Saturday\n",
      "Name: dayName, dtype: object\n"
     ]
    }
   ],
   "source": [
    "df['dayName'] =df['(년-월-일:시)'].dt.day_name()\n",
    "Ans = df['dayName'] \n",
    "\n",
    "print(Ans.head(5))"
   ]
  },
  {
   "cell_type": "markdown",
   "metadata": {},
   "source": [
    "### P78. 일자별 각 `PM10` 등급의 빈도수 파악하기"
   ]
  },
  {
   "cell_type": "markdown",
   "metadata": {},
   "source": [
    "- `pivot()` 함수는 데이터프레임의 구조를 변경하여 새로운 형태로 정렬하는데 사용된다. \n",
    "    - 특히, 행과 열의 값을 새로운 형태로 배치하고, 값에 해당하는 데이터를 채워 넣을 수 있다. \n",
    "\n"
   ]
  },
  {
   "cell_type": "code",
   "execution_count": 177,
   "metadata": {},
   "outputs": [
    {
     "name": "stdout",
     "output_type": "stream",
     "text": [
      "  dayName PM10등급  size\n",
      "0  Friday     나쁨    31\n",
      "1  Friday   매우나쁨    17\n",
      "2  Friday     보통   120\n",
      "3  Friday     좋음    21\n",
      "4  Monday     나쁨     1\n",
      "\n",
      "PM10등급       나쁨  매우나쁨     보통    좋음\n",
      "dayName                           \n",
      "Friday     31.0  17.0  120.0  21.0\n",
      "Monday      1.0  21.0   83.0  63.0\n",
      "Saturday   31.0  27.0   71.0  54.0\n",
      "Sunday      2.0   1.0   67.0  98.0\n",
      "Thursday   41.0   0.0  144.0   5.0\n",
      "Tuesday    13.0  10.0   71.0  74.0\n",
      "Wednesday  26.0   0.0   95.0  46.0\n"
     ]
    }
   ],
   "source": [
    "target = ['dayName', 'PM10등급']\n",
    "\n",
    "Ans1 = df.groupby(by=target, as_index=False).size()   # 빈도수 파악\n",
    "Ans2 = Ans1.pivot(index='dayName', columns='PM10등급', values='size').fillna(0)\n",
    "\n",
    "print(Ans1.head())\n",
    "print()\n",
    "print(Ans2)\n"
   ]
  },
  {
   "cell_type": "markdown",
   "metadata": {},
   "source": [
    "### P79. 시간이 연속적으로 존재하며 결측치가 없는지 확인하기"
   ]
  },
  {
   "cell_type": "markdown",
   "metadata": {},
   "source": [
    "- 시간을 차분했을 경우 첫 값은 `NaN`, 이후 모든 차분값이 동일하면 연속이라 판단한다."
   ]
  },
  {
   "cell_type": "code",
   "execution_count": 178,
   "metadata": {},
   "outputs": [
    {
     "name": "stdout",
     "output_type": "stream",
     "text": [
      "True\n"
     ]
    }
   ],
   "source": [
    "check = len(df['(년-월-일:시)'].diff().unique())\n",
    "\n",
    "if check == 2:\n",
    "    Ans =True\n",
    "else:\n",
    "    Ans = False\n",
    "\n",
    "print(Ans)"
   ]
  },
  {
   "cell_type": "markdown",
   "metadata": {},
   "source": [
    "### P80. 오전 10시와 오후 10시(22시)의 `PM10`의 평균값을 각각 구하기"
   ]
  },
  {
   "cell_type": "code",
   "execution_count": 179,
   "metadata": {},
   "outputs": [
    {
     "name": "stdout",
     "output_type": "stream",
     "text": [
      "                PM10\n",
      "(년-월-일:시)           \n",
      "10         70.384615\n",
      "22         69.941176\n"
     ]
    }
   ],
   "source": [
    "Ans = df.groupby(by=df['(년-월-일:시)'].dt.hour)['PM10'].mean().iloc[[10, 22]].to_frame() # 10번째와 22번째 행을 선택\n",
    "\n",
    "print(Ans)"
   ]
  },
  {
   "cell_type": "markdown",
   "metadata": {},
   "source": [
    "### P81. 날짜 컬럼을 `index`로 만들기"
   ]
  },
  {
   "cell_type": "markdown",
   "metadata": {},
   "source": [
    "- `df.set_index(컬렴명)` 함수를 사용하여 특정 컬럼을 데이터프레임의 인덱스로 만들 수 있다. "
   ]
  },
  {
   "cell_type": "code",
   "execution_count": 180,
   "metadata": {},
   "outputs": [
    {
     "name": "stdout",
     "output_type": "stream",
     "text": [
      "                    PM10등급  PM10 PM2.5등급  PM2.5 오존등급     오존 이산화질소등급  이산화질소  \\\n",
      "(년-월-일:시)                                                                    \n",
      "2021-05-15 15:00:00     보통  47.0      보통   19.0   좋음  0.017      좋음  0.023   \n",
      "2021-05-15 14:00:00     보통  43.0      보통   20.0   좋음  0.024      좋음  0.019   \n",
      "2021-05-15 13:00:00     보통  34.0      보통   24.0   보통  0.035      좋음  0.017   \n",
      "\n",
      "                    일산화탄소등급  일산화탄소 아황산가스등급  아황산가스   dayName  \n",
      "(년-월-일:시)                                                    \n",
      "2021-05-15 15:00:00      좋음    0.4      좋음  0.003  Saturday  \n",
      "2021-05-15 14:00:00      좋음    0.3      좋음  0.003  Saturday  \n",
      "2021-05-15 13:00:00      좋음    0.4      좋음  0.004  Saturday  \n"
     ]
    }
   ],
   "source": [
    "df.set_index('(년-월-일:시)', inplace=True, drop=True) \n",
    "# inplace=True는 변경 내용을 원본 데이터프레임에 반영하라는 의미이다.\n",
    "# drop=True는 새로운 인덱스로 설정된 열을 데이터프레임에서 삭제하라는 의미이다. ('(년-월-일:시)' 열은 데이터프레임에서 제거된다.)\n",
    "\n",
    "Ans = df\n",
    "\n",
    "print(Ans.head(3))"
   ]
  },
  {
   "cell_type": "markdown",
   "metadata": {},
   "source": [
    "### P82. 데이터를 주 단위로 뽑아서 최소, 최대, 평균, 표준편차 구하기"
   ]
  },
  {
   "cell_type": "code",
   "execution_count": null,
   "metadata": {},
   "outputs": [],
   "source": [
    "Ans = df.resample('W').agg(['min', 'max', 'mean', 'std'])   # 주 단위로 뽑기\n",
    "\n",
    "print(Ans.head(5))"
   ]
  },
  {
   "cell_type": "markdown",
   "metadata": {},
   "source": [
    "## 06. Pivot\n",
    "---"
   ]
  },
  {
   "cell_type": "markdown",
   "metadata": {},
   "source": [
    "### P83. <`Indicator`>를 삭제하고 <`First Tooltip`> 컬럼에서 신뢰 구간에 해당하는 표현 지우기"
   ]
  },
  {
   "cell_type": "code",
   "execution_count": 182,
   "metadata": {},
   "outputs": [
    {
     "name": "stdout",
     "output_type": "stream",
     "text": [
      "      Location  Period        Dim1  First Tooltip\n",
      "0  Afghanistan    2019  Both sexes          60.27\n",
      "1  Afghanistan    2019        Male          63.83\n",
      "2  Afghanistan    2019      Female          56.57\n",
      "3  Afghanistan    2018  Both sexes          62.54\n"
     ]
    }
   ],
   "source": [
    "dataUrl = \"https://raw.githubusercontent.com/Datamanim/pandas/main/under5MortalityRate.csv\"\n",
    "\n",
    "df = pd.read_csv(dataUrl)\n",
    "\n",
    "# \"Indicator\" 삭제\n",
    "df.drop('Indicator', axis=1, inplace=True)\n",
    "\n",
    "# \"First Tooltip\" 컬럼에서 신뢰 구간에 해당하는 표현 지우기\n",
    "df['First Tooltip'] = df['First Tooltip'].map(lambda x: float(x.split(\"[\")[0]))\n",
    "\n",
    "Ans = df\n",
    "\n",
    "print(Ans.head(4))"
   ]
  },
  {
   "cell_type": "markdown",
   "metadata": {},
   "source": [
    "### P84. 년도가 2015년 이상, <`Dim1`>이 `Both sexes`인 케이스만 추출하기"
   ]
  },
  {
   "cell_type": "code",
   "execution_count": 183,
   "metadata": {},
   "outputs": [
    {
     "name": "stdout",
     "output_type": "stream",
     "text": [
      "      Location  Period        Dim1  First Tooltip\n",
      "0  Afghanistan    2019  Both sexes          60.27\n",
      "3  Afghanistan    2018  Both sexes          62.54\n",
      "6  Afghanistan    2017  Both sexes          64.94\n"
     ]
    }
   ],
   "source": [
    "crit = (df['Period'] >= 2015) & (df['Dim1'] == \"Both sexes\")\n",
    "\n",
    "Ans = target = df[crit]\n",
    "\n",
    "print(Ans.head(3))"
   ]
  },
  {
   "cell_type": "markdown",
   "metadata": {},
   "source": [
    "### P85. `P84`에서 추출한 데이터로 아래와 같이 나라에 따른 년도별 사망률을 데이터프레임화 하기"
   ]
  },
  {
   "cell_type": "code",
   "execution_count": 184,
   "metadata": {},
   "outputs": [
    {
     "name": "stdout",
     "output_type": "stream",
     "text": [
      "Period        2015   2016   2017   2018   2019\n",
      "Location                                      \n",
      "Afghanistan  70.44  67.57  64.94  62.54  60.27\n",
      "Albania       9.57   9.42   9.42   9.53   9.68\n",
      "Algeria      25.18  24.79  24.32  23.81  23.26\n"
     ]
    }
   ],
   "source": [
    "Ans = target.pivot(index='Location', columns='Period', values='First Tooltip')\n",
    "\n",
    "print(Ans.head(3))"
   ]
  },
  {
   "cell_type": "markdown",
   "metadata": {},
   "source": [
    "### P86. <`Dim1`>에 따른 년도별 사망 비율의 평균 구하기"
   ]
  },
  {
   "cell_type": "code",
   "execution_count": 185,
   "metadata": {},
   "outputs": [
    {
     "name": "stdout",
     "output_type": "stream",
     "text": [
      "Dim1\n",
      "Both sexes    154.539857\n",
      "Female        148.688286\n",
      "Male          160.081000\n",
      "Name: 1954, dtype: float64\n"
     ]
    }
   ],
   "source": [
    "Ans = df.pivot_table(index='Dim1', columns='Period', values='First Tooltip', aggfunc='mean')\n",
    "\n",
    "print(Ans.iloc[:, 4])"
   ]
  },
  {
   "cell_type": "markdown",
   "metadata": {},
   "source": [
    "### P87. 데이터를 로드하고 한국 `KOR` 데이터만 추출하기"
   ]
  },
  {
   "cell_type": "code",
   "execution_count": 187,
   "metadata": {},
   "outputs": [
    {
     "name": "stdout",
     "output_type": "stream",
     "text": [
      "      Year         City    Sport                 Discipline       Athlete  \\\n",
      "2652  1992  Albertville  Skating  Short Track Speed Skating   LEE, Jun-Ho   \n",
      "2653  1992  Albertville  Skating  Short Track Speed Skating  KIM, Ki-Hoon   \n",
      "2671  1992  Albertville  Skating  Short Track Speed Skating  KIM, Ki-Hoon   \n",
      "2672  1992  Albertville  Skating  Short Track Speed Skating   LEE, Jun-Ho   \n",
      "\n",
      "     Country Gender        Event   Medal  \n",
      "2652     KOR    Men        1000M  Bronze  \n",
      "2653     KOR    Men        1000M    Gold  \n",
      "2671     KOR    Men  5000M Relay    Gold  \n",
      "2672     KOR    Men  5000M Relay    Gold  \n"
     ]
    }
   ],
   "source": [
    "dataUrl = \"https://raw.githubusercontent.com/Datamanim/pandas/main/winter.csv\"\n",
    "\n",
    "df = pd.read_csv(dataUrl)\n",
    "\n",
    "crit = df['Country'] == 'KOR'\n",
    "Ans = kr = df[crit]\n",
    "\n",
    "print(Ans.head(4))"
   ]
  },
  {
   "cell_type": "markdown",
   "metadata": {},
   "source": [
    "### P88. 한국 올림픽 메달리스트 데이터에서 년도에 따른 `Medal` 개수를 데이터프레임화 하기"
   ]
  },
  {
   "cell_type": "code",
   "execution_count": 188,
   "metadata": {},
   "outputs": [
    {
     "name": "stdout",
     "output_type": "stream",
     "text": [
      "Medal  Bronze  Gold  Silver\n",
      "Year                       \n",
      "1992      1.0   5.0     1.0\n",
      "1994      1.0   8.0     1.0\n",
      "1998      2.0   6.0     4.0\n",
      "2002      0.0   5.0     2.0\n",
      "2006      2.0  14.0     3.0\n",
      "2010      2.0   6.0    10.0\n",
      "2014      2.0   7.0     5.0\n"
     ]
    }
   ],
   "source": [
    "Ans = kr.pivot_table(index='Year', columns='Medal', aggfunc='size').fillna(0)\n",
    "\n",
    "print(Ans)"
   ]
  },
  {
   "cell_type": "markdown",
   "metadata": {},
   "source": [
    "### P89. 전체 데이터에서 `Sport` 종류에 따른 성별 수 구하기"
   ]
  },
  {
   "cell_type": "code",
   "execution_count": 189,
   "metadata": {},
   "outputs": [
    {
     "name": "stdout",
     "output_type": "stream",
     "text": [
      "Gender       Men  Women\n",
      "Sport                  \n",
      "Biathlon     270    150\n",
      "Bobsleigh    416     36\n",
      "Curling       97     75\n",
      "Ice Hockey  1231    305\n",
      "Luge         135     45\n",
      "Skating      665    564\n",
      "Skiing      1130    651\n"
     ]
    }
   ],
   "source": [
    "Ans = df.pivot_table(index='Sport', columns='Gender', aggfunc='size')\n",
    "\n",
    "print(Ans)"
   ]
  },
  {
   "cell_type": "markdown",
   "metadata": {},
   "source": [
    "### P90. 전체 데이터에서 `Discipline` 종류에 따른 `Medal` 수 구하기"
   ]
  },
  {
   "cell_type": "code",
   "execution_count": 190,
   "metadata": {},
   "outputs": [
    {
     "name": "stdout",
     "output_type": "stream",
     "text": [
      "Medal                      Bronze  Gold  Silver\n",
      "Discipline                                     \n",
      "Alpine Skiing                 141   143     144\n",
      "Biathlon                      139   140     141\n",
      "Bobsleigh                     147   134     141\n",
      "Cross Country Skiing          263   264     262\n",
      "Curling                        56    58      58\n",
      "Figure skating                118   122     119\n",
      "Freestyle Skiing               34    34      34\n",
      "Ice Hockey                    512   510     514\n",
      "Luge                           60    62      58\n",
      "Nordic Combined                55    55      55\n",
      "Short Track Speed Skating      96    97      97\n",
      "Skeleton                       10    10      10\n",
      "Ski Jumping                    68    69      70\n",
      "Snowboard                      30    30      30\n",
      "Speed skating                 190   193     197\n"
     ]
    }
   ],
   "source": [
    "Ans = df.pivot_table(index='Discipline', columns='Medal', aggfunc='size')\n",
    "\n",
    "print(Ans)"
   ]
  },
  {
   "cell_type": "markdown",
   "metadata": {},
   "source": [
    "## 07. Merge, Concat\n",
    "---"
   ]
  },
  {
   "cell_type": "code",
   "execution_count": 191,
   "metadata": {},
   "outputs": [
    {
     "data": {
      "text/html": [
       "<div>\n",
       "<style scoped>\n",
       "    .dataframe tbody tr th:only-of-type {\n",
       "        vertical-align: middle;\n",
       "    }\n",
       "\n",
       "    .dataframe tbody tr th {\n",
       "        vertical-align: top;\n",
       "    }\n",
       "\n",
       "    .dataframe thead th {\n",
       "        text-align: right;\n",
       "    }\n",
       "</style>\n",
       "<table border=\"1\" class=\"dataframe\">\n",
       "  <thead>\n",
       "    <tr style=\"text-align: right;\">\n",
       "      <th></th>\n",
       "      <th>2010</th>\n",
       "      <th>2011</th>\n",
       "      <th>2012</th>\n",
       "      <th>2013</th>\n",
       "      <th>2014</th>\n",
       "      <th>2015</th>\n",
       "      <th>2016</th>\n",
       "      <th>2017</th>\n",
       "      <th>2018</th>\n",
       "      <th>2019</th>\n",
       "    </tr>\n",
       "    <tr>\n",
       "      <th>Location</th>\n",
       "      <th></th>\n",
       "      <th></th>\n",
       "      <th></th>\n",
       "      <th></th>\n",
       "      <th></th>\n",
       "      <th></th>\n",
       "      <th></th>\n",
       "      <th></th>\n",
       "      <th></th>\n",
       "      <th></th>\n",
       "    </tr>\n",
       "  </thead>\n",
       "  <tbody>\n",
       "    <tr>\n",
       "      <th>Afghanistan</th>\n",
       "      <td>64.023</td>\n",
       "      <td>61.640</td>\n",
       "      <td>59.367</td>\n",
       "      <td>57.170</td>\n",
       "      <td>55.08</td>\n",
       "      <td>53.107</td>\n",
       "      <td>51.267</td>\n",
       "      <td>49.560</td>\n",
       "      <td>47.983</td>\n",
       "      <td>46.453</td>\n",
       "    </tr>\n",
       "    <tr>\n",
       "      <th>Albania</th>\n",
       "      <td>11.803</td>\n",
       "      <td>10.807</td>\n",
       "      <td>9.943</td>\n",
       "      <td>9.267</td>\n",
       "      <td>8.79</td>\n",
       "      <td>8.493</td>\n",
       "      <td>8.363</td>\n",
       "      <td>8.363</td>\n",
       "      <td>8.453</td>\n",
       "      <td>8.597</td>\n",
       "    </tr>\n",
       "    <tr>\n",
       "      <th>Algeria</th>\n",
       "      <td>23.540</td>\n",
       "      <td>22.907</td>\n",
       "      <td>22.450</td>\n",
       "      <td>22.117</td>\n",
       "      <td>21.85</td>\n",
       "      <td>21.587</td>\n",
       "      <td>21.257</td>\n",
       "      <td>20.850</td>\n",
       "      <td>20.407</td>\n",
       "      <td>19.930</td>\n",
       "    </tr>\n",
       "    <tr>\n",
       "      <th>Andorra</th>\n",
       "      <td>4.240</td>\n",
       "      <td>4.033</td>\n",
       "      <td>3.843</td>\n",
       "      <td>3.667</td>\n",
       "      <td>3.49</td>\n",
       "      <td>3.330</td>\n",
       "      <td>3.187</td>\n",
       "      <td>3.060</td>\n",
       "      <td>2.933</td>\n",
       "      <td>2.827</td>\n",
       "    </tr>\n",
       "  </tbody>\n",
       "</table>\n",
       "</div>"
      ],
      "text/plain": [
       "               2010    2011    2012    2013   2014    2015    2016    2017  \\\n",
       "Location                                                                     \n",
       "Afghanistan  64.023  61.640  59.367  57.170  55.08  53.107  51.267  49.560   \n",
       "Albania      11.803  10.807   9.943   9.267   8.79   8.493   8.363   8.363   \n",
       "Algeria      23.540  22.907  22.450  22.117  21.85  21.587  21.257  20.850   \n",
       "Andorra       4.240   4.033   3.843   3.667   3.49   3.330   3.187   3.060   \n",
       "\n",
       "               2018    2019  \n",
       "Location                     \n",
       "Afghanistan  47.983  46.453  \n",
       "Albania       8.453   8.597  \n",
       "Algeria      20.407  19.930  \n",
       "Andorra       2.933   2.827  "
      ]
     },
     "metadata": {},
     "output_type": "display_data"
    },
    {
     "data": {
      "text/html": [
       "<div>\n",
       "<style scoped>\n",
       "    .dataframe tbody tr th:only-of-type {\n",
       "        vertical-align: middle;\n",
       "    }\n",
       "\n",
       "    .dataframe tbody tr th {\n",
       "        vertical-align: top;\n",
       "    }\n",
       "\n",
       "    .dataframe thead th {\n",
       "        text-align: right;\n",
       "    }\n",
       "</style>\n",
       "<table border=\"1\" class=\"dataframe\">\n",
       "  <thead>\n",
       "    <tr style=\"text-align: right;\">\n",
       "      <th></th>\n",
       "      <th>2010</th>\n",
       "      <th>2011</th>\n",
       "      <th>2012</th>\n",
       "      <th>2013</th>\n",
       "      <th>2014</th>\n",
       "      <th>2015</th>\n",
       "      <th>2016</th>\n",
       "      <th>2017</th>\n",
       "      <th>2018</th>\n",
       "      <th>2019</th>\n",
       "    </tr>\n",
       "    <tr>\n",
       "      <th>Location</th>\n",
       "      <th></th>\n",
       "      <th></th>\n",
       "      <th></th>\n",
       "      <th></th>\n",
       "      <th></th>\n",
       "      <th></th>\n",
       "      <th></th>\n",
       "      <th></th>\n",
       "      <th></th>\n",
       "      <th></th>\n",
       "    </tr>\n",
       "  </thead>\n",
       "  <tbody>\n",
       "    <tr>\n",
       "      <th>Angola</th>\n",
       "      <td>75.713</td>\n",
       "      <td>71.280</td>\n",
       "      <td>67.233</td>\n",
       "      <td>63.570</td>\n",
       "      <td>60.430</td>\n",
       "      <td>57.757</td>\n",
       "      <td>55.510</td>\n",
       "      <td>53.460</td>\n",
       "      <td>51.757</td>\n",
       "      <td>50.093</td>\n",
       "    </tr>\n",
       "    <tr>\n",
       "      <th>Antigua and Barbuda</th>\n",
       "      <td>8.667</td>\n",
       "      <td>8.223</td>\n",
       "      <td>7.807</td>\n",
       "      <td>7.420</td>\n",
       "      <td>7.070</td>\n",
       "      <td>6.757</td>\n",
       "      <td>6.483</td>\n",
       "      <td>6.230</td>\n",
       "      <td>6.000</td>\n",
       "      <td>5.783</td>\n",
       "    </tr>\n",
       "    <tr>\n",
       "      <th>Argentina</th>\n",
       "      <td>12.887</td>\n",
       "      <td>12.380</td>\n",
       "      <td>11.840</td>\n",
       "      <td>11.283</td>\n",
       "      <td>10.733</td>\n",
       "      <td>10.203</td>\n",
       "      <td>9.683</td>\n",
       "      <td>9.177</td>\n",
       "      <td>8.680</td>\n",
       "      <td>8.227</td>\n",
       "    </tr>\n",
       "    <tr>\n",
       "      <th>Armenia</th>\n",
       "      <td>16.497</td>\n",
       "      <td>15.677</td>\n",
       "      <td>14.897</td>\n",
       "      <td>14.170</td>\n",
       "      <td>13.477</td>\n",
       "      <td>12.817</td>\n",
       "      <td>12.183</td>\n",
       "      <td>11.583</td>\n",
       "      <td>11.007</td>\n",
       "      <td>10.497</td>\n",
       "    </tr>\n",
       "    <tr>\n",
       "      <th>Australia</th>\n",
       "      <td>3.993</td>\n",
       "      <td>3.803</td>\n",
       "      <td>3.623</td>\n",
       "      <td>3.467</td>\n",
       "      <td>3.343</td>\n",
       "      <td>3.253</td>\n",
       "      <td>3.183</td>\n",
       "      <td>3.137</td>\n",
       "      <td>3.090</td>\n",
       "      <td>3.047</td>\n",
       "    </tr>\n",
       "    <tr>\n",
       "      <th>Austria</th>\n",
       "      <td>3.573</td>\n",
       "      <td>3.463</td>\n",
       "      <td>3.333</td>\n",
       "      <td>3.210</td>\n",
       "      <td>3.113</td>\n",
       "      <td>3.043</td>\n",
       "      <td>2.987</td>\n",
       "      <td>2.943</td>\n",
       "      <td>2.897</td>\n",
       "      <td>2.843</td>\n",
       "    </tr>\n",
       "  </tbody>\n",
       "</table>\n",
       "</div>"
      ],
      "text/plain": [
       "                       2010    2011    2012    2013    2014    2015    2016  \\\n",
       "Location                                                                      \n",
       "Angola               75.713  71.280  67.233  63.570  60.430  57.757  55.510   \n",
       "Antigua and Barbuda   8.667   8.223   7.807   7.420   7.070   6.757   6.483   \n",
       "Argentina            12.887  12.380  11.840  11.283  10.733  10.203   9.683   \n",
       "Armenia              16.497  15.677  14.897  14.170  13.477  12.817  12.183   \n",
       "Australia             3.993   3.803   3.623   3.467   3.343   3.253   3.183   \n",
       "Austria               3.573   3.463   3.333   3.210   3.113   3.043   2.987   \n",
       "\n",
       "                       2017    2018    2019  \n",
       "Location                                     \n",
       "Angola               53.460  51.757  50.093  \n",
       "Antigua and Barbuda   6.230   6.000   5.783  \n",
       "Argentina             9.177   8.680   8.227  \n",
       "Armenia              11.583  11.007  10.497  \n",
       "Australia             3.137   3.090   3.047  \n",
       "Austria               2.943   2.897   2.843  "
      ]
     },
     "metadata": {},
     "output_type": "display_data"
    }
   ],
   "source": [
    "dataUrl = \"https://raw.githubusercontent.com/Datamanim/pandas/main/mergeTEst.csv\"\n",
    "\n",
    "df = pd.read_csv(dataUrl, index_col=0)   # 첫번째 열은 인덱스 열로 설정\n",
    "\n",
    "df1 = df.iloc[:4, :]\n",
    "df2 = df.iloc[4:, :]\n",
    "\n",
    "display(df1)\n",
    "display(df2)"
   ]
  },
  {
   "cell_type": "code",
   "execution_count": 192,
   "metadata": {},
   "outputs": [
    {
     "data": {
      "text/html": [
       "<div>\n",
       "<style scoped>\n",
       "    .dataframe tbody tr th:only-of-type {\n",
       "        vertical-align: middle;\n",
       "    }\n",
       "\n",
       "    .dataframe tbody tr th {\n",
       "        vertical-align: top;\n",
       "    }\n",
       "\n",
       "    .dataframe thead th {\n",
       "        text-align: right;\n",
       "    }\n",
       "</style>\n",
       "<table border=\"1\" class=\"dataframe\">\n",
       "  <thead>\n",
       "    <tr style=\"text-align: right;\">\n",
       "      <th></th>\n",
       "      <th>2010</th>\n",
       "      <th>2011</th>\n",
       "      <th>2012</th>\n",
       "      <th>2013</th>\n",
       "    </tr>\n",
       "    <tr>\n",
       "      <th>Location</th>\n",
       "      <th></th>\n",
       "      <th></th>\n",
       "      <th></th>\n",
       "      <th></th>\n",
       "    </tr>\n",
       "  </thead>\n",
       "  <tbody>\n",
       "    <tr>\n",
       "      <th>Afghanistan</th>\n",
       "      <td>64.023</td>\n",
       "      <td>61.640</td>\n",
       "      <td>59.367</td>\n",
       "      <td>57.170</td>\n",
       "    </tr>\n",
       "    <tr>\n",
       "      <th>Albania</th>\n",
       "      <td>11.803</td>\n",
       "      <td>10.807</td>\n",
       "      <td>9.943</td>\n",
       "      <td>9.267</td>\n",
       "    </tr>\n",
       "  </tbody>\n",
       "</table>\n",
       "</div>"
      ],
      "text/plain": [
       "               2010    2011    2012    2013\n",
       "Location                                   \n",
       "Afghanistan  64.023  61.640  59.367  57.170\n",
       "Albania      11.803  10.807   9.943   9.267"
      ]
     },
     "metadata": {},
     "output_type": "display_data"
    },
    {
     "data": {
      "text/html": [
       "<div>\n",
       "<style scoped>\n",
       "    .dataframe tbody tr th:only-of-type {\n",
       "        vertical-align: middle;\n",
       "    }\n",
       "\n",
       "    .dataframe tbody tr th {\n",
       "        vertical-align: top;\n",
       "    }\n",
       "\n",
       "    .dataframe thead th {\n",
       "        text-align: right;\n",
       "    }\n",
       "</style>\n",
       "<table border=\"1\" class=\"dataframe\">\n",
       "  <thead>\n",
       "    <tr style=\"text-align: right;\">\n",
       "      <th></th>\n",
       "      <th>2013</th>\n",
       "      <th>2014</th>\n",
       "      <th>2015</th>\n",
       "      <th>2016</th>\n",
       "      <th>2017</th>\n",
       "      <th>2018</th>\n",
       "      <th>2019</th>\n",
       "    </tr>\n",
       "    <tr>\n",
       "      <th>Location</th>\n",
       "      <th></th>\n",
       "      <th></th>\n",
       "      <th></th>\n",
       "      <th></th>\n",
       "      <th></th>\n",
       "      <th></th>\n",
       "      <th></th>\n",
       "    </tr>\n",
       "  </thead>\n",
       "  <tbody>\n",
       "    <tr>\n",
       "      <th>Antigua and Barbuda</th>\n",
       "      <td>7.420</td>\n",
       "      <td>7.070</td>\n",
       "      <td>6.757</td>\n",
       "      <td>6.483</td>\n",
       "      <td>6.230</td>\n",
       "      <td>6.000</td>\n",
       "      <td>5.783</td>\n",
       "    </tr>\n",
       "    <tr>\n",
       "      <th>Argentina</th>\n",
       "      <td>11.283</td>\n",
       "      <td>10.733</td>\n",
       "      <td>10.203</td>\n",
       "      <td>9.683</td>\n",
       "      <td>9.177</td>\n",
       "      <td>8.680</td>\n",
       "      <td>8.227</td>\n",
       "    </tr>\n",
       "    <tr>\n",
       "      <th>Armenia</th>\n",
       "      <td>14.170</td>\n",
       "      <td>13.477</td>\n",
       "      <td>12.817</td>\n",
       "      <td>12.183</td>\n",
       "      <td>11.583</td>\n",
       "      <td>11.007</td>\n",
       "      <td>10.497</td>\n",
       "    </tr>\n",
       "    <tr>\n",
       "      <th>Australia</th>\n",
       "      <td>3.467</td>\n",
       "      <td>3.343</td>\n",
       "      <td>3.253</td>\n",
       "      <td>3.183</td>\n",
       "      <td>3.137</td>\n",
       "      <td>3.090</td>\n",
       "      <td>3.047</td>\n",
       "    </tr>\n",
       "    <tr>\n",
       "      <th>Austria</th>\n",
       "      <td>3.210</td>\n",
       "      <td>3.113</td>\n",
       "      <td>3.043</td>\n",
       "      <td>2.987</td>\n",
       "      <td>2.943</td>\n",
       "      <td>2.897</td>\n",
       "      <td>2.843</td>\n",
       "    </tr>\n",
       "  </tbody>\n",
       "</table>\n",
       "</div>"
      ],
      "text/plain": [
       "                       2013    2014    2015    2016    2017    2018    2019\n",
       "Location                                                                   \n",
       "Antigua and Barbuda   7.420   7.070   6.757   6.483   6.230   6.000   5.783\n",
       "Argentina            11.283  10.733  10.203   9.683   9.177   8.680   8.227\n",
       "Armenia              14.170  13.477  12.817  12.183  11.583  11.007  10.497\n",
       "Australia             3.467   3.343   3.253   3.183   3.137   3.090   3.047\n",
       "Austria               3.210   3.113   3.043   2.987   2.943   2.897   2.843"
      ]
     },
     "metadata": {},
     "output_type": "display_data"
    }
   ],
   "source": [
    "df3 = df.iloc[:2, :4]\n",
    "df4 = df.iloc[5:, 3:]\n",
    "\n",
    "display(df3)\n",
    "display(df4)"
   ]
  },
  {
   "cell_type": "code",
   "execution_count": 193,
   "metadata": {},
   "outputs": [
    {
     "data": {
      "text/html": [
       "<div>\n",
       "<style scoped>\n",
       "    .dataframe tbody tr th:only-of-type {\n",
       "        vertical-align: middle;\n",
       "    }\n",
       "\n",
       "    .dataframe tbody tr th {\n",
       "        vertical-align: top;\n",
       "    }\n",
       "\n",
       "    .dataframe thead th {\n",
       "        text-align: right;\n",
       "    }\n",
       "</style>\n",
       "<table border=\"1\" class=\"dataframe\">\n",
       "  <thead>\n",
       "    <tr style=\"text-align: right;\">\n",
       "      <th>Location</th>\n",
       "      <th>Afghanistan</th>\n",
       "      <th>Albania</th>\n",
       "      <th>Algeria</th>\n",
       "    </tr>\n",
       "  </thead>\n",
       "  <tbody>\n",
       "    <tr>\n",
       "      <th>2010</th>\n",
       "      <td>64.023</td>\n",
       "      <td>11.803</td>\n",
       "      <td>23.540</td>\n",
       "    </tr>\n",
       "    <tr>\n",
       "      <th>2011</th>\n",
       "      <td>61.640</td>\n",
       "      <td>10.807</td>\n",
       "      <td>22.907</td>\n",
       "    </tr>\n",
       "    <tr>\n",
       "      <th>2012</th>\n",
       "      <td>59.367</td>\n",
       "      <td>9.943</td>\n",
       "      <td>22.450</td>\n",
       "    </tr>\n",
       "    <tr>\n",
       "      <th>2013</th>\n",
       "      <td>57.170</td>\n",
       "      <td>9.267</td>\n",
       "      <td>22.117</td>\n",
       "    </tr>\n",
       "    <tr>\n",
       "      <th>2014</th>\n",
       "      <td>55.080</td>\n",
       "      <td>8.790</td>\n",
       "      <td>21.850</td>\n",
       "    </tr>\n",
       "    <tr>\n",
       "      <th>2015</th>\n",
       "      <td>53.107</td>\n",
       "      <td>8.493</td>\n",
       "      <td>21.587</td>\n",
       "    </tr>\n",
       "    <tr>\n",
       "      <th>2016</th>\n",
       "      <td>51.267</td>\n",
       "      <td>8.363</td>\n",
       "      <td>21.257</td>\n",
       "    </tr>\n",
       "  </tbody>\n",
       "</table>\n",
       "</div>"
      ],
      "text/plain": [
       "Location  Afghanistan  Albania  Algeria\n",
       "2010           64.023   11.803   23.540\n",
       "2011           61.640   10.807   22.907\n",
       "2012           59.367    9.943   22.450\n",
       "2013           57.170    9.267   22.117\n",
       "2014           55.080    8.790   21.850\n",
       "2015           53.107    8.493   21.587\n",
       "2016           51.267    8.363   21.257"
      ]
     },
     "metadata": {},
     "output_type": "display_data"
    },
    {
     "data": {
      "text/html": [
       "<div>\n",
       "<style scoped>\n",
       "    .dataframe tbody tr th:only-of-type {\n",
       "        vertical-align: middle;\n",
       "    }\n",
       "\n",
       "    .dataframe tbody tr th {\n",
       "        vertical-align: top;\n",
       "    }\n",
       "\n",
       "    .dataframe thead th {\n",
       "        text-align: right;\n",
       "    }\n",
       "</style>\n",
       "<table border=\"1\" class=\"dataframe\">\n",
       "  <thead>\n",
       "    <tr style=\"text-align: right;\">\n",
       "      <th>Location</th>\n",
       "      <th>Algeria</th>\n",
       "      <th>Andorra</th>\n",
       "      <th>Angola</th>\n",
       "    </tr>\n",
       "  </thead>\n",
       "  <tbody>\n",
       "    <tr>\n",
       "      <th>2016</th>\n",
       "      <td>21.257</td>\n",
       "      <td>3.187</td>\n",
       "      <td>55.510</td>\n",
       "    </tr>\n",
       "    <tr>\n",
       "      <th>2017</th>\n",
       "      <td>20.850</td>\n",
       "      <td>3.060</td>\n",
       "      <td>53.460</td>\n",
       "    </tr>\n",
       "    <tr>\n",
       "      <th>2018</th>\n",
       "      <td>20.407</td>\n",
       "      <td>2.933</td>\n",
       "      <td>51.757</td>\n",
       "    </tr>\n",
       "    <tr>\n",
       "      <th>2019</th>\n",
       "      <td>19.930</td>\n",
       "      <td>2.827</td>\n",
       "      <td>50.093</td>\n",
       "    </tr>\n",
       "  </tbody>\n",
       "</table>\n",
       "</div>"
      ],
      "text/plain": [
       "Location  Algeria  Andorra  Angola\n",
       "2016       21.257    3.187  55.510\n",
       "2017       20.850    3.060  53.460\n",
       "2018       20.407    2.933  51.757\n",
       "2019       19.930    2.827  50.093"
      ]
     },
     "metadata": {},
     "output_type": "display_data"
    }
   ],
   "source": [
    "df5 = df.T.iloc[:7, :3]\n",
    "df6 = df.T.iloc[6:, 2:5]\n",
    "\n",
    "display(df5)\n",
    "display(df6)"
   ]
  },
  {
   "cell_type": "markdown",
   "metadata": {},
   "source": [
    "### P91. `df1`과 `df2` 데이터를 하나의 데이터프레임으로 합치기"
   ]
  },
  {
   "cell_type": "code",
   "execution_count": 194,
   "metadata": {},
   "outputs": [
    {
     "data": {
      "text/html": [
       "<div>\n",
       "<style scoped>\n",
       "    .dataframe tbody tr th:only-of-type {\n",
       "        vertical-align: middle;\n",
       "    }\n",
       "\n",
       "    .dataframe tbody tr th {\n",
       "        vertical-align: top;\n",
       "    }\n",
       "\n",
       "    .dataframe thead th {\n",
       "        text-align: right;\n",
       "    }\n",
       "</style>\n",
       "<table border=\"1\" class=\"dataframe\">\n",
       "  <thead>\n",
       "    <tr style=\"text-align: right;\">\n",
       "      <th></th>\n",
       "      <th>2010</th>\n",
       "      <th>2011</th>\n",
       "      <th>2012</th>\n",
       "      <th>2013</th>\n",
       "      <th>2014</th>\n",
       "      <th>2015</th>\n",
       "      <th>2016</th>\n",
       "      <th>2017</th>\n",
       "      <th>2018</th>\n",
       "      <th>2019</th>\n",
       "    </tr>\n",
       "    <tr>\n",
       "      <th>Location</th>\n",
       "      <th></th>\n",
       "      <th></th>\n",
       "      <th></th>\n",
       "      <th></th>\n",
       "      <th></th>\n",
       "      <th></th>\n",
       "      <th></th>\n",
       "      <th></th>\n",
       "      <th></th>\n",
       "      <th></th>\n",
       "    </tr>\n",
       "  </thead>\n",
       "  <tbody>\n",
       "    <tr>\n",
       "      <th>Afghanistan</th>\n",
       "      <td>64.023</td>\n",
       "      <td>61.640</td>\n",
       "      <td>59.367</td>\n",
       "      <td>57.170</td>\n",
       "      <td>55.080</td>\n",
       "      <td>53.107</td>\n",
       "      <td>51.267</td>\n",
       "      <td>49.560</td>\n",
       "      <td>47.983</td>\n",
       "      <td>46.453</td>\n",
       "    </tr>\n",
       "    <tr>\n",
       "      <th>Albania</th>\n",
       "      <td>11.803</td>\n",
       "      <td>10.807</td>\n",
       "      <td>9.943</td>\n",
       "      <td>9.267</td>\n",
       "      <td>8.790</td>\n",
       "      <td>8.493</td>\n",
       "      <td>8.363</td>\n",
       "      <td>8.363</td>\n",
       "      <td>8.453</td>\n",
       "      <td>8.597</td>\n",
       "    </tr>\n",
       "    <tr>\n",
       "      <th>Algeria</th>\n",
       "      <td>23.540</td>\n",
       "      <td>22.907</td>\n",
       "      <td>22.450</td>\n",
       "      <td>22.117</td>\n",
       "      <td>21.850</td>\n",
       "      <td>21.587</td>\n",
       "      <td>21.257</td>\n",
       "      <td>20.850</td>\n",
       "      <td>20.407</td>\n",
       "      <td>19.930</td>\n",
       "    </tr>\n",
       "    <tr>\n",
       "      <th>Andorra</th>\n",
       "      <td>4.240</td>\n",
       "      <td>4.033</td>\n",
       "      <td>3.843</td>\n",
       "      <td>3.667</td>\n",
       "      <td>3.490</td>\n",
       "      <td>3.330</td>\n",
       "      <td>3.187</td>\n",
       "      <td>3.060</td>\n",
       "      <td>2.933</td>\n",
       "      <td>2.827</td>\n",
       "    </tr>\n",
       "    <tr>\n",
       "      <th>Angola</th>\n",
       "      <td>75.713</td>\n",
       "      <td>71.280</td>\n",
       "      <td>67.233</td>\n",
       "      <td>63.570</td>\n",
       "      <td>60.430</td>\n",
       "      <td>57.757</td>\n",
       "      <td>55.510</td>\n",
       "      <td>53.460</td>\n",
       "      <td>51.757</td>\n",
       "      <td>50.093</td>\n",
       "    </tr>\n",
       "    <tr>\n",
       "      <th>Antigua and Barbuda</th>\n",
       "      <td>8.667</td>\n",
       "      <td>8.223</td>\n",
       "      <td>7.807</td>\n",
       "      <td>7.420</td>\n",
       "      <td>7.070</td>\n",
       "      <td>6.757</td>\n",
       "      <td>6.483</td>\n",
       "      <td>6.230</td>\n",
       "      <td>6.000</td>\n",
       "      <td>5.783</td>\n",
       "    </tr>\n",
       "    <tr>\n",
       "      <th>Argentina</th>\n",
       "      <td>12.887</td>\n",
       "      <td>12.380</td>\n",
       "      <td>11.840</td>\n",
       "      <td>11.283</td>\n",
       "      <td>10.733</td>\n",
       "      <td>10.203</td>\n",
       "      <td>9.683</td>\n",
       "      <td>9.177</td>\n",
       "      <td>8.680</td>\n",
       "      <td>8.227</td>\n",
       "    </tr>\n",
       "    <tr>\n",
       "      <th>Armenia</th>\n",
       "      <td>16.497</td>\n",
       "      <td>15.677</td>\n",
       "      <td>14.897</td>\n",
       "      <td>14.170</td>\n",
       "      <td>13.477</td>\n",
       "      <td>12.817</td>\n",
       "      <td>12.183</td>\n",
       "      <td>11.583</td>\n",
       "      <td>11.007</td>\n",
       "      <td>10.497</td>\n",
       "    </tr>\n",
       "    <tr>\n",
       "      <th>Australia</th>\n",
       "      <td>3.993</td>\n",
       "      <td>3.803</td>\n",
       "      <td>3.623</td>\n",
       "      <td>3.467</td>\n",
       "      <td>3.343</td>\n",
       "      <td>3.253</td>\n",
       "      <td>3.183</td>\n",
       "      <td>3.137</td>\n",
       "      <td>3.090</td>\n",
       "      <td>3.047</td>\n",
       "    </tr>\n",
       "    <tr>\n",
       "      <th>Austria</th>\n",
       "      <td>3.573</td>\n",
       "      <td>3.463</td>\n",
       "      <td>3.333</td>\n",
       "      <td>3.210</td>\n",
       "      <td>3.113</td>\n",
       "      <td>3.043</td>\n",
       "      <td>2.987</td>\n",
       "      <td>2.943</td>\n",
       "      <td>2.897</td>\n",
       "      <td>2.843</td>\n",
       "    </tr>\n",
       "  </tbody>\n",
       "</table>\n",
       "</div>"
      ],
      "text/plain": [
       "                       2010    2011    2012    2013    2014    2015    2016  \\\n",
       "Location                                                                      \n",
       "Afghanistan          64.023  61.640  59.367  57.170  55.080  53.107  51.267   \n",
       "Albania              11.803  10.807   9.943   9.267   8.790   8.493   8.363   \n",
       "Algeria              23.540  22.907  22.450  22.117  21.850  21.587  21.257   \n",
       "Andorra               4.240   4.033   3.843   3.667   3.490   3.330   3.187   \n",
       "Angola               75.713  71.280  67.233  63.570  60.430  57.757  55.510   \n",
       "Antigua and Barbuda   8.667   8.223   7.807   7.420   7.070   6.757   6.483   \n",
       "Argentina            12.887  12.380  11.840  11.283  10.733  10.203   9.683   \n",
       "Armenia              16.497  15.677  14.897  14.170  13.477  12.817  12.183   \n",
       "Australia             3.993   3.803   3.623   3.467   3.343   3.253   3.183   \n",
       "Austria               3.573   3.463   3.333   3.210   3.113   3.043   2.987   \n",
       "\n",
       "                       2017    2018    2019  \n",
       "Location                                     \n",
       "Afghanistan          49.560  47.983  46.453  \n",
       "Albania               8.363   8.453   8.597  \n",
       "Algeria              20.850  20.407  19.930  \n",
       "Andorra               3.060   2.933   2.827  \n",
       "Angola               53.460  51.757  50.093  \n",
       "Antigua and Barbuda   6.230   6.000   5.783  \n",
       "Argentina             9.177   8.680   8.227  \n",
       "Armenia              11.583  11.007  10.497  \n",
       "Australia             3.137   3.090   3.047  \n",
       "Austria               2.943   2.897   2.843  "
      ]
     },
     "execution_count": 194,
     "metadata": {},
     "output_type": "execute_result"
    }
   ],
   "source": [
    "# df1과 df2 데이터를 하나의 데이터 프레임으로 합치기\n",
    "total = pd.concat([df1, df2])   # 대괄호([]) 안에 합칠 컬럼명을 넣는다.\n",
    "Ans = total\n",
    "\n",
    "Ans"
   ]
  },
  {
   "cell_type": "markdown",
   "metadata": {},
   "source": [
    "### P92. `df3`과 `df4` 데이터를 하나의 데이터프레임으로 합치기 \n",
    "\n",
    "※ 둘 다 포함하고 있는 년도에 대해서만 고려하기"
   ]
  },
  {
   "cell_type": "code",
   "execution_count": 195,
   "metadata": {},
   "outputs": [
    {
     "data": {
      "text/html": [
       "<div>\n",
       "<style scoped>\n",
       "    .dataframe tbody tr th:only-of-type {\n",
       "        vertical-align: middle;\n",
       "    }\n",
       "\n",
       "    .dataframe tbody tr th {\n",
       "        vertical-align: top;\n",
       "    }\n",
       "\n",
       "    .dataframe thead th {\n",
       "        text-align: right;\n",
       "    }\n",
       "</style>\n",
       "<table border=\"1\" class=\"dataframe\">\n",
       "  <thead>\n",
       "    <tr style=\"text-align: right;\">\n",
       "      <th></th>\n",
       "      <th>2013</th>\n",
       "    </tr>\n",
       "    <tr>\n",
       "      <th>Location</th>\n",
       "      <th></th>\n",
       "    </tr>\n",
       "  </thead>\n",
       "  <tbody>\n",
       "    <tr>\n",
       "      <th>Afghanistan</th>\n",
       "      <td>57.170</td>\n",
       "    </tr>\n",
       "    <tr>\n",
       "      <th>Albania</th>\n",
       "      <td>9.267</td>\n",
       "    </tr>\n",
       "    <tr>\n",
       "      <th>Antigua and Barbuda</th>\n",
       "      <td>7.420</td>\n",
       "    </tr>\n",
       "    <tr>\n",
       "      <th>Argentina</th>\n",
       "      <td>11.283</td>\n",
       "    </tr>\n",
       "    <tr>\n",
       "      <th>Armenia</th>\n",
       "      <td>14.170</td>\n",
       "    </tr>\n",
       "    <tr>\n",
       "      <th>Australia</th>\n",
       "      <td>3.467</td>\n",
       "    </tr>\n",
       "    <tr>\n",
       "      <th>Austria</th>\n",
       "      <td>3.210</td>\n",
       "    </tr>\n",
       "  </tbody>\n",
       "</table>\n",
       "</div>"
      ],
      "text/plain": [
       "                       2013\n",
       "Location                   \n",
       "Afghanistan          57.170\n",
       "Albania               9.267\n",
       "Antigua and Barbuda   7.420\n",
       "Argentina            11.283\n",
       "Armenia              14.170\n",
       "Australia             3.467\n",
       "Austria               3.210"
      ]
     },
     "execution_count": 195,
     "metadata": {},
     "output_type": "execute_result"
    }
   ],
   "source": [
    "# df3와 df4 데이터를 하나의 데이터프레임으로 합치기\n",
    "Ans = pd.concat([df3, df4], join='inner')   # 둘 다 포함하고 있는 년도에 대해서만 고려\n",
    "\n",
    "Ans"
   ]
  },
  {
   "cell_type": "markdown",
   "metadata": {},
   "source": [
    "### P93. `df3`과 `df4` 데이터를 하나의 데이터프레임으로 합치기\n",
    "\n",
    "※ 모든 컬럼은 포함하고, 결측치는 0으로 대체하기"
   ]
  },
  {
   "cell_type": "code",
   "execution_count": 196,
   "metadata": {},
   "outputs": [
    {
     "data": {
      "text/html": [
       "<div>\n",
       "<style scoped>\n",
       "    .dataframe tbody tr th:only-of-type {\n",
       "        vertical-align: middle;\n",
       "    }\n",
       "\n",
       "    .dataframe tbody tr th {\n",
       "        vertical-align: top;\n",
       "    }\n",
       "\n",
       "    .dataframe thead th {\n",
       "        text-align: right;\n",
       "    }\n",
       "</style>\n",
       "<table border=\"1\" class=\"dataframe\">\n",
       "  <thead>\n",
       "    <tr style=\"text-align: right;\">\n",
       "      <th></th>\n",
       "      <th>2010</th>\n",
       "      <th>2011</th>\n",
       "      <th>2012</th>\n",
       "      <th>2013</th>\n",
       "      <th>2014</th>\n",
       "      <th>2015</th>\n",
       "      <th>2016</th>\n",
       "      <th>2017</th>\n",
       "      <th>2018</th>\n",
       "      <th>2019</th>\n",
       "    </tr>\n",
       "    <tr>\n",
       "      <th>Location</th>\n",
       "      <th></th>\n",
       "      <th></th>\n",
       "      <th></th>\n",
       "      <th></th>\n",
       "      <th></th>\n",
       "      <th></th>\n",
       "      <th></th>\n",
       "      <th></th>\n",
       "      <th></th>\n",
       "      <th></th>\n",
       "    </tr>\n",
       "  </thead>\n",
       "  <tbody>\n",
       "    <tr>\n",
       "      <th>Afghanistan</th>\n",
       "      <td>64.023</td>\n",
       "      <td>61.640</td>\n",
       "      <td>59.367</td>\n",
       "      <td>57.170</td>\n",
       "      <td>0.000</td>\n",
       "      <td>0.000</td>\n",
       "      <td>0.000</td>\n",
       "      <td>0.000</td>\n",
       "      <td>0.000</td>\n",
       "      <td>0.000</td>\n",
       "    </tr>\n",
       "    <tr>\n",
       "      <th>Albania</th>\n",
       "      <td>11.803</td>\n",
       "      <td>10.807</td>\n",
       "      <td>9.943</td>\n",
       "      <td>9.267</td>\n",
       "      <td>0.000</td>\n",
       "      <td>0.000</td>\n",
       "      <td>0.000</td>\n",
       "      <td>0.000</td>\n",
       "      <td>0.000</td>\n",
       "      <td>0.000</td>\n",
       "    </tr>\n",
       "    <tr>\n",
       "      <th>Antigua and Barbuda</th>\n",
       "      <td>0.000</td>\n",
       "      <td>0.000</td>\n",
       "      <td>0.000</td>\n",
       "      <td>7.420</td>\n",
       "      <td>7.070</td>\n",
       "      <td>6.757</td>\n",
       "      <td>6.483</td>\n",
       "      <td>6.230</td>\n",
       "      <td>6.000</td>\n",
       "      <td>5.783</td>\n",
       "    </tr>\n",
       "    <tr>\n",
       "      <th>Argentina</th>\n",
       "      <td>0.000</td>\n",
       "      <td>0.000</td>\n",
       "      <td>0.000</td>\n",
       "      <td>11.283</td>\n",
       "      <td>10.733</td>\n",
       "      <td>10.203</td>\n",
       "      <td>9.683</td>\n",
       "      <td>9.177</td>\n",
       "      <td>8.680</td>\n",
       "      <td>8.227</td>\n",
       "    </tr>\n",
       "    <tr>\n",
       "      <th>Armenia</th>\n",
       "      <td>0.000</td>\n",
       "      <td>0.000</td>\n",
       "      <td>0.000</td>\n",
       "      <td>14.170</td>\n",
       "      <td>13.477</td>\n",
       "      <td>12.817</td>\n",
       "      <td>12.183</td>\n",
       "      <td>11.583</td>\n",
       "      <td>11.007</td>\n",
       "      <td>10.497</td>\n",
       "    </tr>\n",
       "    <tr>\n",
       "      <th>Australia</th>\n",
       "      <td>0.000</td>\n",
       "      <td>0.000</td>\n",
       "      <td>0.000</td>\n",
       "      <td>3.467</td>\n",
       "      <td>3.343</td>\n",
       "      <td>3.253</td>\n",
       "      <td>3.183</td>\n",
       "      <td>3.137</td>\n",
       "      <td>3.090</td>\n",
       "      <td>3.047</td>\n",
       "    </tr>\n",
       "    <tr>\n",
       "      <th>Austria</th>\n",
       "      <td>0.000</td>\n",
       "      <td>0.000</td>\n",
       "      <td>0.000</td>\n",
       "      <td>3.210</td>\n",
       "      <td>3.113</td>\n",
       "      <td>3.043</td>\n",
       "      <td>2.987</td>\n",
       "      <td>2.943</td>\n",
       "      <td>2.897</td>\n",
       "      <td>2.843</td>\n",
       "    </tr>\n",
       "  </tbody>\n",
       "</table>\n",
       "</div>"
      ],
      "text/plain": [
       "                       2010    2011    2012    2013    2014    2015    2016  \\\n",
       "Location                                                                      \n",
       "Afghanistan          64.023  61.640  59.367  57.170   0.000   0.000   0.000   \n",
       "Albania              11.803  10.807   9.943   9.267   0.000   0.000   0.000   \n",
       "Antigua and Barbuda   0.000   0.000   0.000   7.420   7.070   6.757   6.483   \n",
       "Argentina             0.000   0.000   0.000  11.283  10.733  10.203   9.683   \n",
       "Armenia               0.000   0.000   0.000  14.170  13.477  12.817  12.183   \n",
       "Australia             0.000   0.000   0.000   3.467   3.343   3.253   3.183   \n",
       "Austria               0.000   0.000   0.000   3.210   3.113   3.043   2.987   \n",
       "\n",
       "                       2017    2018    2019  \n",
       "Location                                     \n",
       "Afghanistan           0.000   0.000   0.000  \n",
       "Albania               0.000   0.000   0.000  \n",
       "Antigua and Barbuda   6.230   6.000   5.783  \n",
       "Argentina             9.177   8.680   8.227  \n",
       "Armenia              11.583  11.007  10.497  \n",
       "Australia             3.137   3.090   3.047  \n",
       "Austria               2.943   2.897   2.843  "
      ]
     },
     "execution_count": 196,
     "metadata": {},
     "output_type": "execute_result"
    }
   ],
   "source": [
    "Ans = pd.concat([df3, df4], join='outer').fillna(0)   # 모든 컬럼은 포함(outer)하고 결측치는 0으로 대체\n",
    "\n",
    "Ans"
   ]
  },
  {
   "cell_type": "markdown",
   "metadata": {},
   "source": [
    "### P94. `df5`와 `df6` 데이터를 하나의 데이터프레임으로 `merge` 함수를 이용하여 합치는데 `Algeria` 컬럼을 `key`로 하고 두 데이터를 모두 포함하는 데이터만 출력하기"
   ]
  },
  {
   "cell_type": "code",
   "execution_count": 197,
   "metadata": {},
   "outputs": [
    {
     "data": {
      "text/html": [
       "<div>\n",
       "<style scoped>\n",
       "    .dataframe tbody tr th:only-of-type {\n",
       "        vertical-align: middle;\n",
       "    }\n",
       "\n",
       "    .dataframe tbody tr th {\n",
       "        vertical-align: top;\n",
       "    }\n",
       "\n",
       "    .dataframe thead th {\n",
       "        text-align: right;\n",
       "    }\n",
       "</style>\n",
       "<table border=\"1\" class=\"dataframe\">\n",
       "  <thead>\n",
       "    <tr style=\"text-align: right;\">\n",
       "      <th>Location</th>\n",
       "      <th>Afghanistan</th>\n",
       "      <th>Albania</th>\n",
       "      <th>Algeria</th>\n",
       "      <th>Andorra</th>\n",
       "      <th>Angola</th>\n",
       "    </tr>\n",
       "  </thead>\n",
       "  <tbody>\n",
       "    <tr>\n",
       "      <th>0</th>\n",
       "      <td>51.267</td>\n",
       "      <td>8.363</td>\n",
       "      <td>21.257</td>\n",
       "      <td>3.187</td>\n",
       "      <td>55.51</td>\n",
       "    </tr>\n",
       "  </tbody>\n",
       "</table>\n",
       "</div>"
      ],
      "text/plain": [
       "Location  Afghanistan  Albania  Algeria  Andorra  Angola\n",
       "0              51.267    8.363   21.257    3.187   55.51"
      ]
     },
     "execution_count": 197,
     "metadata": {},
     "output_type": "execute_result"
    }
   ],
   "source": [
    "Ans = pd.merge(df5, df6, on='Algeria', how='inner')   # 교집합\n",
    "\n",
    "Ans"
   ]
  },
  {
   "cell_type": "markdown",
   "metadata": {},
   "source": [
    "### P95. `df5`와 `df6` 데이터를 하나의 데이터프레임으로 `merge` 함수를 이용하여 합치는데 `Algeria` 컬럼을 `key`로 하고 합집합으로 합치기"
   ]
  },
  {
   "cell_type": "code",
   "execution_count": 198,
   "metadata": {},
   "outputs": [
    {
     "data": {
      "text/html": [
       "<div>\n",
       "<style scoped>\n",
       "    .dataframe tbody tr th:only-of-type {\n",
       "        vertical-align: middle;\n",
       "    }\n",
       "\n",
       "    .dataframe tbody tr th {\n",
       "        vertical-align: top;\n",
       "    }\n",
       "\n",
       "    .dataframe thead th {\n",
       "        text-align: right;\n",
       "    }\n",
       "</style>\n",
       "<table border=\"1\" class=\"dataframe\">\n",
       "  <thead>\n",
       "    <tr style=\"text-align: right;\">\n",
       "      <th>Location</th>\n",
       "      <th>Afghanistan</th>\n",
       "      <th>Albania</th>\n",
       "      <th>Algeria</th>\n",
       "      <th>Andorra</th>\n",
       "      <th>Angola</th>\n",
       "    </tr>\n",
       "  </thead>\n",
       "  <tbody>\n",
       "    <tr>\n",
       "      <th>0</th>\n",
       "      <td>NaN</td>\n",
       "      <td>NaN</td>\n",
       "      <td>19.930</td>\n",
       "      <td>2.827</td>\n",
       "      <td>50.093</td>\n",
       "    </tr>\n",
       "    <tr>\n",
       "      <th>1</th>\n",
       "      <td>NaN</td>\n",
       "      <td>NaN</td>\n",
       "      <td>20.407</td>\n",
       "      <td>2.933</td>\n",
       "      <td>51.757</td>\n",
       "    </tr>\n",
       "    <tr>\n",
       "      <th>2</th>\n",
       "      <td>NaN</td>\n",
       "      <td>NaN</td>\n",
       "      <td>20.850</td>\n",
       "      <td>3.060</td>\n",
       "      <td>53.460</td>\n",
       "    </tr>\n",
       "    <tr>\n",
       "      <th>3</th>\n",
       "      <td>51.267</td>\n",
       "      <td>8.363</td>\n",
       "      <td>21.257</td>\n",
       "      <td>3.187</td>\n",
       "      <td>55.510</td>\n",
       "    </tr>\n",
       "    <tr>\n",
       "      <th>4</th>\n",
       "      <td>53.107</td>\n",
       "      <td>8.493</td>\n",
       "      <td>21.587</td>\n",
       "      <td>NaN</td>\n",
       "      <td>NaN</td>\n",
       "    </tr>\n",
       "    <tr>\n",
       "      <th>5</th>\n",
       "      <td>55.080</td>\n",
       "      <td>8.790</td>\n",
       "      <td>21.850</td>\n",
       "      <td>NaN</td>\n",
       "      <td>NaN</td>\n",
       "    </tr>\n",
       "    <tr>\n",
       "      <th>6</th>\n",
       "      <td>57.170</td>\n",
       "      <td>9.267</td>\n",
       "      <td>22.117</td>\n",
       "      <td>NaN</td>\n",
       "      <td>NaN</td>\n",
       "    </tr>\n",
       "    <tr>\n",
       "      <th>7</th>\n",
       "      <td>59.367</td>\n",
       "      <td>9.943</td>\n",
       "      <td>22.450</td>\n",
       "      <td>NaN</td>\n",
       "      <td>NaN</td>\n",
       "    </tr>\n",
       "    <tr>\n",
       "      <th>8</th>\n",
       "      <td>61.640</td>\n",
       "      <td>10.807</td>\n",
       "      <td>22.907</td>\n",
       "      <td>NaN</td>\n",
       "      <td>NaN</td>\n",
       "    </tr>\n",
       "    <tr>\n",
       "      <th>9</th>\n",
       "      <td>64.023</td>\n",
       "      <td>11.803</td>\n",
       "      <td>23.540</td>\n",
       "      <td>NaN</td>\n",
       "      <td>NaN</td>\n",
       "    </tr>\n",
       "  </tbody>\n",
       "</table>\n",
       "</div>"
      ],
      "text/plain": [
       "Location  Afghanistan  Albania  Algeria  Andorra  Angola\n",
       "0                 NaN      NaN   19.930    2.827  50.093\n",
       "1                 NaN      NaN   20.407    2.933  51.757\n",
       "2                 NaN      NaN   20.850    3.060  53.460\n",
       "3              51.267    8.363   21.257    3.187  55.510\n",
       "4              53.107    8.493   21.587      NaN     NaN\n",
       "5              55.080    8.790   21.850      NaN     NaN\n",
       "6              57.170    9.267   22.117      NaN     NaN\n",
       "7              59.367    9.943   22.450      NaN     NaN\n",
       "8              61.640   10.807   22.907      NaN     NaN\n",
       "9              64.023   11.803   23.540      NaN     NaN"
      ]
     },
     "execution_count": 198,
     "metadata": {},
     "output_type": "execute_result"
    }
   ],
   "source": [
    "Ans = pd.merge(df5, df6, on='Algeria', how='outer')   # 합집합\n",
    "\n",
    "Ans"
   ]
  }
 ],
 "metadata": {
  "kernelspec": {
   "display_name": "bigdata",
   "language": "python",
   "name": "python3"
  },
  "language_info": {
   "codemirror_mode": {
    "name": "ipython",
    "version": 3
   },
   "file_extension": ".py",
   "mimetype": "text/x-python",
   "name": "python",
   "nbconvert_exporter": "python",
   "pygments_lexer": "ipython3",
   "version": "3.12.3"
  }
 },
 "nbformat": 4,
 "nbformat_minor": 2
}
