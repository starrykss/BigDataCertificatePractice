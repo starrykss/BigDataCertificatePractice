{
 "cells": [
  {
   "cell_type": "markdown",
   "metadata": {},
   "source": [
    "# 카이제곱 검정\n",
    "---"
   ]
  },
  {
   "cell_type": "markdown",
   "metadata": {},
   "source": [
    "## 1️⃣ 적합도 검정\n",
    "---"
   ]
  },
  {
   "cell_type": "markdown",
   "metadata": {},
   "source": [
    "Q. 주어진 데이터는 A 회사의 직원 200명을 대상으로 조사한 현재 사용하고 있는 스마트폰 제조사를 조사한 결과이다. 그리고 최근 조사에 따르면 국내 스마트폰 제조사 점유율은 삼성 60%, 애플 30%, 기타 10%라고 한다. 이를 이용하여 A 회사의 직원들이 사용하는 스마트폰 제조사 분포가 국내 스마트폰 제조사 점유율 분포와 동일한지 카이제곱 검정을 통해 검정하시오.\n",
    "\n",
    ">\n",
    "> H0 : A 회사 직원들이 사용하는 스마트폰 제조사 분포는 국내 스마트폰 제조사 점유율 분포를 따른다.\n",
    "> \n",
    "> H1 : A 회사 직원들이 사용하는 스마트폰 제조사 분포는 국내 스마트폰 제조사 점유율 분포를 따르지 않는다.\n",
    ">"
   ]
  },
  {
   "cell_type": "code",
   "execution_count": 3,
   "metadata": {},
   "outputs": [],
   "source": [
    "import pandas as pd\n",
    "import scipy.stats as stats\n",
    "\n",
    "df = pd.read_csv('./datasets/cellphone.csv')"
   ]
  },
  {
   "cell_type": "markdown",
   "metadata": {},
   "source": [
    "> 1. 삼성 제조사 스마트폰 사용 직원 수에서 애플 제조사 스마트폰 사용 직원 수를 뺀 값을 정수로 출력하시오."
   ]
  },
  {
   "cell_type": "code",
   "execution_count": 15,
   "metadata": {},
   "outputs": [
    {
     "name": "stdout",
     "output_type": "stream",
     "text": [
      "      id\n",
      "제조사     \n",
      "기타     5\n",
      "삼성   117\n",
      "애플    78\n",
      "39\n"
     ]
    }
   ],
   "source": [
    "df_counts = df.groupby(by='제조사').count()\n",
    "print(df_counts)\n",
    "\n",
    "count_samsung = df_counts.loc['삼성', 'id']\n",
    "count_apple = df_counts.loc['애플', 'id']\n",
    "\n",
    "answer = int(count_samsung - count_apple)\n",
    "print(answer)"
   ]
  },
  {
   "cell_type": "markdown",
   "metadata": {},
   "source": [
    "> 2. 문제에세 제시된 국내 스마트폰 제조사 점유율을 이용하여 기대 빈도를 계산하고, 위의 가설을 검정하기 위한 검정 통계량을 구하시오. (반올림하여 소수 둘째 자리까지 계산)"
   ]
  },
  {
   "cell_type": "code",
   "execution_count": 18,
   "metadata": {},
   "outputs": [
    {
     "name": "stdout",
     "output_type": "stream",
     "text": [
      "200\n",
      "[20.0, 120.0, 60.0]\n",
      "[  5 117  78]\n",
      "16.725 0.00023345995371416804\n",
      "16.73\n"
     ]
    }
   ],
   "source": [
    "# 기대 빈도 - 삼성 60, 애플 30, 기타 10\n",
    "total_sum = len(df)\n",
    "print(total_sum)\n",
    "\n",
    "expected = [(total_sum * 0.1), (total_sum * 0.6), (total_sum * 0.3)]   # 기타 삼성, 애플\n",
    "print(expected)\n",
    "\n",
    "# 관찰 빈도\n",
    "observed = df_counts['id'].values\n",
    "print(observed)\n",
    "\n",
    "# 카이제곱 검정\n",
    "stat, pvalue = stats.chisquare(observed, f_exp=expected)\n",
    "print(stat, pvalue)\n",
    "\n",
    "answer = round(stat, 2)\n",
    "print(answer)"
   ]
  },
  {
   "cell_type": "markdown",
   "metadata": {},
   "source": [
    "> 3. 위의 통계량에 대한 p-값을 구하고 (반올림하여 소수 넷째 자리까지 계산) 유의 수준 0.05 하에서 가설 검정의 결과를 (채택/기각) 중 하나를 선택하시오."
   ]
  },
  {
   "cell_type": "code",
   "execution_count": 20,
   "metadata": {},
   "outputs": [
    {
     "name": "stdout",
     "output_type": "stream",
     "text": [
      "0.0002\n",
      "기각\n"
     ]
    }
   ],
   "source": [
    "pvalue = round(pvalue, 4)\n",
    "print(pvalue)\n",
    "\n",
    "if pvalue > 0.05:\n",
    "    print(\"채택\")\n",
    "else:\n",
    "    print(\"기각\")"
   ]
  },
  {
   "cell_type": "markdown",
   "metadata": {},
   "source": [
    "## 2️⃣ 독립성 검정\n",
    "---"
   ]
  },
  {
   "cell_type": "markdown",
   "metadata": {},
   "source": [
    "Q. 주어진 데이터는 A 대학의 300명의 학생을 대상으로 학생이 속한 단과 대학과 이번 학기 수강 과목 수를 조사한 결과이다. 이를 이용하여 단과대학별로 수강 과목 수에 차이가 있는지 카이제곱 검정을 통해 검정하시오. 가설은 아래와 같다.\n",
    "\n",
    "> H_0 : 단과 대학과 수강 과목 수는 관련이 없다.\n",
    ">  \n",
    "> H_1 : 단과 대학과 수강 과목 수는 관련이 있다.\n",
    ">"
   ]
  },
  {
   "cell_type": "code",
   "execution_count": 21,
   "metadata": {},
   "outputs": [],
   "source": [
    "import pandas as pd\n",
    "import scipy.stats as stats\n",
    "\n",
    "df = pd.read_csv('./datasets/student.csv')"
   ]
  },
  {
   "cell_type": "markdown",
   "metadata": {},
   "source": [
    "> 1. 주어진 데이터로 단과 대학과 수강 과목 수로 분할표를 만들었을 때, 수강 과목 수가 6개 이상인 학생 수가 가장 많은 단과 대학을 출력하시오."
   ]
  },
  {
   "cell_type": "code",
   "execution_count": null,
   "metadata": {},
   "outputs": [
    {
     "name": "stdout",
     "output_type": "stream",
     "text": [
      "수강 과목 수  4개 이하  5개  6개 이상\n",
      "단과대학                     \n",
      "경영대학        12  78     30\n",
      "공과대학        30  42     28\n",
      "자연대학        30  42      8\n",
      "\n",
      "경영대학\n"
     ]
    }
   ],
   "source": [
    "# 분할표(교차표) 만들기\n",
    "table = pd.crosstab(df['단과대학'], df['수강 과목 수'])\n",
    "print(table)\n",
    "\n",
    "print()\n",
    "\n",
    "cond = (table['6개 이상'] == table['6개 이상'].max())\n",
    "answer = table[cond].index[0]\n",
    "print(answer)"
   ]
  },
  {
   "cell_type": "markdown",
   "metadata": {},
   "source": [
    "> 2. 위의 가설을 검정하기 위한 검정 통계량을 구하시오. (반올림하여 소수 둘째 자리까지 계산)"
   ]
  },
  {
   "cell_type": "code",
   "execution_count": 41,
   "metadata": {},
   "outputs": [
    {
     "name": "stdout",
     "output_type": "stream",
     "text": [
      "수강 과목 수\n",
      "4개 이하    12\n",
      "5개       78\n",
      "6개 이상    30\n",
      "Name: 경영대학, dtype: int64 수강 과목 수\n",
      "4개 이하    30\n",
      "5개       42\n",
      "6개 이상    28\n",
      "Name: 공과대학, dtype: int64 수강 과목 수\n",
      "4개 이하    30\n",
      "5개       42\n",
      "6개 이상     8\n",
      "Name: 자연대학, dtype: int64\n",
      "\n",
      "30.13\n"
     ]
    }
   ],
   "source": [
    "x1 = table.loc['경영대학', :]\n",
    "x2 = table.loc['공과대학', :]\n",
    "x3 = table.loc['자연대학', :]\n",
    "\n",
    "print(x1, x2, x3)\n",
    "print()\n",
    "\n",
    "stat, pval, _, _ = stats.chi2_contingency([x1, x2, x3])\n",
    "\n",
    "answer = round(stat, 2)\n",
    "print(answer)\n"
   ]
  },
  {
   "cell_type": "markdown",
   "metadata": {},
   "source": [
    "> 3. 위의 통계량에 대한 p-값을 구하고 (반올림하여 소수 넷째 자리까지 계산), 유의 수준 0.05 하에서 가설 검정의 결과를 (채택/기각) 중 하나를 선택하시오."
   ]
  },
  {
   "cell_type": "code",
   "execution_count": 43,
   "metadata": {},
   "outputs": [
    {
     "name": "stdout",
     "output_type": "stream",
     "text": [
      "0.0002\n",
      "기각\n"
     ]
    }
   ],
   "source": [
    "pvalue = round(pvalue, 4)\n",
    "print(pvalue)\n",
    "\n",
    "if pvalue > 0.05:\n",
    "    print(\"채택\")\n",
    "else:\n",
    "    print(\"기각\")"
   ]
  }
 ],
 "metadata": {
  "kernelspec": {
   "display_name": "bigdata",
   "language": "python",
   "name": "python3"
  },
  "language_info": {
   "codemirror_mode": {
    "name": "ipython",
    "version": 3
   },
   "file_extension": ".py",
   "mimetype": "text/x-python",
   "name": "python",
   "nbconvert_exporter": "python",
   "pygments_lexer": "ipython3",
   "version": "3.12.3"
  }
 },
 "nbformat": 4,
 "nbformat_minor": 2
}
