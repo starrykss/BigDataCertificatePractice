{
 "cells": [
  {
   "cell_type": "markdown",
   "metadata": {},
   "source": [
    "# ANOVA 분산 분석 실습\n",
    "---"
   ]
  },
  {
   "cell_type": "markdown",
   "metadata": {},
   "source": [
    "## One Way ANOVA (분산 분석)\n",
    "---\n",
    "\n",
    "- 세 집단의 평균 비교"
   ]
  },
  {
   "cell_type": "markdown",
   "metadata": {},
   "source": [
    "Q. 주어진 데이터는 붓꽃의 종, 꽃받침 길이와 너비, 꽃잎의 길이와 너비를 기록한 데이터이다. 이를 이용하여 붓꽃의 종(`species`)에 따라 꽃받침의 너비(`sepal_width`)가 차이 나는지 분산 분석으로 검정하시오. 가설은 아래와 같다.\n",
    "\n",
    "> **H0** : 붓꽃의 종에 따른 꽃받침 너비는 동일하다.\n",
    ">\n",
    "> **H1** : 적어도 하나의 붓꽃의 종에서 꽃받침 너비가 차이난다.\n",
    ">\n",
    "> (주어진 데이터가 정규성과 등분산성을 만족한다고 가정한다.)"
   ]
  },
  {
   "cell_type": "code",
   "execution_count": 1,
   "metadata": {},
   "outputs": [],
   "source": [
    "import pandas as pd\n",
    "import scipy.stats as stats\n",
    "\n",
    "df = pd.read_csv('./datasets/iris.csv')"
   ]
  },
  {
   "cell_type": "markdown",
   "metadata": {},
   "source": [
    "> 1. `versicolor` 종의 평균 꽃받침 너비를 구하시오. (소수 둘째 반올림)"
   ]
  },
  {
   "cell_type": "code",
   "execution_count": 4,
   "metadata": {},
   "outputs": [
    {
     "name": "stdout",
     "output_type": "stream",
     "text": [
      "2.77\n"
     ]
    }
   ],
   "source": [
    "cond = (df['species'] == 'versicolor')\n",
    "answer = round(df.loc[cond, 'sepal_width'].mean(), 2)\n",
    "\n",
    "print(answer)"
   ]
  },
  {
   "cell_type": "markdown",
   "metadata": {},
   "source": [
    "> 2. 위의 가설을 검정하기 위한 검정 통계량을 구하시오. (소수 둘째 반올림)"
   ]
  },
  {
   "cell_type": "code",
   "execution_count": null,
   "metadata": {},
   "outputs": [
    {
     "name": "stdout",
     "output_type": "stream",
     "text": [
      "49.16\n"
     ]
    }
   ],
   "source": [
    "cond1 = (df['species'] == 'setosa')\n",
    "x1 = df.loc[cond1, 'sepal_width']\n",
    "\n",
    "cond2 = (df['species'] == 'versicolor')\n",
    "x2 = df.loc[cond2, 'sepal_width']\n",
    "\n",
    "cond3 = (df['species'] == 'virginica')\n",
    "x3 = df.loc[cond3, 'sepal_width']\n",
    "\n",
    "# ANOVA 분산 분석 (3개 이상 모집단의 평균 비교)\n",
    "stat, pvalue = stats.f_oneway(x1, x2, x3)\n",
    "\n",
    "answer = round(stat, 2)\n",
    "print(answer)"
   ]
  },
  {
   "cell_type": "markdown",
   "metadata": {},
   "source": [
    "> 3. 위의 통계량에 대한 p-값을 구하고 (반올림 소수 넷째자리), 유의 수준 0.05 하에서 가설 검정의 결과를 채택/기각 중 하나를 선택하시오."
   ]
  },
  {
   "cell_type": "code",
   "execution_count": 7,
   "metadata": {},
   "outputs": [
    {
     "name": "stdout",
     "output_type": "stream",
     "text": [
      "0.0\n",
      "기각\n"
     ]
    }
   ],
   "source": [
    "pvalue = round(pvalue, 4)\n",
    "print(pvalue)\n",
    "\n",
    "if pvalue < 0.05:\n",
    "    print(\"기각\")\n",
    "else:\n",
    "    print(\"채택\")"
   ]
  }
 ],
 "metadata": {
  "kernelspec": {
   "display_name": "bigdata",
   "language": "python",
   "name": "python3"
  },
  "language_info": {
   "codemirror_mode": {
    "name": "ipython",
    "version": 3
   },
   "file_extension": ".py",
   "mimetype": "text/x-python",
   "name": "python",
   "nbconvert_exporter": "python",
   "pygments_lexer": "ipython3",
   "version": "3.12.3"
  }
 },
 "nbformat": 4,
 "nbformat_minor": 2
}
