{
 "cells": [
  {
   "cell_type": "markdown",
   "metadata": {},
   "source": [
    "# 분류 모델 완벽 마스터\n",
    "---"
   ]
  },
  {
   "cell_type": "code",
   "execution_count": 1,
   "metadata": {},
   "outputs": [],
   "source": [
    "import pandas as pd\n",
    "\n",
    "X_train = pd.read_csv('./datasets/stellar_X_train.csv')\n",
    "X_test = pd.read_csv('./datasets/stellar_X_test.csv')\n",
    "y_train = pd.read_csv('./datasets/stellar_y_train.csv')"
   ]
  },
  {
   "cell_type": "code",
   "execution_count": 5,
   "metadata": {},
   "outputs": [
    {
     "name": "stdout",
     "output_type": "stream",
     "text": [
      "(70000, 13) (30000, 13) (70000, 1)\n"
     ]
    }
   ],
   "source": [
    "print(X_train.shape, X_test.shape, y_train.shape)"
   ]
  },
  {
   "cell_type": "code",
   "execution_count": 2,
   "metadata": {},
   "outputs": [
    {
     "name": "stdout",
     "output_type": "stream",
     "text": [
      "<class 'pandas.core.frame.DataFrame'>\n",
      "RangeIndex: 70000 entries, 0 to 69999\n",
      "Data columns (total 13 columns):\n",
      " #   Column    Non-Null Count  Dtype  \n",
      "---  ------    --------------  -----  \n",
      " 0   alpha     70000 non-null  float64\n",
      " 1   delta     70000 non-null  float64\n",
      " 2   u         70000 non-null  float64\n",
      " 3   g         70000 non-null  float64\n",
      " 4   r         70000 non-null  float64\n",
      " 5   i         70000 non-null  float64\n",
      " 6   z         70000 non-null  float64\n",
      " 7   redshift  70000 non-null  float64\n",
      " 8   run_ID    70000 non-null  int64  \n",
      " 9   rerun_ID  70000 non-null  int64  \n",
      " 10  cam_col   70000 non-null  int64  \n",
      " 11  field_ID  70000 non-null  int64  \n",
      " 12  plate     70000 non-null  int64  \n",
      "dtypes: float64(8), int64(5)\n",
      "memory usage: 6.9 MB\n",
      "None\n"
     ]
    }
   ],
   "source": [
    "print(X_train.info())"
   ]
  },
  {
   "cell_type": "code",
   "execution_count": 3,
   "metadata": {},
   "outputs": [
    {
     "name": "stdout",
     "output_type": "stream",
     "text": [
      "<class 'pandas.core.frame.DataFrame'>\n",
      "RangeIndex: 30000 entries, 0 to 29999\n",
      "Data columns (total 13 columns):\n",
      " #   Column    Non-Null Count  Dtype  \n",
      "---  ------    --------------  -----  \n",
      " 0   alpha     30000 non-null  float64\n",
      " 1   delta     30000 non-null  float64\n",
      " 2   u         30000 non-null  float64\n",
      " 3   g         30000 non-null  float64\n",
      " 4   r         30000 non-null  float64\n",
      " 5   i         30000 non-null  float64\n",
      " 6   z         30000 non-null  float64\n",
      " 7   redshift  30000 non-null  float64\n",
      " 8   run_ID    30000 non-null  int64  \n",
      " 9   rerun_ID  30000 non-null  int64  \n",
      " 10  cam_col   30000 non-null  int64  \n",
      " 11  field_ID  30000 non-null  int64  \n",
      " 12  plate     30000 non-null  int64  \n",
      "dtypes: float64(8), int64(5)\n",
      "memory usage: 3.0 MB\n",
      "None\n"
     ]
    }
   ],
   "source": [
    "print(X_test.info())"
   ]
  },
  {
   "cell_type": "code",
   "execution_count": 4,
   "metadata": {},
   "outputs": [
    {
     "name": "stdout",
     "output_type": "stream",
     "text": [
      "<class 'pandas.core.frame.DataFrame'>\n",
      "RangeIndex: 70000 entries, 0 to 69999\n",
      "Data columns (total 1 columns):\n",
      " #   Column  Non-Null Count  Dtype\n",
      "---  ------  --------------  -----\n",
      " 0   galaxy  70000 non-null  int64\n",
      "dtypes: int64(1)\n",
      "memory usage: 547.0 KB\n",
      "None\n"
     ]
    }
   ],
   "source": [
    "print(y_train.info())"
   ]
  },
  {
   "cell_type": "code",
   "execution_count": 6,
   "metadata": {},
   "outputs": [
    {
     "name": "stdout",
     "output_type": "stream",
     "text": [
      "              alpha         delta             u             g             r  \\\n",
      "count  70000.000000  70000.000000  70000.000000  70000.000000  70000.000000   \n",
      "mean     177.535809     24.107885     21.938806     20.486718     19.644011   \n",
      "std       96.483093     19.665057     37.942814     37.925201      1.852053   \n",
      "min        0.005528    -18.785328  -9999.000000  -9999.000000      9.822070   \n",
      "25%      127.385304      5.115922     20.349987     18.957325     18.136183   \n",
      "50%      180.706865     23.579507     22.183860     21.095445     20.122805   \n",
      "75%      233.942154     39.871336     23.684145     22.121073     21.039012   \n",
      "max      359.999615     82.947622     32.781390     31.602240     29.571860   \n",
      "\n",
      "                  i             z      redshift        run_ID  rerun_ID  \\\n",
      "count  70000.000000  70000.000000  70000.000000  70000.000000   70000.0   \n",
      "mean      19.082969     18.624590      0.575246   4478.649443     301.0   \n",
      "std        1.755997     37.904705      0.729921   1965.326847       0.0   \n",
      "min        9.469903  -9999.000000     -0.009971    109.000000     301.0   \n",
      "25%       17.733732     17.463838      0.052602   3185.000000     301.0   \n",
      "50%       19.399590     19.001010      0.422838   4188.000000     301.0   \n",
      "75%       20.391340     19.917578      0.700399   5326.000000     301.0   \n",
      "max       32.141470     28.790550      7.011245   8162.000000     301.0   \n",
      "\n",
      "            cam_col      field_ID         plate  \n",
      "count  70000.000000  70000.000000  70000.000000  \n",
      "mean       3.510500    186.045714   5127.852900  \n",
      "std        1.585203    148.661268   2947.452991  \n",
      "min        1.000000     11.000000    266.000000  \n",
      "25%        2.000000     82.000000   2525.750000  \n",
      "50%        4.000000    146.000000   4978.000000  \n",
      "75%        5.000000    241.000000   7389.000000  \n",
      "max        6.000000    989.000000  12547.000000  \n"
     ]
    }
   ],
   "source": [
    "print(X_train.describe())"
   ]
  },
  {
   "cell_type": "code",
   "execution_count": 9,
   "metadata": {},
   "outputs": [
    {
     "name": "stdout",
     "output_type": "stream",
     "text": [
      "Empty DataFrame\n",
      "Columns: [alpha, delta, u, g, r, i, z, redshift, run_ID, rerun_ID, cam_col, field_ID, plate]\n",
      "Index: []\n",
      "Empty DataFrame\n",
      "Columns: [alpha, delta, u, g, r, i, z, redshift, run_ID, rerun_ID, cam_col, field_ID, plate]\n",
      "Index: []\n",
      "Empty DataFrame\n",
      "Columns: [alpha, delta, u, g, r, i, z, redshift, run_ID, rerun_ID, cam_col, field_ID, plate]\n",
      "Index: []\n",
      "              alpha         delta             u             g             r  \\\n",
      "count  69999.000000  69999.000000  69999.000000  69999.000000  69999.000000   \n",
      "mean     177.535145     24.108238     22.081964     20.629856     19.644032   \n",
      "std       96.483622     19.664976      2.248554      2.033576      1.852057   \n",
      "min        0.005528    -18.785328     10.996230     10.498200      9.822070   \n",
      "25%      127.384192      5.117238     20.350000     18.957435     18.136075   \n",
      "50%      180.705886     23.580630     22.183900     21.095450     20.122810   \n",
      "75%      233.942330     39.872079     23.684160     22.121075     21.039035   \n",
      "max      359.999615     82.947622     32.781390     31.602240     29.571860   \n",
      "\n",
      "                  i             z      redshift        run_ID  rerun_ID  \\\n",
      "count  69999.000000  69999.000000  69999.000000  69999.000000   69999.0   \n",
      "mean      19.082984     18.767701      0.575254   4478.702681     301.0   \n",
      "std        1.756005      1.764734      0.729923   1965.290408       0.0   \n",
      "min        9.469903      9.612333     -0.009971    109.000000     301.0   \n",
      "25%       17.733685     17.463885      0.052608   3185.000000     301.0   \n",
      "50%       19.399590     19.001020      0.422848   4188.000000     301.0   \n",
      "75%       20.391350     19.917595      0.700399   5326.000000     301.0   \n",
      "max       32.141470     28.790550      7.011245   8162.000000     301.0   \n",
      "\n",
      "            cam_col      field_ID         plate  \n",
      "count  69999.000000  69999.000000  69999.000000  \n",
      "mean       3.510522    186.040701   5127.878813  \n",
      "std        1.585204    148.656411   2947.466071  \n",
      "min        1.000000     11.000000    266.000000  \n",
      "25%        2.000000     82.000000   2525.500000  \n",
      "50%        4.000000    146.000000   4978.000000  \n",
      "75%        5.000000    241.000000   7389.000000  \n",
      "max        6.000000    989.000000  12547.000000  \n"
     ]
    }
   ],
   "source": [
    "# 이상치 탐색\n",
    "print(X_train[X_train['u'] == -9999])\n",
    "print(X_train[X_train['g'] == -9999])\n",
    "print(X_train[X_train['z'] == -9999])\n",
    "\n",
    "# 이상치 제거\n",
    "X_train = X_train.loc[X_train['u'] != -9999]\n",
    "X_train = X_train.loc[X_train['g'] != -9999]\n",
    "X_train = X_train.loc[X_train['z'] != -9999]\n",
    "\n",
    "# 인덱스 초기화\n",
    "X_train.reset_index(drop=True, inplace=True)\n",
    "y_train.reset_index(drop=True, inplace=True)\n",
    "\n",
    "print(X_train.describe())"
   ]
  },
  {
   "cell_type": "code",
   "execution_count": null,
   "metadata": {},
   "outputs": [],
   "source": []
  }
 ],
 "metadata": {
  "kernelspec": {
   "display_name": "bigdata",
   "language": "python",
   "name": "python3"
  },
  "language_info": {
   "codemirror_mode": {
    "name": "ipython",
    "version": 3
   },
   "file_extension": ".py",
   "mimetype": "text/x-python",
   "name": "python",
   "nbconvert_exporter": "python",
   "pygments_lexer": "ipython3",
   "version": "3.12.3"
  }
 },
 "nbformat": 4,
 "nbformat_minor": 2
}
