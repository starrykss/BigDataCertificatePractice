{
 "cells": [
  {
   "cell_type": "markdown",
   "metadata": {},
   "source": [
    "# 회귀 모델 완벽 마스터\n",
    "---"
   ]
  },
  {
   "cell_type": "markdown",
   "metadata": {},
   "source": [
    "## 1. 펭귄 무게 예측 (펭귄 데이터)\n",
    "---"
   ]
  },
  {
   "cell_type": "code",
   "execution_count": 87,
   "metadata": {},
   "outputs": [],
   "source": [
    "import pandas as pd\n",
    "\n",
    "X_train = pd.read_csv('./datasets/penguin_X_train.csv')\n",
    "X_test = pd.read_csv('./datasets/penguin_X_test.csv')\n",
    "y_train = pd.read_csv('./datasets/penguin_y_train.csv')"
   ]
  },
  {
   "cell_type": "markdown",
   "metadata": {},
   "source": [
    "### (1) 데이터 정보 확인"
   ]
  },
  {
   "cell_type": "code",
   "execution_count": 88,
   "metadata": {},
   "outputs": [
    {
     "name": "stdout",
     "output_type": "stream",
     "text": [
      "<class 'pandas.core.frame.DataFrame'>\n",
      "RangeIndex: 240 entries, 0 to 239\n",
      "Data columns (total 6 columns):\n",
      " #   Column             Non-Null Count  Dtype  \n",
      "---  ------             --------------  -----  \n",
      " 0   species            240 non-null    object \n",
      " 1   island             240 non-null    object \n",
      " 2   sex                232 non-null    object \n",
      " 3   bill_length_mm     238 non-null    float64\n",
      " 4   bill_depth_mm      238 non-null    float64\n",
      " 5   flipper_length_mm  238 non-null    float64\n",
      "dtypes: float64(3), object(3)\n",
      "memory usage: 11.4+ KB\n",
      "None\n"
     ]
    }
   ],
   "source": [
    "print(X_train.info())"
   ]
  },
  {
   "cell_type": "markdown",
   "metadata": {},
   "source": [
    "- `sex`, `bill_length_mm`, `bill_depth_mm`, `flipper_length_mm` 컬럼에 결측치가 있음을 확인할 수 있다."
   ]
  },
  {
   "cell_type": "code",
   "execution_count": 89,
   "metadata": {},
   "outputs": [
    {
     "name": "stdout",
     "output_type": "stream",
     "text": [
      "<class 'pandas.core.frame.DataFrame'>\n",
      "RangeIndex: 101 entries, 0 to 100\n",
      "Data columns (total 6 columns):\n",
      " #   Column             Non-Null Count  Dtype  \n",
      "---  ------             --------------  -----  \n",
      " 0   species            101 non-null    object \n",
      " 1   island             101 non-null    object \n",
      " 2   sex                101 non-null    object \n",
      " 3   bill_length_mm     101 non-null    float64\n",
      " 4   bill_depth_mm      101 non-null    float64\n",
      " 5   flipper_length_mm  101 non-null    float64\n",
      "dtypes: float64(3), object(3)\n",
      "memory usage: 4.9+ KB\n",
      "None\n"
     ]
    }
   ],
   "source": [
    "print(X_test.info())"
   ]
  },
  {
   "cell_type": "code",
   "execution_count": 90,
   "metadata": {},
   "outputs": [
    {
     "name": "stdout",
     "output_type": "stream",
     "text": [
      "<class 'pandas.core.frame.DataFrame'>\n",
      "RangeIndex: 240 entries, 0 to 239\n",
      "Data columns (total 1 columns):\n",
      " #   Column       Non-Null Count  Dtype  \n",
      "---  ------       --------------  -----  \n",
      " 0   body_mass_g  238 non-null    float64\n",
      "dtypes: float64(1)\n",
      "memory usage: 2.0 KB\n",
      "None\n"
     ]
    }
   ],
   "source": [
    "print(y_train.info())"
   ]
  },
  {
   "cell_type": "code",
   "execution_count": 91,
   "metadata": {},
   "outputs": [
    {
     "name": "stdout",
     "output_type": "stream",
     "text": [
      "       bill_length_mm  bill_depth_mm  flipper_length_mm\n",
      "count      238.000000     238.000000         238.000000\n",
      "mean        43.948739      17.205462         200.684874\n",
      "std          5.475004       1.973498          14.110080\n",
      "min         32.100000      13.200000         172.000000\n",
      "25%         39.200000      15.700000         190.000000\n",
      "50%         44.700000      17.300000         197.000000\n",
      "75%         48.700000      18.700000         213.000000\n",
      "max         58.000000      21.500000         231.000000\n"
     ]
    }
   ],
   "source": [
    "print(X_train.describe())"
   ]
  },
  {
   "cell_type": "code",
   "execution_count": 92,
   "metadata": {},
   "outputs": [
    {
     "name": "stdout",
     "output_type": "stream",
     "text": [
      "       bill_length_mm  bill_depth_mm  flipper_length_mm\n",
      "count      101.000000     101.000000         101.000000\n",
      "mean        43.997030      17.023762         201.623762\n",
      "std          5.400305       1.982228          13.951238\n",
      "min         34.000000      13.100000         176.000000\n",
      "25%         39.600000      15.300000         190.000000\n",
      "50%         44.000000      17.200000         198.000000\n",
      "75%         47.700000      18.600000         214.000000\n",
      "max         59.600000      21.200000         230.000000\n"
     ]
    }
   ],
   "source": [
    "print(X_test.describe())"
   ]
  },
  {
   "cell_type": "code",
   "execution_count": 93,
   "metadata": {},
   "outputs": [
    {
     "name": "stdout",
     "output_type": "stream",
     "text": [
      "       body_mass_g\n",
      "count   238.000000\n",
      "mean   4226.260504\n",
      "std     802.595662\n",
      "min    2850.000000\n",
      "25%    3600.000000\n",
      "50%    4050.000000\n",
      "75%    4800.000000\n",
      "max    6300.000000\n"
     ]
    }
   ],
   "source": [
    "print(y_train.describe())"
   ]
  },
  {
   "cell_type": "markdown",
   "metadata": {},
   "source": [
    "### (2) 결측치 처리"
   ]
  },
  {
   "cell_type": "markdown",
   "metadata": {},
   "source": [
    "- `X_train`과 `y_train`을 합쳐서 결측치를 제거해준다."
   ]
  },
  {
   "cell_type": "code",
   "execution_count": 94,
   "metadata": {},
   "outputs": [
    {
     "name": "stdout",
     "output_type": "stream",
     "text": [
      "<class 'pandas.core.frame.DataFrame'>\n",
      "RangeIndex: 232 entries, 0 to 231\n",
      "Data columns (total 7 columns):\n",
      " #   Column             Non-Null Count  Dtype  \n",
      "---  ------             --------------  -----  \n",
      " 0   species            232 non-null    object \n",
      " 1   island             232 non-null    object \n",
      " 2   sex                232 non-null    object \n",
      " 3   bill_length_mm     232 non-null    float64\n",
      " 4   bill_depth_mm      232 non-null    float64\n",
      " 5   flipper_length_mm  232 non-null    float64\n",
      " 6   body_mass_g        232 non-null    float64\n",
      "dtypes: float64(4), object(3)\n",
      "memory usage: 12.8+ KB\n",
      "None\n",
      "(232, 6) (232, 1)\n",
      "       bill_length_mm  bill_depth_mm  flipper_length_mm\n",
      "count      232.000000     232.000000         232.000000\n",
      "mean        43.990948      17.226293         200.681034\n",
      "std          5.509760       1.964677          14.064231\n",
      "min         32.100000      13.200000         172.000000\n",
      "25%         39.200000      15.700000         190.000000\n",
      "50%         44.950000      17.350000         197.000000\n",
      "75%         48.775000      18.725000         212.250000\n",
      "max         58.000000      21.500000         231.000000\n"
     ]
    }
   ],
   "source": [
    "# X_train과 y_train을 합쳐서 결측치를 제거해준다.\n",
    "train = pd.concat([X_train, y_train], axis=1)\n",
    "# print(train.info())\n",
    "\n",
    "# 결측치 제거\n",
    "train = train.dropna()\n",
    "\n",
    "# 드랍할 경우, 드랍된 부분의 인덱스가 비어지게 된다.\n",
    "# 따라서 인덱스를 초기화해준다.\n",
    "train.reset_index(drop=True, inplace=True)   # 인덱스 초기화\n",
    "print(train.info())\n",
    "\n",
    "# 다시 X_train, y_train으로 분리\n",
    "X_train = train[X_train.columns]\n",
    "y_train = train[y_train.columns]\n",
    "\n",
    "print(X_train.shape, y_train.shape)\n",
    "\n",
    "# 기술 통계 확인\n",
    "print(X_train.describe())"
   ]
  },
  {
   "cell_type": "markdown",
   "metadata": {},
   "source": [
    "### (3) 자주 사용하는 컬럼을 유형별로 분리"
   ]
  },
  {
   "cell_type": "code",
   "execution_count": 95,
   "metadata": {},
   "outputs": [],
   "source": [
    "COL_DEL = []  # 삭제할 변수\n",
    "COL_NUM = ['bill_length_mm', 'bill_depth_mm', 'flipper_length_mm']   # 수치형\n",
    "COL_CAT = ['species', 'island', 'sex']   # 범주형\n",
    "COL_Y = ['body_mass_g']   # 종속변수"
   ]
  },
  {
   "cell_type": "markdown",
   "metadata": {},
   "source": [
    "### (4) 범주형 변수 인코딩"
   ]
  },
  {
   "cell_type": "markdown",
   "metadata": {},
   "source": [
    "- One Hot Encoding, Label Encoding 2가지 방법을 사용할 수 있다.\n",
    "- 빠르게 작업하기 위해 보통 Label Encoding 방법을 사용한다."
   ]
  },
  {
   "cell_type": "code",
   "execution_count": 96,
   "metadata": {},
   "outputs": [
    {
     "name": "stdout",
     "output_type": "stream",
     "text": [
      "(333, 6)\n"
     ]
    }
   ],
   "source": [
    "# X 훈련 데이터와 X 테스트 데이터를 합친 후, 인코딩을 진행한다.\n",
    "X = pd.concat([X_train, X_test])\n",
    "print(X.shape)"
   ]
  },
  {
   "cell_type": "markdown",
   "metadata": {},
   "source": [
    "> One Hot Encoding"
   ]
  },
  {
   "cell_type": "code",
   "execution_count": 97,
   "metadata": {},
   "outputs": [
    {
     "name": "stdout",
     "output_type": "stream",
     "text": [
      "(232, 6) (232, 8) (101, 8)\n"
     ]
    }
   ],
   "source": [
    "from sklearn.preprocessing import OneHotEncoder\n",
    "\n",
    "# 1. 인코더 생성\n",
    "ohe = OneHotEncoder()\n",
    "ohe.fit(X[COL_CAT])   # 범주형 변수 인코딩\n",
    "\n",
    "X_train_res = ohe.transform(X_train[COL_CAT])\n",
    "X_test_res = ohe.transform(X_test[COL_CAT])\n",
    "\n",
    "print(X_train.shape, X_train_res.shape, X_test_res.shape)"
   ]
  },
  {
   "cell_type": "code",
   "execution_count": 98,
   "metadata": {},
   "outputs": [
    {
     "name": "stdout",
     "output_type": "stream",
     "text": [
      "(232, 8)\n",
      "   species_Adelie  species_Chinstrap  species_Gentoo  island_Biscoe  \\\n",
      "0             0.0                0.0             1.0            1.0   \n",
      "1             1.0                0.0             0.0            0.0   \n",
      "2             0.0                1.0             0.0            0.0   \n",
      "3             0.0                0.0             1.0            1.0   \n",
      "4             1.0                0.0             0.0            0.0   \n",
      "\n",
      "   island_Dream  island_Torgersen  sex_FEMALE  sex_MALE  \n",
      "0           0.0               0.0         1.0       0.0  \n",
      "1           0.0               1.0         0.0       1.0  \n",
      "2           1.0               0.0         0.0       1.0  \n",
      "3           0.0               0.0         0.0       1.0  \n",
      "4           1.0               0.0         1.0       0.0  \n",
      "*****************************************************************************\n",
      "(101, 8)\n",
      "   species_Adelie  species_Chinstrap  species_Gentoo  island_Biscoe  \\\n",
      "0             1.0                0.0             0.0            0.0   \n",
      "1             0.0                0.0             1.0            1.0   \n",
      "2             1.0                0.0             0.0            1.0   \n",
      "3             1.0                0.0             0.0            0.0   \n",
      "4             0.0                0.0             1.0            1.0   \n",
      "\n",
      "   island_Dream  island_Torgersen  sex_FEMALE  sex_MALE  \n",
      "0           0.0               1.0         0.0       1.0  \n",
      "1           0.0               0.0         0.0       1.0  \n",
      "2           0.0               0.0         0.0       1.0  \n",
      "3           1.0               0.0         1.0       0.0  \n",
      "4           0.0               0.0         1.0       0.0  \n"
     ]
    }
   ],
   "source": [
    "# 2. 인코딩 데이터 결합\n",
    "X_train_ohe = pd.DataFrame(X_train_res.toarray(), columns=ohe.get_feature_names_out())\n",
    "X_test_ohe = pd.DataFrame(X_test_res.toarray(), columns=ohe.get_feature_names_out())\n",
    "\n",
    "print(X_train_ohe.shape)\n",
    "print(X_train_ohe.head())\n",
    "\n",
    "print(\"*\" * 77)\n",
    "\n",
    "print(X_test_ohe.shape)\n",
    "print(X_test_ohe.head())"
   ]
  },
  {
   "cell_type": "code",
   "execution_count": 99,
   "metadata": {},
   "outputs": [
    {
     "name": "stdout",
     "output_type": "stream",
     "text": [
      "<class 'pandas.core.frame.DataFrame'>\n",
      "RangeIndex: 232 entries, 0 to 231\n",
      "Data columns (total 11 columns):\n",
      " #   Column             Non-Null Count  Dtype  \n",
      "---  ------             --------------  -----  \n",
      " 0   bill_length_mm     232 non-null    float64\n",
      " 1   bill_depth_mm      232 non-null    float64\n",
      " 2   flipper_length_mm  232 non-null    float64\n",
      " 3   species_Adelie     232 non-null    float64\n",
      " 4   species_Chinstrap  232 non-null    float64\n",
      " 5   species_Gentoo     232 non-null    float64\n",
      " 6   island_Biscoe      232 non-null    float64\n",
      " 7   island_Dream       232 non-null    float64\n",
      " 8   island_Torgersen   232 non-null    float64\n",
      " 9   sex_FEMALE         232 non-null    float64\n",
      " 10  sex_MALE           232 non-null    float64\n",
      "dtypes: float64(11)\n",
      "memory usage: 20.1 KB\n",
      "None\n",
      "<class 'pandas.core.frame.DataFrame'>\n",
      "RangeIndex: 101 entries, 0 to 100\n",
      "Data columns (total 11 columns):\n",
      " #   Column             Non-Null Count  Dtype  \n",
      "---  ------             --------------  -----  \n",
      " 0   bill_length_mm     101 non-null    float64\n",
      " 1   bill_depth_mm      101 non-null    float64\n",
      " 2   flipper_length_mm  101 non-null    float64\n",
      " 3   species_Adelie     101 non-null    float64\n",
      " 4   species_Chinstrap  101 non-null    float64\n",
      " 5   species_Gentoo     101 non-null    float64\n",
      " 6   island_Biscoe      101 non-null    float64\n",
      " 7   island_Dream       101 non-null    float64\n",
      " 8   island_Torgersen   101 non-null    float64\n",
      " 9   sex_FEMALE         101 non-null    float64\n",
      " 10  sex_MALE           101 non-null    float64\n",
      "dtypes: float64(11)\n",
      "memory usage: 8.8 KB\n",
      "None\n"
     ]
    }
   ],
   "source": [
    "# 3. 인코딩 데이터와 수치형 데이터 연결\n",
    "X_train_fin = pd.concat([X_train[COL_NUM], X_train_ohe], axis=1)\n",
    "X_test_fin = pd.concat([X_test[COL_NUM], X_test_ohe], axis=1)\n",
    "\n",
    "\n",
    "print(X_train_fin.info())\n",
    "print(X_test_fin.info())"
   ]
  },
  {
   "cell_type": "markdown",
   "metadata": {},
   "source": [
    "### (5) 데이터 모형 구축"
   ]
  },
  {
   "cell_type": "code",
   "execution_count": 100,
   "metadata": {},
   "outputs": [
    {
     "name": "stdout",
     "output_type": "stream",
     "text": [
      "(185, 11) (47, 11) (185, 1)\n",
      "    bill_length_mm  bill_depth_mm  flipper_length_mm  species_Adelie  \\\n",
      "23        0.756757       0.855422           0.372881             0.0   \n",
      "22        0.274131       0.650602           0.305085             1.0   \n",
      "62        0.366795       0.578313           0.338983             1.0   \n",
      "96        0.220077       0.819277           0.305085             1.0   \n",
      "64        0.339768       0.409639           0.254237             0.0   \n",
      "\n",
      "    species_Chinstrap  species_Gentoo  island_Biscoe  island_Dream  \\\n",
      "23                1.0             0.0            0.0           1.0   \n",
      "22                0.0             0.0            0.0           1.0   \n",
      "62                0.0             0.0            1.0           0.0   \n",
      "96                0.0             0.0            1.0           0.0   \n",
      "64                1.0             0.0            0.0           1.0   \n",
      "\n",
      "    island_Torgersen  sex_FEMALE  sex_MALE  \n",
      "23               0.0         0.0       1.0  \n",
      "22               0.0         0.0       1.0  \n",
      "62               0.0         0.0       1.0  \n",
      "96               0.0         0.0       1.0  \n",
      "64               0.0         1.0       0.0  \n",
      "****************************************************************************************************\n",
      "     bill_length_mm  bill_depth_mm  flipper_length_mm  species_Adelie  \\\n",
      "177        0.683398       0.433735           0.983051             0.0   \n",
      "226        0.722008       0.638554           0.491525             0.0   \n",
      "200        0.544402       0.518072           0.254237             0.0   \n",
      "151        0.231660       0.457831           0.152542             1.0   \n",
      "48         0.675676       0.337349           0.898305             0.0   \n",
      "\n",
      "     species_Chinstrap  species_Gentoo  island_Biscoe  island_Dream  \\\n",
      "177                0.0             1.0            1.0           0.0   \n",
      "226                1.0             0.0            0.0           1.0   \n",
      "200                1.0             0.0            0.0           1.0   \n",
      "151                0.0             0.0            1.0           0.0   \n",
      "48                 0.0             1.0            1.0           0.0   \n",
      "\n",
      "     island_Torgersen  sex_FEMALE  sex_MALE  \n",
      "177               0.0         0.0       1.0  \n",
      "226               0.0         0.0       1.0  \n",
      "200               0.0         1.0       0.0  \n",
      "151               0.0         1.0       0.0  \n",
      "48                0.0         0.0       1.0  \n",
      "****************************************************************************************************\n",
      "   bill_length_mm  bill_depth_mm  flipper_length_mm  species_Adelie  \\\n",
      "0        0.386100       0.710843           0.389831             1.0   \n",
      "1        0.517375       0.216867           0.813559             0.0   \n",
      "2        0.328185       0.674699           0.355932             1.0   \n",
      "3        0.285714       0.554217           0.271186             1.0   \n",
      "4        0.501931       0.156627           0.593220             0.0   \n",
      "\n",
      "   species_Chinstrap  species_Gentoo  island_Biscoe  island_Dream  \\\n",
      "0                0.0             0.0            0.0           0.0   \n",
      "1                0.0             1.0            1.0           0.0   \n",
      "2                0.0             0.0            1.0           0.0   \n",
      "3                0.0             0.0            0.0           1.0   \n",
      "4                0.0             1.0            1.0           0.0   \n",
      "\n",
      "   island_Torgersen  sex_FEMALE  sex_MALE  \n",
      "0               1.0         0.0       1.0  \n",
      "1               0.0         0.0       1.0  \n",
      "2               0.0         0.0       1.0  \n",
      "3               0.0         1.0       0.0  \n",
      "4               0.0         1.0       0.0  \n"
     ]
    }
   ],
   "source": [
    "# 데이터 분리\n",
    "from sklearn.model_selection import train_test_split\n",
    "\n",
    "X_tr, X_val, y_tr, y_val = train_test_split(X_train_fin, y_train, test_size=0.2, random_state=100)\n",
    "print(X_tr.shape, X_val.shape, y_tr.shape)\n",
    "\n",
    "# 스케일링\n",
    "from sklearn.preprocessing import MinMaxScaler\n",
    "\n",
    "scaler = MinMaxScaler()\n",
    "scaler.fit(X_tr[COL_NUM])   # 수치형 변수\n",
    "\n",
    "X_tr[COL_NUM] = scaler.transform(X_tr[COL_NUM])\n",
    "X_val[COL_NUM] = scaler.transform(X_val[COL_NUM])\n",
    "X_test_fin[COL_NUM] = scaler.transform(X_test_fin[COL_NUM])\n",
    "\n",
    "print(X_tr[:5])\n",
    "print(\"*\" * 100)\n",
    "print(X_val[:5])\n",
    "print(\"*\" * 100)\n",
    "print(X_test_fin[:5])\n"
   ]
  },
  {
   "cell_type": "code",
   "execution_count": 101,
   "metadata": {},
   "outputs": [
    {
     "name": "stdout",
     "output_type": "stream",
     "text": [
      "[[5651.44624447]\n",
      " [4085.30634454]\n",
      " [3310.47964971]\n",
      " [3337.33330811]\n",
      " [5525.50020499]\n",
      " [3382.48601681]\n",
      " [5366.78042648]\n",
      " [5406.05885837]\n",
      " [4022.32697125]\n",
      " [3292.25515467]\n",
      " [3424.13065267]\n",
      " [3944.41147668]\n",
      " [5658.89265934]\n",
      " [4026.09038061]\n",
      " [3533.76962506]\n",
      " [3980.68233539]\n",
      " [4273.49966842]\n",
      " [3450.37087712]\n",
      " [5409.3269011 ]\n",
      " [3428.85375379]\n",
      " [4574.80328694]\n",
      " [5333.02167391]\n",
      " [4960.1175087 ]\n",
      " [3468.14570894]\n",
      " [3633.49745479]\n",
      " [4140.93518486]\n",
      " [4223.38273249]\n",
      " [3899.22819232]\n",
      " [3478.01099796]\n",
      " [4235.55908562]\n",
      " [4168.2834231 ]\n",
      " [4104.85171529]\n",
      " [3829.67793272]\n",
      " [4736.24134662]\n",
      " [4137.16318441]\n",
      " [4611.96157315]\n",
      " [3810.62622447]\n",
      " [3618.78537788]\n",
      " [3460.48216587]\n",
      " [5384.54933849]\n",
      " [4757.06790988]\n",
      " [4087.63096112]\n",
      " [4701.25158001]\n",
      " [3537.19879735]\n",
      " [4167.09564203]\n",
      " [3288.96163916]\n",
      " [4635.71851319]]\n"
     ]
    }
   ],
   "source": [
    "# 선형 회귀\n",
    "from sklearn.linear_model import LinearRegression\n",
    "\n",
    "model_lr = LinearRegression()\n",
    "model_lr.fit(X_tr, y_tr)\n",
    "\n",
    "y_val_pred = model_lr.predict(X_val)\n",
    "print(y_val_pred)"
   ]
  },
  {
   "cell_type": "code",
   "execution_count": 102,
   "metadata": {},
   "outputs": [
    {
     "name": "stdout",
     "output_type": "stream",
     "text": [
      "[ 588.0134175   517.07440279  844.48940437 -237.87174116 -476.13934612\n",
      "  714.01108728   30.25151452  -59.25996583   29.00845132 -203.85322113\n",
      "  203.85322113]\n",
      "3247.034154636649\n",
      "species_Chinstrap   -476.139346\n",
      "species_Adelie      -237.871741\n",
      "sex_FEMALE          -203.853221\n",
      "island_Dream         -59.259966\n",
      "island_Torgersen      29.008451\n",
      "island_Biscoe         30.251515\n",
      "sex_MALE             203.853221\n",
      "bill_depth_mm        517.074403\n",
      "bill_length_mm       588.013418\n",
      "species_Gentoo       714.011087\n",
      "flipper_length_mm    844.489404\n",
      "dtype: float64\n"
     ]
    }
   ],
   "source": [
    "# y = ax + b (a : coef(회귀계수), b: intercept(절편))\n",
    "print(model_lr.coef_[0])\n",
    "print(model_lr.intercept_[0])\n",
    "\n",
    "\n",
    "coef = pd.Series(model_lr.coef_[0], index=X_tr.columns)\n",
    "print(coef.sort_values())"
   ]
  },
  {
   "cell_type": "code",
   "execution_count": 103,
   "metadata": {},
   "outputs": [
    {
     "name": "stdout",
     "output_type": "stream",
     "text": [
      "[5737.   3898.75 3453.5  3249.   5533.5  3522.75 5524.25 5350.5  3749.\n",
      " 3221.25 3483.25 3802.75 5831.   4010.25 3444.   3793.25 4146.5  3434.\n",
      " 5378.5  3409.5  4406.   5514.25 5014.25 3696.   3706.75 3721.   4338.\n",
      " 4041.   3580.5  4286.75 4062.25 4167.25 4062.75 4613.75 4103.75 4211.\n",
      " 4018.75 3551.   3491.25 5541.   4821.75 3939.25 4731.5  3764.5  4266.5\n",
      " 3429.5  4463.25]\n"
     ]
    },
    {
     "name": "stderr",
     "output_type": "stream",
     "text": [
      "c:\\Users\\kss34\\anaconda3\\envs\\bigdata\\Lib\\site-packages\\sklearn\\base.py:1474: DataConversionWarning: A column-vector y was passed when a 1d array was expected. Please change the shape of y to (n_samples,), for example using ravel().\n",
      "  return fit_method(estimator, *args, **kwargs)\n"
     ]
    }
   ],
   "source": [
    "# 랜덤 포레스트\n",
    "from sklearn.ensemble import RandomForestRegressor\n",
    "\n",
    "model_rf = RandomForestRegressor()\n",
    "model_rf.fit(X_tr, y_tr)\n",
    "\n",
    "y_val_pred_rf = model_rf.predict(X_val)\n",
    "print(y_val_pred_rf)"
   ]
  },
  {
   "cell_type": "markdown",
   "metadata": {},
   "source": [
    "### (6) 모델 평가"
   ]
  },
  {
   "cell_type": "code",
   "execution_count": 104,
   "metadata": {},
   "outputs": [
    {
     "name": "stdout",
     "output_type": "stream",
     "text": [
      "117089.24010380742 342.18305057937545\n",
      "106928.19414893616 326.99876780950746\n"
     ]
    },
    {
     "name": "stderr",
     "output_type": "stream",
     "text": [
      "c:\\Users\\kss34\\anaconda3\\envs\\bigdata\\Lib\\site-packages\\sklearn\\metrics\\_regression.py:483: FutureWarning: 'squared' is deprecated in version 1.4 and will be removed in 1.6. To calculate the root mean squared error, use the function'root_mean_squared_error'.\n",
      "  warnings.warn(\n",
      "c:\\Users\\kss34\\anaconda3\\envs\\bigdata\\Lib\\site-packages\\sklearn\\metrics\\_regression.py:483: FutureWarning: 'squared' is deprecated in version 1.4 and will be removed in 1.6. To calculate the root mean squared error, use the function'root_mean_squared_error'.\n",
      "  warnings.warn(\n"
     ]
    }
   ],
   "source": [
    "from sklearn.metrics import mean_squared_error\n",
    "\n",
    "# 선형회귀\n",
    "mse = mean_squared_error(y_val, y_val_pred)\n",
    "rmse = mean_squared_error(y_val, y_val_pred, squared=False)\n",
    "print(mse, rmse)\n",
    "\n",
    "# 랜덤 포레스트\n",
    "mse_rf = mean_squared_error(y_val, y_val_pred_rf)\n",
    "rmse_rf = mean_squared_error(y_val, y_val_pred_rf, squared=False)\n",
    "print(mse_rf, rmse_rf)\n",
    "\n",
    "# rmse는 error이므로, 값이 작을수록 성능이 더 좋다."
   ]
  },
  {
   "cell_type": "markdown",
   "metadata": {},
   "source": [
    "### (7) 답안 제출"
   ]
  },
  {
   "cell_type": "code",
   "execution_count": 105,
   "metadata": {},
   "outputs": [
    {
     "name": "stdout",
     "output_type": "stream",
     "text": [
      "[4217.75 5261.5  4054.5  3425.75 4533.75 3879.25 3384.5  3435.75 3511.75\n",
      " 3470.   3391.25 5459.5  3440.5  3909.75 3894.75 3931.25 4437.5  3744.5\n",
      " 3491.   3401.25 5288.75 4127.   5748.   4676.   5640.5  5471.5  5493.\n",
      " 4326.5  3473.75 4046.75 4108.75 3375.25 3519.75 4174.   3308.5  3430.\n",
      " 3088.   3581.5  3877.5  4966.5  3344.75 5683.5  5025.25 4820.5  5554.\n",
      " 4109.75 4631.   3258.5  5153.5  4235.   4672.75 4758.5  4212.25 3812.5\n",
      " 3161.   4524.25 4704.   4415.5  3826.75 4169.   3821.75 5028.5  3494.5\n",
      " 5042.25 3732.   4017.75 5603.5  3067.5  4748.5  3733.   4046.5  3437.5\n",
      " 4727.75 3331.25 4694.   4250.5  5599.   3544.5  3438.75 4821.25 3462.\n",
      " 5716.   3477.25 4905.25 4389.5  3298.25 5791.   4046.75 3993.75 4691.\n",
      " 4152.5  3979.25 4268.   4143.25 5389.   3977.5  5157.   3515.25 4878.75\n",
      " 5661.   3546.5 ]\n"
     ]
    }
   ],
   "source": [
    "pred = model_rf.predict(X_test_fin)\n",
    "print(pred)\n",
    "\n",
    "pd.DataFrame({'body_mass_g': pred}).to_csv('./outputs/regression01-1.csv', index=False)"
   ]
  },
  {
   "cell_type": "markdown",
   "metadata": {},
   "source": [
    "### 단순화하여 문제 풀기"
   ]
  },
  {
   "cell_type": "code",
   "execution_count": 106,
   "metadata": {},
   "outputs": [
    {
     "name": "stderr",
     "output_type": "stream",
     "text": [
      "C:\\Users\\kss34\\AppData\\Local\\Temp\\ipykernel_29932\\1909643667.py:41: SettingWithCopyWarning: \n",
      "A value is trying to be set on a copy of a slice from a DataFrame.\n",
      "Try using .loc[row_indexer,col_indexer] = value instead\n",
      "\n",
      "See the caveats in the documentation: https://pandas.pydata.org/pandas-docs/stable/user_guide/indexing.html#returning-a-view-versus-a-copy\n",
      "  X_train[col] = le.transform(X_train[col])\n",
      "C:\\Users\\kss34\\AppData\\Local\\Temp\\ipykernel_29932\\1909643667.py:41: SettingWithCopyWarning: \n",
      "A value is trying to be set on a copy of a slice from a DataFrame.\n",
      "Try using .loc[row_indexer,col_indexer] = value instead\n",
      "\n",
      "See the caveats in the documentation: https://pandas.pydata.org/pandas-docs/stable/user_guide/indexing.html#returning-a-view-versus-a-copy\n",
      "  X_train[col] = le.transform(X_train[col])\n",
      "C:\\Users\\kss34\\AppData\\Local\\Temp\\ipykernel_29932\\1909643667.py:41: SettingWithCopyWarning: \n",
      "A value is trying to be set on a copy of a slice from a DataFrame.\n",
      "Try using .loc[row_indexer,col_indexer] = value instead\n",
      "\n",
      "See the caveats in the documentation: https://pandas.pydata.org/pandas-docs/stable/user_guide/indexing.html#returning-a-view-versus-a-copy\n",
      "  X_train[col] = le.transform(X_train[col])\n",
      "c:\\Users\\kss34\\anaconda3\\envs\\bigdata\\Lib\\site-packages\\sklearn\\base.py:1474: DataConversionWarning: A column-vector y was passed when a 1d array was expected. Please change the shape of y to (n_samples,), for example using ravel().\n",
      "  return fit_method(estimator, *args, **kwargs)\n"
     ]
    },
    {
     "name": "stdout",
     "output_type": "stream",
     "text": [
      "(185, 6) (47, 6) (185, 1)\n",
      "326.99876780950746\n",
      "(101,)\n"
     ]
    },
    {
     "name": "stderr",
     "output_type": "stream",
     "text": [
      "c:\\Users\\kss34\\anaconda3\\envs\\bigdata\\Lib\\site-packages\\sklearn\\metrics\\_regression.py:483: FutureWarning: 'squared' is deprecated in version 1.4 and will be removed in 1.6. To calculate the root mean squared error, use the function'root_mean_squared_error'.\n",
      "  warnings.warn(\n"
     ]
    }
   ],
   "source": [
    "import pandas as pd\n",
    "\n",
    "X_train = pd.read_csv('./datasets/penguin_X_train.csv')\n",
    "X_test = pd.read_csv('./datasets/penguin_X_test.csv')\n",
    "y_train = pd.read_csv('./datasets/penguin_y_train.csv')\n",
    "\n",
    "# 1. 데이터 확인\n",
    "# print(X_train.info())\n",
    "# print(\"*\" * 100)\n",
    "# print(y_train.info())\n",
    "\n",
    "# 2. 결측치 처리 (X, Y 훈련 데이터 합친 후)\n",
    "train = pd.concat([X_train, y_train], axis=1)   \n",
    "train = train.dropna()\n",
    "train.reset_index(drop=True, inplace=True)  # 인덱스 초기화\n",
    "\n",
    "X_train = train[X_train.columns]\n",
    "y_train = train[y_train.columns]\n",
    "\n",
    "# print(X_train.info())\n",
    "# print(y_train.info())\n",
    "\n",
    "# 3. 기술 통계 확인\n",
    "# print(X_train.describe())\n",
    "\n",
    "# 4. 자주 사용하는 컬럼 유형별 분리\n",
    "COL_DEL = []  # 삭제할 컬럼\n",
    "COL_NUM = ['bill_length_mm', 'bill_depth_mm', 'flipper_length_mm']   # 수치형 컬럼\n",
    "COL_CAT = ['species', 'island', 'sex']   # 범주형 컬럼\n",
    "COL_Y = ['body_mass_g']   # 종속변수\n",
    "\n",
    "# 5. 인코딩 (Label Encoding)\n",
    "X = pd.concat([X_train, X_test])   # 데이터와 데이터를 연결하기 대문에 axis=1을 하지 않는다.\n",
    "\n",
    "from sklearn.preprocessing import LabelEncoder\n",
    "\n",
    "le = LabelEncoder()\n",
    "\n",
    "for col in COL_CAT:\n",
    "    le.fit(X[col])\n",
    "    X_train[col] = le.transform(X_train[col])\n",
    "    X_test[col] = le.transform(X_test[col])\n",
    "\n",
    "# print(X_train.head())\n",
    "\n",
    "# 6. 데이터 모형 구축\n",
    "from sklearn.model_selection import train_test_split\n",
    "\n",
    "X_tr, X_val, y_tr, y_val = train_test_split(X_train, y_train, test_size=0.2, random_state=100)\n",
    "print(X_tr.shape, X_val.shape, y_tr.shape)\n",
    "\n",
    "# 7. 스케일링 -> 생략\n",
    "\n",
    "# 8. Random Forest\n",
    "from sklearn.ensemble import RandomForestRegressor\n",
    "\n",
    "model_rf = RandomForestRegressor()\n",
    "model_rf.fit(X_tr, y_tr)\n",
    "\n",
    "x_val_pred_rf = model_rf.predict(X_val)\n",
    "\n",
    "# 9. 평가\n",
    "from sklearn.metrics import mean_squared_error\n",
    "\n",
    "rmse_rf = mean_squared_error(y_val, y_val_pred_rf, squared=False)\n",
    "print(rmse_rf)\n",
    "\n",
    "# 10. 제출\n",
    "pred = model_rf.predict(X_test)\n",
    "print(pred.shape)\n",
    "\n",
    "pd.DataFrame({'body_mass_g': pred}).to_csv('./outputs/regression01-2.csv', index=False)"
   ]
  },
  {
   "cell_type": "code",
   "execution_count": null,
   "metadata": {},
   "outputs": [],
   "source": []
  }
 ],
 "metadata": {
  "kernelspec": {
   "display_name": "bigdata",
   "language": "python",
   "name": "python3"
  },
  "language_info": {
   "codemirror_mode": {
    "name": "ipython",
    "version": 3
   },
   "file_extension": ".py",
   "mimetype": "text/x-python",
   "name": "python",
   "nbconvert_exporter": "python",
   "pygments_lexer": "ipython3",
   "version": "3.12.3"
  }
 },
 "nbformat": 4,
 "nbformat_minor": 2
}
