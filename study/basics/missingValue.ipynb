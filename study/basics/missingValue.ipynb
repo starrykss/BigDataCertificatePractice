{
 "cells": [
  {
   "cell_type": "markdown",
   "metadata": {},
   "source": [
    "# <a id='toc1_'></a>[결측값(Missing Value)](#toc0_)\n",
    "---"
   ]
  },
  {
   "cell_type": "markdown",
   "metadata": {},
   "source": [
    "**Table of contents**<a id='toc0_'></a>    \n",
    "- [결측값(Missing Value)](#toc1_)    \n",
    "  - [결측값 인식](#toc1_1_)    \n",
    "    - [[1] `isna` 함수를 이용한 결측값 확인](#toc1_1_1_)    \n",
    "    - [[2] `info` 함수를 이용한 결측값 확인](#toc1_1_2_)    \n",
    "    - [[3] 행별, 컬럼별, 전체 관측값 확인](#toc1_1_3_)    \n",
    "  - [결측값 처리](#toc1_2_)    \n",
    "    - [[1] 결측값 삭제](#toc1_2_1_)    \n",
    "      - [결측값이 있는 행 삭제](#toc1_2_1_1_)    \n",
    "      - [결측값이 있는 열 삭제](#toc1_2_1_2_)    \n",
    "    - [[2] 단순 대치법](#toc1_2_2_)    \n",
    "\n",
    "<!-- vscode-jupyter-toc-config\n",
    "\tnumbering=false\n",
    "\tanchor=true\n",
    "\tflat=false\n",
    "\tminLevel=1\n",
    "\tmaxLevel=6\n",
    "\t/vscode-jupyter-toc-config -->\n",
    "<!-- THIS CELL WILL BE REPLACED ON TOC UPDATE. DO NOT WRITE YOUR TEXT IN THIS CELL -->"
   ]
  },
  {
   "cell_type": "markdown",
   "metadata": {},
   "source": [
    "---"
   ]
  },
  {
   "cell_type": "markdown",
   "metadata": {},
   "source": [
    "## <a id='toc1_1_'></a>[결측값 인식](#toc0_)"
   ]
  },
  {
   "cell_type": "markdown",
   "metadata": {},
   "source": [
    "### <a id='toc1_1_1_'></a>[[1] `isna` 함수를 이용한 결측값 확인](#toc0_)"
   ]
  },
  {
   "cell_type": "code",
   "execution_count": 1,
   "metadata": {},
   "outputs": [],
   "source": [
    "import pandas as pd\n",
    "\n",
    "airquality = pd.read_csv('./datasets/airquality.csv')"
   ]
  },
  {
   "cell_type": "code",
   "execution_count": 2,
   "metadata": {},
   "outputs": [
    {
     "name": "stdout",
     "output_type": "stream",
     "text": [
      "     rownames  Ozone  Solar.R  Wind  Temp  Month  Day\n",
      "0           1   41.0    190.0   7.4    67      5    1\n",
      "1           2   36.0    118.0   8.0    72      5    2\n",
      "2           3   12.0    149.0  12.6    74      5    3\n",
      "3           4   18.0    313.0  11.5    62      5    4\n",
      "4           5    NaN      NaN  14.3    56      5    5\n",
      "..        ...    ...      ...   ...   ...    ...  ...\n",
      "148       149   30.0    193.0   6.9    70      9   26\n",
      "149       150    NaN    145.0  13.2    77      9   27\n",
      "150       151   14.0    191.0  14.3    75      9   28\n",
      "151       152   18.0    131.0   8.0    76      9   29\n",
      "152       153   20.0    223.0  11.5    68      9   30\n",
      "\n",
      "[153 rows x 7 columns]\n"
     ]
    }
   ],
   "source": [
    "print(airquality)"
   ]
  },
  {
   "cell_type": "code",
   "execution_count": 3,
   "metadata": {},
   "outputs": [
    {
     "name": "stdout",
     "output_type": "stream",
     "text": [
      "     rownames  Ozone  Solar.R   Wind   Temp  Month    Day\n",
      "0       False  False    False  False  False  False  False\n",
      "1       False  False    False  False  False  False  False\n",
      "2       False  False    False  False  False  False  False\n",
      "3       False  False    False  False  False  False  False\n",
      "4       False   True     True  False  False  False  False\n",
      "..        ...    ...      ...    ...    ...    ...    ...\n",
      "148     False  False    False  False  False  False  False\n",
      "149     False   True    False  False  False  False  False\n",
      "150     False  False    False  False  False  False  False\n",
      "151     False  False    False  False  False  False  False\n",
      "152     False  False    False  False  False  False  False\n",
      "\n",
      "[153 rows x 7 columns]\n"
     ]
    }
   ],
   "source": [
    "print(airquality.isna())    # 결측값 확인 (결측값은 True로 표시된다.)"
   ]
  },
  {
   "cell_type": "markdown",
   "metadata": {},
   "source": [
    "### <a id='toc1_1_2_'></a>[[2] `info` 함수를 이용한 결측값 확인](#toc0_)"
   ]
  },
  {
   "cell_type": "code",
   "execution_count": 4,
   "metadata": {},
   "outputs": [
    {
     "name": "stdout",
     "output_type": "stream",
     "text": [
      "<class 'pandas.core.frame.DataFrame'>\n",
      "RangeIndex: 153 entries, 0 to 152\n",
      "Data columns (total 7 columns):\n",
      " #   Column    Non-Null Count  Dtype  \n",
      "---  ------    --------------  -----  \n",
      " 0   rownames  153 non-null    int64  \n",
      " 1   Ozone     116 non-null    float64\n",
      " 2   Solar.R   146 non-null    float64\n",
      " 3   Wind      153 non-null    float64\n",
      " 4   Temp      153 non-null    int64  \n",
      " 5   Month     153 non-null    int64  \n",
      " 6   Day       153 non-null    int64  \n",
      "dtypes: float64(3), int64(4)\n",
      "memory usage: 8.5 KB\n",
      "None\n"
     ]
    }
   ],
   "source": [
    "print(airquality.info())"
   ]
  },
  {
   "cell_type": "markdown",
   "metadata": {},
   "source": [
    "### <a id='toc1_1_3_'></a>[[3] 행별, 컬럼별, 전체 관측값 확인](#toc0_)"
   ]
  },
  {
   "cell_type": "code",
   "execution_count": 5,
   "metadata": {},
   "outputs": [
    {
     "name": "stdout",
     "output_type": "stream",
     "text": [
      "0      0\n",
      "1      0\n",
      "2      0\n",
      "3      0\n",
      "4      2\n",
      "      ..\n",
      "148    0\n",
      "149    1\n",
      "150    0\n",
      "151    0\n",
      "152    0\n",
      "Length: 153, dtype: int64\n"
     ]
    }
   ],
   "source": [
    "print(airquality.isna().sum(axis=1))    # 행별 관측값의 개수 출력"
   ]
  },
  {
   "cell_type": "code",
   "execution_count": 6,
   "metadata": {},
   "outputs": [
    {
     "name": "stdout",
     "output_type": "stream",
     "text": [
      "44\n"
     ]
    }
   ],
   "source": [
    "print(airquality.isna().sum(axis=1).sum())    # 행별 결측값의 개수를 구한 후, 전체 결측값의 합계 확인"
   ]
  },
  {
   "cell_type": "code",
   "execution_count": 7,
   "metadata": {},
   "outputs": [
    {
     "name": "stdout",
     "output_type": "stream",
     "text": [
      "rownames     0\n",
      "Ozone       37\n",
      "Solar.R      7\n",
      "Wind         0\n",
      "Temp         0\n",
      "Month        0\n",
      "Day          0\n",
      "dtype: int64\n"
     ]
    }
   ],
   "source": [
    "print(airquality.isna().sum(axis=0))   # 컬럼별 결측값의 개수 확인"
   ]
  },
  {
   "cell_type": "code",
   "execution_count": 8,
   "metadata": {},
   "outputs": [
    {
     "name": "stdout",
     "output_type": "stream",
     "text": [
      "42\n"
     ]
    }
   ],
   "source": [
    "print(airquality.shape[0] - airquality.dropna().shape[0])    # 전체 행의 개수 - 결측값 잇는 행을 제거한 행의 개수"
   ]
  },
  {
   "cell_type": "markdown",
   "metadata": {},
   "source": [
    "## <a id='toc1_2_'></a>[결측값 처리](#toc0_)"
   ]
  },
  {
   "cell_type": "markdown",
   "metadata": {},
   "source": [
    "### <a id='toc1_2_1_'></a>[[1] 결측값 삭제](#toc0_)"
   ]
  },
  {
   "cell_type": "markdown",
   "metadata": {},
   "source": [
    "#### <a id='toc1_2_1_1_'></a>[결측값이 있는 행 삭제](#toc0_)"
   ]
  },
  {
   "cell_type": "code",
   "execution_count": 9,
   "metadata": {},
   "outputs": [
    {
     "name": "stdout",
     "output_type": "stream",
     "text": [
      "rownames    0\n",
      "Ozone       0\n",
      "Solar.R     0\n",
      "Wind        0\n",
      "Temp        0\n",
      "Month       0\n",
      "Day         0\n",
      "dtype: int64\n"
     ]
    }
   ],
   "source": [
    "import pandas as pd\n",
    "\n",
    "airquality = pd.read_csv('./datasets/airquality.csv')\n",
    "airquality = airquality.dropna(axis=0)    # 결측값이 있는 행 제거\n",
    "\n",
    "print(airquality.isna().sum(axis=0))"
   ]
  },
  {
   "cell_type": "markdown",
   "metadata": {},
   "source": [
    "#### <a id='toc1_2_1_2_'></a>[결측값이 있는 열 삭제](#toc0_)"
   ]
  },
  {
   "cell_type": "code",
   "execution_count": 10,
   "metadata": {},
   "outputs": [
    {
     "name": "stdout",
     "output_type": "stream",
     "text": [
      "0      0\n",
      "1      0\n",
      "2      0\n",
      "3      0\n",
      "4      0\n",
      "      ..\n",
      "148    0\n",
      "149    0\n",
      "150    0\n",
      "151    0\n",
      "152    0\n",
      "Length: 153, dtype: int64\n"
     ]
    }
   ],
   "source": [
    "import pandas as pd\n",
    "\n",
    "airquality = pd.read_csv('./datasets/airquality.csv')\n",
    "airquality = airquality.dropna(axis=1)    # 결측값이 있는 열 제거\n",
    "\n",
    "print(airquality.isna().sum(axis=1))"
   ]
  },
  {
   "cell_type": "markdown",
   "metadata": {},
   "source": [
    "### <a id='toc1_2_2_'></a>[[2] 단순 대치법](#toc0_)"
   ]
  },
  {
   "cell_type": "markdown",
   "metadata": {},
   "source": [
    "- 데이터의 결측값을 **평균값(Mean)** 으로 변경하는 기법"
   ]
  },
  {
   "cell_type": "code",
   "execution_count": 11,
   "metadata": {},
   "outputs": [
    {
     "name": "stdout",
     "output_type": "stream",
     "text": [
      "Ozone\n",
      "False    116\n",
      "True      37\n",
      "Name: count, dtype: int64\n"
     ]
    }
   ],
   "source": [
    "import pandas as pd\n",
    "\n",
    "airquality = pd.read_csv('./datasets/airquality.csv')\n",
    "\n",
    "print(pd.isna(airquality['Ozone']).value_counts())    # 결측값과 결측값이 아닌 값들 개수 출력"
   ]
  },
  {
   "cell_type": "code",
   "execution_count": 12,
   "metadata": {},
   "outputs": [
    {
     "name": "stdout",
     "output_type": "stream",
     "text": [
      "Ozone\n",
      "False    153\n",
      "Name: count, dtype: int64\n"
     ]
    }
   ],
   "source": [
    "airquality['Ozone'] = airquality['Ozone'].fillna(airquality['Ozone'].mean())    # 평균값으로 대체\n",
    "\n",
    "print(pd.isna(airquality['Ozone']).value_counts())"
   ]
  },
  {
   "cell_type": "markdown",
   "metadata": {},
   "source": [
    "- 결측값 대체 전후의 통계량의 차이 구하기"
   ]
  },
  {
   "cell_type": "code",
   "execution_count": 13,
   "metadata": {},
   "outputs": [
    {
     "name": "stdout",
     "output_type": "stream",
     "text": [
      "32.987884514433944\n"
     ]
    }
   ],
   "source": [
    "import pandas as pd\n",
    "\n",
    "airquality = pd.read_csv('./datasets/airquality.csv')\n",
    "\n",
    "a = airquality['Ozone'].std()    # 표준편차 (결측값 대체 전)\n",
    "print(a)"
   ]
  },
  {
   "cell_type": "code",
   "execution_count": 14,
   "metadata": {},
   "outputs": [
    {
     "name": "stdout",
     "output_type": "stream",
     "text": [
      "28.693372188220756\n"
     ]
    }
   ],
   "source": [
    "airquality['Ozone'] = airquality['Ozone'].fillna(airquality['Ozone'].mean())   # 결측값을 평균값으로 대체\n",
    "b = airquality['Ozone'].std()    # 표준편차 (결측값 대체 후)\n",
    "print(b)"
   ]
  },
  {
   "cell_type": "code",
   "execution_count": 15,
   "metadata": {},
   "outputs": [
    {
     "name": "stdout",
     "output_type": "stream",
     "text": [
      "4.294512326213187\n"
     ]
    }
   ],
   "source": [
    "# 결측값을 대체하기 전과 대체한 후의 값 차이 구하기\n",
    "print(a - b)"
   ]
  }
 ],
 "metadata": {
  "kernelspec": {
   "display_name": "bigdata",
   "language": "python",
   "name": "python3"
  },
  "language_info": {
   "codemirror_mode": {
    "name": "ipython",
    "version": 3
   },
   "file_extension": ".py",
   "mimetype": "text/x-python",
   "name": "python",
   "nbconvert_exporter": "python",
   "pygments_lexer": "ipython3",
   "version": "3.11.7"
  }
 },
 "nbformat": 4,
 "nbformat_minor": 2
}
