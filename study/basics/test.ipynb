{
 "cells": [
  {
   "cell_type": "markdown",
   "metadata": {},
   "source": [
    "# 검정(Test)\n",
    "---"
   ]
  },
  {
   "cell_type": "markdown",
   "metadata": {},
   "source": [
    "## Z-검정(Z-Test)"
   ]
  },
  {
   "cell_type": "markdown",
   "metadata": {},
   "source": [
    "$$Z = \\frac{\\bar{X} - \\mu}{\\frac{\\sigma}{\\sqrt{n}}}$$\n",
    "$$\\bar{X} : 표본평균 \\\\\n",
    "\\mu : 모평균 \\\\\n",
    "\\sigma : 모표준편차 \\\\\n",
    "n : \\text{표본의 크기}$$"
   ]
  },
  {
   "cell_type": "markdown",
   "metadata": {},
   "source": [
    "- 공장에서 생성한 제품의 평균 높이는 26cm이며 표준편차는 5cm로 확인되었다. 제품의 높이를 측정한 표본 7개의 데이터는 다음과 같다. 유의수준이 `0.05`일 때, 데이터를 기반으로 제품의 평균 높이를 검정하려고 한다.\n",
    "\n",
    "| 제품의 높이(cm) | 25, 27, 31, 23, 24, 30, 26 |\n",
    "| --- | --- |\n",
    "| 귀무가설($𝐻_0$) | 모평균은 26cm (모평균 = 표본평균) |\n",
    "| 대립가설($𝐻_1$) | 모평균은 26cm가 아님 (모평균 ≠ 표본평균) |"
   ]
  },
  {
   "cell_type": "code",
   "execution_count": 8,
   "metadata": {},
   "outputs": [
    {
     "name": "stdout",
     "output_type": "stream",
     "text": [
      "mean: 26.571428571428573\n"
     ]
    }
   ],
   "source": [
    "import numpy as np\n",
    "from scipy.stats import norm\n",
    "\n",
    "x = np.array([25, 27, 31, 23, 24, 30, 26])\n",
    "print(f\"mean: {np.mean(x)}\")   # 평균 출력"
   ]
  },
  {
   "cell_type": "markdown",
   "metadata": {},
   "source": [
    "$$Z = \\frac{X-26}{\\frac{5}{\\sqrt{7}}} = \\frac{(X-26)\\sqrt{7}}{5}$$"
   ]
  },
  {
   "cell_type": "code",
   "execution_count": 9,
   "metadata": {},
   "outputs": [
    {
     "name": "stdout",
     "output_type": "stream",
     "text": [
      "z: 0.3023715784073826\n"
     ]
    }
   ],
   "source": [
    "# z 값 계산\n",
    "## 모평균 : 26\n",
    "## 표준편차 : 5\n",
    "## 표본 개수 : 7\n",
    "z = (np.mean(x) - 26) / (5 / np.sqrt(7))\n",
    "print(f\"z: {z}\")"
   ]
  },
  {
   "cell_type": "code",
   "execution_count": 10,
   "metadata": {},
   "outputs": [
    {
     "name": "stdout",
     "output_type": "stream",
     "text": [
      "p: 0.7623688184698392\n"
     ]
    }
   ],
   "source": [
    "# p-값 (유의수준) 출력\n",
    "p = (1 - norm.cdf(z)) * 2    # z의 위치까지 누적 분포 함수의 값 계산 후, p-값을 얻기 위해 전체 면적 1에서 뺌. 양측 검정이므로 2배를 곱함.\n",
    "print(f\"p: {p}\")"
   ]
  },
  {
   "cell_type": "markdown",
   "metadata": {},
   "source": [
    "## T-검정(T-Test)"
   ]
  },
  {
   "cell_type": "markdown",
   "metadata": {},
   "source": [
    "$$T = \\frac{\\bar{X} - \\mu}{\\frac{s}{\\sqrt{n}}}$$\n",
    "$$\\bar{X} : 표본평균 \\\\\n",
    "\\mu : 모평균 \\\\\n",
    "s: 표본표준편차 \\\\\n",
    "n : \\text{표본의 크기}$$"
   ]
  },
  {
   "cell_type": "markdown",
   "metadata": {},
   "source": [
    "### 단일 표본 T-검정(One Sample T-Test)"
   ]
  },
  {
   "cell_type": "markdown",
   "metadata": {},
   "source": [
    "#### 정규성 가정을 만족하는 경우 단일 표본 T-검정"
   ]
  },
  {
   "cell_type": "code",
   "execution_count": 14,
   "metadata": {},
   "outputs": [
    {
     "name": "stdout",
     "output_type": "stream",
     "text": [
      "   height\n",
      "0      12\n",
      "1      14\n",
      "2      16\n",
      "3      19\n",
      "4      11\n",
      "5      17\n",
      "6      13\n"
     ]
    }
   ],
   "source": [
    "import pandas as pd\n",
    "from scipy.stats import shapiro, ttest_1samp\n",
    "\n",
    "df = pd.DataFrame({'height': [12, 14, 16, 19, 11, 17, 13]})\n",
    "print(df)"
   ]
  },
  {
   "cell_type": "markdown",
   "metadata": {},
   "source": [
    "- 데이터가 정규 분포를 따르는지 확인하기 위해 **샤피로 윌크 검정**을 수행한다."
   ]
  },
  {
   "cell_type": "code",
   "execution_count": 15,
   "metadata": {},
   "outputs": [
    {
     "name": "stdout",
     "output_type": "stream",
     "text": [
      "ShapiroResult(statistic=0.9641614571212591, pvalue=0.8535413398236595)\n"
     ]
    }
   ],
   "source": [
    "print(shapiro(df['height']))"
   ]
  },
  {
   "cell_type": "markdown",
   "metadata": {},
   "source": [
    "- p값은 `0.8535`이므로 유의수준 `0.05`보다 <ins>크기</ins> 때문에 귀무가설(정규성 만족)을 채택한다.\n",
    "- `df`의 `height` 변수는 정규성을 만족하므로 `ttest_1samp` 함수를 사용하여 검정을 수행한다."
   ]
  },
  {
   "cell_type": "code",
   "execution_count": 16,
   "metadata": {},
   "outputs": [
    {
     "name": "stdout",
     "output_type": "stream",
     "text": [
      "TtestResult(statistic=3.2826608214930637, pvalue=0.016766749930606027, df=6)\n"
     ]
    }
   ],
   "source": [
    "print(ttest_1samp(df['height'], popmean=11))"
   ]
  },
  {
   "cell_type": "markdown",
   "metadata": {},
   "source": [
    "- p-값은 `0.0168`로 유의수준 `0.05`보다 <ins>작기</ins> 때문에 귀무가설을 기각하고 대립가설을 채택한다."
   ]
  },
  {
   "cell_type": "markdown",
   "metadata": {},
   "source": [
    "#### 정규성 가정을 만족하지 않는 경우 단일 표본 T-검정"
   ]
  },
  {
   "cell_type": "markdown",
   "metadata": {},
   "source": [
    "- `cats` 데이터는 고양이들의 성별, 몸무게, 심장의 무게를 담고 있다. 유의수준 `0.05`일 때 `cats` 데이터에서 고양이들의 평균 몸무게가 2.1kg인지 아닌지에 대해 **양측 검정**을 수행한다.\n",
    "\n",
    "| 귀무가설($𝐻_0$) | 고양이들의 평균 몸무게(Bwt 변수 값의 평균)는 2.1kg |\n",
    "| --- | --- |\n",
    "| 대립가설($𝐻_1$) | 고양이들의 평균 몸무게(Bwt 변수 값의 평균)는 2.1kg가 아님. |"
   ]
  },
  {
   "cell_type": "code",
   "execution_count": 11,
   "metadata": {},
   "outputs": [
    {
     "name": "stdout",
     "output_type": "stream",
     "text": [
      "<class 'pandas.core.frame.DataFrame'>\n",
      "RangeIndex: 144 entries, 0 to 143\n",
      "Data columns (total 4 columns):\n",
      " #   Column    Non-Null Count  Dtype  \n",
      "---  ------    --------------  -----  \n",
      " 0   rownames  144 non-null    int64  \n",
      " 1   Sex       144 non-null    object \n",
      " 2   Bwt       144 non-null    float64\n",
      " 3   Hwt       144 non-null    float64\n",
      "dtypes: float64(2), int64(1), object(1)\n",
      "memory usage: 4.6+ KB\n",
      "None\n"
     ]
    }
   ],
   "source": [
    "import pandas as pd\n",
    "from scipy.stats import shapiro, wilcoxon\n",
    "\n",
    "df = pd.read_csv('./datasets/cats.csv')\n",
    "print(df.info())"
   ]
  },
  {
   "cell_type": "markdown",
   "metadata": {},
   "source": [
    "- 데이터가 정규 분포를 따르는지 확인하기 위해 **샤피로 윌크 검정**을 수행한다."
   ]
  },
  {
   "cell_type": "code",
   "execution_count": 12,
   "metadata": {},
   "outputs": [
    {
     "name": "stdout",
     "output_type": "stream",
     "text": [
      "ShapiroResult(statistic=0.9518791269479144, pvalue=6.730857622701013e-05)\n"
     ]
    }
   ],
   "source": [
    "result = shapiro(df['Bwt'])   # 샤피로 검정 수행\n",
    "print(result)"
   ]
  },
  {
   "cell_type": "markdown",
   "metadata": {},
   "source": [
    "- p값은 `6.730×10^-5`이므로 유의수준 `0.05`보다 <ins>작기</ins> 때문에 귀무가설을 기각하고 대립가설(정규성 불만족)을 채택한다.\n",
    "- `df`의 `height` 변수는 정규성을 불만족하므로 윌콕슨 검정을 검정을 수행한다."
   ]
  },
  {
   "cell_type": "code",
   "execution_count": 13,
   "metadata": {},
   "outputs": [
    {
     "name": "stdout",
     "output_type": "stream",
     "text": [
      "WilcoxonResult(statistic=50.0, pvalue=2.765612175340855e-23)\n"
     ]
    }
   ],
   "source": [
    "result = wilcoxon(df['Bwt'] - 2.1, alternative='two-sided')   # 평균 몸무게가 2.1kg인지 아닌지에 대해 양측 검정 수행\n",
    "print(result)"
   ]
  },
  {
   "cell_type": "markdown",
   "metadata": {},
   "source": [
    "- 윌콕슨 검정 통계량은 `50.0`이고, p-값은 유의 수준 `0.05`보다 <ins>작기</ins> 때문에 귀무가설을 기각하고 대립가설을 채택한다."
   ]
  },
  {
   "cell_type": "markdown",
   "metadata": {},
   "source": [
    "### 쌍체 표본 T-검정(Paired Sample T-Test; 대응 표본 T-검정)"
   ]
  },
  {
   "cell_type": "markdown",
   "metadata": {},
   "source": [
    "$$T = \\frac{\\bar{d} - \\mu_{d}}{\\frac{s}{\\sqrt{n}}}$$\n",
    "$$\\bar{d} : \\text{두 표본 집단 평균의 차이} \\\\\n",
    "\\mu_{d} : \\text{두 모집단 평균의 차이} \\\\\n",
    "s: 표본표준편차 \\\\\n",
    "n : \\text{표본의 크기}$$"
   ]
  },
  {
   "cell_type": "code",
   "execution_count": 17,
   "metadata": {},
   "outputs": [
    {
     "name": "stdout",
     "output_type": "stream",
     "text": [
      "   before  after\n",
      "0       5      8\n",
      "1       3      6\n",
      "2       8      6\n",
      "3       4      5\n",
      "4       3      8\n",
      "5       2      7\n",
      "6       1      3\n"
     ]
    }
   ],
   "source": [
    "import pandas as pd\n",
    "from scipy.stats import ttest_rel\n",
    "\n",
    "data = pd.DataFrame({\n",
    "    'before': [5, 3, 8, 4, 3, 2, 1],\n",
    "    'after': [8, 6, 6, 5, 8, 7, 3]\n",
    "})\n",
    "\n",
    "print(data)"
   ]
  },
  {
   "cell_type": "code",
   "execution_count": 18,
   "metadata": {},
   "outputs": [
    {
     "name": "stdout",
     "output_type": "stream",
     "text": [
      "TtestResult(statistic=-2.633628675421043, pvalue=0.019435182851729293, df=6)\n"
     ]
    }
   ],
   "source": [
    "# 수면 영양제를 복용하기 전과 후의 평균 수명 시간 차이가 비교하고자 하는 값(0) 보다 작은지에 대해 검정을 수행하기 때문에 less 입력\n",
    "result = ttest_rel(data['before'], data['after'], alternative='less')\n",
    "print(result)"
   ]
  },
  {
   "cell_type": "code",
   "execution_count": 19,
   "metadata": {},
   "outputs": [
    {
     "name": "stdout",
     "output_type": "stream",
     "text": [
      "0.019435182851729293\n"
     ]
    }
   ],
   "source": [
    "print(result.pvalue)   # p-값 출력"
   ]
  },
  {
   "cell_type": "markdown",
   "metadata": {},
   "source": [
    "- 유의수준 `0.05`일 경우, p-값은 `0.01944`로 유의수준보다 작기 때문에 귀무가설을 기각하고 대립가설을 채택한다."
   ]
  },
  {
   "cell_type": "markdown",
   "metadata": {},
   "source": [
    "### 독립 표본 T-검정(Independent Sample T-Test)"
   ]
  },
  {
   "cell_type": "markdown",
   "metadata": {},
   "source": [
    "- `cats` 데이터는 고양이들의 성별, 몸무게, 심장의 무게를 담고 있다. 유의수준 `0.05`일 때 고양이들의 성별에 따른 몸무게의 평균은 통계적으로 다르다고 할 수 있는지에 대한 검정을 수행하려고 한다.\n",
    "\n",
    "| 귀무가설($𝐻_0$) | 고양이의 성별에 따른 평균 몸무게는 통계적으로 유의한 차이가 없음. |\n",
    "| --- | --- |\n",
    "| 대립가설($𝐻_1$) | 고양이의 성별에 따른 평균 몸무게는 통계적으로 유의한 차이가 있음.  |"
   ]
  },
  {
   "cell_type": "code",
   "execution_count": 20,
   "metadata": {},
   "outputs": [
    {
     "name": "stdout",
     "output_type": "stream",
     "text": [
      "<class 'pandas.core.frame.DataFrame'>\n",
      "RangeIndex: 144 entries, 0 to 143\n",
      "Data columns (total 4 columns):\n",
      " #   Column    Non-Null Count  Dtype  \n",
      "---  ------    --------------  -----  \n",
      " 0   rownames  144 non-null    int64  \n",
      " 1   Sex       144 non-null    object \n",
      " 2   Bwt       144 non-null    float64\n",
      " 3   Hwt       144 non-null    float64\n",
      "dtypes: float64(2), int64(1), object(1)\n",
      "memory usage: 4.6+ KB\n",
      "None\n"
     ]
    }
   ],
   "source": [
    "import pandas as pd\n",
    "from scipy.stats import ttest_ind, levene\n",
    "\n",
    "cats = pd.read_csv('./datasets/cats.csv')\n",
    "print(cats.info())"
   ]
  },
  {
   "cell_type": "code",
   "execution_count": 21,
   "metadata": {},
   "outputs": [
    {
     "name": "stdout",
     "output_type": "stream",
     "text": [
      "LeveneResult(statistic=19.43101190877999, pvalue=2.0435285255189404e-05)\n"
     ]
    }
   ],
   "source": [
    "group1 = cats[cats['Sex'] == 'F']['Bwt']\n",
    "group2 = cats[cats['Sex'] == 'M']['Bwt']\n",
    "\n",
    "result = levene(group1, group2)\n",
    "print(result)"
   ]
  },
  {
   "cell_type": "code",
   "execution_count": 22,
   "metadata": {},
   "outputs": [
    {
     "name": "stdout",
     "output_type": "stream",
     "text": [
      "2.0435285255189404e-05\n"
     ]
    }
   ],
   "source": [
    "print(result.pvalue)"
   ]
  },
  {
   "cell_type": "markdown",
   "metadata": {},
   "source": [
    "- p-value가 유의 수준보다 작기 때문에 귀무가설(등분산성 가정 만족) 기각하고, 대립가설(등분산성 가정 불만족) 채택\n"
   ]
  },
  {
   "cell_type": "code",
   "execution_count": 23,
   "metadata": {},
   "outputs": [
    {
     "name": "stdout",
     "output_type": "stream",
     "text": [
      "TtestResult(statistic=-8.70948849909559, pvalue=8.831034455859356e-15, df=136.83788299625363)\n"
     ]
    }
   ],
   "source": [
    "result = ttest_ind(group1, group2, equal_var=False)\n",
    "print(result)"
   ]
  },
  {
   "cell_type": "code",
   "execution_count": 24,
   "metadata": {},
   "outputs": [
    {
     "name": "stdout",
     "output_type": "stream",
     "text": [
      "8.831034455859356e-15\n"
     ]
    }
   ],
   "source": [
    "print(result.pvalue)"
   ]
  },
  {
   "cell_type": "markdown",
   "metadata": {},
   "source": [
    "- p-값은 $8.831×10^{-15}$로 유의수준(0.05)보다 작기 때문에 귀무가설을 기각하고, 대립가설을 채택한다."
   ]
  },
  {
   "cell_type": "markdown",
   "metadata": {},
   "source": [
    "## F-검정(F-Test)"
   ]
  },
  {
   "cell_type": "code",
   "execution_count": 39,
   "metadata": {},
   "outputs": [
    {
     "name": "stdout",
     "output_type": "stream",
     "text": [
      "3.7\n"
     ]
    }
   ],
   "source": [
    "import numpy as np\n",
    "from scipy.stats import f\n",
    "\n",
    "df1 = np.array([1, 2, 3, 4, 6])\n",
    "print(np.var(df1, ddof=1))   # 분산 출력 (자유도: 1)"
   ]
  },
  {
   "cell_type": "code",
   "execution_count": 40,
   "metadata": {},
   "outputs": [
    {
     "name": "stdout",
     "output_type": "stream",
     "text": [
      "2.5\n"
     ]
    }
   ],
   "source": [
    "df2 = np.array([4, 5, 6, 7, 8])\n",
    "print(np.var(df2, ddof=1))"
   ]
  },
  {
   "cell_type": "code",
   "execution_count": 41,
   "metadata": {},
   "outputs": [],
   "source": [
    "def f_test(x, y):\n",
    "    if np.var(x, ddof=1) < np.var(y, ddof=1):\n",
    "        x, y = y, x\n",
    "    \n",
    "    f_value = np.var(x, ddof=1) / np.var(y, ddof=1)\n",
    "    x_dof = x.size - 1\n",
    "    y_dof = y.size - 1\n",
    "    p_value = (1 - f.cdf(f_value, x_dof, y_dof)) * 2   # 양측 검정\n",
    "    \n",
    "    return f_value, p_value"
   ]
  },
  {
   "cell_type": "code",
   "execution_count": 42,
   "metadata": {},
   "outputs": [
    {
     "name": "stdout",
     "output_type": "stream",
     "text": [
      "(1.48, 0.7133026753046221)\n"
     ]
    }
   ],
   "source": [
    "result = f_test(df1, df2)\n",
    "print(result)"
   ]
  },
  {
   "cell_type": "markdown",
   "metadata": {},
   "source": [
    "## 카이제곱 검정(Chi-Squared Test; $\\chi^{2}$ Test)"
   ]
  },
  {
   "cell_type": "markdown",
   "metadata": {},
   "source": [
    "### 적합도 검정(Goodness of Fit Test)"
   ]
  },
  {
   "cell_type": "markdown",
   "metadata": {},
   "source": [
    "- 유의수준이 `0.05`일 때 초등학교에 남학생이 90명, 여학생이 160명이 있다. 남학생, 여학생 비율이 45%와 55%인지를 카이제곱 검정을 이용하여 분석하려고 한다.\n",
    "\n",
    "| 귀무가설($𝐻_0$) | 초등학교 남학생, 여학생 비율은 45%와 55% |\n",
    "| --- | --- |\n",
    "| 대립가설($𝐻_1$) | 초등학교 남학생, 여학생 비율이 45%와 55%가 아님. |"
   ]
  },
  {
   "cell_type": "code",
   "execution_count": 2,
   "metadata": {},
   "outputs": [
    {
     "name": "stdout",
     "output_type": "stream",
     "text": [
      "Power_divergenceResult(statistic=8.181818181818182, pvalue=0.004231232899758152)\n"
     ]
    }
   ],
   "source": [
    "import numpy as np\n",
    "from scipy.stats import chisquare\n",
    "\n",
    "num = np.array([90, 160])\n",
    "\n",
    "# 기대 빈도 계산\n",
    "expected = np.array([0.45, 0.55]) * np.sum(num)\n",
    "\n",
    "result = chisquare(num, f_exp=expected)\n",
    "print(result)"
   ]
  },
  {
   "cell_type": "code",
   "execution_count": 3,
   "metadata": {},
   "outputs": [
    {
     "name": "stdout",
     "output_type": "stream",
     "text": [
      "0.004231232899758152\n"
     ]
    }
   ],
   "source": [
    "print(result.pvalue)"
   ]
  },
  {
   "cell_type": "markdown",
   "metadata": {},
   "source": [
    "### 독립성 검정(Test of Independence)"
   ]
  },
  {
   "cell_type": "code",
   "execution_count": 6,
   "metadata": {},
   "outputs": [
    {
     "name": "stdout",
     "output_type": "stream",
     "text": [
      "Exer    Freq  Some\n",
      "Sex               \n",
      "Female    49    58\n",
      "Male      65    40\n"
     ]
    }
   ],
   "source": [
    "import pandas as pd\n",
    "from scipy.stats import chi2_contingency\n",
    "\n",
    "survey = pd.read_csv('./datasets/survey.csv')\n",
    "\n",
    "tb = pd.crosstab(survey['Sex'], survey['Exer'])   # 각 변수의 빈도수를 계산하여 변수에 저장\n",
    "print(tb)"
   ]
  },
  {
   "cell_type": "code",
   "execution_count": 7,
   "metadata": {},
   "outputs": [
    {
     "name": "stdout",
     "output_type": "stream",
     "text": [
      "Chi2ContingencyResult(statistic=4.904232352768243, pvalue=0.0267909570897706, dof=1, expected_freq=array([[57.53773585, 49.46226415],\n",
      "       [56.46226415, 48.53773585]]))\n"
     ]
    }
   ],
   "source": [
    "result = chi2_contingency(tb)\n",
    "print(result)"
   ]
  },
  {
   "cell_type": "code",
   "execution_count": 8,
   "metadata": {},
   "outputs": [
    {
     "name": "stdout",
     "output_type": "stream",
     "text": [
      "0.0267909570897706\n"
     ]
    }
   ],
   "source": [
    "print(result.pvalue)"
   ]
  },
  {
   "cell_type": "markdown",
   "metadata": {},
   "source": [
    "### 동질성 검정(Test of Homogeneity)"
   ]
  },
  {
   "cell_type": "code",
   "execution_count": 9,
   "metadata": {},
   "outputs": [
    {
     "name": "stdout",
     "output_type": "stream",
     "text": [
      "Chi-squared value: 19.857142857142858\n",
      "p-value: 4.8761405516518554e-05\n",
      "Degrees of freedom: 2\n",
      "Expected frequencies:\n",
      "[[25. 40. 35.]\n",
      " [25. 40. 35.]]\n",
      "귀무가설 기각: 두 모집단은 동일한 분포를 갖지 않습니다.\n"
     ]
    }
   ],
   "source": [
    "import numpy as np\n",
    "from scipy.stats import chi2_contingency\n",
    "\n",
    "data = np.array([[20, 30, 50], [30, 50, 20]])\n",
    "\n",
    "chi2, p, dof, expected = chi2_contingency(data)\n",
    "\n",
    "print(f\"Chi-squared value: {chi2}\")\n",
    "print(f\"p-value: {p}\")\n",
    "print(f\"Degrees of freedom: {dof}\")\n",
    "print(\"Expected frequencies:\")\n",
    "print(expected)\n",
    "\n",
    "alpha = 0.05\n",
    "\n",
    "if p < alpha:\n",
    "    print(\"귀무가설 기각: 두 모집단은 동일한 분포를 갖지 않습니다.\")\n",
    "else:\n",
    "    print(\"귀무가설 채택: 두 모집단은 동일한 분포를 가집니다.\")"
   ]
  }
 ],
 "metadata": {
  "kernelspec": {
   "display_name": "bigdata",
   "language": "python",
   "name": "python3"
  },
  "language_info": {
   "codemirror_mode": {
    "name": "ipython",
    "version": 3
   },
   "file_extension": ".py",
   "mimetype": "text/x-python",
   "name": "python",
   "nbconvert_exporter": "python",
   "pygments_lexer": "ipython3",
   "version": "3.12.3"
  }
 },
 "nbformat": 4,
 "nbformat_minor": 2
}
