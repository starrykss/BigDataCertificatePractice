{
 "cells": [
  {
   "cell_type": "markdown",
   "metadata": {},
   "source": [
    "# <a id='toc1_'></a>[데이터 탐색](#toc0_)\n",
    "---"
   ]
  },
  {
   "cell_type": "markdown",
   "metadata": {},
   "source": [
    "**Table of contents**<a id='toc0_'></a>    \n",
    "- [데이터 탐색](#toc1_)    \n",
    "  - [개별 데이터 탐색](#toc1_1_)    \n",
    "    - [범주형 데이터 - 빈도수 탐색](#toc1_1_1_)    \n",
    "    - [수치형 데이터](#toc1_1_2_)    \n",
    "  - [다차원 데이터 탐색](#toc1_2_)    \n",
    "    - [범주형-범주형 데이터 탐색](#toc1_2_1_)    \n",
    "    - [수치형-수치형 데이터 탐색](#toc1_2_2_)    \n",
    "      - [`corr` 함수](#toc1_2_2_1_)    \n",
    "      - [상관 계수](#toc1_2_2_2_)    \n",
    "    - [범주형 - 수치형 데이터 탐색](#toc1_2_3_)    \n",
    "      - [`groupby` 함수](#toc1_2_3_1_)    \n",
    "  - [전체 데이터 파악](#toc1_3_)    \n",
    "    - [`info` 함수](#toc1_3_1_)    \n",
    "    - [`head` 함수](#toc1_3_2_)    \n",
    "    - [`tail` 함수](#toc1_3_3_)    \n",
    "\n",
    "<!-- vscode-jupyter-toc-config\n",
    "\tnumbering=false\n",
    "\tanchor=true\n",
    "\tflat=false\n",
    "\tminLevel=1\n",
    "\tmaxLevel=6\n",
    "\t/vscode-jupyter-toc-config -->\n",
    "<!-- THIS CELL WILL BE REPLACED ON TOC UPDATE. DO NOT WRITE YOUR TEXT IN THIS CELL -->"
   ]
  },
  {
   "cell_type": "markdown",
   "metadata": {},
   "source": [
    "---"
   ]
  },
  {
   "cell_type": "markdown",
   "metadata": {},
   "source": [
    "## <a id='toc1_1_'></a>[개별 데이터 탐색](#toc0_)"
   ]
  },
  {
   "cell_type": "markdown",
   "metadata": {},
   "source": [
    "### <a id='toc1_1_1_'></a>[범주형 데이터 - 빈도수 탐색](#toc0_)"
   ]
  },
  {
   "cell_type": "code",
   "execution_count": 3,
   "metadata": {},
   "outputs": [
    {
     "name": "stdout",
     "output_type": "stream",
     "text": [
      "cyl\n",
      "8    14\n",
      "4    11\n",
      "6     7\n",
      "Name: count, dtype: int64\n"
     ]
    }
   ],
   "source": [
    "import pandas as pd\n",
    "import statsmodels.api as sm\n",
    "\n",
    "mtcars = sm.datasets.get_rdataset('mtcars').data\n",
    "\n",
    "print(pd.Series(mtcars['cyl']).value_counts())"
   ]
  },
  {
   "cell_type": "markdown",
   "metadata": {},
   "source": [
    "### <a id='toc1_1_2_'></a>[수치형 데이터](#toc0_)"
   ]
  },
  {
   "cell_type": "code",
   "execution_count": 4,
   "metadata": {},
   "outputs": [
    {
     "name": "stdout",
     "output_type": "stream",
     "text": [
      "count    32.000000\n",
      "mean      3.217250\n",
      "std       0.978457\n",
      "min       1.513000\n",
      "25%       2.581250\n",
      "50%       3.325000\n",
      "75%       3.610000\n",
      "max       5.424000\n",
      "Name: wt, dtype: float64\n"
     ]
    }
   ],
   "source": [
    "import pandas as pd\n",
    "import statsmodels.api as sm\n",
    "\n",
    "mtcars = sm.datasets.get_rdataset('mtcars').data\n",
    "\n",
    "print(mtcars['wt'].describe())"
   ]
  },
  {
   "cell_type": "markdown",
   "metadata": {},
   "source": [
    "## <a id='toc1_2_'></a>[다차원 데이터 탐색](#toc0_)"
   ]
  },
  {
   "cell_type": "markdown",
   "metadata": {},
   "source": [
    "### <a id='toc1_2_1_'></a>[범주형-범주형 데이터 탐색](#toc0_)"
   ]
  },
  {
   "cell_type": "code",
   "execution_count": 5,
   "metadata": {},
   "outputs": [
    {
     "name": "stdout",
     "output_type": "stream",
     "text": [
      "cyl  4  6   8\n",
      "am           \n",
      "0    3  4  12\n",
      "1    8  3   2\n"
     ]
    }
   ],
   "source": [
    "import pandas as pd\n",
    "import statsmodels.api as sm\n",
    "\n",
    "mtcars = sm.datasets.get_rdataset('mtcars').data\n",
    "\n",
    "print(pd.crosstab(mtcars['am'], mtcars['cyl']))"
   ]
  },
  {
   "cell_type": "markdown",
   "metadata": {},
   "source": [
    "### <a id='toc1_2_2_'></a>[수치형-수치형 데이터 탐색](#toc0_)"
   ]
  },
  {
   "cell_type": "markdown",
   "metadata": {},
   "source": [
    "#### <a id='toc1_2_2_1_'></a>[`corr` 함수](#toc0_)"
   ]
  },
  {
   "cell_type": "code",
   "execution_count": 6,
   "metadata": {},
   "outputs": [
    {
     "name": "stdout",
     "output_type": "stream",
     "text": [
      "-0.8676593765172281\n"
     ]
    }
   ],
   "source": [
    "import statsmodels.api as sm\n",
    "\n",
    "mtcars = sm.datasets.get_rdataset('mtcars').data\n",
    "cor_mpg_wt = mtcars['mpg'].corr(mtcars['wt'])   # mpg, wt 간의 상관 계수를 변수에 저장\n",
    "\n",
    "print(cor_mpg_wt)"
   ]
  },
  {
   "cell_type": "markdown",
   "metadata": {},
   "source": [
    "#### <a id='toc1_2_2_2_'></a>[상관 계수](#toc0_)"
   ]
  },
  {
   "cell_type": "code",
   "execution_count": 8,
   "metadata": {},
   "outputs": [
    {
     "name": "stdout",
     "output_type": "stream",
     "text": [
      "<class 'pandas.core.frame.DataFrame'>\n",
      "RangeIndex: 768 entries, 0 to 767\n",
      "Data columns (total 9 columns):\n",
      " #   Column                    Non-Null Count  Dtype  \n",
      "---  ------                    --------------  -----  \n",
      " 0   Pregnancies               768 non-null    int64  \n",
      " 1   Glucose                   768 non-null    int64  \n",
      " 2   BloodPressure             768 non-null    int64  \n",
      " 3   SkinThickness             768 non-null    int64  \n",
      " 4   Insulin                   768 non-null    int64  \n",
      " 5   BMI                       768 non-null    float64\n",
      " 6   DiabetesPedigreeFunction  768 non-null    float64\n",
      " 7   Age                       768 non-null    int64  \n",
      " 8   Outcome                   768 non-null    int64  \n",
      "dtypes: float64(2), int64(7)\n",
      "memory usage: 54.1 KB\n",
      "None\n"
     ]
    }
   ],
   "source": [
    "import pandas as pd\n",
    "\n",
    "df = pd.read_csv('./datasets/PimaIndianDiabetes2.csv')\n",
    "print(df.info())"
   ]
  },
  {
   "cell_type": "code",
   "execution_count": 9,
   "metadata": {},
   "outputs": [
    {
     "name": "stdout",
     "output_type": "stream",
     "text": [
      "       BloodPressure  SkinThickness     Insulin         Age\n",
      "count     768.000000     768.000000  768.000000  768.000000\n",
      "mean       69.105469      20.536458   79.799479   33.240885\n",
      "std        19.355807      15.952218  115.244002   11.760232\n",
      "min         0.000000       0.000000    0.000000   21.000000\n",
      "25%        62.000000       0.000000    0.000000   24.000000\n",
      "50%        72.000000      23.000000   30.500000   29.000000\n",
      "75%        80.000000      32.000000  127.250000   41.000000\n",
      "max       122.000000      99.000000  846.000000   81.000000\n"
     ]
    }
   ],
   "source": [
    "df = df.iloc[:, [2, 3, 4, 7]]\n",
    "df = df.dropna()\n",
    "print(df.describe())"
   ]
  },
  {
   "cell_type": "code",
   "execution_count": 11,
   "metadata": {},
   "outputs": [
    {
     "name": "stdout",
     "output_type": "stream",
     "text": [
      "               BloodPressure  SkinThickness   Insulin       Age\n",
      "BloodPressure       1.000000       0.207371  0.088933  0.239528\n",
      "SkinThickness       0.207371       1.000000  0.436783 -0.113970\n",
      "Insulin             0.088933       0.436783  1.000000 -0.042163\n",
      "Age                 0.239528      -0.113970 -0.042163  1.000000\n"
     ]
    }
   ],
   "source": [
    "print(df.corr(method='pearson'))   # 피어슨 상관 계수"
   ]
  },
  {
   "cell_type": "code",
   "execution_count": 12,
   "metadata": {},
   "outputs": [
    {
     "name": "stdout",
     "output_type": "stream",
     "text": [
      "               BloodPressure  SkinThickness   Insulin       Age\n",
      "BloodPressure       1.000000       0.126486 -0.006771  0.350895\n",
      "SkinThickness       0.126486       1.000000  0.541000 -0.066795\n",
      "Insulin            -0.006771       0.541000  1.000000 -0.114213\n",
      "Age                 0.350895      -0.066795 -0.114213  1.000000\n"
     ]
    }
   ],
   "source": [
    "print(df.corr(method='spearman'))   # 스피어만 순위 상관 계수"
   ]
  },
  {
   "cell_type": "code",
   "execution_count": 13,
   "metadata": {},
   "outputs": [
    {
     "name": "stdout",
     "output_type": "stream",
     "text": [
      "               BloodPressure  SkinThickness   Insulin       Age\n",
      "BloodPressure       1.000000       0.094868 -0.003682  0.246056\n",
      "SkinThickness       0.094868       1.000000  0.420066 -0.044754\n",
      "Insulin            -0.003682       0.420066  1.000000 -0.080176\n",
      "Age                 0.246056      -0.044754 -0.080176  1.000000\n"
     ]
    }
   ],
   "source": [
    "print(df.corr(method='kendall'))   # 켄달 순위 상관 계수"
   ]
  },
  {
   "cell_type": "markdown",
   "metadata": {},
   "source": [
    "### <a id='toc1_2_3_'></a>[범주형 - 수치형 데이터 탐색](#toc0_)"
   ]
  },
  {
   "cell_type": "markdown",
   "metadata": {},
   "source": [
    "#### <a id='toc1_2_3_1_'></a>[`groupby` 함수](#toc0_)"
   ]
  },
  {
   "cell_type": "code",
   "execution_count": 14,
   "metadata": {},
   "outputs": [
    {
     "name": "stdout",
     "output_type": "stream",
     "text": [
      "cyl\n",
      "4    26.663636\n",
      "6    19.742857\n",
      "8    15.100000\n",
      "Name: mpg, dtype: float64\n"
     ]
    }
   ],
   "source": [
    "import statsmodels.api as sm\n",
    "\n",
    "mtcars = sm.datasets.get_rdataset('mtcars').data\n",
    "\n",
    "print(mtcars.groupby('cyl')['mpg'].mean())   # cyl을 기준으로 mpg의 평균 출력"
   ]
  },
  {
   "cell_type": "markdown",
   "metadata": {},
   "source": [
    "## <a id='toc1_3_'></a>[전체 데이터 파악](#toc0_)"
   ]
  },
  {
   "cell_type": "markdown",
   "metadata": {},
   "source": [
    "### <a id='toc1_3_1_'></a>[`info` 함수](#toc0_)"
   ]
  },
  {
   "cell_type": "code",
   "execution_count": 1,
   "metadata": {},
   "outputs": [
    {
     "name": "stdout",
     "output_type": "stream",
     "text": [
      "<class 'pandas.core.series.Series'>\n",
      "Index: 32 entries, Mazda RX4 to Volvo 142E\n",
      "Series name: wt\n",
      "Non-Null Count  Dtype  \n",
      "--------------  -----  \n",
      "32 non-null     float64\n",
      "dtypes: float64(1)\n",
      "memory usage: 512.0+ bytes\n",
      "None\n"
     ]
    }
   ],
   "source": [
    "import statsmodels.api as sm\n",
    "\n",
    "mtcars = sm.datasets.get_rdataset('mtcars').data\n",
    "\n",
    "print(mtcars['wt'].info())    # wt 데이터들에 대한 속성 확인"
   ]
  },
  {
   "cell_type": "markdown",
   "metadata": {},
   "source": [
    "### <a id='toc1_3_2_'></a>[`head` 함수](#toc0_)"
   ]
  },
  {
   "cell_type": "code",
   "execution_count": 2,
   "metadata": {},
   "outputs": [
    {
     "name": "stdout",
     "output_type": "stream",
     "text": [
      "rownames\n",
      "Mazda RX4            2.620\n",
      "Mazda RX4 Wag        2.875\n",
      "Datsun 710           2.320\n",
      "Hornet 4 Drive       3.215\n",
      "Hornet Sportabout    3.440\n",
      "Name: wt, dtype: float64\n"
     ]
    }
   ],
   "source": [
    "import statsmodels.api as sm\n",
    "\n",
    "mtcars = sm.datasets.get_rdataset('mtcars').data\n",
    "\n",
    "print(mtcars['wt'].head())    # mtcars 데이터 세트의 wt 열의 앞에 5개 데이터 출력"
   ]
  },
  {
   "cell_type": "markdown",
   "metadata": {},
   "source": [
    "### <a id='toc1_3_3_'></a>[`tail` 함수](#toc0_)"
   ]
  },
  {
   "cell_type": "code",
   "execution_count": 3,
   "metadata": {},
   "outputs": [
    {
     "name": "stdout",
     "output_type": "stream",
     "text": [
      "rownames\n",
      "Lotus Europa      1.513\n",
      "Ford Pantera L    3.170\n",
      "Ferrari Dino      2.770\n",
      "Maserati Bora     3.570\n",
      "Volvo 142E        2.780\n",
      "Name: wt, dtype: float64\n"
     ]
    }
   ],
   "source": [
    "import statsmodels.api as sm\n",
    "\n",
    "mtcars = sm.datasets.get_rdataset('mtcars').data\n",
    "\n",
    "print(mtcars['wt'].tail())    # mtcars 데이터 세트의 wt 열의 앞에 5개 데이터 출력"
   ]
  }
 ],
 "metadata": {
  "kernelspec": {
   "display_name": "bigdata",
   "language": "python",
   "name": "python3"
  },
  "language_info": {
   "codemirror_mode": {
    "name": "ipython",
    "version": 3
   },
   "file_extension": ".py",
   "mimetype": "text/x-python",
   "name": "python",
   "nbconvert_exporter": "python",
   "pygments_lexer": "ipython3",
   "version": "3.12.3"
  }
 },
 "nbformat": 4,
 "nbformat_minor": 2
}
