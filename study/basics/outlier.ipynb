{
 "cells": [
  {
   "cell_type": "markdown",
   "metadata": {},
   "source": [
    "# <a id='toc1_'></a>[이상값(Outlier)](#toc0_)\n",
    "---"
   ]
  },
  {
   "cell_type": "markdown",
   "metadata": {},
   "source": [
    "**Table of contents**<a id='toc0_'></a>    \n",
    "- [이상값(Outlier)](#toc1_)    \n",
    "  - [이상값 판별](#toc1_1_)    \n",
    "    - [ESD](#toc1_1_1_)    \n",
    "    - [4분위수 이용](#toc1_1_2_)    \n",
    "      - [① 박스 플롯을 이용한 이상값 검출](#toc1_1_2_1_)    \n",
    "      - [② IQR 함수를 이용한 이상값 검출](#toc1_1_2_2_)    \n",
    "\n",
    "<!-- vscode-jupyter-toc-config\n",
    "\tnumbering=false\n",
    "\tanchor=true\n",
    "\tflat=false\n",
    "\tminLevel=1\n",
    "\tmaxLevel=6\n",
    "\t/vscode-jupyter-toc-config -->\n",
    "<!-- THIS CELL WILL BE REPLACED ON TOC UPDATE. DO NOT WRITE YOUR TEXT IN THIS CELL -->"
   ]
  },
  {
   "cell_type": "markdown",
   "metadata": {},
   "source": [
    "---"
   ]
  },
  {
   "cell_type": "markdown",
   "metadata": {},
   "source": [
    "## <a id='toc1_1_'></a>[이상값 판별](#toc0_)"
   ]
  },
  {
   "cell_type": "markdown",
   "metadata": {},
   "source": [
    "### <a id='toc1_1_1_'></a>[ESD](#toc0_)"
   ]
  },
  {
   "cell_type": "markdown",
   "metadata": {},
   "source": [
    "$$\\mu- 3\\alpha < X < \\mu +3\\alpha \\iff |\\frac{X - \\mu}{\\sigma} | < 3$$"
   ]
  },
  {
   "cell_type": "markdown",
   "metadata": {},
   "source": [
    "$$(X: 관측값 \\quad \\mu : 평균 \\quad \\sigma: 표준편차)$$"
   ]
  },
  {
   "cell_type": "code",
   "execution_count": 1,
   "metadata": {},
   "outputs": [],
   "source": [
    "def esd(x):\n",
    "    return abs((x - x.mean()) / x.std()) < 3"
   ]
  },
  {
   "cell_type": "code",
   "execution_count": 2,
   "metadata": {},
   "outputs": [],
   "source": [
    "import pandas as pd\n",
    "\n",
    "df = pd.DataFrame({\n",
    "    'score': [1, 1, 1, 1, 1, 1, 1, 1, 1, 1, 1, 10000000], \n",
    "    'name': ['A', 'B', 'C', 'D', 'E', 'F', 'G', 'H', 'I', 'J', 'K', 'L']\n",
    "})"
   ]
  },
  {
   "cell_type": "code",
   "execution_count": 3,
   "metadata": {},
   "outputs": [
    {
     "name": "stdout",
     "output_type": "stream",
     "text": [
      "0      True\n",
      "1      True\n",
      "2      True\n",
      "3      True\n",
      "4      True\n",
      "5      True\n",
      "6      True\n",
      "7      True\n",
      "8      True\n",
      "9      True\n",
      "10     True\n",
      "11    False\n",
      "Name: score, dtype: bool\n"
     ]
    }
   ],
   "source": [
    "result = esd(df['score'])   # score의 이상값 판별\n",
    "\n",
    "print(result)"
   ]
  },
  {
   "cell_type": "code",
   "execution_count": 4,
   "metadata": {},
   "outputs": [
    {
     "name": "stdout",
     "output_type": "stream",
     "text": [
      "    score name\n",
      "0       1    A\n",
      "1       1    B\n",
      "2       1    C\n",
      "3       1    D\n",
      "4       1    E\n",
      "5       1    F\n",
      "6       1    G\n",
      "7       1    H\n",
      "8       1    I\n",
      "9       1    J\n",
      "10      1    K\n"
     ]
    }
   ],
   "source": [
    "print(df[result])   # True로 반환되는 행만 필터링하여 출력"
   ]
  },
  {
   "cell_type": "code",
   "execution_count": 5,
   "metadata": {},
   "outputs": [
    {
     "name": "stdout",
     "output_type": "stream",
     "text": [
      "    score name\n",
      "0       1    A\n",
      "1       1    B\n",
      "2       1    C\n",
      "3       1    D\n",
      "4       1    E\n",
      "5       1    F\n",
      "6       1    G\n",
      "7       1    H\n",
      "8       1    I\n",
      "9       1    J\n",
      "10      1    K\n"
     ]
    }
   ],
   "source": [
    "# 또는 다음과 같이 한꺼번에 출력할 수도 있다.\n",
    "print(df[esd(df['score'])])"
   ]
  },
  {
   "cell_type": "markdown",
   "metadata": {},
   "source": [
    "### <a id='toc1_1_2_'></a>[4분위수 이용](#toc0_)"
   ]
  },
  {
   "cell_type": "markdown",
   "metadata": {},
   "source": [
    "#### <a id='toc1_1_2_1_'></a>[① 박스 플롯을 이용한 이상값 검출](#toc0_)"
   ]
  },
  {
   "cell_type": "code",
   "execution_count": 6,
   "metadata": {},
   "outputs": [
    {
     "data": {
      "image/png": "[encoded data removed]",
      "text/plain": [
       "<Figure size 640x480 with 1 Axes>"
      ]
     },
     "metadata": {},
     "output_type": "display_data"
    }
   ],
   "source": [
    "import pandas as pd\n",
    "import matplotlib.pyplot as plt\n",
    "\n",
    "df = pd.DataFrame({'score': [65, 60, 70, 75, 200],\n",
    "                    'name': [\"Bell\", \"Cherry\", \"Don\", \"Jake\", \"Fox\"]})\n",
    "\n",
    "box_score = plt.boxplot(df['score'])   # score 열에 대해 boxplot 수행\n",
    "\n",
    "minimum = box_score['whiskers'][0].get_ydata()[1]         # 최소값\n",
    "q1 = box_score['boxes'][0].get_ydata()[1]                 # Q1\n",
    "q2 = box_score['medians'][0].get_ydata()[0]               # Q2\n",
    "q3 = box_score['boxes'][0].get_ydata()[2]                 # Q3\n",
    "maximum = box_score['whiskers'][1].get_ydata()[1]         # 최대값\n",
    "\n",
    "outliers = []\n",
    "for point in df['score']:\n",
    "    if point < minimum or point > maximum:    # 최소값 미만 또는 최대값 초과일 경우 이상값 처리\n",
    "        outliers.append(point)"
   ]
  },
  {
   "cell_type": "code",
   "execution_count": 7,
   "metadata": {},
   "outputs": [
    {
     "name": "stdout",
     "output_type": "stream",
     "text": [
      "최솟값: 60.0\n",
      "1사분위: 65.0\n",
      "2사분위(중앙값): 70.0\n",
      "3사분위: 75.0\n",
      "최댓값: 75.0\n",
      "이상값 [200]\n"
     ]
    }
   ],
   "source": [
    "print(\"최솟값:\", minimum)\n",
    "print(\"1사분위:\", q1)\n",
    "print(\"2사분위(중앙값):\", q2)\n",
    "print(\"3사분위:\", q3)\n",
    "print(\"최댓값:\", maximum)\n",
    "print(\"이상값\", outliers)\n"
   ]
  },
  {
   "cell_type": "markdown",
   "metadata": {},
   "source": [
    "- 함수로 만들어보기"
   ]
  },
  {
   "cell_type": "code",
   "execution_count": 8,
   "metadata": {},
   "outputs": [],
   "source": [
    "import matplotlib.pyplot as plt\n",
    "import pandas as pd\n",
    "\n",
    "# 4분위수 함수\n",
    "def get_outliers_with_boxplot(target):\n",
    "    box_score = plt.boxplot(target)\n",
    "\n",
    "    minimum = box_score['whiskers'][0].get_ydata()[1]\n",
    "    q1 = box_score['boxes'][0].get_ydata()[1]\n",
    "    q2 = box_score['medians'][0].get_ydata()[0]\n",
    "    q3 = box_score['boxes'][0].get_ydata()[2]\n",
    "    maximum = box_score['whiskers'][1].get_ydata()[1]\n",
    "\n",
    "    outliers = []\n",
    "    \n",
    "    for item in target:\n",
    "        if item < minimum or item > maximum:\n",
    "            outliers.append(item)\n",
    "    \n",
    "    return outliers"
   ]
  },
  {
   "cell_type": "code",
   "execution_count": 9,
   "metadata": {},
   "outputs": [
    {
     "name": "stdout",
     "output_type": "stream",
     "text": [
      "[200]\n"
     ]
    },
    {
     "data": {
      "image/png": "[encoded data removed]",
      "text/plain": [
       "<Figure size 640x480 with 1 Axes>"
      ]
     },
     "metadata": {},
     "output_type": "display_data"
    }
   ],
   "source": [
    "df = pd.DataFrame({'score': [65, 60, 70, 75, 200],\n",
    "                    'name': [\"Bell\", \"Cherry\", \"Don\", \"Jake\", \"Fox\"]})\n",
    "target = df['score']\n",
    "ourliers = get_outliers_with_boxplot(target)\n",
    "\n",
    "print(outliers)"
   ]
  },
  {
   "cell_type": "markdown",
   "metadata": {},
   "source": [
    "#### <a id='toc1_1_2_2_'></a>[② IQR 함수를 이용한 이상값 검출](#toc0_)"
   ]
  },
  {
   "cell_type": "markdown",
   "metadata": {},
   "source": [
    "$$ IQR = Q_3 - Q_1 \\\\ Q_1 - 1.5 \\times IQR < data < Q_3 + 1.5 \\times IQR $$"
   ]
  },
  {
   "cell_type": "code",
   "execution_count": 10,
   "metadata": {},
   "outputs": [
    {
     "name": "stdout",
     "output_type": "stream",
     "text": [
      "   score    name\n",
      "0     65    Bell\n",
      "1     60  Cherry\n",
      "2     70     Don\n",
      "3     75    Jake\n"
     ]
    }
   ],
   "source": [
    "import pandas as pd\n",
    "from scipy.stats import iqr\n",
    "\n",
    "df = pd.DataFrame({'score': [65, 60, 70, 75, 200],\n",
    "                    'name': [\"Bell\", \"Cherry\", \"Don\", \"Jake\", \"Fox\"]})\n",
    "\n",
    "min_score = df['score'].median() - 2 * iqr(df['score'])  # 중위수 - 2*IQR\n",
    "max_score = df['score'].median() + 2 * iqr(df['score'])  # 중위수 + 2*IQR\n",
    "\n",
    "result = df[(df['score'] >= min_score) & (df['score'] <= max_score)]\n",
    "print(result)"
   ]
  }
 ],
 "metadata": {
  "kernelspec": {
   "display_name": "bigdata",
   "language": "python",
   "name": "python3"
  },
  "language_info": {
   "codemirror_mode": {
    "name": "ipython",
    "version": 3
   },
   "file_extension": ".py",
   "mimetype": "text/x-python",
   "name": "python",
   "nbconvert_exporter": "python",
   "pygments_lexer": "ipython3",
   "version": "3.12.3"
  }
 },
 "nbformat": 4,
 "nbformat_minor": 2
}
