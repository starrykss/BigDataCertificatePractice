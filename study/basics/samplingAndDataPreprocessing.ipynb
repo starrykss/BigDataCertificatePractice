{
 "cells": [
  {
   "cell_type": "markdown",
   "metadata": {},
   "source": [
    "# <a id='toc1_'></a>[표본 추출 및 데이터 전처리](#toc0_)\n",
    "---"
   ]
  },
  {
   "cell_type": "markdown",
   "metadata": {},
   "source": [
    "**Table of contents**<a id='toc0_'></a>    \n",
    "- [표본 추출 및 데이터 전처리](#toc1_)    \n",
    "  - [표본 추출](#toc1_1_)    \n",
    "    - [`random.choice`](#toc1_1_1_)    \n",
    "  - [데이터 전처리](#toc1_2_)    \n",
    "    - [중심 경향성 통계량](#toc1_2_1_)    \n",
    "      - [평균(Mean)](#toc1_2_1_1_)    \n",
    "      - [중위수(Median)](#toc1_2_1_2_)    \n",
    "      - [최빈수(Mode)](#toc1_2_1_3_)    \n",
    "    - [산포도 통계량 (분포 계산)](#toc1_2_2_)    \n",
    "      - [분산(Variance)](#toc1_2_2_1_)    \n",
    "      - [표준편차(Standard Deviation)](#toc1_2_2_2_)    \n",
    "      - [범위(Range)](#toc1_2_2_3_)    \n",
    "      - [백분위수(Percentile), IQR](#toc1_2_2_4_)    \n",
    "    - [순위](#toc1_2_3_)    \n",
    "    - [기타](#toc1_2_4_)    \n",
    "\n",
    "<!-- vscode-jupyter-toc-config\n",
    "\tnumbering=false\n",
    "\tanchor=true\n",
    "\tflat=false\n",
    "\tminLevel=1\n",
    "\tmaxLevel=6\n",
    "\t/vscode-jupyter-toc-config -->\n",
    "<!-- THIS CELL WILL BE REPLACED ON TOC UPDATE. DO NOT WRITE YOUR TEXT IN THIS CELL -->"
   ]
  },
  {
   "cell_type": "markdown",
   "metadata": {},
   "source": [
    "---"
   ]
  },
  {
   "cell_type": "markdown",
   "metadata": {},
   "source": [
    "## <a id='toc1_1_'></a>[표본 추출](#toc0_)"
   ]
  },
  {
   "cell_type": "markdown",
   "metadata": {},
   "source": [
    "### <a id='toc1_1_1_'></a>[`random.choice`](#toc0_)"
   ]
  },
  {
   "cell_type": "markdown",
   "metadata": {},
   "source": [
    "- 단순 무작위 추출"
   ]
  },
  {
   "cell_type": "code",
   "execution_count": 1,
   "metadata": {},
   "outputs": [
    {
     "name": "stdout",
     "output_type": "stream",
     "text": [
      "[ 6  9 10  7  1]\n"
     ]
    }
   ],
   "source": [
    "import numpy as np\n",
    "\n",
    "numbers = np.arange(1, 11)\n",
    "s = np.random.choice(numbers, size=5, replace=False)\n",
    "print(s)"
   ]
  },
  {
   "cell_type": "code",
   "execution_count": 2,
   "metadata": {},
   "outputs": [
    {
     "name": "stdout",
     "output_type": "stream",
     "text": [
      "[4 3 7 3 4]\n"
     ]
    }
   ],
   "source": [
    "s = np.random.choice(numbers, size=5, replace=True)\n",
    "print(s)"
   ]
  },
  {
   "cell_type": "markdown",
   "metadata": {},
   "source": [
    "## <a id='toc1_2_'></a>[데이터 전처리](#toc0_)"
   ]
  },
  {
   "cell_type": "markdown",
   "metadata": {},
   "source": [
    "### <a id='toc1_2_1_'></a>[중심 경향성 통계량](#toc0_)"
   ]
  },
  {
   "cell_type": "markdown",
   "metadata": {},
   "source": [
    "#### <a id='toc1_2_1_1_'></a>[평균(Mean)](#toc0_)"
   ]
  },
  {
   "cell_type": "code",
   "execution_count": 3,
   "metadata": {},
   "outputs": [],
   "source": [
    "import pandas as pd\n",
    "from scipy.stats import trim_mean"
   ]
  },
  {
   "cell_type": "code",
   "execution_count": 4,
   "metadata": {},
   "outputs": [
    {
     "name": "stdout",
     "output_type": "stream",
     "text": [
      "25.48076923076923\n",
      "25.5\n"
     ]
    }
   ],
   "source": [
    "x = np.concatenate([np.arange(0, 51), [50]])   # 0~50과 50을 묶어서 x에 저장\n",
    "\n",
    "print(np.mean(x))\n",
    "print(trim_mean(x, 0.10))    # 양쪽 끝에서 10%를 제외한 값들의 평균"
   ]
  },
  {
   "cell_type": "code",
   "execution_count": 5,
   "metadata": {},
   "outputs": [
    {
     "name": "stdout",
     "output_type": "stream",
     "text": [
      "nan\n",
      "4.5\n"
     ]
    }
   ],
   "source": [
    "y = np.array([12, 7, 4, -5, np.nan])\n",
    "\n",
    "print(np.mean(y))\n",
    "print(np.nanmean(y))    # 결측값(nan)을 제외한 평균"
   ]
  },
  {
   "cell_type": "markdown",
   "metadata": {},
   "source": [
    "#### <a id='toc1_2_1_2_'></a>[중위수(Median)](#toc0_)"
   ]
  },
  {
   "cell_type": "code",
   "execution_count": 1,
   "metadata": {},
   "outputs": [
    {
     "name": "stdout",
     "output_type": "stream",
     "text": [
      "nan\n",
      "5.5\n"
     ]
    }
   ],
   "source": [
    "import numpy as np\n",
    "\n",
    "x = np.array([12, 7, 4, -5, np.nan])\n",
    "\n",
    "print(np.median(x))\n",
    "print(np.nanmedian(x))"
   ]
  },
  {
   "cell_type": "markdown",
   "metadata": {},
   "source": [
    "#### <a id='toc1_2_1_3_'></a>[최빈수(Mode)](#toc0_)"
   ]
  },
  {
   "cell_type": "code",
   "execution_count": 3,
   "metadata": {},
   "outputs": [
    {
     "name": "stdout",
     "output_type": "stream",
     "text": [
      "1\n"
     ]
    }
   ],
   "source": [
    "import numpy as np\n",
    "\n",
    "x = np.array([2, 1, 1, 3, 1])\n",
    "\n",
    "print(np.bincount(x).argmax())    # 최빈수 구하기"
   ]
  },
  {
   "cell_type": "markdown",
   "metadata": {},
   "source": [
    "### <a id='toc1_2_2_'></a>[산포도 통계량 (분포 계산)](#toc0_)"
   ]
  },
  {
   "cell_type": "markdown",
   "metadata": {},
   "source": [
    "#### <a id='toc1_2_2_1_'></a>[분산(Variance)](#toc0_)"
   ]
  },
  {
   "cell_type": "code",
   "execution_count": 4,
   "metadata": {},
   "outputs": [
    {
     "name": "stdout",
     "output_type": "stream",
     "text": [
      "0.9523809523809526\n"
     ]
    }
   ],
   "source": [
    "import numpy as np\n",
    "\n",
    "x = np.array([3, 4, 5, 2, 4, 3, 4])\n",
    "\n",
    "print(np.var(x, ddof=1))    # 표본집단의 분산 계산"
   ]
  },
  {
   "cell_type": "markdown",
   "metadata": {},
   "source": [
    "#### <a id='toc1_2_2_2_'></a>[표준편차(Standard Deviation)](#toc0_)"
   ]
  },
  {
   "cell_type": "code",
   "execution_count": 5,
   "metadata": {},
   "outputs": [
    {
     "name": "stdout",
     "output_type": "stream",
     "text": [
      "0.9759000729485333\n"
     ]
    }
   ],
   "source": [
    "import numpy as np\n",
    "\n",
    "x = np.array([3, 4, 5, 2, 4, 3, 4])\n",
    "\n",
    "print(np.std(x, ddof=1))    # 표본집단의 표준편차 계산"
   ]
  },
  {
   "cell_type": "markdown",
   "metadata": {},
   "source": [
    "#### <a id='toc1_2_2_3_'></a>[범위(Range)](#toc0_)"
   ]
  },
  {
   "cell_type": "code",
   "execution_count": 6,
   "metadata": {},
   "outputs": [
    {
     "name": "stdout",
     "output_type": "stream",
     "text": [
      "10\n",
      "1\n",
      "11\n"
     ]
    }
   ],
   "source": [
    "import numpy as np\n",
    "\n",
    "x = np.array([1, 7, 3, 5, 11, 4, 6])\n",
    "\n",
    "print(np.ptp(x))    # 범위 계산\n",
    "print(np.min(x))\n",
    "print(np.max(x))"
   ]
  },
  {
   "cell_type": "markdown",
   "metadata": {},
   "source": [
    "#### <a id='toc1_2_2_4_'></a>[백분위수(Percentile), IQR](#toc0_)"
   ]
  },
  {
   "cell_type": "code",
   "execution_count": 7,
   "metadata": {},
   "outputs": [
    {
     "name": "stdout",
     "output_type": "stream",
     "text": [
      "1.0\n",
      "1.0\n"
     ]
    }
   ],
   "source": [
    "import numpy as np\n",
    "from scipy.stats import iqr\n",
    "\n",
    "x = np.array([3, 4, 5, 2, 4, 3, 4])\n",
    "\n",
    "q1 = np.percentile(x, 25)\n",
    "q3 = np.percentile(x, 75)\n",
    "\n",
    "# IQR 구하기 1\n",
    "print(q3 - q1)\n",
    "\n",
    "# IQR 구하기 2\n",
    "print(iqr(x))\n"
   ]
  },
  {
   "cell_type": "markdown",
   "metadata": {},
   "source": [
    "### <a id='toc1_2_3_'></a>[순위](#toc0_)"
   ]
  },
  {
   "cell_type": "code",
   "execution_count": 9,
   "metadata": {},
   "outputs": [
    {
     "name": "stdout",
     "output_type": "stream",
     "text": [
      "0    2.0\n",
      "1    2.0\n",
      "2    4.0\n",
      "3    4.0\n",
      "4    6.0\n",
      "5    5.0\n",
      "dtype: float64\n",
      "0    1.0\n",
      "1    1.0\n",
      "2    2.0\n",
      "3    2.0\n",
      "4    4.0\n",
      "5    3.0\n",
      "dtype: float64\n"
     ]
    }
   ],
   "source": [
    "import pandas as pd\n",
    "\n",
    "x = np.array([1, 1, 5, 5, 9, 7])\n",
    "\n",
    "print(pd.Series(x).rank(method='average'))\n",
    "print(pd.Series(x).rank(method='first'))\n",
    "print(pd.Series(x).rank(method='min'))\n",
    "print(pd.Series(x).rank(method='max'))\n",
    "print(pd.Series(x).rank(method='dense'))"
   ]
  },
  {
   "cell_type": "markdown",
   "metadata": {},
   "source": [
    "### <a id='toc1_2_4_'></a>[기타](#toc0_)"
   ]
  },
  {
   "cell_type": "code",
   "execution_count": 10,
   "metadata": {},
   "outputs": [
    {
     "name": "stdout",
     "output_type": "stream",
     "text": [
      "3.14\n",
      "3\n"
     ]
    }
   ],
   "source": [
    "print(round(3.1425, 2))    # 소수점 두째 자리까지 출력\n",
    "print(int(3.1425))   # 정수형으로 변환 후 출력"
   ]
  }
 ],
 "metadata": {
  "kernelspec": {
   "display_name": "bigdata",
   "language": "python",
   "name": "python3"
  },
  "language_info": {
   "codemirror_mode": {
    "name": "ipython",
    "version": 3
   },
   "file_extension": ".py",
   "mimetype": "text/x-python",
   "name": "python",
   "nbconvert_exporter": "python",
   "pygments_lexer": "ipython3",
   "version": "3.12.3"
  }
 },
 "nbformat": 4,
 "nbformat_minor": 2
}
