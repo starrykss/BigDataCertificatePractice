{
 "cells": [
  {
   "cell_type": "markdown",
   "metadata": {},
   "source": [
    "# <a id='toc1_'></a>[분석 모형 구축](#toc0_)\n",
    "---"
   ]
  },
  {
   "cell_type": "markdown",
   "metadata": {},
   "source": [
    "**Table of contents**<a id='toc0_'></a>    \n",
    "- [분석 모형 구축](#toc1_)    \n",
    "  - [선형 회귀 분석](#toc1_1_)    \n",
    "  - [로지스틱 회귀 분석](#toc1_2_)    \n",
    "  - [의사 결정 나무](#toc1_3_)    \n",
    "  - [서포트 벡터 머신(SVM; Support Vector Machine)](#toc1_4_)    \n",
    "  - [K-NN 최근접 이웃(K-Nearest Neighbors)](#toc1_5_)    \n",
    "  - [인공 신경망(ANN; Artificial Neural Network)](#toc1_6_)    \n",
    "  - [앙상블(Ensemble)](#toc1_7_)    \n",
    "    - [배깅(Bagging; BootStrap Aggregating)](#toc1_7_1_)    \n",
    "    - [랜덤 포레스트(Random Forest)](#toc1_7_2_)    \n",
    "      - [종속 변수가 범주형](#toc1_7_2_1_)    \n",
    "      - [종속 변수가 수치형](#toc1_7_2_2_)    \n",
    "\n",
    "<!-- vscode-jupyter-toc-config\n",
    "\tnumbering=false\n",
    "\tanchor=true\n",
    "\tflat=false\n",
    "\tminLevel=1\n",
    "\tmaxLevel=6\n",
    "\t/vscode-jupyter-toc-config -->\n",
    "<!-- THIS CELL WILL BE REPLACED ON TOC UPDATE. DO NOT WRITE YOUR TEXT IN THIS CELL -->"
   ]
  },
  {
   "cell_type": "markdown",
   "metadata": {},
   "source": [
    "---"
   ]
  },
  {
   "cell_type": "markdown",
   "metadata": {},
   "source": [
    "## <a id='toc1_1_'></a>[선형 회귀 분석](#toc0_)"
   ]
  },
  {
   "cell_type": "code",
   "execution_count": 23,
   "metadata": {},
   "outputs": [
    {
     "name": "stdout",
     "output_type": "stream",
     "text": [
      "            AtBat        Hits       HmRun        Runs         RBI       Walks  \\\n",
      "count  322.000000  322.000000  322.000000  322.000000  322.000000  322.000000   \n",
      "mean   380.928571  101.024845   10.770186   50.909938   48.027950   38.742236   \n",
      "std    153.404981   46.454741    8.709037   26.024095   26.166895   21.639327   \n",
      "min     16.000000    1.000000    0.000000    0.000000    0.000000    0.000000   \n",
      "25%    255.250000   64.000000    4.000000   30.250000   28.000000   22.000000   \n",
      "50%    379.500000   96.000000    8.000000   48.000000   44.000000   35.000000   \n",
      "75%    512.000000  137.000000   16.000000   69.000000   64.750000   53.000000   \n",
      "max    687.000000  238.000000   40.000000  130.000000  121.000000  105.000000   \n",
      "\n",
      "            Years       CAtBat        CHits      CHmRun        CRuns  \\\n",
      "count  322.000000    322.00000   322.000000  322.000000   322.000000   \n",
      "mean     7.444099   2648.68323   717.571429   69.490683   358.795031   \n",
      "std      4.926087   2324.20587   654.472627   86.266061   334.105886   \n",
      "min      1.000000     19.00000     4.000000    0.000000     1.000000   \n",
      "25%      4.000000    816.75000   209.000000   14.000000   100.250000   \n",
      "50%      6.000000   1928.00000   508.000000   37.500000   247.000000   \n",
      "75%     11.000000   3924.25000  1059.250000   90.000000   526.250000   \n",
      "max     24.000000  14053.00000  4256.000000  548.000000  2165.000000   \n",
      "\n",
      "              CRBI       CWalks      PutOuts     Assists      Errors  \\\n",
      "count   322.000000   322.000000   322.000000  322.000000  322.000000   \n",
      "mean    330.118012   260.239130   288.937888  106.913043    8.040373   \n",
      "std     333.219617   267.058085   280.704614  136.854876    6.368359   \n",
      "min       0.000000     0.000000     0.000000    0.000000    0.000000   \n",
      "25%      88.750000    67.250000   109.250000    7.000000    3.000000   \n",
      "50%     220.500000   170.500000   212.000000   39.500000    6.000000   \n",
      "75%     426.250000   339.250000   325.000000  166.000000   11.000000   \n",
      "max    1659.000000  1566.000000  1378.000000  492.000000   32.000000   \n",
      "\n",
      "            Salary  \n",
      "count   263.000000  \n",
      "mean    535.925882  \n",
      "std     451.118681  \n",
      "min      67.500000  \n",
      "25%     190.000000  \n",
      "50%     425.000000  \n",
      "75%     750.000000  \n",
      "max    2460.000000  \n"
     ]
    }
   ],
   "source": [
    "import pandas as pd\n",
    "from sklearn.linear_model import LinearRegression\n",
    "from sklearn.model_selection import train_test_split\n",
    "from sklearn.metrics import mean_squared_error\n",
    "\n",
    "df = pd.read_csv('./datasets/Hitters.csv')\n",
    "print(df.describe())"
   ]
  },
  {
   "cell_type": "code",
   "execution_count": 24,
   "metadata": {},
   "outputs": [
    {
     "name": "stdout",
     "output_type": "stream",
     "text": [
      "       Unnamed: 0  AtBat  Hits  HmRun  Runs  RBI  Walks  Years  CAtBat  CHits  \\\n",
      "0  -Andy Allanson    293    66      1    30   29     14      1     293     66   \n",
      "1     -Alan Ashby    315    81      7    24   38     39     14    3449    835   \n",
      "2    -Alvin Davis    479   130     18    66   72     76      3    1624    457   \n",
      "\n",
      "   ...  CRuns  CRBI  CWalks  League Division PutOuts  Assists  Errors  Salary  \\\n",
      "0  ...     30    29      14       A        E     446       33      20     NaN   \n",
      "1  ...    321   414     375       N        W     632       43      10   475.0   \n",
      "2  ...    224   266     263       A        W     880       82      14   480.0   \n",
      "\n",
      "   NewLeague  \n",
      "0          A  \n",
      "1          N  \n",
      "2          A  \n",
      "\n",
      "[3 rows x 21 columns]\n"
     ]
    }
   ],
   "source": [
    "print(df.head(3))"
   ]
  },
  {
   "cell_type": "code",
   "execution_count": 25,
   "metadata": {},
   "outputs": [
    {
     "name": "stdout",
     "output_type": "stream",
     "text": [
      "<class 'pandas.core.frame.DataFrame'>\n",
      "RangeIndex: 322 entries, 0 to 321\n",
      "Data columns (total 21 columns):\n",
      " #   Column      Non-Null Count  Dtype  \n",
      "---  ------      --------------  -----  \n",
      " 0   Unnamed: 0  322 non-null    object \n",
      " 1   AtBat       322 non-null    int64  \n",
      " 2   Hits        322 non-null    int64  \n",
      " 3   HmRun       322 non-null    int64  \n",
      " 4   Runs        322 non-null    int64  \n",
      " 5   RBI         322 non-null    int64  \n",
      " 6   Walks       322 non-null    int64  \n",
      " 7   Years       322 non-null    int64  \n",
      " 8   CAtBat      322 non-null    int64  \n",
      " 9   CHits       322 non-null    int64  \n",
      " 10  CHmRun      322 non-null    int64  \n",
      " 11  CRuns       322 non-null    int64  \n",
      " 12  CRBI        322 non-null    int64  \n",
      " 13  CWalks      322 non-null    int64  \n",
      " 14  League      322 non-null    object \n",
      " 15  Division    322 non-null    object \n",
      " 16  PutOuts     322 non-null    int64  \n",
      " 17  Assists     322 non-null    int64  \n",
      " 18  Errors      322 non-null    int64  \n",
      " 19  Salary      263 non-null    float64\n",
      " 20  NewLeague   322 non-null    object \n",
      "dtypes: float64(1), int64(16), object(4)\n",
      "memory usage: 53.0+ KB\n",
      "None\n"
     ]
    }
   ],
   "source": [
    "# 속성 및 결측값 확인\n",
    "## Salary 열만 263개로 결측값이 존재하기 떄문에 결측값 처리 필요\n",
    "print(df.info())"
   ]
  },
  {
   "cell_type": "code",
   "execution_count": 26,
   "metadata": {},
   "outputs": [
    {
     "name": "stdout",
     "output_type": "stream",
     "text": [
      "<class 'pandas.core.frame.DataFrame'>\n",
      "Index: 263 entries, 1 to 321\n",
      "Data columns (total 21 columns):\n",
      " #   Column      Non-Null Count  Dtype  \n",
      "---  ------      --------------  -----  \n",
      " 0   Unnamed: 0  263 non-null    object \n",
      " 1   AtBat       263 non-null    int64  \n",
      " 2   Hits        263 non-null    int64  \n",
      " 3   HmRun       263 non-null    int64  \n",
      " 4   Runs        263 non-null    int64  \n",
      " 5   RBI         263 non-null    int64  \n",
      " 6   Walks       263 non-null    int64  \n",
      " 7   Years       263 non-null    int64  \n",
      " 8   CAtBat      263 non-null    int64  \n",
      " 9   CHits       263 non-null    int64  \n",
      " 10  CHmRun      263 non-null    int64  \n",
      " 11  CRuns       263 non-null    int64  \n",
      " 12  CRBI        263 non-null    int64  \n",
      " 13  CWalks      263 non-null    int64  \n",
      " 14  League      263 non-null    object \n",
      " 15  Division    263 non-null    object \n",
      " 16  PutOuts     263 non-null    int64  \n",
      " 17  Assists     263 non-null    int64  \n",
      " 18  Errors      263 non-null    int64  \n",
      " 19  Salary      263 non-null    float64\n",
      " 20  NewLeague   263 non-null    object \n",
      "dtypes: float64(1), int64(16), object(4)\n",
      "memory usage: 45.2+ KB\n",
      "None\n"
     ]
    }
   ],
   "source": [
    "# 결측값을 제거한 후 df 변수에 저장\n",
    "df = df.dropna()\n",
    "\n",
    "print(df.info())"
   ]
  },
  {
   "cell_type": "code",
   "execution_count": 27,
   "metadata": {},
   "outputs": [
    {
     "name": "stdout",
     "output_type": "stream",
     "text": [
      "['AtBat' 'Hits' 'HmRun' 'Runs' 'RBI' 'Walks' 'Years' 'CAtBat' 'CHits'\n",
      " 'CHmRun' 'CRuns' 'CRBI' 'CWalks' 'PutOuts' 'Assists' 'Errors'\n",
      " 'Unnamed: 0_-Alan Ashby' 'Unnamed: 0_-Alan Trammell'\n",
      " 'Unnamed: 0_-Alan Wiggins' 'Unnamed: 0_-Alex Trevino'\n",
      " 'Unnamed: 0_-Alfredo Griffin' 'Unnamed: 0_-Alvin Davis'\n",
      " 'Unnamed: 0_-Andre Dawson' 'Unnamed: 0_-Andre Thornton'\n",
      " 'Unnamed: 0_-Andres Galarraga' 'Unnamed: 0_-Andres Thomas'\n",
      " 'Unnamed: 0_-Andy VanSlyke' 'Unnamed: 0_-Argenis Salazar'\n",
      " 'Unnamed: 0_-Barry Bonds' 'Unnamed: 0_-Bill Almon'\n",
      " 'Unnamed: 0_-Bill Buckner' 'Unnamed: 0_-Bill Doran'\n",
      " 'Unnamed: 0_-Bill Madlock' 'Unnamed: 0_-Bill Schroeder'\n",
      " 'Unnamed: 0_-Billy Hatcher' 'Unnamed: 0_-BillyJo Robidoux'\n",
      " 'Unnamed: 0_-Bo Diaz' 'Unnamed: 0_-Bob Brenly' 'Unnamed: 0_-Bob Dernier'\n",
      " 'Unnamed: 0_-Bob Kearney' 'Unnamed: 0_-Bob Melvin'\n",
      " 'Unnamed: 0_-Bobby Bonilla' 'Unnamed: 0_-Brett Butler'\n",
      " 'Unnamed: 0_-Brian Downing' 'Unnamed: 0_-Brook Jacoby'\n",
      " 'Unnamed: 0_-Bruce Bochy' 'Unnamed: 0_-Buddy Bell'\n",
      " 'Unnamed: 0_-Buddy Biancalana' 'Unnamed: 0_-Cal Ripken'\n",
      " 'Unnamed: 0_-Candy Maldonado' 'Unnamed: 0_-Carlton Fisk'\n",
      " 'Unnamed: 0_-Carmelo Martinez' 'Unnamed: 0_-Carmen Castillo'\n",
      " 'Unnamed: 0_-Carney Lansford' 'Unnamed: 0_-Chet Lemon'\n",
      " 'Unnamed: 0_-Chili Davis' 'Unnamed: 0_-Chris Bando'\n",
      " 'Unnamed: 0_-Chris Brown' 'Unnamed: 0_-Chris Speier'\n",
      " 'Unnamed: 0_-Cory Snyder' 'Unnamed: 0_-Craig Reynolds'\n",
      " 'Unnamed: 0_-Curt Ford' 'Unnamed: 0_-Curt Wilkerson'\n",
      " 'Unnamed: 0_-Dale Murphy' 'Unnamed: 0_-Dale Sveum'\n",
      " 'Unnamed: 0_-Damaso Garcia' 'Unnamed: 0_-Dan Gladden'\n",
      " 'Unnamed: 0_-Dan Pasqua' 'Unnamed: 0_-Danny Tartabull'\n",
      " 'Unnamed: 0_-Darnell Coles' 'Unnamed: 0_-Darrell Evans'\n",
      " 'Unnamed: 0_-Darrell Porter' 'Unnamed: 0_-Darryl Strawberry'\n",
      " 'Unnamed: 0_-Daryl Boston' 'Unnamed: 0_-Dave Anderson'\n",
      " 'Unnamed: 0_-Dave Concepcion' 'Unnamed: 0_-Dave Henderson'\n",
      " 'Unnamed: 0_-Dave Parker' 'Unnamed: 0_-Dave Winfield'\n",
      " 'Unnamed: 0_-Davey Lopes' 'Unnamed: 0_-Denny Walling'\n",
      " 'Unnamed: 0_-Dick Schofield' 'Unnamed: 0_-Don Baylor'\n",
      " 'Unnamed: 0_-Don Mattingly' 'Unnamed: 0_-Don Slaught'\n",
      " 'Unnamed: 0_-Donnie Hill' 'Unnamed: 0_-Doug DeCinces'\n",
      " 'Unnamed: 0_-Dwayne Murphy' 'Unnamed: 0_-Dwight Evans'\n",
      " 'Unnamed: 0_-Ed Romero' 'Unnamed: 0_-Eddie Milner'\n",
      " 'Unnamed: 0_-Eddie Murray' 'Unnamed: 0_-Eric Davis'\n",
      " 'Unnamed: 0_-Frank White' 'Unnamed: 0_-Garry Templeton'\n",
      " 'Unnamed: 0_-Garth Iorg' 'Unnamed: 0_-Gary Carter'\n",
      " 'Unnamed: 0_-Gary Gaetti' 'Unnamed: 0_-Gary Matthews'\n",
      " 'Unnamed: 0_-Gary Pettis' 'Unnamed: 0_-Gary Redus'\n",
      " 'Unnamed: 0_-Gary Ward' 'Unnamed: 0_-George Bell'\n",
      " 'Unnamed: 0_-George Brett' 'Unnamed: 0_-George Hendrick'\n",
      " 'Unnamed: 0_-Glenn Braggs' 'Unnamed: 0_-Glenn Davis'\n",
      " 'Unnamed: 0_-Glenn Hubbard' 'Unnamed: 0_-Glenn Wilson'\n",
      " 'Unnamed: 0_-Graig Nettles' 'Unnamed: 0_-Greg Brock'\n",
      " 'Unnamed: 0_-Greg Gagne' 'Unnamed: 0_-Greg Walker'\n",
      " 'Unnamed: 0_-Hal McRae' 'Unnamed: 0_-Harold Baines'\n",
      " 'Unnamed: 0_-Harold Reynolds' 'Unnamed: 0_-Harry Spilman'\n",
      " 'Unnamed: 0_-Herm Winningham' 'Unnamed: 0_-Howard Johnson'\n",
      " 'Unnamed: 0_-Hubie Brooks' 'Unnamed: 0_-Jack Clark'\n",
      " 'Unnamed: 0_-Jack Howell' 'Unnamed: 0_-Jeff Reed'\n",
      " 'Unnamed: 0_-Jeffrey Leonard' 'Unnamed: 0_-Jerry Mumphrey'\n",
      " 'Unnamed: 0_-Jerry Royster' 'Unnamed: 0_-Jesse Barfield'\n",
      " 'Unnamed: 0_-Jim Dwyer' 'Unnamed: 0_-Jim Gantner'\n",
      " 'Unnamed: 0_-Jim Morrison' 'Unnamed: 0_-Jim Presley'\n",
      " 'Unnamed: 0_-Jim Rice' 'Unnamed: 0_-Jim Sundberg'\n",
      " 'Unnamed: 0_-Jody Davis' 'Unnamed: 0_-Joe Carter'\n",
      " 'Unnamed: 0_-Joel Skinner' 'Unnamed: 0_-Joel Youngblood'\n",
      " 'Unnamed: 0_-John Cangelosi' 'Unnamed: 0_-John Kruk'\n",
      " 'Unnamed: 0_-John Moses' 'Unnamed: 0_-John Russell'\n",
      " 'Unnamed: 0_-John Shelby' 'Unnamed: 0_-Johnny Grubb'\n",
      " 'Unnamed: 0_-Johnny Ray' 'Unnamed: 0_-Jose Canseco'\n",
      " 'Unnamed: 0_-Jose Cruz' 'Unnamed: 0_-Jose Uribe'\n",
      " 'Unnamed: 0_-Juan Beniquez' 'Unnamed: 0_-Juan Samuel'\n",
      " 'Unnamed: 0_-Julio Franco' 'Unnamed: 0_-Kal Daniels'\n",
      " 'Unnamed: 0_-Keith Hernandez' 'Unnamed: 0_-Keith Moreland'\n",
      " 'Unnamed: 0_-Ken Griffey' 'Unnamed: 0_-Ken Landreaux'\n",
      " 'Unnamed: 0_-Ken Oberkfell' 'Unnamed: 0_-Ken Phelps'\n",
      " 'Unnamed: 0_-Kent Hrbek' 'Unnamed: 0_-Kevin Bass'\n",
      " 'Unnamed: 0_-Kevin McReynolds' 'Unnamed: 0_-Kevin Mitchell'\n",
      " 'Unnamed: 0_-Kirby Puckett' 'Unnamed: 0_-Kirk Gibson'\n",
      " 'Unnamed: 0_-Kurt Stillwell' 'Unnamed: 0_-Lance Parrish'\n",
      " 'Unnamed: 0_-Larry Herndon' 'Unnamed: 0_-Larry Parrish'\n",
      " 'Unnamed: 0_-Larry Sheets' 'Unnamed: 0_-Lee Lacy'\n",
      " 'Unnamed: 0_-Len Dykstra' 'Unnamed: 0_-Len Matuszek'\n",
      " 'Unnamed: 0_-Leon Durham' 'Unnamed: 0_-Lloyd Moseby'\n",
      " 'Unnamed: 0_-Lou Whitaker' 'Unnamed: 0_-Mariano Duncan'\n",
      " 'Unnamed: 0_-Mark Salas' 'Unnamed: 0_-Marty Barrett'\n",
      " 'Unnamed: 0_-Marvell Wynne' 'Unnamed: 0_-Mel Hall'\n",
      " 'Unnamed: 0_-Mickey Tettleton' 'Unnamed: 0_-Mike Aldrete'\n",
      " 'Unnamed: 0_-Mike Davis' 'Unnamed: 0_-Mike Diaz'\n",
      " 'Unnamed: 0_-Mike Easler' 'Unnamed: 0_-Mike Heath'\n",
      " 'Unnamed: 0_-Mike Kingery' 'Unnamed: 0_-Mike LaValliere'\n",
      " 'Unnamed: 0_-Mike Marshall' 'Unnamed: 0_-Mike Pagliarulo'\n",
      " 'Unnamed: 0_-Mike Schmidt' 'Unnamed: 0_-Mike Scioscia'\n",
      " 'Unnamed: 0_-Mike Young' 'Unnamed: 0_-Milt Thompson'\n",
      " 'Unnamed: 0_-Mitch Webster' 'Unnamed: 0_-Mookie Wilson'\n",
      " 'Unnamed: 0_-Oddibe McDowell' 'Unnamed: 0_-Ozzie Guillen'\n",
      " 'Unnamed: 0_-Ozzie Smith' 'Unnamed: 0_-Ozzie Virgil'\n",
      " 'Unnamed: 0_-Pat Sheridan' 'Unnamed: 0_-Pat Tabler'\n",
      " 'Unnamed: 0_-Paul Molitor' 'Unnamed: 0_-Pete Incaviglia'\n",
      " 'Unnamed: 0_-Pete Rose' 'Unnamed: 0_-Phil Bradley'\n",
      " 'Unnamed: 0_-Phil Garner' 'Unnamed: 0_-Rafael Belliard'\n",
      " 'Unnamed: 0_-Rafael Ramirez' 'Unnamed: 0_-Rafael Santana'\n",
      " 'Unnamed: 0_-Rance Mulliniks' 'Unnamed: 0_-Randy Bush'\n",
      " 'Unnamed: 0_-Ray Knight' 'Unnamed: 0_-Reggie Jackson'\n",
      " 'Unnamed: 0_-Rey Quinones' 'Unnamed: 0_-Rick Burleson'\n",
      " 'Unnamed: 0_-Rick Cerone' 'Unnamed: 0_-Rick Dempsey'\n",
      " 'Unnamed: 0_-Rick Leach' 'Unnamed: 0_-Rick Manning'\n",
      " 'Unnamed: 0_-Rick Schu' 'Unnamed: 0_-Rickey Henderson'\n",
      " 'Unnamed: 0_-Rob Deer' 'Unnamed: 0_-Rob Wilfong'\n",
      " 'Unnamed: 0_-Robby Thompson' 'Unnamed: 0_-Robin Yount'\n",
      " 'Unnamed: 0_-Ron Cey' 'Unnamed: 0_-Ron Hassey' 'Unnamed: 0_-Ron Kittle'\n",
      " 'Unnamed: 0_-Ron Oester' 'Unnamed: 0_-Ron Roenicke'\n",
      " 'Unnamed: 0_-Ronn Reynolds' 'Unnamed: 0_-Roy Smalley'\n",
      " 'Unnamed: 0_-Ruben Sierra' 'Unnamed: 0_-Ryne Sandberg'\n",
      " 'Unnamed: 0_-Scott Bradley' 'Unnamed: 0_-Scott Fletcher'\n",
      " 'Unnamed: 0_-Shawon Dunston' 'Unnamed: 0_-Sid Bream'\n",
      " 'Unnamed: 0_-Spike Owen' 'Unnamed: 0_-Steve Balboni'\n",
      " 'Unnamed: 0_-Steve Buechele' 'Unnamed: 0_-Steve Garvey'\n",
      " 'Unnamed: 0_-Steve Jeltz' 'Unnamed: 0_-Steve Lombardozzi'\n",
      " 'Unnamed: 0_-Steve Sax' 'Unnamed: 0_-Ted Simmons'\n",
      " 'Unnamed: 0_-Terry Harper' 'Unnamed: 0_-Terry Kennedy'\n",
      " 'Unnamed: 0_-Terry Pendleton' 'Unnamed: 0_-Terry Puhl'\n",
      " 'Unnamed: 0_-Tim Flannery' 'Unnamed: 0_-Tim Hulett'\n",
      " 'Unnamed: 0_-Tim Laudner' 'Unnamed: 0_-Tim Teufel'\n",
      " 'Unnamed: 0_-Tim Wallach' 'Unnamed: 0_-Tito Landrum'\n",
      " 'Unnamed: 0_-Tom Brookens' 'Unnamed: 0_-Tom Brunansky'\n",
      " 'Unnamed: 0_-Tom Foley' 'Unnamed: 0_-Tom Paciorek'\n",
      " 'Unnamed: 0_-Tommy Herr' 'Unnamed: 0_-Tony Bernazard'\n",
      " 'Unnamed: 0_-Tony Fernandez' 'Unnamed: 0_-Tony Gwynn'\n",
      " 'Unnamed: 0_-Tony Pena' 'Unnamed: 0_-Tony Phillips'\n",
      " 'Unnamed: 0_-Vance Law' 'Unnamed: 0_-Vince Coleman'\n",
      " 'Unnamed: 0_-Von Hayes' 'Unnamed: 0_-Wade Boggs'\n",
      " 'Unnamed: 0_-Wally Backman' 'Unnamed: 0_-Wally Joyner'\n",
      " 'Unnamed: 0_-Wayne Tolleson' 'Unnamed: 0_-Will Clark'\n",
      " 'Unnamed: 0_-Willie McGee' 'Unnamed: 0_-Willie Randolph'\n",
      " 'Unnamed: 0_-Willie Upshaw' 'Unnamed: 0_-Willie Wilson' 'League_N'\n",
      " 'Division_W' 'NewLeague_N']\n"
     ]
    }
   ],
   "source": [
    "# 범주형 레이블 데이터를 LabelEncoder 객체를 사용하여 숫자로 변환 후 저장\n",
    "df = pd.get_dummies(df, drop_first=True)\n",
    "\n",
    "x = df.drop('Salary', axis=1)   # Salary 열을 제외한 나머지 열들 저장\n",
    "y = df['Salary']\n",
    "\n",
    "# 학습용 데이터 80%, 평가용 데이터 20% 지정\n",
    "## x 변수의 80% -> train_x\n",
    "## x 변수의 20% -> test_x\n",
    "## y 변수의 80% -> train_y\n",
    "## y 변수의 20% -> test_y\n",
    "train_x, test_x, train_y, test_y = train_test_split(x, y, test_size=0.2)\n",
    "\n",
    "# 회귀 분석\n",
    "md = LinearRegression()\n",
    "md.fit(train_x, train_y)   # 회귀 분석 수행\n",
    "print(md.feature_names_in_)   # 독립 변수의 순서 출력"
   ]
  },
  {
   "cell_type": "code",
   "execution_count": 28,
   "metadata": {},
   "outputs": [
    {
     "name": "stdout",
     "output_type": "stream",
     "text": [
      "[-2.42922383e+00  9.26403534e+00 -4.24195329e+00 -4.21883090e+00\n",
      "  2.20031073e+00  5.92905458e+00 -9.34444275e+00 -7.72113093e-02\n",
      " -9.11501085e-02  2.74301857e+00  1.76649218e+00 -2.72616458e-02\n",
      " -9.75509599e-01  2.48359313e-01  3.02379312e-01 -6.32421464e-01\n",
      "  1.13447642e+02 -2.77496185e+02  3.90809180e+02  2.90993137e+02\n",
      "  2.15998543e+02 -2.05996739e+02  2.59080951e-13 -2.27373675e-13\n",
      " -4.43515156e+02 -1.18891027e+02  2.06803888e+01  1.51821709e+01\n",
      " -2.04446814e+02 -8.28167579e+01 -5.32750084e+02  1.13299417e+01\n",
      " -5.06158301e+01  3.22112282e+01 -4.79272781e+01 -2.28282779e+02\n",
      "  1.75289614e+02 -1.13686838e-13  4.24787091e+02  1.42113298e+02\n",
      " -8.55711875e+01 -3.31215057e+02 -2.84217094e-14 -6.82121026e-13\n",
      "  4.26325641e-13 -4.13537069e+01 -2.41584530e-13  1.01081214e+02\n",
      "  2.35530130e+02  2.29644577e+02 -2.24486518e+02  6.89301720e+01\n",
      " -1.42108547e-13  0.00000000e+00 -2.03814141e+02  3.16277512e+01\n",
      "  2.56771139e+01 -2.72953706e+02  5.49351030e+01 -1.45040796e+02\n",
      "  9.18459531e+01 -1.97053297e+02  1.68042954e+02  6.31737543e+02\n",
      " -4.54747351e-13  1.50246125e+02 -4.71988901e+01 -3.15560514e+02\n",
      " -1.90840446e+02 -2.90225988e+02 -7.09368013e+02 -1.37707198e+02\n",
      "  4.50293413e+02 -3.97903932e-13  5.82829507e+01 -1.85728411e+02\n",
      " -6.05489916e+01  3.97903932e-13  2.99672588e+02 -5.35857742e+02\n",
      "  1.24430786e+02  1.76711979e+02  0.00000000e+00  5.65936935e+02\n",
      "  1.82325160e+02  5.68534908e+00 -8.32721218e+00  3.20035435e+01\n",
      " -4.71639374e+02  3.21903192e+02  1.87613250e+02  6.17682233e+02\n",
      " -1.79444706e+02 -1.93562780e+02 -1.97333733e+00 -2.55795385e-13\n",
      "  5.53710869e+02  2.23558120e+02 -3.98400766e+02  5.96518754e+01\n",
      "  6.76022153e+01 -3.41060513e-13  3.87358205e+02  6.37165804e+01\n",
      " -3.28870902e+02 -4.76152930e+01 -5.27337940e+02 -2.00429315e+01\n",
      "  4.54926038e+01  3.97903932e-13  6.96312110e+00 -2.46444964e+01\n",
      "  8.52651283e-14 -3.63918074e+02 -2.27373675e-13  8.17578403e+00\n",
      " -3.36021644e+01 -7.66336547e+01 -9.13854058e+01  8.50461356e+01\n",
      "  2.64143229e+02 -4.16123181e+01 -1.63249522e+02 -3.63381144e+02\n",
      " -2.23411624e+01  3.04786702e-01  3.67273879e+02  2.22289595e+01\n",
      "  3.64951995e+02 -4.56370170e+02 -3.12638804e-13  2.74826229e+02\n",
      " -2.84217094e-14  3.55654025e+02  1.70530257e-13  6.19052696e+01\n",
      "  6.78126283e+01 -2.22715374e+02 -4.61852778e-13  1.42108547e-13\n",
      " -2.38062315e+02  1.42270740e+02 -1.17550709e+02 -3.13461564e+02\n",
      " -9.78348967e+01 -7.36280544e+01 -1.72763692e+02 -2.80759235e+02\n",
      " -9.12483686e+00  7.83495771e+01 -1.91916483e+02  3.31878772e+02\n",
      "  4.38058181e+02 -4.33431069e-13  2.05741902e+02  2.42775195e+02\n",
      " -6.69844005e+01 -1.13686838e-13  6.35662424e+00 -3.91448833e+01\n",
      " -3.12638804e-13 -2.14555110e+02  5.33812908e+02 -1.33806389e+02\n",
      "  0.00000000e+00 -3.36497813e+02 -3.38167634e+02 -1.28293235e+02\n",
      " -1.23454204e+02 -3.48709456e+02 -1.44349002e+01  1.36169204e+02\n",
      "  1.03363311e+02 -3.68436485e+02 -4.95989069e+01 -1.78269137e+01\n",
      " -3.26565334e+01  3.41060513e-13  5.84376937e+01 -7.64342113e+01\n",
      "  2.06057393e-13  4.46417106e+02 -2.44384551e+02 -1.81981770e+02\n",
      " -8.52651283e-14  9.61723124e+00  5.68434189e-14  3.35686005e+02\n",
      " -1.65773584e+02  1.88502710e+03  5.00496145e+02 -8.28966620e+01\n",
      " -1.25501017e+02 -3.47688922e+02  0.00000000e+00 -5.68434189e-14\n",
      " -1.03793967e+01  1.17177517e+03  2.04568771e+02  2.23794464e+01\n",
      " -5.68434189e-14  3.95298273e+02 -1.30885685e-02  2.84217094e-14\n",
      " -5.68434189e-14 -1.17106304e+02  1.13686838e-13  6.29725315e+02\n",
      " -1.45813767e+01  1.23500294e+02 -6.97564239e+00  0.00000000e+00\n",
      "  0.00000000e+00 -3.91328368e+01 -6.01914737e+00 -2.76368861e+00\n",
      "  1.92539008e+02  2.02980439e+01  4.79147992e+01  0.00000000e+00\n",
      "  0.00000000e+00 -1.22972839e+02  1.61338228e+02 -2.73557635e+02\n",
      " -4.19312637e+02  8.35915421e+01  4.31015529e+01  1.04556328e+02\n",
      "  0.00000000e+00 -2.28822057e+02  0.00000000e+00  2.66567006e+02\n",
      "  0.00000000e+00 -3.61088034e+02 -1.29481531e+02  3.40380497e+01\n",
      " -2.12027029e+02 -5.82959496e+02  1.43501943e+02  0.00000000e+00\n",
      " -5.20180715e+00 -8.77716181e+01 -2.46821650e+02 -1.16665015e+02\n",
      " -8.63822995e+02 -3.38692094e+02  0.00000000e+00  0.00000000e+00\n",
      "  0.00000000e+00  4.94998787e+02 -7.39936731e+01  2.44958284e+02\n",
      "  1.26064500e+01 -1.37307967e+02  1.58698032e+02  1.01002352e+02\n",
      " -4.45263930e+01  3.96443106e+02  0.00000000e+00 -1.53931007e+02\n",
      "  1.74234744e+02 -2.38280053e+02 -2.66171914e+02  5.86783641e+00\n",
      "  0.00000000e+00  5.67399466e+00  0.00000000e+00 -8.21349143e+01\n",
      "  1.41981658e+02  4.05653483e+02 -3.36276240e+01  0.00000000e+00\n",
      "  1.22128950e+02 -3.72054637e+02  1.32683336e+02  1.99064357e+01\n",
      "  0.00000000e+00  3.08657820e+02 -4.43707068e+01 -8.73531839e+01\n",
      "  1.20298963e+02]\n"
     ]
    }
   ],
   "source": [
    "print(md.coef_)   # md 모델의 계수 출력"
   ]
  },
  {
   "cell_type": "code",
   "execution_count": 29,
   "metadata": {},
   "outputs": [
    {
     "name": "stdout",
     "output_type": "stream",
     "text": [
      "134.27992157352782\n"
     ]
    }
   ],
   "source": [
    "print(md.intercept_)     # md 모델의 절편값 출력"
   ]
  },
  {
   "cell_type": "code",
   "execution_count": 30,
   "metadata": {},
   "outputs": [
    {
     "name": "stdout",
     "output_type": "stream",
     "text": [
      "395.07679434923136\n"
     ]
    },
    {
     "name": "stderr",
     "output_type": "stream",
     "text": [
      "c:\\Users\\kss34\\anaconda3\\envs\\bigdata\\Lib\\site-packages\\sklearn\\metrics\\_regression.py:483: FutureWarning: 'squared' is deprecated in version 1.4 and will be removed in 1.6. To calculate the root mean squared error, use the function'root_mean_squared_error'.\n",
      "  warnings.warn(\n"
     ]
    }
   ],
   "source": [
    "pred = md.predict(test_x)\n",
    "\n",
    "print(mean_squared_error(test_y, pred, squared=False))    # RMSE 값 계산 (값이 클수록 잔차가 큼)"
   ]
  },
  {
   "cell_type": "markdown",
   "metadata": {},
   "source": [
    "## <a id='toc1_2_'></a>[로지스틱 회귀 분석](#toc0_)"
   ]
  },
  {
   "cell_type": "code",
   "execution_count": 31,
   "metadata": {},
   "outputs": [
    {
     "name": "stdout",
     "output_type": "stream",
     "text": [
      "       Pregnancies     Glucose  BloodPressure  SkinThickness     Insulin  \\\n",
      "count   768.000000  768.000000     768.000000     768.000000  768.000000   \n",
      "mean      3.845052  120.894531      69.105469      20.536458   79.799479   \n",
      "std       3.369578   31.972618      19.355807      15.952218  115.244002   \n",
      "min       0.000000    0.000000       0.000000       0.000000    0.000000   \n",
      "25%       1.000000   99.000000      62.000000       0.000000    0.000000   \n",
      "50%       3.000000  117.000000      72.000000      23.000000   30.500000   \n",
      "75%       6.000000  140.250000      80.000000      32.000000  127.250000   \n",
      "max      17.000000  199.000000     122.000000      99.000000  846.000000   \n",
      "\n",
      "              BMI    Diabetes         Age     Outcome  \n",
      "count  768.000000  768.000000  768.000000  768.000000  \n",
      "mean    31.992578    0.471876   33.240885    0.348958  \n",
      "std      7.884160    0.331329   11.760232    0.476951  \n",
      "min      0.000000    0.078000   21.000000    0.000000  \n",
      "25%     27.300000    0.243750   24.000000    0.000000  \n",
      "50%     32.000000    0.372500   29.000000    0.000000  \n",
      "75%     36.600000    0.626250   41.000000    1.000000  \n",
      "max     67.100000    2.420000   81.000000    1.000000  \n"
     ]
    }
   ],
   "source": [
    "import pandas as pd\n",
    "from sklearn.linear_model import LogisticRegression\n",
    "from sklearn.model_selection import train_test_split\n",
    "from sklearn.metrics import confusion_matrix\n",
    "from sklearn.metrics import accuracy_score\n",
    "from sklearn.metrics import recall_score\n",
    "from sklearn.metrics import precision_score\n",
    "from sklearn.metrics import f1_score\n",
    "from sklearn.metrics import roc_auc_score\n",
    "from sklearn.preprocessing import LabelEncoder\n",
    "\n",
    "df = pd.read_csv('./datasets/PimaIndianDiabetes2.csv')\n",
    "\n",
    "print(df.describe())"
   ]
  },
  {
   "cell_type": "code",
   "execution_count": 32,
   "metadata": {},
   "outputs": [
    {
     "name": "stdout",
     "output_type": "stream",
     "text": [
      "   Pregnancies  Glucose  BloodPressure  SkinThickness  Insulin   BMI  \\\n",
      "0            6      148             72             35        0  33.6   \n",
      "1            1       85             66             29        0  26.6   \n",
      "2            8      183             64              0        0  23.3   \n",
      "\n",
      "   Diabetes  Age  Outcome  \n",
      "0     0.627   50        1  \n",
      "1     0.351   31        0  \n",
      "2     0.672   32        1  \n"
     ]
    }
   ],
   "source": [
    "print(df.head(3))"
   ]
  },
  {
   "cell_type": "code",
   "execution_count": 33,
   "metadata": {},
   "outputs": [
    {
     "name": "stdout",
     "output_type": "stream",
     "text": [
      "<class 'pandas.core.frame.DataFrame'>\n",
      "RangeIndex: 768 entries, 0 to 767\n",
      "Data columns (total 9 columns):\n",
      " #   Column         Non-Null Count  Dtype  \n",
      "---  ------         --------------  -----  \n",
      " 0   Pregnancies    768 non-null    int64  \n",
      " 1   Glucose        768 non-null    int64  \n",
      " 2   BloodPressure  768 non-null    int64  \n",
      " 3   SkinThickness  768 non-null    int64  \n",
      " 4   Insulin        768 non-null    int64  \n",
      " 5   BMI            768 non-null    float64\n",
      " 6   Diabetes       768 non-null    float64\n",
      " 7   Age            768 non-null    int64  \n",
      " 8   Outcome        768 non-null    int64  \n",
      "dtypes: float64(2), int64(7)\n",
      "memory usage: 54.1 KB\n",
      "None\n"
     ]
    }
   ],
   "source": [
    "print(df.info())"
   ]
  },
  {
   "cell_type": "code",
   "execution_count": 34,
   "metadata": {},
   "outputs": [
    {
     "name": "stdout",
     "output_type": "stream",
     "text": [
      "<class 'pandas.core.frame.DataFrame'>\n",
      "RangeIndex: 768 entries, 0 to 767\n",
      "Data columns (total 9 columns):\n",
      " #   Column         Non-Null Count  Dtype  \n",
      "---  ------         --------------  -----  \n",
      " 0   Pregnancies    768 non-null    int64  \n",
      " 1   Glucose        768 non-null    int64  \n",
      " 2   BloodPressure  768 non-null    int64  \n",
      " 3   SkinThickness  768 non-null    int64  \n",
      " 4   Insulin        768 non-null    int64  \n",
      " 5   BMI            768 non-null    float64\n",
      " 6   Diabetes       768 non-null    float64\n",
      " 7   Age            768 non-null    int64  \n",
      " 8   Outcome        768 non-null    int64  \n",
      "dtypes: float64(2), int64(7)\n",
      "memory usage: 54.1 KB\n",
      "None\n"
     ]
    }
   ],
   "source": [
    "df = df.dropna()\n",
    "print(df.info())"
   ]
  },
  {
   "cell_type": "code",
   "execution_count": null,
   "metadata": {},
   "outputs": [],
   "source": [
    "x = df.drop('diabetes', axis=1)\n",
    "y = df['diabetes']\n",
    "y = LabelEncoder().fit_transform(y)     # 범주형 -> 수치형\n",
    "\n",
    "x_train, x_test, y_train, y_test = train_test_split(x, y, test_size=0.2)\n",
    "\n",
    "md = LogisticRegression(max_iter=1000)\n",
    "md.fit(x_train, y_train)\n",
    "\n",
    "predict = md.predict(x_test)\n",
    "\n",
    "cm = confusion_matrix(y_test, predict, predict_labels=[1, 0])\n",
    "print(cm)"
   ]
  },
  {
   "cell_type": "code",
   "execution_count": null,
   "metadata": {},
   "outputs": [],
   "source": [
    "print(accuracy_score(y_test, predict))\n",
    "print(recall_score(y_test, predict))\n",
    "print(precision_score(y_test, predict))\n",
    "print(f1_score(y_test, predict))\n",
    "print(roc_auc_score(y_test, predict))"
   ]
  },
  {
   "cell_type": "markdown",
   "metadata": {},
   "source": [
    "## <a id='toc1_3_'></a>[의사 결정 나무](#toc0_)"
   ]
  },
  {
   "cell_type": "code",
   "execution_count": 37,
   "metadata": {},
   "outputs": [
    {
     "name": "stdout",
     "output_type": "stream",
     "text": [
      "       Pregnancies     Glucose  BloodPressure  SkinThickness     Insulin  \\\n",
      "count   768.000000  768.000000     768.000000     768.000000  768.000000   \n",
      "mean      3.845052  120.894531      69.105469      20.536458   79.799479   \n",
      "std       3.369578   31.972618      19.355807      15.952218  115.244002   \n",
      "min       0.000000    0.000000       0.000000       0.000000    0.000000   \n",
      "25%       1.000000   99.000000      62.000000       0.000000    0.000000   \n",
      "50%       3.000000  117.000000      72.000000      23.000000   30.500000   \n",
      "75%       6.000000  140.250000      80.000000      32.000000  127.250000   \n",
      "max      17.000000  199.000000     122.000000      99.000000  846.000000   \n",
      "\n",
      "              BMI    Diabetes         Age     Outcome  \n",
      "count  768.000000  768.000000  768.000000  768.000000  \n",
      "mean    31.992578    0.471876   33.240885    0.348958  \n",
      "std      7.884160    0.331329   11.760232    0.476951  \n",
      "min      0.000000    0.078000   21.000000    0.000000  \n",
      "25%     27.300000    0.243750   24.000000    0.000000  \n",
      "50%     32.000000    0.372500   29.000000    0.000000  \n",
      "75%     36.600000    0.626250   41.000000    1.000000  \n",
      "max     67.100000    2.420000   81.000000    1.000000  \n"
     ]
    }
   ],
   "source": [
    "import pandas as pd\n",
    "from sklearn.tree import DecisionTreeClassifier\n",
    "from sklearn.model_selection import train_test_split\n",
    "from sklearn.metrics import confusion_matrix\n",
    "from sklearn.metrics import accuracy_score\n",
    "from sklearn.metrics import recall_score\n",
    "from sklearn.metrics import precision_score\n",
    "from sklearn.metrics import f1_score\n",
    "from sklearn.metrics import roc_auc_score\n",
    "from sklearn.preprocessing import LabelEncoder\n",
    "\n",
    "df = pd.read_csv('./datasets/PimaIndianDiabetes2.csv')\n",
    "\n",
    "print(df.describe())"
   ]
  },
  {
   "cell_type": "code",
   "execution_count": 38,
   "metadata": {},
   "outputs": [
    {
     "name": "stdout",
     "output_type": "stream",
     "text": [
      "   Pregnancies  Glucose  BloodPressure  SkinThickness  Insulin   BMI  \\\n",
      "0            6      148             72             35        0  33.6   \n",
      "1            1       85             66             29        0  26.6   \n",
      "2            8      183             64              0        0  23.3   \n",
      "\n",
      "   Diabetes  Age  Outcome  \n",
      "0     0.627   50        1  \n",
      "1     0.351   31        0  \n",
      "2     0.672   32        1  \n"
     ]
    }
   ],
   "source": [
    "print(df.head(3))"
   ]
  },
  {
   "cell_type": "code",
   "execution_count": 39,
   "metadata": {},
   "outputs": [
    {
     "name": "stdout",
     "output_type": "stream",
     "text": [
      "<class 'pandas.core.frame.DataFrame'>\n",
      "RangeIndex: 768 entries, 0 to 767\n",
      "Data columns (total 9 columns):\n",
      " #   Column         Non-Null Count  Dtype  \n",
      "---  ------         --------------  -----  \n",
      " 0   Pregnancies    768 non-null    int64  \n",
      " 1   Glucose        768 non-null    int64  \n",
      " 2   BloodPressure  768 non-null    int64  \n",
      " 3   SkinThickness  768 non-null    int64  \n",
      " 4   Insulin        768 non-null    int64  \n",
      " 5   BMI            768 non-null    float64\n",
      " 6   Diabetes       768 non-null    float64\n",
      " 7   Age            768 non-null    int64  \n",
      " 8   Outcome        768 non-null    int64  \n",
      "dtypes: float64(2), int64(7)\n",
      "memory usage: 54.1 KB\n",
      "None\n"
     ]
    }
   ],
   "source": [
    "print(df.info())"
   ]
  },
  {
   "cell_type": "code",
   "execution_count": 40,
   "metadata": {},
   "outputs": [
    {
     "name": "stdout",
     "output_type": "stream",
     "text": [
      "<class 'pandas.core.frame.DataFrame'>\n",
      "RangeIndex: 768 entries, 0 to 767\n",
      "Data columns (total 9 columns):\n",
      " #   Column         Non-Null Count  Dtype  \n",
      "---  ------         --------------  -----  \n",
      " 0   Pregnancies    768 non-null    int64  \n",
      " 1   Glucose        768 non-null    int64  \n",
      " 2   BloodPressure  768 non-null    int64  \n",
      " 3   SkinThickness  768 non-null    int64  \n",
      " 4   Insulin        768 non-null    int64  \n",
      " 5   BMI            768 non-null    float64\n",
      " 6   Diabetes       768 non-null    float64\n",
      " 7   Age            768 non-null    int64  \n",
      " 8   Outcome        768 non-null    int64  \n",
      "dtypes: float64(2), int64(7)\n",
      "memory usage: 54.1 KB\n",
      "None\n"
     ]
    }
   ],
   "source": [
    "df = df.dropna()\n",
    "print(df.info())"
   ]
  },
  {
   "cell_type": "code",
   "execution_count": null,
   "metadata": {},
   "outputs": [],
   "source": [
    "x = df.drop('diabetes', axis=1)\n",
    "y = df['diabetes']\n",
    "y = LabelEncoder().fit_transform(y)     # 범주형 -> 수치형\n",
    "\n",
    "x_train, x_test, y_train, y_test = train_test_split(x, y, test_size=0.2)\n",
    "\n",
    "md = DecisionTreeClassifier(max_depth=2)\n",
    "md.fit(x_train, y_train)\n",
    "\n",
    "predict = md.predict(x_test)\n",
    "\n",
    "cm = confusion_matrix(y_test, predict, redict_labels=[1, 0])\n",
    "print(cm)"
   ]
  },
  {
   "cell_type": "code",
   "execution_count": null,
   "metadata": {},
   "outputs": [],
   "source": [
    "print(accuracy_score(y_test, predict))\n",
    "print(recall_score(y_test, predict))\n",
    "print(precision_score(y_test, predict))\n",
    "print(f1_score(y_test, predict))\n",
    "print(roc_auc_score(y_test, predict))"
   ]
  },
  {
   "cell_type": "markdown",
   "metadata": {},
   "source": [
    "## <a id='toc1_4_'></a>[서포트 벡터 머신(SVM; Support Vector Machine)](#toc0_)"
   ]
  },
  {
   "cell_type": "code",
   "execution_count": null,
   "metadata": {},
   "outputs": [],
   "source": [
    "import pandas as pd\n",
    "from sklearn.svm import SVC\n",
    "from sklearn.model_selection import train_test_split\n",
    "from sklearn.metrics import confusion_matrix\n",
    "from sklearn.metrics import accuracy_score\n",
    "from sklearn.metrics import recall_score\n",
    "from sklearn.metrics import precision_score\n",
    "from sklearn.metrics import f1_score\n",
    "from sklearn.metrics import roc_auc_score\n",
    "from sklearn.preprocessing import LabelEncoder\n",
    "\n",
    "df = pd.read_csv('./datasets/PimaIndianDiabetes2.csv')\n",
    "\n",
    "print(df.describe())\n",
    "print(df.head(3))\n",
    "print(df.info())\n",
    "\n",
    "df = df.dropna()\n",
    "print(df.info())\n",
    "\n",
    "x = df.drop('diabetes', axis=1)\n",
    "y = df['diabetes']\n",
    "y = LabelEncoder().fit_transform(y)     # 범주형 -> 수치형\n",
    "\n",
    "x_train, x_test, y_train, y_test = train_test_split(x, y, test_size=0.2)\n",
    "\n",
    "md = SVC(kernel='linear')\n",
    "md.fit(x_train, y_train)\n",
    "\n",
    "predict = md.predict(x_test)\n",
    "\n",
    "cm = confusion_matrix(y_test, predict, predict_labels=[1, 0])\n",
    "print(cm)\n",
    "\n",
    "print(accuracy_score(y_test, predict))\n",
    "print(recall_score(y_test, predict))\n",
    "print(precision_score(y_test, predict))\n",
    "print(f1_score(y_test, predict))\n",
    "print(roc_auc_score(y_test, predict))"
   ]
  },
  {
   "cell_type": "markdown",
   "metadata": {},
   "source": [
    "## <a id='toc1_5_'></a>[K-NN 최근접 이웃(K-Nearest Neighbors)](#toc0_)"
   ]
  },
  {
   "cell_type": "code",
   "execution_count": null,
   "metadata": {},
   "outputs": [],
   "source": [
    "import pandas as pd\n",
    "from sklearn.neighbors import KNeighborsClassifier\n",
    "from sklearn.model_selection import train_test_split\n",
    "from sklearn.metrics import confusion_matrix\n",
    "from sklearn.metrics import accuracy_score\n",
    "from sklearn.metrics import recall_score\n",
    "from sklearn.metrics import precision_score\n",
    "from sklearn.metrics import f1_score\n",
    "from sklearn.metrics import roc_auc_score\n",
    "from sklearn.preprocessing import LabelEncoder\n",
    "\n",
    "df = pd.read_csv('./datasets/PimaIndianDiabetes2.csv')\n",
    "\n",
    "print(df.describe())\n",
    "print(df.head(3))\n",
    "print(df.info())\n",
    "\n",
    "df = df.dropna()\n",
    "print(df.info())\n",
    "\n",
    "x = df.drop('diabetes', axis=1)\n",
    "y = df['diabetes']\n",
    "y = LabelEncoder().fit_transform(y)     # 범주형 -> 수치형\n",
    "\n",
    "x_train, x_test, y_train, y_test = train_test_split(x, y, test_size=0.2)\n",
    "\n",
    "md = KNeighborsClassifier(n_neighbors=5)\n",
    "md.fit(x_train, y_train)\n",
    "\n",
    "predict = md.predict(x_test)\n",
    "\n",
    "cm = confusion_matrix(y_test, predict, predict_labels=[1, 0])\n",
    "print(cm)\n",
    "\n",
    "print(accuracy_score(y_test, predict))\n",
    "print(recall_score(y_test, predict))\n",
    "print(precision_score(y_test, predict))\n",
    "print(f1_score(y_test, predict))\n",
    "print(roc_auc_score(y_test, predict))"
   ]
  },
  {
   "cell_type": "markdown",
   "metadata": {},
   "source": [
    "## <a id='toc1_6_'></a>[인공 신경망(ANN; Artificial Neural Network)](#toc0_)"
   ]
  },
  {
   "cell_type": "code",
   "execution_count": null,
   "metadata": {},
   "outputs": [],
   "source": [
    "import pandas as pd\n",
    "from sklearn.neural_network import MLPClassifier\n",
    "from sklearn.model_selection import train_test_split\n",
    "from sklearn.metrics import confusion_matrix\n",
    "from sklearn.metrics import accuracy_score\n",
    "from sklearn.metrics import recall_score\n",
    "from sklearn.metrics import precision_score\n",
    "from sklearn.metrics import f1_score\n",
    "from sklearn.metrics import roc_auc_score\n",
    "from sklearn.preprocessing import LabelEncoder\n",
    "\n",
    "df = pd.read_csv('./datasets/PimaIndianDiabetes2.csv')\n",
    "\n",
    "print(df.describe())\n",
    "print(df.head(3))\n",
    "print(df.info())\n",
    "\n",
    "df = df.dropna()\n",
    "print(df.info())\n",
    "\n",
    "x = df.drop('diabetes', axis=1)\n",
    "y = df['diabetes']\n",
    "y = LabelEncoder().fit_transform(y)     # 범주형 -> 수치형\n",
    "\n",
    "x_train, x_test, y_train, y_test = train_test_split(x, y, test_size=0.2)\n",
    "\n",
    "md = MLPClassifier(hidden_layer_size=(64, 32), activation='relu', max_iter=1000)\n",
    "md.fit(x_train, y_train)\n",
    "\n",
    "predict = md.predict(x_test)\n",
    "\n",
    "cm = confusion_matrix(y_test, predict, predict_labels=[1, 0])\n",
    "print(cm)\n",
    "\n",
    "print(accuracy_score(y_test, predict))\n",
    "print(recall_score(y_test, predict))\n",
    "print(precision_score(y_test, predict))\n",
    "print(f1_score(y_test, predict))\n",
    "print(roc_auc_score(y_test, predict))"
   ]
  },
  {
   "cell_type": "markdown",
   "metadata": {},
   "source": [
    "## <a id='toc1_7_'></a>[앙상블(Ensemble)](#toc0_)"
   ]
  },
  {
   "cell_type": "markdown",
   "metadata": {},
   "source": [
    "### <a id='toc1_7_1_'></a>[배깅(Bagging; BootStrap Aggregating)](#toc0_)"
   ]
  },
  {
   "cell_type": "code",
   "execution_count": null,
   "metadata": {},
   "outputs": [],
   "source": [
    "import pandas as pd\n",
    "from sklearn.ensemble import BaggingClassifier\n",
    "from sklearn.tree import DecisionTreeClassifier\n",
    "from sklearn.model_selection import train_test_split\n",
    "from sklearn.metrics import confusion_matrix\n",
    "from sklearn.metrics import accuracy_score\n",
    "from sklearn.metrics import recall_score\n",
    "from sklearn.metrics import precision_score\n",
    "from sklearn.metrics import f1_score\n",
    "from sklearn.metrics import roc_auc_score\n",
    "from sklearn.preprocessing import LabelEncoder\n",
    "\n",
    "df = pd.read_csv('./datasets/PimaIndianDiabetes2.csv')\n",
    "\n",
    "print(df.describe())\n",
    "print(df.head(3))\n",
    "print(df.info())\n",
    "\n",
    "df = df.dropna()\n",
    "print(df.info())\n",
    "\n",
    "x = df.drop('diabetes', axis=1)\n",
    "y = df['diabetes']\n",
    "y = LabelEncoder().fit_transform(y)     # 범주형 -> 수치형\n",
    "\n",
    "x_train, x_test, y_train, y_test = train_test_split(x, y, test_size=0.2)\n",
    "\n",
    "base_model = DecisionTreeClassifier(max_depth=2)  # 기본 모델을 의사 결정 나무로 지정\n",
    "md = BaggingClassifier(base_model, n_estimator=100)\n",
    "md.fit(x_train, y_train)\n",
    "\n",
    "predict = md.predict(x_test)\n",
    "\n",
    "cm = confusion_matrix(y_test, predict, predict_labels=[1, 0])\n",
    "print(cm)\n",
    "\n",
    "print(accuracy_score(y_test, predict))\n",
    "print(recall_score(y_test, predict))\n",
    "print(precision_score(y_test, predict))\n",
    "print(f1_score(y_test, predict))\n",
    "print(roc_auc_score(y_test, predict))"
   ]
  },
  {
   "cell_type": "markdown",
   "metadata": {},
   "source": [
    "### <a id='toc1_7_2_'></a>[랜덤 포레스트(Random Forest)](#toc0_)"
   ]
  },
  {
   "cell_type": "markdown",
   "metadata": {},
   "source": [
    "#### <a id='toc1_7_2_1_'></a>[종속 변수가 범주형](#toc0_)"
   ]
  },
  {
   "cell_type": "code",
   "execution_count": null,
   "metadata": {},
   "outputs": [],
   "source": [
    "import pandas as pd\n",
    "from sklearn.ensemble import RandomForestClassifier\n",
    "from sklearn.model_selection import train_test_split\n",
    "from sklearn.metrics import confusion_matrix\n",
    "from sklearn.metrics import accuracy_score\n",
    "from sklearn.metrics import recall_score\n",
    "from sklearn.metrics import precision_score\n",
    "from sklearn.metrics import f1_score\n",
    "from sklearn.metrics import roc_auc_score\n",
    "from sklearn.preprocessing import LabelEncoder\n",
    "\n",
    "df = pd.read_csv('./datasets/PimaIndianDiabetes2.csv')\n",
    "\n",
    "print(df.describe())\n",
    "print(df.head(3))\n",
    "print(df.info())\n",
    "\n",
    "df = df.dropna()\n",
    "print(df.info())\n",
    "\n",
    "x = df.drop('diabetes', axis=1)\n",
    "y = df['diabetes']\n",
    "y = LabelEncoder().fit_transform(y)     # 범주형 -> 수치형\n",
    "\n",
    "x_train, x_test, y_train, y_test = train_test_split(x, y, test_size=0.2)\n",
    "\n",
    "md = RandomForestClassifier(n_estimators=100, max_depth=2)\n",
    "md.fit(x_train, y_train)\n",
    "\n",
    "predict = md.predict(x_test)\n",
    "print(predict)\n",
    "\n",
    "cm = confusion_matrix(predict , y_test, predict_labels=[1, 0])\n",
    "print(cm)\n",
    "\n",
    "print(accuracy_score(y_test, predict))\n",
    "print(recall_score(y_test, predict))\n",
    "print(precision_score(y_test, predict))\n",
    "print(f1_score(y_test, predict))\n",
    "print(roc_auc_score(y_test, predict))"
   ]
  },
  {
   "cell_type": "markdown",
   "metadata": {},
   "source": [
    "#### <a id='toc1_7_2_2_'></a>[종속 변수가 수치형](#toc0_)"
   ]
  },
  {
   "cell_type": "code",
   "execution_count": null,
   "metadata": {},
   "outputs": [],
   "source": [
    "import pandas as pd\n",
    "from sklearn.ensemble import RandomForestRegressor\n",
    "from sklearn.model_selection import train_test_split\n",
    "from sklearn.metrics import mean_squared_error\n",
    "from sklearn.preprocessing import LabelEncoder\n",
    "\n",
    "df = pd.read_csv('./datasets/PimaIndianDiabetes2.csv')\n",
    "\n",
    "print(df.describe())\n",
    "print(df.head(3))\n",
    "print(df.info())\n",
    "\n",
    "df = df.dropna()\n",
    "print(df.info())\n",
    "\n",
    "df['diabetes'] = LabelEncoder().fit_transform(df['diabetes'])  # pos -> 1, neg -> 0\n",
    "\n",
    "x = df.drop('pressure', axis=1)\n",
    "y = df['pressure']\n",
    "\n",
    "x_train, x_test, y_train, y_test = train_test_split(x, y, test_size=0.2)\n",
    "\n",
    "md = RandomForestRegressor(n_estimators=100, max_depth=2)\n",
    "md.fit(x_train, y_train)\n",
    "\n",
    "predict = md.predict(x_test)\n",
    "print(predict)\n",
    "\n",
    "print(mean_squared_error(y_test, predict, squared=False))"
   ]
  }
 ],
 "metadata": {
  "kernelspec": {
   "display_name": "bigdata",
   "language": "python",
   "name": "python3"
  },
  "language_info": {
   "codemirror_mode": {
    "name": "ipython",
    "version": 3
   },
   "file_extension": ".py",
   "mimetype": "text/x-python",
   "name": "python",
   "nbconvert_exporter": "python",
   "pygments_lexer": "ipython3",
   "version": "3.12.3"
  }
 },
 "nbformat": 4,
 "nbformat_minor": 2
}
