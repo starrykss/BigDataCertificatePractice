{
 "cells": [
  {
   "cell_type": "markdown",
   "metadata": {},
   "source": [
    "# <a id='toc1_'></a>[데이터 변환](#toc0_)\n",
    "---"
   ]
  },
  {
   "cell_type": "markdown",
   "metadata": {},
   "source": [
    "**Table of contents**<a id='toc0_'></a>    \n",
    "- [데이터 변환](#toc1_)    \n",
    "    - [`astype`](#toc1_1_1_)    \n",
    "  - [날짜 데이터 변환](#toc1_2_)    \n",
    "    - [`datetime.strptime`](#toc1_2_1_)    \n",
    "    - [`total_seconds`](#toc1_2_2_)    \n",
    "  - [데이터의 범위 변환](#toc1_3_)    \n",
    "    - [정규화(Normalization)](#toc1_3_1_)    \n",
    "      - [최소-최대 정규화(Min-Max Normalization)](#toc1_3_1_1_)    \n",
    "    - [표준화(Standardization)](#toc1_3_2_)    \n",
    "      - [Z-점수(Z-Score)](#toc1_3_2_1_)    \n",
    "\n",
    "<!-- vscode-jupyter-toc-config\n",
    "\tnumbering=false\n",
    "\tanchor=true\n",
    "\tflat=false\n",
    "\tminLevel=1\n",
    "\tmaxLevel=6\n",
    "\t/vscode-jupyter-toc-config -->\n",
    "<!-- THIS CELL WILL BE REPLACED ON TOC UPDATE. DO NOT WRITE YOUR TEXT IN THIS CELL -->"
   ]
  },
  {
   "cell_type": "markdown",
   "metadata": {},
   "source": [
    "---"
   ]
  },
  {
   "cell_type": "markdown",
   "metadata": {},
   "source": [
    "### <a id='toc1_1_1_'></a>[`astype`](#toc0_)"
   ]
  },
  {
   "cell_type": "code",
   "execution_count": 1,
   "metadata": {},
   "outputs": [
    {
     "name": "stdout",
     "output_type": "stream",
     "text": [
      "<class 'pandas.core.frame.DataFrame'>\n",
      "RangeIndex: 6 entries, 0 to 5\n",
      "Data columns (total 3 columns):\n",
      " #   Column  Non-Null Count  Dtype  \n",
      "---  ------  --------------  -----  \n",
      " 0   Class   6 non-null      int64  \n",
      " 1   Age     6 non-null      float64\n",
      " 2   Part    6 non-null      int64  \n",
      "dtypes: float64(1), int64(2)\n",
      "memory usage: 276.0 bytes\n",
      "None\n"
     ]
    }
   ],
   "source": [
    "import pandas as pd\n",
    "\n",
    "df = pd.DataFrame({'Class': [1, 2, 3, 1, 2, 1],\n",
    "                    'Age': [1, 3.2, 11.8, 33.2, 42.9, 33.2],\n",
    "                    'Part': [3, 7, 2, 1, 3, 5]})\n",
    "\n",
    "print(df.info())"
   ]
  },
  {
   "cell_type": "code",
   "execution_count": 2,
   "metadata": {},
   "outputs": [
    {
     "name": "stdout",
     "output_type": "stream",
     "text": [
      "<class 'pandas.core.frame.DataFrame'>\n",
      "RangeIndex: 6 entries, 0 to 5\n",
      "Data columns (total 3 columns):\n",
      " #   Column  Non-Null Count  Dtype   \n",
      "---  ------  --------------  -----   \n",
      " 0   Class   6 non-null      category\n",
      " 1   Age     6 non-null      int32   \n",
      " 2   Part    6 non-null      float64 \n",
      "dtypes: category(1), float64(1), int32(1)\n",
      "memory usage: 342.0 bytes\n",
      "None\n"
     ]
    }
   ],
   "source": [
    "df['Class'] = df['Class'].astype('category')    # 범주형으로 변환\n",
    "df['Age'] = df['Age'].astype(int)      # int형으로 변환\n",
    "df['Part'] = df['Part'].astype(float)   # float형으로 변환\n",
    "\n",
    "print(df.info())"
   ]
  },
  {
   "cell_type": "code",
   "execution_count": 3,
   "metadata": {},
   "outputs": [
    {
     "name": "stdout",
     "output_type": "stream",
     "text": [
      "  Class  Age  Part\n",
      "0     1    1   3.0\n",
      "1     2    3   7.0\n",
      "2     3   11   2.0\n",
      "3     1   33   1.0\n",
      "4     2   42   3.0\n",
      "5     1   33   5.0\n"
     ]
    }
   ],
   "source": [
    "print(df)"
   ]
  },
  {
   "cell_type": "markdown",
   "metadata": {},
   "source": [
    "## <a id='toc1_2_'></a>[날짜 데이터 변환](#toc0_)"
   ]
  },
  {
   "cell_type": "markdown",
   "metadata": {},
   "source": [
    "### <a id='toc1_2_1_'></a>[`datetime.strptime`](#toc0_)"
   ]
  },
  {
   "cell_type": "code",
   "execution_count": 4,
   "metadata": {},
   "outputs": [
    {
     "name": "stdout",
     "output_type": "stream",
     "text": [
      "1999 3 1\n"
     ]
    }
   ],
   "source": [
    "from datetime import datetime\n",
    "\n",
    "a = datetime.strptime(\"1999 March 1\", \"%Y %B %d\")\n",
    "y = a.year\n",
    "m = a.month\n",
    "d = a.day\n",
    "\n",
    "print(f\"{y} {m} {d}\")"
   ]
  },
  {
   "cell_type": "code",
   "execution_count": 5,
   "metadata": {},
   "outputs": [
    {
     "name": "stdout",
     "output_type": "stream",
     "text": [
      "1999 3 1\n"
     ]
    }
   ],
   "source": [
    "b = datetime.strptime(\"3-1 1999\", \"%m-%d %Y\")\n",
    "y = b.year\n",
    "m = b.month\n",
    "d = b.day\n",
    "\n",
    "print(f\"{y} {m} {d}\")"
   ]
  },
  {
   "cell_type": "markdown",
   "metadata": {},
   "source": [
    "### <a id='toc1_2_2_'></a>[`total_seconds`](#toc0_)"
   ]
  },
  {
   "cell_type": "code",
   "execution_count": 6,
   "metadata": {},
   "outputs": [
    {
     "name": "stdout",
     "output_type": "stream",
     "text": [
      "-60.0\n"
     ]
    }
   ],
   "source": [
    "from datetime import datetime\n",
    "\n",
    "x = datetime(1999, 3, 1, 12, 1, 0)\n",
    "y = datetime(1999, 3, 1, 12, 2, 0)\n",
    "z = (x - y).total_seconds()   # 전체 초수 계산\n",
    "\n",
    "print(z)"
   ]
  },
  {
   "cell_type": "markdown",
   "metadata": {},
   "source": [
    "## <a id='toc1_3_'></a>[데이터의 범위 변환](#toc0_)"
   ]
  },
  {
   "cell_type": "markdown",
   "metadata": {},
   "source": [
    "### <a id='toc1_3_1_'></a>[정규화(Normalization)](#toc0_)"
   ]
  },
  {
   "cell_type": "markdown",
   "metadata": {},
   "source": [
    "#### <a id='toc1_3_1_1_'></a>[최소-최대 정규화(Min-Max Normalization)](#toc0_)"
   ]
  },
  {
   "cell_type": "markdown",
   "metadata": {},
   "source": [
    "$$MinMax = \\frac{X - Min}{Max - Min} $$"
   ]
  },
  {
   "cell_type": "code",
   "execution_count": 7,
   "metadata": {},
   "outputs": [
    {
     "name": "stdout",
     "output_type": "stream",
     "text": [
      "[0.   0.25 0.5  0.75 1.  ]\n"
     ]
    }
   ],
   "source": [
    "import numpy as np\n",
    "from sklearn.preprocessing import MinMaxScaler\n",
    "\n",
    "data = np.array([1, 3, 5, 7, 9])\n",
    "x = data.reshape(-1, 1)\n",
    "scaled_data = MinMaxScaler().fit_transform(x)\n",
    "\n",
    "print(scaled_data.flatten())    # 1차원으로 평탄화 후 출력"
   ]
  },
  {
   "cell_type": "code",
   "execution_count": 8,
   "metadata": {},
   "outputs": [
    {
     "name": "stdout",
     "output_type": "stream",
     "text": [
      "[0.   0.25 0.5  0.75 1.  ]\n"
     ]
    }
   ],
   "source": [
    "import numpy as np\n",
    "\n",
    "data = np.array([1, 3, 5, 7, 9])\n",
    "\n",
    "def normalize(arr):\n",
    "    return (arr - np.min(arr)) / (np.max(arr) - np.min(arr))\n",
    "\n",
    "print(normalize(data))"
   ]
  },
  {
   "cell_type": "markdown",
   "metadata": {},
   "source": [
    "### <a id='toc1_3_2_'></a>[표준화(Standardization)](#toc0_)"
   ]
  },
  {
   "cell_type": "markdown",
   "metadata": {},
   "source": [
    "#### <a id='toc1_3_2_1_'></a>[Z-점수(Z-Score)](#toc0_)"
   ]
  },
  {
   "cell_type": "code",
   "execution_count": 9,
   "metadata": {},
   "outputs": [
    {
     "name": "stdout",
     "output_type": "stream",
     "text": [
      "4.4408920985006264e-17\n"
     ]
    }
   ],
   "source": [
    "import numpy as np\n",
    "\n",
    "data = np.array([1, 3, 5, 7, 9])\n",
    "\n",
    "def standardize(a):\n",
    "\treturn (a - np.mean(a)) / np.std(a, ddof=1)   # 자유도를 1로 설정\n",
    "\n",
    "data_zscore = standardize(data)\n",
    "\n",
    "print(np.mean(data_zscore))"
   ]
  },
  {
   "cell_type": "code",
   "execution_count": 10,
   "metadata": {},
   "outputs": [
    {
     "name": "stdout",
     "output_type": "stream",
     "text": [
      "1.0\n"
     ]
    }
   ],
   "source": [
    "print(np.std(data_zscore, ddof=1))"
   ]
  },
  {
   "cell_type": "code",
   "execution_count": 11,
   "metadata": {},
   "outputs": [
    {
     "name": "stdout",
     "output_type": "stream",
     "text": [
      "[-1.26491106 -0.63245553  0.          0.63245553  1.26491106]\n"
     ]
    }
   ],
   "source": [
    "print(data_zscore)"
   ]
  }
 ],
 "metadata": {
  "kernelspec": {
   "display_name": "bigdata",
   "language": "python",
   "name": "python3"
  },
  "language_info": {
   "codemirror_mode": {
    "name": "ipython",
    "version": 3
   },
   "file_extension": ".py",
   "mimetype": "text/x-python",
   "name": "python",
   "nbconvert_exporter": "python",
   "pygments_lexer": "ipython3",
   "version": "3.12.3"
  }
 },
 "nbformat": 4,
 "nbformat_minor": 2
}
