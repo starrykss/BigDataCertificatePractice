{
 "cells": [
  {
   "cell_type": "markdown",
   "metadata": {},
   "source": [
    "# Pandas AI 테스트\n",
    "---"
   ]
  },
  {
   "cell_type": "code",
   "execution_count": null,
   "metadata": {},
   "outputs": [],
   "source": [
    "import pandas as pd\n",
    "\n",
    "data = {\n",
    "    \"restaurant\": [\"McDonald's\", \"Burger King\", \"KFC\", \"Subway\", \"Starbucks\"],\n",
    "    \"sales\": [100, 50, 80, 60, 70],\n",
    "    \"profit\": [10, 30, 15, 10, 15],\n",
    "}\n",
    "df = pd.DataFrame(data)\n",
    "print(df)"
   ]
  },
  {
   "cell_type": "code",
   "execution_count": 40,
   "metadata": {},
   "outputs": [],
   "source": [
    "import os\n",
    "\n",
    "from pandasai import SmartDataframe\n",
    "from pandasai.llm.openai import OpenAI\n",
    "\n",
    "# API KEY 가져오기\n",
    "path = os.path.join(os.getcwd(), '..', '.env')\n",
    "env_path = os.path.abspath(path)\n",
    "\n",
    "API_KEY = \"\"\n",
    "with open(env_path, 'r', encoding='utf-8') as f:\n",
    "    API_KEY = f.read().split('=')[1]\n",
    "\n",
    "llm = OpenAI(api_token=API_KEY)\n",
    "sdf = SmartDataframe(df, config={\"llm\": llm})"
   ]
  },
  {
   "cell_type": "markdown",
   "metadata": {},
   "source": [
    "- `prompt` 변수에 질문하고 싶은 내용을 적는다."
   ]
  },
  {
   "cell_type": "code",
   "execution_count": null,
   "metadata": {},
   "outputs": [],
   "source": [
    "prompt = \"가게를 매출로 오름차순 정렬해줘\"\n",
    "sdf.chat(prompt)"
   ]
  }
 ],
 "metadata": {
  "kernelspec": {
   "display_name": "bigdata",
   "language": "python",
   "name": "python3"
  },
  "language_info": {
   "codemirror_mode": {
    "name": "ipython",
    "version": 3
   },
   "file_extension": ".py",
   "mimetype": "text/x-python",
   "name": "python",
   "nbconvert_exporter": "python",
   "pygments_lexer": "ipython3",
   "version": "3.12.3"
  }
 },
 "nbformat": 4,
 "nbformat_minor": 2
}
